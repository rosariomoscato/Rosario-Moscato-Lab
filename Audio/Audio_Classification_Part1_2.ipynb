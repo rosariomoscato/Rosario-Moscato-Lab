{
  "nbformat": 4,
  "nbformat_minor": 5,
  "metadata": {
    "kernelspec": {
      "display_name": "Python 3",
      "language": "python",
      "name": "python3"
    },
    "language_info": {
      "codemirror_mode": {
        "name": "ipython",
        "version": 3
      },
      "file_extension": ".py",
      "mimetype": "text/x-python",
      "name": "python",
      "nbconvert_exporter": "python",
      "pygments_lexer": "ipython3",
      "version": "3.8.5"
    },
    "colab": {
      "name": "Audio_Classification_Part1_2.ipynb",
      "provenance": [],
      "collapsed_sections": []
    }
  },
  "cells": [
    {
      "cell_type": "markdown",
      "metadata": {
        "id": "cardiovascular-study"
      },
      "source": [
        "# Audio Classification \n",
        "\n",
        "Dataset here [https://urbansounddataset.weebly.com/](https://urbansounddataset.weebly.com/)"
      ],
      "id": "cardiovascular-study"
    },
    {
      "cell_type": "markdown",
      "metadata": {
        "id": "NPqtI5BBrZvG"
      },
      "source": [
        "## Data Preprocessing"
      ],
      "id": "NPqtI5BBrZvG"
    },
    {
      "cell_type": "markdown",
      "metadata": {
        "id": "applicable-priest"
      },
      "source": [
        "### Features Extraction\n"
      ],
      "id": "applicable-priest"
    },
    {
      "cell_type": "code",
      "metadata": {
        "id": "liberal-journalist"
      },
      "source": [
        "# Pkgs loading\n",
        "import pandas as pd\n",
        "import os\n",
        "import librosa\n",
        "import numpy as np\n",
        "from tqdm import tqdm"
      ],
      "id": "liberal-journalist",
      "execution_count": 1,
      "outputs": []
    },
    {
      "cell_type": "code",
      "metadata": {
        "colab": {
          "base_uri": "https://localhost:8080/"
        },
        "id": "mDbMppd3qg4c",
        "outputId": "c33f4275-a464-41d9-a825-15b73c30c36e"
      },
      "source": [
        "from google.colab import drive\n",
        "drive.mount('/content/drive')"
      ],
      "id": "mDbMppd3qg4c",
      "execution_count": 2,
      "outputs": [
        {
          "output_type": "stream",
          "text": [
            "Mounted at /content/drive\n"
          ],
          "name": "stdout"
        }
      ]
    },
    {
      "cell_type": "code",
      "metadata": {
        "id": "Zf_xqeZJr3hR",
        "colab": {
          "base_uri": "https://localhost:8080/",
          "height": 206
        },
        "outputId": "43779936-06a4-4c60-c135-5e3b9fc4bc16"
      },
      "source": [
        "audio_dataset_path='/content/drive/MyDrive/UrbanSound8K/audio'\n",
        "metadata=pd.read_csv('/content/drive/MyDrive/UrbanSound8K/metadata/UrbanSound8K.csv')\n",
        "metadata.head()"
      ],
      "id": "Zf_xqeZJr3hR",
      "execution_count": 3,
      "outputs": [
        {
          "output_type": "execute_result",
          "data": {
            "text/html": [
              "<div>\n",
              "<style scoped>\n",
              "    .dataframe tbody tr th:only-of-type {\n",
              "        vertical-align: middle;\n",
              "    }\n",
              "\n",
              "    .dataframe tbody tr th {\n",
              "        vertical-align: top;\n",
              "    }\n",
              "\n",
              "    .dataframe thead th {\n",
              "        text-align: right;\n",
              "    }\n",
              "</style>\n",
              "<table border=\"1\" class=\"dataframe\">\n",
              "  <thead>\n",
              "    <tr style=\"text-align: right;\">\n",
              "      <th></th>\n",
              "      <th>slice_file_name</th>\n",
              "      <th>fsID</th>\n",
              "      <th>start</th>\n",
              "      <th>end</th>\n",
              "      <th>salience</th>\n",
              "      <th>fold</th>\n",
              "      <th>classID</th>\n",
              "      <th>class</th>\n",
              "    </tr>\n",
              "  </thead>\n",
              "  <tbody>\n",
              "    <tr>\n",
              "      <th>0</th>\n",
              "      <td>100032-3-0-0.wav</td>\n",
              "      <td>100032</td>\n",
              "      <td>0.0</td>\n",
              "      <td>0.317551</td>\n",
              "      <td>1</td>\n",
              "      <td>5</td>\n",
              "      <td>3</td>\n",
              "      <td>dog_bark</td>\n",
              "    </tr>\n",
              "    <tr>\n",
              "      <th>1</th>\n",
              "      <td>100263-2-0-117.wav</td>\n",
              "      <td>100263</td>\n",
              "      <td>58.5</td>\n",
              "      <td>62.500000</td>\n",
              "      <td>1</td>\n",
              "      <td>5</td>\n",
              "      <td>2</td>\n",
              "      <td>children_playing</td>\n",
              "    </tr>\n",
              "    <tr>\n",
              "      <th>2</th>\n",
              "      <td>100263-2-0-121.wav</td>\n",
              "      <td>100263</td>\n",
              "      <td>60.5</td>\n",
              "      <td>64.500000</td>\n",
              "      <td>1</td>\n",
              "      <td>5</td>\n",
              "      <td>2</td>\n",
              "      <td>children_playing</td>\n",
              "    </tr>\n",
              "    <tr>\n",
              "      <th>3</th>\n",
              "      <td>100263-2-0-126.wav</td>\n",
              "      <td>100263</td>\n",
              "      <td>63.0</td>\n",
              "      <td>67.000000</td>\n",
              "      <td>1</td>\n",
              "      <td>5</td>\n",
              "      <td>2</td>\n",
              "      <td>children_playing</td>\n",
              "    </tr>\n",
              "    <tr>\n",
              "      <th>4</th>\n",
              "      <td>100263-2-0-137.wav</td>\n",
              "      <td>100263</td>\n",
              "      <td>68.5</td>\n",
              "      <td>72.500000</td>\n",
              "      <td>1</td>\n",
              "      <td>5</td>\n",
              "      <td>2</td>\n",
              "      <td>children_playing</td>\n",
              "    </tr>\n",
              "  </tbody>\n",
              "</table>\n",
              "</div>"
            ],
            "text/plain": [
              "      slice_file_name    fsID  start  ...  fold  classID             class\n",
              "0    100032-3-0-0.wav  100032    0.0  ...     5        3          dog_bark\n",
              "1  100263-2-0-117.wav  100263   58.5  ...     5        2  children_playing\n",
              "2  100263-2-0-121.wav  100263   60.5  ...     5        2  children_playing\n",
              "3  100263-2-0-126.wav  100263   63.0  ...     5        2  children_playing\n",
              "4  100263-2-0-137.wav  100263   68.5  ...     5        2  children_playing\n",
              "\n",
              "[5 rows x 8 columns]"
            ]
          },
          "metadata": {
            "tags": []
          },
          "execution_count": 3
        }
      ]
    },
    {
      "cell_type": "code",
      "metadata": {
        "id": "S7ygvg0_xoDL",
        "colab": {
          "base_uri": "https://localhost:8080/"
        },
        "outputId": "9f0d272e-de14-4703-a43c-b4c48489854e"
      },
      "source": [
        "# Dataset Balancing/Imbalancing Check\n",
        "metadata['class'].value_counts()"
      ],
      "id": "S7ygvg0_xoDL",
      "execution_count": 4,
      "outputs": [
        {
          "output_type": "execute_result",
          "data": {
            "text/plain": [
              "street_music        1000\n",
              "air_conditioner     1000\n",
              "engine_idling       1000\n",
              "jackhammer          1000\n",
              "drilling            1000\n",
              "dog_bark            1000\n",
              "children_playing    1000\n",
              "siren                929\n",
              "car_horn             429\n",
              "gun_shot             374\n",
              "Name: class, dtype: int64"
            ]
          },
          "metadata": {
            "tags": []
          },
          "execution_count": 4
        }
      ]
    },
    {
      "cell_type": "code",
      "metadata": {
        "id": "chinese-calendar"
      },
      "source": [
        "# Extracting MFCC's For every audio file\n",
        "def features_extractor(file_name):\n",
        "    audio, sample_rate = librosa.load(file_name, res_type='kaiser_fast') \n",
        "    mfccs_features = librosa.feature.mfcc(y=audio, sr=sample_rate, n_mfcc=40)\n",
        "    mfccs_scaled_features = np.mean(mfccs_features.T,axis=0)\n",
        "    \n",
        "    return mfccs_scaled_features"
      ],
      "id": "chinese-calendar",
      "execution_count": 5,
      "outputs": []
    },
    {
      "cell_type": "code",
      "metadata": {
        "id": "nuclear-sponsorship",
        "colab": {
          "base_uri": "https://localhost:8080/"
        },
        "outputId": "4e08db99-0d1f-4847-ad2a-50cb9a8afc5f"
      },
      "source": [
        "# Features extraction from all audio files (MFCC)\n",
        "extracted_features=[]\n",
        "for index_num,row in tqdm(metadata.iterrows()):\n",
        "    file_name = os.path.join(os.path.abspath(audio_dataset_path),'fold'+str(row[\"fold\"])+'/',str(row[\"slice_file_name\"]))\n",
        "    final_class_labels=row[\"class\"]\n",
        "    data=features_extractor(file_name)\n",
        "    extracted_features.append([data,final_class_labels])"
      ],
      "id": "nuclear-sponsorship",
      "execution_count": 6,
      "outputs": [
        {
          "output_type": "stream",
          "text": [
            "3555it [54:16,  1.11it/s]/usr/local/lib/python3.7/dist-packages/librosa/core/spectrum.py:224: UserWarning: n_fft=2048 is too small for input signal of length=1323\n",
            "  n_fft, y.shape[-1]\n",
            "8326it [2:03:48,  1.54it/s]/usr/local/lib/python3.7/dist-packages/librosa/core/spectrum.py:224: UserWarning: n_fft=2048 is too small for input signal of length=1103\n",
            "  n_fft, y.shape[-1]\n",
            "8329it [2:03:49,  2.25it/s]/usr/local/lib/python3.7/dist-packages/librosa/core/spectrum.py:224: UserWarning: n_fft=2048 is too small for input signal of length=1523\n",
            "  n_fft, y.shape[-1]\n",
            "8732it [2:10:01,  1.12it/s]\n"
          ],
          "name": "stderr"
        }
      ]
    },
    {
      "cell_type": "code",
      "metadata": {
        "id": "acoustic-wagner",
        "colab": {
          "base_uri": "https://localhost:8080/",
          "height": 206
        },
        "outputId": "06cf0bc9-3a26-486e-953e-efab1994203c"
      },
      "source": [
        "# Converting extracted_features to Pandas dataframe\n",
        "extracted_features_df=pd.DataFrame(extracted_features,columns=['feature','class'])\n",
        "extracted_features_df.head()"
      ],
      "id": "acoustic-wagner",
      "execution_count": 8,
      "outputs": [
        {
          "output_type": "execute_result",
          "data": {
            "text/html": [
              "<div>\n",
              "<style scoped>\n",
              "    .dataframe tbody tr th:only-of-type {\n",
              "        vertical-align: middle;\n",
              "    }\n",
              "\n",
              "    .dataframe tbody tr th {\n",
              "        vertical-align: top;\n",
              "    }\n",
              "\n",
              "    .dataframe thead th {\n",
              "        text-align: right;\n",
              "    }\n",
              "</style>\n",
              "<table border=\"1\" class=\"dataframe\">\n",
              "  <thead>\n",
              "    <tr style=\"text-align: right;\">\n",
              "      <th></th>\n",
              "      <th>feature</th>\n",
              "      <th>class</th>\n",
              "    </tr>\n",
              "  </thead>\n",
              "  <tbody>\n",
              "    <tr>\n",
              "      <th>0</th>\n",
              "      <td>[-215.79301, 71.66612, -131.81377, -52.09133, ...</td>\n",
              "      <td>dog_bark</td>\n",
              "    </tr>\n",
              "    <tr>\n",
              "      <th>1</th>\n",
              "      <td>[-424.68677, 110.56227, -54.14824, 62.01074, -...</td>\n",
              "      <td>children_playing</td>\n",
              "    </tr>\n",
              "    <tr>\n",
              "      <th>2</th>\n",
              "      <td>[-459.56467, 122.80034, -47.92471, 53.265705, ...</td>\n",
              "      <td>children_playing</td>\n",
              "    </tr>\n",
              "    <tr>\n",
              "      <th>3</th>\n",
              "      <td>[-414.55377, 102.896904, -36.66495, 54.18041, ...</td>\n",
              "      <td>children_playing</td>\n",
              "    </tr>\n",
              "    <tr>\n",
              "      <th>4</th>\n",
              "      <td>[-447.397, 115.0954, -53.809113, 61.60859, 1.6...</td>\n",
              "      <td>children_playing</td>\n",
              "    </tr>\n",
              "  </tbody>\n",
              "</table>\n",
              "</div>"
            ],
            "text/plain": [
              "                                             feature             class\n",
              "0  [-215.79301, 71.66612, -131.81377, -52.09133, ...          dog_bark\n",
              "1  [-424.68677, 110.56227, -54.14824, 62.01074, -...  children_playing\n",
              "2  [-459.56467, 122.80034, -47.92471, 53.265705, ...  children_playing\n",
              "3  [-414.55377, 102.896904, -36.66495, 54.18041, ...  children_playing\n",
              "4  [-447.397, 115.0954, -53.809113, 61.60859, 1.6...  children_playing"
            ]
          },
          "metadata": {
            "tags": []
          },
          "execution_count": 8
        }
      ]
    },
    {
      "cell_type": "code",
      "metadata": {
        "id": "jC2WMna1xbsi"
      },
      "source": [
        "# Data Frame Saving\n",
        "extracted_features_df.to_csv(\"UrbanSound8K_DF.csv\")"
      ],
      "id": "jC2WMna1xbsi",
      "execution_count": 9,
      "outputs": []
    },
    {
      "cell_type": "markdown",
      "metadata": {
        "id": "8Ak54TtVsgKL"
      },
      "source": [
        "### Data Splitting and encoding"
      ],
      "id": "8Ak54TtVsgKL"
    },
    {
      "cell_type": "code",
      "metadata": {
        "id": "characteristic-sudan"
      },
      "source": [
        "# Data Splitting\n",
        "X=np.array(extracted_features_df['feature'].tolist())\n",
        "y=np.array(extracted_features_df['class'].tolist())"
      ],
      "id": "characteristic-sudan",
      "execution_count": 60,
      "outputs": []
    },
    {
      "cell_type": "code",
      "metadata": {
        "id": "friendly-placement",
        "colab": {
          "base_uri": "https://localhost:8080/"
        },
        "outputId": "55b544ec-6d6f-4bb7-f57f-727a099a6e29"
      },
      "source": [
        "X.shape"
      ],
      "id": "friendly-placement",
      "execution_count": 61,
      "outputs": [
        {
          "output_type": "execute_result",
          "data": {
            "text/plain": [
              "(8732, 40)"
            ]
          },
          "metadata": {
            "tags": []
          },
          "execution_count": 61
        }
      ]
    },
    {
      "cell_type": "code",
      "metadata": {
        "id": "japanese-cheese",
        "colab": {
          "base_uri": "https://localhost:8080/"
        },
        "outputId": "7a30ff52-fb0d-4945-9eff-d9a1bdde60c2"
      },
      "source": [
        "y"
      ],
      "id": "japanese-cheese",
      "execution_count": 62,
      "outputs": [
        {
          "output_type": "execute_result",
          "data": {
            "text/plain": [
              "array(['dog_bark', 'children_playing', 'children_playing', ...,\n",
              "       'car_horn', 'car_horn', 'car_horn'], dtype='<U16')"
            ]
          },
          "metadata": {
            "tags": []
          },
          "execution_count": 62
        }
      ]
    },
    {
      "cell_type": "code",
      "metadata": {
        "id": "wired-church"
      },
      "source": [
        "# Label Encoding\n",
        "from tensorflow.keras.utils import to_categorical\n",
        "from sklearn.preprocessing import LabelEncoder\n",
        "labelencoder=LabelEncoder()\n",
        "y=to_categorical(labelencoder.fit_transform(y))"
      ],
      "id": "wired-church",
      "execution_count": 63,
      "outputs": []
    },
    {
      "cell_type": "code",
      "metadata": {
        "id": "sitting-anniversary",
        "colab": {
          "base_uri": "https://localhost:8080/"
        },
        "outputId": "c541fd3f-c951-4df1-9d0e-e49187e150f3"
      },
      "source": [
        "y"
      ],
      "id": "sitting-anniversary",
      "execution_count": 64,
      "outputs": [
        {
          "output_type": "execute_result",
          "data": {
            "text/plain": [
              "array([[0., 0., 0., ..., 0., 0., 0.],\n",
              "       [0., 0., 1., ..., 0., 0., 0.],\n",
              "       [0., 0., 1., ..., 0., 0., 0.],\n",
              "       ...,\n",
              "       [0., 1., 0., ..., 0., 0., 0.],\n",
              "       [0., 1., 0., ..., 0., 0., 0.],\n",
              "       [0., 1., 0., ..., 0., 0., 0.]], dtype=float32)"
            ]
          },
          "metadata": {
            "tags": []
          },
          "execution_count": 64
        }
      ]
    },
    {
      "cell_type": "code",
      "metadata": {
        "id": "documentary-priority"
      },
      "source": [
        "# Training Testing Sets\n",
        "from sklearn.model_selection import train_test_split\n",
        "X_train,X_test,y_train,y_test=train_test_split(X,y,test_size=0.2,random_state=0)"
      ],
      "id": "documentary-priority",
      "execution_count": 65,
      "outputs": []
    },
    {
      "cell_type": "code",
      "metadata": {
        "id": "analyzed-payday",
        "colab": {
          "base_uri": "https://localhost:8080/"
        },
        "outputId": "8cde2336-3f0c-4eb1-ac57-47e83771da1b"
      },
      "source": [
        "X_train"
      ],
      "id": "analyzed-payday",
      "execution_count": 66,
      "outputs": [
        {
          "output_type": "execute_result",
          "data": {
            "text/plain": [
              "array([[-1.3183614e+02,  1.1397464e+02, -2.3956861e+01, ...,\n",
              "         3.3314774e+00, -1.4786109e+00,  2.8736603e+00],\n",
              "       [-1.4074220e+01,  9.1916939e+01, -8.6787224e+00, ...,\n",
              "        -3.3844025e+00, -5.2119040e+00, -1.5936136e+00],\n",
              "       [-4.9532028e+01,  1.5521857e-01, -2.0369110e+01, ...,\n",
              "         2.0491767e+00, -8.0537486e-01,  2.7793026e+00],\n",
              "       ...,\n",
              "       [-4.2699329e+02,  9.2890648e+01,  3.0233374e+00, ...,\n",
              "         8.6335999e-01,  6.4766812e-01,  7.8490508e-01],\n",
              "       [-1.4607024e+02,  1.3709459e+02, -3.4298344e+01, ...,\n",
              "         1.3777871e+00, -1.9530845e+00, -8.9652115e-01],\n",
              "       [-4.2167450e+02,  2.1169034e+02,  2.6820309e+00, ...,\n",
              "        -5.1484947e+00, -3.6400862e+00, -1.3321607e+00]], dtype=float32)"
            ]
          },
          "metadata": {
            "tags": []
          },
          "execution_count": 66
        }
      ]
    },
    {
      "cell_type": "code",
      "metadata": {
        "id": "flexible-lithuania",
        "colab": {
          "base_uri": "https://localhost:8080/"
        },
        "outputId": "d9a7db56-1e62-455a-c854-b33a3d6b74ef"
      },
      "source": [
        "X_train.shape"
      ],
      "id": "flexible-lithuania",
      "execution_count": 67,
      "outputs": [
        {
          "output_type": "execute_result",
          "data": {
            "text/plain": [
              "(6985, 40)"
            ]
          },
          "metadata": {
            "tags": []
          },
          "execution_count": 67
        }
      ]
    },
    {
      "cell_type": "code",
      "metadata": {
        "id": "instrumental-equity",
        "colab": {
          "base_uri": "https://localhost:8080/"
        },
        "outputId": "1f1b4e95-319d-41f5-af18-2827f6620703"
      },
      "source": [
        "X_test.shape"
      ],
      "id": "instrumental-equity",
      "execution_count": 68,
      "outputs": [
        {
          "output_type": "execute_result",
          "data": {
            "text/plain": [
              "(1747, 40)"
            ]
          },
          "metadata": {
            "tags": []
          },
          "execution_count": 68
        }
      ]
    },
    {
      "cell_type": "code",
      "metadata": {
        "id": "chemical-vermont",
        "colab": {
          "base_uri": "https://localhost:8080/"
        },
        "outputId": "b26a623d-bb96-4df2-ef7b-3fb31b259925"
      },
      "source": [
        "y_train.shape"
      ],
      "id": "chemical-vermont",
      "execution_count": 69,
      "outputs": [
        {
          "output_type": "execute_result",
          "data": {
            "text/plain": [
              "(6985, 10)"
            ]
          },
          "metadata": {
            "tags": []
          },
          "execution_count": 69
        }
      ]
    },
    {
      "cell_type": "code",
      "metadata": {
        "id": "governing-natural",
        "colab": {
          "base_uri": "https://localhost:8080/"
        },
        "outputId": "94b9971c-f195-43fc-b435-b5ec7e555505"
      },
      "source": [
        "y_test.shape"
      ],
      "id": "governing-natural",
      "execution_count": 70,
      "outputs": [
        {
          "output_type": "execute_result",
          "data": {
            "text/plain": [
              "(1747, 10)"
            ]
          },
          "metadata": {
            "tags": []
          },
          "execution_count": 70
        }
      ]
    },
    {
      "cell_type": "markdown",
      "metadata": {
        "id": "BgKF10EaWB_U"
      },
      "source": [
        "### Model Creation"
      ],
      "id": "BgKF10EaWB_U"
    },
    {
      "cell_type": "code",
      "metadata": {
        "id": "dqkR5bqPBMBQ",
        "colab": {
          "base_uri": "https://localhost:8080/"
        },
        "outputId": "7caa7a61-f5b7-4f36-8578-9f08b589546c"
      },
      "source": [
        "import tensorflow as tf\n",
        "print(tf.__version__)"
      ],
      "id": "dqkR5bqPBMBQ",
      "execution_count": 71,
      "outputs": [
        {
          "output_type": "stream",
          "text": [
            "2.4.1\n"
          ],
          "name": "stdout"
        }
      ]
    },
    {
      "cell_type": "code",
      "metadata": {
        "id": "1UnfDKJsWK19"
      },
      "source": [
        "from tensorflow.keras.models import Sequential\n",
        "from tensorflow.keras.layers import Dense,Dropout,Activation,Flatten\n",
        "from tensorflow.keras.optimizers import Adam\n",
        "from sklearn import metrics"
      ],
      "id": "1UnfDKJsWK19",
      "execution_count": 72,
      "outputs": []
    },
    {
      "cell_type": "code",
      "metadata": {
        "colab": {
          "base_uri": "https://localhost:8080/"
        },
        "id": "BufirgXwWOIk",
        "outputId": "fee2153d-5e32-45c9-f1d6-72ac51b80070"
      },
      "source": [
        "# No of classes\n",
        "num_labels=y.shape[1]\n",
        "print(num_labels)"
      ],
      "id": "BufirgXwWOIk",
      "execution_count": 73,
      "outputs": [
        {
          "output_type": "stream",
          "text": [
            "10\n"
          ],
          "name": "stdout"
        }
      ]
    },
    {
      "cell_type": "code",
      "metadata": {
        "id": "P18Z7qE0WzI1"
      },
      "source": [
        "model=Sequential()\n",
        "#first layer\n",
        "model.add(Dense(3504,input_shape=(40,)))\n",
        "model.add(Activation('relu'))\n",
        "model.add(Dropout(0.5))\n",
        "#second layer\n",
        "model.add(Dense(1752))\n",
        "model.add(Activation('relu'))\n",
        "model.add(Dropout(0.5))\n",
        "#third layer\n",
        "model.add(Dense(876))\n",
        "model.add(Activation('relu'))\n",
        "model.add(Dropout(0.5))\n",
        "\n",
        "#final layer\n",
        "model.add(Dense(num_labels))\n",
        "model.add(Activation('softmax'))"
      ],
      "id": "P18Z7qE0WzI1",
      "execution_count": 78,
      "outputs": []
    },
    {
      "cell_type": "code",
      "metadata": {
        "colab": {
          "base_uri": "https://localhost:8080/"
        },
        "id": "2uzAtNGQXzNu",
        "outputId": "73b0dfbd-f2e9-4cbc-a9e6-efe93d10abc8"
      },
      "source": [
        "model.summary()"
      ],
      "id": "2uzAtNGQXzNu",
      "execution_count": 79,
      "outputs": [
        {
          "output_type": "stream",
          "text": [
            "Model: \"sequential_4\"\n",
            "_________________________________________________________________\n",
            "Layer (type)                 Output Shape              Param #   \n",
            "=================================================================\n",
            "dense_12 (Dense)             (None, 3504)              143664    \n",
            "_________________________________________________________________\n",
            "activation_8 (Activation)    (None, 3504)              0         \n",
            "_________________________________________________________________\n",
            "dropout_8 (Dropout)          (None, 3504)              0         \n",
            "_________________________________________________________________\n",
            "dense_13 (Dense)             (None, 1752)              6140760   \n",
            "_________________________________________________________________\n",
            "activation_9 (Activation)    (None, 1752)              0         \n",
            "_________________________________________________________________\n",
            "dropout_9 (Dropout)          (None, 1752)              0         \n",
            "_________________________________________________________________\n",
            "dense_14 (Dense)             (None, 876)               1535628   \n",
            "_________________________________________________________________\n",
            "activation_10 (Activation)   (None, 876)               0         \n",
            "_________________________________________________________________\n",
            "dropout_10 (Dropout)         (None, 876)               0         \n",
            "_________________________________________________________________\n",
            "dense_15 (Dense)             (None, 10)                8770      \n",
            "_________________________________________________________________\n",
            "activation_11 (Activation)   (None, 10)                0         \n",
            "=================================================================\n",
            "Total params: 7,828,822\n",
            "Trainable params: 7,828,822\n",
            "Non-trainable params: 0\n",
            "_________________________________________________________________\n"
          ],
          "name": "stdout"
        }
      ]
    },
    {
      "cell_type": "code",
      "metadata": {
        "id": "nTIirDNfX4V_"
      },
      "source": [
        "model.compile(loss='categorical_crossentropy',metrics=['accuracy'],optimizer='adam')"
      ],
      "id": "nTIirDNfX4V_",
      "execution_count": 81,
      "outputs": []
    },
    {
      "cell_type": "code",
      "metadata": {
        "id": "4A8jg3f0X86z"
      },
      "source": [
        "# Model training\n",
        "from tensorflow.keras.callbacks import ModelCheckpoint\n",
        "from datetime import datetime "
      ],
      "id": "4A8jg3f0X86z",
      "execution_count": 82,
      "outputs": []
    },
    {
      "cell_type": "code",
      "metadata": {
        "colab": {
          "base_uri": "https://localhost:8080/"
        },
        "id": "u0e36g3_YDVD",
        "outputId": "d2317268-ee99-42d4-844c-63a5fb619d5a"
      },
      "source": [
        "num_epochs = 100\n",
        "num_batch_size = 128\n",
        "\n",
        "checkpointer = ModelCheckpoint(filepath='saved_models/audio_classification.h5', verbose=1, save_best_only=True)\n",
        "start = datetime.now()\n",
        "\n",
        "model.fit(X_train, y_train, batch_size=num_batch_size, epochs=num_epochs, validation_data=(X_test, y_test), callbacks=[checkpointer], verbose=1)\n",
        "\n",
        "\n",
        "duration = datetime.now() - start\n",
        "print(\"Training completed in time: \", duration)"
      ],
      "id": "u0e36g3_YDVD",
      "execution_count": 83,
      "outputs": [
        {
          "output_type": "stream",
          "text": [
            "Epoch 1/100\n",
            "55/55 [==============================] - 9s 159ms/step - loss: 13.6239 - accuracy: 0.1817 - val_loss: 1.6623 - val_accuracy: 0.4602\n",
            "\n",
            "Epoch 00001: val_loss improved from inf to 1.66232, saving model to saved_models/audio_classification.h5\n",
            "Epoch 2/100\n",
            "55/55 [==============================] - 9s 157ms/step - loss: 1.8127 - accuracy: 0.3696 - val_loss: 1.4354 - val_accuracy: 0.5140\n",
            "\n",
            "Epoch 00002: val_loss improved from 1.66232 to 1.43536, saving model to saved_models/audio_classification.h5\n",
            "Epoch 3/100\n",
            "55/55 [==============================] - 9s 158ms/step - loss: 1.6092 - accuracy: 0.4392 - val_loss: 1.2978 - val_accuracy: 0.5758\n",
            "\n",
            "Epoch 00003: val_loss improved from 1.43536 to 1.29780, saving model to saved_models/audio_classification.h5\n",
            "Epoch 4/100\n",
            "55/55 [==============================] - 9s 157ms/step - loss: 1.4071 - accuracy: 0.5113 - val_loss: 1.1952 - val_accuracy: 0.6337\n",
            "\n",
            "Epoch 00004: val_loss improved from 1.29780 to 1.19516, saving model to saved_models/audio_classification.h5\n",
            "Epoch 5/100\n",
            "55/55 [==============================] - 9s 156ms/step - loss: 1.2964 - accuracy: 0.5609 - val_loss: 1.0794 - val_accuracy: 0.6714\n",
            "\n",
            "Epoch 00005: val_loss improved from 1.19516 to 1.07944, saving model to saved_models/audio_classification.h5\n",
            "Epoch 6/100\n",
            "55/55 [==============================] - 9s 157ms/step - loss: 1.2025 - accuracy: 0.5910 - val_loss: 0.9881 - val_accuracy: 0.6823\n",
            "\n",
            "Epoch 00006: val_loss improved from 1.07944 to 0.98812, saving model to saved_models/audio_classification.h5\n",
            "Epoch 7/100\n",
            "55/55 [==============================] - 9s 157ms/step - loss: 1.0908 - accuracy: 0.6361 - val_loss: 0.9273 - val_accuracy: 0.7121\n",
            "\n",
            "Epoch 00007: val_loss improved from 0.98812 to 0.92731, saving model to saved_models/audio_classification.h5\n",
            "Epoch 8/100\n",
            "55/55 [==============================] - 9s 157ms/step - loss: 1.0181 - accuracy: 0.6595 - val_loss: 0.8343 - val_accuracy: 0.7258\n",
            "\n",
            "Epoch 00008: val_loss improved from 0.92731 to 0.83431, saving model to saved_models/audio_classification.h5\n",
            "Epoch 9/100\n",
            "55/55 [==============================] - 9s 156ms/step - loss: 0.9466 - accuracy: 0.6735 - val_loss: 0.7990 - val_accuracy: 0.7693\n",
            "\n",
            "Epoch 00009: val_loss improved from 0.83431 to 0.79905, saving model to saved_models/audio_classification.h5\n",
            "Epoch 10/100\n",
            "55/55 [==============================] - 9s 157ms/step - loss: 0.8706 - accuracy: 0.6985 - val_loss: 0.7285 - val_accuracy: 0.7796\n",
            "\n",
            "Epoch 00010: val_loss improved from 0.79905 to 0.72850, saving model to saved_models/audio_classification.h5\n",
            "Epoch 11/100\n",
            "55/55 [==============================] - 9s 157ms/step - loss: 0.8282 - accuracy: 0.7188 - val_loss: 0.7170 - val_accuracy: 0.7779\n",
            "\n",
            "Epoch 00011: val_loss improved from 0.72850 to 0.71702, saving model to saved_models/audio_classification.h5\n",
            "Epoch 12/100\n",
            "55/55 [==============================] - 9s 158ms/step - loss: 0.8029 - accuracy: 0.7265 - val_loss: 0.6774 - val_accuracy: 0.7773\n",
            "\n",
            "Epoch 00012: val_loss improved from 0.71702 to 0.67740, saving model to saved_models/audio_classification.h5\n",
            "Epoch 13/100\n",
            "55/55 [==============================] - 9s 158ms/step - loss: 0.7469 - accuracy: 0.7445 - val_loss: 0.6584 - val_accuracy: 0.8008\n",
            "\n",
            "Epoch 00013: val_loss improved from 0.67740 to 0.65838, saving model to saved_models/audio_classification.h5\n",
            "Epoch 14/100\n",
            "55/55 [==============================] - 9s 156ms/step - loss: 0.7444 - accuracy: 0.7517 - val_loss: 0.6203 - val_accuracy: 0.8088\n",
            "\n",
            "Epoch 00014: val_loss improved from 0.65838 to 0.62033, saving model to saved_models/audio_classification.h5\n",
            "Epoch 15/100\n",
            "55/55 [==============================] - 9s 157ms/step - loss: 0.7237 - accuracy: 0.7587 - val_loss: 0.6059 - val_accuracy: 0.8128\n",
            "\n",
            "Epoch 00015: val_loss improved from 0.62033 to 0.60592, saving model to saved_models/audio_classification.h5\n",
            "Epoch 16/100\n",
            "55/55 [==============================] - 9s 156ms/step - loss: 0.6822 - accuracy: 0.7660 - val_loss: 0.5734 - val_accuracy: 0.8185\n",
            "\n",
            "Epoch 00016: val_loss improved from 0.60592 to 0.57344, saving model to saved_models/audio_classification.h5\n",
            "Epoch 17/100\n",
            "55/55 [==============================] - 9s 156ms/step - loss: 0.6387 - accuracy: 0.7895 - val_loss: 0.5310 - val_accuracy: 0.8248\n",
            "\n",
            "Epoch 00017: val_loss improved from 0.57344 to 0.53102, saving model to saved_models/audio_classification.h5\n",
            "Epoch 18/100\n",
            "55/55 [==============================] - 9s 156ms/step - loss: 0.6102 - accuracy: 0.7969 - val_loss: 0.5348 - val_accuracy: 0.8340\n",
            "\n",
            "Epoch 00018: val_loss did not improve from 0.53102\n",
            "Epoch 19/100\n",
            "55/55 [==============================] - 8s 154ms/step - loss: 0.5860 - accuracy: 0.8029 - val_loss: 0.5248 - val_accuracy: 0.8283\n",
            "\n",
            "Epoch 00019: val_loss improved from 0.53102 to 0.52483, saving model to saved_models/audio_classification.h5\n",
            "Epoch 20/100\n",
            "55/55 [==============================] - 9s 156ms/step - loss: 0.5623 - accuracy: 0.8097 - val_loss: 0.4967 - val_accuracy: 0.8472\n",
            "\n",
            "Epoch 00020: val_loss improved from 0.52483 to 0.49667, saving model to saved_models/audio_classification.h5\n",
            "Epoch 21/100\n",
            "55/55 [==============================] - 9s 155ms/step - loss: 0.5666 - accuracy: 0.8063 - val_loss: 0.4823 - val_accuracy: 0.8449\n",
            "\n",
            "Epoch 00021: val_loss improved from 0.49667 to 0.48227, saving model to saved_models/audio_classification.h5\n",
            "Epoch 22/100\n",
            "55/55 [==============================] - 9s 155ms/step - loss: 0.5327 - accuracy: 0.8180 - val_loss: 0.4781 - val_accuracy: 0.8472\n",
            "\n",
            "Epoch 00022: val_loss improved from 0.48227 to 0.47806, saving model to saved_models/audio_classification.h5\n",
            "Epoch 23/100\n",
            "55/55 [==============================] - 9s 158ms/step - loss: 0.5236 - accuracy: 0.8225 - val_loss: 0.4639 - val_accuracy: 0.8454\n",
            "\n",
            "Epoch 00023: val_loss improved from 0.47806 to 0.46391, saving model to saved_models/audio_classification.h5\n",
            "Epoch 24/100\n",
            "55/55 [==============================] - 9s 159ms/step - loss: 0.5002 - accuracy: 0.8285 - val_loss: 0.4673 - val_accuracy: 0.8517\n",
            "\n",
            "Epoch 00024: val_loss did not improve from 0.46391\n",
            "Epoch 25/100\n",
            "55/55 [==============================] - 8s 151ms/step - loss: 0.5301 - accuracy: 0.8181 - val_loss: 0.4812 - val_accuracy: 0.8449\n",
            "\n",
            "Epoch 00025: val_loss did not improve from 0.46391\n",
            "Epoch 26/100\n",
            "55/55 [==============================] - 8s 154ms/step - loss: 0.4959 - accuracy: 0.8253 - val_loss: 0.4382 - val_accuracy: 0.8575\n",
            "\n",
            "Epoch 00026: val_loss improved from 0.46391 to 0.43818, saving model to saved_models/audio_classification.h5\n",
            "Epoch 27/100\n",
            "55/55 [==============================] - 9s 155ms/step - loss: 0.4826 - accuracy: 0.8377 - val_loss: 0.4377 - val_accuracy: 0.8620\n",
            "\n",
            "Epoch 00027: val_loss improved from 0.43818 to 0.43774, saving model to saved_models/audio_classification.h5\n",
            "Epoch 28/100\n",
            "55/55 [==============================] - 9s 155ms/step - loss: 0.4538 - accuracy: 0.8419 - val_loss: 0.4187 - val_accuracy: 0.8689\n",
            "\n",
            "Epoch 00028: val_loss improved from 0.43774 to 0.41873, saving model to saved_models/audio_classification.h5\n",
            "Epoch 29/100\n",
            "55/55 [==============================] - 8s 154ms/step - loss: 0.4413 - accuracy: 0.8478 - val_loss: 0.4282 - val_accuracy: 0.8701\n",
            "\n",
            "Epoch 00029: val_loss did not improve from 0.41873\n",
            "Epoch 30/100\n",
            "55/55 [==============================] - 8s 151ms/step - loss: 0.4252 - accuracy: 0.8573 - val_loss: 0.4053 - val_accuracy: 0.8786\n",
            "\n",
            "Epoch 00030: val_loss improved from 0.41873 to 0.40533, saving model to saved_models/audio_classification.h5\n",
            "Epoch 31/100\n",
            "55/55 [==============================] - 8s 153ms/step - loss: 0.4250 - accuracy: 0.8523 - val_loss: 0.4215 - val_accuracy: 0.8752\n",
            "\n",
            "Epoch 00031: val_loss did not improve from 0.40533\n",
            "Epoch 32/100\n",
            "55/55 [==============================] - 8s 151ms/step - loss: 0.4332 - accuracy: 0.8513 - val_loss: 0.4152 - val_accuracy: 0.8769\n",
            "\n",
            "Epoch 00032: val_loss did not improve from 0.40533\n",
            "Epoch 33/100\n",
            "55/55 [==============================] - 8s 152ms/step - loss: 0.4274 - accuracy: 0.8531 - val_loss: 0.4300 - val_accuracy: 0.8724\n",
            "\n",
            "Epoch 00033: val_loss did not improve from 0.40533\n",
            "Epoch 34/100\n",
            "55/55 [==============================] - 8s 151ms/step - loss: 0.4285 - accuracy: 0.8556 - val_loss: 0.4009 - val_accuracy: 0.8706\n",
            "\n",
            "Epoch 00034: val_loss improved from 0.40533 to 0.40091, saving model to saved_models/audio_classification.h5\n",
            "Epoch 35/100\n",
            "55/55 [==============================] - 8s 153ms/step - loss: 0.4513 - accuracy: 0.8557 - val_loss: 0.3866 - val_accuracy: 0.8901\n",
            "\n",
            "Epoch 00035: val_loss improved from 0.40091 to 0.38663, saving model to saved_models/audio_classification.h5\n",
            "Epoch 36/100\n",
            "55/55 [==============================] - 9s 155ms/step - loss: 0.3977 - accuracy: 0.8626 - val_loss: 0.3775 - val_accuracy: 0.8844\n",
            "\n",
            "Epoch 00036: val_loss improved from 0.38663 to 0.37748, saving model to saved_models/audio_classification.h5\n",
            "Epoch 37/100\n",
            "55/55 [==============================] - 9s 155ms/step - loss: 0.4000 - accuracy: 0.8647 - val_loss: 0.3810 - val_accuracy: 0.8867\n",
            "\n",
            "Epoch 00037: val_loss did not improve from 0.37748\n",
            "Epoch 38/100\n",
            "55/55 [==============================] - 8s 151ms/step - loss: 0.3816 - accuracy: 0.8668 - val_loss: 0.3794 - val_accuracy: 0.8827\n",
            "\n",
            "Epoch 00038: val_loss did not improve from 0.37748\n",
            "Epoch 39/100\n",
            "55/55 [==============================] - 8s 150ms/step - loss: 0.3693 - accuracy: 0.8746 - val_loss: 0.3578 - val_accuracy: 0.8930\n",
            "\n",
            "Epoch 00039: val_loss improved from 0.37748 to 0.35776, saving model to saved_models/audio_classification.h5\n",
            "Epoch 40/100\n",
            "55/55 [==============================] - 8s 152ms/step - loss: 0.3391 - accuracy: 0.8818 - val_loss: 0.3686 - val_accuracy: 0.8924\n",
            "\n",
            "Epoch 00040: val_loss did not improve from 0.35776\n",
            "Epoch 41/100\n",
            "55/55 [==============================] - 8s 150ms/step - loss: 0.3757 - accuracy: 0.8711 - val_loss: 0.3476 - val_accuracy: 0.8838\n",
            "\n",
            "Epoch 00041: val_loss improved from 0.35776 to 0.34760, saving model to saved_models/audio_classification.h5\n",
            "Epoch 42/100\n",
            "55/55 [==============================] - 8s 154ms/step - loss: 0.3488 - accuracy: 0.8782 - val_loss: 0.3621 - val_accuracy: 0.8964\n",
            "\n",
            "Epoch 00042: val_loss did not improve from 0.34760\n",
            "Epoch 43/100\n",
            "55/55 [==============================] - 8s 148ms/step - loss: 0.3798 - accuracy: 0.8688 - val_loss: 0.3534 - val_accuracy: 0.8987\n",
            "\n",
            "Epoch 00043: val_loss did not improve from 0.34760\n",
            "Epoch 44/100\n",
            "55/55 [==============================] - 8s 149ms/step - loss: 0.3540 - accuracy: 0.8855 - val_loss: 0.3524 - val_accuracy: 0.8970\n",
            "\n",
            "Epoch 00044: val_loss did not improve from 0.34760\n",
            "Epoch 45/100\n",
            "55/55 [==============================] - 8s 148ms/step - loss: 0.3509 - accuracy: 0.8830 - val_loss: 0.3363 - val_accuracy: 0.9004\n",
            "\n",
            "Epoch 00045: val_loss improved from 0.34760 to 0.33626, saving model to saved_models/audio_classification.h5\n",
            "Epoch 46/100\n",
            "55/55 [==============================] - 8s 149ms/step - loss: 0.3326 - accuracy: 0.8908 - val_loss: 0.3404 - val_accuracy: 0.9004\n",
            "\n",
            "Epoch 00046: val_loss did not improve from 0.33626\n",
            "Epoch 47/100\n",
            "55/55 [==============================] - 8s 146ms/step - loss: 0.3529 - accuracy: 0.8794 - val_loss: 0.3537 - val_accuracy: 0.8947\n",
            "\n",
            "Epoch 00047: val_loss did not improve from 0.33626\n",
            "Epoch 48/100\n",
            "55/55 [==============================] - 8s 147ms/step - loss: 0.3131 - accuracy: 0.8943 - val_loss: 0.3154 - val_accuracy: 0.9130\n",
            "\n",
            "Epoch 00048: val_loss improved from 0.33626 to 0.31541, saving model to saved_models/audio_classification.h5\n",
            "Epoch 49/100\n",
            "55/55 [==============================] - 8s 150ms/step - loss: 0.3281 - accuracy: 0.8909 - val_loss: 0.3222 - val_accuracy: 0.9050\n",
            "\n",
            "Epoch 00049: val_loss did not improve from 0.31541\n",
            "Epoch 50/100\n",
            "55/55 [==============================] - 8s 148ms/step - loss: 0.3105 - accuracy: 0.8970 - val_loss: 0.3240 - val_accuracy: 0.8987\n",
            "\n",
            "Epoch 00050: val_loss did not improve from 0.31541\n",
            "Epoch 51/100\n",
            "55/55 [==============================] - 8s 148ms/step - loss: 0.3024 - accuracy: 0.9049 - val_loss: 0.3158 - val_accuracy: 0.9073\n",
            "\n",
            "Epoch 00051: val_loss did not improve from 0.31541\n",
            "Epoch 52/100\n",
            "55/55 [==============================] - 8s 149ms/step - loss: 0.3460 - accuracy: 0.8775 - val_loss: 0.3277 - val_accuracy: 0.9078\n",
            "\n",
            "Epoch 00052: val_loss did not improve from 0.31541\n",
            "Epoch 53/100\n",
            "55/55 [==============================] - 8s 149ms/step - loss: 0.3119 - accuracy: 0.8982 - val_loss: 0.3157 - val_accuracy: 0.9067\n",
            "\n",
            "Epoch 00053: val_loss did not improve from 0.31541\n",
            "Epoch 54/100\n",
            "55/55 [==============================] - 8s 148ms/step - loss: 0.2885 - accuracy: 0.9036 - val_loss: 0.3238 - val_accuracy: 0.9033\n",
            "\n",
            "Epoch 00054: val_loss did not improve from 0.31541\n",
            "Epoch 55/100\n",
            "55/55 [==============================] - 8s 148ms/step - loss: 0.3001 - accuracy: 0.9001 - val_loss: 0.3278 - val_accuracy: 0.9107\n",
            "\n",
            "Epoch 00055: val_loss did not improve from 0.31541\n",
            "Epoch 56/100\n",
            "55/55 [==============================] - 8s 150ms/step - loss: 0.3068 - accuracy: 0.8975 - val_loss: 0.3346 - val_accuracy: 0.9056\n",
            "\n",
            "Epoch 00056: val_loss did not improve from 0.31541\n",
            "Epoch 57/100\n",
            "55/55 [==============================] - 8s 149ms/step - loss: 0.2844 - accuracy: 0.8976 - val_loss: 0.3180 - val_accuracy: 0.9078\n",
            "\n",
            "Epoch 00057: val_loss did not improve from 0.31541\n",
            "Epoch 58/100\n",
            "55/55 [==============================] - 8s 149ms/step - loss: 0.2666 - accuracy: 0.9118 - val_loss: 0.3350 - val_accuracy: 0.8993\n",
            "\n",
            "Epoch 00058: val_loss did not improve from 0.31541\n",
            "Epoch 59/100\n",
            "55/55 [==============================] - 8s 147ms/step - loss: 0.3014 - accuracy: 0.8935 - val_loss: 0.3313 - val_accuracy: 0.9096\n",
            "\n",
            "Epoch 00059: val_loss did not improve from 0.31541\n",
            "Epoch 60/100\n",
            "55/55 [==============================] - 8s 147ms/step - loss: 0.2677 - accuracy: 0.9126 - val_loss: 0.3204 - val_accuracy: 0.9084\n",
            "\n",
            "Epoch 00060: val_loss did not improve from 0.31541\n",
            "Epoch 61/100\n",
            "55/55 [==============================] - 8s 145ms/step - loss: 0.2871 - accuracy: 0.8986 - val_loss: 0.3092 - val_accuracy: 0.9096\n",
            "\n",
            "Epoch 00061: val_loss improved from 0.31541 to 0.30921, saving model to saved_models/audio_classification.h5\n",
            "Epoch 62/100\n",
            "55/55 [==============================] - 8s 148ms/step - loss: 0.2742 - accuracy: 0.9069 - val_loss: 0.3160 - val_accuracy: 0.9078\n",
            "\n",
            "Epoch 00062: val_loss did not improve from 0.30921\n",
            "Epoch 63/100\n",
            "55/55 [==============================] - 8s 147ms/step - loss: 0.2564 - accuracy: 0.9108 - val_loss: 0.3122 - val_accuracy: 0.9107\n",
            "\n",
            "Epoch 00063: val_loss did not improve from 0.30921\n",
            "Epoch 64/100\n",
            "55/55 [==============================] - 8s 146ms/step - loss: 0.2536 - accuracy: 0.9175 - val_loss: 0.3273 - val_accuracy: 0.9038\n",
            "\n",
            "Epoch 00064: val_loss did not improve from 0.30921\n",
            "Epoch 65/100\n",
            "55/55 [==============================] - 8s 147ms/step - loss: 0.2548 - accuracy: 0.9116 - val_loss: 0.3250 - val_accuracy: 0.9056\n",
            "\n",
            "Epoch 00065: val_loss did not improve from 0.30921\n",
            "Epoch 66/100\n",
            "55/55 [==============================] - 8s 146ms/step - loss: 0.2871 - accuracy: 0.9040 - val_loss: 0.3324 - val_accuracy: 0.9096\n",
            "\n",
            "Epoch 00066: val_loss did not improve from 0.30921\n",
            "Epoch 67/100\n",
            "55/55 [==============================] - 8s 147ms/step - loss: 0.2867 - accuracy: 0.9057 - val_loss: 0.3158 - val_accuracy: 0.9124\n",
            "\n",
            "Epoch 00067: val_loss did not improve from 0.30921\n",
            "Epoch 68/100\n",
            "55/55 [==============================] - 8s 146ms/step - loss: 0.2680 - accuracy: 0.9116 - val_loss: 0.3044 - val_accuracy: 0.9147\n",
            "\n",
            "Epoch 00068: val_loss improved from 0.30921 to 0.30438, saving model to saved_models/audio_classification.h5\n",
            "Epoch 69/100\n",
            "55/55 [==============================] - 8s 147ms/step - loss: 0.2632 - accuracy: 0.9132 - val_loss: 0.3106 - val_accuracy: 0.9176\n",
            "\n",
            "Epoch 00069: val_loss did not improve from 0.30438\n",
            "Epoch 70/100\n",
            "55/55 [==============================] - 8s 145ms/step - loss: 0.2622 - accuracy: 0.9096 - val_loss: 0.3400 - val_accuracy: 0.8998\n",
            "\n",
            "Epoch 00070: val_loss did not improve from 0.30438\n",
            "Epoch 71/100\n",
            "55/55 [==============================] - 8s 145ms/step - loss: 0.2774 - accuracy: 0.9065 - val_loss: 0.3216 - val_accuracy: 0.9124\n",
            "\n",
            "Epoch 00071: val_loss did not improve from 0.30438\n",
            "Epoch 72/100\n",
            "55/55 [==============================] - 8s 144ms/step - loss: 0.2399 - accuracy: 0.9213 - val_loss: 0.3364 - val_accuracy: 0.9004\n",
            "\n",
            "Epoch 00072: val_loss did not improve from 0.30438\n",
            "Epoch 73/100\n",
            "55/55 [==============================] - 8s 145ms/step - loss: 0.2741 - accuracy: 0.9089 - val_loss: 0.3115 - val_accuracy: 0.9170\n",
            "\n",
            "Epoch 00073: val_loss did not improve from 0.30438\n",
            "Epoch 74/100\n",
            "55/55 [==============================] - 8s 145ms/step - loss: 0.3021 - accuracy: 0.9111 - val_loss: 0.2868 - val_accuracy: 0.9233\n",
            "\n",
            "Epoch 00074: val_loss improved from 0.30438 to 0.28681, saving model to saved_models/audio_classification.h5\n",
            "Epoch 75/100\n",
            "55/55 [==============================] - 8s 146ms/step - loss: 0.2725 - accuracy: 0.9094 - val_loss: 0.3030 - val_accuracy: 0.9084\n",
            "\n",
            "Epoch 00075: val_loss did not improve from 0.28681\n",
            "Epoch 76/100\n",
            "55/55 [==============================] - 9s 164ms/step - loss: 0.2741 - accuracy: 0.9150 - val_loss: 0.3062 - val_accuracy: 0.9084\n",
            "\n",
            "Epoch 00076: val_loss did not improve from 0.28681\n",
            "Epoch 77/100\n",
            "55/55 [==============================] - 8s 145ms/step - loss: 0.2650 - accuracy: 0.9178 - val_loss: 0.2986 - val_accuracy: 0.9239\n",
            "\n",
            "Epoch 00077: val_loss did not improve from 0.28681\n",
            "Epoch 78/100\n",
            "55/55 [==============================] - 8s 145ms/step - loss: 0.2415 - accuracy: 0.9184 - val_loss: 0.2850 - val_accuracy: 0.9199\n",
            "\n",
            "Epoch 00078: val_loss improved from 0.28681 to 0.28497, saving model to saved_models/audio_classification.h5\n",
            "Epoch 79/100\n",
            "55/55 [==============================] - 8s 145ms/step - loss: 0.2192 - accuracy: 0.9255 - val_loss: 0.3137 - val_accuracy: 0.9222\n",
            "\n",
            "Epoch 00079: val_loss did not improve from 0.28497\n",
            "Epoch 80/100\n",
            "55/55 [==============================] - 8s 143ms/step - loss: 0.2469 - accuracy: 0.9173 - val_loss: 0.2960 - val_accuracy: 0.9204\n",
            "\n",
            "Epoch 00080: val_loss did not improve from 0.28497\n",
            "Epoch 81/100\n",
            "55/55 [==============================] - 8s 144ms/step - loss: 0.2567 - accuracy: 0.9148 - val_loss: 0.3242 - val_accuracy: 0.9141\n",
            "\n",
            "Epoch 00081: val_loss did not improve from 0.28497\n",
            "Epoch 82/100\n",
            "55/55 [==============================] - 8s 145ms/step - loss: 0.2516 - accuracy: 0.9207 - val_loss: 0.3064 - val_accuracy: 0.9193\n",
            "\n",
            "Epoch 00082: val_loss did not improve from 0.28497\n",
            "Epoch 83/100\n",
            "55/55 [==============================] - 8s 147ms/step - loss: 0.2664 - accuracy: 0.9120 - val_loss: 0.3035 - val_accuracy: 0.9199\n",
            "\n",
            "Epoch 00083: val_loss did not improve from 0.28497\n",
            "Epoch 84/100\n",
            "55/55 [==============================] - 8s 146ms/step - loss: 0.2636 - accuracy: 0.9110 - val_loss: 0.2934 - val_accuracy: 0.9244\n",
            "\n",
            "Epoch 00084: val_loss did not improve from 0.28497\n",
            "Epoch 85/100\n",
            "55/55 [==============================] - 8s 146ms/step - loss: 0.2350 - accuracy: 0.9281 - val_loss: 0.2911 - val_accuracy: 0.9227\n",
            "\n",
            "Epoch 00085: val_loss did not improve from 0.28497\n",
            "Epoch 86/100\n",
            "55/55 [==============================] - 8s 146ms/step - loss: 0.2159 - accuracy: 0.9279 - val_loss: 0.3366 - val_accuracy: 0.9050\n",
            "\n",
            "Epoch 00086: val_loss did not improve from 0.28497\n",
            "Epoch 87/100\n",
            "55/55 [==============================] - 8s 146ms/step - loss: 0.2593 - accuracy: 0.9122 - val_loss: 0.3325 - val_accuracy: 0.9130\n",
            "\n",
            "Epoch 00087: val_loss did not improve from 0.28497\n",
            "Epoch 88/100\n",
            "55/55 [==============================] - 8s 146ms/step - loss: 0.2264 - accuracy: 0.9246 - val_loss: 0.2924 - val_accuracy: 0.9227\n",
            "\n",
            "Epoch 00088: val_loss did not improve from 0.28497\n",
            "Epoch 89/100\n",
            "55/55 [==============================] - 8s 147ms/step - loss: 0.2358 - accuracy: 0.9252 - val_loss: 0.2900 - val_accuracy: 0.9193\n",
            "\n",
            "Epoch 00089: val_loss did not improve from 0.28497\n",
            "Epoch 90/100\n",
            "55/55 [==============================] - 8s 146ms/step - loss: 0.2294 - accuracy: 0.9275 - val_loss: 0.3115 - val_accuracy: 0.9170\n",
            "\n",
            "Epoch 00090: val_loss did not improve from 0.28497\n",
            "Epoch 91/100\n",
            "55/55 [==============================] - 8s 146ms/step - loss: 0.2439 - accuracy: 0.9222 - val_loss: 0.3201 - val_accuracy: 0.9181\n",
            "\n",
            "Epoch 00091: val_loss did not improve from 0.28497\n",
            "Epoch 92/100\n",
            "55/55 [==============================] - 8s 145ms/step - loss: 0.2277 - accuracy: 0.9231 - val_loss: 0.3100 - val_accuracy: 0.9153\n",
            "\n",
            "Epoch 00092: val_loss did not improve from 0.28497\n",
            "Epoch 93/100\n",
            "55/55 [==============================] - 8s 146ms/step - loss: 0.2142 - accuracy: 0.9303 - val_loss: 0.2842 - val_accuracy: 0.9222\n",
            "\n",
            "Epoch 00093: val_loss improved from 0.28497 to 0.28425, saving model to saved_models/audio_classification.h5\n",
            "Epoch 94/100\n",
            "55/55 [==============================] - 8s 149ms/step - loss: 0.2296 - accuracy: 0.9260 - val_loss: 0.3185 - val_accuracy: 0.9216\n",
            "\n",
            "Epoch 00094: val_loss did not improve from 0.28425\n",
            "Epoch 95/100\n",
            "55/55 [==============================] - 8s 146ms/step - loss: 0.2228 - accuracy: 0.9278 - val_loss: 0.3174 - val_accuracy: 0.9239\n",
            "\n",
            "Epoch 00095: val_loss did not improve from 0.28425\n",
            "Epoch 96/100\n",
            "55/55 [==============================] - 8s 147ms/step - loss: 0.2315 - accuracy: 0.9326 - val_loss: 0.3320 - val_accuracy: 0.9222\n",
            "\n",
            "Epoch 00096: val_loss did not improve from 0.28425\n",
            "Epoch 97/100\n",
            "55/55 [==============================] - 8s 144ms/step - loss: 0.2173 - accuracy: 0.9332 - val_loss: 0.3222 - val_accuracy: 0.9164\n",
            "\n",
            "Epoch 00097: val_loss did not improve from 0.28425\n",
            "Epoch 98/100\n",
            "55/55 [==============================] - 8s 146ms/step - loss: 0.2280 - accuracy: 0.9259 - val_loss: 0.2922 - val_accuracy: 0.9187\n",
            "\n",
            "Epoch 00098: val_loss did not improve from 0.28425\n",
            "Epoch 99/100\n",
            "55/55 [==============================] - 8s 146ms/step - loss: 0.2472 - accuracy: 0.9211 - val_loss: 0.3034 - val_accuracy: 0.9210\n",
            "\n",
            "Epoch 00099: val_loss did not improve from 0.28425\n",
            "Epoch 100/100\n",
            "55/55 [==============================] - 8s 147ms/step - loss: 0.2264 - accuracy: 0.9306 - val_loss: 0.3188 - val_accuracy: 0.9233\n",
            "\n",
            "Epoch 00100: val_loss did not improve from 0.28425\n",
            "Training completed in time:  0:13:52.873388\n"
          ],
          "name": "stdout"
        }
      ]
    },
    {
      "cell_type": "code",
      "metadata": {
        "colab": {
          "base_uri": "https://localhost:8080/"
        },
        "id": "imt4Mdr1Z_UA",
        "outputId": "92b70157-b8ba-466c-b077-2126c8747e35"
      },
      "source": [
        "test_accuracy=model.evaluate(X_test,y_test,verbose=0)\n",
        "print(test_accuracy[1])"
      ],
      "id": "imt4Mdr1Z_UA",
      "execution_count": 84,
      "outputs": [
        {
          "output_type": "stream",
          "text": [
            "0.923297107219696\n"
          ],
          "name": "stdout"
        }
      ]
    },
    {
      "cell_type": "markdown",
      "metadata": {
        "id": "fQAryFEqihSU"
      },
      "source": [
        "### Testing Some NEW Audio Data"
      ],
      "id": "fQAryFEqihSU"
    },
    {
      "cell_type": "code",
      "metadata": {
        "id": "YJ_81Cfyieaz"
      },
      "source": [
        "filename=\"/content/Dog-Bark.wav\"\n",
        "audio, sample_rate = librosa.load(filename, res_type='kaiser_fast') \n",
        "mfccs_features = librosa.feature.mfcc(y=audio, sr=sample_rate, n_mfcc=40)\n",
        "mfccs_scaled_features = np.mean(mfccs_features.T,axis=0)"
      ],
      "id": "YJ_81Cfyieaz",
      "execution_count": 94,
      "outputs": []
    },
    {
      "cell_type": "code",
      "metadata": {
        "colab": {
          "base_uri": "https://localhost:8080/"
        },
        "id": "lM3n3nUQjqxU",
        "outputId": "77d994ca-c36e-46cd-8d49-a835ef6049f7"
      },
      "source": [
        "mfccs_scaled_features.shape"
      ],
      "id": "lM3n3nUQjqxU",
      "execution_count": 95,
      "outputs": [
        {
          "output_type": "execute_result",
          "data": {
            "text/plain": [
              "(40,)"
            ]
          },
          "metadata": {
            "tags": []
          },
          "execution_count": 95
        }
      ]
    },
    {
      "cell_type": "code",
      "metadata": {
        "colab": {
          "base_uri": "https://localhost:8080/",
          "height": 70
        },
        "id": "2gBAQPEvjg4V",
        "outputId": "37818b82-71e7-46fc-f66a-a3dfa982920b"
      },
      "source": [
        "mfccs_scaled_features=mfccs_scaled_features.reshape(1,-1)\n",
        "print(mfccs_scaled_features.shape)\n",
        "predicted_label = np.argmax(model.predict(mfccs_scaled_features), axis=-1)\n",
        "print('Predicted Label:',predicted_label)\n",
        "prediction_class = labelencoder.inverse_transform(predicted_label) \n",
        "prediction_class[0]"
      ],
      "id": "2gBAQPEvjg4V",
      "execution_count": 100,
      "outputs": [
        {
          "output_type": "stream",
          "text": [
            "(1, 40)\n",
            "Predicted Label: [3]\n"
          ],
          "name": "stdout"
        },
        {
          "output_type": "execute_result",
          "data": {
            "application/vnd.google.colaboratory.intrinsic+json": {
              "type": "string"
            },
            "text/plain": [
              "'dog_bark'"
            ]
          },
          "metadata": {
            "tags": []
          },
          "execution_count": 100
        }
      ]
    },
    {
      "cell_type": "code",
      "metadata": {
        "id": "P1lg60Knoe7d"
      },
      "source": [
        ""
      ],
      "id": "P1lg60Knoe7d",
      "execution_count": null,
      "outputs": []
    }
  ]
}