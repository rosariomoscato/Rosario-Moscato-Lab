{
  "nbformat": 4,
  "nbformat_minor": 5,
  "metadata": {
    "kernelspec": {
      "display_name": "Python 3",
      "language": "python",
      "name": "python3"
    },
    "language_info": {
      "codemirror_mode": {
        "name": "ipython",
        "version": 3
      },
      "file_extension": ".py",
      "mimetype": "text/x-python",
      "name": "python",
      "nbconvert_exporter": "python",
      "pygments_lexer": "ipython3",
      "version": "3.8.5"
    },
    "colab": {
      "name": "Audio_Classification_Part1_2.ipynb",
      "provenance": [],
      "collapsed_sections": []
    }
  },
  "cells": [
    {
      "cell_type": "markdown",
      "metadata": {
        "id": "cardiovascular-study"
      },
      "source": [
        "# Audio Classification \n",
        "\n",
        "Dataset here [https://urbansounddataset.weebly.com/](https://urbansounddataset.weebly.com/)"
      ],
      "id": "cardiovascular-study"
    },
    {
      "cell_type": "markdown",
      "metadata": {
        "id": "NPqtI5BBrZvG"
      },
      "source": [
        "## Data Preprocessing"
      ],
      "id": "NPqtI5BBrZvG"
    },
    {
      "cell_type": "markdown",
      "metadata": {
        "id": "applicable-priest"
      },
      "source": [
        "### Features Extraction\n"
      ],
      "id": "applicable-priest"
    },
    {
      "cell_type": "code",
      "metadata": {
        "id": "liberal-journalist"
      },
      "source": [
        "# Pkgs loading\n",
        "import pandas as pd\n",
        "import os\n",
        "import librosa\n",
        "import numpy as np\n",
        "from tqdm import tqdm"
      ],
      "id": "liberal-journalist",
      "execution_count": 137,
      "outputs": []
    },
    {
      "cell_type": "code",
      "metadata": {
        "colab": {
          "base_uri": "https://localhost:8080/"
        },
        "id": "mDbMppd3qg4c",
        "outputId": "9f9e05ff-274d-4691-a267-dec67e4f8f24"
      },
      "source": [
        "from google.colab import drive\n",
        "drive.mount('/content/drive')"
      ],
      "id": "mDbMppd3qg4c",
      "execution_count": 138,
      "outputs": [
        {
          "output_type": "stream",
          "text": [
            "Drive already mounted at /content/drive; to attempt to forcibly remount, call drive.mount(\"/content/drive\", force_remount=True).\n"
          ],
          "name": "stdout"
        }
      ]
    },
    {
      "cell_type": "code",
      "metadata": {
        "id": "Zf_xqeZJr3hR",
        "colab": {
          "base_uri": "https://localhost:8080/",
          "height": 206
        },
        "outputId": "f17b3dc1-1dbc-4e3a-aaa6-2a7e2eb4e97e"
      },
      "source": [
        "audio_dataset_path='/content/drive/MyDrive/UrbanSound8K/audio'\n",
        "metadata=pd.read_csv('/content/drive/MyDrive/UrbanSound8K/metadata/UrbanSound8K.csv')\n",
        "metadata.head()"
      ],
      "id": "Zf_xqeZJr3hR",
      "execution_count": 139,
      "outputs": [
        {
          "output_type": "execute_result",
          "data": {
            "text/html": [
              "<div>\n",
              "<style scoped>\n",
              "    .dataframe tbody tr th:only-of-type {\n",
              "        vertical-align: middle;\n",
              "    }\n",
              "\n",
              "    .dataframe tbody tr th {\n",
              "        vertical-align: top;\n",
              "    }\n",
              "\n",
              "    .dataframe thead th {\n",
              "        text-align: right;\n",
              "    }\n",
              "</style>\n",
              "<table border=\"1\" class=\"dataframe\">\n",
              "  <thead>\n",
              "    <tr style=\"text-align: right;\">\n",
              "      <th></th>\n",
              "      <th>slice_file_name</th>\n",
              "      <th>fsID</th>\n",
              "      <th>start</th>\n",
              "      <th>end</th>\n",
              "      <th>salience</th>\n",
              "      <th>fold</th>\n",
              "      <th>classID</th>\n",
              "      <th>class</th>\n",
              "    </tr>\n",
              "  </thead>\n",
              "  <tbody>\n",
              "    <tr>\n",
              "      <th>0</th>\n",
              "      <td>100032-3-0-0.wav</td>\n",
              "      <td>100032</td>\n",
              "      <td>0.0</td>\n",
              "      <td>0.317551</td>\n",
              "      <td>1</td>\n",
              "      <td>5</td>\n",
              "      <td>3</td>\n",
              "      <td>dog_bark</td>\n",
              "    </tr>\n",
              "    <tr>\n",
              "      <th>1</th>\n",
              "      <td>100263-2-0-117.wav</td>\n",
              "      <td>100263</td>\n",
              "      <td>58.5</td>\n",
              "      <td>62.500000</td>\n",
              "      <td>1</td>\n",
              "      <td>5</td>\n",
              "      <td>2</td>\n",
              "      <td>children_playing</td>\n",
              "    </tr>\n",
              "    <tr>\n",
              "      <th>2</th>\n",
              "      <td>100263-2-0-121.wav</td>\n",
              "      <td>100263</td>\n",
              "      <td>60.5</td>\n",
              "      <td>64.500000</td>\n",
              "      <td>1</td>\n",
              "      <td>5</td>\n",
              "      <td>2</td>\n",
              "      <td>children_playing</td>\n",
              "    </tr>\n",
              "    <tr>\n",
              "      <th>3</th>\n",
              "      <td>100263-2-0-126.wav</td>\n",
              "      <td>100263</td>\n",
              "      <td>63.0</td>\n",
              "      <td>67.000000</td>\n",
              "      <td>1</td>\n",
              "      <td>5</td>\n",
              "      <td>2</td>\n",
              "      <td>children_playing</td>\n",
              "    </tr>\n",
              "    <tr>\n",
              "      <th>4</th>\n",
              "      <td>100263-2-0-137.wav</td>\n",
              "      <td>100263</td>\n",
              "      <td>68.5</td>\n",
              "      <td>72.500000</td>\n",
              "      <td>1</td>\n",
              "      <td>5</td>\n",
              "      <td>2</td>\n",
              "      <td>children_playing</td>\n",
              "    </tr>\n",
              "  </tbody>\n",
              "</table>\n",
              "</div>"
            ],
            "text/plain": [
              "      slice_file_name    fsID  start  ...  fold  classID             class\n",
              "0    100032-3-0-0.wav  100032    0.0  ...     5        3          dog_bark\n",
              "1  100263-2-0-117.wav  100263   58.5  ...     5        2  children_playing\n",
              "2  100263-2-0-121.wav  100263   60.5  ...     5        2  children_playing\n",
              "3  100263-2-0-126.wav  100263   63.0  ...     5        2  children_playing\n",
              "4  100263-2-0-137.wav  100263   68.5  ...     5        2  children_playing\n",
              "\n",
              "[5 rows x 8 columns]"
            ]
          },
          "metadata": {
            "tags": []
          },
          "execution_count": 139
        }
      ]
    },
    {
      "cell_type": "code",
      "metadata": {
        "id": "S7ygvg0_xoDL",
        "colab": {
          "base_uri": "https://localhost:8080/"
        },
        "outputId": "29781d43-0dc8-4ef2-c48d-f9bb6406d3c3"
      },
      "source": [
        "# Dataset Balancing/Imbalancing Check\n",
        "metadata['class'].value_counts()"
      ],
      "id": "S7ygvg0_xoDL",
      "execution_count": 140,
      "outputs": [
        {
          "output_type": "execute_result",
          "data": {
            "text/plain": [
              "street_music        1000\n",
              "air_conditioner     1000\n",
              "engine_idling       1000\n",
              "jackhammer          1000\n",
              "drilling            1000\n",
              "dog_bark            1000\n",
              "children_playing    1000\n",
              "siren                929\n",
              "car_horn             429\n",
              "gun_shot             374\n",
              "Name: class, dtype: int64"
            ]
          },
          "metadata": {
            "tags": []
          },
          "execution_count": 140
        }
      ]
    },
    {
      "cell_type": "code",
      "metadata": {
        "id": "chinese-calendar"
      },
      "source": [
        "# Extracting MFCC's For every audio file\n",
        "def features_extractor(file_name):\n",
        "    audio, sample_rate = librosa.load(file_name, res_type='kaiser_fast') \n",
        "    mfccs_features = librosa.feature.mfcc(y=audio, sr=sample_rate, n_mfcc=40)\n",
        "    mfccs_scaled_features = np.mean(mfccs_features.T,axis=0)\n",
        "    \n",
        "    return mfccs_scaled_features"
      ],
      "id": "chinese-calendar",
      "execution_count": 141,
      "outputs": []
    },
    {
      "cell_type": "code",
      "metadata": {
        "id": "nuclear-sponsorship",
        "colab": {
          "base_uri": "https://localhost:8080/"
        },
        "outputId": "4e08db99-0d1f-4847-ad2a-50cb9a8afc5f"
      },
      "source": [
        "# Features extraction from all audio files (MFCC)\n",
        "extracted_features=[]\n",
        "for index_num,row in tqdm(metadata.iterrows()):\n",
        "    file_name = os.path.join(os.path.abspath(audio_dataset_path),'fold'+str(row[\"fold\"])+'/',str(row[\"slice_file_name\"]))\n",
        "    final_class_labels=row[\"class\"]\n",
        "    data=features_extractor(file_name)\n",
        "    extracted_features.append([data,final_class_labels])"
      ],
      "id": "nuclear-sponsorship",
      "execution_count": null,
      "outputs": [
        {
          "output_type": "stream",
          "text": [
            "3555it [54:16,  1.11it/s]/usr/local/lib/python3.7/dist-packages/librosa/core/spectrum.py:224: UserWarning: n_fft=2048 is too small for input signal of length=1323\n",
            "  n_fft, y.shape[-1]\n",
            "8326it [2:03:48,  1.54it/s]/usr/local/lib/python3.7/dist-packages/librosa/core/spectrum.py:224: UserWarning: n_fft=2048 is too small for input signal of length=1103\n",
            "  n_fft, y.shape[-1]\n",
            "8329it [2:03:49,  2.25it/s]/usr/local/lib/python3.7/dist-packages/librosa/core/spectrum.py:224: UserWarning: n_fft=2048 is too small for input signal of length=1523\n",
            "  n_fft, y.shape[-1]\n",
            "8732it [2:10:01,  1.12it/s]\n"
          ],
          "name": "stderr"
        }
      ]
    },
    {
      "cell_type": "code",
      "metadata": {
        "id": "acoustic-wagner",
        "colab": {
          "base_uri": "https://localhost:8080/",
          "height": 206
        },
        "outputId": "8817a08a-0540-48a5-fceb-f7f409f7524a"
      },
      "source": [
        "# Converting extracted_features to Pandas dataframe\n",
        "extracted_features_df=pd.DataFrame(extracted_features,columns=['feature','class'])\n",
        "extracted_features_df.head()"
      ],
      "id": "acoustic-wagner",
      "execution_count": 142,
      "outputs": [
        {
          "output_type": "execute_result",
          "data": {
            "text/html": [
              "<div>\n",
              "<style scoped>\n",
              "    .dataframe tbody tr th:only-of-type {\n",
              "        vertical-align: middle;\n",
              "    }\n",
              "\n",
              "    .dataframe tbody tr th {\n",
              "        vertical-align: top;\n",
              "    }\n",
              "\n",
              "    .dataframe thead th {\n",
              "        text-align: right;\n",
              "    }\n",
              "</style>\n",
              "<table border=\"1\" class=\"dataframe\">\n",
              "  <thead>\n",
              "    <tr style=\"text-align: right;\">\n",
              "      <th></th>\n",
              "      <th>feature</th>\n",
              "      <th>class</th>\n",
              "    </tr>\n",
              "  </thead>\n",
              "  <tbody>\n",
              "    <tr>\n",
              "      <th>0</th>\n",
              "      <td>[-215.79301, 71.66612, -131.81377, -52.09133, ...</td>\n",
              "      <td>dog_bark</td>\n",
              "    </tr>\n",
              "    <tr>\n",
              "      <th>1</th>\n",
              "      <td>[-424.68677, 110.56227, -54.14824, 62.01074, -...</td>\n",
              "      <td>children_playing</td>\n",
              "    </tr>\n",
              "    <tr>\n",
              "      <th>2</th>\n",
              "      <td>[-459.56467, 122.80034, -47.92471, 53.265705, ...</td>\n",
              "      <td>children_playing</td>\n",
              "    </tr>\n",
              "    <tr>\n",
              "      <th>3</th>\n",
              "      <td>[-414.55377, 102.896904, -36.66495, 54.18041, ...</td>\n",
              "      <td>children_playing</td>\n",
              "    </tr>\n",
              "    <tr>\n",
              "      <th>4</th>\n",
              "      <td>[-447.397, 115.0954, -53.809113, 61.60859, 1.6...</td>\n",
              "      <td>children_playing</td>\n",
              "    </tr>\n",
              "  </tbody>\n",
              "</table>\n",
              "</div>"
            ],
            "text/plain": [
              "                                             feature             class\n",
              "0  [-215.79301, 71.66612, -131.81377, -52.09133, ...          dog_bark\n",
              "1  [-424.68677, 110.56227, -54.14824, 62.01074, -...  children_playing\n",
              "2  [-459.56467, 122.80034, -47.92471, 53.265705, ...  children_playing\n",
              "3  [-414.55377, 102.896904, -36.66495, 54.18041, ...  children_playing\n",
              "4  [-447.397, 115.0954, -53.809113, 61.60859, 1.6...  children_playing"
            ]
          },
          "metadata": {
            "tags": []
          },
          "execution_count": 142
        }
      ]
    },
    {
      "cell_type": "code",
      "metadata": {
        "id": "jC2WMna1xbsi"
      },
      "source": [
        "# Data Frame Saving\n",
        "extracted_features_df.to_csv(\"UrbanSound8K_DF.csv\")"
      ],
      "id": "jC2WMna1xbsi",
      "execution_count": 143,
      "outputs": []
    },
    {
      "cell_type": "markdown",
      "metadata": {
        "id": "8Ak54TtVsgKL"
      },
      "source": [
        "### Data Splitting and encoding"
      ],
      "id": "8Ak54TtVsgKL"
    },
    {
      "cell_type": "code",
      "metadata": {
        "id": "characteristic-sudan"
      },
      "source": [
        "# Data Splitting\n",
        "X=np.array(extracted_features_df['feature'].tolist())\n",
        "y=np.array(extracted_features_df['class'].tolist())"
      ],
      "id": "characteristic-sudan",
      "execution_count": 190,
      "outputs": []
    },
    {
      "cell_type": "code",
      "metadata": {
        "id": "friendly-placement",
        "colab": {
          "base_uri": "https://localhost:8080/"
        },
        "outputId": "90bdd55a-8c6b-405f-cc41-67c8a04ad369"
      },
      "source": [
        "X.shape"
      ],
      "id": "friendly-placement",
      "execution_count": 191,
      "outputs": [
        {
          "output_type": "execute_result",
          "data": {
            "text/plain": [
              "(8732, 40)"
            ]
          },
          "metadata": {
            "tags": []
          },
          "execution_count": 191
        }
      ]
    },
    {
      "cell_type": "code",
      "metadata": {
        "id": "japanese-cheese",
        "colab": {
          "base_uri": "https://localhost:8080/"
        },
        "outputId": "de86b51a-e6a1-4c8a-f6eb-c2f704afac6a"
      },
      "source": [
        "y"
      ],
      "id": "japanese-cheese",
      "execution_count": 192,
      "outputs": [
        {
          "output_type": "execute_result",
          "data": {
            "text/plain": [
              "array(['dog_bark', 'children_playing', 'children_playing', ...,\n",
              "       'car_horn', 'car_horn', 'car_horn'], dtype='<U16')"
            ]
          },
          "metadata": {
            "tags": []
          },
          "execution_count": 192
        }
      ]
    },
    {
      "cell_type": "code",
      "metadata": {
        "id": "wired-church"
      },
      "source": [
        "# Label Encoding\n",
        "from tensorflow.keras.utils import to_categorical\n",
        "from sklearn.preprocessing import LabelEncoder\n",
        "labelencoder=LabelEncoder()\n",
        "y=to_categorical(labelencoder.fit_transform(y))"
      ],
      "id": "wired-church",
      "execution_count": 193,
      "outputs": []
    },
    {
      "cell_type": "code",
      "metadata": {
        "id": "sitting-anniversary",
        "colab": {
          "base_uri": "https://localhost:8080/"
        },
        "outputId": "a4f90e8f-1993-4126-921d-210262665a2c"
      },
      "source": [
        "y"
      ],
      "id": "sitting-anniversary",
      "execution_count": 194,
      "outputs": [
        {
          "output_type": "execute_result",
          "data": {
            "text/plain": [
              "array([[0., 0., 0., ..., 0., 0., 0.],\n",
              "       [0., 0., 1., ..., 0., 0., 0.],\n",
              "       [0., 0., 1., ..., 0., 0., 0.],\n",
              "       ...,\n",
              "       [0., 1., 0., ..., 0., 0., 0.],\n",
              "       [0., 1., 0., ..., 0., 0., 0.],\n",
              "       [0., 1., 0., ..., 0., 0., 0.]], dtype=float32)"
            ]
          },
          "metadata": {
            "tags": []
          },
          "execution_count": 194
        }
      ]
    },
    {
      "cell_type": "code",
      "metadata": {
        "id": "documentary-priority"
      },
      "source": [
        "# Training Testing Sets\n",
        "from sklearn.model_selection import train_test_split\n",
        "X_train,X_test,y_train,y_test=train_test_split(X,y,test_size=0.2,random_state=0)"
      ],
      "id": "documentary-priority",
      "execution_count": 195,
      "outputs": []
    },
    {
      "cell_type": "code",
      "metadata": {
        "id": "analyzed-payday",
        "colab": {
          "base_uri": "https://localhost:8080/"
        },
        "outputId": "2d9bd9ef-a727-4c96-9976-f16df9480756"
      },
      "source": [
        "X_train"
      ],
      "id": "analyzed-payday",
      "execution_count": 196,
      "outputs": [
        {
          "output_type": "execute_result",
          "data": {
            "text/plain": [
              "array([[-1.3183614e+02,  1.1397464e+02, -2.3956861e+01, ...,\n",
              "         3.3314774e+00, -1.4786109e+00,  2.8736603e+00],\n",
              "       [-1.4074220e+01,  9.1916939e+01, -8.6787224e+00, ...,\n",
              "        -3.3844025e+00, -5.2119040e+00, -1.5936136e+00],\n",
              "       [-4.9532028e+01,  1.5521857e-01, -2.0369110e+01, ...,\n",
              "         2.0491767e+00, -8.0537486e-01,  2.7793026e+00],\n",
              "       ...,\n",
              "       [-4.2699329e+02,  9.2890648e+01,  3.0233374e+00, ...,\n",
              "         8.6335999e-01,  6.4766812e-01,  7.8490508e-01],\n",
              "       [-1.4607024e+02,  1.3709459e+02, -3.4298344e+01, ...,\n",
              "         1.3777871e+00, -1.9530845e+00, -8.9652115e-01],\n",
              "       [-4.2167450e+02,  2.1169034e+02,  2.6820309e+00, ...,\n",
              "        -5.1484947e+00, -3.6400862e+00, -1.3321607e+00]], dtype=float32)"
            ]
          },
          "metadata": {
            "tags": []
          },
          "execution_count": 196
        }
      ]
    },
    {
      "cell_type": "code",
      "metadata": {
        "id": "flexible-lithuania",
        "colab": {
          "base_uri": "https://localhost:8080/"
        },
        "outputId": "c405ff19-a810-44ee-8839-7fb7b3d69752"
      },
      "source": [
        "X_train.shape"
      ],
      "id": "flexible-lithuania",
      "execution_count": 197,
      "outputs": [
        {
          "output_type": "execute_result",
          "data": {
            "text/plain": [
              "(6985, 40)"
            ]
          },
          "metadata": {
            "tags": []
          },
          "execution_count": 197
        }
      ]
    },
    {
      "cell_type": "code",
      "metadata": {
        "id": "instrumental-equity",
        "colab": {
          "base_uri": "https://localhost:8080/"
        },
        "outputId": "b1d0d19b-90fe-40c9-b4d0-cbd7adc598ac"
      },
      "source": [
        "X_test.shape"
      ],
      "id": "instrumental-equity",
      "execution_count": 198,
      "outputs": [
        {
          "output_type": "execute_result",
          "data": {
            "text/plain": [
              "(1747, 40)"
            ]
          },
          "metadata": {
            "tags": []
          },
          "execution_count": 198
        }
      ]
    },
    {
      "cell_type": "code",
      "metadata": {
        "id": "chemical-vermont",
        "colab": {
          "base_uri": "https://localhost:8080/"
        },
        "outputId": "1588d9c5-d758-42c3-9bed-3d5b96920bdc"
      },
      "source": [
        "y_train.shape"
      ],
      "id": "chemical-vermont",
      "execution_count": 199,
      "outputs": [
        {
          "output_type": "execute_result",
          "data": {
            "text/plain": [
              "(6985, 10)"
            ]
          },
          "metadata": {
            "tags": []
          },
          "execution_count": 199
        }
      ]
    },
    {
      "cell_type": "code",
      "metadata": {
        "id": "governing-natural",
        "colab": {
          "base_uri": "https://localhost:8080/"
        },
        "outputId": "ba4b85a1-39ce-48b1-eab7-2046a97ec6e3"
      },
      "source": [
        "y_test.shape"
      ],
      "id": "governing-natural",
      "execution_count": 200,
      "outputs": [
        {
          "output_type": "execute_result",
          "data": {
            "text/plain": [
              "(1747, 10)"
            ]
          },
          "metadata": {
            "tags": []
          },
          "execution_count": 200
        }
      ]
    },
    {
      "cell_type": "markdown",
      "metadata": {
        "id": "BgKF10EaWB_U"
      },
      "source": [
        "### Model Creation"
      ],
      "id": "BgKF10EaWB_U"
    },
    {
      "cell_type": "code",
      "metadata": {
        "id": "dqkR5bqPBMBQ",
        "colab": {
          "base_uri": "https://localhost:8080/"
        },
        "outputId": "a2bc0527-4a51-4685-d535-87c26957e2f8"
      },
      "source": [
        "import tensorflow as tf\n",
        "print(tf.__version__)"
      ],
      "id": "dqkR5bqPBMBQ",
      "execution_count": 201,
      "outputs": [
        {
          "output_type": "stream",
          "text": [
            "2.4.1\n"
          ],
          "name": "stdout"
        }
      ]
    },
    {
      "cell_type": "code",
      "metadata": {
        "id": "1UnfDKJsWK19"
      },
      "source": [
        "from tensorflow.keras.models import Sequential\n",
        "from tensorflow.keras.layers import Dense,Dropout,Activation\n",
        "from sklearn import metrics"
      ],
      "id": "1UnfDKJsWK19",
      "execution_count": 202,
      "outputs": []
    },
    {
      "cell_type": "code",
      "metadata": {
        "colab": {
          "base_uri": "https://localhost:8080/"
        },
        "id": "BufirgXwWOIk",
        "outputId": "eebe29b8-6eb6-4072-837d-407244ce965a"
      },
      "source": [
        "# No of classes\n",
        "num_labels=y.shape[1]\n",
        "print(num_labels)"
      ],
      "id": "BufirgXwWOIk",
      "execution_count": 203,
      "outputs": [
        {
          "output_type": "stream",
          "text": [
            "10\n"
          ],
          "name": "stdout"
        }
      ]
    },
    {
      "cell_type": "code",
      "metadata": {
        "id": "P18Z7qE0WzI1"
      },
      "source": [
        "model=Sequential()\n",
        "#first layer\n",
        "model.add(Dense(1600,input_shape=(40,)))\n",
        "model.add(Activation('relu'))\n",
        "model.add(Dropout(0.5))\n",
        "#second layer\n",
        "model.add(Dense(800))\n",
        "model.add(Activation('relu'))\n",
        "model.add(Dropout(0.5))\n",
        "#third layer\n",
        "model.add(Dense(400))\n",
        "model.add(Activation('relu'))\n",
        "model.add(Dropout(0.5))\n",
        "\n",
        "#final layer\n",
        "model.add(Dense(num_labels))\n",
        "model.add(Activation('softmax'))"
      ],
      "id": "P18Z7qE0WzI1",
      "execution_count": 204,
      "outputs": []
    },
    {
      "cell_type": "code",
      "metadata": {
        "colab": {
          "base_uri": "https://localhost:8080/"
        },
        "id": "2uzAtNGQXzNu",
        "outputId": "7a779670-ff20-4049-8251-2a92c5ba4808"
      },
      "source": [
        "model.summary()"
      ],
      "id": "2uzAtNGQXzNu",
      "execution_count": 205,
      "outputs": [
        {
          "output_type": "stream",
          "text": [
            "Model: \"sequential_13\"\n",
            "_________________________________________________________________\n",
            "Layer (type)                 Output Shape              Param #   \n",
            "=================================================================\n",
            "dense_47 (Dense)             (None, 1600)              65600     \n",
            "_________________________________________________________________\n",
            "activation_43 (Activation)   (None, 1600)              0         \n",
            "_________________________________________________________________\n",
            "dropout_34 (Dropout)         (None, 1600)              0         \n",
            "_________________________________________________________________\n",
            "dense_48 (Dense)             (None, 800)               1280800   \n",
            "_________________________________________________________________\n",
            "activation_44 (Activation)   (None, 800)               0         \n",
            "_________________________________________________________________\n",
            "dropout_35 (Dropout)         (None, 800)               0         \n",
            "_________________________________________________________________\n",
            "dense_49 (Dense)             (None, 400)               320400    \n",
            "_________________________________________________________________\n",
            "activation_45 (Activation)   (None, 400)               0         \n",
            "_________________________________________________________________\n",
            "dropout_36 (Dropout)         (None, 400)               0         \n",
            "_________________________________________________________________\n",
            "dense_50 (Dense)             (None, 10)                4010      \n",
            "_________________________________________________________________\n",
            "activation_46 (Activation)   (None, 10)                0         \n",
            "=================================================================\n",
            "Total params: 1,670,810\n",
            "Trainable params: 1,670,810\n",
            "Non-trainable params: 0\n",
            "_________________________________________________________________\n"
          ],
          "name": "stdout"
        }
      ]
    },
    {
      "cell_type": "code",
      "metadata": {
        "id": "nTIirDNfX4V_"
      },
      "source": [
        "model.compile(loss='categorical_crossentropy',metrics=['accuracy'],optimizer='adam')"
      ],
      "id": "nTIirDNfX4V_",
      "execution_count": 206,
      "outputs": []
    },
    {
      "cell_type": "code",
      "metadata": {
        "id": "4A8jg3f0X86z"
      },
      "source": [
        "# Model training\n",
        "from tensorflow.keras.callbacks import ModelCheckpoint\n",
        "from datetime import datetime "
      ],
      "id": "4A8jg3f0X86z",
      "execution_count": 207,
      "outputs": []
    },
    {
      "cell_type": "code",
      "metadata": {
        "colab": {
          "base_uri": "https://localhost:8080/"
        },
        "id": "u0e36g3_YDVD",
        "outputId": "951caaef-d67f-449c-c365-e3691ade92df"
      },
      "source": [
        "num_epochs = 100\n",
        "num_batch_size = 128\n",
        "\n",
        "checkpointer = ModelCheckpoint(filepath='saved_models/audio_classification.h5', verbose=1, save_best_only=True)\n",
        "start = datetime.now()\n",
        "\n",
        "model.fit(X_train, y_train, batch_size=num_batch_size, epochs=num_epochs, validation_data=(X_test, y_test), callbacks=[checkpointer], verbose=1)\n",
        "\n",
        "\n",
        "duration = datetime.now() - start\n",
        "print(\"Training completed in time: \", duration)"
      ],
      "id": "u0e36g3_YDVD",
      "execution_count": 208,
      "outputs": [
        {
          "output_type": "stream",
          "text": [
            "Epoch 1/100\n",
            "55/55 [==============================] - 3s 43ms/step - loss: 10.7406 - accuracy: 0.1536 - val_loss: 1.9174 - val_accuracy: 0.3263\n",
            "\n",
            "Epoch 00001: val_loss improved from inf to 1.91741, saving model to saved_models/audio_classification.h5\n",
            "Epoch 2/100\n",
            "55/55 [==============================] - 2s 37ms/step - loss: 2.2718 - accuracy: 0.2798 - val_loss: 1.8100 - val_accuracy: 0.4493\n",
            "\n",
            "Epoch 00002: val_loss improved from 1.91741 to 1.81002, saving model to saved_models/audio_classification.h5\n",
            "Epoch 3/100\n",
            "55/55 [==============================] - 2s 37ms/step - loss: 1.9334 - accuracy: 0.3466 - val_loss: 1.6151 - val_accuracy: 0.4951\n",
            "\n",
            "Epoch 00003: val_loss improved from 1.81002 to 1.61509, saving model to saved_models/audio_classification.h5\n",
            "Epoch 4/100\n",
            "55/55 [==============================] - 2s 37ms/step - loss: 1.7457 - accuracy: 0.3927 - val_loss: 1.4736 - val_accuracy: 0.5369\n",
            "\n",
            "Epoch 00004: val_loss improved from 1.61509 to 1.47364, saving model to saved_models/audio_classification.h5\n",
            "Epoch 5/100\n",
            "55/55 [==============================] - 2s 38ms/step - loss: 1.6008 - accuracy: 0.4361 - val_loss: 1.3659 - val_accuracy: 0.5764\n",
            "\n",
            "Epoch 00005: val_loss improved from 1.47364 to 1.36589, saving model to saved_models/audio_classification.h5\n",
            "Epoch 6/100\n",
            "55/55 [==============================] - 2s 37ms/step - loss: 1.4794 - accuracy: 0.4889 - val_loss: 1.2763 - val_accuracy: 0.5976\n",
            "\n",
            "Epoch 00006: val_loss improved from 1.36589 to 1.27627, saving model to saved_models/audio_classification.h5\n",
            "Epoch 7/100\n",
            "55/55 [==============================] - 2s 37ms/step - loss: 1.3998 - accuracy: 0.5203 - val_loss: 1.1660 - val_accuracy: 0.6445\n",
            "\n",
            "Epoch 00007: val_loss improved from 1.27627 to 1.16600, saving model to saved_models/audio_classification.h5\n",
            "Epoch 8/100\n",
            "55/55 [==============================] - 2s 37ms/step - loss: 1.2979 - accuracy: 0.5459 - val_loss: 1.0927 - val_accuracy: 0.6440\n",
            "\n",
            "Epoch 00008: val_loss improved from 1.16600 to 1.09266, saving model to saved_models/audio_classification.h5\n",
            "Epoch 9/100\n",
            "55/55 [==============================] - 2s 36ms/step - loss: 1.2352 - accuracy: 0.5786 - val_loss: 1.0003 - val_accuracy: 0.6840\n",
            "\n",
            "Epoch 00009: val_loss improved from 1.09266 to 1.00033, saving model to saved_models/audio_classification.h5\n",
            "Epoch 10/100\n",
            "55/55 [==============================] - 2s 37ms/step - loss: 1.1542 - accuracy: 0.6152 - val_loss: 0.9366 - val_accuracy: 0.7195\n",
            "\n",
            "Epoch 00010: val_loss improved from 1.00033 to 0.93656, saving model to saved_models/audio_classification.h5\n",
            "Epoch 11/100\n",
            "55/55 [==============================] - 2s 37ms/step - loss: 1.0746 - accuracy: 0.6387 - val_loss: 0.8951 - val_accuracy: 0.7144\n",
            "\n",
            "Epoch 00011: val_loss improved from 0.93656 to 0.89507, saving model to saved_models/audio_classification.h5\n",
            "Epoch 12/100\n",
            "55/55 [==============================] - 2s 36ms/step - loss: 1.0052 - accuracy: 0.6680 - val_loss: 0.8324 - val_accuracy: 0.7367\n",
            "\n",
            "Epoch 00012: val_loss improved from 0.89507 to 0.83236, saving model to saved_models/audio_classification.h5\n",
            "Epoch 13/100\n",
            "55/55 [==============================] - 2s 38ms/step - loss: 0.9491 - accuracy: 0.6787 - val_loss: 0.8225 - val_accuracy: 0.7333\n",
            "\n",
            "Epoch 00013: val_loss improved from 0.83236 to 0.82250, saving model to saved_models/audio_classification.h5\n",
            "Epoch 14/100\n",
            "55/55 [==============================] - 2s 37ms/step - loss: 0.9262 - accuracy: 0.6905 - val_loss: 0.7759 - val_accuracy: 0.7739\n",
            "\n",
            "Epoch 00014: val_loss improved from 0.82250 to 0.77586, saving model to saved_models/audio_classification.h5\n",
            "Epoch 15/100\n",
            "55/55 [==============================] - 2s 37ms/step - loss: 0.9130 - accuracy: 0.6893 - val_loss: 0.7332 - val_accuracy: 0.7699\n",
            "\n",
            "Epoch 00015: val_loss improved from 0.77586 to 0.73316, saving model to saved_models/audio_classification.h5\n",
            "Epoch 16/100\n",
            "55/55 [==============================] - 2s 37ms/step - loss: 0.8469 - accuracy: 0.7133 - val_loss: 0.7182 - val_accuracy: 0.7750\n",
            "\n",
            "Epoch 00016: val_loss improved from 0.73316 to 0.71821, saving model to saved_models/audio_classification.h5\n",
            "Epoch 17/100\n",
            "55/55 [==============================] - 2s 37ms/step - loss: 0.8073 - accuracy: 0.7270 - val_loss: 0.6604 - val_accuracy: 0.7882\n",
            "\n",
            "Epoch 00017: val_loss improved from 0.71821 to 0.66039, saving model to saved_models/audio_classification.h5\n",
            "Epoch 18/100\n",
            "55/55 [==============================] - 2s 37ms/step - loss: 0.7852 - accuracy: 0.7328 - val_loss: 0.6577 - val_accuracy: 0.7997\n",
            "\n",
            "Epoch 00018: val_loss improved from 0.66039 to 0.65771, saving model to saved_models/audio_classification.h5\n",
            "Epoch 19/100\n",
            "55/55 [==============================] - 2s 37ms/step - loss: 0.7574 - accuracy: 0.7457 - val_loss: 0.6311 - val_accuracy: 0.8105\n",
            "\n",
            "Epoch 00019: val_loss improved from 0.65771 to 0.63106, saving model to saved_models/audio_classification.h5\n",
            "Epoch 20/100\n",
            "55/55 [==============================] - 2s 37ms/step - loss: 0.7390 - accuracy: 0.7562 - val_loss: 0.6066 - val_accuracy: 0.8037\n",
            "\n",
            "Epoch 00020: val_loss improved from 0.63106 to 0.60664, saving model to saved_models/audio_classification.h5\n",
            "Epoch 21/100\n",
            "55/55 [==============================] - 2s 37ms/step - loss: 0.7134 - accuracy: 0.7620 - val_loss: 0.5665 - val_accuracy: 0.8260\n",
            "\n",
            "Epoch 00021: val_loss improved from 0.60664 to 0.56653, saving model to saved_models/audio_classification.h5\n",
            "Epoch 22/100\n",
            "55/55 [==============================] - 2s 37ms/step - loss: 0.6636 - accuracy: 0.7739 - val_loss: 0.5702 - val_accuracy: 0.8140\n",
            "\n",
            "Epoch 00022: val_loss did not improve from 0.56653\n",
            "Epoch 23/100\n",
            "55/55 [==============================] - 2s 37ms/step - loss: 0.6411 - accuracy: 0.7767 - val_loss: 0.5540 - val_accuracy: 0.8294\n",
            "\n",
            "Epoch 00023: val_loss improved from 0.56653 to 0.55396, saving model to saved_models/audio_classification.h5\n",
            "Epoch 24/100\n",
            "55/55 [==============================] - 2s 38ms/step - loss: 0.6391 - accuracy: 0.7805 - val_loss: 0.5492 - val_accuracy: 0.8197\n",
            "\n",
            "Epoch 00024: val_loss improved from 0.55396 to 0.54921, saving model to saved_models/audio_classification.h5\n",
            "Epoch 25/100\n",
            "55/55 [==============================] - 2s 37ms/step - loss: 0.6108 - accuracy: 0.7922 - val_loss: 0.5433 - val_accuracy: 0.8351\n",
            "\n",
            "Epoch 00025: val_loss improved from 0.54921 to 0.54330, saving model to saved_models/audio_classification.h5\n",
            "Epoch 26/100\n",
            "55/55 [==============================] - 2s 37ms/step - loss: 0.5866 - accuracy: 0.7982 - val_loss: 0.5368 - val_accuracy: 0.8294\n",
            "\n",
            "Epoch 00026: val_loss improved from 0.54330 to 0.53676, saving model to saved_models/audio_classification.h5\n",
            "Epoch 27/100\n",
            "55/55 [==============================] - 2s 37ms/step - loss: 0.5721 - accuracy: 0.8003 - val_loss: 0.5242 - val_accuracy: 0.8323\n",
            "\n",
            "Epoch 00027: val_loss improved from 0.53676 to 0.52415, saving model to saved_models/audio_classification.h5\n",
            "Epoch 28/100\n",
            "55/55 [==============================] - 2s 38ms/step - loss: 0.5782 - accuracy: 0.8055 - val_loss: 0.5099 - val_accuracy: 0.8351\n",
            "\n",
            "Epoch 00028: val_loss improved from 0.52415 to 0.50991, saving model to saved_models/audio_classification.h5\n",
            "Epoch 29/100\n",
            "55/55 [==============================] - 2s 38ms/step - loss: 0.5578 - accuracy: 0.8083 - val_loss: 0.4768 - val_accuracy: 0.8598\n",
            "\n",
            "Epoch 00029: val_loss improved from 0.50991 to 0.47680, saving model to saved_models/audio_classification.h5\n",
            "Epoch 30/100\n",
            "55/55 [==============================] - 2s 37ms/step - loss: 0.5169 - accuracy: 0.8276 - val_loss: 0.4730 - val_accuracy: 0.8489\n",
            "\n",
            "Epoch 00030: val_loss improved from 0.47680 to 0.47298, saving model to saved_models/audio_classification.h5\n",
            "Epoch 31/100\n",
            "55/55 [==============================] - 2s 38ms/step - loss: 0.5285 - accuracy: 0.8195 - val_loss: 0.4515 - val_accuracy: 0.8569\n",
            "\n",
            "Epoch 00031: val_loss improved from 0.47298 to 0.45148, saving model to saved_models/audio_classification.h5\n",
            "Epoch 32/100\n",
            "55/55 [==============================] - 2s 37ms/step - loss: 0.5508 - accuracy: 0.8128 - val_loss: 0.4805 - val_accuracy: 0.8500\n",
            "\n",
            "Epoch 00032: val_loss did not improve from 0.45148\n",
            "Epoch 33/100\n",
            "55/55 [==============================] - 2s 38ms/step - loss: 0.5176 - accuracy: 0.8191 - val_loss: 0.4546 - val_accuracy: 0.8620\n",
            "\n",
            "Epoch 00033: val_loss did not improve from 0.45148\n",
            "Epoch 34/100\n",
            "55/55 [==============================] - 2s 37ms/step - loss: 0.5239 - accuracy: 0.8244 - val_loss: 0.4605 - val_accuracy: 0.8569\n",
            "\n",
            "Epoch 00034: val_loss did not improve from 0.45148\n",
            "Epoch 35/100\n",
            "55/55 [==============================] - 2s 38ms/step - loss: 0.4998 - accuracy: 0.8335 - val_loss: 0.4583 - val_accuracy: 0.8615\n",
            "\n",
            "Epoch 00035: val_loss did not improve from 0.45148\n",
            "Epoch 36/100\n",
            "55/55 [==============================] - 2s 38ms/step - loss: 0.5006 - accuracy: 0.8339 - val_loss: 0.4295 - val_accuracy: 0.8746\n",
            "\n",
            "Epoch 00036: val_loss improved from 0.45148 to 0.42947, saving model to saved_models/audio_classification.h5\n",
            "Epoch 37/100\n",
            "55/55 [==============================] - 2s 38ms/step - loss: 0.4582 - accuracy: 0.8393 - val_loss: 0.4364 - val_accuracy: 0.8701\n",
            "\n",
            "Epoch 00037: val_loss did not improve from 0.42947\n",
            "Epoch 38/100\n",
            "55/55 [==============================] - 2s 37ms/step - loss: 0.4286 - accuracy: 0.8518 - val_loss: 0.4531 - val_accuracy: 0.8626\n",
            "\n",
            "Epoch 00038: val_loss did not improve from 0.42947\n",
            "Epoch 39/100\n",
            "55/55 [==============================] - 2s 38ms/step - loss: 0.4819 - accuracy: 0.8327 - val_loss: 0.4012 - val_accuracy: 0.8735\n",
            "\n",
            "Epoch 00039: val_loss improved from 0.42947 to 0.40116, saving model to saved_models/audio_classification.h5\n",
            "Epoch 40/100\n",
            "55/55 [==============================] - 2s 37ms/step - loss: 0.4410 - accuracy: 0.8541 - val_loss: 0.4010 - val_accuracy: 0.8683\n",
            "\n",
            "Epoch 00040: val_loss improved from 0.40116 to 0.40097, saving model to saved_models/audio_classification.h5\n",
            "Epoch 41/100\n",
            "55/55 [==============================] - 2s 37ms/step - loss: 0.4170 - accuracy: 0.8549 - val_loss: 0.3903 - val_accuracy: 0.8781\n",
            "\n",
            "Epoch 00041: val_loss improved from 0.40097 to 0.39035, saving model to saved_models/audio_classification.h5\n",
            "Epoch 42/100\n",
            "55/55 [==============================] - 2s 37ms/step - loss: 0.4074 - accuracy: 0.8559 - val_loss: 0.4147 - val_accuracy: 0.8695\n",
            "\n",
            "Epoch 00042: val_loss did not improve from 0.39035\n",
            "Epoch 43/100\n",
            "55/55 [==============================] - 2s 38ms/step - loss: 0.4337 - accuracy: 0.8503 - val_loss: 0.4215 - val_accuracy: 0.8746\n",
            "\n",
            "Epoch 00043: val_loss did not improve from 0.39035\n",
            "Epoch 44/100\n",
            "55/55 [==============================] - 2s 38ms/step - loss: 0.4168 - accuracy: 0.8561 - val_loss: 0.3749 - val_accuracy: 0.8838\n",
            "\n",
            "Epoch 00044: val_loss improved from 0.39035 to 0.37487, saving model to saved_models/audio_classification.h5\n",
            "Epoch 45/100\n",
            "55/55 [==============================] - 2s 38ms/step - loss: 0.4198 - accuracy: 0.8633 - val_loss: 0.3890 - val_accuracy: 0.8844\n",
            "\n",
            "Epoch 00045: val_loss did not improve from 0.37487\n",
            "Epoch 46/100\n",
            "55/55 [==============================] - 2s 37ms/step - loss: 0.3972 - accuracy: 0.8639 - val_loss: 0.3601 - val_accuracy: 0.8872\n",
            "\n",
            "Epoch 00046: val_loss improved from 0.37487 to 0.36006, saving model to saved_models/audio_classification.h5\n",
            "Epoch 47/100\n",
            "55/55 [==============================] - 2s 37ms/step - loss: 0.3998 - accuracy: 0.8654 - val_loss: 0.3676 - val_accuracy: 0.8884\n",
            "\n",
            "Epoch 00047: val_loss did not improve from 0.36006\n",
            "Epoch 48/100\n",
            "55/55 [==============================] - 2s 37ms/step - loss: 0.4114 - accuracy: 0.8657 - val_loss: 0.3615 - val_accuracy: 0.8872\n",
            "\n",
            "Epoch 00048: val_loss did not improve from 0.36006\n",
            "Epoch 49/100\n",
            "55/55 [==============================] - 2s 37ms/step - loss: 0.3698 - accuracy: 0.8758 - val_loss: 0.3651 - val_accuracy: 0.8878\n",
            "\n",
            "Epoch 00049: val_loss did not improve from 0.36006\n",
            "Epoch 50/100\n",
            "55/55 [==============================] - 2s 37ms/step - loss: 0.4023 - accuracy: 0.8610 - val_loss: 0.3702 - val_accuracy: 0.8895\n",
            "\n",
            "Epoch 00050: val_loss did not improve from 0.36006\n",
            "Epoch 51/100\n",
            "55/55 [==============================] - 2s 38ms/step - loss: 0.3995 - accuracy: 0.8597 - val_loss: 0.3405 - val_accuracy: 0.8975\n",
            "\n",
            "Epoch 00051: val_loss improved from 0.36006 to 0.34050, saving model to saved_models/audio_classification.h5\n",
            "Epoch 52/100\n",
            "55/55 [==============================] - 2s 37ms/step - loss: 0.3595 - accuracy: 0.8768 - val_loss: 0.3632 - val_accuracy: 0.8941\n",
            "\n",
            "Epoch 00052: val_loss did not improve from 0.34050\n",
            "Epoch 53/100\n",
            "55/55 [==============================] - 2s 38ms/step - loss: 0.3637 - accuracy: 0.8725 - val_loss: 0.3598 - val_accuracy: 0.8907\n",
            "\n",
            "Epoch 00053: val_loss did not improve from 0.34050\n",
            "Epoch 54/100\n",
            "55/55 [==============================] - 2s 38ms/step - loss: 0.3315 - accuracy: 0.8859 - val_loss: 0.3361 - val_accuracy: 0.9021\n",
            "\n",
            "Epoch 00054: val_loss improved from 0.34050 to 0.33613, saving model to saved_models/audio_classification.h5\n",
            "Epoch 55/100\n",
            "55/55 [==============================] - 2s 37ms/step - loss: 0.3436 - accuracy: 0.8859 - val_loss: 0.3416 - val_accuracy: 0.8924\n",
            "\n",
            "Epoch 00055: val_loss did not improve from 0.33613\n",
            "Epoch 56/100\n",
            "55/55 [==============================] - 2s 37ms/step - loss: 0.3271 - accuracy: 0.8815 - val_loss: 0.3187 - val_accuracy: 0.9078\n",
            "\n",
            "Epoch 00056: val_loss improved from 0.33613 to 0.31869, saving model to saved_models/audio_classification.h5\n",
            "Epoch 57/100\n",
            "55/55 [==============================] - 2s 38ms/step - loss: 0.3385 - accuracy: 0.8880 - val_loss: 0.3587 - val_accuracy: 0.8952\n",
            "\n",
            "Epoch 00057: val_loss did not improve from 0.31869\n",
            "Epoch 58/100\n",
            "55/55 [==============================] - 2s 37ms/step - loss: 0.3482 - accuracy: 0.8757 - val_loss: 0.3538 - val_accuracy: 0.8907\n",
            "\n",
            "Epoch 00058: val_loss did not improve from 0.31869\n",
            "Epoch 59/100\n",
            "55/55 [==============================] - 2s 38ms/step - loss: 0.3414 - accuracy: 0.8854 - val_loss: 0.3379 - val_accuracy: 0.8907\n",
            "\n",
            "Epoch 00059: val_loss did not improve from 0.31869\n",
            "Epoch 60/100\n",
            "55/55 [==============================] - 2s 37ms/step - loss: 0.3348 - accuracy: 0.8838 - val_loss: 0.3516 - val_accuracy: 0.8907\n",
            "\n",
            "Epoch 00060: val_loss did not improve from 0.31869\n",
            "Epoch 61/100\n",
            "55/55 [==============================] - 2s 36ms/step - loss: 0.3528 - accuracy: 0.8749 - val_loss: 0.3310 - val_accuracy: 0.8993\n",
            "\n",
            "Epoch 00061: val_loss did not improve from 0.31869\n",
            "Epoch 62/100\n",
            "55/55 [==============================] - 2s 37ms/step - loss: 0.3267 - accuracy: 0.8937 - val_loss: 0.3379 - val_accuracy: 0.9027\n",
            "\n",
            "Epoch 00062: val_loss did not improve from 0.31869\n",
            "Epoch 63/100\n",
            "55/55 [==============================] - 2s 38ms/step - loss: 0.3354 - accuracy: 0.8881 - val_loss: 0.3299 - val_accuracy: 0.9004\n",
            "\n",
            "Epoch 00063: val_loss did not improve from 0.31869\n",
            "Epoch 64/100\n",
            "55/55 [==============================] - 2s 37ms/step - loss: 0.3220 - accuracy: 0.8885 - val_loss: 0.3232 - val_accuracy: 0.9067\n",
            "\n",
            "Epoch 00064: val_loss did not improve from 0.31869\n",
            "Epoch 65/100\n",
            "55/55 [==============================] - 2s 37ms/step - loss: 0.3048 - accuracy: 0.8935 - val_loss: 0.3186 - val_accuracy: 0.9056\n",
            "\n",
            "Epoch 00065: val_loss improved from 0.31869 to 0.31856, saving model to saved_models/audio_classification.h5\n",
            "Epoch 66/100\n",
            "55/55 [==============================] - 2s 38ms/step - loss: 0.3009 - accuracy: 0.8987 - val_loss: 0.3263 - val_accuracy: 0.9027\n",
            "\n",
            "Epoch 00066: val_loss did not improve from 0.31856\n",
            "Epoch 67/100\n",
            "55/55 [==============================] - 2s 38ms/step - loss: 0.3141 - accuracy: 0.8930 - val_loss: 0.3357 - val_accuracy: 0.9027\n",
            "\n",
            "Epoch 00067: val_loss did not improve from 0.31856\n",
            "Epoch 68/100\n",
            "55/55 [==============================] - 2s 38ms/step - loss: 0.2929 - accuracy: 0.9020 - val_loss: 0.3160 - val_accuracy: 0.9073\n",
            "\n",
            "Epoch 00068: val_loss improved from 0.31856 to 0.31602, saving model to saved_models/audio_classification.h5\n",
            "Epoch 69/100\n",
            "55/55 [==============================] - 2s 37ms/step - loss: 0.2889 - accuracy: 0.9008 - val_loss: 0.3272 - val_accuracy: 0.8993\n",
            "\n",
            "Epoch 00069: val_loss did not improve from 0.31602\n",
            "Epoch 70/100\n",
            "55/55 [==============================] - 2s 37ms/step - loss: 0.3032 - accuracy: 0.8951 - val_loss: 0.3109 - val_accuracy: 0.9033\n",
            "\n",
            "Epoch 00070: val_loss improved from 0.31602 to 0.31089, saving model to saved_models/audio_classification.h5\n",
            "Epoch 71/100\n",
            "55/55 [==============================] - 2s 37ms/step - loss: 0.2973 - accuracy: 0.9030 - val_loss: 0.3250 - val_accuracy: 0.9027\n",
            "\n",
            "Epoch 00071: val_loss did not improve from 0.31089\n",
            "Epoch 72/100\n",
            "55/55 [==============================] - 2s 36ms/step - loss: 0.2964 - accuracy: 0.8973 - val_loss: 0.3064 - val_accuracy: 0.9056\n",
            "\n",
            "Epoch 00072: val_loss improved from 0.31089 to 0.30641, saving model to saved_models/audio_classification.h5\n",
            "Epoch 73/100\n",
            "55/55 [==============================] - 2s 38ms/step - loss: 0.2820 - accuracy: 0.9008 - val_loss: 0.3080 - val_accuracy: 0.9056\n",
            "\n",
            "Epoch 00073: val_loss did not improve from 0.30641\n",
            "Epoch 74/100\n",
            "55/55 [==============================] - 2s 37ms/step - loss: 0.2867 - accuracy: 0.9052 - val_loss: 0.2955 - val_accuracy: 0.9067\n",
            "\n",
            "Epoch 00074: val_loss improved from 0.30641 to 0.29553, saving model to saved_models/audio_classification.h5\n",
            "Epoch 75/100\n",
            "55/55 [==============================] - 2s 38ms/step - loss: 0.2855 - accuracy: 0.9019 - val_loss: 0.3177 - val_accuracy: 0.9044\n",
            "\n",
            "Epoch 00075: val_loss did not improve from 0.29553\n",
            "Epoch 76/100\n",
            "55/55 [==============================] - 2s 37ms/step - loss: 0.2883 - accuracy: 0.9048 - val_loss: 0.2932 - val_accuracy: 0.9078\n",
            "\n",
            "Epoch 00076: val_loss improved from 0.29553 to 0.29320, saving model to saved_models/audio_classification.h5\n",
            "Epoch 77/100\n",
            "55/55 [==============================] - 2s 37ms/step - loss: 0.2695 - accuracy: 0.9109 - val_loss: 0.3152 - val_accuracy: 0.9033\n",
            "\n",
            "Epoch 00077: val_loss did not improve from 0.29320\n",
            "Epoch 78/100\n",
            "55/55 [==============================] - 2s 37ms/step - loss: 0.3035 - accuracy: 0.8994 - val_loss: 0.2927 - val_accuracy: 0.9147\n",
            "\n",
            "Epoch 00078: val_loss improved from 0.29320 to 0.29269, saving model to saved_models/audio_classification.h5\n",
            "Epoch 79/100\n",
            "55/55 [==============================] - 2s 37ms/step - loss: 0.2901 - accuracy: 0.9003 - val_loss: 0.2897 - val_accuracy: 0.9113\n",
            "\n",
            "Epoch 00079: val_loss improved from 0.29269 to 0.28970, saving model to saved_models/audio_classification.h5\n",
            "Epoch 80/100\n",
            "55/55 [==============================] - 2s 37ms/step - loss: 0.2460 - accuracy: 0.9156 - val_loss: 0.2879 - val_accuracy: 0.9159\n",
            "\n",
            "Epoch 00080: val_loss improved from 0.28970 to 0.28794, saving model to saved_models/audio_classification.h5\n",
            "Epoch 81/100\n",
            "55/55 [==============================] - 2s 37ms/step - loss: 0.2563 - accuracy: 0.9173 - val_loss: 0.2928 - val_accuracy: 0.9136\n",
            "\n",
            "Epoch 00081: val_loss did not improve from 0.28794\n",
            "Epoch 82/100\n",
            "55/55 [==============================] - 2s 36ms/step - loss: 0.2990 - accuracy: 0.8994 - val_loss: 0.2846 - val_accuracy: 0.9124\n",
            "\n",
            "Epoch 00082: val_loss improved from 0.28794 to 0.28464, saving model to saved_models/audio_classification.h5\n",
            "Epoch 83/100\n",
            "55/55 [==============================] - 2s 37ms/step - loss: 0.2525 - accuracy: 0.9098 - val_loss: 0.2778 - val_accuracy: 0.9130\n",
            "\n",
            "Epoch 00083: val_loss improved from 0.28464 to 0.27776, saving model to saved_models/audio_classification.h5\n",
            "Epoch 84/100\n",
            "55/55 [==============================] - 2s 37ms/step - loss: 0.2520 - accuracy: 0.9131 - val_loss: 0.3060 - val_accuracy: 0.9170\n",
            "\n",
            "Epoch 00084: val_loss did not improve from 0.27776\n",
            "Epoch 85/100\n",
            "55/55 [==============================] - 2s 37ms/step - loss: 0.2639 - accuracy: 0.9092 - val_loss: 0.3024 - val_accuracy: 0.9141\n",
            "\n",
            "Epoch 00085: val_loss did not improve from 0.27776\n",
            "Epoch 86/100\n",
            "55/55 [==============================] - 2s 37ms/step - loss: 0.2527 - accuracy: 0.9157 - val_loss: 0.2945 - val_accuracy: 0.9073\n",
            "\n",
            "Epoch 00086: val_loss did not improve from 0.27776\n",
            "Epoch 87/100\n",
            "55/55 [==============================] - 2s 38ms/step - loss: 0.2513 - accuracy: 0.9142 - val_loss: 0.3234 - val_accuracy: 0.9101\n",
            "\n",
            "Epoch 00087: val_loss did not improve from 0.27776\n",
            "Epoch 88/100\n",
            "55/55 [==============================] - 2s 38ms/step - loss: 0.2531 - accuracy: 0.9098 - val_loss: 0.2973 - val_accuracy: 0.9204\n",
            "\n",
            "Epoch 00088: val_loss did not improve from 0.27776\n",
            "Epoch 89/100\n",
            "55/55 [==============================] - 2s 37ms/step - loss: 0.2422 - accuracy: 0.9164 - val_loss: 0.3182 - val_accuracy: 0.9118\n",
            "\n",
            "Epoch 00089: val_loss did not improve from 0.27776\n",
            "Epoch 90/100\n",
            "55/55 [==============================] - 2s 38ms/step - loss: 0.2324 - accuracy: 0.9217 - val_loss: 0.2793 - val_accuracy: 0.9170\n",
            "\n",
            "Epoch 00090: val_loss did not improve from 0.27776\n",
            "Epoch 91/100\n",
            "55/55 [==============================] - 2s 38ms/step - loss: 0.2463 - accuracy: 0.9185 - val_loss: 0.2989 - val_accuracy: 0.9101\n",
            "\n",
            "Epoch 00091: val_loss did not improve from 0.27776\n",
            "Epoch 92/100\n",
            "55/55 [==============================] - 2s 38ms/step - loss: 0.2513 - accuracy: 0.9194 - val_loss: 0.2796 - val_accuracy: 0.9216\n",
            "\n",
            "Epoch 00092: val_loss did not improve from 0.27776\n",
            "Epoch 93/100\n",
            "55/55 [==============================] - 2s 39ms/step - loss: 0.2445 - accuracy: 0.9190 - val_loss: 0.2829 - val_accuracy: 0.9199\n",
            "\n",
            "Epoch 00093: val_loss did not improve from 0.27776\n",
            "Epoch 94/100\n",
            "55/55 [==============================] - 2s 38ms/step - loss: 0.2524 - accuracy: 0.9190 - val_loss: 0.2910 - val_accuracy: 0.9170\n",
            "\n",
            "Epoch 00094: val_loss did not improve from 0.27776\n",
            "Epoch 95/100\n",
            "55/55 [==============================] - 2s 37ms/step - loss: 0.2434 - accuracy: 0.9206 - val_loss: 0.2944 - val_accuracy: 0.9199\n",
            "\n",
            "Epoch 00095: val_loss did not improve from 0.27776\n",
            "Epoch 96/100\n",
            "55/55 [==============================] - 2s 38ms/step - loss: 0.2292 - accuracy: 0.9179 - val_loss: 0.2805 - val_accuracy: 0.9176\n",
            "\n",
            "Epoch 00096: val_loss did not improve from 0.27776\n",
            "Epoch 97/100\n",
            "55/55 [==============================] - 2s 37ms/step - loss: 0.2424 - accuracy: 0.9211 - val_loss: 0.2976 - val_accuracy: 0.9147\n",
            "\n",
            "Epoch 00097: val_loss did not improve from 0.27776\n",
            "Epoch 98/100\n",
            "55/55 [==============================] - 2s 38ms/step - loss: 0.2747 - accuracy: 0.9124 - val_loss: 0.2820 - val_accuracy: 0.9130\n",
            "\n",
            "Epoch 00098: val_loss did not improve from 0.27776\n",
            "Epoch 99/100\n",
            "55/55 [==============================] - 2s 38ms/step - loss: 0.2302 - accuracy: 0.9221 - val_loss: 0.2834 - val_accuracy: 0.9147\n",
            "\n",
            "Epoch 00099: val_loss did not improve from 0.27776\n",
            "Epoch 100/100\n",
            "55/55 [==============================] - 2s 39ms/step - loss: 0.2575 - accuracy: 0.9143 - val_loss: 0.2752 - val_accuracy: 0.9222\n",
            "\n",
            "Epoch 00100: val_loss improved from 0.27776 to 0.27518, saving model to saved_models/audio_classification.h5\n",
            "Training completed in time:  0:03:30.199434\n"
          ],
          "name": "stdout"
        }
      ]
    },
    {
      "cell_type": "code",
      "metadata": {
        "colab": {
          "base_uri": "https://localhost:8080/"
        },
        "id": "imt4Mdr1Z_UA",
        "outputId": "0ba8e43b-8cdc-4b7d-aae3-294943f4838a"
      },
      "source": [
        "test_accuracy=model.evaluate(X_test,y_test,verbose=0)\n",
        "print(test_accuracy[1])"
      ],
      "id": "imt4Mdr1Z_UA",
      "execution_count": 209,
      "outputs": [
        {
          "output_type": "stream",
          "text": [
            "0.9221522808074951\n"
          ],
          "name": "stdout"
        }
      ]
    },
    {
      "cell_type": "markdown",
      "metadata": {
        "id": "fQAryFEqihSU"
      },
      "source": [
        "### Testing Some NEW Audio Data"
      ],
      "id": "fQAryFEqihSU"
    },
    {
      "cell_type": "code",
      "metadata": {
        "id": "YJ_81Cfyieaz"
      },
      "source": [
        "filename=\"/content/Dog-Bark.wav\"\n",
        "audio, sample_rate = librosa.load(filename, res_type='kaiser_fast') \n",
        "mfccs_features = librosa.feature.mfcc(y=audio, sr=sample_rate, n_mfcc=40)\n",
        "mfccs_scaled_features = np.mean(mfccs_features.T,axis=0)"
      ],
      "id": "YJ_81Cfyieaz",
      "execution_count": 210,
      "outputs": []
    },
    {
      "cell_type": "code",
      "metadata": {
        "colab": {
          "base_uri": "https://localhost:8080/"
        },
        "id": "lM3n3nUQjqxU",
        "outputId": "05089267-ee4b-4586-8da6-10434142c306"
      },
      "source": [
        "mfccs_scaled_features.shape"
      ],
      "id": "lM3n3nUQjqxU",
      "execution_count": 211,
      "outputs": [
        {
          "output_type": "execute_result",
          "data": {
            "text/plain": [
              "(40,)"
            ]
          },
          "metadata": {
            "tags": []
          },
          "execution_count": 211
        }
      ]
    },
    {
      "cell_type": "code",
      "metadata": {
        "colab": {
          "base_uri": "https://localhost:8080/",
          "height": 70
        },
        "id": "2gBAQPEvjg4V",
        "outputId": "912c7d55-7fdf-4b31-a630-d675657b1263"
      },
      "source": [
        "mfccs_scaled_features=mfccs_scaled_features.reshape(1,-1)\n",
        "print(mfccs_scaled_features.shape)\n",
        "predicted_label = np.argmax(model.predict(mfccs_scaled_features), axis=-1)\n",
        "print('Predicted Label:',predicted_label)\n",
        "prediction_class = labelencoder.inverse_transform(predicted_label) \n",
        "prediction_class[0]"
      ],
      "id": "2gBAQPEvjg4V",
      "execution_count": 212,
      "outputs": [
        {
          "output_type": "stream",
          "text": [
            "(1, 40)\n",
            "Predicted Label: [3]\n"
          ],
          "name": "stdout"
        },
        {
          "output_type": "execute_result",
          "data": {
            "application/vnd.google.colaboratory.intrinsic+json": {
              "type": "string"
            },
            "text/plain": [
              "'dog_bark'"
            ]
          },
          "metadata": {
            "tags": []
          },
          "execution_count": 212
        }
      ]
    },
    {
      "cell_type": "code",
      "metadata": {
        "id": "P1lg60Knoe7d"
      },
      "source": [
        ""
      ],
      "id": "P1lg60Knoe7d",
      "execution_count": null,
      "outputs": []
    }
  ]
}