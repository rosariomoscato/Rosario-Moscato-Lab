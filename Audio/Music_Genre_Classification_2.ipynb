{
  "nbformat": 4,
  "nbformat_minor": 0,
  "metadata": {
    "colab": {
      "name": "Music_Genre_Classification_2.ipynb",
      "provenance": [],
      "collapsed_sections": []
    },
    "kernelspec": {
      "name": "python3",
      "display_name": "Python 3"
    },
    "language_info": {
      "name": "python"
    }
  },
  "cells": [
    {
      "cell_type": "markdown",
      "metadata": {
        "id": "6SMW93RNli5S"
      },
      "source": [
        "# Music Genre Classification - Part 2"
      ]
    },
    {
      "cell_type": "code",
      "metadata": {
        "id": "ID78Fqkcpxc9"
      },
      "source": [
        "import json\n",
        "import numpy as np\n",
        "from sklearn.model_selection import train_test_split\n",
        "import tensorflow.keras as keras\n",
        "\n",
        "import matplotlib.pyplot as plt\n",
        "import random\n",
        "\n",
        "import librosa\n",
        "import math"
      ],
      "execution_count": 1,
      "outputs": []
    },
    {
      "cell_type": "markdown",
      "metadata": {
        "id": "iye51T8plo6i"
      },
      "source": [
        "### Load Data"
      ]
    },
    {
      "cell_type": "code",
      "metadata": {
        "id": "h4fRJzNtp45z"
      },
      "source": [
        "# path to json\n",
        "DATA_PATH = \"/content/drive/MyDrive/genres_original/data_10.json\""
      ],
      "execution_count": 2,
      "outputs": []
    },
    {
      "cell_type": "code",
      "metadata": {
        "id": "059z2uzvqW-Y"
      },
      "source": [
        "def load_data(data_path):\n",
        "\n",
        "    with open(data_path, \"r\") as f:\n",
        "        data = json.load(f)\n",
        "\n",
        "    # convert lists to numpy arrays\n",
        "    X = np.array(data[\"mfcc\"])\n",
        "    y = np.array(data[\"labels\"])\n",
        "\n",
        "    print(\"Data succesfully loaded!\")\n",
        "\n",
        "    return  X, y"
      ],
      "execution_count": 3,
      "outputs": []
    },
    {
      "cell_type": "code",
      "metadata": {
        "id": "lP_oCaTxqnqM",
        "colab": {
          "base_uri": "https://localhost:8080/"
        },
        "outputId": "29a492b6-ca6e-4e17-d932-6d049129773c"
      },
      "source": [
        "# load data\n",
        "X, y = load_data(DATA_PATH)"
      ],
      "execution_count": 4,
      "outputs": [
        {
          "output_type": "stream",
          "text": [
            "Data succesfully loaded!\n"
          ],
          "name": "stdout"
        }
      ]
    },
    {
      "cell_type": "code",
      "metadata": {
        "colab": {
          "base_uri": "https://localhost:8080/"
        },
        "id": "Al8hSpEbywdF",
        "outputId": "cf989da4-3aa8-4128-c588-ed10ca30038a"
      },
      "source": [
        "X.shape"
      ],
      "execution_count": 5,
      "outputs": [
        {
          "output_type": "execute_result",
          "data": {
            "text/plain": [
              "(9986, 130, 13)"
            ]
          },
          "metadata": {
            "tags": []
          },
          "execution_count": 5
        }
      ]
    },
    {
      "cell_type": "code",
      "metadata": {
        "id": "LGbKepVKtlaO"
      },
      "source": [
        "# create train/test split\n",
        "X_train, X_test, y_train, y_test = train_test_split(X, y, test_size=0.3)"
      ],
      "execution_count": 6,
      "outputs": []
    },
    {
      "cell_type": "markdown",
      "metadata": {
        "id": "vL6wMRpUluUr"
      },
      "source": [
        "### Simple ANN"
      ]
    },
    {
      "cell_type": "code",
      "metadata": {
        "id": "DWYJ9rNYyngy"
      },
      "source": [
        "# build network topology\n",
        "model = keras.Sequential([\n",
        "\n",
        "    # input layer\n",
        "    keras.layers.Flatten(input_shape=(X.shape[1], X.shape[2])),\n",
        "\n",
        "    # 1st dense layer\n",
        "    keras.layers.Dense(512, activation='relu'),\n",
        "\n",
        "    # 2nd dense layer\n",
        "    keras.layers.Dense(256, activation='relu'),\n",
        "\n",
        "    # 3rd dense layer\n",
        "    keras.layers.Dense(64, activation='relu'),\n",
        "\n",
        "    # output layer\n",
        "    keras.layers.Dense(10, activation='softmax')\n",
        "])"
      ],
      "execution_count": null,
      "outputs": []
    },
    {
      "cell_type": "code",
      "metadata": {
        "id": "_vAj93EpzNcW"
      },
      "source": [
        "# compile model\n",
        "optimiser = keras.optimizers.Adam(learning_rate=0.0001)\n",
        "model.compile(optimizer=optimiser,\n",
        "              loss='sparse_categorical_crossentropy',\n",
        "              metrics=['accuracy'])"
      ],
      "execution_count": null,
      "outputs": []
    },
    {
      "cell_type": "code",
      "metadata": {
        "id": "UVC-Y4O5zRWt"
      },
      "source": [
        "model.summary()"
      ],
      "execution_count": null,
      "outputs": []
    },
    {
      "cell_type": "code",
      "metadata": {
        "id": "A3fzdo4BzUzU"
      },
      "source": [
        "# train model\n",
        "history = model.fit(X_train, y_train, validation_data=(X_test, y_test), batch_size=32, epochs=50)"
      ],
      "execution_count": null,
      "outputs": []
    },
    {
      "cell_type": "code",
      "metadata": {
        "id": "PmXSb9gTzZU_"
      },
      "source": [
        "def plot_history(history):\n",
        "\n",
        "    fig, axs = plt.subplots(2)\n",
        "\n",
        "    # create accuracy sublpot\n",
        "    axs[0].plot(history.history[\"accuracy\"], label=\"train accuracy\")\n",
        "    axs[0].plot(history.history[\"val_accuracy\"], label=\"test accuracy\")\n",
        "    axs[0].set_ylabel(\"Accuracy\")\n",
        "    axs[0].legend(loc=\"lower right\")\n",
        "    axs[0].set_title(\"Accuracy eval\")\n",
        "\n",
        "    # create error sublpot\n",
        "    axs[1].plot(history.history[\"loss\"], label=\"train error\")\n",
        "    axs[1].plot(history.history[\"val_loss\"], label=\"test error\")\n",
        "    axs[1].set_ylabel(\"Error\")\n",
        "    axs[1].set_xlabel(\"Epoch\")\n",
        "    axs[1].legend(loc=\"upper right\")\n",
        "    axs[1].set_title(\"Error eval\")\n",
        "    \n",
        "    plt.show()"
      ],
      "execution_count": 7,
      "outputs": []
    },
    {
      "cell_type": "code",
      "metadata": {
        "id": "ZoBk4Ovr7IaI"
      },
      "source": [
        "# plot accuracy and error as a function of the epochs\n",
        "plot_history(history)"
      ],
      "execution_count": null,
      "outputs": []
    },
    {
      "cell_type": "markdown",
      "metadata": {
        "id": "M1zNljTkl05G"
      },
      "source": [
        "### Managing Overfitting"
      ]
    },
    {
      "cell_type": "code",
      "metadata": {
        "id": "drhWRfDF7Ru5"
      },
      "source": [
        "# build network topology\n",
        "model_regularized = keras.Sequential([\n",
        "\n",
        "    # input layer\n",
        "    keras.layers.Flatten(input_shape=(X.shape[1], X.shape[2])),\n",
        "\n",
        "    # 1st dense layer\n",
        "    keras.layers.Dense(512, activation='relu', kernel_regularizer=keras.regularizers.l2(0.001)),\n",
        "    keras.layers.Dropout(0.3),\n",
        "\n",
        "    # 2nd dense layer\n",
        "    keras.layers.Dense(256, activation='relu', kernel_regularizer=keras.regularizers.l2(0.001)),\n",
        "    keras.layers.Dropout(0.3),\n",
        "\n",
        "    # 3rd dense layer\n",
        "    keras.layers.Dense(64, activation='relu', kernel_regularizer=keras.regularizers.l2(0.001)),\n",
        "    keras.layers.Dropout(0.3),\n",
        "\n",
        "    # output layer\n",
        "    keras.layers.Dense(10, activation='softmax')\n",
        "])"
      ],
      "execution_count": null,
      "outputs": []
    },
    {
      "cell_type": "code",
      "metadata": {
        "id": "9izNLSrG8j-9"
      },
      "source": [
        "# compile model\n",
        "optimiser = keras.optimizers.Adam(learning_rate=0.0001)\n",
        "model_regularized.compile(optimizer=optimiser,\n",
        "              loss='sparse_categorical_crossentropy',\n",
        "              metrics=['accuracy'])"
      ],
      "execution_count": null,
      "outputs": []
    },
    {
      "cell_type": "code",
      "metadata": {
        "id": "Uzjpg8Rk8uFr"
      },
      "source": [
        "# train model\n",
        "history = model_regularized.fit(X_train, y_train, validation_data=(X_test, y_test), batch_size=32, epochs=100)"
      ],
      "execution_count": null,
      "outputs": []
    },
    {
      "cell_type": "code",
      "metadata": {
        "id": "h4mNmGka-eFQ"
      },
      "source": [
        "# plot accuracy and error as a function of the epochs\n",
        "plot_history(history)"
      ],
      "execution_count": null,
      "outputs": []
    },
    {
      "cell_type": "markdown",
      "metadata": {
        "id": "qR5YHT5gNUGQ"
      },
      "source": [
        "# Convolutional Neural Network"
      ]
    },
    {
      "cell_type": "code",
      "metadata": {
        "id": "TIkf5MElBSpN"
      },
      "source": [
        "# create train, validation and test split\n",
        "X_train, X_test, y_train, y_test = train_test_split(X, y, test_size=0.25)\n",
        "X_train, X_validation, y_train, y_validation = train_test_split(X_train, y_train, test_size=0.2)\n",
        "\n",
        "# add an axis to input sets\n",
        "X_train = X_train[..., np.newaxis]\n",
        "X_validation = X_validation[..., np.newaxis]\n",
        "X_test = X_test[..., np.newaxis]"
      ],
      "execution_count": 9,
      "outputs": []
    },
    {
      "cell_type": "code",
      "metadata": {
        "colab": {
          "base_uri": "https://localhost:8080/"
        },
        "id": "2MLdNQdzSIao",
        "outputId": "f205142f-12ce-474a-a666-553512d71ba6"
      },
      "source": [
        "X_train.shape"
      ],
      "execution_count": 10,
      "outputs": [
        {
          "output_type": "execute_result",
          "data": {
            "text/plain": [
              "(5991, 130, 13, 1)"
            ]
          },
          "metadata": {
            "tags": []
          },
          "execution_count": 10
        }
      ]
    },
    {
      "cell_type": "code",
      "metadata": {
        "id": "8Q5qLVFtMh1E"
      },
      "source": [
        "input_shape = (X_train.shape[1], X_train.shape[2], 1)"
      ],
      "execution_count": 11,
      "outputs": []
    },
    {
      "cell_type": "code",
      "metadata": {
        "id": "odglabSpLDm2"
      },
      "source": [
        "# build the CNN\n",
        "model_cnn = keras.Sequential()\n",
        "\n",
        "# 1st conv layer\n",
        "model_cnn.add(keras.layers.Conv2D(32, (3, 3), activation='relu', input_shape=input_shape))\n",
        "model_cnn.add(keras.layers.MaxPooling2D((3, 3), strides=(2, 2), padding='same'))\n",
        "model_cnn.add(keras.layers.BatchNormalization())\n",
        "\n",
        "# 2nd conv layer\n",
        "model_cnn.add(keras.layers.Conv2D(32, (3, 3), activation='relu'))\n",
        "model_cnn.add(keras.layers.MaxPooling2D((3, 3), strides=(2, 2), padding='same'))\n",
        "model_cnn.add(keras.layers.BatchNormalization())\n",
        "\n",
        "# 3rd conv layer\n",
        "model_cnn.add(keras.layers.Conv2D(32, (2, 2), activation='relu'))\n",
        "model_cnn.add(keras.layers.MaxPooling2D((2, 2), strides=(2, 2), padding='same'))\n",
        "model_cnn.add(keras.layers.BatchNormalization())\n",
        "\n",
        "# flatten output and feed it into dense layer\n",
        "model_cnn.add(keras.layers.Flatten())\n",
        "model_cnn.add(keras.layers.Dense(64, activation='relu'))\n",
        "model_cnn.add(keras.layers.Dropout(0.3))\n",
        "\n",
        "# output layer\n",
        "model_cnn.add(keras.layers.Dense(10, activation='softmax'))"
      ],
      "execution_count": 12,
      "outputs": []
    },
    {
      "cell_type": "code",
      "metadata": {
        "id": "cSpAxo7hMjJv"
      },
      "source": [
        "# compile model\n",
        "optimiser = keras.optimizers.Adam(learning_rate=0.0001)\n",
        "model_cnn.compile(optimizer=optimiser,\n",
        "              loss='sparse_categorical_crossentropy',\n",
        "              metrics=['accuracy'])"
      ],
      "execution_count": 13,
      "outputs": []
    },
    {
      "cell_type": "code",
      "metadata": {
        "colab": {
          "base_uri": "https://localhost:8080/"
        },
        "id": "2guylBT6Mq38",
        "outputId": "aa4800e5-2775-44e8-ef28-946059b4d31f"
      },
      "source": [
        "model_cnn.summary()"
      ],
      "execution_count": 14,
      "outputs": [
        {
          "output_type": "stream",
          "text": [
            "Model: \"sequential\"\n",
            "_________________________________________________________________\n",
            "Layer (type)                 Output Shape              Param #   \n",
            "=================================================================\n",
            "conv2d (Conv2D)              (None, 128, 11, 32)       320       \n",
            "_________________________________________________________________\n",
            "max_pooling2d (MaxPooling2D) (None, 64, 6, 32)         0         \n",
            "_________________________________________________________________\n",
            "batch_normalization (BatchNo (None, 64, 6, 32)         128       \n",
            "_________________________________________________________________\n",
            "conv2d_1 (Conv2D)            (None, 62, 4, 32)         9248      \n",
            "_________________________________________________________________\n",
            "max_pooling2d_1 (MaxPooling2 (None, 31, 2, 32)         0         \n",
            "_________________________________________________________________\n",
            "batch_normalization_1 (Batch (None, 31, 2, 32)         128       \n",
            "_________________________________________________________________\n",
            "conv2d_2 (Conv2D)            (None, 30, 1, 32)         4128      \n",
            "_________________________________________________________________\n",
            "max_pooling2d_2 (MaxPooling2 (None, 15, 1, 32)         0         \n",
            "_________________________________________________________________\n",
            "batch_normalization_2 (Batch (None, 15, 1, 32)         128       \n",
            "_________________________________________________________________\n",
            "flatten (Flatten)            (None, 480)               0         \n",
            "_________________________________________________________________\n",
            "dense (Dense)                (None, 64)                30784     \n",
            "_________________________________________________________________\n",
            "dropout (Dropout)            (None, 64)                0         \n",
            "_________________________________________________________________\n",
            "dense_1 (Dense)              (None, 10)                650       \n",
            "=================================================================\n",
            "Total params: 45,514\n",
            "Trainable params: 45,322\n",
            "Non-trainable params: 192\n",
            "_________________________________________________________________\n"
          ],
          "name": "stdout"
        }
      ]
    },
    {
      "cell_type": "code",
      "metadata": {
        "colab": {
          "base_uri": "https://localhost:8080/"
        },
        "id": "lDuRqI6MNi85",
        "outputId": "b95ff98e-2f7c-4e1f-d88d-ea6587137ebc"
      },
      "source": [
        "# train model\n",
        "history = model_cnn.fit(X_train, y_train, validation_data=(X_validation, y_validation), batch_size=32, epochs=50)"
      ],
      "execution_count": 15,
      "outputs": [
        {
          "output_type": "stream",
          "text": [
            "Epoch 1/50\n",
            "188/188 [==============================] - 14s 69ms/step - loss: 2.8420 - accuracy: 0.1402 - val_loss: 1.8686 - val_accuracy: 0.3218\n",
            "Epoch 2/50\n",
            "188/188 [==============================] - 12s 64ms/step - loss: 1.9948 - accuracy: 0.3062 - val_loss: 1.6269 - val_accuracy: 0.4186\n",
            "Epoch 3/50\n",
            "188/188 [==============================] - 12s 64ms/step - loss: 1.6946 - accuracy: 0.3946 - val_loss: 1.4982 - val_accuracy: 0.4506\n",
            "Epoch 4/50\n",
            "188/188 [==============================] - 12s 65ms/step - loss: 1.5851 - accuracy: 0.4446 - val_loss: 1.3917 - val_accuracy: 0.4947\n",
            "Epoch 5/50\n",
            "188/188 [==============================] - 12s 66ms/step - loss: 1.4498 - accuracy: 0.4830 - val_loss: 1.3109 - val_accuracy: 0.5227\n",
            "Epoch 6/50\n",
            "188/188 [==============================] - 12s 65ms/step - loss: 1.3718 - accuracy: 0.5024 - val_loss: 1.2454 - val_accuracy: 0.5507\n",
            "Epoch 7/50\n",
            "188/188 [==============================] - 12s 65ms/step - loss: 1.3196 - accuracy: 0.5224 - val_loss: 1.2191 - val_accuracy: 0.5587\n",
            "Epoch 8/50\n",
            "188/188 [==============================] - 12s 65ms/step - loss: 1.2509 - accuracy: 0.5458 - val_loss: 1.1789 - val_accuracy: 0.5721\n",
            "Epoch 9/50\n",
            "188/188 [==============================] - 12s 66ms/step - loss: 1.1930 - accuracy: 0.5644 - val_loss: 1.1576 - val_accuracy: 0.5768\n",
            "Epoch 10/50\n",
            "188/188 [==============================] - 12s 66ms/step - loss: 1.1565 - accuracy: 0.5774 - val_loss: 1.1139 - val_accuracy: 0.6008\n",
            "Epoch 11/50\n",
            "188/188 [==============================] - 12s 66ms/step - loss: 1.1465 - accuracy: 0.5809 - val_loss: 1.0808 - val_accuracy: 0.6142\n",
            "Epoch 12/50\n",
            "188/188 [==============================] - 12s 65ms/step - loss: 1.1106 - accuracy: 0.5895 - val_loss: 1.0681 - val_accuracy: 0.6108\n",
            "Epoch 13/50\n",
            "188/188 [==============================] - 12s 66ms/step - loss: 1.0638 - accuracy: 0.6122 - val_loss: 1.0435 - val_accuracy: 0.6262\n",
            "Epoch 14/50\n",
            "188/188 [==============================] - 13s 67ms/step - loss: 1.0278 - accuracy: 0.6348 - val_loss: 1.0167 - val_accuracy: 0.6469\n",
            "Epoch 15/50\n",
            "188/188 [==============================] - 13s 67ms/step - loss: 1.0155 - accuracy: 0.6409 - val_loss: 1.0106 - val_accuracy: 0.6442\n",
            "Epoch 16/50\n",
            "188/188 [==============================] - 13s 68ms/step - loss: 0.9631 - accuracy: 0.6551 - val_loss: 0.9670 - val_accuracy: 0.6702\n",
            "Epoch 17/50\n",
            "188/188 [==============================] - 12s 67ms/step - loss: 0.9459 - accuracy: 0.6659 - val_loss: 0.9663 - val_accuracy: 0.6589\n",
            "Epoch 18/50\n",
            "188/188 [==============================] - 12s 66ms/step - loss: 0.9473 - accuracy: 0.6689 - val_loss: 0.9445 - val_accuracy: 0.6856\n",
            "Epoch 19/50\n",
            "188/188 [==============================] - 12s 66ms/step - loss: 0.9267 - accuracy: 0.6661 - val_loss: 0.9368 - val_accuracy: 0.6756\n",
            "Epoch 20/50\n",
            "188/188 [==============================] - 12s 65ms/step - loss: 0.8802 - accuracy: 0.6844 - val_loss: 0.9270 - val_accuracy: 0.6796\n",
            "Epoch 21/50\n",
            "188/188 [==============================] - 12s 66ms/step - loss: 0.8458 - accuracy: 0.7015 - val_loss: 0.9105 - val_accuracy: 0.6883\n",
            "Epoch 22/50\n",
            "188/188 [==============================] - 13s 67ms/step - loss: 0.8517 - accuracy: 0.7076 - val_loss: 0.9009 - val_accuracy: 0.7043\n",
            "Epoch 23/50\n",
            "188/188 [==============================] - 12s 66ms/step - loss: 0.8024 - accuracy: 0.7198 - val_loss: 0.8769 - val_accuracy: 0.7029\n",
            "Epoch 24/50\n",
            "188/188 [==============================] - 12s 66ms/step - loss: 0.7980 - accuracy: 0.7220 - val_loss: 0.8846 - val_accuracy: 0.7036\n",
            "Epoch 25/50\n",
            "188/188 [==============================] - 12s 65ms/step - loss: 0.7741 - accuracy: 0.7198 - val_loss: 0.8678 - val_accuracy: 0.6976\n",
            "Epoch 26/50\n",
            "188/188 [==============================] - 12s 65ms/step - loss: 0.7678 - accuracy: 0.7384 - val_loss: 0.8662 - val_accuracy: 0.7023\n",
            "Epoch 27/50\n",
            "188/188 [==============================] - 12s 65ms/step - loss: 0.7655 - accuracy: 0.7306 - val_loss: 0.8535 - val_accuracy: 0.7089\n",
            "Epoch 28/50\n",
            "188/188 [==============================] - 13s 67ms/step - loss: 0.7509 - accuracy: 0.7338 - val_loss: 0.8443 - val_accuracy: 0.7156\n",
            "Epoch 29/50\n",
            "188/188 [==============================] - 13s 68ms/step - loss: 0.7579 - accuracy: 0.7288 - val_loss: 0.8524 - val_accuracy: 0.7083\n",
            "Epoch 30/50\n",
            "188/188 [==============================] - 12s 66ms/step - loss: 0.7283 - accuracy: 0.7418 - val_loss: 0.8267 - val_accuracy: 0.7123\n",
            "Epoch 31/50\n",
            "188/188 [==============================] - 12s 65ms/step - loss: 0.6985 - accuracy: 0.7582 - val_loss: 0.8417 - val_accuracy: 0.7236\n",
            "Epoch 32/50\n",
            "188/188 [==============================] - 12s 64ms/step - loss: 0.6911 - accuracy: 0.7581 - val_loss: 0.8137 - val_accuracy: 0.7210\n",
            "Epoch 33/50\n",
            "188/188 [==============================] - 13s 67ms/step - loss: 0.6903 - accuracy: 0.7569 - val_loss: 0.8186 - val_accuracy: 0.7150\n",
            "Epoch 34/50\n",
            "188/188 [==============================] - 13s 67ms/step - loss: 0.6680 - accuracy: 0.7614 - val_loss: 0.8241 - val_accuracy: 0.7076\n",
            "Epoch 35/50\n",
            "188/188 [==============================] - 13s 67ms/step - loss: 0.6382 - accuracy: 0.7805 - val_loss: 0.8248 - val_accuracy: 0.7150\n",
            "Epoch 36/50\n",
            "188/188 [==============================] - 13s 68ms/step - loss: 0.6375 - accuracy: 0.7759 - val_loss: 0.7997 - val_accuracy: 0.7270\n",
            "Epoch 37/50\n",
            "188/188 [==============================] - 12s 66ms/step - loss: 0.6109 - accuracy: 0.7898 - val_loss: 0.7954 - val_accuracy: 0.7323\n",
            "Epoch 38/50\n",
            "188/188 [==============================] - 12s 66ms/step - loss: 0.6180 - accuracy: 0.7882 - val_loss: 0.8055 - val_accuracy: 0.7210\n",
            "Epoch 39/50\n",
            "188/188 [==============================] - 12s 65ms/step - loss: 0.6239 - accuracy: 0.7780 - val_loss: 0.7917 - val_accuracy: 0.7336\n",
            "Epoch 40/50\n",
            "188/188 [==============================] - 12s 65ms/step - loss: 0.5983 - accuracy: 0.7906 - val_loss: 0.7897 - val_accuracy: 0.7243\n",
            "Epoch 41/50\n",
            "188/188 [==============================] - 12s 66ms/step - loss: 0.5968 - accuracy: 0.7932 - val_loss: 0.7824 - val_accuracy: 0.7323\n",
            "Epoch 42/50\n",
            "188/188 [==============================] - 12s 66ms/step - loss: 0.5583 - accuracy: 0.8101 - val_loss: 0.7755 - val_accuracy: 0.7423\n",
            "Epoch 43/50\n",
            "188/188 [==============================] - 13s 67ms/step - loss: 0.5765 - accuracy: 0.8043 - val_loss: 0.7751 - val_accuracy: 0.7343\n",
            "Epoch 44/50\n",
            "188/188 [==============================] - 13s 68ms/step - loss: 0.5668 - accuracy: 0.8029 - val_loss: 0.7968 - val_accuracy: 0.7230\n",
            "Epoch 45/50\n",
            "188/188 [==============================] - 13s 67ms/step - loss: 0.5483 - accuracy: 0.8118 - val_loss: 0.7867 - val_accuracy: 0.7303\n",
            "Epoch 46/50\n",
            "188/188 [==============================] - 13s 68ms/step - loss: 0.5339 - accuracy: 0.8140 - val_loss: 0.8047 - val_accuracy: 0.7250\n",
            "Epoch 47/50\n",
            "188/188 [==============================] - 13s 68ms/step - loss: 0.5621 - accuracy: 0.8094 - val_loss: 0.7857 - val_accuracy: 0.7316\n",
            "Epoch 48/50\n",
            "188/188 [==============================] - 13s 68ms/step - loss: 0.5213 - accuracy: 0.8262 - val_loss: 0.7794 - val_accuracy: 0.7390\n",
            "Epoch 49/50\n",
            "188/188 [==============================] - 13s 68ms/step - loss: 0.5172 - accuracy: 0.8214 - val_loss: 0.7668 - val_accuracy: 0.7490\n",
            "Epoch 50/50\n",
            "188/188 [==============================] - 13s 67ms/step - loss: 0.5049 - accuracy: 0.8212 - val_loss: 0.7624 - val_accuracy: 0.7497\n"
          ],
          "name": "stdout"
        }
      ]
    },
    {
      "cell_type": "code",
      "metadata": {
        "colab": {
          "base_uri": "https://localhost:8080/",
          "height": 295
        },
        "id": "swrhVvauNuQH",
        "outputId": "97c7f20f-faaa-4218-f335-58ff94698ee7"
      },
      "source": [
        "# plot accuracy and error as a function of the epochs\n",
        "plot_history(history)"
      ],
      "execution_count": 16,
      "outputs": [
        {
          "output_type": "display_data",
          "data": {
            "image/png": "[encoded data removed]",
            "text/plain": [
              "<Figure size 432x288 with 2 Axes>"
            ]
          },
          "metadata": {
            "tags": [],
            "needs_background": "light"
          }
        }
      ]
    },
    {
      "cell_type": "code",
      "metadata": {
        "colab": {
          "base_uri": "https://localhost:8080/"
        },
        "id": "9DcEvecoQwCr",
        "outputId": "fee386aa-4d10-41f1-978f-bc90d4d816fd"
      },
      "source": [
        "# evaluate model on Test Set\n",
        "test_loss, test_acc = model_cnn.evaluate(X_test, y_test, verbose=2)\n",
        "print('\\nTest accuracy:', test_acc)"
      ],
      "execution_count": 17,
      "outputs": [
        {
          "output_type": "stream",
          "text": [
            "79/79 - 1s - loss: 0.7842 - accuracy: 0.7365\n",
            "\n",
            "Test accuracy: 0.7364837527275085\n"
          ],
          "name": "stdout"
        }
      ]
    },
    {
      "cell_type": "code",
      "metadata": {
        "colab": {
          "base_uri": "https://localhost:8080/"
        },
        "id": "CaYHpkcgZDt5",
        "outputId": "81393682-7053-4762-c2ce-d2095ca92cc3"
      },
      "source": [
        "model_cnn.save(\"Music_Genre_10_CNN\")"
      ],
      "execution_count": 18,
      "outputs": [
        {
          "output_type": "stream",
          "text": [
            "INFO:tensorflow:Assets written to: Music_Genre_10_CNN/assets\n"
          ],
          "name": "stdout"
        }
      ]
    },
    {
      "cell_type": "code",
      "metadata": {
        "id": "g3m7ae8KbhgA"
      },
      "source": [
        "model_cnn.save(\"Music_Genre_10_CNN.h5\")"
      ],
      "execution_count": 19,
      "outputs": []
    },
    {
      "cell_type": "code",
      "metadata": {
        "id": "YcNVvLE7a5zY"
      },
      "source": [
        "# It can be used to reconstruct the model identically.\n",
        "reconstructed_model = keras.models.load_model(\"Music_Genre_10_CNN.h5\")"
      ],
      "execution_count": 20,
      "outputs": []
    },
    {
      "cell_type": "markdown",
      "metadata": {
        "id": "amTbobMUl8aT"
      },
      "source": [
        "### Prediction on Test Set"
      ]
    },
    {
      "cell_type": "code",
      "metadata": {
        "id": "JoJuudb4SU5Y"
      },
      "source": [
        "# pick a sample to predict from the test set\n",
        "X_to_predict = X_test[100]\n",
        "y_to_predict = y_test[100]"
      ],
      "execution_count": 21,
      "outputs": []
    },
    {
      "cell_type": "code",
      "metadata": {
        "colab": {
          "base_uri": "https://localhost:8080/"
        },
        "id": "YsekW_GATac2",
        "outputId": "31b515ea-4e5b-49d7-9bc1-f68b048958cd"
      },
      "source": [
        "X_to_predict.shape"
      ],
      "execution_count": 22,
      "outputs": [
        {
          "output_type": "execute_result",
          "data": {
            "text/plain": [
              "(130, 13, 1)"
            ]
          },
          "metadata": {
            "tags": []
          },
          "execution_count": 22
        }
      ]
    },
    {
      "cell_type": "code",
      "metadata": {
        "colab": {
          "base_uri": "https://localhost:8080/"
        },
        "id": "_1ENPJgMSeVN",
        "outputId": "1c4acb0e-49be-4875-b822-d0e65bd70784"
      },
      "source": [
        "print(\"Real Genre:\", y_to_predict)"
      ],
      "execution_count": 23,
      "outputs": [
        {
          "output_type": "stream",
          "text": [
            "Real Genre: 7\n"
          ],
          "name": "stdout"
        }
      ]
    },
    {
      "cell_type": "code",
      "metadata": {
        "id": "Gu2iSKETTMPu"
      },
      "source": [
        "# add a dimension to input data for sample - model.predict() expects a 4d array in this case\n",
        "X_to_predict = X_to_predict[np.newaxis, ...] # array shape (1, 130, 13, 1)"
      ],
      "execution_count": 24,
      "outputs": []
    },
    {
      "cell_type": "code",
      "metadata": {
        "colab": {
          "base_uri": "https://localhost:8080/"
        },
        "id": "qMqLO3W8TVfY",
        "outputId": "813d1589-00d9-4858-fa7d-1af221356fc1"
      },
      "source": [
        "X_to_predict.shape"
      ],
      "execution_count": 25,
      "outputs": [
        {
          "output_type": "execute_result",
          "data": {
            "text/plain": [
              "(1, 130, 13, 1)"
            ]
          },
          "metadata": {
            "tags": []
          },
          "execution_count": 25
        }
      ]
    },
    {
      "cell_type": "code",
      "metadata": {
        "id": "X55e2hN6ShP2"
      },
      "source": [
        "# perform prediction\n",
        "prediction = model_cnn.predict(X_to_predict)"
      ],
      "execution_count": 26,
      "outputs": []
    },
    {
      "cell_type": "code",
      "metadata": {
        "colab": {
          "base_uri": "https://localhost:8080/"
        },
        "id": "jBsKqDXdSzKP",
        "outputId": "0d707bf6-9232-4d53-de3c-f6d5a2c25d61"
      },
      "source": [
        "# get index with max value\n",
        "predicted_index = np.argmax(prediction, axis=1)\n",
        "\n",
        "print(\"Predicted Genre:\", int(predicted_index))"
      ],
      "execution_count": 27,
      "outputs": [
        {
          "output_type": "stream",
          "text": [
            "Predicted Genre: 7\n"
          ],
          "name": "stdout"
        }
      ]
    },
    {
      "cell_type": "code",
      "metadata": {
        "colab": {
          "base_uri": "https://localhost:8080/"
        },
        "id": "MdgbM96ZTr5t",
        "outputId": "da386183-dd5a-449e-832c-e02c9a68f714"
      },
      "source": [
        "# pick a sample to predict from the test set\n",
        "X_to_predict = X_test[50]\n",
        "y_to_predict = y_test[50]\n",
        "\n",
        "print(\"Real Genre:\", y_to_predict)\n",
        "\n",
        "X_to_predict = X_to_predict[np.newaxis, ...]\n",
        "\n",
        "prediction = model_cnn.predict(X_to_predict)\n",
        "\n",
        "# get index with max value\n",
        "predicted_index = np.argmax(prediction, axis=1)\n",
        "\n",
        "print(\"Predicted Genre:\", int(predicted_index))\n",
        "\n",
        "\n",
        "\n"
      ],
      "execution_count": 28,
      "outputs": [
        {
          "output_type": "stream",
          "text": [
            "Real Genre: 0\n",
            "Predicted Genre: 0\n"
          ],
          "name": "stdout"
        }
      ]
    },
    {
      "cell_type": "code",
      "metadata": {
        "colab": {
          "base_uri": "https://localhost:8080/"
        },
        "id": "N87pHYBKUC-7",
        "outputId": "e1e2828a-826c-442a-e38e-52578c17b914"
      },
      "source": [
        "len(X_test)"
      ],
      "execution_count": 29,
      "outputs": [
        {
          "output_type": "execute_result",
          "data": {
            "text/plain": [
              "2497"
            ]
          },
          "metadata": {
            "tags": []
          },
          "execution_count": 29
        }
      ]
    },
    {
      "cell_type": "code",
      "metadata": {
        "colab": {
          "base_uri": "https://localhost:8080/"
        },
        "id": "NmVeofARUrWD",
        "outputId": "57e01080-a57e-4675-c800-f20ccf6c44f2"
      },
      "source": [
        "for n in range(10):\n",
        "\n",
        "  i = random.randint(0,len(X_test))\n",
        "  # pick a sample to predict from the test set\n",
        "  X_to_predict = X_test[i]\n",
        "  y_to_predict = y_test[i]\n",
        "\n",
        "  print(\"\\nReal Genre:\", y_to_predict)\n",
        "\n",
        "  X_to_predict = X_to_predict[np.newaxis, ...]\n",
        "\n",
        "  prediction = model_cnn.predict(X_to_predict)\n",
        "\n",
        "  # get index with max value\n",
        "  predicted_index = np.argmax(prediction, axis=1)\n",
        "\n",
        "  print(\"Predicted Genre:\", int(predicted_index))\n"
      ],
      "execution_count": 31,
      "outputs": [
        {
          "output_type": "stream",
          "text": [
            "\n",
            "Real Genre: 4\n",
            "Predicted Genre: 6\n",
            "\n",
            "Real Genre: 3\n",
            "Predicted Genre: 3\n",
            "\n",
            "Real Genre: 1\n",
            "Predicted Genre: 1\n",
            "\n",
            "Real Genre: 4\n",
            "Predicted Genre: 4\n",
            "\n",
            "Real Genre: 3\n",
            "Predicted Genre: 3\n",
            "\n",
            "Real Genre: 2\n",
            "Predicted Genre: 7\n",
            "\n",
            "Real Genre: 4\n",
            "Predicted Genre: 4\n",
            "\n",
            "Real Genre: 8\n",
            "Predicted Genre: 0\n",
            "\n",
            "Real Genre: 6\n",
            "Predicted Genre: 6\n",
            "\n",
            "Real Genre: 3\n",
            "Predicted Genre: 3\n"
          ],
          "name": "stdout"
        }
      ]
    },
    {
      "cell_type": "markdown",
      "metadata": {
        "id": "M0YXsm8qmDB3"
      },
      "source": [
        "### Prediction on New Songs"
      ]
    },
    {
      "cell_type": "code",
      "metadata": {
        "id": "Anx5c-ZAVPDr"
      },
      "source": [
        "# Audio files pre-processing\n",
        "def process_input(audio_file, track_duration):\n",
        "\n",
        "  SAMPLE_RATE = 22050\n",
        "  NUM_MFCC = 13\n",
        "  N_FTT=2048\n",
        "  HOP_LENGTH=512\n",
        "  TRACK_DURATION = track_duration # measured in seconds\n",
        "  SAMPLES_PER_TRACK = SAMPLE_RATE * TRACK_DURATION\n",
        "  NUM_SEGMENTS = 10\n",
        "\n",
        "  samples_per_segment = int(SAMPLES_PER_TRACK / NUM_SEGMENTS)\n",
        "  num_mfcc_vectors_per_segment = math.ceil(samples_per_segment / HOP_LENGTH)\n",
        "\n",
        "  signal, sample_rate = librosa.load(audio_file, sr=SAMPLE_RATE)\n",
        "  \n",
        "  for d in range(10):\n",
        "\n",
        "    # calculate start and finish sample for current segment\n",
        "    start = samples_per_segment * d\n",
        "    finish = start + samples_per_segment\n",
        "\n",
        "    # extract mfcc\n",
        "    mfcc = librosa.feature.mfcc(signal[start:finish], sample_rate, n_mfcc=NUM_MFCC, n_fft=N_FTT, hop_length=HOP_LENGTH)\n",
        "    mfcc = mfcc.T\n",
        "\n",
        "    return mfcc"
      ],
      "execution_count": 42,
      "outputs": []
    },
    {
      "cell_type": "code",
      "metadata": {
        "id": "Kv68iVMTlFMi"
      },
      "source": [
        "genre_dict = {0:\"hiphop\",1:\"country\",2:\"jazz\",3:\"classical\",4:\"metal\",5:\"pop\",6:\"rock\",7:\"blues\",8:\"reggae\",9:\"disco\"}"
      ],
      "execution_count": 43,
      "outputs": []
    },
    {
      "cell_type": "code",
      "metadata": {
        "colab": {
          "base_uri": "https://localhost:8080/"
        },
        "id": "et20SKZGcdB3",
        "outputId": "c358cad8-6a4a-4dbe-b9c0-290b889f1fe8"
      },
      "source": [
        "new_input_mfcc = process_input(\"/content/Dee Yan-Key - Carousel Ride.mp3\", 30)"
      ],
      "execution_count": 44,
      "outputs": [
        {
          "output_type": "stream",
          "text": [
            "/usr/local/lib/python3.7/dist-packages/librosa/core/audio.py:162: UserWarning: PySoundFile failed. Trying audioread instead.\n",
            "  warnings.warn(\"PySoundFile failed. Trying audioread instead.\")\n"
          ],
          "name": "stderr"
        }
      ]
    },
    {
      "cell_type": "code",
      "metadata": {
        "colab": {
          "base_uri": "https://localhost:8080/"
        },
        "id": "cgZiyLV6gjEk",
        "outputId": "6c97ab37-21a2-451c-e380-6f44e0ae2045"
      },
      "source": [
        "type(new_input_mfcc)"
      ],
      "execution_count": 45,
      "outputs": [
        {
          "output_type": "execute_result",
          "data": {
            "text/plain": [
              "numpy.ndarray"
            ]
          },
          "metadata": {
            "tags": []
          },
          "execution_count": 45
        }
      ]
    },
    {
      "cell_type": "code",
      "metadata": {
        "colab": {
          "base_uri": "https://localhost:8080/"
        },
        "id": "ydD7goZKfH6u",
        "outputId": "9c3e8606-fed2-4d12-e692-cc6c44add907"
      },
      "source": [
        "new_input_mfcc.shape"
      ],
      "execution_count": 46,
      "outputs": [
        {
          "output_type": "execute_result",
          "data": {
            "text/plain": [
              "(130, 13)"
            ]
          },
          "metadata": {
            "tags": []
          },
          "execution_count": 46
        }
      ]
    },
    {
      "cell_type": "code",
      "metadata": {
        "colab": {
          "base_uri": "https://localhost:8080/"
        },
        "id": "ZQPIZq_zgK7q",
        "outputId": "1feead26-cc97-4465-d0c6-cb7309efbf61"
      },
      "source": [
        "X_to_predict = new_input_mfcc[np.newaxis, ..., np.newaxis]\n",
        "X_to_predict.shape"
      ],
      "execution_count": 47,
      "outputs": [
        {
          "output_type": "execute_result",
          "data": {
            "text/plain": [
              "(1, 130, 13, 1)"
            ]
          },
          "metadata": {
            "tags": []
          },
          "execution_count": 47
        }
      ]
    },
    {
      "cell_type": "code",
      "metadata": {
        "colab": {
          "base_uri": "https://localhost:8080/"
        },
        "id": "9xLY_SWwdOpt",
        "outputId": "98a78524-3c75-424b-d0e1-453a4da3a254"
      },
      "source": [
        "prediction = model_cnn.predict(X_to_predict)\n",
        "\n",
        "# get index with max value\n",
        "predicted_index = np.argmax(prediction, axis=1)\n",
        "\n",
        "print(\"Predicted Genre:\", genre_dict[int(predicted_index)])"
      ],
      "execution_count": 48,
      "outputs": [
        {
          "output_type": "stream",
          "text": [
            "Predicted Genre: blues\n"
          ],
          "name": "stdout"
        }
      ]
    },
    {
      "cell_type": "code",
      "metadata": {
        "colab": {
          "base_uri": "https://localhost:8080/"
        },
        "id": "8Ecm5DRTfic3",
        "outputId": "4791fdf7-1f76-4a8f-ee0c-609e993c5ffa"
      },
      "source": [
        "new_input_mfcc = process_input(\"/content/Filmy Ghost (Sábila Orbe) - KD6-3.7.mp3\", 30)"
      ],
      "execution_count": 49,
      "outputs": [
        {
          "output_type": "stream",
          "text": [
            "/usr/local/lib/python3.7/dist-packages/librosa/core/audio.py:162: UserWarning: PySoundFile failed. Trying audioread instead.\n",
            "  warnings.warn(\"PySoundFile failed. Trying audioread instead.\")\n"
          ],
          "name": "stderr"
        }
      ]
    },
    {
      "cell_type": "code",
      "metadata": {
        "colab": {
          "base_uri": "https://localhost:8080/"
        },
        "id": "79emlwPxhZY8",
        "outputId": "c4e6a907-5ba5-4ec9-d653-14c023f237a3"
      },
      "source": [
        "X_to_predict = new_input_mfcc[np.newaxis, ..., np.newaxis]\n",
        "X_to_predict.shape"
      ],
      "execution_count": 50,
      "outputs": [
        {
          "output_type": "execute_result",
          "data": {
            "text/plain": [
              "(1, 130, 13, 1)"
            ]
          },
          "metadata": {
            "tags": []
          },
          "execution_count": 50
        }
      ]
    },
    {
      "cell_type": "code",
      "metadata": {
        "colab": {
          "base_uri": "https://localhost:8080/"
        },
        "id": "2Ku2oyWqhcoK",
        "outputId": "986e83ec-ca3e-4099-e219-a01cdf98a8fc"
      },
      "source": [
        "prediction = model_cnn.predict(X_to_predict)\n",
        "\n",
        "# get index with max value\n",
        "predicted_index = np.argmax(prediction, axis=1)\n",
        "\n",
        "print(\"Predicted Genre:\", genre_dict[int(predicted_index)])"
      ],
      "execution_count": 51,
      "outputs": [
        {
          "output_type": "stream",
          "text": [
            "Predicted Genre: jazz\n"
          ],
          "name": "stdout"
        }
      ]
    },
    {
      "cell_type": "code",
      "metadata": {
        "id": "6f5gGDJQhe5W"
      },
      "source": [
        ""
      ],
      "execution_count": null,
      "outputs": []
    }
  ]
}