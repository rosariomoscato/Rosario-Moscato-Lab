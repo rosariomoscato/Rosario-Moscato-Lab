{
  "nbformat": 4,
  "nbformat_minor": 0,
  "metadata": {
    "colab": {
      "name": "pyaret-ts.ipynb",
      "provenance": []
    },
    "kernelspec": {
      "name": "python3",
      "display_name": "Python 3"
    },
    "language_info": {
      "name": "python"
    },
    "widgets": {
      "application/vnd.jupyter.widget-state+json": {
        "2ca5444521034e48a33f4df693fc235c": {
          "model_module": "@jupyter-widgets/controls",
          "model_name": "IntProgressModel",
          "model_module_version": "1.5.0",
          "state": {
            "_view_name": "ProgressView",
            "style": "IPY_MODEL_2d13b88bb42e4ec49f5f729566bdf1f9",
            "_dom_classes": [],
            "description": "Processing: ",
            "_model_name": "IntProgressModel",
            "bar_style": "",
            "max": 139,
            "_view_module": "@jupyter-widgets/controls",
            "_model_module_version": "1.5.0",
            "value": 138,
            "_view_count": null,
            "_view_module_version": "1.5.0",
            "orientation": "horizontal",
            "min": 0,
            "description_tooltip": null,
            "_model_module": "@jupyter-widgets/controls",
            "layout": "IPY_MODEL_6b954624310248ada995de586fb5b232"
          }
        },
        "2d13b88bb42e4ec49f5f729566bdf1f9": {
          "model_module": "@jupyter-widgets/controls",
          "model_name": "ProgressStyleModel",
          "model_module_version": "1.5.0",
          "state": {
            "_view_name": "StyleView",
            "_model_name": "ProgressStyleModel",
            "description_width": "",
            "_view_module": "@jupyter-widgets/base",
            "_model_module_version": "1.5.0",
            "_view_count": null,
            "_view_module_version": "1.2.0",
            "bar_color": null,
            "_model_module": "@jupyter-widgets/controls"
          }
        },
        "6b954624310248ada995de586fb5b232": {
          "model_module": "@jupyter-widgets/base",
          "model_name": "LayoutModel",
          "model_module_version": "1.2.0",
          "state": {
            "_view_name": "LayoutView",
            "grid_template_rows": null,
            "right": null,
            "justify_content": null,
            "_view_module": "@jupyter-widgets/base",
            "overflow": null,
            "_model_module_version": "1.2.0",
            "_view_count": null,
            "flex_flow": null,
            "width": null,
            "min_width": null,
            "border": null,
            "align_items": null,
            "bottom": null,
            "_model_module": "@jupyter-widgets/base",
            "top": null,
            "grid_column": null,
            "overflow_y": null,
            "overflow_x": null,
            "grid_auto_flow": null,
            "grid_area": null,
            "grid_template_columns": null,
            "flex": null,
            "_model_name": "LayoutModel",
            "justify_items": null,
            "grid_row": null,
            "max_height": null,
            "align_content": null,
            "visibility": null,
            "align_self": null,
            "height": null,
            "min_height": null,
            "padding": null,
            "grid_auto_rows": null,
            "grid_gap": null,
            "max_width": null,
            "order": null,
            "_view_module_version": "1.2.0",
            "grid_template_areas": null,
            "object_position": null,
            "object_fit": null,
            "grid_auto_columns": null,
            "margin": null,
            "display": null,
            "left": null
          }
        },
        "e8697cf550434b71b3b7fb39ca63e7b1": {
          "model_module": "@jupyter-widgets/controls",
          "model_name": "IntProgressModel",
          "model_module_version": "1.5.0",
          "state": {
            "_view_name": "ProgressView",
            "style": "IPY_MODEL_cea11da5eb7947c28ba5872383127251",
            "_dom_classes": [],
            "description": "Processing: ",
            "_model_name": "IntProgressModel",
            "bar_style": "",
            "max": 4,
            "_view_module": "@jupyter-widgets/controls",
            "_model_module_version": "1.5.0",
            "value": 4,
            "_view_count": null,
            "_view_module_version": "1.5.0",
            "orientation": "horizontal",
            "min": 0,
            "description_tooltip": null,
            "_model_module": "@jupyter-widgets/controls",
            "layout": "IPY_MODEL_7012356ad2dc431ea35cdf38d9fadc4f"
          }
        },
        "cea11da5eb7947c28ba5872383127251": {
          "model_module": "@jupyter-widgets/controls",
          "model_name": "ProgressStyleModel",
          "model_module_version": "1.5.0",
          "state": {
            "_view_name": "StyleView",
            "_model_name": "ProgressStyleModel",
            "description_width": "",
            "_view_module": "@jupyter-widgets/base",
            "_model_module_version": "1.5.0",
            "_view_count": null,
            "_view_module_version": "1.2.0",
            "bar_color": null,
            "_model_module": "@jupyter-widgets/controls"
          }
        },
        "7012356ad2dc431ea35cdf38d9fadc4f": {
          "model_module": "@jupyter-widgets/base",
          "model_name": "LayoutModel",
          "model_module_version": "1.2.0",
          "state": {
            "_view_name": "LayoutView",
            "grid_template_rows": null,
            "right": null,
            "justify_content": null,
            "_view_module": "@jupyter-widgets/base",
            "overflow": null,
            "_model_module_version": "1.2.0",
            "_view_count": null,
            "flex_flow": null,
            "width": null,
            "min_width": null,
            "border": null,
            "align_items": null,
            "bottom": null,
            "_model_module": "@jupyter-widgets/base",
            "top": null,
            "grid_column": null,
            "overflow_y": null,
            "overflow_x": null,
            "grid_auto_flow": null,
            "grid_area": null,
            "grid_template_columns": null,
            "flex": null,
            "_model_name": "LayoutModel",
            "justify_items": null,
            "grid_row": null,
            "max_height": null,
            "align_content": null,
            "visibility": null,
            "align_self": null,
            "height": null,
            "min_height": null,
            "padding": null,
            "grid_auto_rows": null,
            "grid_gap": null,
            "max_width": null,
            "order": null,
            "_view_module_version": "1.2.0",
            "grid_template_areas": null,
            "object_position": null,
            "object_fit": null,
            "grid_auto_columns": null,
            "margin": null,
            "display": null,
            "left": null
          }
        },
        "23b7a79b69e1473081bee12084c61a07": {
          "model_module": "@jupyter-widgets/controls",
          "model_name": "IntProgressModel",
          "model_module_version": "1.5.0",
          "state": {
            "_view_name": "ProgressView",
            "style": "IPY_MODEL_91482252418f4af0a9a569383eafd78e",
            "_dom_classes": [],
            "description": "Processing: ",
            "_model_name": "IntProgressModel",
            "bar_style": "",
            "max": 7,
            "_view_module": "@jupyter-widgets/controls",
            "_model_module_version": "1.5.0",
            "value": 7,
            "_view_count": null,
            "_view_module_version": "1.5.0",
            "orientation": "horizontal",
            "min": 0,
            "description_tooltip": null,
            "_model_module": "@jupyter-widgets/controls",
            "layout": "IPY_MODEL_7208666d256b45258e466ccff6897d52"
          }
        },
        "91482252418f4af0a9a569383eafd78e": {
          "model_module": "@jupyter-widgets/controls",
          "model_name": "ProgressStyleModel",
          "model_module_version": "1.5.0",
          "state": {
            "_view_name": "StyleView",
            "_model_name": "ProgressStyleModel",
            "description_width": "",
            "_view_module": "@jupyter-widgets/base",
            "_model_module_version": "1.5.0",
            "_view_count": null,
            "_view_module_version": "1.2.0",
            "bar_color": null,
            "_model_module": "@jupyter-widgets/controls"
          }
        },
        "7208666d256b45258e466ccff6897d52": {
          "model_module": "@jupyter-widgets/base",
          "model_name": "LayoutModel",
          "model_module_version": "1.2.0",
          "state": {
            "_view_name": "LayoutView",
            "grid_template_rows": null,
            "right": null,
            "justify_content": null,
            "_view_module": "@jupyter-widgets/base",
            "overflow": null,
            "_model_module_version": "1.2.0",
            "_view_count": null,
            "flex_flow": null,
            "width": null,
            "min_width": null,
            "border": null,
            "align_items": null,
            "bottom": null,
            "_model_module": "@jupyter-widgets/base",
            "top": null,
            "grid_column": null,
            "overflow_y": null,
            "overflow_x": null,
            "grid_auto_flow": null,
            "grid_area": null,
            "grid_template_columns": null,
            "flex": null,
            "_model_name": "LayoutModel",
            "justify_items": null,
            "grid_row": null,
            "max_height": null,
            "align_content": null,
            "visibility": null,
            "align_self": null,
            "height": null,
            "min_height": null,
            "padding": null,
            "grid_auto_rows": null,
            "grid_gap": null,
            "max_width": null,
            "order": null,
            "_view_module_version": "1.2.0",
            "grid_template_areas": null,
            "object_position": null,
            "object_fit": null,
            "grid_auto_columns": null,
            "margin": null,
            "display": null,
            "left": null
          }
        },
        "26ca80bd0f4a478d9c3e242e93e95de0": {
          "model_module": "@jupyter-widgets/controls",
          "model_name": "IntProgressModel",
          "model_module_version": "1.5.0",
          "state": {
            "_view_name": "ProgressView",
            "style": "IPY_MODEL_1d6281b6dc4949c2b18df13da68a5553",
            "_dom_classes": [],
            "description": "Processing: ",
            "_model_name": "IntProgressModel",
            "bar_style": "",
            "max": 3,
            "_view_module": "@jupyter-widgets/controls",
            "_model_module_version": "1.5.0",
            "value": 3,
            "_view_count": null,
            "_view_module_version": "1.5.0",
            "orientation": "horizontal",
            "min": 0,
            "description_tooltip": null,
            "_model_module": "@jupyter-widgets/controls",
            "layout": "IPY_MODEL_50658fc6ee36459f9cc902383496b618"
          }
        },
        "1d6281b6dc4949c2b18df13da68a5553": {
          "model_module": "@jupyter-widgets/controls",
          "model_name": "ProgressStyleModel",
          "model_module_version": "1.5.0",
          "state": {
            "_view_name": "StyleView",
            "_model_name": "ProgressStyleModel",
            "description_width": "",
            "_view_module": "@jupyter-widgets/base",
            "_model_module_version": "1.5.0",
            "_view_count": null,
            "_view_module_version": "1.2.0",
            "bar_color": null,
            "_model_module": "@jupyter-widgets/controls"
          }
        },
        "50658fc6ee36459f9cc902383496b618": {
          "model_module": "@jupyter-widgets/base",
          "model_name": "LayoutModel",
          "model_module_version": "1.2.0",
          "state": {
            "_view_name": "LayoutView",
            "grid_template_rows": null,
            "right": null,
            "justify_content": null,
            "_view_module": "@jupyter-widgets/base",
            "overflow": null,
            "_model_module_version": "1.2.0",
            "_view_count": null,
            "flex_flow": null,
            "width": null,
            "min_width": null,
            "border": null,
            "align_items": null,
            "bottom": null,
            "_model_module": "@jupyter-widgets/base",
            "top": null,
            "grid_column": null,
            "overflow_y": null,
            "overflow_x": null,
            "grid_auto_flow": null,
            "grid_area": null,
            "grid_template_columns": null,
            "flex": null,
            "_model_name": "LayoutModel",
            "justify_items": null,
            "grid_row": null,
            "max_height": null,
            "align_content": null,
            "visibility": null,
            "align_self": null,
            "height": null,
            "min_height": null,
            "padding": null,
            "grid_auto_rows": null,
            "grid_gap": null,
            "max_width": null,
            "order": null,
            "_view_module_version": "1.2.0",
            "grid_template_areas": null,
            "object_position": null,
            "object_fit": null,
            "grid_auto_columns": null,
            "margin": null,
            "display": null,
            "left": null
          }
        },
        "8e8b159c2ad74028ade88decc403f841": {
          "model_module": "@jupyter-widgets/controls",
          "model_name": "IntProgressModel",
          "model_module_version": "1.5.0",
          "state": {
            "_view_name": "ProgressView",
            "style": "IPY_MODEL_d64fb6ffbb77452380a4cbd57ee45226",
            "_dom_classes": [],
            "description": "Processing: ",
            "_model_name": "IntProgressModel",
            "bar_style": "",
            "max": 139,
            "_view_module": "@jupyter-widgets/controls",
            "_model_module_version": "1.5.0",
            "value": 134,
            "_view_count": null,
            "_view_module_version": "1.5.0",
            "orientation": "horizontal",
            "min": 0,
            "description_tooltip": null,
            "_model_module": "@jupyter-widgets/controls",
            "layout": "IPY_MODEL_a3dcbbadd9844e3b9363e7ce752c0a47"
          }
        },
        "d64fb6ffbb77452380a4cbd57ee45226": {
          "model_module": "@jupyter-widgets/controls",
          "model_name": "ProgressStyleModel",
          "model_module_version": "1.5.0",
          "state": {
            "_view_name": "StyleView",
            "_model_name": "ProgressStyleModel",
            "description_width": "",
            "_view_module": "@jupyter-widgets/base",
            "_model_module_version": "1.5.0",
            "_view_count": null,
            "_view_module_version": "1.2.0",
            "bar_color": null,
            "_model_module": "@jupyter-widgets/controls"
          }
        },
        "a3dcbbadd9844e3b9363e7ce752c0a47": {
          "model_module": "@jupyter-widgets/base",
          "model_name": "LayoutModel",
          "model_module_version": "1.2.0",
          "state": {
            "_view_name": "LayoutView",
            "grid_template_rows": null,
            "right": null,
            "justify_content": null,
            "_view_module": "@jupyter-widgets/base",
            "overflow": null,
            "_model_module_version": "1.2.0",
            "_view_count": null,
            "flex_flow": null,
            "width": null,
            "min_width": null,
            "border": null,
            "align_items": null,
            "bottom": null,
            "_model_module": "@jupyter-widgets/base",
            "top": null,
            "grid_column": null,
            "overflow_y": null,
            "overflow_x": null,
            "grid_auto_flow": null,
            "grid_area": null,
            "grid_template_columns": null,
            "flex": null,
            "_model_name": "LayoutModel",
            "justify_items": null,
            "grid_row": null,
            "max_height": null,
            "align_content": null,
            "visibility": null,
            "align_self": null,
            "height": null,
            "min_height": null,
            "padding": null,
            "grid_auto_rows": null,
            "grid_gap": null,
            "max_width": null,
            "order": null,
            "_view_module_version": "1.2.0",
            "grid_template_areas": null,
            "object_position": null,
            "object_fit": null,
            "grid_auto_columns": null,
            "margin": null,
            "display": null,
            "left": null
          }
        }
      }
    }
  },
  "cells": [
    {
      "cell_type": "markdown",
      "source": [
        "#PyCaret Time Series"
      ],
      "metadata": {
        "id": "1eLurMaYkvFO"
      }
    },
    {
      "cell_type": "code",
      "execution_count": null,
      "metadata": {
        "id": "SI6HZ5Bjkqqp"
      },
      "outputs": [],
      "source": [
        "!pip install pycaret-ts-alpha"
      ]
    },
    {
      "cell_type": "code",
      "source": [
        "import pandas as pd\n",
        "from pycaret.datasets import get_data"
      ],
      "metadata": {
        "id": "TS2XfMGLk1vV"
      },
      "execution_count": 1,
      "outputs": []
    },
    {
      "cell_type": "code",
      "source": [
        "data = get_data('pycaret_downloads')"
      ],
      "metadata": {
        "colab": {
          "base_uri": "https://localhost:8080/",
          "height": 206
        },
        "id": "TAfcQ6wGs0bE",
        "outputId": "a041ee46-6ee6-49cf-8834-6155af0b85b9"
      },
      "execution_count": 2,
      "outputs": [
        {
          "output_type": "display_data",
          "data": {
            "text/html": [
              "<div>\n",
              "<style scoped>\n",
              "    .dataframe tbody tr th:only-of-type {\n",
              "        vertical-align: middle;\n",
              "    }\n",
              "\n",
              "    .dataframe tbody tr th {\n",
              "        vertical-align: top;\n",
              "    }\n",
              "\n",
              "    .dataframe thead th {\n",
              "        text-align: right;\n",
              "    }\n",
              "</style>\n",
              "<table border=\"1\" class=\"dataframe\">\n",
              "  <thead>\n",
              "    <tr style=\"text-align: right;\">\n",
              "      <th></th>\n",
              "      <th>Date</th>\n",
              "      <th>Total</th>\n",
              "    </tr>\n",
              "  </thead>\n",
              "  <tbody>\n",
              "    <tr>\n",
              "      <th>0</th>\n",
              "      <td>7/8/2021</td>\n",
              "      <td>3773</td>\n",
              "    </tr>\n",
              "    <tr>\n",
              "      <th>1</th>\n",
              "      <td>7/9/2021</td>\n",
              "      <td>3172</td>\n",
              "    </tr>\n",
              "    <tr>\n",
              "      <th>2</th>\n",
              "      <td>7/10/2021</td>\n",
              "      <td>2079</td>\n",
              "    </tr>\n",
              "    <tr>\n",
              "      <th>3</th>\n",
              "      <td>7/11/2021</td>\n",
              "      <td>2725</td>\n",
              "    </tr>\n",
              "    <tr>\n",
              "      <th>4</th>\n",
              "      <td>7/12/2021</td>\n",
              "      <td>4542</td>\n",
              "    </tr>\n",
              "  </tbody>\n",
              "</table>\n",
              "</div>"
            ],
            "text/plain": [
              "        Date  Total\n",
              "0   7/8/2021   3773\n",
              "1   7/9/2021   3172\n",
              "2  7/10/2021   2079\n",
              "3  7/11/2021   2725\n",
              "4  7/12/2021   4542"
            ]
          },
          "metadata": {}
        }
      ]
    },
    {
      "cell_type": "code",
      "source": [
        "data.info()"
      ],
      "metadata": {
        "colab": {
          "base_uri": "https://localhost:8080/"
        },
        "id": "HHe4-Lh9s9FU",
        "outputId": "fcbe998d-89ca-42f5-bdee-72ee0c52a53e"
      },
      "execution_count": 3,
      "outputs": [
        {
          "output_type": "stream",
          "name": "stdout",
          "text": [
            "<class 'pandas.core.frame.DataFrame'>\n",
            "RangeIndex: 90 entries, 0 to 89\n",
            "Data columns (total 2 columns):\n",
            " #   Column  Non-Null Count  Dtype \n",
            "---  ------  --------------  ----- \n",
            " 0   Date    90 non-null     object\n",
            " 1   Total   90 non-null     int64 \n",
            "dtypes: int64(1), object(1)\n",
            "memory usage: 1.5+ KB\n"
          ]
        }
      ]
    },
    {
      "cell_type": "code",
      "source": [
        "data['Date'] = pd.to_datetime(data['Date'])\n",
        "data = data.groupby('Date').sum()"
      ],
      "metadata": {
        "id": "DGaGClpus-k2"
      },
      "execution_count": 4,
      "outputs": []
    },
    {
      "cell_type": "code",
      "source": [
        "data = data.asfreq('D')\n",
        "data.head()"
      ],
      "metadata": {
        "colab": {
          "base_uri": "https://localhost:8080/",
          "height": 237
        },
        "id": "Kuz2aIvIlkiT",
        "outputId": "4fd152ce-1b2c-4c82-ed47-3a5100d3dc3d"
      },
      "execution_count": 5,
      "outputs": [
        {
          "output_type": "execute_result",
          "data": {
            "text/html": [
              "<div>\n",
              "<style scoped>\n",
              "    .dataframe tbody tr th:only-of-type {\n",
              "        vertical-align: middle;\n",
              "    }\n",
              "\n",
              "    .dataframe tbody tr th {\n",
              "        vertical-align: top;\n",
              "    }\n",
              "\n",
              "    .dataframe thead th {\n",
              "        text-align: right;\n",
              "    }\n",
              "</style>\n",
              "<table border=\"1\" class=\"dataframe\">\n",
              "  <thead>\n",
              "    <tr style=\"text-align: right;\">\n",
              "      <th></th>\n",
              "      <th>Total</th>\n",
              "    </tr>\n",
              "    <tr>\n",
              "      <th>Date</th>\n",
              "      <th></th>\n",
              "    </tr>\n",
              "  </thead>\n",
              "  <tbody>\n",
              "    <tr>\n",
              "      <th>2021-07-08</th>\n",
              "      <td>3773</td>\n",
              "    </tr>\n",
              "    <tr>\n",
              "      <th>2021-07-09</th>\n",
              "      <td>3172</td>\n",
              "    </tr>\n",
              "    <tr>\n",
              "      <th>2021-07-10</th>\n",
              "      <td>2079</td>\n",
              "    </tr>\n",
              "    <tr>\n",
              "      <th>2021-07-11</th>\n",
              "      <td>2725</td>\n",
              "    </tr>\n",
              "    <tr>\n",
              "      <th>2021-07-12</th>\n",
              "      <td>4542</td>\n",
              "    </tr>\n",
              "  </tbody>\n",
              "</table>\n",
              "</div>"
            ],
            "text/plain": [
              "            Total\n",
              "Date             \n",
              "2021-07-08   3773\n",
              "2021-07-09   3172\n",
              "2021-07-10   2079\n",
              "2021-07-11   2725\n",
              "2021-07-12   4542"
            ]
          },
          "metadata": {},
          "execution_count": 5
        }
      ]
    },
    {
      "cell_type": "code",
      "source": [
        "data.shape"
      ],
      "metadata": {
        "colab": {
          "base_uri": "https://localhost:8080/"
        },
        "id": "5UCbhduMmFEQ",
        "outputId": "82df2f39-c81b-465b-fc97-e2940a587892"
      },
      "execution_count": 6,
      "outputs": [
        {
          "output_type": "execute_result",
          "data": {
            "text/plain": [
              "(90, 1)"
            ]
          },
          "metadata": {},
          "execution_count": 6
        }
      ]
    },
    {
      "cell_type": "code",
      "source": [
        "# plot the data\n",
        "data.plot();"
      ],
      "metadata": {
        "colab": {
          "base_uri": "https://localhost:8080/",
          "height": 314
        },
        "id": "AIRN-9qTlwYG",
        "outputId": "e7f35c58-0594-4320-8195-8e5501111cf9"
      },
      "execution_count": 7,
      "outputs": [
        {
          "output_type": "display_data",
          "data": {
            "image/png": "[encoded data removed]",
            "text/plain": [
              "<Figure size 432x288 with 1 Axes>"
            ]
          },
          "metadata": {
            "needs_background": "light"
          }
        }
      ]
    },
    {
      "cell_type": "code",
      "source": [
        "# with functional API\n",
        "#from pycaret.time_series import *\n",
        "#setup(data, fh = 7, fold = 3, session_id = 123)# with new object-oriented API\n",
        "from pycaret.internal.pycaret_experiment import TimeSeriesExperiment\n",
        "exp = TimeSeriesExperiment()\n",
        "exp.setup(data, fh = 7, fold = 3, session_id = 123)"
      ],
      "metadata": {
        "colab": {
          "base_uri": "https://localhost:8080/",
          "height": 725
        },
        "id": "IuA1Dyo3l3LA",
        "outputId": "2ca275c7-c8b2-4a3f-aaca-fe490f809a90"
      },
      "execution_count": 8,
      "outputs": [
        {
          "output_type": "display_data",
          "data": {
            "text/html": [
              "<div>\n",
              "<style scoped>\n",
              "    .dataframe tbody tr th:only-of-type {\n",
              "        vertical-align: middle;\n",
              "    }\n",
              "\n",
              "    .dataframe tbody tr th {\n",
              "        vertical-align: top;\n",
              "    }\n",
              "\n",
              "    .dataframe thead th {\n",
              "        text-align: right;\n",
              "    }\n",
              "</style>\n",
              "<table border=\"1\" class=\"dataframe\">\n",
              "  <thead>\n",
              "    <tr style=\"text-align: right;\">\n",
              "      <th></th>\n",
              "      <th>Description</th>\n",
              "      <th>Value</th>\n",
              "    </tr>\n",
              "  </thead>\n",
              "  <tbody>\n",
              "    <tr>\n",
              "      <th>0</th>\n",
              "      <td>session_id</td>\n",
              "      <td>123</td>\n",
              "    </tr>\n",
              "    <tr>\n",
              "      <th>1</th>\n",
              "      <td>Original Data</td>\n",
              "      <td>(90, 1)</td>\n",
              "    </tr>\n",
              "    <tr>\n",
              "      <th>2</th>\n",
              "      <td>Missing Values</td>\n",
              "      <td>False</td>\n",
              "    </tr>\n",
              "    <tr>\n",
              "      <th>3</th>\n",
              "      <td>Transformed Train Set</td>\n",
              "      <td>(83,)</td>\n",
              "    </tr>\n",
              "    <tr>\n",
              "      <th>4</th>\n",
              "      <td>Transformed Test Set</td>\n",
              "      <td>(7,)</td>\n",
              "    </tr>\n",
              "    <tr>\n",
              "      <th>5</th>\n",
              "      <td>Fold Generator</td>\n",
              "      <td>ExpandingWindowSplitter</td>\n",
              "    </tr>\n",
              "    <tr>\n",
              "      <th>6</th>\n",
              "      <td>Fold Number</td>\n",
              "      <td>3</td>\n",
              "    </tr>\n",
              "    <tr>\n",
              "      <th>7</th>\n",
              "      <td>Enforce Prediction Interval</td>\n",
              "      <td>False</td>\n",
              "    </tr>\n",
              "    <tr>\n",
              "      <th>8</th>\n",
              "      <td>Seasonal Period Tested</td>\n",
              "      <td>7</td>\n",
              "    </tr>\n",
              "    <tr>\n",
              "      <th>9</th>\n",
              "      <td>Seasonality Detected</td>\n",
              "      <td>True</td>\n",
              "    </tr>\n",
              "    <tr>\n",
              "      <th>10</th>\n",
              "      <td>Seasonality Used in Models</td>\n",
              "      <td>7</td>\n",
              "    </tr>\n",
              "    <tr>\n",
              "      <th>11</th>\n",
              "      <td>Target Strictly Positive</td>\n",
              "      <td>True</td>\n",
              "    </tr>\n",
              "    <tr>\n",
              "      <th>12</th>\n",
              "      <td>Target White Noise</td>\n",
              "      <td>No</td>\n",
              "    </tr>\n",
              "    <tr>\n",
              "      <th>13</th>\n",
              "      <td>Recommended d</td>\n",
              "      <td>1</td>\n",
              "    </tr>\n",
              "    <tr>\n",
              "      <th>14</th>\n",
              "      <td>Recommended Seasonal D</td>\n",
              "      <td>1</td>\n",
              "    </tr>\n",
              "    <tr>\n",
              "      <th>15</th>\n",
              "      <td>CPU Jobs</td>\n",
              "      <td>-1</td>\n",
              "    </tr>\n",
              "    <tr>\n",
              "      <th>16</th>\n",
              "      <td>Use GPU</td>\n",
              "      <td>False</td>\n",
              "    </tr>\n",
              "    <tr>\n",
              "      <th>17</th>\n",
              "      <td>Log Experiment</td>\n",
              "      <td>False</td>\n",
              "    </tr>\n",
              "    <tr>\n",
              "      <th>18</th>\n",
              "      <td>Experiment Name</td>\n",
              "      <td>ts-default-name</td>\n",
              "    </tr>\n",
              "    <tr>\n",
              "      <th>19</th>\n",
              "      <td>USI</td>\n",
              "      <td>3fc2</td>\n",
              "    </tr>\n",
              "    <tr>\n",
              "      <th>20</th>\n",
              "      <td>Imputation Type</td>\n",
              "      <td>simple</td>\n",
              "    </tr>\n",
              "  </tbody>\n",
              "</table>\n",
              "</div>"
            ],
            "text/plain": [
              "                    Description                    Value\n",
              "0                    session_id                      123\n",
              "1                 Original Data                  (90, 1)\n",
              "2                Missing Values                    False\n",
              "3         Transformed Train Set                    (83,)\n",
              "4          Transformed Test Set                     (7,)\n",
              "5                Fold Generator  ExpandingWindowSplitter\n",
              "6                   Fold Number                        3\n",
              "7   Enforce Prediction Interval                    False\n",
              "8        Seasonal Period Tested                        7\n",
              "9          Seasonality Detected                     True\n",
              "10   Seasonality Used in Models                        7\n",
              "11     Target Strictly Positive                     True\n",
              "12           Target White Noise                       No\n",
              "13                Recommended d                        1\n",
              "14       Recommended Seasonal D                        1\n",
              "15                     CPU Jobs                       -1\n",
              "16                      Use GPU                    False\n",
              "17               Log Experiment                    False\n",
              "18              Experiment Name          ts-default-name\n",
              "19                          USI                     3fc2\n",
              "20              Imputation Type                   simple"
            ]
          },
          "metadata": {}
        },
        {
          "output_type": "execute_result",
          "data": {
            "text/plain": [
              "<pycaret.internal.pycaret_experiment.time_series_experiment.TimeSeriesExperiment at 0x7f007a5a8910>"
            ]
          },
          "metadata": {},
          "execution_count": 8
        }
      ]
    },
    {
      "cell_type": "code",
      "source": [
        "#Exploratory Data Analysis\n",
        "# functional API\n",
        "#plot_model(plot = 'ts')# object-oriented API\n",
        "exp.plot_model(plot = 'ts')"
      ],
      "metadata": {
        "colab": {
          "base_uri": "https://localhost:8080/",
          "height": 542
        },
        "id": "xZ_336bRmAyZ",
        "outputId": "33063dc0-669b-4433-cc88-1b78e6692f5b"
      },
      "execution_count": 9,
      "outputs": [
        {
          "output_type": "display_data",
          "data": {
            "text/html": [
              "<html>\n",
              "<head><meta charset=\"utf-8\" /></head>\n",
              "<body>\n",
              "    <div>            <script src=\"https://cdnjs.cloudflare.com/ajax/libs/mathjax/2.7.5/MathJax.js?config=TeX-AMS-MML_SVG\"></script><script type=\"text/javascript\">if (window.MathJax) {MathJax.Hub.Config({SVG: {font: \"STIX-Web\"}});}</script>                <script type=\"text/javascript\">window.PlotlyConfig = {MathJaxConfig: 'local'};</script>\n",
              "        <script src=\"https://cdn.plot.ly/plotly-2.6.3.min.js\"></script>                <div id=\"cd9ba878-bd7f-4227-b4a3-24179af70c05\" class=\"plotly-graph-div\" style=\"height:525px; width:100%;\"></div>            <script type=\"text/javascript\">                                    window.PLOTLYENV=window.PLOTLYENV || {};                                    if (document.getElementById(\"cd9ba878-bd7f-4227-b4a3-24179af70c05\")) {                    Plotly.newPlot(                        \"cd9ba878-bd7f-4227-b4a3-24179af70c05\",                        [{\"marker\":{\"color\":\"#3f3f3f\",\"size\":5},\"mode\":\"lines+markers\",\"name\":\"Time Series\",\"showlegend\":true,\"x\":[\"2021-07-08T00:00:00\",\"2021-07-09T00:00:00\",\"2021-07-10T00:00:00\",\"2021-07-11T00:00:00\",\"2021-07-12T00:00:00\",\"2021-07-13T00:00:00\",\"2021-07-14T00:00:00\",\"2021-07-15T00:00:00\",\"2021-07-16T00:00:00\",\"2021-07-17T00:00:00\",\"2021-07-18T00:00:00\",\"2021-07-19T00:00:00\",\"2021-07-20T00:00:00\",\"2021-07-21T00:00:00\",\"2021-07-22T00:00:00\",\"2021-07-23T00:00:00\",\"2021-07-24T00:00:00\",\"2021-07-25T00:00:00\",\"2021-07-26T00:00:00\",\"2021-07-27T00:00:00\",\"2021-07-28T00:00:00\",\"2021-07-29T00:00:00\",\"2021-07-30T00:00:00\",\"2021-07-31T00:00:00\",\"2021-08-01T00:00:00\",\"2021-08-02T00:00:00\",\"2021-08-03T00:00:00\",\"2021-08-04T00:00:00\",\"2021-08-05T00:00:00\",\"2021-08-06T00:00:00\",\"2021-08-07T00:00:00\",\"2021-08-08T00:00:00\",\"2021-08-09T00:00:00\",\"2021-08-10T00:00:00\",\"2021-08-11T00:00:00\",\"2021-08-12T00:00:00\",\"2021-08-13T00:00:00\",\"2021-08-14T00:00:00\",\"2021-08-15T00:00:00\",\"2021-08-16T00:00:00\",\"2021-08-17T00:00:00\",\"2021-08-18T00:00:00\",\"2021-08-19T00:00:00\",\"2021-08-20T00:00:00\",\"2021-08-21T00:00:00\",\"2021-08-22T00:00:00\",\"2021-08-23T00:00:00\",\"2021-08-24T00:00:00\",\"2021-08-25T00:00:00\",\"2021-08-26T00:00:00\",\"2021-08-27T00:00:00\",\"2021-08-28T00:00:00\",\"2021-08-29T00:00:00\",\"2021-08-30T00:00:00\",\"2021-08-31T00:00:00\",\"2021-09-01T00:00:00\",\"2021-09-02T00:00:00\",\"2021-09-03T00:00:00\",\"2021-09-04T00:00:00\",\"2021-09-05T00:00:00\",\"2021-09-06T00:00:00\",\"2021-09-07T00:00:00\",\"2021-09-08T00:00:00\",\"2021-09-09T00:00:00\",\"2021-09-10T00:00:00\",\"2021-09-11T00:00:00\",\"2021-09-12T00:00:00\",\"2021-09-13T00:00:00\",\"2021-09-14T00:00:00\",\"2021-09-15T00:00:00\",\"2021-09-16T00:00:00\",\"2021-09-17T00:00:00\",\"2021-09-18T00:00:00\",\"2021-09-19T00:00:00\",\"2021-09-20T00:00:00\",\"2021-09-21T00:00:00\",\"2021-09-22T00:00:00\",\"2021-09-23T00:00:00\",\"2021-09-24T00:00:00\",\"2021-09-25T00:00:00\",\"2021-09-26T00:00:00\",\"2021-09-27T00:00:00\",\"2021-09-28T00:00:00\",\"2021-09-29T00:00:00\",\"2021-09-30T00:00:00\",\"2021-10-01T00:00:00\",\"2021-10-02T00:00:00\",\"2021-10-03T00:00:00\",\"2021-10-04T00:00:00\",\"2021-10-05T00:00:00\"],\"y\":[3773,3172,2079,2725,4542,3795,3941,4064,3474,2093,2426,4339,4064,4224,4603,4369,2532,3276,4917,4430,4977,5193,4001,1996,2538,4764,5651,5777,4789,3782,1920,2526,4481,6034,5006,4450,3112,1914,2359,3948,5727,6365,6323,5151,1947,3128,7999,7104,6457,6643,5355,2341,2367,5592,6770,6877,7272,6279,2741,2483,5456,6082,6139,5865,6362,3132,2681,5788,7001,6721,7556,7278,4026,3514,6476,7863,8418,8290,7189,3567,4088,7418,8765,7798,9212,7115,3903,5038,7843,8872],\"type\":\"scatter\"}],                        {\"title\":{\"text\":\"Time Series | Total\"},\"xaxis\":{\"title\":{\"text\":\"Time\"}},\"yaxis\":{\"title\":{\"text\":\"Values\"}},\"template\":{\"data\":{\"barpolar\":[{\"marker\":{\"line\":{\"color\":\"rgb(237,237,237)\",\"width\":0.5},\"pattern\":{\"fillmode\":\"overlay\",\"size\":10,\"solidity\":0.2}},\"type\":\"barpolar\"}],\"bar\":[{\"error_x\":{\"color\":\"rgb(51,51,51)\"},\"error_y\":{\"color\":\"rgb(51,51,51)\"},\"marker\":{\"line\":{\"color\":\"rgb(237,237,237)\",\"width\":0.5},\"pattern\":{\"fillmode\":\"overlay\",\"size\":10,\"solidity\":0.2}},\"type\":\"bar\"}],\"carpet\":[{\"aaxis\":{\"endlinecolor\":\"rgb(51,51,51)\",\"gridcolor\":\"white\",\"linecolor\":\"white\",\"minorgridcolor\":\"white\",\"startlinecolor\":\"rgb(51,51,51)\"},\"baxis\":{\"endlinecolor\":\"rgb(51,51,51)\",\"gridcolor\":\"white\",\"linecolor\":\"white\",\"minorgridcolor\":\"white\",\"startlinecolor\":\"rgb(51,51,51)\"},\"type\":\"carpet\"}],\"choropleth\":[{\"colorbar\":{\"outlinewidth\":0,\"tickcolor\":\"rgb(237,237,237)\",\"ticklen\":6,\"ticks\":\"inside\"},\"type\":\"choropleth\"}],\"contourcarpet\":[{\"colorbar\":{\"outlinewidth\":0,\"tickcolor\":\"rgb(237,237,237)\",\"ticklen\":6,\"ticks\":\"inside\"},\"type\":\"contourcarpet\"}],\"contour\":[{\"colorbar\":{\"outlinewidth\":0,\"tickcolor\":\"rgb(237,237,237)\",\"ticklen\":6,\"ticks\":\"inside\"},\"colorscale\":[[0,\"rgb(20,44,66)\"],[1,\"rgb(90,179,244)\"]],\"type\":\"contour\"}],\"heatmapgl\":[{\"colorbar\":{\"outlinewidth\":0,\"tickcolor\":\"rgb(237,237,237)\",\"ticklen\":6,\"ticks\":\"inside\"},\"colorscale\":[[0,\"rgb(20,44,66)\"],[1,\"rgb(90,179,244)\"]],\"type\":\"heatmapgl\"}],\"heatmap\":[{\"colorbar\":{\"outlinewidth\":0,\"tickcolor\":\"rgb(237,237,237)\",\"ticklen\":6,\"ticks\":\"inside\"},\"colorscale\":[[0,\"rgb(20,44,66)\"],[1,\"rgb(90,179,244)\"]],\"type\":\"heatmap\"}],\"histogram2dcontour\":[{\"colorbar\":{\"outlinewidth\":0,\"tickcolor\":\"rgb(237,237,237)\",\"ticklen\":6,\"ticks\":\"inside\"},\"colorscale\":[[0,\"rgb(20,44,66)\"],[1,\"rgb(90,179,244)\"]],\"type\":\"histogram2dcontour\"}],\"histogram2d\":[{\"colorbar\":{\"outlinewidth\":0,\"tickcolor\":\"rgb(237,237,237)\",\"ticklen\":6,\"ticks\":\"inside\"},\"colorscale\":[[0,\"rgb(20,44,66)\"],[1,\"rgb(90,179,244)\"]],\"type\":\"histogram2d\"}],\"histogram\":[{\"marker\":{\"pattern\":{\"fillmode\":\"overlay\",\"size\":10,\"solidity\":0.2}},\"type\":\"histogram\"}],\"mesh3d\":[{\"colorbar\":{\"outlinewidth\":0,\"tickcolor\":\"rgb(237,237,237)\",\"ticklen\":6,\"ticks\":\"inside\"},\"type\":\"mesh3d\"}],\"parcoords\":[{\"line\":{\"colorbar\":{\"outlinewidth\":0,\"tickcolor\":\"rgb(237,237,237)\",\"ticklen\":6,\"ticks\":\"inside\"}},\"type\":\"parcoords\"}],\"pie\":[{\"automargin\":true,\"type\":\"pie\"}],\"scatter3d\":[{\"line\":{\"colorbar\":{\"outlinewidth\":0,\"tickcolor\":\"rgb(237,237,237)\",\"ticklen\":6,\"ticks\":\"inside\"}},\"marker\":{\"colorbar\":{\"outlinewidth\":0,\"tickcolor\":\"rgb(237,237,237)\",\"ticklen\":6,\"ticks\":\"inside\"}},\"type\":\"scatter3d\"}],\"scattercarpet\":[{\"marker\":{\"colorbar\":{\"outlinewidth\":0,\"tickcolor\":\"rgb(237,237,237)\",\"ticklen\":6,\"ticks\":\"inside\"}},\"type\":\"scattercarpet\"}],\"scattergeo\":[{\"marker\":{\"colorbar\":{\"outlinewidth\":0,\"tickcolor\":\"rgb(237,237,237)\",\"ticklen\":6,\"ticks\":\"inside\"}},\"type\":\"scattergeo\"}],\"scattergl\":[{\"marker\":{\"colorbar\":{\"outlinewidth\":0,\"tickcolor\":\"rgb(237,237,237)\",\"ticklen\":6,\"ticks\":\"inside\"}},\"type\":\"scattergl\"}],\"scattermapbox\":[{\"marker\":{\"colorbar\":{\"outlinewidth\":0,\"tickcolor\":\"rgb(237,237,237)\",\"ticklen\":6,\"ticks\":\"inside\"}},\"type\":\"scattermapbox\"}],\"scatterpolargl\":[{\"marker\":{\"colorbar\":{\"outlinewidth\":0,\"tickcolor\":\"rgb(237,237,237)\",\"ticklen\":6,\"ticks\":\"inside\"}},\"type\":\"scatterpolargl\"}],\"scatterpolar\":[{\"marker\":{\"colorbar\":{\"outlinewidth\":0,\"tickcolor\":\"rgb(237,237,237)\",\"ticklen\":6,\"ticks\":\"inside\"}},\"type\":\"scatterpolar\"}],\"scatter\":[{\"marker\":{\"colorbar\":{\"outlinewidth\":0,\"tickcolor\":\"rgb(237,237,237)\",\"ticklen\":6,\"ticks\":\"inside\"}},\"type\":\"scatter\"}],\"scatterternary\":[{\"marker\":{\"colorbar\":{\"outlinewidth\":0,\"tickcolor\":\"rgb(237,237,237)\",\"ticklen\":6,\"ticks\":\"inside\"}},\"type\":\"scatterternary\"}],\"surface\":[{\"colorbar\":{\"outlinewidth\":0,\"tickcolor\":\"rgb(237,237,237)\",\"ticklen\":6,\"ticks\":\"inside\"},\"colorscale\":[[0,\"rgb(20,44,66)\"],[1,\"rgb(90,179,244)\"]],\"type\":\"surface\"}],\"table\":[{\"cells\":{\"fill\":{\"color\":\"rgb(237,237,237)\"},\"line\":{\"color\":\"white\"}},\"header\":{\"fill\":{\"color\":\"rgb(217,217,217)\"},\"line\":{\"color\":\"white\"}},\"type\":\"table\"}]},\"layout\":{\"annotationdefaults\":{\"arrowhead\":0,\"arrowwidth\":1},\"autotypenumbers\":\"strict\",\"coloraxis\":{\"colorbar\":{\"outlinewidth\":0,\"tickcolor\":\"rgb(237,237,237)\",\"ticklen\":6,\"ticks\":\"inside\"}},\"colorscale\":{\"sequential\":[[0,\"rgb(20,44,66)\"],[1,\"rgb(90,179,244)\"]],\"sequentialminus\":[[0,\"rgb(20,44,66)\"],[1,\"rgb(90,179,244)\"]]},\"colorway\":[\"#F8766D\",\"#A3A500\",\"#00BF7D\",\"#00B0F6\",\"#E76BF3\"],\"font\":{\"color\":\"rgb(51,51,51)\"},\"geo\":{\"bgcolor\":\"white\",\"lakecolor\":\"white\",\"landcolor\":\"rgb(237,237,237)\",\"showlakes\":true,\"showland\":true,\"subunitcolor\":\"white\"},\"hoverlabel\":{\"align\":\"left\"},\"hovermode\":\"closest\",\"paper_bgcolor\":\"white\",\"plot_bgcolor\":\"rgb(237,237,237)\",\"polar\":{\"angularaxis\":{\"gridcolor\":\"white\",\"linecolor\":\"white\",\"showgrid\":true,\"tickcolor\":\"rgb(51,51,51)\",\"ticks\":\"outside\"},\"bgcolor\":\"rgb(237,237,237)\",\"radialaxis\":{\"gridcolor\":\"white\",\"linecolor\":\"white\",\"showgrid\":true,\"tickcolor\":\"rgb(51,51,51)\",\"ticks\":\"outside\"}},\"scene\":{\"xaxis\":{\"backgroundcolor\":\"rgb(237,237,237)\",\"gridcolor\":\"white\",\"gridwidth\":2,\"linecolor\":\"white\",\"showbackground\":true,\"showgrid\":true,\"tickcolor\":\"rgb(51,51,51)\",\"ticks\":\"outside\",\"zerolinecolor\":\"white\"},\"yaxis\":{\"backgroundcolor\":\"rgb(237,237,237)\",\"gridcolor\":\"white\",\"gridwidth\":2,\"linecolor\":\"white\",\"showbackground\":true,\"showgrid\":true,\"tickcolor\":\"rgb(51,51,51)\",\"ticks\":\"outside\",\"zerolinecolor\":\"white\"},\"zaxis\":{\"backgroundcolor\":\"rgb(237,237,237)\",\"gridcolor\":\"white\",\"gridwidth\":2,\"linecolor\":\"white\",\"showbackground\":true,\"showgrid\":true,\"tickcolor\":\"rgb(51,51,51)\",\"ticks\":\"outside\",\"zerolinecolor\":\"white\"}},\"shapedefaults\":{\"fillcolor\":\"black\",\"line\":{\"width\":0},\"opacity\":0.3},\"ternary\":{\"aaxis\":{\"gridcolor\":\"white\",\"linecolor\":\"white\",\"showgrid\":true,\"tickcolor\":\"rgb(51,51,51)\",\"ticks\":\"outside\"},\"baxis\":{\"gridcolor\":\"white\",\"linecolor\":\"white\",\"showgrid\":true,\"tickcolor\":\"rgb(51,51,51)\",\"ticks\":\"outside\"},\"bgcolor\":\"rgb(237,237,237)\",\"caxis\":{\"gridcolor\":\"white\",\"linecolor\":\"white\",\"showgrid\":true,\"tickcolor\":\"rgb(51,51,51)\",\"ticks\":\"outside\"}},\"xaxis\":{\"automargin\":true,\"gridcolor\":\"white\",\"linecolor\":\"white\",\"showgrid\":true,\"tickcolor\":\"rgb(51,51,51)\",\"ticks\":\"outside\",\"title\":{\"standoff\":15},\"zerolinecolor\":\"white\"},\"yaxis\":{\"automargin\":true,\"gridcolor\":\"white\",\"linecolor\":\"white\",\"showgrid\":true,\"tickcolor\":\"rgb(51,51,51)\",\"ticks\":\"outside\",\"title\":{\"standoff\":15},\"zerolinecolor\":\"white\"}}},\"showlegend\":true},                        {\"responsive\": true}                    ).then(function(){\n",
              "                            \n",
              "var gd = document.getElementById('cd9ba878-bd7f-4227-b4a3-24179af70c05');\n",
              "var x = new MutationObserver(function (mutations, observer) {{\n",
              "        var display = window.getComputedStyle(gd).display;\n",
              "        if (!display || display === 'none') {{\n",
              "            console.log([gd, 'removed!']);\n",
              "            Plotly.purge(gd);\n",
              "            observer.disconnect();\n",
              "        }}\n",
              "}});\n",
              "\n",
              "// Listen for the removal of the full notebook cells\n",
              "var notebookContainer = gd.closest('#notebook-container');\n",
              "if (notebookContainer) {{\n",
              "    x.observe(notebookContainer, {childList: true});\n",
              "}}\n",
              "\n",
              "// Listen for the clearing of the current output cell\n",
              "var outputEl = gd.closest('.output');\n",
              "if (outputEl) {{\n",
              "    x.observe(outputEl, {childList: true});\n",
              "}}\n",
              "\n",
              "                        })                };                            </script>        </div>\n",
              "</body>\n",
              "</html>"
            ]
          },
          "metadata": {}
        }
      ]
    },
    {
      "cell_type": "code",
      "source": [
        "# cross-validation plot\n",
        "exp.plot_model(plot = 'cv')"
      ],
      "metadata": {
        "colab": {
          "base_uri": "https://localhost:8080/",
          "height": 542
        },
        "id": "ZVNJfmKrm60_",
        "outputId": "ac93d807-3414-48cb-9113-8cc466da88a4"
      },
      "execution_count": 10,
      "outputs": [
        {
          "output_type": "display_data",
          "data": {
            "text/html": [
              "<html>\n",
              "<head><meta charset=\"utf-8\" /></head>\n",
              "<body>\n",
              "    <div>            <script src=\"https://cdnjs.cloudflare.com/ajax/libs/mathjax/2.7.5/MathJax.js?config=TeX-AMS-MML_SVG\"></script><script type=\"text/javascript\">if (window.MathJax) {MathJax.Hub.Config({SVG: {font: \"STIX-Web\"}});}</script>                <script type=\"text/javascript\">window.PlotlyConfig = {MathJaxConfig: 'local'};</script>\n",
              "        <script src=\"https://cdn.plot.ly/plotly-2.6.3.min.js\"></script>                <div id=\"4e08cea1-2e01-4f73-b05b-218166339023\" class=\"plotly-graph-div\" style=\"height:525px; width:100%;\"></div>            <script type=\"text/javascript\">                                    window.PLOTLYENV=window.PLOTLYENV || {};                                    if (document.getElementById(\"4e08cea1-2e01-4f73-b05b-218166339023\")) {                    Plotly.newPlot(                        \"4e08cea1-2e01-4f73-b05b-218166339023\",                        [{\"hoverinfo\":\"skip\",\"line\":{\"color\":\"#C0C0C0\"},\"mode\":\"lines+markers\",\"name\":\"Unchanged\",\"x\":[\"2021-07-08T00:00:00\",\"2021-07-09T00:00:00\"],\"y\":[\"2\",\"2\"],\"type\":\"scatter\",\"showlegend\":false},{\"hoverinfo\":\"skip\",\"line\":{\"color\":\"#C0C0C0\"},\"mode\":\"lines+markers\",\"name\":\"Unchanged\",\"x\":[\"2021-07-09T00:00:00\",\"2021-07-10T00:00:00\"],\"y\":[\"2\",\"2\"],\"type\":\"scatter\",\"showlegend\":false},{\"hoverinfo\":\"skip\",\"line\":{\"color\":\"#C0C0C0\"},\"mode\":\"lines+markers\",\"name\":\"Unchanged\",\"x\":[\"2021-07-10T00:00:00\",\"2021-07-11T00:00:00\"],\"y\":[\"2\",\"2\"],\"type\":\"scatter\",\"showlegend\":false},{\"hoverinfo\":\"skip\",\"line\":{\"color\":\"#C0C0C0\"},\"mode\":\"lines+markers\",\"name\":\"Unchanged\",\"x\":[\"2021-07-11T00:00:00\",\"2021-07-12T00:00:00\"],\"y\":[\"2\",\"2\"],\"type\":\"scatter\",\"showlegend\":false},{\"hoverinfo\":\"skip\",\"line\":{\"color\":\"#C0C0C0\"},\"mode\":\"lines+markers\",\"name\":\"Unchanged\",\"x\":[\"2021-07-12T00:00:00\",\"2021-07-13T00:00:00\"],\"y\":[\"2\",\"2\"],\"type\":\"scatter\",\"showlegend\":false},{\"hoverinfo\":\"skip\",\"line\":{\"color\":\"#C0C0C0\"},\"mode\":\"lines+markers\",\"name\":\"Unchanged\",\"x\":[\"2021-07-13T00:00:00\",\"2021-07-14T00:00:00\"],\"y\":[\"2\",\"2\"],\"type\":\"scatter\",\"showlegend\":false},{\"hoverinfo\":\"skip\",\"line\":{\"color\":\"#C0C0C0\"},\"mode\":\"lines+markers\",\"name\":\"Unchanged\",\"x\":[\"2021-07-14T00:00:00\",\"2021-07-15T00:00:00\"],\"y\":[\"2\",\"2\"],\"type\":\"scatter\",\"showlegend\":false},{\"hoverinfo\":\"skip\",\"line\":{\"color\":\"#C0C0C0\"},\"mode\":\"lines+markers\",\"name\":\"Unchanged\",\"x\":[\"2021-07-15T00:00:00\",\"2021-07-16T00:00:00\"],\"y\":[\"2\",\"2\"],\"type\":\"scatter\",\"showlegend\":false},{\"hoverinfo\":\"skip\",\"line\":{\"color\":\"#C0C0C0\"},\"mode\":\"lines+markers\",\"name\":\"Unchanged\",\"x\":[\"2021-07-16T00:00:00\",\"2021-07-17T00:00:00\"],\"y\":[\"2\",\"2\"],\"type\":\"scatter\",\"showlegend\":false},{\"hoverinfo\":\"skip\",\"line\":{\"color\":\"#C0C0C0\"},\"mode\":\"lines+markers\",\"name\":\"Unchanged\",\"x\":[\"2021-07-17T00:00:00\",\"2021-07-18T00:00:00\"],\"y\":[\"2\",\"2\"],\"type\":\"scatter\",\"showlegend\":false},{\"hoverinfo\":\"skip\",\"line\":{\"color\":\"#C0C0C0\"},\"mode\":\"lines+markers\",\"name\":\"Unchanged\",\"x\":[\"2021-07-18T00:00:00\",\"2021-07-19T00:00:00\"],\"y\":[\"2\",\"2\"],\"type\":\"scatter\",\"showlegend\":false},{\"hoverinfo\":\"skip\",\"line\":{\"color\":\"#C0C0C0\"},\"mode\":\"lines+markers\",\"name\":\"Unchanged\",\"x\":[\"2021-07-19T00:00:00\",\"2021-07-20T00:00:00\"],\"y\":[\"2\",\"2\"],\"type\":\"scatter\",\"showlegend\":false},{\"hoverinfo\":\"skip\",\"line\":{\"color\":\"#C0C0C0\"},\"mode\":\"lines+markers\",\"name\":\"Unchanged\",\"x\":[\"2021-07-20T00:00:00\",\"2021-07-21T00:00:00\"],\"y\":[\"2\",\"2\"],\"type\":\"scatter\",\"showlegend\":false},{\"hoverinfo\":\"skip\",\"line\":{\"color\":\"#C0C0C0\"},\"mode\":\"lines+markers\",\"name\":\"Unchanged\",\"x\":[\"2021-07-21T00:00:00\",\"2021-07-22T00:00:00\"],\"y\":[\"2\",\"2\"],\"type\":\"scatter\",\"showlegend\":false},{\"hoverinfo\":\"skip\",\"line\":{\"color\":\"#C0C0C0\"},\"mode\":\"lines+markers\",\"name\":\"Unchanged\",\"x\":[\"2021-07-22T00:00:00\",\"2021-07-23T00:00:00\"],\"y\":[\"2\",\"2\"],\"type\":\"scatter\",\"showlegend\":false},{\"hoverinfo\":\"skip\",\"line\":{\"color\":\"#C0C0C0\"},\"mode\":\"lines+markers\",\"name\":\"Unchanged\",\"x\":[\"2021-07-23T00:00:00\",\"2021-07-24T00:00:00\"],\"y\":[\"2\",\"2\"],\"type\":\"scatter\",\"showlegend\":false},{\"hoverinfo\":\"skip\",\"line\":{\"color\":\"#C0C0C0\"},\"mode\":\"lines+markers\",\"name\":\"Unchanged\",\"x\":[\"2021-07-24T00:00:00\",\"2021-07-25T00:00:00\"],\"y\":[\"2\",\"2\"],\"type\":\"scatter\",\"showlegend\":false},{\"hoverinfo\":\"skip\",\"line\":{\"color\":\"#C0C0C0\"},\"mode\":\"lines+markers\",\"name\":\"Unchanged\",\"x\":[\"2021-07-25T00:00:00\",\"2021-07-26T00:00:00\"],\"y\":[\"2\",\"2\"],\"type\":\"scatter\",\"showlegend\":false},{\"hoverinfo\":\"skip\",\"line\":{\"color\":\"#C0C0C0\"},\"mode\":\"lines+markers\",\"name\":\"Unchanged\",\"x\":[\"2021-07-26T00:00:00\",\"2021-07-27T00:00:00\"],\"y\":[\"2\",\"2\"],\"type\":\"scatter\",\"showlegend\":false},{\"hoverinfo\":\"skip\",\"line\":{\"color\":\"#C0C0C0\"},\"mode\":\"lines+markers\",\"name\":\"Unchanged\",\"x\":[\"2021-07-27T00:00:00\",\"2021-07-28T00:00:00\"],\"y\":[\"2\",\"2\"],\"type\":\"scatter\",\"showlegend\":false},{\"hoverinfo\":\"skip\",\"line\":{\"color\":\"#C0C0C0\"},\"mode\":\"lines+markers\",\"name\":\"Unchanged\",\"x\":[\"2021-07-28T00:00:00\",\"2021-07-29T00:00:00\"],\"y\":[\"2\",\"2\"],\"type\":\"scatter\",\"showlegend\":false},{\"hoverinfo\":\"skip\",\"line\":{\"color\":\"#C0C0C0\"},\"mode\":\"lines+markers\",\"name\":\"Unchanged\",\"x\":[\"2021-07-29T00:00:00\",\"2021-07-30T00:00:00\"],\"y\":[\"2\",\"2\"],\"type\":\"scatter\",\"showlegend\":false},{\"hoverinfo\":\"skip\",\"line\":{\"color\":\"#C0C0C0\"},\"mode\":\"lines+markers\",\"name\":\"Unchanged\",\"x\":[\"2021-07-30T00:00:00\",\"2021-07-31T00:00:00\"],\"y\":[\"2\",\"2\"],\"type\":\"scatter\",\"showlegend\":false},{\"hoverinfo\":\"skip\",\"line\":{\"color\":\"#C0C0C0\"},\"mode\":\"lines+markers\",\"name\":\"Unchanged\",\"x\":[\"2021-07-31T00:00:00\",\"2021-08-01T00:00:00\"],\"y\":[\"2\",\"2\"],\"type\":\"scatter\",\"showlegend\":false},{\"hoverinfo\":\"skip\",\"line\":{\"color\":\"#C0C0C0\"},\"mode\":\"lines+markers\",\"name\":\"Unchanged\",\"x\":[\"2021-08-01T00:00:00\",\"2021-08-02T00:00:00\"],\"y\":[\"2\",\"2\"],\"type\":\"scatter\",\"showlegend\":false},{\"hoverinfo\":\"skip\",\"line\":{\"color\":\"#C0C0C0\"},\"mode\":\"lines+markers\",\"name\":\"Unchanged\",\"x\":[\"2021-08-02T00:00:00\",\"2021-08-03T00:00:00\"],\"y\":[\"2\",\"2\"],\"type\":\"scatter\",\"showlegend\":false},{\"hoverinfo\":\"skip\",\"line\":{\"color\":\"#C0C0C0\"},\"mode\":\"lines+markers\",\"name\":\"Unchanged\",\"x\":[\"2021-08-03T00:00:00\",\"2021-08-04T00:00:00\"],\"y\":[\"2\",\"2\"],\"type\":\"scatter\",\"showlegend\":false},{\"hoverinfo\":\"skip\",\"line\":{\"color\":\"#C0C0C0\"},\"mode\":\"lines+markers\",\"name\":\"Unchanged\",\"x\":[\"2021-08-04T00:00:00\",\"2021-08-05T00:00:00\"],\"y\":[\"2\",\"2\"],\"type\":\"scatter\",\"showlegend\":false},{\"hoverinfo\":\"skip\",\"line\":{\"color\":\"#C0C0C0\"},\"mode\":\"lines+markers\",\"name\":\"Unchanged\",\"x\":[\"2021-08-05T00:00:00\",\"2021-08-06T00:00:00\"],\"y\":[\"2\",\"2\"],\"type\":\"scatter\",\"showlegend\":false},{\"hoverinfo\":\"skip\",\"line\":{\"color\":\"#C0C0C0\"},\"mode\":\"lines+markers\",\"name\":\"Unchanged\",\"x\":[\"2021-08-06T00:00:00\",\"2021-08-07T00:00:00\"],\"y\":[\"2\",\"2\"],\"type\":\"scatter\",\"showlegend\":false},{\"hoverinfo\":\"skip\",\"line\":{\"color\":\"#C0C0C0\"},\"mode\":\"lines+markers\",\"name\":\"Unchanged\",\"x\":[\"2021-08-07T00:00:00\",\"2021-08-08T00:00:00\"],\"y\":[\"2\",\"2\"],\"type\":\"scatter\",\"showlegend\":false},{\"hoverinfo\":\"skip\",\"line\":{\"color\":\"#C0C0C0\"},\"mode\":\"lines+markers\",\"name\":\"Unchanged\",\"x\":[\"2021-08-08T00:00:00\",\"2021-08-09T00:00:00\"],\"y\":[\"2\",\"2\"],\"type\":\"scatter\",\"showlegend\":false},{\"hoverinfo\":\"skip\",\"line\":{\"color\":\"#C0C0C0\"},\"mode\":\"lines+markers\",\"name\":\"Unchanged\",\"x\":[\"2021-08-09T00:00:00\",\"2021-08-10T00:00:00\"],\"y\":[\"2\",\"2\"],\"type\":\"scatter\",\"showlegend\":false},{\"hoverinfo\":\"skip\",\"line\":{\"color\":\"#C0C0C0\"},\"mode\":\"lines+markers\",\"name\":\"Unchanged\",\"x\":[\"2021-08-10T00:00:00\",\"2021-08-11T00:00:00\"],\"y\":[\"2\",\"2\"],\"type\":\"scatter\",\"showlegend\":false},{\"hoverinfo\":\"skip\",\"line\":{\"color\":\"#C0C0C0\"},\"mode\":\"lines+markers\",\"name\":\"Unchanged\",\"x\":[\"2021-08-11T00:00:00\",\"2021-08-12T00:00:00\"],\"y\":[\"2\",\"2\"],\"type\":\"scatter\",\"showlegend\":false},{\"hoverinfo\":\"skip\",\"line\":{\"color\":\"#C0C0C0\"},\"mode\":\"lines+markers\",\"name\":\"Unchanged\",\"x\":[\"2021-08-12T00:00:00\",\"2021-08-13T00:00:00\"],\"y\":[\"2\",\"2\"],\"type\":\"scatter\",\"showlegend\":false},{\"hoverinfo\":\"skip\",\"line\":{\"color\":\"#C0C0C0\"},\"mode\":\"lines+markers\",\"name\":\"Unchanged\",\"x\":[\"2021-08-13T00:00:00\",\"2021-08-14T00:00:00\"],\"y\":[\"2\",\"2\"],\"type\":\"scatter\",\"showlegend\":false},{\"hoverinfo\":\"skip\",\"line\":{\"color\":\"#C0C0C0\"},\"mode\":\"lines+markers\",\"name\":\"Unchanged\",\"x\":[\"2021-08-14T00:00:00\",\"2021-08-15T00:00:00\"],\"y\":[\"2\",\"2\"],\"type\":\"scatter\",\"showlegend\":false},{\"hoverinfo\":\"skip\",\"line\":{\"color\":\"#C0C0C0\"},\"mode\":\"lines+markers\",\"name\":\"Unchanged\",\"x\":[\"2021-08-15T00:00:00\",\"2021-08-16T00:00:00\"],\"y\":[\"2\",\"2\"],\"type\":\"scatter\",\"showlegend\":false},{\"hoverinfo\":\"skip\",\"line\":{\"color\":\"#C0C0C0\"},\"mode\":\"lines+markers\",\"name\":\"Unchanged\",\"x\":[\"2021-08-16T00:00:00\",\"2021-08-17T00:00:00\"],\"y\":[\"2\",\"2\"],\"type\":\"scatter\",\"showlegend\":false},{\"hoverinfo\":\"skip\",\"line\":{\"color\":\"#C0C0C0\"},\"mode\":\"lines+markers\",\"name\":\"Unchanged\",\"x\":[\"2021-08-17T00:00:00\",\"2021-08-18T00:00:00\"],\"y\":[\"2\",\"2\"],\"type\":\"scatter\",\"showlegend\":false},{\"hoverinfo\":\"skip\",\"line\":{\"color\":\"#C0C0C0\"},\"mode\":\"lines+markers\",\"name\":\"Unchanged\",\"x\":[\"2021-08-18T00:00:00\",\"2021-08-19T00:00:00\"],\"y\":[\"2\",\"2\"],\"type\":\"scatter\",\"showlegend\":false},{\"hoverinfo\":\"skip\",\"line\":{\"color\":\"#C0C0C0\"},\"mode\":\"lines+markers\",\"name\":\"Unchanged\",\"x\":[\"2021-08-19T00:00:00\",\"2021-08-20T00:00:00\"],\"y\":[\"2\",\"2\"],\"type\":\"scatter\",\"showlegend\":false},{\"hoverinfo\":\"skip\",\"line\":{\"color\":\"#C0C0C0\"},\"mode\":\"lines+markers\",\"name\":\"Unchanged\",\"x\":[\"2021-08-20T00:00:00\",\"2021-08-21T00:00:00\"],\"y\":[\"2\",\"2\"],\"type\":\"scatter\",\"showlegend\":false},{\"hoverinfo\":\"skip\",\"line\":{\"color\":\"#C0C0C0\"},\"mode\":\"lines+markers\",\"name\":\"Unchanged\",\"x\":[\"2021-08-21T00:00:00\",\"2021-08-22T00:00:00\"],\"y\":[\"2\",\"2\"],\"type\":\"scatter\",\"showlegend\":false},{\"hoverinfo\":\"skip\",\"line\":{\"color\":\"#C0C0C0\"},\"mode\":\"lines+markers\",\"name\":\"Unchanged\",\"x\":[\"2021-08-22T00:00:00\",\"2021-08-23T00:00:00\"],\"y\":[\"2\",\"2\"],\"type\":\"scatter\",\"showlegend\":false},{\"hoverinfo\":\"skip\",\"line\":{\"color\":\"#C0C0C0\"},\"mode\":\"lines+markers\",\"name\":\"Unchanged\",\"x\":[\"2021-08-23T00:00:00\",\"2021-08-24T00:00:00\"],\"y\":[\"2\",\"2\"],\"type\":\"scatter\",\"showlegend\":false},{\"hoverinfo\":\"skip\",\"line\":{\"color\":\"#C0C0C0\"},\"mode\":\"lines+markers\",\"name\":\"Unchanged\",\"x\":[\"2021-08-24T00:00:00\",\"2021-08-25T00:00:00\"],\"y\":[\"2\",\"2\"],\"type\":\"scatter\",\"showlegend\":false},{\"hoverinfo\":\"skip\",\"line\":{\"color\":\"#C0C0C0\"},\"mode\":\"lines+markers\",\"name\":\"Unchanged\",\"x\":[\"2021-08-25T00:00:00\",\"2021-08-26T00:00:00\"],\"y\":[\"2\",\"2\"],\"type\":\"scatter\",\"showlegend\":false},{\"hoverinfo\":\"skip\",\"line\":{\"color\":\"#C0C0C0\"},\"mode\":\"lines+markers\",\"name\":\"Unchanged\",\"x\":[\"2021-08-26T00:00:00\",\"2021-08-27T00:00:00\"],\"y\":[\"2\",\"2\"],\"type\":\"scatter\",\"showlegend\":false},{\"hoverinfo\":\"skip\",\"line\":{\"color\":\"#C0C0C0\"},\"mode\":\"lines+markers\",\"name\":\"Unchanged\",\"x\":[\"2021-08-27T00:00:00\",\"2021-08-28T00:00:00\"],\"y\":[\"2\",\"2\"],\"type\":\"scatter\",\"showlegend\":false},{\"hoverinfo\":\"skip\",\"line\":{\"color\":\"#C0C0C0\"},\"mode\":\"lines+markers\",\"name\":\"Unchanged\",\"x\":[\"2021-08-28T00:00:00\",\"2021-08-29T00:00:00\"],\"y\":[\"2\",\"2\"],\"type\":\"scatter\",\"showlegend\":false},{\"hoverinfo\":\"skip\",\"line\":{\"color\":\"#C0C0C0\"},\"mode\":\"lines+markers\",\"name\":\"Unchanged\",\"x\":[\"2021-08-29T00:00:00\",\"2021-08-30T00:00:00\"],\"y\":[\"2\",\"2\"],\"type\":\"scatter\",\"showlegend\":false},{\"hoverinfo\":\"skip\",\"line\":{\"color\":\"#C0C0C0\"},\"mode\":\"lines+markers\",\"name\":\"Unchanged\",\"x\":[\"2021-08-30T00:00:00\",\"2021-08-31T00:00:00\"],\"y\":[\"2\",\"2\"],\"type\":\"scatter\",\"showlegend\":false},{\"hoverinfo\":\"skip\",\"line\":{\"color\":\"#C0C0C0\"},\"mode\":\"lines+markers\",\"name\":\"Unchanged\",\"x\":[\"2021-08-31T00:00:00\",\"2021-09-01T00:00:00\"],\"y\":[\"2\",\"2\"],\"type\":\"scatter\",\"showlegend\":false},{\"hoverinfo\":\"skip\",\"line\":{\"color\":\"#C0C0C0\"},\"mode\":\"lines+markers\",\"name\":\"Unchanged\",\"x\":[\"2021-09-01T00:00:00\",\"2021-09-02T00:00:00\"],\"y\":[\"2\",\"2\"],\"type\":\"scatter\",\"showlegend\":false},{\"hoverinfo\":\"skip\",\"line\":{\"color\":\"#C0C0C0\"},\"mode\":\"lines+markers\",\"name\":\"Unchanged\",\"x\":[\"2021-09-02T00:00:00\",\"2021-09-03T00:00:00\"],\"y\":[\"2\",\"2\"],\"type\":\"scatter\",\"showlegend\":false},{\"hoverinfo\":\"skip\",\"line\":{\"color\":\"#C0C0C0\"},\"mode\":\"lines+markers\",\"name\":\"Unchanged\",\"x\":[\"2021-09-03T00:00:00\",\"2021-09-04T00:00:00\"],\"y\":[\"2\",\"2\"],\"type\":\"scatter\",\"showlegend\":false},{\"hoverinfo\":\"skip\",\"line\":{\"color\":\"#C0C0C0\"},\"mode\":\"lines+markers\",\"name\":\"Unchanged\",\"x\":[\"2021-09-04T00:00:00\",\"2021-09-05T00:00:00\"],\"y\":[\"2\",\"2\"],\"type\":\"scatter\",\"showlegend\":false},{\"hoverinfo\":\"skip\",\"line\":{\"color\":\"#C0C0C0\"},\"mode\":\"lines+markers\",\"name\":\"Unchanged\",\"x\":[\"2021-09-05T00:00:00\",\"2021-09-06T00:00:00\"],\"y\":[\"2\",\"2\"],\"type\":\"scatter\",\"showlegend\":false},{\"hoverinfo\":\"skip\",\"line\":{\"color\":\"#C0C0C0\"},\"mode\":\"lines+markers\",\"name\":\"Unchanged\",\"x\":[\"2021-09-06T00:00:00\",\"2021-09-07T00:00:00\"],\"y\":[\"2\",\"2\"],\"type\":\"scatter\",\"showlegend\":false},{\"hoverinfo\":\"skip\",\"line\":{\"color\":\"#C0C0C0\"},\"mode\":\"lines+markers\",\"name\":\"Unchanged\",\"x\":[\"2021-09-07T00:00:00\",\"2021-09-08T00:00:00\"],\"y\":[\"2\",\"2\"],\"type\":\"scatter\",\"showlegend\":false},{\"hoverinfo\":\"skip\",\"line\":{\"color\":\"#C0C0C0\"},\"mode\":\"lines+markers\",\"name\":\"Unchanged\",\"x\":[\"2021-09-08T00:00:00\",\"2021-09-09T00:00:00\"],\"y\":[\"2\",\"2\"],\"type\":\"scatter\",\"showlegend\":false},{\"hoverinfo\":\"skip\",\"line\":{\"color\":\"#C0C0C0\"},\"mode\":\"lines+markers\",\"name\":\"Unchanged\",\"x\":[\"2021-09-09T00:00:00\",\"2021-09-10T00:00:00\"],\"y\":[\"2\",\"2\"],\"type\":\"scatter\",\"showlegend\":false},{\"hoverinfo\":\"skip\",\"line\":{\"color\":\"#C0C0C0\"},\"mode\":\"lines+markers\",\"name\":\"Unchanged\",\"x\":[\"2021-09-10T00:00:00\",\"2021-09-11T00:00:00\"],\"y\":[\"2\",\"2\"],\"type\":\"scatter\",\"showlegend\":false},{\"hoverinfo\":\"skip\",\"line\":{\"color\":\"#C0C0C0\"},\"mode\":\"lines+markers\",\"name\":\"Unchanged\",\"x\":[\"2021-09-11T00:00:00\",\"2021-09-12T00:00:00\"],\"y\":[\"2\",\"2\"],\"type\":\"scatter\",\"showlegend\":false},{\"hoverinfo\":\"skip\",\"line\":{\"color\":\"#C0C0C0\"},\"mode\":\"lines+markers\",\"name\":\"Unchanged\",\"x\":[\"2021-09-12T00:00:00\",\"2021-09-13T00:00:00\"],\"y\":[\"2\",\"2\"],\"type\":\"scatter\",\"showlegend\":false},{\"hoverinfo\":\"skip\",\"line\":{\"color\":\"#C0C0C0\"},\"mode\":\"lines+markers\",\"name\":\"Unchanged\",\"x\":[\"2021-09-13T00:00:00\",\"2021-09-14T00:00:00\"],\"y\":[\"2\",\"2\"],\"type\":\"scatter\",\"showlegend\":false},{\"hoverinfo\":\"skip\",\"line\":{\"color\":\"#C0C0C0\"},\"mode\":\"lines+markers\",\"name\":\"Unchanged\",\"x\":[\"2021-09-14T00:00:00\",\"2021-09-15T00:00:00\"],\"y\":[\"2\",\"2\"],\"type\":\"scatter\",\"showlegend\":false},{\"hoverinfo\":\"skip\",\"line\":{\"color\":\"#C0C0C0\"},\"mode\":\"lines+markers\",\"name\":\"Unchanged\",\"x\":[\"2021-09-15T00:00:00\",\"2021-09-16T00:00:00\"],\"y\":[\"2\",\"2\"],\"type\":\"scatter\",\"showlegend\":false},{\"hoverinfo\":\"skip\",\"line\":{\"color\":\"#C0C0C0\"},\"mode\":\"lines+markers\",\"name\":\"Unchanged\",\"x\":[\"2021-09-16T00:00:00\",\"2021-09-17T00:00:00\"],\"y\":[\"2\",\"2\"],\"type\":\"scatter\",\"showlegend\":false},{\"hoverinfo\":\"skip\",\"line\":{\"color\":\"#C0C0C0\"},\"mode\":\"lines+markers\",\"name\":\"Unchanged\",\"x\":[\"2021-09-17T00:00:00\",\"2021-09-18T00:00:00\"],\"y\":[\"2\",\"2\"],\"type\":\"scatter\",\"showlegend\":false},{\"hoverinfo\":\"skip\",\"line\":{\"color\":\"#C0C0C0\"},\"mode\":\"lines+markers\",\"name\":\"Unchanged\",\"x\":[\"2021-09-18T00:00:00\",\"2021-09-19T00:00:00\"],\"y\":[\"2\",\"2\"],\"type\":\"scatter\",\"showlegend\":false},{\"hoverinfo\":\"skip\",\"line\":{\"color\":\"#C0C0C0\"},\"mode\":\"lines+markers\",\"name\":\"Unchanged\",\"x\":[\"2021-09-19T00:00:00\",\"2021-09-20T00:00:00\"],\"y\":[\"2\",\"2\"],\"type\":\"scatter\",\"showlegend\":false},{\"hoverinfo\":\"skip\",\"line\":{\"color\":\"#C0C0C0\"},\"mode\":\"lines+markers\",\"name\":\"Unchanged\",\"x\":[\"2021-09-20T00:00:00\",\"2021-09-21T00:00:00\"],\"y\":[\"2\",\"2\"],\"type\":\"scatter\",\"showlegend\":false},{\"hoverinfo\":\"skip\",\"line\":{\"color\":\"#C0C0C0\"},\"mode\":\"lines+markers\",\"name\":\"Unchanged\",\"x\":[\"2021-09-21T00:00:00\",\"2021-09-22T00:00:00\"],\"y\":[\"2\",\"2\"],\"type\":\"scatter\",\"showlegend\":false},{\"hoverinfo\":\"skip\",\"line\":{\"color\":\"#C0C0C0\"},\"mode\":\"lines+markers\",\"name\":\"Unchanged\",\"x\":[\"2021-09-22T00:00:00\",\"2021-09-23T00:00:00\"],\"y\":[\"2\",\"2\"],\"type\":\"scatter\",\"showlegend\":false},{\"hoverinfo\":\"skip\",\"line\":{\"color\":\"#C0C0C0\"},\"mode\":\"lines+markers\",\"name\":\"Unchanged\",\"x\":[\"2021-09-23T00:00:00\",\"2021-09-24T00:00:00\"],\"y\":[\"2\",\"2\"],\"type\":\"scatter\",\"showlegend\":false},{\"hoverinfo\":\"skip\",\"line\":{\"color\":\"#C0C0C0\"},\"mode\":\"lines+markers\",\"name\":\"Unchanged\",\"x\":[\"2021-09-24T00:00:00\",\"2021-09-25T00:00:00\"],\"y\":[\"2\",\"2\"],\"type\":\"scatter\",\"showlegend\":false},{\"hoverinfo\":\"skip\",\"line\":{\"color\":\"#C0C0C0\"},\"mode\":\"lines+markers\",\"name\":\"Unchanged\",\"x\":[\"2021-09-25T00:00:00\",\"2021-09-26T00:00:00\"],\"y\":[\"2\",\"2\"],\"type\":\"scatter\",\"showlegend\":false},{\"hoverinfo\":\"skip\",\"line\":{\"color\":\"#C0C0C0\"},\"mode\":\"lines+markers\",\"name\":\"Unchanged\",\"x\":[\"2021-09-26T00:00:00\",\"2021-09-27T00:00:00\"],\"y\":[\"2\",\"2\"],\"type\":\"scatter\",\"showlegend\":false},{\"hoverinfo\":\"skip\",\"line\":{\"color\":\"#C0C0C0\"},\"mode\":\"lines+markers\",\"name\":\"Unchanged\",\"x\":[\"2021-09-27T00:00:00\",\"2021-09-28T00:00:00\"],\"y\":[\"2\",\"2\"],\"type\":\"scatter\",\"showlegend\":false},{\"hoverinfo\":\"skip\",\"line\":{\"color\":\"#1f77b4\"},\"mode\":\"lines+markers\",\"name\":\"Train\",\"showlegend\":false,\"x\":[\"2021-07-08T00:00:00\",\"2021-07-09T00:00:00\"],\"y\":[\"2\",\"2\"],\"type\":\"scatter\"},{\"hoverinfo\":\"skip\",\"line\":{\"color\":\"#1f77b4\"},\"mode\":\"lines+markers\",\"name\":\"Train\",\"showlegend\":false,\"x\":[\"2021-07-09T00:00:00\",\"2021-07-10T00:00:00\"],\"y\":[\"2\",\"2\"],\"type\":\"scatter\"},{\"hoverinfo\":\"skip\",\"line\":{\"color\":\"#1f77b4\"},\"mode\":\"lines+markers\",\"name\":\"Train\",\"showlegend\":false,\"x\":[\"2021-07-10T00:00:00\",\"2021-07-11T00:00:00\"],\"y\":[\"2\",\"2\"],\"type\":\"scatter\"},{\"hoverinfo\":\"skip\",\"line\":{\"color\":\"#1f77b4\"},\"mode\":\"lines+markers\",\"name\":\"Train\",\"showlegend\":false,\"x\":[\"2021-07-11T00:00:00\",\"2021-07-12T00:00:00\"],\"y\":[\"2\",\"2\"],\"type\":\"scatter\"},{\"hoverinfo\":\"skip\",\"line\":{\"color\":\"#1f77b4\"},\"mode\":\"lines+markers\",\"name\":\"Train\",\"showlegend\":false,\"x\":[\"2021-07-12T00:00:00\",\"2021-07-13T00:00:00\"],\"y\":[\"2\",\"2\"],\"type\":\"scatter\"},{\"hoverinfo\":\"skip\",\"line\":{\"color\":\"#1f77b4\"},\"mode\":\"lines+markers\",\"name\":\"Train\",\"showlegend\":false,\"x\":[\"2021-07-13T00:00:00\",\"2021-07-14T00:00:00\"],\"y\":[\"2\",\"2\"],\"type\":\"scatter\"},{\"hoverinfo\":\"skip\",\"line\":{\"color\":\"#1f77b4\"},\"mode\":\"lines+markers\",\"name\":\"Train\",\"showlegend\":false,\"x\":[\"2021-07-14T00:00:00\",\"2021-07-15T00:00:00\"],\"y\":[\"2\",\"2\"],\"type\":\"scatter\"},{\"hoverinfo\":\"skip\",\"line\":{\"color\":\"#1f77b4\"},\"mode\":\"lines+markers\",\"name\":\"Train\",\"showlegend\":false,\"x\":[\"2021-07-15T00:00:00\",\"2021-07-16T00:00:00\"],\"y\":[\"2\",\"2\"],\"type\":\"scatter\"},{\"hoverinfo\":\"skip\",\"line\":{\"color\":\"#1f77b4\"},\"mode\":\"lines+markers\",\"name\":\"Train\",\"showlegend\":false,\"x\":[\"2021-07-16T00:00:00\",\"2021-07-17T00:00:00\"],\"y\":[\"2\",\"2\"],\"type\":\"scatter\"},{\"hoverinfo\":\"skip\",\"line\":{\"color\":\"#1f77b4\"},\"mode\":\"lines+markers\",\"name\":\"Train\",\"showlegend\":false,\"x\":[\"2021-07-17T00:00:00\",\"2021-07-18T00:00:00\"],\"y\":[\"2\",\"2\"],\"type\":\"scatter\"},{\"hoverinfo\":\"skip\",\"line\":{\"color\":\"#1f77b4\"},\"mode\":\"lines+markers\",\"name\":\"Train\",\"showlegend\":false,\"x\":[\"2021-07-18T00:00:00\",\"2021-07-19T00:00:00\"],\"y\":[\"2\",\"2\"],\"type\":\"scatter\"},{\"hoverinfo\":\"skip\",\"line\":{\"color\":\"#1f77b4\"},\"mode\":\"lines+markers\",\"name\":\"Train\",\"showlegend\":false,\"x\":[\"2021-07-19T00:00:00\",\"2021-07-20T00:00:00\"],\"y\":[\"2\",\"2\"],\"type\":\"scatter\"},{\"hoverinfo\":\"skip\",\"line\":{\"color\":\"#1f77b4\"},\"mode\":\"lines+markers\",\"name\":\"Train\",\"showlegend\":false,\"x\":[\"2021-07-20T00:00:00\",\"2021-07-21T00:00:00\"],\"y\":[\"2\",\"2\"],\"type\":\"scatter\"},{\"hoverinfo\":\"skip\",\"line\":{\"color\":\"#1f77b4\"},\"mode\":\"lines+markers\",\"name\":\"Train\",\"showlegend\":false,\"x\":[\"2021-07-21T00:00:00\",\"2021-07-22T00:00:00\"],\"y\":[\"2\",\"2\"],\"type\":\"scatter\"},{\"hoverinfo\":\"skip\",\"line\":{\"color\":\"#1f77b4\"},\"mode\":\"lines+markers\",\"name\":\"Train\",\"showlegend\":false,\"x\":[\"2021-07-22T00:00:00\",\"2021-07-23T00:00:00\"],\"y\":[\"2\",\"2\"],\"type\":\"scatter\"},{\"hoverinfo\":\"skip\",\"line\":{\"color\":\"#1f77b4\"},\"mode\":\"lines+markers\",\"name\":\"Train\",\"showlegend\":false,\"x\":[\"2021-07-23T00:00:00\",\"2021-07-24T00:00:00\"],\"y\":[\"2\",\"2\"],\"type\":\"scatter\"},{\"hoverinfo\":\"skip\",\"line\":{\"color\":\"#1f77b4\"},\"mode\":\"lines+markers\",\"name\":\"Train\",\"showlegend\":false,\"x\":[\"2021-07-24T00:00:00\",\"2021-07-25T00:00:00\"],\"y\":[\"2\",\"2\"],\"type\":\"scatter\"},{\"hoverinfo\":\"skip\",\"line\":{\"color\":\"#1f77b4\"},\"mode\":\"lines+markers\",\"name\":\"Train\",\"showlegend\":false,\"x\":[\"2021-07-25T00:00:00\",\"2021-07-26T00:00:00\"],\"y\":[\"2\",\"2\"],\"type\":\"scatter\"},{\"hoverinfo\":\"skip\",\"line\":{\"color\":\"#1f77b4\"},\"mode\":\"lines+markers\",\"name\":\"Train\",\"showlegend\":false,\"x\":[\"2021-07-26T00:00:00\",\"2021-07-27T00:00:00\"],\"y\":[\"2\",\"2\"],\"type\":\"scatter\"},{\"hoverinfo\":\"skip\",\"line\":{\"color\":\"#1f77b4\"},\"mode\":\"lines+markers\",\"name\":\"Train\",\"showlegend\":false,\"x\":[\"2021-07-27T00:00:00\",\"2021-07-28T00:00:00\"],\"y\":[\"2\",\"2\"],\"type\":\"scatter\"},{\"hoverinfo\":\"skip\",\"line\":{\"color\":\"#1f77b4\"},\"mode\":\"lines+markers\",\"name\":\"Train\",\"showlegend\":false,\"x\":[\"2021-07-28T00:00:00\",\"2021-07-29T00:00:00\"],\"y\":[\"2\",\"2\"],\"type\":\"scatter\"},{\"hoverinfo\":\"skip\",\"line\":{\"color\":\"#1f77b4\"},\"mode\":\"lines+markers\",\"name\":\"Train\",\"showlegend\":false,\"x\":[\"2021-07-29T00:00:00\",\"2021-07-30T00:00:00\"],\"y\":[\"2\",\"2\"],\"type\":\"scatter\"},{\"hoverinfo\":\"skip\",\"line\":{\"color\":\"#1f77b4\"},\"mode\":\"lines+markers\",\"name\":\"Train\",\"showlegend\":false,\"x\":[\"2021-07-30T00:00:00\",\"2021-07-31T00:00:00\"],\"y\":[\"2\",\"2\"],\"type\":\"scatter\"},{\"hoverinfo\":\"skip\",\"line\":{\"color\":\"#1f77b4\"},\"mode\":\"lines+markers\",\"name\":\"Train\",\"showlegend\":false,\"x\":[\"2021-07-31T00:00:00\",\"2021-08-01T00:00:00\"],\"y\":[\"2\",\"2\"],\"type\":\"scatter\"},{\"hoverinfo\":\"skip\",\"line\":{\"color\":\"#1f77b4\"},\"mode\":\"lines+markers\",\"name\":\"Train\",\"showlegend\":false,\"x\":[\"2021-08-01T00:00:00\",\"2021-08-02T00:00:00\"],\"y\":[\"2\",\"2\"],\"type\":\"scatter\"},{\"hoverinfo\":\"skip\",\"line\":{\"color\":\"#1f77b4\"},\"mode\":\"lines+markers\",\"name\":\"Train\",\"showlegend\":false,\"x\":[\"2021-08-02T00:00:00\",\"2021-08-03T00:00:00\"],\"y\":[\"2\",\"2\"],\"type\":\"scatter\"},{\"hoverinfo\":\"skip\",\"line\":{\"color\":\"#1f77b4\"},\"mode\":\"lines+markers\",\"name\":\"Train\",\"showlegend\":false,\"x\":[\"2021-08-03T00:00:00\",\"2021-08-04T00:00:00\"],\"y\":[\"2\",\"2\"],\"type\":\"scatter\"},{\"hoverinfo\":\"skip\",\"line\":{\"color\":\"#1f77b4\"},\"mode\":\"lines+markers\",\"name\":\"Train\",\"showlegend\":false,\"x\":[\"2021-08-04T00:00:00\",\"2021-08-05T00:00:00\"],\"y\":[\"2\",\"2\"],\"type\":\"scatter\"},{\"hoverinfo\":\"skip\",\"line\":{\"color\":\"#1f77b4\"},\"mode\":\"lines+markers\",\"name\":\"Train\",\"showlegend\":false,\"x\":[\"2021-08-05T00:00:00\",\"2021-08-06T00:00:00\"],\"y\":[\"2\",\"2\"],\"type\":\"scatter\"},{\"hoverinfo\":\"skip\",\"line\":{\"color\":\"#1f77b4\"},\"mode\":\"lines+markers\",\"name\":\"Train\",\"showlegend\":false,\"x\":[\"2021-08-06T00:00:00\",\"2021-08-07T00:00:00\"],\"y\":[\"2\",\"2\"],\"type\":\"scatter\"},{\"hoverinfo\":\"skip\",\"line\":{\"color\":\"#1f77b4\"},\"mode\":\"lines+markers\",\"name\":\"Train\",\"showlegend\":false,\"x\":[\"2021-08-07T00:00:00\",\"2021-08-08T00:00:00\"],\"y\":[\"2\",\"2\"],\"type\":\"scatter\"},{\"hoverinfo\":\"skip\",\"line\":{\"color\":\"#1f77b4\"},\"mode\":\"lines+markers\",\"name\":\"Train\",\"showlegend\":false,\"x\":[\"2021-08-08T00:00:00\",\"2021-08-09T00:00:00\"],\"y\":[\"2\",\"2\"],\"type\":\"scatter\"},{\"hoverinfo\":\"skip\",\"line\":{\"color\":\"#1f77b4\"},\"mode\":\"lines+markers\",\"name\":\"Train\",\"showlegend\":false,\"x\":[\"2021-08-09T00:00:00\",\"2021-08-10T00:00:00\"],\"y\":[\"2\",\"2\"],\"type\":\"scatter\"},{\"hoverinfo\":\"skip\",\"line\":{\"color\":\"#1f77b4\"},\"mode\":\"lines+markers\",\"name\":\"Train\",\"showlegend\":false,\"x\":[\"2021-08-10T00:00:00\",\"2021-08-11T00:00:00\"],\"y\":[\"2\",\"2\"],\"type\":\"scatter\"},{\"hoverinfo\":\"skip\",\"line\":{\"color\":\"#1f77b4\"},\"mode\":\"lines+markers\",\"name\":\"Train\",\"showlegend\":false,\"x\":[\"2021-08-11T00:00:00\",\"2021-08-12T00:00:00\"],\"y\":[\"2\",\"2\"],\"type\":\"scatter\"},{\"hoverinfo\":\"skip\",\"line\":{\"color\":\"#1f77b4\"},\"mode\":\"lines+markers\",\"name\":\"Train\",\"showlegend\":false,\"x\":[\"2021-08-12T00:00:00\",\"2021-08-13T00:00:00\"],\"y\":[\"2\",\"2\"],\"type\":\"scatter\"},{\"hoverinfo\":\"skip\",\"line\":{\"color\":\"#1f77b4\"},\"mode\":\"lines+markers\",\"name\":\"Train\",\"showlegend\":false,\"x\":[\"2021-08-13T00:00:00\",\"2021-08-14T00:00:00\"],\"y\":[\"2\",\"2\"],\"type\":\"scatter\"},{\"hoverinfo\":\"skip\",\"line\":{\"color\":\"#1f77b4\"},\"mode\":\"lines+markers\",\"name\":\"Train\",\"showlegend\":false,\"x\":[\"2021-08-14T00:00:00\",\"2021-08-15T00:00:00\"],\"y\":[\"2\",\"2\"],\"type\":\"scatter\"},{\"hoverinfo\":\"skip\",\"line\":{\"color\":\"#1f77b4\"},\"mode\":\"lines+markers\",\"name\":\"Train\",\"showlegend\":false,\"x\":[\"2021-08-15T00:00:00\",\"2021-08-16T00:00:00\"],\"y\":[\"2\",\"2\"],\"type\":\"scatter\"},{\"hoverinfo\":\"skip\",\"line\":{\"color\":\"#1f77b4\"},\"mode\":\"lines+markers\",\"name\":\"Train\",\"showlegend\":false,\"x\":[\"2021-08-16T00:00:00\",\"2021-08-17T00:00:00\"],\"y\":[\"2\",\"2\"],\"type\":\"scatter\"},{\"hoverinfo\":\"skip\",\"line\":{\"color\":\"#1f77b4\"},\"mode\":\"lines+markers\",\"name\":\"Train\",\"showlegend\":false,\"x\":[\"2021-08-17T00:00:00\",\"2021-08-18T00:00:00\"],\"y\":[\"2\",\"2\"],\"type\":\"scatter\"},{\"hoverinfo\":\"skip\",\"line\":{\"color\":\"#1f77b4\"},\"mode\":\"lines+markers\",\"name\":\"Train\",\"showlegend\":false,\"x\":[\"2021-08-18T00:00:00\",\"2021-08-19T00:00:00\"],\"y\":[\"2\",\"2\"],\"type\":\"scatter\"},{\"hoverinfo\":\"skip\",\"line\":{\"color\":\"#1f77b4\"},\"mode\":\"lines+markers\",\"name\":\"Train\",\"showlegend\":false,\"x\":[\"2021-08-19T00:00:00\",\"2021-08-20T00:00:00\"],\"y\":[\"2\",\"2\"],\"type\":\"scatter\"},{\"hoverinfo\":\"skip\",\"line\":{\"color\":\"#1f77b4\"},\"mode\":\"lines+markers\",\"name\":\"Train\",\"showlegend\":false,\"x\":[\"2021-08-20T00:00:00\",\"2021-08-21T00:00:00\"],\"y\":[\"2\",\"2\"],\"type\":\"scatter\"},{\"hoverinfo\":\"skip\",\"line\":{\"color\":\"#1f77b4\"},\"mode\":\"lines+markers\",\"name\":\"Train\",\"showlegend\":false,\"x\":[\"2021-08-21T00:00:00\",\"2021-08-22T00:00:00\"],\"y\":[\"2\",\"2\"],\"type\":\"scatter\"},{\"hoverinfo\":\"skip\",\"line\":{\"color\":\"#1f77b4\"},\"mode\":\"lines+markers\",\"name\":\"Train\",\"showlegend\":false,\"x\":[\"2021-08-22T00:00:00\",\"2021-08-23T00:00:00\"],\"y\":[\"2\",\"2\"],\"type\":\"scatter\"},{\"hoverinfo\":\"skip\",\"line\":{\"color\":\"#1f77b4\"},\"mode\":\"lines+markers\",\"name\":\"Train\",\"showlegend\":false,\"x\":[\"2021-08-23T00:00:00\",\"2021-08-24T00:00:00\"],\"y\":[\"2\",\"2\"],\"type\":\"scatter\"},{\"hoverinfo\":\"skip\",\"line\":{\"color\":\"#1f77b4\"},\"mode\":\"lines+markers\",\"name\":\"Train\",\"showlegend\":false,\"x\":[\"2021-08-24T00:00:00\",\"2021-08-25T00:00:00\"],\"y\":[\"2\",\"2\"],\"type\":\"scatter\"},{\"hoverinfo\":\"skip\",\"line\":{\"color\":\"#1f77b4\"},\"mode\":\"lines+markers\",\"name\":\"Train\",\"showlegend\":false,\"x\":[\"2021-08-25T00:00:00\",\"2021-08-26T00:00:00\"],\"y\":[\"2\",\"2\"],\"type\":\"scatter\"},{\"hoverinfo\":\"skip\",\"line\":{\"color\":\"#1f77b4\"},\"mode\":\"lines+markers\",\"name\":\"Train\",\"showlegend\":false,\"x\":[\"2021-08-26T00:00:00\",\"2021-08-27T00:00:00\"],\"y\":[\"2\",\"2\"],\"type\":\"scatter\"},{\"hoverinfo\":\"skip\",\"line\":{\"color\":\"#1f77b4\"},\"mode\":\"lines+markers\",\"name\":\"Train\",\"showlegend\":false,\"x\":[\"2021-08-27T00:00:00\",\"2021-08-28T00:00:00\"],\"y\":[\"2\",\"2\"],\"type\":\"scatter\"},{\"hoverinfo\":\"skip\",\"line\":{\"color\":\"#1f77b4\"},\"mode\":\"lines+markers\",\"name\":\"Train\",\"showlegend\":false,\"x\":[\"2021-08-28T00:00:00\",\"2021-08-29T00:00:00\"],\"y\":[\"2\",\"2\"],\"type\":\"scatter\"},{\"hoverinfo\":\"skip\",\"line\":{\"color\":\"#1f77b4\"},\"mode\":\"lines+markers\",\"name\":\"Train\",\"showlegend\":false,\"x\":[\"2021-08-29T00:00:00\",\"2021-08-30T00:00:00\"],\"y\":[\"2\",\"2\"],\"type\":\"scatter\"},{\"hoverinfo\":\"skip\",\"line\":{\"color\":\"#1f77b4\"},\"mode\":\"lines+markers\",\"name\":\"Train\",\"showlegend\":false,\"x\":[\"2021-08-30T00:00:00\",\"2021-08-31T00:00:00\"],\"y\":[\"2\",\"2\"],\"type\":\"scatter\"},{\"hoverinfo\":\"skip\",\"line\":{\"color\":\"#1f77b4\"},\"mode\":\"lines+markers\",\"name\":\"Train\",\"showlegend\":false,\"x\":[\"2021-08-31T00:00:00\",\"2021-09-01T00:00:00\"],\"y\":[\"2\",\"2\"],\"type\":\"scatter\"},{\"hoverinfo\":\"skip\",\"line\":{\"color\":\"#1f77b4\"},\"mode\":\"lines+markers\",\"name\":\"Train\",\"showlegend\":false,\"x\":[\"2021-09-01T00:00:00\",\"2021-09-02T00:00:00\"],\"y\":[\"2\",\"2\"],\"type\":\"scatter\"},{\"hoverinfo\":\"skip\",\"line\":{\"color\":\"#1f77b4\"},\"mode\":\"lines+markers\",\"name\":\"Train\",\"showlegend\":false,\"x\":[\"2021-09-02T00:00:00\",\"2021-09-03T00:00:00\"],\"y\":[\"2\",\"2\"],\"type\":\"scatter\"},{\"hoverinfo\":\"skip\",\"line\":{\"color\":\"#1f77b4\"},\"mode\":\"lines+markers\",\"name\":\"Train\",\"showlegend\":false,\"x\":[\"2021-09-03T00:00:00\",\"2021-09-04T00:00:00\"],\"y\":[\"2\",\"2\"],\"type\":\"scatter\"},{\"hoverinfo\":\"skip\",\"line\":{\"color\":\"#1f77b4\"},\"mode\":\"lines+markers\",\"name\":\"Train\",\"showlegend\":false,\"x\":[\"2021-09-04T00:00:00\",\"2021-09-05T00:00:00\"],\"y\":[\"2\",\"2\"],\"type\":\"scatter\"},{\"hoverinfo\":\"skip\",\"line\":{\"color\":\"#1f77b4\"},\"mode\":\"lines+markers\",\"name\":\"Train\",\"showlegend\":false,\"x\":[\"2021-09-05T00:00:00\",\"2021-09-06T00:00:00\"],\"y\":[\"2\",\"2\"],\"type\":\"scatter\"},{\"hoverinfo\":\"skip\",\"line\":{\"color\":\"#1f77b4\"},\"mode\":\"lines+markers\",\"name\":\"Train\",\"showlegend\":false,\"x\":[\"2021-09-06T00:00:00\",\"2021-09-07T00:00:00\"],\"y\":[\"2\",\"2\"],\"type\":\"scatter\"},{\"hoverinfo\":\"skip\",\"line\":{\"color\":\"#1f77b4\"},\"mode\":\"lines+markers\",\"name\":\"Train\",\"showlegend\":false,\"x\":[\"2021-09-07T00:00:00\",\"2021-09-08T00:00:00\"],\"y\":[\"2\",\"2\"],\"type\":\"scatter\"},{\"hoverinfo\":\"skip\",\"line\":{\"color\":\"#1f77b4\"},\"mode\":\"lines+markers\",\"name\":\"Train\",\"showlegend\":false,\"x\":[\"2021-09-08T00:00:00\",\"2021-09-09T00:00:00\"],\"y\":[\"2\",\"2\"],\"type\":\"scatter\"},{\"hoverinfo\":\"skip\",\"line\":{\"color\":\"#1f77b4\"},\"mode\":\"lines+markers\",\"name\":\"Train\",\"showlegend\":false,\"x\":[\"2021-09-09T00:00:00\",\"2021-09-10T00:00:00\"],\"y\":[\"2\",\"2\"],\"type\":\"scatter\"},{\"hoverinfo\":\"skip\",\"line\":{\"color\":\"#1f77b4\"},\"mode\":\"lines+markers\",\"name\":\"Train\",\"showlegend\":false,\"x\":[\"2021-09-10T00:00:00\",\"2021-09-11T00:00:00\"],\"y\":[\"2\",\"2\"],\"type\":\"scatter\"},{\"hoverinfo\":\"skip\",\"line\":{\"color\":\"#1f77b4\"},\"mode\":\"lines+markers\",\"name\":\"Train\",\"showlegend\":false,\"x\":[\"2021-09-11T00:00:00\",\"2021-09-12T00:00:00\"],\"y\":[\"2\",\"2\"],\"type\":\"scatter\"},{\"hoverinfo\":\"skip\",\"line\":{\"color\":\"#1f77b4\"},\"mode\":\"lines+markers\",\"name\":\"Train\",\"showlegend\":false,\"x\":[\"2021-09-12T00:00:00\",\"2021-09-13T00:00:00\"],\"y\":[\"2\",\"2\"],\"type\":\"scatter\"},{\"hoverinfo\":\"skip\",\"line\":{\"color\":\"#1f77b4\"},\"mode\":\"lines+markers\",\"name\":\"Train\",\"showlegend\":false,\"x\":[\"2021-09-13T00:00:00\",\"2021-09-14T00:00:00\"],\"y\":[\"2\",\"2\"],\"type\":\"scatter\"},{\"hoverinfo\":\"skip\",\"line\":{\"color\":\"#1f77b4\"},\"mode\":\"lines+markers\",\"name\":\"Train\",\"showlegend\":false,\"x\":[\"2021-09-14T00:00:00\",\"2021-09-15T00:00:00\"],\"y\":[\"2\",\"2\"],\"type\":\"scatter\"},{\"hoverinfo\":\"skip\",\"line\":{\"color\":\"#1f77b4\"},\"mode\":\"lines+markers\",\"name\":\"Train\",\"showlegend\":false,\"x\":[\"2021-09-15T00:00:00\",\"2021-09-16T00:00:00\"],\"y\":[\"2\",\"2\"],\"type\":\"scatter\"},{\"hoverinfo\":\"skip\",\"line\":{\"color\":\"#1f77b4\"},\"mode\":\"lines+markers\",\"name\":\"Train\",\"showlegend\":false,\"x\":[\"2021-09-16T00:00:00\",\"2021-09-17T00:00:00\"],\"y\":[\"2\",\"2\"],\"type\":\"scatter\"},{\"hoverinfo\":\"skip\",\"line\":{\"color\":\"#1f77b4\"},\"mode\":\"lines+markers\",\"name\":\"Train\",\"showlegend\":false,\"x\":[\"2021-09-17T00:00:00\",\"2021-09-18T00:00:00\"],\"y\":[\"2\",\"2\"],\"type\":\"scatter\"},{\"hoverinfo\":\"skip\",\"line\":{\"color\":\"#1f77b4\"},\"mode\":\"lines+markers\",\"name\":\"Train\",\"showlegend\":false,\"x\":[\"2021-09-18T00:00:00\",\"2021-09-19T00:00:00\"],\"y\":[\"2\",\"2\"],\"type\":\"scatter\"},{\"hoverinfo\":\"skip\",\"line\":{\"color\":\"#1f77b4\"},\"mode\":\"lines+markers\",\"name\":\"Train\",\"showlegend\":false,\"x\":[\"2021-09-19T00:00:00\",\"2021-09-20T00:00:00\"],\"y\":[\"2\",\"2\"],\"type\":\"scatter\"},{\"hoverinfo\":\"skip\",\"line\":{\"color\":\"#1f77b4\"},\"mode\":\"lines+markers\",\"name\":\"Train\",\"showlegend\":false,\"x\":[\"2021-09-20T00:00:00\",\"2021-09-21T00:00:00\"],\"y\":[\"2\",\"2\"],\"type\":\"scatter\"},{\"hoverinfo\":\"skip\",\"line\":{\"color\":\"#DE970B\"},\"mode\":\"lines+markers\",\"name\":\"ForecastHorizon\",\"x\":[\"2021-09-22T00:00:00\",\"2021-09-23T00:00:00\"],\"y\":[\"2\",\"2\"],\"type\":\"scatter\",\"showlegend\":false},{\"hoverinfo\":\"skip\",\"line\":{\"color\":\"#DE970B\"},\"mode\":\"lines+markers\",\"name\":\"ForecastHorizon\",\"x\":[\"2021-09-23T00:00:00\",\"2021-09-24T00:00:00\"],\"y\":[\"2\",\"2\"],\"type\":\"scatter\",\"showlegend\":false},{\"hoverinfo\":\"skip\",\"line\":{\"color\":\"#DE970B\"},\"mode\":\"lines+markers\",\"name\":\"ForecastHorizon\",\"x\":[\"2021-09-24T00:00:00\",\"2021-09-25T00:00:00\"],\"y\":[\"2\",\"2\"],\"type\":\"scatter\",\"showlegend\":false},{\"hoverinfo\":\"skip\",\"line\":{\"color\":\"#DE970B\"},\"mode\":\"lines+markers\",\"name\":\"ForecastHorizon\",\"x\":[\"2021-09-25T00:00:00\",\"2021-09-26T00:00:00\"],\"y\":[\"2\",\"2\"],\"type\":\"scatter\",\"showlegend\":false},{\"hoverinfo\":\"skip\",\"line\":{\"color\":\"#DE970B\"},\"mode\":\"lines+markers\",\"name\":\"ForecastHorizon\",\"x\":[\"2021-09-26T00:00:00\",\"2021-09-27T00:00:00\"],\"y\":[\"2\",\"2\"],\"type\":\"scatter\",\"showlegend\":false},{\"hoverinfo\":\"skip\",\"line\":{\"color\":\"#DE970B\"},\"mode\":\"lines+markers\",\"name\":\"ForecastHorizon\",\"x\":[\"2021-09-27T00:00:00\",\"2021-09-28T00:00:00\"],\"y\":[\"2\",\"2\"],\"type\":\"scatter\",\"showlegend\":false},{\"hoverinfo\":\"skip\",\"line\":{\"color\":\"#C0C0C0\"},\"mode\":\"lines+markers\",\"name\":\"Unchanged\",\"x\":[\"2021-07-08T00:00:00\",\"2021-07-09T00:00:00\"],\"y\":[\"1\",\"1\"],\"type\":\"scatter\",\"showlegend\":false},{\"hoverinfo\":\"skip\",\"line\":{\"color\":\"#C0C0C0\"},\"mode\":\"lines+markers\",\"name\":\"Unchanged\",\"x\":[\"2021-07-09T00:00:00\",\"2021-07-10T00:00:00\"],\"y\":[\"1\",\"1\"],\"type\":\"scatter\",\"showlegend\":false},{\"hoverinfo\":\"skip\",\"line\":{\"color\":\"#C0C0C0\"},\"mode\":\"lines+markers\",\"name\":\"Unchanged\",\"x\":[\"2021-07-10T00:00:00\",\"2021-07-11T00:00:00\"],\"y\":[\"1\",\"1\"],\"type\":\"scatter\",\"showlegend\":false},{\"hoverinfo\":\"skip\",\"line\":{\"color\":\"#C0C0C0\"},\"mode\":\"lines+markers\",\"name\":\"Unchanged\",\"x\":[\"2021-07-11T00:00:00\",\"2021-07-12T00:00:00\"],\"y\":[\"1\",\"1\"],\"type\":\"scatter\",\"showlegend\":false},{\"hoverinfo\":\"skip\",\"line\":{\"color\":\"#C0C0C0\"},\"mode\":\"lines+markers\",\"name\":\"Unchanged\",\"x\":[\"2021-07-12T00:00:00\",\"2021-07-13T00:00:00\"],\"y\":[\"1\",\"1\"],\"type\":\"scatter\",\"showlegend\":false},{\"hoverinfo\":\"skip\",\"line\":{\"color\":\"#C0C0C0\"},\"mode\":\"lines+markers\",\"name\":\"Unchanged\",\"x\":[\"2021-07-13T00:00:00\",\"2021-07-14T00:00:00\"],\"y\":[\"1\",\"1\"],\"type\":\"scatter\",\"showlegend\":false},{\"hoverinfo\":\"skip\",\"line\":{\"color\":\"#C0C0C0\"},\"mode\":\"lines+markers\",\"name\":\"Unchanged\",\"x\":[\"2021-07-14T00:00:00\",\"2021-07-15T00:00:00\"],\"y\":[\"1\",\"1\"],\"type\":\"scatter\",\"showlegend\":false},{\"hoverinfo\":\"skip\",\"line\":{\"color\":\"#C0C0C0\"},\"mode\":\"lines+markers\",\"name\":\"Unchanged\",\"x\":[\"2021-07-15T00:00:00\",\"2021-07-16T00:00:00\"],\"y\":[\"1\",\"1\"],\"type\":\"scatter\",\"showlegend\":false},{\"hoverinfo\":\"skip\",\"line\":{\"color\":\"#C0C0C0\"},\"mode\":\"lines+markers\",\"name\":\"Unchanged\",\"x\":[\"2021-07-16T00:00:00\",\"2021-07-17T00:00:00\"],\"y\":[\"1\",\"1\"],\"type\":\"scatter\",\"showlegend\":false},{\"hoverinfo\":\"skip\",\"line\":{\"color\":\"#C0C0C0\"},\"mode\":\"lines+markers\",\"name\":\"Unchanged\",\"x\":[\"2021-07-17T00:00:00\",\"2021-07-18T00:00:00\"],\"y\":[\"1\",\"1\"],\"type\":\"scatter\",\"showlegend\":false},{\"hoverinfo\":\"skip\",\"line\":{\"color\":\"#C0C0C0\"},\"mode\":\"lines+markers\",\"name\":\"Unchanged\",\"x\":[\"2021-07-18T00:00:00\",\"2021-07-19T00:00:00\"],\"y\":[\"1\",\"1\"],\"type\":\"scatter\",\"showlegend\":false},{\"hoverinfo\":\"skip\",\"line\":{\"color\":\"#C0C0C0\"},\"mode\":\"lines+markers\",\"name\":\"Unchanged\",\"x\":[\"2021-07-19T00:00:00\",\"2021-07-20T00:00:00\"],\"y\":[\"1\",\"1\"],\"type\":\"scatter\",\"showlegend\":false},{\"hoverinfo\":\"skip\",\"line\":{\"color\":\"#C0C0C0\"},\"mode\":\"lines+markers\",\"name\":\"Unchanged\",\"x\":[\"2021-07-20T00:00:00\",\"2021-07-21T00:00:00\"],\"y\":[\"1\",\"1\"],\"type\":\"scatter\",\"showlegend\":false},{\"hoverinfo\":\"skip\",\"line\":{\"color\":\"#C0C0C0\"},\"mode\":\"lines+markers\",\"name\":\"Unchanged\",\"x\":[\"2021-07-21T00:00:00\",\"2021-07-22T00:00:00\"],\"y\":[\"1\",\"1\"],\"type\":\"scatter\",\"showlegend\":false},{\"hoverinfo\":\"skip\",\"line\":{\"color\":\"#C0C0C0\"},\"mode\":\"lines+markers\",\"name\":\"Unchanged\",\"x\":[\"2021-07-22T00:00:00\",\"2021-07-23T00:00:00\"],\"y\":[\"1\",\"1\"],\"type\":\"scatter\",\"showlegend\":false},{\"hoverinfo\":\"skip\",\"line\":{\"color\":\"#C0C0C0\"},\"mode\":\"lines+markers\",\"name\":\"Unchanged\",\"x\":[\"2021-07-23T00:00:00\",\"2021-07-24T00:00:00\"],\"y\":[\"1\",\"1\"],\"type\":\"scatter\",\"showlegend\":false},{\"hoverinfo\":\"skip\",\"line\":{\"color\":\"#C0C0C0\"},\"mode\":\"lines+markers\",\"name\":\"Unchanged\",\"x\":[\"2021-07-24T00:00:00\",\"2021-07-25T00:00:00\"],\"y\":[\"1\",\"1\"],\"type\":\"scatter\",\"showlegend\":false},{\"hoverinfo\":\"skip\",\"line\":{\"color\":\"#C0C0C0\"},\"mode\":\"lines+markers\",\"name\":\"Unchanged\",\"x\":[\"2021-07-25T00:00:00\",\"2021-07-26T00:00:00\"],\"y\":[\"1\",\"1\"],\"type\":\"scatter\",\"showlegend\":false},{\"hoverinfo\":\"skip\",\"line\":{\"color\":\"#C0C0C0\"},\"mode\":\"lines+markers\",\"name\":\"Unchanged\",\"x\":[\"2021-07-26T00:00:00\",\"2021-07-27T00:00:00\"],\"y\":[\"1\",\"1\"],\"type\":\"scatter\",\"showlegend\":false},{\"hoverinfo\":\"skip\",\"line\":{\"color\":\"#C0C0C0\"},\"mode\":\"lines+markers\",\"name\":\"Unchanged\",\"x\":[\"2021-07-27T00:00:00\",\"2021-07-28T00:00:00\"],\"y\":[\"1\",\"1\"],\"type\":\"scatter\",\"showlegend\":false},{\"hoverinfo\":\"skip\",\"line\":{\"color\":\"#C0C0C0\"},\"mode\":\"lines+markers\",\"name\":\"Unchanged\",\"x\":[\"2021-07-28T00:00:00\",\"2021-07-29T00:00:00\"],\"y\":[\"1\",\"1\"],\"type\":\"scatter\",\"showlegend\":false},{\"hoverinfo\":\"skip\",\"line\":{\"color\":\"#C0C0C0\"},\"mode\":\"lines+markers\",\"name\":\"Unchanged\",\"x\":[\"2021-07-29T00:00:00\",\"2021-07-30T00:00:00\"],\"y\":[\"1\",\"1\"],\"type\":\"scatter\",\"showlegend\":false},{\"hoverinfo\":\"skip\",\"line\":{\"color\":\"#C0C0C0\"},\"mode\":\"lines+markers\",\"name\":\"Unchanged\",\"x\":[\"2021-07-30T00:00:00\",\"2021-07-31T00:00:00\"],\"y\":[\"1\",\"1\"],\"type\":\"scatter\",\"showlegend\":false},{\"hoverinfo\":\"skip\",\"line\":{\"color\":\"#C0C0C0\"},\"mode\":\"lines+markers\",\"name\":\"Unchanged\",\"x\":[\"2021-07-31T00:00:00\",\"2021-08-01T00:00:00\"],\"y\":[\"1\",\"1\"],\"type\":\"scatter\",\"showlegend\":false},{\"hoverinfo\":\"skip\",\"line\":{\"color\":\"#C0C0C0\"},\"mode\":\"lines+markers\",\"name\":\"Unchanged\",\"x\":[\"2021-08-01T00:00:00\",\"2021-08-02T00:00:00\"],\"y\":[\"1\",\"1\"],\"type\":\"scatter\",\"showlegend\":false},{\"hoverinfo\":\"skip\",\"line\":{\"color\":\"#C0C0C0\"},\"mode\":\"lines+markers\",\"name\":\"Unchanged\",\"x\":[\"2021-08-02T00:00:00\",\"2021-08-03T00:00:00\"],\"y\":[\"1\",\"1\"],\"type\":\"scatter\",\"showlegend\":false},{\"hoverinfo\":\"skip\",\"line\":{\"color\":\"#C0C0C0\"},\"mode\":\"lines+markers\",\"name\":\"Unchanged\",\"x\":[\"2021-08-03T00:00:00\",\"2021-08-04T00:00:00\"],\"y\":[\"1\",\"1\"],\"type\":\"scatter\",\"showlegend\":false},{\"hoverinfo\":\"skip\",\"line\":{\"color\":\"#C0C0C0\"},\"mode\":\"lines+markers\",\"name\":\"Unchanged\",\"x\":[\"2021-08-04T00:00:00\",\"2021-08-05T00:00:00\"],\"y\":[\"1\",\"1\"],\"type\":\"scatter\",\"showlegend\":false},{\"hoverinfo\":\"skip\",\"line\":{\"color\":\"#C0C0C0\"},\"mode\":\"lines+markers\",\"name\":\"Unchanged\",\"x\":[\"2021-08-05T00:00:00\",\"2021-08-06T00:00:00\"],\"y\":[\"1\",\"1\"],\"type\":\"scatter\",\"showlegend\":false},{\"hoverinfo\":\"skip\",\"line\":{\"color\":\"#C0C0C0\"},\"mode\":\"lines+markers\",\"name\":\"Unchanged\",\"x\":[\"2021-08-06T00:00:00\",\"2021-08-07T00:00:00\"],\"y\":[\"1\",\"1\"],\"type\":\"scatter\",\"showlegend\":false},{\"hoverinfo\":\"skip\",\"line\":{\"color\":\"#C0C0C0\"},\"mode\":\"lines+markers\",\"name\":\"Unchanged\",\"x\":[\"2021-08-07T00:00:00\",\"2021-08-08T00:00:00\"],\"y\":[\"1\",\"1\"],\"type\":\"scatter\",\"showlegend\":false},{\"hoverinfo\":\"skip\",\"line\":{\"color\":\"#C0C0C0\"},\"mode\":\"lines+markers\",\"name\":\"Unchanged\",\"x\":[\"2021-08-08T00:00:00\",\"2021-08-09T00:00:00\"],\"y\":[\"1\",\"1\"],\"type\":\"scatter\",\"showlegend\":false},{\"hoverinfo\":\"skip\",\"line\":{\"color\":\"#C0C0C0\"},\"mode\":\"lines+markers\",\"name\":\"Unchanged\",\"x\":[\"2021-08-09T00:00:00\",\"2021-08-10T00:00:00\"],\"y\":[\"1\",\"1\"],\"type\":\"scatter\",\"showlegend\":false},{\"hoverinfo\":\"skip\",\"line\":{\"color\":\"#C0C0C0\"},\"mode\":\"lines+markers\",\"name\":\"Unchanged\",\"x\":[\"2021-08-10T00:00:00\",\"2021-08-11T00:00:00\"],\"y\":[\"1\",\"1\"],\"type\":\"scatter\",\"showlegend\":false},{\"hoverinfo\":\"skip\",\"line\":{\"color\":\"#C0C0C0\"},\"mode\":\"lines+markers\",\"name\":\"Unchanged\",\"x\":[\"2021-08-11T00:00:00\",\"2021-08-12T00:00:00\"],\"y\":[\"1\",\"1\"],\"type\":\"scatter\",\"showlegend\":false},{\"hoverinfo\":\"skip\",\"line\":{\"color\":\"#C0C0C0\"},\"mode\":\"lines+markers\",\"name\":\"Unchanged\",\"x\":[\"2021-08-12T00:00:00\",\"2021-08-13T00:00:00\"],\"y\":[\"1\",\"1\"],\"type\":\"scatter\",\"showlegend\":false},{\"hoverinfo\":\"skip\",\"line\":{\"color\":\"#C0C0C0\"},\"mode\":\"lines+markers\",\"name\":\"Unchanged\",\"x\":[\"2021-08-13T00:00:00\",\"2021-08-14T00:00:00\"],\"y\":[\"1\",\"1\"],\"type\":\"scatter\",\"showlegend\":false},{\"hoverinfo\":\"skip\",\"line\":{\"color\":\"#C0C0C0\"},\"mode\":\"lines+markers\",\"name\":\"Unchanged\",\"x\":[\"2021-08-14T00:00:00\",\"2021-08-15T00:00:00\"],\"y\":[\"1\",\"1\"],\"type\":\"scatter\",\"showlegend\":false},{\"hoverinfo\":\"skip\",\"line\":{\"color\":\"#C0C0C0\"},\"mode\":\"lines+markers\",\"name\":\"Unchanged\",\"x\":[\"2021-08-15T00:00:00\",\"2021-08-16T00:00:00\"],\"y\":[\"1\",\"1\"],\"type\":\"scatter\",\"showlegend\":false},{\"hoverinfo\":\"skip\",\"line\":{\"color\":\"#C0C0C0\"},\"mode\":\"lines+markers\",\"name\":\"Unchanged\",\"x\":[\"2021-08-16T00:00:00\",\"2021-08-17T00:00:00\"],\"y\":[\"1\",\"1\"],\"type\":\"scatter\",\"showlegend\":false},{\"hoverinfo\":\"skip\",\"line\":{\"color\":\"#C0C0C0\"},\"mode\":\"lines+markers\",\"name\":\"Unchanged\",\"x\":[\"2021-08-17T00:00:00\",\"2021-08-18T00:00:00\"],\"y\":[\"1\",\"1\"],\"type\":\"scatter\",\"showlegend\":false},{\"hoverinfo\":\"skip\",\"line\":{\"color\":\"#C0C0C0\"},\"mode\":\"lines+markers\",\"name\":\"Unchanged\",\"x\":[\"2021-08-18T00:00:00\",\"2021-08-19T00:00:00\"],\"y\":[\"1\",\"1\"],\"type\":\"scatter\",\"showlegend\":false},{\"hoverinfo\":\"skip\",\"line\":{\"color\":\"#C0C0C0\"},\"mode\":\"lines+markers\",\"name\":\"Unchanged\",\"x\":[\"2021-08-19T00:00:00\",\"2021-08-20T00:00:00\"],\"y\":[\"1\",\"1\"],\"type\":\"scatter\",\"showlegend\":false},{\"hoverinfo\":\"skip\",\"line\":{\"color\":\"#C0C0C0\"},\"mode\":\"lines+markers\",\"name\":\"Unchanged\",\"x\":[\"2021-08-20T00:00:00\",\"2021-08-21T00:00:00\"],\"y\":[\"1\",\"1\"],\"type\":\"scatter\",\"showlegend\":false},{\"hoverinfo\":\"skip\",\"line\":{\"color\":\"#C0C0C0\"},\"mode\":\"lines+markers\",\"name\":\"Unchanged\",\"x\":[\"2021-08-21T00:00:00\",\"2021-08-22T00:00:00\"],\"y\":[\"1\",\"1\"],\"type\":\"scatter\",\"showlegend\":false},{\"hoverinfo\":\"skip\",\"line\":{\"color\":\"#C0C0C0\"},\"mode\":\"lines+markers\",\"name\":\"Unchanged\",\"x\":[\"2021-08-22T00:00:00\",\"2021-08-23T00:00:00\"],\"y\":[\"1\",\"1\"],\"type\":\"scatter\",\"showlegend\":false},{\"hoverinfo\":\"skip\",\"line\":{\"color\":\"#C0C0C0\"},\"mode\":\"lines+markers\",\"name\":\"Unchanged\",\"x\":[\"2021-08-23T00:00:00\",\"2021-08-24T00:00:00\"],\"y\":[\"1\",\"1\"],\"type\":\"scatter\",\"showlegend\":false},{\"hoverinfo\":\"skip\",\"line\":{\"color\":\"#C0C0C0\"},\"mode\":\"lines+markers\",\"name\":\"Unchanged\",\"x\":[\"2021-08-24T00:00:00\",\"2021-08-25T00:00:00\"],\"y\":[\"1\",\"1\"],\"type\":\"scatter\",\"showlegend\":false},{\"hoverinfo\":\"skip\",\"line\":{\"color\":\"#C0C0C0\"},\"mode\":\"lines+markers\",\"name\":\"Unchanged\",\"x\":[\"2021-08-25T00:00:00\",\"2021-08-26T00:00:00\"],\"y\":[\"1\",\"1\"],\"type\":\"scatter\",\"showlegend\":false},{\"hoverinfo\":\"skip\",\"line\":{\"color\":\"#C0C0C0\"},\"mode\":\"lines+markers\",\"name\":\"Unchanged\",\"x\":[\"2021-08-26T00:00:00\",\"2021-08-27T00:00:00\"],\"y\":[\"1\",\"1\"],\"type\":\"scatter\",\"showlegend\":false},{\"hoverinfo\":\"skip\",\"line\":{\"color\":\"#C0C0C0\"},\"mode\":\"lines+markers\",\"name\":\"Unchanged\",\"x\":[\"2021-08-27T00:00:00\",\"2021-08-28T00:00:00\"],\"y\":[\"1\",\"1\"],\"type\":\"scatter\",\"showlegend\":false},{\"hoverinfo\":\"skip\",\"line\":{\"color\":\"#C0C0C0\"},\"mode\":\"lines+markers\",\"name\":\"Unchanged\",\"x\":[\"2021-08-28T00:00:00\",\"2021-08-29T00:00:00\"],\"y\":[\"1\",\"1\"],\"type\":\"scatter\",\"showlegend\":false},{\"hoverinfo\":\"skip\",\"line\":{\"color\":\"#C0C0C0\"},\"mode\":\"lines+markers\",\"name\":\"Unchanged\",\"x\":[\"2021-08-29T00:00:00\",\"2021-08-30T00:00:00\"],\"y\":[\"1\",\"1\"],\"type\":\"scatter\",\"showlegend\":false},{\"hoverinfo\":\"skip\",\"line\":{\"color\":\"#C0C0C0\"},\"mode\":\"lines+markers\",\"name\":\"Unchanged\",\"x\":[\"2021-08-30T00:00:00\",\"2021-08-31T00:00:00\"],\"y\":[\"1\",\"1\"],\"type\":\"scatter\",\"showlegend\":false},{\"hoverinfo\":\"skip\",\"line\":{\"color\":\"#C0C0C0\"},\"mode\":\"lines+markers\",\"name\":\"Unchanged\",\"x\":[\"2021-08-31T00:00:00\",\"2021-09-01T00:00:00\"],\"y\":[\"1\",\"1\"],\"type\":\"scatter\",\"showlegend\":false},{\"hoverinfo\":\"skip\",\"line\":{\"color\":\"#C0C0C0\"},\"mode\":\"lines+markers\",\"name\":\"Unchanged\",\"x\":[\"2021-09-01T00:00:00\",\"2021-09-02T00:00:00\"],\"y\":[\"1\",\"1\"],\"type\":\"scatter\",\"showlegend\":false},{\"hoverinfo\":\"skip\",\"line\":{\"color\":\"#C0C0C0\"},\"mode\":\"lines+markers\",\"name\":\"Unchanged\",\"x\":[\"2021-09-02T00:00:00\",\"2021-09-03T00:00:00\"],\"y\":[\"1\",\"1\"],\"type\":\"scatter\",\"showlegend\":false},{\"hoverinfo\":\"skip\",\"line\":{\"color\":\"#C0C0C0\"},\"mode\":\"lines+markers\",\"name\":\"Unchanged\",\"x\":[\"2021-09-03T00:00:00\",\"2021-09-04T00:00:00\"],\"y\":[\"1\",\"1\"],\"type\":\"scatter\",\"showlegend\":false},{\"hoverinfo\":\"skip\",\"line\":{\"color\":\"#C0C0C0\"},\"mode\":\"lines+markers\",\"name\":\"Unchanged\",\"x\":[\"2021-09-04T00:00:00\",\"2021-09-05T00:00:00\"],\"y\":[\"1\",\"1\"],\"type\":\"scatter\",\"showlegend\":false},{\"hoverinfo\":\"skip\",\"line\":{\"color\":\"#C0C0C0\"},\"mode\":\"lines+markers\",\"name\":\"Unchanged\",\"x\":[\"2021-09-05T00:00:00\",\"2021-09-06T00:00:00\"],\"y\":[\"1\",\"1\"],\"type\":\"scatter\",\"showlegend\":false},{\"hoverinfo\":\"skip\",\"line\":{\"color\":\"#C0C0C0\"},\"mode\":\"lines+markers\",\"name\":\"Unchanged\",\"x\":[\"2021-09-06T00:00:00\",\"2021-09-07T00:00:00\"],\"y\":[\"1\",\"1\"],\"type\":\"scatter\",\"showlegend\":false},{\"hoverinfo\":\"skip\",\"line\":{\"color\":\"#C0C0C0\"},\"mode\":\"lines+markers\",\"name\":\"Unchanged\",\"x\":[\"2021-09-07T00:00:00\",\"2021-09-08T00:00:00\"],\"y\":[\"1\",\"1\"],\"type\":\"scatter\",\"showlegend\":false},{\"hoverinfo\":\"skip\",\"line\":{\"color\":\"#C0C0C0\"},\"mode\":\"lines+markers\",\"name\":\"Unchanged\",\"x\":[\"2021-09-08T00:00:00\",\"2021-09-09T00:00:00\"],\"y\":[\"1\",\"1\"],\"type\":\"scatter\",\"showlegend\":false},{\"hoverinfo\":\"skip\",\"line\":{\"color\":\"#C0C0C0\"},\"mode\":\"lines+markers\",\"name\":\"Unchanged\",\"x\":[\"2021-09-09T00:00:00\",\"2021-09-10T00:00:00\"],\"y\":[\"1\",\"1\"],\"type\":\"scatter\",\"showlegend\":false},{\"hoverinfo\":\"skip\",\"line\":{\"color\":\"#C0C0C0\"},\"mode\":\"lines+markers\",\"name\":\"Unchanged\",\"x\":[\"2021-09-10T00:00:00\",\"2021-09-11T00:00:00\"],\"y\":[\"1\",\"1\"],\"type\":\"scatter\",\"showlegend\":false},{\"hoverinfo\":\"skip\",\"line\":{\"color\":\"#C0C0C0\"},\"mode\":\"lines+markers\",\"name\":\"Unchanged\",\"x\":[\"2021-09-11T00:00:00\",\"2021-09-12T00:00:00\"],\"y\":[\"1\",\"1\"],\"type\":\"scatter\",\"showlegend\":false},{\"hoverinfo\":\"skip\",\"line\":{\"color\":\"#C0C0C0\"},\"mode\":\"lines+markers\",\"name\":\"Unchanged\",\"x\":[\"2021-09-12T00:00:00\",\"2021-09-13T00:00:00\"],\"y\":[\"1\",\"1\"],\"type\":\"scatter\",\"showlegend\":false},{\"hoverinfo\":\"skip\",\"line\":{\"color\":\"#C0C0C0\"},\"mode\":\"lines+markers\",\"name\":\"Unchanged\",\"x\":[\"2021-09-13T00:00:00\",\"2021-09-14T00:00:00\"],\"y\":[\"1\",\"1\"],\"type\":\"scatter\",\"showlegend\":false},{\"hoverinfo\":\"skip\",\"line\":{\"color\":\"#C0C0C0\"},\"mode\":\"lines+markers\",\"name\":\"Unchanged\",\"x\":[\"2021-09-14T00:00:00\",\"2021-09-15T00:00:00\"],\"y\":[\"1\",\"1\"],\"type\":\"scatter\",\"showlegend\":false},{\"hoverinfo\":\"skip\",\"line\":{\"color\":\"#C0C0C0\"},\"mode\":\"lines+markers\",\"name\":\"Unchanged\",\"x\":[\"2021-09-15T00:00:00\",\"2021-09-16T00:00:00\"],\"y\":[\"1\",\"1\"],\"type\":\"scatter\",\"showlegend\":false},{\"hoverinfo\":\"skip\",\"line\":{\"color\":\"#C0C0C0\"},\"mode\":\"lines+markers\",\"name\":\"Unchanged\",\"x\":[\"2021-09-16T00:00:00\",\"2021-09-17T00:00:00\"],\"y\":[\"1\",\"1\"],\"type\":\"scatter\",\"showlegend\":false},{\"hoverinfo\":\"skip\",\"line\":{\"color\":\"#C0C0C0\"},\"mode\":\"lines+markers\",\"name\":\"Unchanged\",\"x\":[\"2021-09-17T00:00:00\",\"2021-09-18T00:00:00\"],\"y\":[\"1\",\"1\"],\"type\":\"scatter\",\"showlegend\":false},{\"hoverinfo\":\"skip\",\"line\":{\"color\":\"#C0C0C0\"},\"mode\":\"lines+markers\",\"name\":\"Unchanged\",\"x\":[\"2021-09-18T00:00:00\",\"2021-09-19T00:00:00\"],\"y\":[\"1\",\"1\"],\"type\":\"scatter\",\"showlegend\":false},{\"hoverinfo\":\"skip\",\"line\":{\"color\":\"#C0C0C0\"},\"mode\":\"lines+markers\",\"name\":\"Unchanged\",\"x\":[\"2021-09-19T00:00:00\",\"2021-09-20T00:00:00\"],\"y\":[\"1\",\"1\"],\"type\":\"scatter\",\"showlegend\":false},{\"hoverinfo\":\"skip\",\"line\":{\"color\":\"#C0C0C0\"},\"mode\":\"lines+markers\",\"name\":\"Unchanged\",\"x\":[\"2021-09-20T00:00:00\",\"2021-09-21T00:00:00\"],\"y\":[\"1\",\"1\"],\"type\":\"scatter\",\"showlegend\":false},{\"hoverinfo\":\"skip\",\"line\":{\"color\":\"#C0C0C0\"},\"mode\":\"lines+markers\",\"name\":\"Unchanged\",\"x\":[\"2021-09-21T00:00:00\",\"2021-09-22T00:00:00\"],\"y\":[\"1\",\"1\"],\"type\":\"scatter\",\"showlegend\":false},{\"hoverinfo\":\"skip\",\"line\":{\"color\":\"#C0C0C0\"},\"mode\":\"lines+markers\",\"name\":\"Unchanged\",\"x\":[\"2021-09-22T00:00:00\",\"2021-09-23T00:00:00\"],\"y\":[\"1\",\"1\"],\"type\":\"scatter\",\"showlegend\":false},{\"hoverinfo\":\"skip\",\"line\":{\"color\":\"#C0C0C0\"},\"mode\":\"lines+markers\",\"name\":\"Unchanged\",\"x\":[\"2021-09-23T00:00:00\",\"2021-09-24T00:00:00\"],\"y\":[\"1\",\"1\"],\"type\":\"scatter\",\"showlegend\":false},{\"hoverinfo\":\"skip\",\"line\":{\"color\":\"#C0C0C0\"},\"mode\":\"lines+markers\",\"name\":\"Unchanged\",\"x\":[\"2021-09-24T00:00:00\",\"2021-09-25T00:00:00\"],\"y\":[\"1\",\"1\"],\"type\":\"scatter\",\"showlegend\":false},{\"hoverinfo\":\"skip\",\"line\":{\"color\":\"#C0C0C0\"},\"mode\":\"lines+markers\",\"name\":\"Unchanged\",\"x\":[\"2021-09-25T00:00:00\",\"2021-09-26T00:00:00\"],\"y\":[\"1\",\"1\"],\"type\":\"scatter\",\"showlegend\":false},{\"hoverinfo\":\"skip\",\"line\":{\"color\":\"#C0C0C0\"},\"mode\":\"lines+markers\",\"name\":\"Unchanged\",\"x\":[\"2021-09-26T00:00:00\",\"2021-09-27T00:00:00\"],\"y\":[\"1\",\"1\"],\"type\":\"scatter\",\"showlegend\":false},{\"hoverinfo\":\"skip\",\"line\":{\"color\":\"#C0C0C0\"},\"mode\":\"lines+markers\",\"name\":\"Unchanged\",\"x\":[\"2021-09-27T00:00:00\",\"2021-09-28T00:00:00\"],\"y\":[\"1\",\"1\"],\"type\":\"scatter\",\"showlegend\":false},{\"hoverinfo\":\"skip\",\"line\":{\"color\":\"#1f77b4\"},\"mode\":\"lines+markers\",\"name\":\"Train\",\"showlegend\":false,\"x\":[\"2021-07-08T00:00:00\",\"2021-07-09T00:00:00\"],\"y\":[\"1\",\"1\"],\"type\":\"scatter\"},{\"hoverinfo\":\"skip\",\"line\":{\"color\":\"#1f77b4\"},\"mode\":\"lines+markers\",\"name\":\"Train\",\"showlegend\":false,\"x\":[\"2021-07-09T00:00:00\",\"2021-07-10T00:00:00\"],\"y\":[\"1\",\"1\"],\"type\":\"scatter\"},{\"hoverinfo\":\"skip\",\"line\":{\"color\":\"#1f77b4\"},\"mode\":\"lines+markers\",\"name\":\"Train\",\"showlegend\":false,\"x\":[\"2021-07-10T00:00:00\",\"2021-07-11T00:00:00\"],\"y\":[\"1\",\"1\"],\"type\":\"scatter\"},{\"hoverinfo\":\"skip\",\"line\":{\"color\":\"#1f77b4\"},\"mode\":\"lines+markers\",\"name\":\"Train\",\"showlegend\":false,\"x\":[\"2021-07-11T00:00:00\",\"2021-07-12T00:00:00\"],\"y\":[\"1\",\"1\"],\"type\":\"scatter\"},{\"hoverinfo\":\"skip\",\"line\":{\"color\":\"#1f77b4\"},\"mode\":\"lines+markers\",\"name\":\"Train\",\"showlegend\":false,\"x\":[\"2021-07-12T00:00:00\",\"2021-07-13T00:00:00\"],\"y\":[\"1\",\"1\"],\"type\":\"scatter\"},{\"hoverinfo\":\"skip\",\"line\":{\"color\":\"#1f77b4\"},\"mode\":\"lines+markers\",\"name\":\"Train\",\"showlegend\":false,\"x\":[\"2021-07-13T00:00:00\",\"2021-07-14T00:00:00\"],\"y\":[\"1\",\"1\"],\"type\":\"scatter\"},{\"hoverinfo\":\"skip\",\"line\":{\"color\":\"#1f77b4\"},\"mode\":\"lines+markers\",\"name\":\"Train\",\"showlegend\":false,\"x\":[\"2021-07-14T00:00:00\",\"2021-07-15T00:00:00\"],\"y\":[\"1\",\"1\"],\"type\":\"scatter\"},{\"hoverinfo\":\"skip\",\"line\":{\"color\":\"#1f77b4\"},\"mode\":\"lines+markers\",\"name\":\"Train\",\"showlegend\":false,\"x\":[\"2021-07-15T00:00:00\",\"2021-07-16T00:00:00\"],\"y\":[\"1\",\"1\"],\"type\":\"scatter\"},{\"hoverinfo\":\"skip\",\"line\":{\"color\":\"#1f77b4\"},\"mode\":\"lines+markers\",\"name\":\"Train\",\"showlegend\":false,\"x\":[\"2021-07-16T00:00:00\",\"2021-07-17T00:00:00\"],\"y\":[\"1\",\"1\"],\"type\":\"scatter\"},{\"hoverinfo\":\"skip\",\"line\":{\"color\":\"#1f77b4\"},\"mode\":\"lines+markers\",\"name\":\"Train\",\"showlegend\":false,\"x\":[\"2021-07-17T00:00:00\",\"2021-07-18T00:00:00\"],\"y\":[\"1\",\"1\"],\"type\":\"scatter\"},{\"hoverinfo\":\"skip\",\"line\":{\"color\":\"#1f77b4\"},\"mode\":\"lines+markers\",\"name\":\"Train\",\"showlegend\":false,\"x\":[\"2021-07-18T00:00:00\",\"2021-07-19T00:00:00\"],\"y\":[\"1\",\"1\"],\"type\":\"scatter\"},{\"hoverinfo\":\"skip\",\"line\":{\"color\":\"#1f77b4\"},\"mode\":\"lines+markers\",\"name\":\"Train\",\"showlegend\":false,\"x\":[\"2021-07-19T00:00:00\",\"2021-07-20T00:00:00\"],\"y\":[\"1\",\"1\"],\"type\":\"scatter\"},{\"hoverinfo\":\"skip\",\"line\":{\"color\":\"#1f77b4\"},\"mode\":\"lines+markers\",\"name\":\"Train\",\"showlegend\":false,\"x\":[\"2021-07-20T00:00:00\",\"2021-07-21T00:00:00\"],\"y\":[\"1\",\"1\"],\"type\":\"scatter\"},{\"hoverinfo\":\"skip\",\"line\":{\"color\":\"#1f77b4\"},\"mode\":\"lines+markers\",\"name\":\"Train\",\"showlegend\":false,\"x\":[\"2021-07-21T00:00:00\",\"2021-07-22T00:00:00\"],\"y\":[\"1\",\"1\"],\"type\":\"scatter\"},{\"hoverinfo\":\"skip\",\"line\":{\"color\":\"#1f77b4\"},\"mode\":\"lines+markers\",\"name\":\"Train\",\"showlegend\":false,\"x\":[\"2021-07-22T00:00:00\",\"2021-07-23T00:00:00\"],\"y\":[\"1\",\"1\"],\"type\":\"scatter\"},{\"hoverinfo\":\"skip\",\"line\":{\"color\":\"#1f77b4\"},\"mode\":\"lines+markers\",\"name\":\"Train\",\"showlegend\":false,\"x\":[\"2021-07-23T00:00:00\",\"2021-07-24T00:00:00\"],\"y\":[\"1\",\"1\"],\"type\":\"scatter\"},{\"hoverinfo\":\"skip\",\"line\":{\"color\":\"#1f77b4\"},\"mode\":\"lines+markers\",\"name\":\"Train\",\"showlegend\":false,\"x\":[\"2021-07-24T00:00:00\",\"2021-07-25T00:00:00\"],\"y\":[\"1\",\"1\"],\"type\":\"scatter\"},{\"hoverinfo\":\"skip\",\"line\":{\"color\":\"#1f77b4\"},\"mode\":\"lines+markers\",\"name\":\"Train\",\"showlegend\":false,\"x\":[\"2021-07-25T00:00:00\",\"2021-07-26T00:00:00\"],\"y\":[\"1\",\"1\"],\"type\":\"scatter\"},{\"hoverinfo\":\"skip\",\"line\":{\"color\":\"#1f77b4\"},\"mode\":\"lines+markers\",\"name\":\"Train\",\"showlegend\":false,\"x\":[\"2021-07-26T00:00:00\",\"2021-07-27T00:00:00\"],\"y\":[\"1\",\"1\"],\"type\":\"scatter\"},{\"hoverinfo\":\"skip\",\"line\":{\"color\":\"#1f77b4\"},\"mode\":\"lines+markers\",\"name\":\"Train\",\"showlegend\":false,\"x\":[\"2021-07-27T00:00:00\",\"2021-07-28T00:00:00\"],\"y\":[\"1\",\"1\"],\"type\":\"scatter\"},{\"hoverinfo\":\"skip\",\"line\":{\"color\":\"#1f77b4\"},\"mode\":\"lines+markers\",\"name\":\"Train\",\"showlegend\":false,\"x\":[\"2021-07-28T00:00:00\",\"2021-07-29T00:00:00\"],\"y\":[\"1\",\"1\"],\"type\":\"scatter\"},{\"hoverinfo\":\"skip\",\"line\":{\"color\":\"#1f77b4\"},\"mode\":\"lines+markers\",\"name\":\"Train\",\"showlegend\":false,\"x\":[\"2021-07-29T00:00:00\",\"2021-07-30T00:00:00\"],\"y\":[\"1\",\"1\"],\"type\":\"scatter\"},{\"hoverinfo\":\"skip\",\"line\":{\"color\":\"#1f77b4\"},\"mode\":\"lines+markers\",\"name\":\"Train\",\"showlegend\":false,\"x\":[\"2021-07-30T00:00:00\",\"2021-07-31T00:00:00\"],\"y\":[\"1\",\"1\"],\"type\":\"scatter\"},{\"hoverinfo\":\"skip\",\"line\":{\"color\":\"#1f77b4\"},\"mode\":\"lines+markers\",\"name\":\"Train\",\"showlegend\":false,\"x\":[\"2021-07-31T00:00:00\",\"2021-08-01T00:00:00\"],\"y\":[\"1\",\"1\"],\"type\":\"scatter\"},{\"hoverinfo\":\"skip\",\"line\":{\"color\":\"#1f77b4\"},\"mode\":\"lines+markers\",\"name\":\"Train\",\"showlegend\":false,\"x\":[\"2021-08-01T00:00:00\",\"2021-08-02T00:00:00\"],\"y\":[\"1\",\"1\"],\"type\":\"scatter\"},{\"hoverinfo\":\"skip\",\"line\":{\"color\":\"#1f77b4\"},\"mode\":\"lines+markers\",\"name\":\"Train\",\"showlegend\":false,\"x\":[\"2021-08-02T00:00:00\",\"2021-08-03T00:00:00\"],\"y\":[\"1\",\"1\"],\"type\":\"scatter\"},{\"hoverinfo\":\"skip\",\"line\":{\"color\":\"#1f77b4\"},\"mode\":\"lines+markers\",\"name\":\"Train\",\"showlegend\":false,\"x\":[\"2021-08-03T00:00:00\",\"2021-08-04T00:00:00\"],\"y\":[\"1\",\"1\"],\"type\":\"scatter\"},{\"hoverinfo\":\"skip\",\"line\":{\"color\":\"#1f77b4\"},\"mode\":\"lines+markers\",\"name\":\"Train\",\"showlegend\":false,\"x\":[\"2021-08-04T00:00:00\",\"2021-08-05T00:00:00\"],\"y\":[\"1\",\"1\"],\"type\":\"scatter\"},{\"hoverinfo\":\"skip\",\"line\":{\"color\":\"#1f77b4\"},\"mode\":\"lines+markers\",\"name\":\"Train\",\"showlegend\":false,\"x\":[\"2021-08-05T00:00:00\",\"2021-08-06T00:00:00\"],\"y\":[\"1\",\"1\"],\"type\":\"scatter\"},{\"hoverinfo\":\"skip\",\"line\":{\"color\":\"#1f77b4\"},\"mode\":\"lines+markers\",\"name\":\"Train\",\"showlegend\":false,\"x\":[\"2021-08-06T00:00:00\",\"2021-08-07T00:00:00\"],\"y\":[\"1\",\"1\"],\"type\":\"scatter\"},{\"hoverinfo\":\"skip\",\"line\":{\"color\":\"#1f77b4\"},\"mode\":\"lines+markers\",\"name\":\"Train\",\"showlegend\":false,\"x\":[\"2021-08-07T00:00:00\",\"2021-08-08T00:00:00\"],\"y\":[\"1\",\"1\"],\"type\":\"scatter\"},{\"hoverinfo\":\"skip\",\"line\":{\"color\":\"#1f77b4\"},\"mode\":\"lines+markers\",\"name\":\"Train\",\"showlegend\":false,\"x\":[\"2021-08-08T00:00:00\",\"2021-08-09T00:00:00\"],\"y\":[\"1\",\"1\"],\"type\":\"scatter\"},{\"hoverinfo\":\"skip\",\"line\":{\"color\":\"#1f77b4\"},\"mode\":\"lines+markers\",\"name\":\"Train\",\"showlegend\":false,\"x\":[\"2021-08-09T00:00:00\",\"2021-08-10T00:00:00\"],\"y\":[\"1\",\"1\"],\"type\":\"scatter\"},{\"hoverinfo\":\"skip\",\"line\":{\"color\":\"#1f77b4\"},\"mode\":\"lines+markers\",\"name\":\"Train\",\"showlegend\":false,\"x\":[\"2021-08-10T00:00:00\",\"2021-08-11T00:00:00\"],\"y\":[\"1\",\"1\"],\"type\":\"scatter\"},{\"hoverinfo\":\"skip\",\"line\":{\"color\":\"#1f77b4\"},\"mode\":\"lines+markers\",\"name\":\"Train\",\"showlegend\":false,\"x\":[\"2021-08-11T00:00:00\",\"2021-08-12T00:00:00\"],\"y\":[\"1\",\"1\"],\"type\":\"scatter\"},{\"hoverinfo\":\"skip\",\"line\":{\"color\":\"#1f77b4\"},\"mode\":\"lines+markers\",\"name\":\"Train\",\"showlegend\":false,\"x\":[\"2021-08-12T00:00:00\",\"2021-08-13T00:00:00\"],\"y\":[\"1\",\"1\"],\"type\":\"scatter\"},{\"hoverinfo\":\"skip\",\"line\":{\"color\":\"#1f77b4\"},\"mode\":\"lines+markers\",\"name\":\"Train\",\"showlegend\":false,\"x\":[\"2021-08-13T00:00:00\",\"2021-08-14T00:00:00\"],\"y\":[\"1\",\"1\"],\"type\":\"scatter\"},{\"hoverinfo\":\"skip\",\"line\":{\"color\":\"#1f77b4\"},\"mode\":\"lines+markers\",\"name\":\"Train\",\"showlegend\":false,\"x\":[\"2021-08-14T00:00:00\",\"2021-08-15T00:00:00\"],\"y\":[\"1\",\"1\"],\"type\":\"scatter\"},{\"hoverinfo\":\"skip\",\"line\":{\"color\":\"#1f77b4\"},\"mode\":\"lines+markers\",\"name\":\"Train\",\"showlegend\":false,\"x\":[\"2021-08-15T00:00:00\",\"2021-08-16T00:00:00\"],\"y\":[\"1\",\"1\"],\"type\":\"scatter\"},{\"hoverinfo\":\"skip\",\"line\":{\"color\":\"#1f77b4\"},\"mode\":\"lines+markers\",\"name\":\"Train\",\"showlegend\":false,\"x\":[\"2021-08-16T00:00:00\",\"2021-08-17T00:00:00\"],\"y\":[\"1\",\"1\"],\"type\":\"scatter\"},{\"hoverinfo\":\"skip\",\"line\":{\"color\":\"#1f77b4\"},\"mode\":\"lines+markers\",\"name\":\"Train\",\"showlegend\":false,\"x\":[\"2021-08-17T00:00:00\",\"2021-08-18T00:00:00\"],\"y\":[\"1\",\"1\"],\"type\":\"scatter\"},{\"hoverinfo\":\"skip\",\"line\":{\"color\":\"#1f77b4\"},\"mode\":\"lines+markers\",\"name\":\"Train\",\"showlegend\":false,\"x\":[\"2021-08-18T00:00:00\",\"2021-08-19T00:00:00\"],\"y\":[\"1\",\"1\"],\"type\":\"scatter\"},{\"hoverinfo\":\"skip\",\"line\":{\"color\":\"#1f77b4\"},\"mode\":\"lines+markers\",\"name\":\"Train\",\"showlegend\":false,\"x\":[\"2021-08-19T00:00:00\",\"2021-08-20T00:00:00\"],\"y\":[\"1\",\"1\"],\"type\":\"scatter\"},{\"hoverinfo\":\"skip\",\"line\":{\"color\":\"#1f77b4\"},\"mode\":\"lines+markers\",\"name\":\"Train\",\"showlegend\":false,\"x\":[\"2021-08-20T00:00:00\",\"2021-08-21T00:00:00\"],\"y\":[\"1\",\"1\"],\"type\":\"scatter\"},{\"hoverinfo\":\"skip\",\"line\":{\"color\":\"#1f77b4\"},\"mode\":\"lines+markers\",\"name\":\"Train\",\"showlegend\":false,\"x\":[\"2021-08-21T00:00:00\",\"2021-08-22T00:00:00\"],\"y\":[\"1\",\"1\"],\"type\":\"scatter\"},{\"hoverinfo\":\"skip\",\"line\":{\"color\":\"#1f77b4\"},\"mode\":\"lines+markers\",\"name\":\"Train\",\"showlegend\":false,\"x\":[\"2021-08-22T00:00:00\",\"2021-08-23T00:00:00\"],\"y\":[\"1\",\"1\"],\"type\":\"scatter\"},{\"hoverinfo\":\"skip\",\"line\":{\"color\":\"#1f77b4\"},\"mode\":\"lines+markers\",\"name\":\"Train\",\"showlegend\":false,\"x\":[\"2021-08-23T00:00:00\",\"2021-08-24T00:00:00\"],\"y\":[\"1\",\"1\"],\"type\":\"scatter\"},{\"hoverinfo\":\"skip\",\"line\":{\"color\":\"#1f77b4\"},\"mode\":\"lines+markers\",\"name\":\"Train\",\"showlegend\":false,\"x\":[\"2021-08-24T00:00:00\",\"2021-08-25T00:00:00\"],\"y\":[\"1\",\"1\"],\"type\":\"scatter\"},{\"hoverinfo\":\"skip\",\"line\":{\"color\":\"#1f77b4\"},\"mode\":\"lines+markers\",\"name\":\"Train\",\"showlegend\":false,\"x\":[\"2021-08-25T00:00:00\",\"2021-08-26T00:00:00\"],\"y\":[\"1\",\"1\"],\"type\":\"scatter\"},{\"hoverinfo\":\"skip\",\"line\":{\"color\":\"#1f77b4\"},\"mode\":\"lines+markers\",\"name\":\"Train\",\"showlegend\":false,\"x\":[\"2021-08-26T00:00:00\",\"2021-08-27T00:00:00\"],\"y\":[\"1\",\"1\"],\"type\":\"scatter\"},{\"hoverinfo\":\"skip\",\"line\":{\"color\":\"#1f77b4\"},\"mode\":\"lines+markers\",\"name\":\"Train\",\"showlegend\":false,\"x\":[\"2021-08-27T00:00:00\",\"2021-08-28T00:00:00\"],\"y\":[\"1\",\"1\"],\"type\":\"scatter\"},{\"hoverinfo\":\"skip\",\"line\":{\"color\":\"#1f77b4\"},\"mode\":\"lines+markers\",\"name\":\"Train\",\"showlegend\":false,\"x\":[\"2021-08-28T00:00:00\",\"2021-08-29T00:00:00\"],\"y\":[\"1\",\"1\"],\"type\":\"scatter\"},{\"hoverinfo\":\"skip\",\"line\":{\"color\":\"#1f77b4\"},\"mode\":\"lines+markers\",\"name\":\"Train\",\"showlegend\":false,\"x\":[\"2021-08-29T00:00:00\",\"2021-08-30T00:00:00\"],\"y\":[\"1\",\"1\"],\"type\":\"scatter\"},{\"hoverinfo\":\"skip\",\"line\":{\"color\":\"#1f77b4\"},\"mode\":\"lines+markers\",\"name\":\"Train\",\"showlegend\":false,\"x\":[\"2021-08-30T00:00:00\",\"2021-08-31T00:00:00\"],\"y\":[\"1\",\"1\"],\"type\":\"scatter\"},{\"hoverinfo\":\"skip\",\"line\":{\"color\":\"#1f77b4\"},\"mode\":\"lines+markers\",\"name\":\"Train\",\"showlegend\":false,\"x\":[\"2021-08-31T00:00:00\",\"2021-09-01T00:00:00\"],\"y\":[\"1\",\"1\"],\"type\":\"scatter\"},{\"hoverinfo\":\"skip\",\"line\":{\"color\":\"#1f77b4\"},\"mode\":\"lines+markers\",\"name\":\"Train\",\"showlegend\":false,\"x\":[\"2021-09-01T00:00:00\",\"2021-09-02T00:00:00\"],\"y\":[\"1\",\"1\"],\"type\":\"scatter\"},{\"hoverinfo\":\"skip\",\"line\":{\"color\":\"#1f77b4\"},\"mode\":\"lines+markers\",\"name\":\"Train\",\"showlegend\":false,\"x\":[\"2021-09-02T00:00:00\",\"2021-09-03T00:00:00\"],\"y\":[\"1\",\"1\"],\"type\":\"scatter\"},{\"hoverinfo\":\"skip\",\"line\":{\"color\":\"#1f77b4\"},\"mode\":\"lines+markers\",\"name\":\"Train\",\"showlegend\":false,\"x\":[\"2021-09-03T00:00:00\",\"2021-09-04T00:00:00\"],\"y\":[\"1\",\"1\"],\"type\":\"scatter\"},{\"hoverinfo\":\"skip\",\"line\":{\"color\":\"#1f77b4\"},\"mode\":\"lines+markers\",\"name\":\"Train\",\"showlegend\":false,\"x\":[\"2021-09-04T00:00:00\",\"2021-09-05T00:00:00\"],\"y\":[\"1\",\"1\"],\"type\":\"scatter\"},{\"hoverinfo\":\"skip\",\"line\":{\"color\":\"#1f77b4\"},\"mode\":\"lines+markers\",\"name\":\"Train\",\"showlegend\":false,\"x\":[\"2021-09-05T00:00:00\",\"2021-09-06T00:00:00\"],\"y\":[\"1\",\"1\"],\"type\":\"scatter\"},{\"hoverinfo\":\"skip\",\"line\":{\"color\":\"#1f77b4\"},\"mode\":\"lines+markers\",\"name\":\"Train\",\"showlegend\":false,\"x\":[\"2021-09-06T00:00:00\",\"2021-09-07T00:00:00\"],\"y\":[\"1\",\"1\"],\"type\":\"scatter\"},{\"hoverinfo\":\"skip\",\"line\":{\"color\":\"#1f77b4\"},\"mode\":\"lines+markers\",\"name\":\"Train\",\"showlegend\":false,\"x\":[\"2021-09-07T00:00:00\",\"2021-09-08T00:00:00\"],\"y\":[\"1\",\"1\"],\"type\":\"scatter\"},{\"hoverinfo\":\"skip\",\"line\":{\"color\":\"#1f77b4\"},\"mode\":\"lines+markers\",\"name\":\"Train\",\"showlegend\":false,\"x\":[\"2021-09-08T00:00:00\",\"2021-09-09T00:00:00\"],\"y\":[\"1\",\"1\"],\"type\":\"scatter\"},{\"hoverinfo\":\"skip\",\"line\":{\"color\":\"#1f77b4\"},\"mode\":\"lines+markers\",\"name\":\"Train\",\"showlegend\":false,\"x\":[\"2021-09-09T00:00:00\",\"2021-09-10T00:00:00\"],\"y\":[\"1\",\"1\"],\"type\":\"scatter\"},{\"hoverinfo\":\"skip\",\"line\":{\"color\":\"#1f77b4\"},\"mode\":\"lines+markers\",\"name\":\"Train\",\"showlegend\":false,\"x\":[\"2021-09-10T00:00:00\",\"2021-09-11T00:00:00\"],\"y\":[\"1\",\"1\"],\"type\":\"scatter\"},{\"hoverinfo\":\"skip\",\"line\":{\"color\":\"#1f77b4\"},\"mode\":\"lines+markers\",\"name\":\"Train\",\"showlegend\":false,\"x\":[\"2021-09-11T00:00:00\",\"2021-09-12T00:00:00\"],\"y\":[\"1\",\"1\"],\"type\":\"scatter\"},{\"hoverinfo\":\"skip\",\"line\":{\"color\":\"#1f77b4\"},\"mode\":\"lines+markers\",\"name\":\"Train\",\"showlegend\":false,\"x\":[\"2021-09-12T00:00:00\",\"2021-09-13T00:00:00\"],\"y\":[\"1\",\"1\"],\"type\":\"scatter\"},{\"hoverinfo\":\"skip\",\"line\":{\"color\":\"#1f77b4\"},\"mode\":\"lines+markers\",\"name\":\"Train\",\"showlegend\":false,\"x\":[\"2021-09-13T00:00:00\",\"2021-09-14T00:00:00\"],\"y\":[\"1\",\"1\"],\"type\":\"scatter\"},{\"hoverinfo\":\"skip\",\"line\":{\"color\":\"#DE970B\"},\"mode\":\"lines+markers\",\"name\":\"ForecastHorizon\",\"x\":[\"2021-09-15T00:00:00\",\"2021-09-16T00:00:00\"],\"y\":[\"1\",\"1\"],\"type\":\"scatter\",\"showlegend\":false},{\"hoverinfo\":\"skip\",\"line\":{\"color\":\"#DE970B\"},\"mode\":\"lines+markers\",\"name\":\"ForecastHorizon\",\"x\":[\"2021-09-16T00:00:00\",\"2021-09-17T00:00:00\"],\"y\":[\"1\",\"1\"],\"type\":\"scatter\",\"showlegend\":false},{\"hoverinfo\":\"skip\",\"line\":{\"color\":\"#DE970B\"},\"mode\":\"lines+markers\",\"name\":\"ForecastHorizon\",\"x\":[\"2021-09-17T00:00:00\",\"2021-09-18T00:00:00\"],\"y\":[\"1\",\"1\"],\"type\":\"scatter\",\"showlegend\":false},{\"hoverinfo\":\"skip\",\"line\":{\"color\":\"#DE970B\"},\"mode\":\"lines+markers\",\"name\":\"ForecastHorizon\",\"x\":[\"2021-09-18T00:00:00\",\"2021-09-19T00:00:00\"],\"y\":[\"1\",\"1\"],\"type\":\"scatter\",\"showlegend\":false},{\"hoverinfo\":\"skip\",\"line\":{\"color\":\"#DE970B\"},\"mode\":\"lines+markers\",\"name\":\"ForecastHorizon\",\"x\":[\"2021-09-19T00:00:00\",\"2021-09-20T00:00:00\"],\"y\":[\"1\",\"1\"],\"type\":\"scatter\",\"showlegend\":false},{\"hoverinfo\":\"skip\",\"line\":{\"color\":\"#DE970B\"},\"mode\":\"lines+markers\",\"name\":\"ForecastHorizon\",\"x\":[\"2021-09-20T00:00:00\",\"2021-09-21T00:00:00\"],\"y\":[\"1\",\"1\"],\"type\":\"scatter\",\"showlegend\":false},{\"hoverinfo\":\"skip\",\"line\":{\"color\":\"#C0C0C0\"},\"mode\":\"lines+markers\",\"name\":\"Unchanged\",\"x\":[\"2021-07-08T00:00:00\",\"2021-07-09T00:00:00\"],\"y\":[\"0\",\"0\"],\"type\":\"scatter\",\"showlegend\":false},{\"hoverinfo\":\"skip\",\"line\":{\"color\":\"#C0C0C0\"},\"mode\":\"lines+markers\",\"name\":\"Unchanged\",\"x\":[\"2021-07-09T00:00:00\",\"2021-07-10T00:00:00\"],\"y\":[\"0\",\"0\"],\"type\":\"scatter\",\"showlegend\":false},{\"hoverinfo\":\"skip\",\"line\":{\"color\":\"#C0C0C0\"},\"mode\":\"lines+markers\",\"name\":\"Unchanged\",\"x\":[\"2021-07-10T00:00:00\",\"2021-07-11T00:00:00\"],\"y\":[\"0\",\"0\"],\"type\":\"scatter\",\"showlegend\":false},{\"hoverinfo\":\"skip\",\"line\":{\"color\":\"#C0C0C0\"},\"mode\":\"lines+markers\",\"name\":\"Unchanged\",\"x\":[\"2021-07-11T00:00:00\",\"2021-07-12T00:00:00\"],\"y\":[\"0\",\"0\"],\"type\":\"scatter\",\"showlegend\":false},{\"hoverinfo\":\"skip\",\"line\":{\"color\":\"#C0C0C0\"},\"mode\":\"lines+markers\",\"name\":\"Unchanged\",\"x\":[\"2021-07-12T00:00:00\",\"2021-07-13T00:00:00\"],\"y\":[\"0\",\"0\"],\"type\":\"scatter\",\"showlegend\":false},{\"hoverinfo\":\"skip\",\"line\":{\"color\":\"#C0C0C0\"},\"mode\":\"lines+markers\",\"name\":\"Unchanged\",\"x\":[\"2021-07-13T00:00:00\",\"2021-07-14T00:00:00\"],\"y\":[\"0\",\"0\"],\"type\":\"scatter\",\"showlegend\":false},{\"hoverinfo\":\"skip\",\"line\":{\"color\":\"#C0C0C0\"},\"mode\":\"lines+markers\",\"name\":\"Unchanged\",\"x\":[\"2021-07-14T00:00:00\",\"2021-07-15T00:00:00\"],\"y\":[\"0\",\"0\"],\"type\":\"scatter\",\"showlegend\":false},{\"hoverinfo\":\"skip\",\"line\":{\"color\":\"#C0C0C0\"},\"mode\":\"lines+markers\",\"name\":\"Unchanged\",\"x\":[\"2021-07-15T00:00:00\",\"2021-07-16T00:00:00\"],\"y\":[\"0\",\"0\"],\"type\":\"scatter\",\"showlegend\":false},{\"hoverinfo\":\"skip\",\"line\":{\"color\":\"#C0C0C0\"},\"mode\":\"lines+markers\",\"name\":\"Unchanged\",\"x\":[\"2021-07-16T00:00:00\",\"2021-07-17T00:00:00\"],\"y\":[\"0\",\"0\"],\"type\":\"scatter\",\"showlegend\":false},{\"hoverinfo\":\"skip\",\"line\":{\"color\":\"#C0C0C0\"},\"mode\":\"lines+markers\",\"name\":\"Unchanged\",\"x\":[\"2021-07-17T00:00:00\",\"2021-07-18T00:00:00\"],\"y\":[\"0\",\"0\"],\"type\":\"scatter\",\"showlegend\":false},{\"hoverinfo\":\"skip\",\"line\":{\"color\":\"#C0C0C0\"},\"mode\":\"lines+markers\",\"name\":\"Unchanged\",\"x\":[\"2021-07-18T00:00:00\",\"2021-07-19T00:00:00\"],\"y\":[\"0\",\"0\"],\"type\":\"scatter\",\"showlegend\":false},{\"hoverinfo\":\"skip\",\"line\":{\"color\":\"#C0C0C0\"},\"mode\":\"lines+markers\",\"name\":\"Unchanged\",\"x\":[\"2021-07-19T00:00:00\",\"2021-07-20T00:00:00\"],\"y\":[\"0\",\"0\"],\"type\":\"scatter\",\"showlegend\":false},{\"hoverinfo\":\"skip\",\"line\":{\"color\":\"#C0C0C0\"},\"mode\":\"lines+markers\",\"name\":\"Unchanged\",\"x\":[\"2021-07-20T00:00:00\",\"2021-07-21T00:00:00\"],\"y\":[\"0\",\"0\"],\"type\":\"scatter\",\"showlegend\":false},{\"hoverinfo\":\"skip\",\"line\":{\"color\":\"#C0C0C0\"},\"mode\":\"lines+markers\",\"name\":\"Unchanged\",\"x\":[\"2021-07-21T00:00:00\",\"2021-07-22T00:00:00\"],\"y\":[\"0\",\"0\"],\"type\":\"scatter\",\"showlegend\":false},{\"hoverinfo\":\"skip\",\"line\":{\"color\":\"#C0C0C0\"},\"mode\":\"lines+markers\",\"name\":\"Unchanged\",\"x\":[\"2021-07-22T00:00:00\",\"2021-07-23T00:00:00\"],\"y\":[\"0\",\"0\"],\"type\":\"scatter\",\"showlegend\":false},{\"hoverinfo\":\"skip\",\"line\":{\"color\":\"#C0C0C0\"},\"mode\":\"lines+markers\",\"name\":\"Unchanged\",\"x\":[\"2021-07-23T00:00:00\",\"2021-07-24T00:00:00\"],\"y\":[\"0\",\"0\"],\"type\":\"scatter\",\"showlegend\":false},{\"hoverinfo\":\"skip\",\"line\":{\"color\":\"#C0C0C0\"},\"mode\":\"lines+markers\",\"name\":\"Unchanged\",\"x\":[\"2021-07-24T00:00:00\",\"2021-07-25T00:00:00\"],\"y\":[\"0\",\"0\"],\"type\":\"scatter\",\"showlegend\":false},{\"hoverinfo\":\"skip\",\"line\":{\"color\":\"#C0C0C0\"},\"mode\":\"lines+markers\",\"name\":\"Unchanged\",\"x\":[\"2021-07-25T00:00:00\",\"2021-07-26T00:00:00\"],\"y\":[\"0\",\"0\"],\"type\":\"scatter\",\"showlegend\":false},{\"hoverinfo\":\"skip\",\"line\":{\"color\":\"#C0C0C0\"},\"mode\":\"lines+markers\",\"name\":\"Unchanged\",\"x\":[\"2021-07-26T00:00:00\",\"2021-07-27T00:00:00\"],\"y\":[\"0\",\"0\"],\"type\":\"scatter\",\"showlegend\":false},{\"hoverinfo\":\"skip\",\"line\":{\"color\":\"#C0C0C0\"},\"mode\":\"lines+markers\",\"name\":\"Unchanged\",\"x\":[\"2021-07-27T00:00:00\",\"2021-07-28T00:00:00\"],\"y\":[\"0\",\"0\"],\"type\":\"scatter\",\"showlegend\":false},{\"hoverinfo\":\"skip\",\"line\":{\"color\":\"#C0C0C0\"},\"mode\":\"lines+markers\",\"name\":\"Unchanged\",\"x\":[\"2021-07-28T00:00:00\",\"2021-07-29T00:00:00\"],\"y\":[\"0\",\"0\"],\"type\":\"scatter\",\"showlegend\":false},{\"hoverinfo\":\"skip\",\"line\":{\"color\":\"#C0C0C0\"},\"mode\":\"lines+markers\",\"name\":\"Unchanged\",\"x\":[\"2021-07-29T00:00:00\",\"2021-07-30T00:00:00\"],\"y\":[\"0\",\"0\"],\"type\":\"scatter\",\"showlegend\":false},{\"hoverinfo\":\"skip\",\"line\":{\"color\":\"#C0C0C0\"},\"mode\":\"lines+markers\",\"name\":\"Unchanged\",\"x\":[\"2021-07-30T00:00:00\",\"2021-07-31T00:00:00\"],\"y\":[\"0\",\"0\"],\"type\":\"scatter\",\"showlegend\":false},{\"hoverinfo\":\"skip\",\"line\":{\"color\":\"#C0C0C0\"},\"mode\":\"lines+markers\",\"name\":\"Unchanged\",\"x\":[\"2021-07-31T00:00:00\",\"2021-08-01T00:00:00\"],\"y\":[\"0\",\"0\"],\"type\":\"scatter\",\"showlegend\":false},{\"hoverinfo\":\"skip\",\"line\":{\"color\":\"#C0C0C0\"},\"mode\":\"lines+markers\",\"name\":\"Unchanged\",\"x\":[\"2021-08-01T00:00:00\",\"2021-08-02T00:00:00\"],\"y\":[\"0\",\"0\"],\"type\":\"scatter\",\"showlegend\":false},{\"hoverinfo\":\"skip\",\"line\":{\"color\":\"#C0C0C0\"},\"mode\":\"lines+markers\",\"name\":\"Unchanged\",\"x\":[\"2021-08-02T00:00:00\",\"2021-08-03T00:00:00\"],\"y\":[\"0\",\"0\"],\"type\":\"scatter\",\"showlegend\":false},{\"hoverinfo\":\"skip\",\"line\":{\"color\":\"#C0C0C0\"},\"mode\":\"lines+markers\",\"name\":\"Unchanged\",\"x\":[\"2021-08-03T00:00:00\",\"2021-08-04T00:00:00\"],\"y\":[\"0\",\"0\"],\"type\":\"scatter\",\"showlegend\":false},{\"hoverinfo\":\"skip\",\"line\":{\"color\":\"#C0C0C0\"},\"mode\":\"lines+markers\",\"name\":\"Unchanged\",\"x\":[\"2021-08-04T00:00:00\",\"2021-08-05T00:00:00\"],\"y\":[\"0\",\"0\"],\"type\":\"scatter\",\"showlegend\":false},{\"hoverinfo\":\"skip\",\"line\":{\"color\":\"#C0C0C0\"},\"mode\":\"lines+markers\",\"name\":\"Unchanged\",\"x\":[\"2021-08-05T00:00:00\",\"2021-08-06T00:00:00\"],\"y\":[\"0\",\"0\"],\"type\":\"scatter\",\"showlegend\":false},{\"hoverinfo\":\"skip\",\"line\":{\"color\":\"#C0C0C0\"},\"mode\":\"lines+markers\",\"name\":\"Unchanged\",\"x\":[\"2021-08-06T00:00:00\",\"2021-08-07T00:00:00\"],\"y\":[\"0\",\"0\"],\"type\":\"scatter\",\"showlegend\":false},{\"hoverinfo\":\"skip\",\"line\":{\"color\":\"#C0C0C0\"},\"mode\":\"lines+markers\",\"name\":\"Unchanged\",\"x\":[\"2021-08-07T00:00:00\",\"2021-08-08T00:00:00\"],\"y\":[\"0\",\"0\"],\"type\":\"scatter\",\"showlegend\":false},{\"hoverinfo\":\"skip\",\"line\":{\"color\":\"#C0C0C0\"},\"mode\":\"lines+markers\",\"name\":\"Unchanged\",\"x\":[\"2021-08-08T00:00:00\",\"2021-08-09T00:00:00\"],\"y\":[\"0\",\"0\"],\"type\":\"scatter\",\"showlegend\":false},{\"hoverinfo\":\"skip\",\"line\":{\"color\":\"#C0C0C0\"},\"mode\":\"lines+markers\",\"name\":\"Unchanged\",\"x\":[\"2021-08-09T00:00:00\",\"2021-08-10T00:00:00\"],\"y\":[\"0\",\"0\"],\"type\":\"scatter\",\"showlegend\":false},{\"hoverinfo\":\"skip\",\"line\":{\"color\":\"#C0C0C0\"},\"mode\":\"lines+markers\",\"name\":\"Unchanged\",\"x\":[\"2021-08-10T00:00:00\",\"2021-08-11T00:00:00\"],\"y\":[\"0\",\"0\"],\"type\":\"scatter\",\"showlegend\":false},{\"hoverinfo\":\"skip\",\"line\":{\"color\":\"#C0C0C0\"},\"mode\":\"lines+markers\",\"name\":\"Unchanged\",\"x\":[\"2021-08-11T00:00:00\",\"2021-08-12T00:00:00\"],\"y\":[\"0\",\"0\"],\"type\":\"scatter\",\"showlegend\":false},{\"hoverinfo\":\"skip\",\"line\":{\"color\":\"#C0C0C0\"},\"mode\":\"lines+markers\",\"name\":\"Unchanged\",\"x\":[\"2021-08-12T00:00:00\",\"2021-08-13T00:00:00\"],\"y\":[\"0\",\"0\"],\"type\":\"scatter\",\"showlegend\":false},{\"hoverinfo\":\"skip\",\"line\":{\"color\":\"#C0C0C0\"},\"mode\":\"lines+markers\",\"name\":\"Unchanged\",\"x\":[\"2021-08-13T00:00:00\",\"2021-08-14T00:00:00\"],\"y\":[\"0\",\"0\"],\"type\":\"scatter\",\"showlegend\":false},{\"hoverinfo\":\"skip\",\"line\":{\"color\":\"#C0C0C0\"},\"mode\":\"lines+markers\",\"name\":\"Unchanged\",\"x\":[\"2021-08-14T00:00:00\",\"2021-08-15T00:00:00\"],\"y\":[\"0\",\"0\"],\"type\":\"scatter\",\"showlegend\":false},{\"hoverinfo\":\"skip\",\"line\":{\"color\":\"#C0C0C0\"},\"mode\":\"lines+markers\",\"name\":\"Unchanged\",\"x\":[\"2021-08-15T00:00:00\",\"2021-08-16T00:00:00\"],\"y\":[\"0\",\"0\"],\"type\":\"scatter\",\"showlegend\":false},{\"hoverinfo\":\"skip\",\"line\":{\"color\":\"#C0C0C0\"},\"mode\":\"lines+markers\",\"name\":\"Unchanged\",\"x\":[\"2021-08-16T00:00:00\",\"2021-08-17T00:00:00\"],\"y\":[\"0\",\"0\"],\"type\":\"scatter\",\"showlegend\":false},{\"hoverinfo\":\"skip\",\"line\":{\"color\":\"#C0C0C0\"},\"mode\":\"lines+markers\",\"name\":\"Unchanged\",\"x\":[\"2021-08-17T00:00:00\",\"2021-08-18T00:00:00\"],\"y\":[\"0\",\"0\"],\"type\":\"scatter\",\"showlegend\":false},{\"hoverinfo\":\"skip\",\"line\":{\"color\":\"#C0C0C0\"},\"mode\":\"lines+markers\",\"name\":\"Unchanged\",\"x\":[\"2021-08-18T00:00:00\",\"2021-08-19T00:00:00\"],\"y\":[\"0\",\"0\"],\"type\":\"scatter\",\"showlegend\":false},{\"hoverinfo\":\"skip\",\"line\":{\"color\":\"#C0C0C0\"},\"mode\":\"lines+markers\",\"name\":\"Unchanged\",\"x\":[\"2021-08-19T00:00:00\",\"2021-08-20T00:00:00\"],\"y\":[\"0\",\"0\"],\"type\":\"scatter\",\"showlegend\":false},{\"hoverinfo\":\"skip\",\"line\":{\"color\":\"#C0C0C0\"},\"mode\":\"lines+markers\",\"name\":\"Unchanged\",\"x\":[\"2021-08-20T00:00:00\",\"2021-08-21T00:00:00\"],\"y\":[\"0\",\"0\"],\"type\":\"scatter\",\"showlegend\":false},{\"hoverinfo\":\"skip\",\"line\":{\"color\":\"#C0C0C0\"},\"mode\":\"lines+markers\",\"name\":\"Unchanged\",\"x\":[\"2021-08-21T00:00:00\",\"2021-08-22T00:00:00\"],\"y\":[\"0\",\"0\"],\"type\":\"scatter\",\"showlegend\":false},{\"hoverinfo\":\"skip\",\"line\":{\"color\":\"#C0C0C0\"},\"mode\":\"lines+markers\",\"name\":\"Unchanged\",\"x\":[\"2021-08-22T00:00:00\",\"2021-08-23T00:00:00\"],\"y\":[\"0\",\"0\"],\"type\":\"scatter\",\"showlegend\":false},{\"hoverinfo\":\"skip\",\"line\":{\"color\":\"#C0C0C0\"},\"mode\":\"lines+markers\",\"name\":\"Unchanged\",\"x\":[\"2021-08-23T00:00:00\",\"2021-08-24T00:00:00\"],\"y\":[\"0\",\"0\"],\"type\":\"scatter\",\"showlegend\":false},{\"hoverinfo\":\"skip\",\"line\":{\"color\":\"#C0C0C0\"},\"mode\":\"lines+markers\",\"name\":\"Unchanged\",\"x\":[\"2021-08-24T00:00:00\",\"2021-08-25T00:00:00\"],\"y\":[\"0\",\"0\"],\"type\":\"scatter\",\"showlegend\":false},{\"hoverinfo\":\"skip\",\"line\":{\"color\":\"#C0C0C0\"},\"mode\":\"lines+markers\",\"name\":\"Unchanged\",\"x\":[\"2021-08-25T00:00:00\",\"2021-08-26T00:00:00\"],\"y\":[\"0\",\"0\"],\"type\":\"scatter\",\"showlegend\":false},{\"hoverinfo\":\"skip\",\"line\":{\"color\":\"#C0C0C0\"},\"mode\":\"lines+markers\",\"name\":\"Unchanged\",\"x\":[\"2021-08-26T00:00:00\",\"2021-08-27T00:00:00\"],\"y\":[\"0\",\"0\"],\"type\":\"scatter\",\"showlegend\":false},{\"hoverinfo\":\"skip\",\"line\":{\"color\":\"#C0C0C0\"},\"mode\":\"lines+markers\",\"name\":\"Unchanged\",\"x\":[\"2021-08-27T00:00:00\",\"2021-08-28T00:00:00\"],\"y\":[\"0\",\"0\"],\"type\":\"scatter\",\"showlegend\":false},{\"hoverinfo\":\"skip\",\"line\":{\"color\":\"#C0C0C0\"},\"mode\":\"lines+markers\",\"name\":\"Unchanged\",\"x\":[\"2021-08-28T00:00:00\",\"2021-08-29T00:00:00\"],\"y\":[\"0\",\"0\"],\"type\":\"scatter\",\"showlegend\":false},{\"hoverinfo\":\"skip\",\"line\":{\"color\":\"#C0C0C0\"},\"mode\":\"lines+markers\",\"name\":\"Unchanged\",\"x\":[\"2021-08-29T00:00:00\",\"2021-08-30T00:00:00\"],\"y\":[\"0\",\"0\"],\"type\":\"scatter\",\"showlegend\":false},{\"hoverinfo\":\"skip\",\"line\":{\"color\":\"#C0C0C0\"},\"mode\":\"lines+markers\",\"name\":\"Unchanged\",\"x\":[\"2021-08-30T00:00:00\",\"2021-08-31T00:00:00\"],\"y\":[\"0\",\"0\"],\"type\":\"scatter\",\"showlegend\":false},{\"hoverinfo\":\"skip\",\"line\":{\"color\":\"#C0C0C0\"},\"mode\":\"lines+markers\",\"name\":\"Unchanged\",\"x\":[\"2021-08-31T00:00:00\",\"2021-09-01T00:00:00\"],\"y\":[\"0\",\"0\"],\"type\":\"scatter\",\"showlegend\":false},{\"hoverinfo\":\"skip\",\"line\":{\"color\":\"#C0C0C0\"},\"mode\":\"lines+markers\",\"name\":\"Unchanged\",\"x\":[\"2021-09-01T00:00:00\",\"2021-09-02T00:00:00\"],\"y\":[\"0\",\"0\"],\"type\":\"scatter\",\"showlegend\":false},{\"hoverinfo\":\"skip\",\"line\":{\"color\":\"#C0C0C0\"},\"mode\":\"lines+markers\",\"name\":\"Unchanged\",\"x\":[\"2021-09-02T00:00:00\",\"2021-09-03T00:00:00\"],\"y\":[\"0\",\"0\"],\"type\":\"scatter\",\"showlegend\":false},{\"hoverinfo\":\"skip\",\"line\":{\"color\":\"#C0C0C0\"},\"mode\":\"lines+markers\",\"name\":\"Unchanged\",\"x\":[\"2021-09-03T00:00:00\",\"2021-09-04T00:00:00\"],\"y\":[\"0\",\"0\"],\"type\":\"scatter\",\"showlegend\":false},{\"hoverinfo\":\"skip\",\"line\":{\"color\":\"#C0C0C0\"},\"mode\":\"lines+markers\",\"name\":\"Unchanged\",\"x\":[\"2021-09-04T00:00:00\",\"2021-09-05T00:00:00\"],\"y\":[\"0\",\"0\"],\"type\":\"scatter\",\"showlegend\":false},{\"hoverinfo\":\"skip\",\"line\":{\"color\":\"#C0C0C0\"},\"mode\":\"lines+markers\",\"name\":\"Unchanged\",\"x\":[\"2021-09-05T00:00:00\",\"2021-09-06T00:00:00\"],\"y\":[\"0\",\"0\"],\"type\":\"scatter\",\"showlegend\":false},{\"hoverinfo\":\"skip\",\"line\":{\"color\":\"#C0C0C0\"},\"mode\":\"lines+markers\",\"name\":\"Unchanged\",\"x\":[\"2021-09-06T00:00:00\",\"2021-09-07T00:00:00\"],\"y\":[\"0\",\"0\"],\"type\":\"scatter\",\"showlegend\":false},{\"hoverinfo\":\"skip\",\"line\":{\"color\":\"#C0C0C0\"},\"mode\":\"lines+markers\",\"name\":\"Unchanged\",\"x\":[\"2021-09-07T00:00:00\",\"2021-09-08T00:00:00\"],\"y\":[\"0\",\"0\"],\"type\":\"scatter\",\"showlegend\":false},{\"hoverinfo\":\"skip\",\"line\":{\"color\":\"#C0C0C0\"},\"mode\":\"lines+markers\",\"name\":\"Unchanged\",\"x\":[\"2021-09-08T00:00:00\",\"2021-09-09T00:00:00\"],\"y\":[\"0\",\"0\"],\"type\":\"scatter\",\"showlegend\":false},{\"hoverinfo\":\"skip\",\"line\":{\"color\":\"#C0C0C0\"},\"mode\":\"lines+markers\",\"name\":\"Unchanged\",\"x\":[\"2021-09-09T00:00:00\",\"2021-09-10T00:00:00\"],\"y\":[\"0\",\"0\"],\"type\":\"scatter\",\"showlegend\":false},{\"hoverinfo\":\"skip\",\"line\":{\"color\":\"#C0C0C0\"},\"mode\":\"lines+markers\",\"name\":\"Unchanged\",\"x\":[\"2021-09-10T00:00:00\",\"2021-09-11T00:00:00\"],\"y\":[\"0\",\"0\"],\"type\":\"scatter\",\"showlegend\":false},{\"hoverinfo\":\"skip\",\"line\":{\"color\":\"#C0C0C0\"},\"mode\":\"lines+markers\",\"name\":\"Unchanged\",\"x\":[\"2021-09-11T00:00:00\",\"2021-09-12T00:00:00\"],\"y\":[\"0\",\"0\"],\"type\":\"scatter\",\"showlegend\":false},{\"hoverinfo\":\"skip\",\"line\":{\"color\":\"#C0C0C0\"},\"mode\":\"lines+markers\",\"name\":\"Unchanged\",\"x\":[\"2021-09-12T00:00:00\",\"2021-09-13T00:00:00\"],\"y\":[\"0\",\"0\"],\"type\":\"scatter\",\"showlegend\":false},{\"hoverinfo\":\"skip\",\"line\":{\"color\":\"#C0C0C0\"},\"mode\":\"lines+markers\",\"name\":\"Unchanged\",\"x\":[\"2021-09-13T00:00:00\",\"2021-09-14T00:00:00\"],\"y\":[\"0\",\"0\"],\"type\":\"scatter\",\"showlegend\":false},{\"hoverinfo\":\"skip\",\"line\":{\"color\":\"#C0C0C0\"},\"mode\":\"lines+markers\",\"name\":\"Unchanged\",\"x\":[\"2021-09-14T00:00:00\",\"2021-09-15T00:00:00\"],\"y\":[\"0\",\"0\"],\"type\":\"scatter\",\"showlegend\":false},{\"hoverinfo\":\"skip\",\"line\":{\"color\":\"#C0C0C0\"},\"mode\":\"lines+markers\",\"name\":\"Unchanged\",\"x\":[\"2021-09-15T00:00:00\",\"2021-09-16T00:00:00\"],\"y\":[\"0\",\"0\"],\"type\":\"scatter\",\"showlegend\":false},{\"hoverinfo\":\"skip\",\"line\":{\"color\":\"#C0C0C0\"},\"mode\":\"lines+markers\",\"name\":\"Unchanged\",\"x\":[\"2021-09-16T00:00:00\",\"2021-09-17T00:00:00\"],\"y\":[\"0\",\"0\"],\"type\":\"scatter\",\"showlegend\":false},{\"hoverinfo\":\"skip\",\"line\":{\"color\":\"#C0C0C0\"},\"mode\":\"lines+markers\",\"name\":\"Unchanged\",\"x\":[\"2021-09-17T00:00:00\",\"2021-09-18T00:00:00\"],\"y\":[\"0\",\"0\"],\"type\":\"scatter\",\"showlegend\":false},{\"hoverinfo\":\"skip\",\"line\":{\"color\":\"#C0C0C0\"},\"mode\":\"lines+markers\",\"name\":\"Unchanged\",\"x\":[\"2021-09-18T00:00:00\",\"2021-09-19T00:00:00\"],\"y\":[\"0\",\"0\"],\"type\":\"scatter\",\"showlegend\":false},{\"hoverinfo\":\"skip\",\"line\":{\"color\":\"#C0C0C0\"},\"mode\":\"lines+markers\",\"name\":\"Unchanged\",\"x\":[\"2021-09-19T00:00:00\",\"2021-09-20T00:00:00\"],\"y\":[\"0\",\"0\"],\"type\":\"scatter\",\"showlegend\":false},{\"hoverinfo\":\"skip\",\"line\":{\"color\":\"#C0C0C0\"},\"mode\":\"lines+markers\",\"name\":\"Unchanged\",\"x\":[\"2021-09-20T00:00:00\",\"2021-09-21T00:00:00\"],\"y\":[\"0\",\"0\"],\"type\":\"scatter\",\"showlegend\":false},{\"hoverinfo\":\"skip\",\"line\":{\"color\":\"#C0C0C0\"},\"mode\":\"lines+markers\",\"name\":\"Unchanged\",\"x\":[\"2021-09-21T00:00:00\",\"2021-09-22T00:00:00\"],\"y\":[\"0\",\"0\"],\"type\":\"scatter\",\"showlegend\":false},{\"hoverinfo\":\"skip\",\"line\":{\"color\":\"#C0C0C0\"},\"mode\":\"lines+markers\",\"name\":\"Unchanged\",\"x\":[\"2021-09-22T00:00:00\",\"2021-09-23T00:00:00\"],\"y\":[\"0\",\"0\"],\"type\":\"scatter\",\"showlegend\":false},{\"hoverinfo\":\"skip\",\"line\":{\"color\":\"#C0C0C0\"},\"mode\":\"lines+markers\",\"name\":\"Unchanged\",\"x\":[\"2021-09-23T00:00:00\",\"2021-09-24T00:00:00\"],\"y\":[\"0\",\"0\"],\"type\":\"scatter\",\"showlegend\":false},{\"hoverinfo\":\"skip\",\"line\":{\"color\":\"#C0C0C0\"},\"mode\":\"lines+markers\",\"name\":\"Unchanged\",\"x\":[\"2021-09-24T00:00:00\",\"2021-09-25T00:00:00\"],\"y\":[\"0\",\"0\"],\"type\":\"scatter\",\"showlegend\":false},{\"hoverinfo\":\"skip\",\"line\":{\"color\":\"#C0C0C0\"},\"mode\":\"lines+markers\",\"name\":\"Unchanged\",\"x\":[\"2021-09-25T00:00:00\",\"2021-09-26T00:00:00\"],\"y\":[\"0\",\"0\"],\"type\":\"scatter\",\"showlegend\":false},{\"hoverinfo\":\"skip\",\"line\":{\"color\":\"#C0C0C0\"},\"mode\":\"lines+markers\",\"name\":\"Unchanged\",\"x\":[\"2021-09-26T00:00:00\",\"2021-09-27T00:00:00\"],\"y\":[\"0\",\"0\"],\"type\":\"scatter\",\"showlegend\":false},{\"hoverinfo\":\"skip\",\"line\":{\"color\":\"#C0C0C0\"},\"mode\":\"lines+markers\",\"name\":\"Unchanged\",\"x\":[\"2021-09-27T00:00:00\",\"2021-09-28T00:00:00\"],\"y\":[\"0\",\"0\"],\"type\":\"scatter\",\"showlegend\":false},{\"hoverinfo\":\"skip\",\"line\":{\"color\":\"#1f77b4\"},\"mode\":\"lines+markers\",\"name\":\"Train\",\"showlegend\":false,\"x\":[\"2021-07-08T00:00:00\",\"2021-07-09T00:00:00\"],\"y\":[\"0\",\"0\"],\"type\":\"scatter\"},{\"hoverinfo\":\"skip\",\"line\":{\"color\":\"#1f77b4\"},\"mode\":\"lines+markers\",\"name\":\"Train\",\"showlegend\":false,\"x\":[\"2021-07-09T00:00:00\",\"2021-07-10T00:00:00\"],\"y\":[\"0\",\"0\"],\"type\":\"scatter\"},{\"hoverinfo\":\"skip\",\"line\":{\"color\":\"#1f77b4\"},\"mode\":\"lines+markers\",\"name\":\"Train\",\"showlegend\":false,\"x\":[\"2021-07-10T00:00:00\",\"2021-07-11T00:00:00\"],\"y\":[\"0\",\"0\"],\"type\":\"scatter\"},{\"hoverinfo\":\"skip\",\"line\":{\"color\":\"#1f77b4\"},\"mode\":\"lines+markers\",\"name\":\"Train\",\"showlegend\":false,\"x\":[\"2021-07-11T00:00:00\",\"2021-07-12T00:00:00\"],\"y\":[\"0\",\"0\"],\"type\":\"scatter\"},{\"hoverinfo\":\"skip\",\"line\":{\"color\":\"#1f77b4\"},\"mode\":\"lines+markers\",\"name\":\"Train\",\"showlegend\":false,\"x\":[\"2021-07-12T00:00:00\",\"2021-07-13T00:00:00\"],\"y\":[\"0\",\"0\"],\"type\":\"scatter\"},{\"hoverinfo\":\"skip\",\"line\":{\"color\":\"#1f77b4\"},\"mode\":\"lines+markers\",\"name\":\"Train\",\"showlegend\":false,\"x\":[\"2021-07-13T00:00:00\",\"2021-07-14T00:00:00\"],\"y\":[\"0\",\"0\"],\"type\":\"scatter\"},{\"hoverinfo\":\"skip\",\"line\":{\"color\":\"#1f77b4\"},\"mode\":\"lines+markers\",\"name\":\"Train\",\"showlegend\":false,\"x\":[\"2021-07-14T00:00:00\",\"2021-07-15T00:00:00\"],\"y\":[\"0\",\"0\"],\"type\":\"scatter\"},{\"hoverinfo\":\"skip\",\"line\":{\"color\":\"#1f77b4\"},\"mode\":\"lines+markers\",\"name\":\"Train\",\"showlegend\":false,\"x\":[\"2021-07-15T00:00:00\",\"2021-07-16T00:00:00\"],\"y\":[\"0\",\"0\"],\"type\":\"scatter\"},{\"hoverinfo\":\"skip\",\"line\":{\"color\":\"#1f77b4\"},\"mode\":\"lines+markers\",\"name\":\"Train\",\"showlegend\":false,\"x\":[\"2021-07-16T00:00:00\",\"2021-07-17T00:00:00\"],\"y\":[\"0\",\"0\"],\"type\":\"scatter\"},{\"hoverinfo\":\"skip\",\"line\":{\"color\":\"#1f77b4\"},\"mode\":\"lines+markers\",\"name\":\"Train\",\"showlegend\":false,\"x\":[\"2021-07-17T00:00:00\",\"2021-07-18T00:00:00\"],\"y\":[\"0\",\"0\"],\"type\":\"scatter\"},{\"hoverinfo\":\"skip\",\"line\":{\"color\":\"#1f77b4\"},\"mode\":\"lines+markers\",\"name\":\"Train\",\"showlegend\":false,\"x\":[\"2021-07-18T00:00:00\",\"2021-07-19T00:00:00\"],\"y\":[\"0\",\"0\"],\"type\":\"scatter\"},{\"hoverinfo\":\"skip\",\"line\":{\"color\":\"#1f77b4\"},\"mode\":\"lines+markers\",\"name\":\"Train\",\"showlegend\":false,\"x\":[\"2021-07-19T00:00:00\",\"2021-07-20T00:00:00\"],\"y\":[\"0\",\"0\"],\"type\":\"scatter\"},{\"hoverinfo\":\"skip\",\"line\":{\"color\":\"#1f77b4\"},\"mode\":\"lines+markers\",\"name\":\"Train\",\"showlegend\":false,\"x\":[\"2021-07-20T00:00:00\",\"2021-07-21T00:00:00\"],\"y\":[\"0\",\"0\"],\"type\":\"scatter\"},{\"hoverinfo\":\"skip\",\"line\":{\"color\":\"#1f77b4\"},\"mode\":\"lines+markers\",\"name\":\"Train\",\"showlegend\":false,\"x\":[\"2021-07-21T00:00:00\",\"2021-07-22T00:00:00\"],\"y\":[\"0\",\"0\"],\"type\":\"scatter\"},{\"hoverinfo\":\"skip\",\"line\":{\"color\":\"#1f77b4\"},\"mode\":\"lines+markers\",\"name\":\"Train\",\"showlegend\":false,\"x\":[\"2021-07-22T00:00:00\",\"2021-07-23T00:00:00\"],\"y\":[\"0\",\"0\"],\"type\":\"scatter\"},{\"hoverinfo\":\"skip\",\"line\":{\"color\":\"#1f77b4\"},\"mode\":\"lines+markers\",\"name\":\"Train\",\"showlegend\":false,\"x\":[\"2021-07-23T00:00:00\",\"2021-07-24T00:00:00\"],\"y\":[\"0\",\"0\"],\"type\":\"scatter\"},{\"hoverinfo\":\"skip\",\"line\":{\"color\":\"#1f77b4\"},\"mode\":\"lines+markers\",\"name\":\"Train\",\"showlegend\":false,\"x\":[\"2021-07-24T00:00:00\",\"2021-07-25T00:00:00\"],\"y\":[\"0\",\"0\"],\"type\":\"scatter\"},{\"hoverinfo\":\"skip\",\"line\":{\"color\":\"#1f77b4\"},\"mode\":\"lines+markers\",\"name\":\"Train\",\"showlegend\":false,\"x\":[\"2021-07-25T00:00:00\",\"2021-07-26T00:00:00\"],\"y\":[\"0\",\"0\"],\"type\":\"scatter\"},{\"hoverinfo\":\"skip\",\"line\":{\"color\":\"#1f77b4\"},\"mode\":\"lines+markers\",\"name\":\"Train\",\"showlegend\":false,\"x\":[\"2021-07-26T00:00:00\",\"2021-07-27T00:00:00\"],\"y\":[\"0\",\"0\"],\"type\":\"scatter\"},{\"hoverinfo\":\"skip\",\"line\":{\"color\":\"#1f77b4\"},\"mode\":\"lines+markers\",\"name\":\"Train\",\"showlegend\":false,\"x\":[\"2021-07-27T00:00:00\",\"2021-07-28T00:00:00\"],\"y\":[\"0\",\"0\"],\"type\":\"scatter\"},{\"hoverinfo\":\"skip\",\"line\":{\"color\":\"#1f77b4\"},\"mode\":\"lines+markers\",\"name\":\"Train\",\"showlegend\":false,\"x\":[\"2021-07-28T00:00:00\",\"2021-07-29T00:00:00\"],\"y\":[\"0\",\"0\"],\"type\":\"scatter\"},{\"hoverinfo\":\"skip\",\"line\":{\"color\":\"#1f77b4\"},\"mode\":\"lines+markers\",\"name\":\"Train\",\"showlegend\":false,\"x\":[\"2021-07-29T00:00:00\",\"2021-07-30T00:00:00\"],\"y\":[\"0\",\"0\"],\"type\":\"scatter\"},{\"hoverinfo\":\"skip\",\"line\":{\"color\":\"#1f77b4\"},\"mode\":\"lines+markers\",\"name\":\"Train\",\"showlegend\":false,\"x\":[\"2021-07-30T00:00:00\",\"2021-07-31T00:00:00\"],\"y\":[\"0\",\"0\"],\"type\":\"scatter\"},{\"hoverinfo\":\"skip\",\"line\":{\"color\":\"#1f77b4\"},\"mode\":\"lines+markers\",\"name\":\"Train\",\"showlegend\":false,\"x\":[\"2021-07-31T00:00:00\",\"2021-08-01T00:00:00\"],\"y\":[\"0\",\"0\"],\"type\":\"scatter\"},{\"hoverinfo\":\"skip\",\"line\":{\"color\":\"#1f77b4\"},\"mode\":\"lines+markers\",\"name\":\"Train\",\"showlegend\":false,\"x\":[\"2021-08-01T00:00:00\",\"2021-08-02T00:00:00\"],\"y\":[\"0\",\"0\"],\"type\":\"scatter\"},{\"hoverinfo\":\"skip\",\"line\":{\"color\":\"#1f77b4\"},\"mode\":\"lines+markers\",\"name\":\"Train\",\"showlegend\":false,\"x\":[\"2021-08-02T00:00:00\",\"2021-08-03T00:00:00\"],\"y\":[\"0\",\"0\"],\"type\":\"scatter\"},{\"hoverinfo\":\"skip\",\"line\":{\"color\":\"#1f77b4\"},\"mode\":\"lines+markers\",\"name\":\"Train\",\"showlegend\":false,\"x\":[\"2021-08-03T00:00:00\",\"2021-08-04T00:00:00\"],\"y\":[\"0\",\"0\"],\"type\":\"scatter\"},{\"hoverinfo\":\"skip\",\"line\":{\"color\":\"#1f77b4\"},\"mode\":\"lines+markers\",\"name\":\"Train\",\"showlegend\":false,\"x\":[\"2021-08-04T00:00:00\",\"2021-08-05T00:00:00\"],\"y\":[\"0\",\"0\"],\"type\":\"scatter\"},{\"hoverinfo\":\"skip\",\"line\":{\"color\":\"#1f77b4\"},\"mode\":\"lines+markers\",\"name\":\"Train\",\"showlegend\":false,\"x\":[\"2021-08-05T00:00:00\",\"2021-08-06T00:00:00\"],\"y\":[\"0\",\"0\"],\"type\":\"scatter\"},{\"hoverinfo\":\"skip\",\"line\":{\"color\":\"#1f77b4\"},\"mode\":\"lines+markers\",\"name\":\"Train\",\"showlegend\":false,\"x\":[\"2021-08-06T00:00:00\",\"2021-08-07T00:00:00\"],\"y\":[\"0\",\"0\"],\"type\":\"scatter\"},{\"hoverinfo\":\"skip\",\"line\":{\"color\":\"#1f77b4\"},\"mode\":\"lines+markers\",\"name\":\"Train\",\"showlegend\":false,\"x\":[\"2021-08-07T00:00:00\",\"2021-08-08T00:00:00\"],\"y\":[\"0\",\"0\"],\"type\":\"scatter\"},{\"hoverinfo\":\"skip\",\"line\":{\"color\":\"#1f77b4\"},\"mode\":\"lines+markers\",\"name\":\"Train\",\"showlegend\":false,\"x\":[\"2021-08-08T00:00:00\",\"2021-08-09T00:00:00\"],\"y\":[\"0\",\"0\"],\"type\":\"scatter\"},{\"hoverinfo\":\"skip\",\"line\":{\"color\":\"#1f77b4\"},\"mode\":\"lines+markers\",\"name\":\"Train\",\"showlegend\":false,\"x\":[\"2021-08-09T00:00:00\",\"2021-08-10T00:00:00\"],\"y\":[\"0\",\"0\"],\"type\":\"scatter\"},{\"hoverinfo\":\"skip\",\"line\":{\"color\":\"#1f77b4\"},\"mode\":\"lines+markers\",\"name\":\"Train\",\"showlegend\":false,\"x\":[\"2021-08-10T00:00:00\",\"2021-08-11T00:00:00\"],\"y\":[\"0\",\"0\"],\"type\":\"scatter\"},{\"hoverinfo\":\"skip\",\"line\":{\"color\":\"#1f77b4\"},\"mode\":\"lines+markers\",\"name\":\"Train\",\"showlegend\":false,\"x\":[\"2021-08-11T00:00:00\",\"2021-08-12T00:00:00\"],\"y\":[\"0\",\"0\"],\"type\":\"scatter\"},{\"hoverinfo\":\"skip\",\"line\":{\"color\":\"#1f77b4\"},\"mode\":\"lines+markers\",\"name\":\"Train\",\"showlegend\":false,\"x\":[\"2021-08-12T00:00:00\",\"2021-08-13T00:00:00\"],\"y\":[\"0\",\"0\"],\"type\":\"scatter\"},{\"hoverinfo\":\"skip\",\"line\":{\"color\":\"#1f77b4\"},\"mode\":\"lines+markers\",\"name\":\"Train\",\"showlegend\":false,\"x\":[\"2021-08-13T00:00:00\",\"2021-08-14T00:00:00\"],\"y\":[\"0\",\"0\"],\"type\":\"scatter\"},{\"hoverinfo\":\"skip\",\"line\":{\"color\":\"#1f77b4\"},\"mode\":\"lines+markers\",\"name\":\"Train\",\"showlegend\":false,\"x\":[\"2021-08-14T00:00:00\",\"2021-08-15T00:00:00\"],\"y\":[\"0\",\"0\"],\"type\":\"scatter\"},{\"hoverinfo\":\"skip\",\"line\":{\"color\":\"#1f77b4\"},\"mode\":\"lines+markers\",\"name\":\"Train\",\"showlegend\":false,\"x\":[\"2021-08-15T00:00:00\",\"2021-08-16T00:00:00\"],\"y\":[\"0\",\"0\"],\"type\":\"scatter\"},{\"hoverinfo\":\"skip\",\"line\":{\"color\":\"#1f77b4\"},\"mode\":\"lines+markers\",\"name\":\"Train\",\"showlegend\":false,\"x\":[\"2021-08-16T00:00:00\",\"2021-08-17T00:00:00\"],\"y\":[\"0\",\"0\"],\"type\":\"scatter\"},{\"hoverinfo\":\"skip\",\"line\":{\"color\":\"#1f77b4\"},\"mode\":\"lines+markers\",\"name\":\"Train\",\"showlegend\":false,\"x\":[\"2021-08-17T00:00:00\",\"2021-08-18T00:00:00\"],\"y\":[\"0\",\"0\"],\"type\":\"scatter\"},{\"hoverinfo\":\"skip\",\"line\":{\"color\":\"#1f77b4\"},\"mode\":\"lines+markers\",\"name\":\"Train\",\"showlegend\":false,\"x\":[\"2021-08-18T00:00:00\",\"2021-08-19T00:00:00\"],\"y\":[\"0\",\"0\"],\"type\":\"scatter\"},{\"hoverinfo\":\"skip\",\"line\":{\"color\":\"#1f77b4\"},\"mode\":\"lines+markers\",\"name\":\"Train\",\"showlegend\":false,\"x\":[\"2021-08-19T00:00:00\",\"2021-08-20T00:00:00\"],\"y\":[\"0\",\"0\"],\"type\":\"scatter\"},{\"hoverinfo\":\"skip\",\"line\":{\"color\":\"#1f77b4\"},\"mode\":\"lines+markers\",\"name\":\"Train\",\"showlegend\":false,\"x\":[\"2021-08-20T00:00:00\",\"2021-08-21T00:00:00\"],\"y\":[\"0\",\"0\"],\"type\":\"scatter\"},{\"hoverinfo\":\"skip\",\"line\":{\"color\":\"#1f77b4\"},\"mode\":\"lines+markers\",\"name\":\"Train\",\"showlegend\":false,\"x\":[\"2021-08-21T00:00:00\",\"2021-08-22T00:00:00\"],\"y\":[\"0\",\"0\"],\"type\":\"scatter\"},{\"hoverinfo\":\"skip\",\"line\":{\"color\":\"#1f77b4\"},\"mode\":\"lines+markers\",\"name\":\"Train\",\"showlegend\":false,\"x\":[\"2021-08-22T00:00:00\",\"2021-08-23T00:00:00\"],\"y\":[\"0\",\"0\"],\"type\":\"scatter\"},{\"hoverinfo\":\"skip\",\"line\":{\"color\":\"#1f77b4\"},\"mode\":\"lines+markers\",\"name\":\"Train\",\"showlegend\":false,\"x\":[\"2021-08-23T00:00:00\",\"2021-08-24T00:00:00\"],\"y\":[\"0\",\"0\"],\"type\":\"scatter\"},{\"hoverinfo\":\"skip\",\"line\":{\"color\":\"#1f77b4\"},\"mode\":\"lines+markers\",\"name\":\"Train\",\"showlegend\":false,\"x\":[\"2021-08-24T00:00:00\",\"2021-08-25T00:00:00\"],\"y\":[\"0\",\"0\"],\"type\":\"scatter\"},{\"hoverinfo\":\"skip\",\"line\":{\"color\":\"#1f77b4\"},\"mode\":\"lines+markers\",\"name\":\"Train\",\"showlegend\":false,\"x\":[\"2021-08-25T00:00:00\",\"2021-08-26T00:00:00\"],\"y\":[\"0\",\"0\"],\"type\":\"scatter\"},{\"hoverinfo\":\"skip\",\"line\":{\"color\":\"#1f77b4\"},\"mode\":\"lines+markers\",\"name\":\"Train\",\"showlegend\":false,\"x\":[\"2021-08-26T00:00:00\",\"2021-08-27T00:00:00\"],\"y\":[\"0\",\"0\"],\"type\":\"scatter\"},{\"hoverinfo\":\"skip\",\"line\":{\"color\":\"#1f77b4\"},\"mode\":\"lines+markers\",\"name\":\"Train\",\"showlegend\":false,\"x\":[\"2021-08-27T00:00:00\",\"2021-08-28T00:00:00\"],\"y\":[\"0\",\"0\"],\"type\":\"scatter\"},{\"hoverinfo\":\"skip\",\"line\":{\"color\":\"#1f77b4\"},\"mode\":\"lines+markers\",\"name\":\"Train\",\"showlegend\":false,\"x\":[\"2021-08-28T00:00:00\",\"2021-08-29T00:00:00\"],\"y\":[\"0\",\"0\"],\"type\":\"scatter\"},{\"hoverinfo\":\"skip\",\"line\":{\"color\":\"#1f77b4\"},\"mode\":\"lines+markers\",\"name\":\"Train\",\"showlegend\":false,\"x\":[\"2021-08-29T00:00:00\",\"2021-08-30T00:00:00\"],\"y\":[\"0\",\"0\"],\"type\":\"scatter\"},{\"hoverinfo\":\"skip\",\"line\":{\"color\":\"#1f77b4\"},\"mode\":\"lines+markers\",\"name\":\"Train\",\"showlegend\":false,\"x\":[\"2021-08-30T00:00:00\",\"2021-08-31T00:00:00\"],\"y\":[\"0\",\"0\"],\"type\":\"scatter\"},{\"hoverinfo\":\"skip\",\"line\":{\"color\":\"#1f77b4\"},\"mode\":\"lines+markers\",\"name\":\"Train\",\"showlegend\":false,\"x\":[\"2021-08-31T00:00:00\",\"2021-09-01T00:00:00\"],\"y\":[\"0\",\"0\"],\"type\":\"scatter\"},{\"hoverinfo\":\"skip\",\"line\":{\"color\":\"#1f77b4\"},\"mode\":\"lines+markers\",\"name\":\"Train\",\"showlegend\":false,\"x\":[\"2021-09-01T00:00:00\",\"2021-09-02T00:00:00\"],\"y\":[\"0\",\"0\"],\"type\":\"scatter\"},{\"hoverinfo\":\"skip\",\"line\":{\"color\":\"#1f77b4\"},\"mode\":\"lines+markers\",\"name\":\"Train\",\"showlegend\":false,\"x\":[\"2021-09-02T00:00:00\",\"2021-09-03T00:00:00\"],\"y\":[\"0\",\"0\"],\"type\":\"scatter\"},{\"hoverinfo\":\"skip\",\"line\":{\"color\":\"#1f77b4\"},\"mode\":\"lines+markers\",\"name\":\"Train\",\"showlegend\":false,\"x\":[\"2021-09-03T00:00:00\",\"2021-09-04T00:00:00\"],\"y\":[\"0\",\"0\"],\"type\":\"scatter\"},{\"hoverinfo\":\"skip\",\"line\":{\"color\":\"#1f77b4\"},\"mode\":\"lines+markers\",\"name\":\"Train\",\"showlegend\":false,\"x\":[\"2021-09-04T00:00:00\",\"2021-09-05T00:00:00\"],\"y\":[\"0\",\"0\"],\"type\":\"scatter\"},{\"hoverinfo\":\"skip\",\"line\":{\"color\":\"#1f77b4\"},\"mode\":\"lines+markers\",\"name\":\"Train\",\"showlegend\":false,\"x\":[\"2021-09-05T00:00:00\",\"2021-09-06T00:00:00\"],\"y\":[\"0\",\"0\"],\"type\":\"scatter\"},{\"hoverinfo\":\"skip\",\"line\":{\"color\":\"#1f77b4\"},\"mode\":\"lines+markers\",\"name\":\"Train\",\"showlegend\":false,\"x\":[\"2021-09-06T00:00:00\",\"2021-09-07T00:00:00\"],\"y\":[\"0\",\"0\"],\"type\":\"scatter\"},{\"hoverinfo\":\"skip\",\"line\":{\"color\":\"#DE970B\"},\"mode\":\"lines+markers\",\"name\":\"ForecastHorizon\",\"x\":[\"2021-09-08T00:00:00\",\"2021-09-09T00:00:00\"],\"y\":[\"0\",\"0\"],\"type\":\"scatter\",\"showlegend\":false},{\"hoverinfo\":\"skip\",\"line\":{\"color\":\"#DE970B\"},\"mode\":\"lines+markers\",\"name\":\"ForecastHorizon\",\"x\":[\"2021-09-09T00:00:00\",\"2021-09-10T00:00:00\"],\"y\":[\"0\",\"0\"],\"type\":\"scatter\",\"showlegend\":false},{\"hoverinfo\":\"skip\",\"line\":{\"color\":\"#DE970B\"},\"mode\":\"lines+markers\",\"name\":\"ForecastHorizon\",\"x\":[\"2021-09-10T00:00:00\",\"2021-09-11T00:00:00\"],\"y\":[\"0\",\"0\"],\"type\":\"scatter\",\"showlegend\":false},{\"hoverinfo\":\"skip\",\"line\":{\"color\":\"#DE970B\"},\"mode\":\"lines+markers\",\"name\":\"ForecastHorizon\",\"x\":[\"2021-09-11T00:00:00\",\"2021-09-12T00:00:00\"],\"y\":[\"0\",\"0\"],\"type\":\"scatter\",\"showlegend\":false},{\"hoverinfo\":\"skip\",\"line\":{\"color\":\"#DE970B\"},\"mode\":\"lines+markers\",\"name\":\"ForecastHorizon\",\"x\":[\"2021-09-12T00:00:00\",\"2021-09-13T00:00:00\"],\"y\":[\"0\",\"0\"],\"type\":\"scatter\",\"showlegend\":false},{\"hoverinfo\":\"skip\",\"line\":{\"color\":\"#DE970B\"},\"mode\":\"lines+markers\",\"name\":\"ForecastHorizon\",\"x\":[\"2021-09-13T00:00:00\",\"2021-09-14T00:00:00\"],\"y\":[\"0\",\"0\"],\"type\":\"scatter\",\"showlegend\":false}],                        {\"template\":{\"data\":{\"barpolar\":[{\"marker\":{\"line\":{\"color\":\"rgb(237,237,237)\",\"width\":0.5},\"pattern\":{\"fillmode\":\"overlay\",\"size\":10,\"solidity\":0.2}},\"type\":\"barpolar\"}],\"bar\":[{\"error_x\":{\"color\":\"rgb(51,51,51)\"},\"error_y\":{\"color\":\"rgb(51,51,51)\"},\"marker\":{\"line\":{\"color\":\"rgb(237,237,237)\",\"width\":0.5},\"pattern\":{\"fillmode\":\"overlay\",\"size\":10,\"solidity\":0.2}},\"type\":\"bar\"}],\"carpet\":[{\"aaxis\":{\"endlinecolor\":\"rgb(51,51,51)\",\"gridcolor\":\"white\",\"linecolor\":\"white\",\"minorgridcolor\":\"white\",\"startlinecolor\":\"rgb(51,51,51)\"},\"baxis\":{\"endlinecolor\":\"rgb(51,51,51)\",\"gridcolor\":\"white\",\"linecolor\":\"white\",\"minorgridcolor\":\"white\",\"startlinecolor\":\"rgb(51,51,51)\"},\"type\":\"carpet\"}],\"choropleth\":[{\"colorbar\":{\"outlinewidth\":0,\"tickcolor\":\"rgb(237,237,237)\",\"ticklen\":6,\"ticks\":\"inside\"},\"type\":\"choropleth\"}],\"contourcarpet\":[{\"colorbar\":{\"outlinewidth\":0,\"tickcolor\":\"rgb(237,237,237)\",\"ticklen\":6,\"ticks\":\"inside\"},\"type\":\"contourcarpet\"}],\"contour\":[{\"colorbar\":{\"outlinewidth\":0,\"tickcolor\":\"rgb(237,237,237)\",\"ticklen\":6,\"ticks\":\"inside\"},\"colorscale\":[[0,\"rgb(20,44,66)\"],[1,\"rgb(90,179,244)\"]],\"type\":\"contour\"}],\"heatmapgl\":[{\"colorbar\":{\"outlinewidth\":0,\"tickcolor\":\"rgb(237,237,237)\",\"ticklen\":6,\"ticks\":\"inside\"},\"colorscale\":[[0,\"rgb(20,44,66)\"],[1,\"rgb(90,179,244)\"]],\"type\":\"heatmapgl\"}],\"heatmap\":[{\"colorbar\":{\"outlinewidth\":0,\"tickcolor\":\"rgb(237,237,237)\",\"ticklen\":6,\"ticks\":\"inside\"},\"colorscale\":[[0,\"rgb(20,44,66)\"],[1,\"rgb(90,179,244)\"]],\"type\":\"heatmap\"}],\"histogram2dcontour\":[{\"colorbar\":{\"outlinewidth\":0,\"tickcolor\":\"rgb(237,237,237)\",\"ticklen\":6,\"ticks\":\"inside\"},\"colorscale\":[[0,\"rgb(20,44,66)\"],[1,\"rgb(90,179,244)\"]],\"type\":\"histogram2dcontour\"}],\"histogram2d\":[{\"colorbar\":{\"outlinewidth\":0,\"tickcolor\":\"rgb(237,237,237)\",\"ticklen\":6,\"ticks\":\"inside\"},\"colorscale\":[[0,\"rgb(20,44,66)\"],[1,\"rgb(90,179,244)\"]],\"type\":\"histogram2d\"}],\"histogram\":[{\"marker\":{\"pattern\":{\"fillmode\":\"overlay\",\"size\":10,\"solidity\":0.2}},\"type\":\"histogram\"}],\"mesh3d\":[{\"colorbar\":{\"outlinewidth\":0,\"tickcolor\":\"rgb(237,237,237)\",\"ticklen\":6,\"ticks\":\"inside\"},\"type\":\"mesh3d\"}],\"parcoords\":[{\"line\":{\"colorbar\":{\"outlinewidth\":0,\"tickcolor\":\"rgb(237,237,237)\",\"ticklen\":6,\"ticks\":\"inside\"}},\"type\":\"parcoords\"}],\"pie\":[{\"automargin\":true,\"type\":\"pie\"}],\"scatter3d\":[{\"line\":{\"colorbar\":{\"outlinewidth\":0,\"tickcolor\":\"rgb(237,237,237)\",\"ticklen\":6,\"ticks\":\"inside\"}},\"marker\":{\"colorbar\":{\"outlinewidth\":0,\"tickcolor\":\"rgb(237,237,237)\",\"ticklen\":6,\"ticks\":\"inside\"}},\"type\":\"scatter3d\"}],\"scattercarpet\":[{\"marker\":{\"colorbar\":{\"outlinewidth\":0,\"tickcolor\":\"rgb(237,237,237)\",\"ticklen\":6,\"ticks\":\"inside\"}},\"type\":\"scattercarpet\"}],\"scattergeo\":[{\"marker\":{\"colorbar\":{\"outlinewidth\":0,\"tickcolor\":\"rgb(237,237,237)\",\"ticklen\":6,\"ticks\":\"inside\"}},\"type\":\"scattergeo\"}],\"scattergl\":[{\"marker\":{\"colorbar\":{\"outlinewidth\":0,\"tickcolor\":\"rgb(237,237,237)\",\"ticklen\":6,\"ticks\":\"inside\"}},\"type\":\"scattergl\"}],\"scattermapbox\":[{\"marker\":{\"colorbar\":{\"outlinewidth\":0,\"tickcolor\":\"rgb(237,237,237)\",\"ticklen\":6,\"ticks\":\"inside\"}},\"type\":\"scattermapbox\"}],\"scatterpolargl\":[{\"marker\":{\"colorbar\":{\"outlinewidth\":0,\"tickcolor\":\"rgb(237,237,237)\",\"ticklen\":6,\"ticks\":\"inside\"}},\"type\":\"scatterpolargl\"}],\"scatterpolar\":[{\"marker\":{\"colorbar\":{\"outlinewidth\":0,\"tickcolor\":\"rgb(237,237,237)\",\"ticklen\":6,\"ticks\":\"inside\"}},\"type\":\"scatterpolar\"}],\"scatter\":[{\"marker\":{\"colorbar\":{\"outlinewidth\":0,\"tickcolor\":\"rgb(237,237,237)\",\"ticklen\":6,\"ticks\":\"inside\"}},\"type\":\"scatter\"}],\"scatterternary\":[{\"marker\":{\"colorbar\":{\"outlinewidth\":0,\"tickcolor\":\"rgb(237,237,237)\",\"ticklen\":6,\"ticks\":\"inside\"}},\"type\":\"scatterternary\"}],\"surface\":[{\"colorbar\":{\"outlinewidth\":0,\"tickcolor\":\"rgb(237,237,237)\",\"ticklen\":6,\"ticks\":\"inside\"},\"colorscale\":[[0,\"rgb(20,44,66)\"],[1,\"rgb(90,179,244)\"]],\"type\":\"surface\"}],\"table\":[{\"cells\":{\"fill\":{\"color\":\"rgb(237,237,237)\"},\"line\":{\"color\":\"white\"}},\"header\":{\"fill\":{\"color\":\"rgb(217,217,217)\"},\"line\":{\"color\":\"white\"}},\"type\":\"table\"}]},\"layout\":{\"annotationdefaults\":{\"arrowhead\":0,\"arrowwidth\":1},\"autotypenumbers\":\"strict\",\"coloraxis\":{\"colorbar\":{\"outlinewidth\":0,\"tickcolor\":\"rgb(237,237,237)\",\"ticklen\":6,\"ticks\":\"inside\"}},\"colorscale\":{\"sequential\":[[0,\"rgb(20,44,66)\"],[1,\"rgb(90,179,244)\"]],\"sequentialminus\":[[0,\"rgb(20,44,66)\"],[1,\"rgb(90,179,244)\"]]},\"colorway\":[\"#F8766D\",\"#A3A500\",\"#00BF7D\",\"#00B0F6\",\"#E76BF3\"],\"font\":{\"color\":\"rgb(51,51,51)\"},\"geo\":{\"bgcolor\":\"white\",\"lakecolor\":\"white\",\"landcolor\":\"rgb(237,237,237)\",\"showlakes\":true,\"showland\":true,\"subunitcolor\":\"white\"},\"hoverlabel\":{\"align\":\"left\"},\"hovermode\":\"closest\",\"paper_bgcolor\":\"white\",\"plot_bgcolor\":\"rgb(237,237,237)\",\"polar\":{\"angularaxis\":{\"gridcolor\":\"white\",\"linecolor\":\"white\",\"showgrid\":true,\"tickcolor\":\"rgb(51,51,51)\",\"ticks\":\"outside\"},\"bgcolor\":\"rgb(237,237,237)\",\"radialaxis\":{\"gridcolor\":\"white\",\"linecolor\":\"white\",\"showgrid\":true,\"tickcolor\":\"rgb(51,51,51)\",\"ticks\":\"outside\"}},\"scene\":{\"xaxis\":{\"backgroundcolor\":\"rgb(237,237,237)\",\"gridcolor\":\"white\",\"gridwidth\":2,\"linecolor\":\"white\",\"showbackground\":true,\"showgrid\":true,\"tickcolor\":\"rgb(51,51,51)\",\"ticks\":\"outside\",\"zerolinecolor\":\"white\"},\"yaxis\":{\"backgroundcolor\":\"rgb(237,237,237)\",\"gridcolor\":\"white\",\"gridwidth\":2,\"linecolor\":\"white\",\"showbackground\":true,\"showgrid\":true,\"tickcolor\":\"rgb(51,51,51)\",\"ticks\":\"outside\",\"zerolinecolor\":\"white\"},\"zaxis\":{\"backgroundcolor\":\"rgb(237,237,237)\",\"gridcolor\":\"white\",\"gridwidth\":2,\"linecolor\":\"white\",\"showbackground\":true,\"showgrid\":true,\"tickcolor\":\"rgb(51,51,51)\",\"ticks\":\"outside\",\"zerolinecolor\":\"white\"}},\"shapedefaults\":{\"fillcolor\":\"black\",\"line\":{\"width\":0},\"opacity\":0.3},\"ternary\":{\"aaxis\":{\"gridcolor\":\"white\",\"linecolor\":\"white\",\"showgrid\":true,\"tickcolor\":\"rgb(51,51,51)\",\"ticks\":\"outside\"},\"baxis\":{\"gridcolor\":\"white\",\"linecolor\":\"white\",\"showgrid\":true,\"tickcolor\":\"rgb(51,51,51)\",\"ticks\":\"outside\"},\"bgcolor\":\"rgb(237,237,237)\",\"caxis\":{\"gridcolor\":\"white\",\"linecolor\":\"white\",\"showgrid\":true,\"tickcolor\":\"rgb(51,51,51)\",\"ticks\":\"outside\"}},\"xaxis\":{\"automargin\":true,\"gridcolor\":\"white\",\"linecolor\":\"white\",\"showgrid\":true,\"tickcolor\":\"rgb(51,51,51)\",\"ticks\":\"outside\",\"title\":{\"standoff\":15},\"zerolinecolor\":\"white\"},\"yaxis\":{\"automargin\":true,\"gridcolor\":\"white\",\"linecolor\":\"white\",\"showgrid\":true,\"tickcolor\":\"rgb(51,51,51)\",\"ticks\":\"outside\",\"title\":{\"standoff\":15},\"zerolinecolor\":\"white\"}}},\"xaxis\":{\"title\":{\"text\":\"Time\"},\"zeroline\":false},\"title\":{\"text\":\"Train Cross-Validation Splits\"},\"yaxis\":{\"title\":{\"text\":\"Windows\"}},\"showlegend\":true},                        {\"responsive\": true}                    ).then(function(){\n",
              "                            \n",
              "var gd = document.getElementById('4e08cea1-2e01-4f73-b05b-218166339023');\n",
              "var x = new MutationObserver(function (mutations, observer) {{\n",
              "        var display = window.getComputedStyle(gd).display;\n",
              "        if (!display || display === 'none') {{\n",
              "            console.log([gd, 'removed!']);\n",
              "            Plotly.purge(gd);\n",
              "            observer.disconnect();\n",
              "        }}\n",
              "}});\n",
              "\n",
              "// Listen for the removal of the full notebook cells\n",
              "var notebookContainer = gd.closest('#notebook-container');\n",
              "if (notebookContainer) {{\n",
              "    x.observe(notebookContainer, {childList: true});\n",
              "}}\n",
              "\n",
              "// Listen for the clearing of the current output cell\n",
              "var outputEl = gd.closest('.output');\n",
              "if (outputEl) {{\n",
              "    x.observe(outputEl, {childList: true});\n",
              "}}\n",
              "\n",
              "                        })                };                            </script>        </div>\n",
              "</body>\n",
              "</html>"
            ]
          },
          "metadata": {}
        }
      ]
    },
    {
      "cell_type": "code",
      "source": [
        "# Diagnostics plot\n",
        "exp.plot_model(plot = 'diagnostics')"
      ],
      "metadata": {
        "colab": {
          "base_uri": "https://localhost:8080/",
          "height": 542
        },
        "id": "PcRXI22emRw-",
        "outputId": "aed456c7-0eee-4dbb-bade-2e03767b2773"
      },
      "execution_count": 11,
      "outputs": [
        {
          "output_type": "display_data",
          "data": {
            "text/html": [
              "<html>\n",
              "<head><meta charset=\"utf-8\" /></head>\n",
              "<body>\n",
              "    <div>            <script src=\"https://cdnjs.cloudflare.com/ajax/libs/mathjax/2.7.5/MathJax.js?config=TeX-AMS-MML_SVG\"></script><script type=\"text/javascript\">if (window.MathJax) {MathJax.Hub.Config({SVG: {font: \"STIX-Web\"}});}</script>                <script type=\"text/javascript\">window.PlotlyConfig = {MathJaxConfig: 'local'};</script>\n",
              "        <script src=\"https://cdn.plot.ly/plotly-2.6.3.min.js\"></script>                <div id=\"99bc9554-b3ca-4606-89c4-3d7cf055f2a2\" class=\"plotly-graph-div\" style=\"height:525px; width:100%;\"></div>            <script type=\"text/javascript\">                                    window.PLOTLYENV=window.PLOTLYENV || {};                                    if (document.getElementById(\"99bc9554-b3ca-4606-89c4-3d7cf055f2a2\")) {                    Plotly.newPlot(                        \"99bc9554-b3ca-4606-89c4-3d7cf055f2a2\",                        [{\"marker\":{\"color\":\"#1f77b4\"},\"mode\":\"markers\",\"name\":\"Total\",\"x\":[-2.2907474943568853,-2.014509733814348,-1.8388716539953431,-1.7065157957528905,-1.5986872595945827,-1.5067758106106854,-1.4260768722728474,-1.353724853678262,-1.2878384698340328,-1.2271127409207154,-1.1706033708794157,-1.1176037564176386,-1.0675705238781414,-1.0200762327862014,-0.9747781260151197,-0.9313967882247426,-0.8897011550847603,-0.8494977249382524,-0.8106226289783306,-0.7729356931282201,-0.7363159173761294,-0.7006579830264444,-0.6658695180010484,-0.6318689296678398,-0.598583668378363,-0.5659488219328631,-0.5339059671688102,-0.5024022233733555,-0.47138946558848843,-0.44082366566118486,-0.41066433613643266,-0.380874057516038,-0.35141807350901116,-0.32226394203104647,-0.29338123212119327,-0.26474125881342875,-0.23631684946065165,-0.20808213615499319,-0.1800123697927051,-0.15208375204759333,-0.1242732820840687,-0.09655861528963908,-0.06891793165996678,-0.04132981174473867,-0.013773118272557037,0.013773118272557037,0.041329811744738806,0.06891793165996678,0.09655861528963908,0.12427328208406883,0.15208375204759333,0.18001236979270496,0.20808213615499335,0.23631684946065165,0.2647412588134286,0.29338123212119344,0.32226394203104647,0.35141807350901105,0.38087405751603814,0.41066433613643266,0.4408236656611847,0.47138946558848843,0.5024022233733555,0.5339059671688103,0.5659488219328631,0.598583668378363,0.63186892966784,0.6658695180010484,0.7006579830264444,0.7363159173761297,0.7729356931282201,0.8106226289783306,0.8494977249382524,0.8897011550847603,0.9313967882247426,0.9747781260151197,1.0200762327862014,1.0675705238781412,1.1176037564176386,1.1706033708794157,1.2271127409207154,1.2878384698340328,1.353724853678262,1.4260768722728474,1.5067758106106854,1.5986872595945827,1.7065157957528911,1.8388716539953431,2.014509733814347,2.2907474943568866],\"y\":[1914,1920,1947,1996,2079,2093,2341,2359,2367,2426,2483,2526,2532,2538,2681,2725,2741,3112,3128,3132,3172,3276,3474,3514,3567,3773,3782,3795,3903,3941,3948,4001,4026,4064,4064,4088,4224,4339,4369,4430,4450,4481,4542,4603,4764,4789,4917,4977,5006,5038,5151,5193,5355,5456,5592,5651,5727,5777,5788,5865,6034,6082,6139,6279,6323,6362,6365,6457,6476,6643,6721,6770,6877,7001,7104,7115,7189,7272,7278,7418,7556,7798,7843,7863,7999,8290,8418,8765,8872,9212],\"type\":\"scatter\",\"xaxis\":\"x4\",\"yaxis\":\"y4\",\"showlegend\":false},{\"line\":{\"color\":\"#3f3f3f\"},\"mode\":\"lines\",\"name\":\"Total\",\"x\":[-2.2907474943568853,-2.014509733814348,-1.8388716539953431,-1.7065157957528905,-1.5986872595945827,-1.5067758106106854,-1.4260768722728474,-1.353724853678262,-1.2878384698340328,-1.2271127409207154,-1.1706033708794157,-1.1176037564176386,-1.0675705238781414,-1.0200762327862014,-0.9747781260151197,-0.9313967882247426,-0.8897011550847603,-0.8494977249382524,-0.8106226289783306,-0.7729356931282201,-0.7363159173761294,-0.7006579830264444,-0.6658695180010484,-0.6318689296678398,-0.598583668378363,-0.5659488219328631,-0.5339059671688102,-0.5024022233733555,-0.47138946558848843,-0.44082366566118486,-0.41066433613643266,-0.380874057516038,-0.35141807350901116,-0.32226394203104647,-0.29338123212119327,-0.26474125881342875,-0.23631684946065165,-0.20808213615499319,-0.1800123697927051,-0.15208375204759333,-0.1242732820840687,-0.09655861528963908,-0.06891793165996678,-0.04132981174473867,-0.013773118272557037,0.013773118272557037,0.041329811744738806,0.06891793165996678,0.09655861528963908,0.12427328208406883,0.15208375204759333,0.18001236979270496,0.20808213615499335,0.23631684946065165,0.2647412588134286,0.29338123212119344,0.32226394203104647,0.35141807350901105,0.38087405751603814,0.41066433613643266,0.4408236656611847,0.47138946558848843,0.5024022233733555,0.5339059671688103,0.5659488219328631,0.598583668378363,0.63186892966784,0.6658695180010484,0.7006579830264444,0.7363159173761297,0.7729356931282201,0.8106226289783306,0.8494977249382524,0.8897011550847603,0.9313967882247426,0.9747781260151197,1.0200762327862014,1.0675705238781412,1.1176037564176386,1.1706033708794157,1.2271127409207154,1.2878384698340328,1.353724853678262,1.4260768722728474,1.5067758106106854,1.5986872595945827,1.7065157957528911,1.8388716539953431,2.014509733814347,2.2907474943568866],\"y\":[543.3523819714419,1075.9934248163481,1414.6583843582048,1669.8666593689509,1877.7814058359045,2055.004859791001,2210.6083753578882,2350.1173786182144,2477.159359161153,2594.2505762068604,2703.2118193410033,2805.405559479408,2901.879528513905,2993.457916228552,3080.801626161842,3164.4494263586416,3244.8468545528904,3322.367020214242,3397.3258948160365,3469.9937617050773,3540.603932838204,3609.359483492861,3676.438525307085,3741.9983850147946,3806.1789526887133,3869.105391889764,3930.8903540315523,3991.635803588387,4051.4345349985497,4110.37144324995,4168.52459616437,4225.966145935999,4282.763109568744,4338.9780418182745,4394.6696195966215,4449.893153192235,4504.701036843545,4559.143148993658,4613.267210810035,4667.119110172947,4720.743197243034,4774.182556852999,4827.479262287257,4880.674614482833,4933.809370279986,4986.9239630533475,5040.058718850501,5093.254071046076,5146.550776480334,5199.9901360902995,5253.614223160386,5307.4661225232985,5361.590184339677,5416.032296489789,5470.840180141098,5526.063713736713,5581.755291515059,5637.970223764589,5694.767187397336,5752.208737168963,5810.3618900833835,5869.298798334784,5929.097529744947,5989.842979301782,6051.627941443569,6114.55438064462,6178.73494831854,6244.294808026249,6311.373849840473,6380.1294004951305,6450.739571628256,6523.407438517297,6598.3663131190915,6675.886478780443,6756.2839069746915,6839.931707171492,6927.275417104782,7018.853804819428,7115.3277738539255,7217.52151399233,7326.482757126473,7443.573974172181,7570.615954715119,7710.124957975446,7865.728473542333,8042.951927497429,8250.866673964385,8506.074948975129,8844.739908516984,9377.380951361894],\"type\":\"scatter\",\"xaxis\":\"x4\",\"yaxis\":\"y4\",\"showlegend\":false},{\"alignmentgroup\":\"True\",\"bingroup\":\"x\",\"hovertemplate\":\"variable=Total<br>value=%{x}<br>count=%{y}<extra></extra>\",\"legendgroup\":\"Total\",\"marker\":{\"color\":\"#1f77b4\",\"pattern\":{\"shape\":\"\"}},\"name\":\"Total\",\"offsetgroup\":\"Total\",\"orientation\":\"v\",\"showlegend\":false,\"x\":[3773,3172,2079,2725,4542,3795,3941,4064,3474,2093,2426,4339,4064,4224,4603,4369,2532,3276,4917,4430,4977,5193,4001,1996,2538,4764,5651,5777,4789,3782,1920,2526,4481,6034,5006,4450,3112,1914,2359,3948,5727,6365,6323,5151,1947,3128,7999,7104,6457,6643,5355,2341,2367,5592,6770,6877,7272,6279,2741,2483,5456,6082,6139,5865,6362,3132,2681,5788,7001,6721,7556,7278,4026,3514,6476,7863,8418,8290,7189,3567,4088,7418,8765,7798,9212,7115,3903,5038,7843,8872],\"xaxis\":\"x2\",\"yaxis\":\"y2\",\"type\":\"histogram\"},{\"line\":{\"color\":\"#3f3f3f\"},\"mode\":\"lines\",\"name\":\"ACF\",\"x\":[0,0],\"y\":[0,1.0],\"type\":\"scatter\",\"xaxis\":\"x3\",\"yaxis\":\"y3\",\"showlegend\":false},{\"line\":{\"color\":\"#3f3f3f\"},\"mode\":\"lines\",\"name\":\"ACF\",\"x\":[1,1],\"y\":[0,0.6201139231368101],\"type\":\"scatter\",\"xaxis\":\"x3\",\"yaxis\":\"y3\",\"showlegend\":false},{\"line\":{\"color\":\"#3f3f3f\"},\"mode\":\"lines\",\"name\":\"ACF\",\"x\":[2,2],\"y\":[0,0.10458159213030854],\"type\":\"scatter\",\"xaxis\":\"x3\",\"yaxis\":\"y3\",\"showlegend\":false},{\"line\":{\"color\":\"#3f3f3f\"},\"mode\":\"lines\",\"name\":\"ACF\",\"x\":[3,3],\"y\":[0,-0.0578819255317278],\"type\":\"scatter\",\"xaxis\":\"x3\",\"yaxis\":\"y3\",\"showlegend\":false},{\"line\":{\"color\":\"#3f3f3f\"},\"mode\":\"lines\",\"name\":\"ACF\",\"x\":[4,4],\"y\":[0,-0.03425922522209793],\"type\":\"scatter\",\"xaxis\":\"x3\",\"yaxis\":\"y3\",\"showlegend\":false},{\"line\":{\"color\":\"#3f3f3f\"},\"mode\":\"lines\",\"name\":\"ACF\",\"x\":[5,5],\"y\":[0,0.11473433944416002],\"type\":\"scatter\",\"xaxis\":\"x3\",\"yaxis\":\"y3\",\"showlegend\":false},{\"line\":{\"color\":\"#3f3f3f\"},\"mode\":\"lines\",\"name\":\"ACF\",\"x\":[6,6],\"y\":[0,0.5195082444044481],\"type\":\"scatter\",\"xaxis\":\"x3\",\"yaxis\":\"y3\",\"showlegend\":false},{\"line\":{\"color\":\"#3f3f3f\"},\"mode\":\"lines\",\"name\":\"ACF\",\"x\":[7,7],\"y\":[0,0.789610951718127],\"type\":\"scatter\",\"xaxis\":\"x3\",\"yaxis\":\"y3\",\"showlegend\":false},{\"line\":{\"color\":\"#3f3f3f\"},\"mode\":\"lines\",\"name\":\"ACF\",\"x\":[8,8],\"y\":[0,0.48126128990718986],\"type\":\"scatter\",\"xaxis\":\"x3\",\"yaxis\":\"y3\",\"showlegend\":false},{\"line\":{\"color\":\"#3f3f3f\"},\"mode\":\"lines\",\"name\":\"ACF\",\"x\":[9,9],\"y\":[0,0.027911015623095718],\"type\":\"scatter\",\"xaxis\":\"x3\",\"yaxis\":\"y3\",\"showlegend\":false},{\"line\":{\"color\":\"#3f3f3f\"},\"mode\":\"lines\",\"name\":\"ACF\",\"x\":[10,10],\"y\":[0,-0.13087498599283715],\"type\":\"scatter\",\"xaxis\":\"x3\",\"yaxis\":\"y3\",\"showlegend\":false},{\"line\":{\"color\":\"#3f3f3f\"},\"mode\":\"lines\",\"name\":\"ACF\",\"x\":[11,11],\"y\":[0,-0.11547859686129827],\"type\":\"scatter\",\"xaxis\":\"x3\",\"yaxis\":\"y3\",\"showlegend\":false},{\"line\":{\"color\":\"#3f3f3f\"},\"mode\":\"lines\",\"name\":\"ACF\",\"x\":[12,12],\"y\":[0,0.014495499679403043],\"type\":\"scatter\",\"xaxis\":\"x3\",\"yaxis\":\"y3\",\"showlegend\":false},{\"line\":{\"color\":\"#3f3f3f\"},\"mode\":\"lines\",\"name\":\"ACF\",\"x\":[13,13],\"y\":[0,0.3913760178925196],\"type\":\"scatter\",\"xaxis\":\"x3\",\"yaxis\":\"y3\",\"showlegend\":false},{\"line\":{\"color\":\"#3f3f3f\"},\"mode\":\"lines\",\"name\":\"ACF\",\"x\":[14,14],\"y\":[0,0.6287519853308668],\"type\":\"scatter\",\"xaxis\":\"x3\",\"yaxis\":\"y3\",\"showlegend\":false},{\"line\":{\"color\":\"#3f3f3f\"},\"mode\":\"lines\",\"name\":\"ACF\",\"x\":[15,15],\"y\":[0,0.36302831755913845],\"type\":\"scatter\",\"xaxis\":\"x3\",\"yaxis\":\"y3\",\"showlegend\":false},{\"line\":{\"color\":\"#3f3f3f\"},\"mode\":\"lines\",\"name\":\"ACF\",\"x\":[16,16],\"y\":[0,-0.026999130376679985],\"type\":\"scatter\",\"xaxis\":\"x3\",\"yaxis\":\"y3\",\"showlegend\":false},{\"line\":{\"color\":\"#3f3f3f\"},\"mode\":\"lines\",\"name\":\"ACF\",\"x\":[17,17],\"y\":[0,-0.17420366947409907],\"type\":\"scatter\",\"xaxis\":\"x3\",\"yaxis\":\"y3\",\"showlegend\":false},{\"line\":{\"color\":\"#3f3f3f\"},\"mode\":\"lines\",\"name\":\"ACF\",\"x\":[18,18],\"y\":[0,-0.17434599733760037],\"type\":\"scatter\",\"xaxis\":\"x3\",\"yaxis\":\"y3\",\"showlegend\":false},{\"line\":{\"color\":\"#3f3f3f\"},\"mode\":\"lines\",\"name\":\"ACF\",\"x\":[19,19],\"y\":[0,-0.06729245022005864],\"type\":\"scatter\",\"xaxis\":\"x3\",\"yaxis\":\"y3\",\"showlegend\":false},{\"line\":{\"color\":\"#3f3f3f\"},\"mode\":\"lines\",\"name\":\"ACF\",\"x\":[20,20],\"y\":[0,0.27422401215042647],\"type\":\"scatter\",\"xaxis\":\"x3\",\"yaxis\":\"y3\",\"showlegend\":false},{\"line\":{\"color\":\"#3f3f3f\"},\"mode\":\"lines\",\"name\":\"ACF\",\"x\":[21,21],\"y\":[0,0.5195606573936573],\"type\":\"scatter\",\"xaxis\":\"x3\",\"yaxis\":\"y3\",\"showlegend\":false},{\"line\":{\"color\":\"#3f3f3f\"},\"mode\":\"lines\",\"name\":\"ACF\",\"x\":[22,22],\"y\":[0,0.3144170580931283],\"type\":\"scatter\",\"xaxis\":\"x3\",\"yaxis\":\"y3\",\"showlegend\":false},{\"line\":{\"color\":\"#3f3f3f\"},\"mode\":\"lines\",\"name\":\"ACF\",\"x\":[23,23],\"y\":[0,-0.04234724009946882],\"type\":\"scatter\",\"xaxis\":\"x3\",\"yaxis\":\"y3\",\"showlegend\":false},{\"line\":{\"color\":\"#3f3f3f\"},\"mode\":\"lines\",\"name\":\"ACF\",\"x\":[24,24],\"y\":[0,-0.17685768185655237],\"type\":\"scatter\",\"xaxis\":\"x3\",\"yaxis\":\"y3\",\"showlegend\":false},{\"line\":{\"color\":\"#3f3f3f\"},\"mode\":\"lines\",\"name\":\"ACF\",\"x\":[25,25],\"y\":[0,-0.18051750793500104],\"type\":\"scatter\",\"xaxis\":\"x3\",\"yaxis\":\"y3\",\"showlegend\":false},{\"line\":{\"color\":\"#3f3f3f\"},\"mode\":\"lines\",\"name\":\"ACF\",\"x\":[26,26],\"y\":[0,-0.0965890392982141],\"type\":\"scatter\",\"xaxis\":\"x3\",\"yaxis\":\"y3\",\"showlegend\":false},{\"line\":{\"color\":\"#3f3f3f\"},\"mode\":\"lines\",\"name\":\"ACF\",\"x\":[27,27],\"y\":[0,0.21751843182084762],\"type\":\"scatter\",\"xaxis\":\"x3\",\"yaxis\":\"y3\",\"showlegend\":false},{\"line\":{\"color\":\"#3f3f3f\"},\"mode\":\"lines\",\"name\":\"ACF\",\"x\":[28,28],\"y\":[0,0.4602888964368156],\"type\":\"scatter\",\"xaxis\":\"x3\",\"yaxis\":\"y3\",\"showlegend\":false},{\"line\":{\"color\":\"#3f3f3f\"},\"mode\":\"lines\",\"name\":\"ACF\",\"x\":[29,29],\"y\":[0,0.2954774444536944],\"type\":\"scatter\",\"xaxis\":\"x3\",\"yaxis\":\"y3\",\"showlegend\":false},{\"line\":{\"color\":\"#3f3f3f\"},\"mode\":\"lines\",\"name\":\"ACF\",\"x\":[30,30],\"y\":[0,-0.033123686865388025],\"type\":\"scatter\",\"xaxis\":\"x3\",\"yaxis\":\"y3\",\"showlegend\":false},{\"line\":{\"color\":\"#3f3f3f\"},\"mode\":\"lines\",\"name\":\"ACF\",\"x\":[31,31],\"y\":[0,-0.1708211907711779],\"type\":\"scatter\",\"xaxis\":\"x3\",\"yaxis\":\"y3\",\"showlegend\":false},{\"line\":{\"color\":\"#3f3f3f\"},\"mode\":\"lines\",\"name\":\"ACF\",\"x\":[32,32],\"y\":[0,-0.19571004821977434],\"type\":\"scatter\",\"xaxis\":\"x3\",\"yaxis\":\"y3\",\"showlegend\":false},{\"line\":{\"color\":\"#3f3f3f\"},\"mode\":\"lines\",\"name\":\"ACF\",\"x\":[33,33],\"y\":[0,-0.1379950569345843],\"type\":\"scatter\",\"xaxis\":\"x3\",\"yaxis\":\"y3\",\"showlegend\":false},{\"line\":{\"color\":\"#3f3f3f\"},\"mode\":\"lines\",\"name\":\"ACF\",\"x\":[34,34],\"y\":[0,0.12395282250290908],\"type\":\"scatter\",\"xaxis\":\"x3\",\"yaxis\":\"y3\",\"showlegend\":false},{\"line\":{\"color\":\"#3f3f3f\"},\"mode\":\"lines\",\"name\":\"ACF\",\"x\":[35,35],\"y\":[0,0.33987440858303974],\"type\":\"scatter\",\"xaxis\":\"x3\",\"yaxis\":\"y3\",\"showlegend\":false},{\"line\":{\"color\":\"#3f3f3f\"},\"mode\":\"lines\",\"name\":\"ACF\",\"x\":[36,36],\"y\":[0,0.1902491729807324],\"type\":\"scatter\",\"xaxis\":\"x3\",\"yaxis\":\"y3\",\"showlegend\":false},{\"line\":{\"color\":\"#3f3f3f\"},\"mode\":\"lines\",\"name\":\"ACF\",\"x\":[37,37],\"y\":[0,-0.09781434128086072],\"type\":\"scatter\",\"xaxis\":\"x3\",\"yaxis\":\"y3\",\"showlegend\":false},{\"line\":{\"color\":\"#3f3f3f\"},\"mode\":\"lines\",\"name\":\"ACF\",\"x\":[38,38],\"y\":[0,-0.2094794861217347],\"type\":\"scatter\",\"xaxis\":\"x3\",\"yaxis\":\"y3\",\"showlegend\":false},{\"line\":{\"color\":\"#3f3f3f\"},\"mode\":\"lines\",\"name\":\"ACF\",\"x\":[39,39],\"y\":[0,-0.23604518576123018],\"type\":\"scatter\",\"xaxis\":\"x3\",\"yaxis\":\"y3\",\"showlegend\":false},{\"line\":{\"color\":\"#3f3f3f\"},\"mode\":\"lines\",\"name\":\"ACF\",\"x\":[40,40],\"y\":[0,-0.2075228222273166],\"type\":\"scatter\",\"xaxis\":\"x3\",\"yaxis\":\"y3\",\"showlegend\":false},{\"marker\":{\"color\":\"#1f77b4\",\"size\":6},\"mode\":\"markers\",\"x\":[0,1,2,3,4,5,6,7,8,9,10,11,12,13,14,15,16,17,18,19,20,21,22,23,24,25,26,27,28,29,30,31,32,33,34,35,36,37,38,39,40],\"y\":[1.0,0.6201139231368101,0.10458159213030854,-0.0578819255317278,-0.03425922522209793,0.11473433944416002,0.5195082444044481,0.789610951718127,0.48126128990718986,0.027911015623095718,-0.13087498599283715,-0.11547859686129827,0.014495499679403043,0.3913760178925196,0.6287519853308668,0.36302831755913845,-0.026999130376679985,-0.17420366947409907,-0.17434599733760037,-0.06729245022005864,0.27422401215042647,0.5195606573936573,0.3144170580931283,-0.04234724009946882,-0.17685768185655237,-0.18051750793500104,-0.0965890392982141,0.21751843182084762,0.4602888964368156,0.2954774444536944,-0.033123686865388025,-0.1708211907711779,-0.19571004821977434,-0.1379950569345843,0.12395282250290908,0.33987440858303974,0.1902491729807324,-0.09781434128086072,-0.2094794861217347,-0.23604518576123018,-0.2075228222273166],\"type\":\"scatter\",\"xaxis\":\"x3\",\"yaxis\":\"y3\",\"showlegend\":false},{\"line\":{\"color\":\"rgba(255,255,255,0)\"},\"mode\":\"lines\",\"name\":\"UC\",\"x\":[0,1,2,3,4,5,6,7,8,9,10,11,12,13,14,15,16,17,18,19,20,21,22,23,24,25,26,27,28,29,30,31,32,33,34,35,36,37,38,39,40],\"y\":[0.0,0.20659834410152056,0.2747899760975552,0.2764836389406401,0.27700036995724814,0.27718116507196844,0.2792009139453532,0.31779303322558905,0.3927043626350738,0.41711927013902245,0.41719897837634656,0.41894767514985687,0.42030409581756445,0.4203254334096294,0.4356023243324493,0.4727546374263556,0.4845072362630207,0.48457144944315866,0.48723718774072944,0.48989274282425266,0.4902871189139675,0.49679056131011334,0.5194658530691054,0.5275261769343017,0.5276712544684797,0.5301953200214189,0.5328122131380539,0.5335590589062219,0.5373307058081304,0.5539046637048163,0.5605920061261439,0.5606755379103184,0.5628925484771409,0.5657894805095545,0.5672242282968619,0.5683791959354132,0.5769886499580453,0.5796599813951034,0.5803640609719992,0.583582413833897,0.58764341693187],\"type\":\"scatter\",\"xaxis\":\"x3\",\"yaxis\":\"y3\",\"showlegend\":false},{\"fill\":\"tonexty\",\"fillcolor\":\"rgba(32, 146, 230,0.3)\",\"line\":{\"color\":\"rgba(255,255,255,0)\"},\"mode\":\"lines\",\"name\":\"LC\",\"x\":[0,1,2,3,4,5,6,7,8,9,10,11,12,13,14,15,16,17,18,19,20,21,22,23,24,25,26,27,28,29,30,31,32,33,34,35,36,37,38,39,40],\"y\":[0.0,-0.20659834410152056,-0.2747899760975552,-0.2764836389406401,-0.2770003699572482,-0.27718116507196844,-0.2792009139453532,-0.31779303322558916,-0.39270436263507374,-0.41711927013902245,-0.4171989783763465,-0.41894767514985687,-0.42030409581756445,-0.42032543340962947,-0.4356023243324493,-0.4727546374263556,-0.4845072362630207,-0.4845714494431588,-0.48723718774072944,-0.4898927428242526,-0.4902871189139675,-0.4967905613101133,-0.5194658530691053,-0.5275261769343017,-0.5276712544684797,-0.5301953200214189,-0.5328122131380539,-0.5335590589062219,-0.5373307058081304,-0.5539046637048163,-0.5605920061261439,-0.5606755379103185,-0.5628925484771409,-0.5657894805095545,-0.5672242282968619,-0.5683791959354132,-0.5769886499580453,-0.5796599813951034,-0.5803640609719992,-0.583582413833897,-0.58764341693187],\"type\":\"scatter\",\"xaxis\":\"x3\",\"yaxis\":\"y3\",\"showlegend\":false},{\"marker\":{\"color\":\"#1f77b4\",\"size\":2},\"mode\":\"lines+markers\",\"name\":\"Time Plot\",\"x\":[\"2021-07-08T00:00:00\",\"2021-07-09T00:00:00\",\"2021-07-10T00:00:00\",\"2021-07-11T00:00:00\",\"2021-07-12T00:00:00\",\"2021-07-13T00:00:00\",\"2021-07-14T00:00:00\",\"2021-07-15T00:00:00\",\"2021-07-16T00:00:00\",\"2021-07-17T00:00:00\",\"2021-07-18T00:00:00\",\"2021-07-19T00:00:00\",\"2021-07-20T00:00:00\",\"2021-07-21T00:00:00\",\"2021-07-22T00:00:00\",\"2021-07-23T00:00:00\",\"2021-07-24T00:00:00\",\"2021-07-25T00:00:00\",\"2021-07-26T00:00:00\",\"2021-07-27T00:00:00\",\"2021-07-28T00:00:00\",\"2021-07-29T00:00:00\",\"2021-07-30T00:00:00\",\"2021-07-31T00:00:00\",\"2021-08-01T00:00:00\",\"2021-08-02T00:00:00\",\"2021-08-03T00:00:00\",\"2021-08-04T00:00:00\",\"2021-08-05T00:00:00\",\"2021-08-06T00:00:00\",\"2021-08-07T00:00:00\",\"2021-08-08T00:00:00\",\"2021-08-09T00:00:00\",\"2021-08-10T00:00:00\",\"2021-08-11T00:00:00\",\"2021-08-12T00:00:00\",\"2021-08-13T00:00:00\",\"2021-08-14T00:00:00\",\"2021-08-15T00:00:00\",\"2021-08-16T00:00:00\",\"2021-08-17T00:00:00\",\"2021-08-18T00:00:00\",\"2021-08-19T00:00:00\",\"2021-08-20T00:00:00\",\"2021-08-21T00:00:00\",\"2021-08-22T00:00:00\",\"2021-08-23T00:00:00\",\"2021-08-24T00:00:00\",\"2021-08-25T00:00:00\",\"2021-08-26T00:00:00\",\"2021-08-27T00:00:00\",\"2021-08-28T00:00:00\",\"2021-08-29T00:00:00\",\"2021-08-30T00:00:00\",\"2021-08-31T00:00:00\",\"2021-09-01T00:00:00\",\"2021-09-02T00:00:00\",\"2021-09-03T00:00:00\",\"2021-09-04T00:00:00\",\"2021-09-05T00:00:00\",\"2021-09-06T00:00:00\",\"2021-09-07T00:00:00\",\"2021-09-08T00:00:00\",\"2021-09-09T00:00:00\",\"2021-09-10T00:00:00\",\"2021-09-11T00:00:00\",\"2021-09-12T00:00:00\",\"2021-09-13T00:00:00\",\"2021-09-14T00:00:00\",\"2021-09-15T00:00:00\",\"2021-09-16T00:00:00\",\"2021-09-17T00:00:00\",\"2021-09-18T00:00:00\",\"2021-09-19T00:00:00\",\"2021-09-20T00:00:00\",\"2021-09-21T00:00:00\",\"2021-09-22T00:00:00\",\"2021-09-23T00:00:00\",\"2021-09-24T00:00:00\",\"2021-09-25T00:00:00\",\"2021-09-26T00:00:00\",\"2021-09-27T00:00:00\",\"2021-09-28T00:00:00\",\"2021-09-29T00:00:00\",\"2021-09-30T00:00:00\",\"2021-10-01T00:00:00\",\"2021-10-02T00:00:00\",\"2021-10-03T00:00:00\",\"2021-10-04T00:00:00\",\"2021-10-05T00:00:00\"],\"y\":[3773,3172,2079,2725,4542,3795,3941,4064,3474,2093,2426,4339,4064,4224,4603,4369,2532,3276,4917,4430,4977,5193,4001,1996,2538,4764,5651,5777,4789,3782,1920,2526,4481,6034,5006,4450,3112,1914,2359,3948,5727,6365,6323,5151,1947,3128,7999,7104,6457,6643,5355,2341,2367,5592,6770,6877,7272,6279,2741,2483,5456,6082,6139,5865,6362,3132,2681,5788,7001,6721,7556,7278,4026,3514,6476,7863,8418,8290,7189,3567,4088,7418,8765,7798,9212,7115,3903,5038,7843,8872],\"type\":\"scatter\",\"xaxis\":\"x\",\"yaxis\":\"y\"}],                        {\"template\":{\"data\":{\"barpolar\":[{\"marker\":{\"line\":{\"color\":\"rgb(237,237,237)\",\"width\":0.5},\"pattern\":{\"fillmode\":\"overlay\",\"size\":10,\"solidity\":0.2}},\"type\":\"barpolar\"}],\"bar\":[{\"error_x\":{\"color\":\"rgb(51,51,51)\"},\"error_y\":{\"color\":\"rgb(51,51,51)\"},\"marker\":{\"line\":{\"color\":\"rgb(237,237,237)\",\"width\":0.5},\"pattern\":{\"fillmode\":\"overlay\",\"size\":10,\"solidity\":0.2}},\"type\":\"bar\"}],\"carpet\":[{\"aaxis\":{\"endlinecolor\":\"rgb(51,51,51)\",\"gridcolor\":\"white\",\"linecolor\":\"white\",\"minorgridcolor\":\"white\",\"startlinecolor\":\"rgb(51,51,51)\"},\"baxis\":{\"endlinecolor\":\"rgb(51,51,51)\",\"gridcolor\":\"white\",\"linecolor\":\"white\",\"minorgridcolor\":\"white\",\"startlinecolor\":\"rgb(51,51,51)\"},\"type\":\"carpet\"}],\"choropleth\":[{\"colorbar\":{\"outlinewidth\":0,\"tickcolor\":\"rgb(237,237,237)\",\"ticklen\":6,\"ticks\":\"inside\"},\"type\":\"choropleth\"}],\"contourcarpet\":[{\"colorbar\":{\"outlinewidth\":0,\"tickcolor\":\"rgb(237,237,237)\",\"ticklen\":6,\"ticks\":\"inside\"},\"type\":\"contourcarpet\"}],\"contour\":[{\"colorbar\":{\"outlinewidth\":0,\"tickcolor\":\"rgb(237,237,237)\",\"ticklen\":6,\"ticks\":\"inside\"},\"colorscale\":[[0,\"rgb(20,44,66)\"],[1,\"rgb(90,179,244)\"]],\"type\":\"contour\"}],\"heatmapgl\":[{\"colorbar\":{\"outlinewidth\":0,\"tickcolor\":\"rgb(237,237,237)\",\"ticklen\":6,\"ticks\":\"inside\"},\"colorscale\":[[0,\"rgb(20,44,66)\"],[1,\"rgb(90,179,244)\"]],\"type\":\"heatmapgl\"}],\"heatmap\":[{\"colorbar\":{\"outlinewidth\":0,\"tickcolor\":\"rgb(237,237,237)\",\"ticklen\":6,\"ticks\":\"inside\"},\"colorscale\":[[0,\"rgb(20,44,66)\"],[1,\"rgb(90,179,244)\"]],\"type\":\"heatmap\"}],\"histogram2dcontour\":[{\"colorbar\":{\"outlinewidth\":0,\"tickcolor\":\"rgb(237,237,237)\",\"ticklen\":6,\"ticks\":\"inside\"},\"colorscale\":[[0,\"rgb(20,44,66)\"],[1,\"rgb(90,179,244)\"]],\"type\":\"histogram2dcontour\"}],\"histogram2d\":[{\"colorbar\":{\"outlinewidth\":0,\"tickcolor\":\"rgb(237,237,237)\",\"ticklen\":6,\"ticks\":\"inside\"},\"colorscale\":[[0,\"rgb(20,44,66)\"],[1,\"rgb(90,179,244)\"]],\"type\":\"histogram2d\"}],\"histogram\":[{\"marker\":{\"pattern\":{\"fillmode\":\"overlay\",\"size\":10,\"solidity\":0.2}},\"type\":\"histogram\"}],\"mesh3d\":[{\"colorbar\":{\"outlinewidth\":0,\"tickcolor\":\"rgb(237,237,237)\",\"ticklen\":6,\"ticks\":\"inside\"},\"type\":\"mesh3d\"}],\"parcoords\":[{\"line\":{\"colorbar\":{\"outlinewidth\":0,\"tickcolor\":\"rgb(237,237,237)\",\"ticklen\":6,\"ticks\":\"inside\"}},\"type\":\"parcoords\"}],\"pie\":[{\"automargin\":true,\"type\":\"pie\"}],\"scatter3d\":[{\"line\":{\"colorbar\":{\"outlinewidth\":0,\"tickcolor\":\"rgb(237,237,237)\",\"ticklen\":6,\"ticks\":\"inside\"}},\"marker\":{\"colorbar\":{\"outlinewidth\":0,\"tickcolor\":\"rgb(237,237,237)\",\"ticklen\":6,\"ticks\":\"inside\"}},\"type\":\"scatter3d\"}],\"scattercarpet\":[{\"marker\":{\"colorbar\":{\"outlinewidth\":0,\"tickcolor\":\"rgb(237,237,237)\",\"ticklen\":6,\"ticks\":\"inside\"}},\"type\":\"scattercarpet\"}],\"scattergeo\":[{\"marker\":{\"colorbar\":{\"outlinewidth\":0,\"tickcolor\":\"rgb(237,237,237)\",\"ticklen\":6,\"ticks\":\"inside\"}},\"type\":\"scattergeo\"}],\"scattergl\":[{\"marker\":{\"colorbar\":{\"outlinewidth\":0,\"tickcolor\":\"rgb(237,237,237)\",\"ticklen\":6,\"ticks\":\"inside\"}},\"type\":\"scattergl\"}],\"scattermapbox\":[{\"marker\":{\"colorbar\":{\"outlinewidth\":0,\"tickcolor\":\"rgb(237,237,237)\",\"ticklen\":6,\"ticks\":\"inside\"}},\"type\":\"scattermapbox\"}],\"scatterpolargl\":[{\"marker\":{\"colorbar\":{\"outlinewidth\":0,\"tickcolor\":\"rgb(237,237,237)\",\"ticklen\":6,\"ticks\":\"inside\"}},\"type\":\"scatterpolargl\"}],\"scatterpolar\":[{\"marker\":{\"colorbar\":{\"outlinewidth\":0,\"tickcolor\":\"rgb(237,237,237)\",\"ticklen\":6,\"ticks\":\"inside\"}},\"type\":\"scatterpolar\"}],\"scatter\":[{\"marker\":{\"colorbar\":{\"outlinewidth\":0,\"tickcolor\":\"rgb(237,237,237)\",\"ticklen\":6,\"ticks\":\"inside\"}},\"type\":\"scatter\"}],\"scatterternary\":[{\"marker\":{\"colorbar\":{\"outlinewidth\":0,\"tickcolor\":\"rgb(237,237,237)\",\"ticklen\":6,\"ticks\":\"inside\"}},\"type\":\"scatterternary\"}],\"surface\":[{\"colorbar\":{\"outlinewidth\":0,\"tickcolor\":\"rgb(237,237,237)\",\"ticklen\":6,\"ticks\":\"inside\"},\"colorscale\":[[0,\"rgb(20,44,66)\"],[1,\"rgb(90,179,244)\"]],\"type\":\"surface\"}],\"table\":[{\"cells\":{\"fill\":{\"color\":\"rgb(237,237,237)\"},\"line\":{\"color\":\"white\"}},\"header\":{\"fill\":{\"color\":\"rgb(217,217,217)\"},\"line\":{\"color\":\"white\"}},\"type\":\"table\"}]},\"layout\":{\"annotationdefaults\":{\"arrowhead\":0,\"arrowwidth\":1},\"autotypenumbers\":\"strict\",\"coloraxis\":{\"colorbar\":{\"outlinewidth\":0,\"tickcolor\":\"rgb(237,237,237)\",\"ticklen\":6,\"ticks\":\"inside\"}},\"colorscale\":{\"sequential\":[[0,\"rgb(20,44,66)\"],[1,\"rgb(90,179,244)\"]],\"sequentialminus\":[[0,\"rgb(20,44,66)\"],[1,\"rgb(90,179,244)\"]]},\"colorway\":[\"#F8766D\",\"#A3A500\",\"#00BF7D\",\"#00B0F6\",\"#E76BF3\"],\"font\":{\"color\":\"rgb(51,51,51)\"},\"geo\":{\"bgcolor\":\"white\",\"lakecolor\":\"white\",\"landcolor\":\"rgb(237,237,237)\",\"showlakes\":true,\"showland\":true,\"subunitcolor\":\"white\"},\"hoverlabel\":{\"align\":\"left\"},\"hovermode\":\"closest\",\"paper_bgcolor\":\"white\",\"plot_bgcolor\":\"rgb(237,237,237)\",\"polar\":{\"angularaxis\":{\"gridcolor\":\"white\",\"linecolor\":\"white\",\"showgrid\":true,\"tickcolor\":\"rgb(51,51,51)\",\"ticks\":\"outside\"},\"bgcolor\":\"rgb(237,237,237)\",\"radialaxis\":{\"gridcolor\":\"white\",\"linecolor\":\"white\",\"showgrid\":true,\"tickcolor\":\"rgb(51,51,51)\",\"ticks\":\"outside\"}},\"scene\":{\"xaxis\":{\"backgroundcolor\":\"rgb(237,237,237)\",\"gridcolor\":\"white\",\"gridwidth\":2,\"linecolor\":\"white\",\"showbackground\":true,\"showgrid\":true,\"tickcolor\":\"rgb(51,51,51)\",\"ticks\":\"outside\",\"zerolinecolor\":\"white\"},\"yaxis\":{\"backgroundcolor\":\"rgb(237,237,237)\",\"gridcolor\":\"white\",\"gridwidth\":2,\"linecolor\":\"white\",\"showbackground\":true,\"showgrid\":true,\"tickcolor\":\"rgb(51,51,51)\",\"ticks\":\"outside\",\"zerolinecolor\":\"white\"},\"zaxis\":{\"backgroundcolor\":\"rgb(237,237,237)\",\"gridcolor\":\"white\",\"gridwidth\":2,\"linecolor\":\"white\",\"showbackground\":true,\"showgrid\":true,\"tickcolor\":\"rgb(51,51,51)\",\"ticks\":\"outside\",\"zerolinecolor\":\"white\"}},\"shapedefaults\":{\"fillcolor\":\"black\",\"line\":{\"width\":0},\"opacity\":0.3},\"ternary\":{\"aaxis\":{\"gridcolor\":\"white\",\"linecolor\":\"white\",\"showgrid\":true,\"tickcolor\":\"rgb(51,51,51)\",\"ticks\":\"outside\"},\"baxis\":{\"gridcolor\":\"white\",\"linecolor\":\"white\",\"showgrid\":true,\"tickcolor\":\"rgb(51,51,51)\",\"ticks\":\"outside\"},\"bgcolor\":\"rgb(237,237,237)\",\"caxis\":{\"gridcolor\":\"white\",\"linecolor\":\"white\",\"showgrid\":true,\"tickcolor\":\"rgb(51,51,51)\",\"ticks\":\"outside\"}},\"xaxis\":{\"automargin\":true,\"gridcolor\":\"white\",\"linecolor\":\"white\",\"showgrid\":true,\"tickcolor\":\"rgb(51,51,51)\",\"ticks\":\"outside\",\"title\":{\"standoff\":15},\"zerolinecolor\":\"white\"},\"yaxis\":{\"automargin\":true,\"gridcolor\":\"white\",\"linecolor\":\"white\",\"showgrid\":true,\"tickcolor\":\"rgb(51,51,51)\",\"ticks\":\"outside\",\"title\":{\"standoff\":15},\"zerolinecolor\":\"white\"}}},\"xaxis\":{\"anchor\":\"y\",\"domain\":[0.0,0.45],\"title\":{\"text\":\"Time\"}},\"yaxis\":{\"anchor\":\"x\",\"domain\":[0.625,1.0],\"title\":{\"text\":\"Value\"}},\"xaxis2\":{\"anchor\":\"y2\",\"domain\":[0.55,1.0],\"title\":{\"text\":\"Range of Values\"}},\"yaxis2\":{\"anchor\":\"x2\",\"domain\":[0.625,1.0],\"title\":{\"text\":\"PDF\"}},\"xaxis3\":{\"anchor\":\"y3\",\"domain\":[0.0,0.45],\"range\":[-1,42],\"title\":{\"text\":\"Lags\"}},\"yaxis3\":{\"anchor\":\"x3\",\"domain\":[0.0,0.375],\"zerolinecolor\":\"#000000\",\"title\":{\"text\":\"ACF\"}},\"xaxis4\":{\"anchor\":\"y4\",\"domain\":[0.55,1.0],\"title\":{\"text\":\"Theoretical Quantities\"}},\"yaxis4\":{\"anchor\":\"x4\",\"domain\":[0.0,0.375],\"title\":{\"text\":\"Sample Quantities\"}},\"annotations\":[{\"font\":{\"size\":16},\"showarrow\":false,\"text\":\"Time Plot\",\"x\":0.225,\"xanchor\":\"center\",\"xref\":\"paper\",\"y\":1.0,\"yanchor\":\"bottom\",\"yref\":\"paper\"},{\"font\":{\"size\":16},\"showarrow\":false,\"text\":\"Histogram Plot\",\"x\":0.775,\"xanchor\":\"center\",\"xref\":\"paper\",\"y\":1.0,\"yanchor\":\"bottom\",\"yref\":\"paper\"},{\"font\":{\"size\":16},\"showarrow\":false,\"text\":\"ACF Plot\",\"x\":0.225,\"xanchor\":\"center\",\"xref\":\"paper\",\"y\":0.375,\"yanchor\":\"bottom\",\"yref\":\"paper\"},{\"font\":{\"size\":16},\"showarrow\":false,\"text\":\"Quantile-Quantile Plot\",\"x\":0.775,\"xanchor\":\"center\",\"xref\":\"paper\",\"y\":0.375,\"yanchor\":\"bottom\",\"yref\":\"paper\"},{\"font\":{\"size\":16},\"showarrow\":false,\"text\":\"Diagnostics | Total\",\"x\":0.5,\"xanchor\":\"center\",\"xref\":\"paper\",\"y\":0,\"yanchor\":\"top\",\"yref\":\"paper\",\"yshift\":-30}],\"showlegend\":false},                        {\"responsive\": true}                    ).then(function(){\n",
              "                            \n",
              "var gd = document.getElementById('99bc9554-b3ca-4606-89c4-3d7cf055f2a2');\n",
              "var x = new MutationObserver(function (mutations, observer) {{\n",
              "        var display = window.getComputedStyle(gd).display;\n",
              "        if (!display || display === 'none') {{\n",
              "            console.log([gd, 'removed!']);\n",
              "            Plotly.purge(gd);\n",
              "            observer.disconnect();\n",
              "        }}\n",
              "}});\n",
              "\n",
              "// Listen for the removal of the full notebook cells\n",
              "var notebookContainer = gd.closest('#notebook-container');\n",
              "if (notebookContainer) {{\n",
              "    x.observe(notebookContainer, {childList: true});\n",
              "}}\n",
              "\n",
              "// Listen for the clearing of the current output cell\n",
              "var outputEl = gd.closest('.output');\n",
              "if (outputEl) {{\n",
              "    x.observe(outputEl, {childList: true});\n",
              "}}\n",
              "\n",
              "                        })                };                            </script>        </div>\n",
              "</body>\n",
              "</html>"
            ]
          },
          "metadata": {}
        }
      ]
    },
    {
      "cell_type": "code",
      "source": [
        "# Decomposition plot\n",
        "exp.plot_model(plot = 'decomp_stl')"
      ],
      "metadata": {
        "colab": {
          "base_uri": "https://localhost:8080/",
          "height": 542
        },
        "id": "3UngHzromnbW",
        "outputId": "e708f2a3-564d-4397-f1ee-414588e635ff"
      },
      "execution_count": 12,
      "outputs": [
        {
          "output_type": "display_data",
          "data": {
            "text/html": [
              "<html>\n",
              "<head><meta charset=\"utf-8\" /></head>\n",
              "<body>\n",
              "    <div>            <script src=\"https://cdnjs.cloudflare.com/ajax/libs/mathjax/2.7.5/MathJax.js?config=TeX-AMS-MML_SVG\"></script><script type=\"text/javascript\">if (window.MathJax) {MathJax.Hub.Config({SVG: {font: \"STIX-Web\"}});}</script>                <script type=\"text/javascript\">window.PlotlyConfig = {MathJaxConfig: 'local'};</script>\n",
              "        <script src=\"https://cdn.plot.ly/plotly-2.6.3.min.js\"></script>                <div id=\"6b61ed83-89bc-45de-970b-67b52030b109\" class=\"plotly-graph-div\" style=\"height:525px; width:100%;\"></div>            <script type=\"text/javascript\">                                    window.PLOTLYENV=window.PLOTLYENV || {};                                    if (document.getElementById(\"6b61ed83-89bc-45de-970b-67b52030b109\")) {                    Plotly.newPlot(                        \"6b61ed83-89bc-45de-970b-67b52030b109\",                        [{\"line\":{\"color\":\"#1f77b4\",\"width\":2},\"marker\":{\"size\":2},\"mode\":\"lines+markers\",\"name\":\"Actual\",\"x\":[\"2021-07-08T00:00:00\",\"2021-07-09T00:00:00\",\"2021-07-10T00:00:00\",\"2021-07-11T00:00:00\",\"2021-07-12T00:00:00\",\"2021-07-13T00:00:00\",\"2021-07-14T00:00:00\",\"2021-07-15T00:00:00\",\"2021-07-16T00:00:00\",\"2021-07-17T00:00:00\",\"2021-07-18T00:00:00\",\"2021-07-19T00:00:00\",\"2021-07-20T00:00:00\",\"2021-07-21T00:00:00\",\"2021-07-22T00:00:00\",\"2021-07-23T00:00:00\",\"2021-07-24T00:00:00\",\"2021-07-25T00:00:00\",\"2021-07-26T00:00:00\",\"2021-07-27T00:00:00\",\"2021-07-28T00:00:00\",\"2021-07-29T00:00:00\",\"2021-07-30T00:00:00\",\"2021-07-31T00:00:00\",\"2021-08-01T00:00:00\",\"2021-08-02T00:00:00\",\"2021-08-03T00:00:00\",\"2021-08-04T00:00:00\",\"2021-08-05T00:00:00\",\"2021-08-06T00:00:00\",\"2021-08-07T00:00:00\",\"2021-08-08T00:00:00\",\"2021-08-09T00:00:00\",\"2021-08-10T00:00:00\",\"2021-08-11T00:00:00\",\"2021-08-12T00:00:00\",\"2021-08-13T00:00:00\",\"2021-08-14T00:00:00\",\"2021-08-15T00:00:00\",\"2021-08-16T00:00:00\",\"2021-08-17T00:00:00\",\"2021-08-18T00:00:00\",\"2021-08-19T00:00:00\",\"2021-08-20T00:00:00\",\"2021-08-21T00:00:00\",\"2021-08-22T00:00:00\",\"2021-08-23T00:00:00\",\"2021-08-24T00:00:00\",\"2021-08-25T00:00:00\",\"2021-08-26T00:00:00\",\"2021-08-27T00:00:00\",\"2021-08-28T00:00:00\",\"2021-08-29T00:00:00\",\"2021-08-30T00:00:00\",\"2021-08-31T00:00:00\",\"2021-09-01T00:00:00\",\"2021-09-02T00:00:00\",\"2021-09-03T00:00:00\",\"2021-09-04T00:00:00\",\"2021-09-05T00:00:00\",\"2021-09-06T00:00:00\",\"2021-09-07T00:00:00\",\"2021-09-08T00:00:00\",\"2021-09-09T00:00:00\",\"2021-09-10T00:00:00\",\"2021-09-11T00:00:00\",\"2021-09-12T00:00:00\",\"2021-09-13T00:00:00\",\"2021-09-14T00:00:00\",\"2021-09-15T00:00:00\",\"2021-09-16T00:00:00\",\"2021-09-17T00:00:00\",\"2021-09-18T00:00:00\",\"2021-09-19T00:00:00\",\"2021-09-20T00:00:00\",\"2021-09-21T00:00:00\",\"2021-09-22T00:00:00\",\"2021-09-23T00:00:00\",\"2021-09-24T00:00:00\",\"2021-09-25T00:00:00\",\"2021-09-26T00:00:00\",\"2021-09-27T00:00:00\",\"2021-09-28T00:00:00\",\"2021-09-29T00:00:00\",\"2021-09-30T00:00:00\",\"2021-10-01T00:00:00\",\"2021-10-02T00:00:00\",\"2021-10-03T00:00:00\",\"2021-10-04T00:00:00\",\"2021-10-05T00:00:00\"],\"y\":[3773,3172,2079,2725,4542,3795,3941,4064,3474,2093,2426,4339,4064,4224,4603,4369,2532,3276,4917,4430,4977,5193,4001,1996,2538,4764,5651,5777,4789,3782,1920,2526,4481,6034,5006,4450,3112,1914,2359,3948,5727,6365,6323,5151,1947,3128,7999,7104,6457,6643,5355,2341,2367,5592,6770,6877,7272,6279,2741,2483,5456,6082,6139,5865,6362,3132,2681,5788,7001,6721,7556,7278,4026,3514,6476,7863,8418,8290,7189,3567,4088,7418,8765,7798,9212,7115,3903,5038,7843,8872],\"type\":\"scatter\",\"xaxis\":\"x\",\"yaxis\":\"y\"},{\"line\":{\"color\":\"#1f77b4\",\"width\":2},\"marker\":{\"size\":2},\"mode\":\"lines+markers\",\"name\":\"Seasonal\",\"x\":[\"2021-07-08T00:00:00\",\"2021-07-09T00:00:00\",\"2021-07-10T00:00:00\",\"2021-07-11T00:00:00\",\"2021-07-12T00:00:00\",\"2021-07-13T00:00:00\",\"2021-07-14T00:00:00\",\"2021-07-15T00:00:00\",\"2021-07-16T00:00:00\",\"2021-07-17T00:00:00\",\"2021-07-18T00:00:00\",\"2021-07-19T00:00:00\",\"2021-07-20T00:00:00\",\"2021-07-21T00:00:00\",\"2021-07-22T00:00:00\",\"2021-07-23T00:00:00\",\"2021-07-24T00:00:00\",\"2021-07-25T00:00:00\",\"2021-07-26T00:00:00\",\"2021-07-27T00:00:00\",\"2021-07-28T00:00:00\",\"2021-07-29T00:00:00\",\"2021-07-30T00:00:00\",\"2021-07-31T00:00:00\",\"2021-08-01T00:00:00\",\"2021-08-02T00:00:00\",\"2021-08-03T00:00:00\",\"2021-08-04T00:00:00\",\"2021-08-05T00:00:00\",\"2021-08-06T00:00:00\",\"2021-08-07T00:00:00\",\"2021-08-08T00:00:00\",\"2021-08-09T00:00:00\",\"2021-08-10T00:00:00\",\"2021-08-11T00:00:00\",\"2021-08-12T00:00:00\",\"2021-08-13T00:00:00\",\"2021-08-14T00:00:00\",\"2021-08-15T00:00:00\",\"2021-08-16T00:00:00\",\"2021-08-17T00:00:00\",\"2021-08-18T00:00:00\",\"2021-08-19T00:00:00\",\"2021-08-20T00:00:00\",\"2021-08-21T00:00:00\",\"2021-08-22T00:00:00\",\"2021-08-23T00:00:00\",\"2021-08-24T00:00:00\",\"2021-08-25T00:00:00\",\"2021-08-26T00:00:00\",\"2021-08-27T00:00:00\",\"2021-08-28T00:00:00\",\"2021-08-29T00:00:00\",\"2021-08-30T00:00:00\",\"2021-08-31T00:00:00\",\"2021-09-01T00:00:00\",\"2021-09-02T00:00:00\",\"2021-09-03T00:00:00\",\"2021-09-04T00:00:00\",\"2021-09-05T00:00:00\",\"2021-09-06T00:00:00\",\"2021-09-07T00:00:00\",\"2021-09-08T00:00:00\",\"2021-09-09T00:00:00\",\"2021-09-10T00:00:00\",\"2021-09-11T00:00:00\",\"2021-09-12T00:00:00\",\"2021-09-13T00:00:00\",\"2021-09-14T00:00:00\",\"2021-09-15T00:00:00\",\"2021-09-16T00:00:00\",\"2021-09-17T00:00:00\",\"2021-09-18T00:00:00\",\"2021-09-19T00:00:00\",\"2021-09-20T00:00:00\",\"2021-09-21T00:00:00\",\"2021-09-22T00:00:00\",\"2021-09-23T00:00:00\",\"2021-09-24T00:00:00\",\"2021-09-25T00:00:00\",\"2021-09-26T00:00:00\",\"2021-09-27T00:00:00\",\"2021-09-28T00:00:00\",\"2021-09-29T00:00:00\",\"2021-09-30T00:00:00\",\"2021-10-01T00:00:00\",\"2021-10-02T00:00:00\",\"2021-10-03T00:00:00\",\"2021-10-04T00:00:00\",\"2021-10-05T00:00:00\"],\"y\":[537.0563421964089,45.55776027960491,-1203.1034627900247,-698.2255180464307,1057.2251814087283,96.77308416884956,356.72203330168105,622.9769455455244,11.132827750682868,-1452.7794007252862,-929.2781808763083,883.8657132374141,452.8678920427264,631.1975979469476,694.2271272454914,-47.97250622480242,-1694.0057611010532,-1158.7829062690892,705.7537755144119,824.0984836445336,894.3893059571374,754.7894790307734,-119.16849092840252,-1920.8385501906648,-1357.9395961790087,538.2411884099864,1201.0454440164053,1175.9899846630497,815.2104167915551,-293.92025798695596,-2187.9369052359825,-1600.9836892927203,558.442393171597,1514.0273975865944,1361.4923802848948,928.0884467847087,-315.5878141063818,-2512.7832031514695,-1918.0726634684588,789.5000927518939,1629.5522513911103,1356.8377865224945,1141.1711657108392,-115.66183053870839,-2702.215821372012,-2254.9748218498676,822.7852285834273,1492.3204609168033,1348.8766690150185,1360.4501715002696,308.8492808135714,-2764.262675037284,-2554.714739630843,818.3023046992296,1354.1697514028936,1237.9831319322138,1377.816037930665,716.5439493975247,-2573.6102171986777,-2723.8677654585968,493.53361673017247,1290.8068965373807,1212.4857395555996,1414.5030362270134,948.0716286728323,-2432.2432530517353,-2758.084702418553,252.93000453170293,1311.0693078462139,1237.733690021844,1588.6474836879438,772.7441951622817,-2650.5091065760025,-2645.540819723786,346.4310706112435,1452.5196560500833,1185.6930807662636,1778.7241420664784,535.8767727969561,-2896.9665033966353,-2521.281725012354,432.72739237271554,1576.952316414717,1155.33812603264,2004.592583661871,256.2295638648103,-3185.25184728852,-2383.171293476344,540.9594209775703,1712.3113587304015],\"type\":\"scatter\",\"xaxis\":\"x2\",\"yaxis\":\"y2\"},{\"line\":{\"color\":\"#1f77b4\",\"width\":2},\"marker\":{\"size\":2},\"mode\":\"lines+markers\",\"name\":\"Trend\",\"x\":[\"2021-07-08T00:00:00\",\"2021-07-09T00:00:00\",\"2021-07-10T00:00:00\",\"2021-07-11T00:00:00\",\"2021-07-12T00:00:00\",\"2021-07-13T00:00:00\",\"2021-07-14T00:00:00\",\"2021-07-15T00:00:00\",\"2021-07-16T00:00:00\",\"2021-07-17T00:00:00\",\"2021-07-18T00:00:00\",\"2021-07-19T00:00:00\",\"2021-07-20T00:00:00\",\"2021-07-21T00:00:00\",\"2021-07-22T00:00:00\",\"2021-07-23T00:00:00\",\"2021-07-24T00:00:00\",\"2021-07-25T00:00:00\",\"2021-07-26T00:00:00\",\"2021-07-27T00:00:00\",\"2021-07-28T00:00:00\",\"2021-07-29T00:00:00\",\"2021-07-30T00:00:00\",\"2021-07-31T00:00:00\",\"2021-08-01T00:00:00\",\"2021-08-02T00:00:00\",\"2021-08-03T00:00:00\",\"2021-08-04T00:00:00\",\"2021-08-05T00:00:00\",\"2021-08-06T00:00:00\",\"2021-08-07T00:00:00\",\"2021-08-08T00:00:00\",\"2021-08-09T00:00:00\",\"2021-08-10T00:00:00\",\"2021-08-11T00:00:00\",\"2021-08-12T00:00:00\",\"2021-08-13T00:00:00\",\"2021-08-14T00:00:00\",\"2021-08-15T00:00:00\",\"2021-08-16T00:00:00\",\"2021-08-17T00:00:00\",\"2021-08-18T00:00:00\",\"2021-08-19T00:00:00\",\"2021-08-20T00:00:00\",\"2021-08-21T00:00:00\",\"2021-08-22T00:00:00\",\"2021-08-23T00:00:00\",\"2021-08-24T00:00:00\",\"2021-08-25T00:00:00\",\"2021-08-26T00:00:00\",\"2021-08-27T00:00:00\",\"2021-08-28T00:00:00\",\"2021-08-29T00:00:00\",\"2021-08-30T00:00:00\",\"2021-08-31T00:00:00\",\"2021-09-01T00:00:00\",\"2021-09-02T00:00:00\",\"2021-09-03T00:00:00\",\"2021-09-04T00:00:00\",\"2021-09-05T00:00:00\",\"2021-09-06T00:00:00\",\"2021-09-07T00:00:00\",\"2021-09-08T00:00:00\",\"2021-09-09T00:00:00\",\"2021-09-10T00:00:00\",\"2021-09-11T00:00:00\",\"2021-09-12T00:00:00\",\"2021-09-13T00:00:00\",\"2021-09-14T00:00:00\",\"2021-09-15T00:00:00\",\"2021-09-16T00:00:00\",\"2021-09-17T00:00:00\",\"2021-09-18T00:00:00\",\"2021-09-19T00:00:00\",\"2021-09-20T00:00:00\",\"2021-09-21T00:00:00\",\"2021-09-22T00:00:00\",\"2021-09-23T00:00:00\",\"2021-09-24T00:00:00\",\"2021-09-25T00:00:00\",\"2021-09-26T00:00:00\",\"2021-09-27T00:00:00\",\"2021-09-28T00:00:00\",\"2021-09-29T00:00:00\",\"2021-09-30T00:00:00\",\"2021-10-01T00:00:00\",\"2021-10-02T00:00:00\",\"2021-10-03T00:00:00\",\"2021-10-04T00:00:00\",\"2021-10-05T00:00:00\"],\"y\":[3258.262049367406,3298.4971557816766,3335.7313817859244,3370.1358644246666,3402.4514707862663,3433.954489226854,3466.6468652581457,3497.887725718313,3509.7286067390705,3527.3889364888796,3566.5733821123354,3631.938806286266,3721.3830537767453,3818.2745257962865,3902.0502257022863,3973.6977554846803,4041.567590014578,4098.5816312283805,4132.385407804292,4135.970630499826,4118.366542933992,4106.047918161659,4117.566404280808,4142.278789156479,4166.141781804008,4177.33580988273,4174.126026972333,4171.376485692164,4178.113777728222,4170.509962484282,4128.472804658878,4059.4660193594236,3999.6752774946513,3965.8387057272803,3941.721380437952,3921.425802386788,3928.395197390469,3985.1309422935883,4095.0982169436215,4239.418111196749,4415.111046880015,4629.136665596021,4859.744623606251,5077.156835537664,5260.7787430839835,5380.931943607417,5428.040206184838,5428.780096443166,5401.991082006718,5356.850041339826,5301.7715945434,5252.42129340026,5237.011558691372,5264.389470933499,5300.031371423332,5322.118223890315,5328.373661596535,5314.63579331024,5273.274554198656,5213.687561901323,5154.501798225906,5116.017813370796,5110.634995971044,5141.139509634311,5199.6806804996595,5290.297834223054,5420.007724274228,5578.244658354605,5736.096248128508,5870.119493272053,5981.822185502528,6100.786368779984,6229.0588456895075,6349.938833815713,6444.8044161571825,6508.398641211522,6554.995523743091,6608.036333391439,6671.22676170096,6736.187406670505,6785.598158809514,6824.434810346407,6875.258282815558,6945.2835857700775,7009.004852787533,7070.329344528535,7130.3944510216,7190.052838646505,7249.7534817198675,7309.1910711396395],\"type\":\"scatter\",\"xaxis\":\"x3\",\"yaxis\":\"y3\"},{\"line\":{\"color\":\"#1f77b4\",\"width\":2},\"marker\":{\"size\":4},\"mode\":\"markers\",\"name\":\"Residuals\",\"x\":[\"2021-07-08T00:00:00\",\"2021-07-09T00:00:00\",\"2021-07-10T00:00:00\",\"2021-07-11T00:00:00\",\"2021-07-12T00:00:00\",\"2021-07-13T00:00:00\",\"2021-07-14T00:00:00\",\"2021-07-15T00:00:00\",\"2021-07-16T00:00:00\",\"2021-07-17T00:00:00\",\"2021-07-18T00:00:00\",\"2021-07-19T00:00:00\",\"2021-07-20T00:00:00\",\"2021-07-21T00:00:00\",\"2021-07-22T00:00:00\",\"2021-07-23T00:00:00\",\"2021-07-24T00:00:00\",\"2021-07-25T00:00:00\",\"2021-07-26T00:00:00\",\"2021-07-27T00:00:00\",\"2021-07-28T00:00:00\",\"2021-07-29T00:00:00\",\"2021-07-30T00:00:00\",\"2021-07-31T00:00:00\",\"2021-08-01T00:00:00\",\"2021-08-02T00:00:00\",\"2021-08-03T00:00:00\",\"2021-08-04T00:00:00\",\"2021-08-05T00:00:00\",\"2021-08-06T00:00:00\",\"2021-08-07T00:00:00\",\"2021-08-08T00:00:00\",\"2021-08-09T00:00:00\",\"2021-08-10T00:00:00\",\"2021-08-11T00:00:00\",\"2021-08-12T00:00:00\",\"2021-08-13T00:00:00\",\"2021-08-14T00:00:00\",\"2021-08-15T00:00:00\",\"2021-08-16T00:00:00\",\"2021-08-17T00:00:00\",\"2021-08-18T00:00:00\",\"2021-08-19T00:00:00\",\"2021-08-20T00:00:00\",\"2021-08-21T00:00:00\",\"2021-08-22T00:00:00\",\"2021-08-23T00:00:00\",\"2021-08-24T00:00:00\",\"2021-08-25T00:00:00\",\"2021-08-26T00:00:00\",\"2021-08-27T00:00:00\",\"2021-08-28T00:00:00\",\"2021-08-29T00:00:00\",\"2021-08-30T00:00:00\",\"2021-08-31T00:00:00\",\"2021-09-01T00:00:00\",\"2021-09-02T00:00:00\",\"2021-09-03T00:00:00\",\"2021-09-04T00:00:00\",\"2021-09-05T00:00:00\",\"2021-09-06T00:00:00\",\"2021-09-07T00:00:00\",\"2021-09-08T00:00:00\",\"2021-09-09T00:00:00\",\"2021-09-10T00:00:00\",\"2021-09-11T00:00:00\",\"2021-09-12T00:00:00\",\"2021-09-13T00:00:00\",\"2021-09-14T00:00:00\",\"2021-09-15T00:00:00\",\"2021-09-16T00:00:00\",\"2021-09-17T00:00:00\",\"2021-09-18T00:00:00\",\"2021-09-19T00:00:00\",\"2021-09-20T00:00:00\",\"2021-09-21T00:00:00\",\"2021-09-22T00:00:00\",\"2021-09-23T00:00:00\",\"2021-09-24T00:00:00\",\"2021-09-25T00:00:00\",\"2021-09-26T00:00:00\",\"2021-09-27T00:00:00\",\"2021-09-28T00:00:00\",\"2021-09-29T00:00:00\",\"2021-09-30T00:00:00\",\"2021-10-01T00:00:00\",\"2021-10-02T00:00:00\",\"2021-10-03T00:00:00\",\"2021-10-04T00:00:00\",\"2021-10-05T00:00:00\"],\"y\":[-22.318391563814657,-172.05491606128135,-53.62791899590002,53.08965362176423,82.32334780500514,264.27242660429647,117.6311014401731,-56.86467126383741,-46.861434489753265,18.390464236406387,-211.29520123602697,-176.80451952368003,-110.25094581947178,-225.47212374323408,6.722647052222328,443.2747507401223,184.43817108647545,336.2012750407084,78.86081668129555,-530.0691141443599,-35.75584889112906,332.16260280756705,2.6020866475946605,-225.4402389658144,-270.2021856249994,48.42300170728322,275.8285290112617,429.633529644786,-204.32419451977694,-94.58970449732624,-20.535899422895454,67.51766993329693,-77.11767066624816,554.1338966861249,-297.2137607228469,-399.51424917149643,-500.80738328408734,441.65226085788163,181.97444652483728,-1080.9182039486432,-317.6632982711253,379.0255478814843,322.08421068291045,189.50499500104434,-611.5629217119713,2.04287824245057,1748.174565231735,182.89944264003043,-293.8677510217367,-74.30021284009581,-255.62087535697174,-147.15861836297609,-315.29681906052883,-490.6917756327284,115.7988771737746,316.8986441774714,565.8103004728,247.8202572922355,41.33566300002167,-6.819796442725419,-192.03541495607806,-324.8247099081764,-184.12073552664333,-690.6425458613248,214.24769082750845,273.9454188286809,19.07697814432504,-43.1746628863084,-46.16555597472143,-386.853183293897,-14.469669190471905,404.46943605773504,447.450260886495,-190.3980140919266,-315.2354867684262,-97.9182972616054,677.3113954906448,-96.76047545791789,-18.10353449791637,-272.2209032738692,-176.31643379716024,160.83779728087757,312.78940076972503,-302.621711802718,198.40256355059591,-211.55890839334552,-42.14260373307934,231.1184548298388,52.28709730256196,-149.50242987004094],\"type\":\"scatter\",\"xaxis\":\"x4\",\"yaxis\":\"y4\"}],                        {\"template\":{\"data\":{\"barpolar\":[{\"marker\":{\"line\":{\"color\":\"rgb(237,237,237)\",\"width\":0.5},\"pattern\":{\"fillmode\":\"overlay\",\"size\":10,\"solidity\":0.2}},\"type\":\"barpolar\"}],\"bar\":[{\"error_x\":{\"color\":\"rgb(51,51,51)\"},\"error_y\":{\"color\":\"rgb(51,51,51)\"},\"marker\":{\"line\":{\"color\":\"rgb(237,237,237)\",\"width\":0.5},\"pattern\":{\"fillmode\":\"overlay\",\"size\":10,\"solidity\":0.2}},\"type\":\"bar\"}],\"carpet\":[{\"aaxis\":{\"endlinecolor\":\"rgb(51,51,51)\",\"gridcolor\":\"white\",\"linecolor\":\"white\",\"minorgridcolor\":\"white\",\"startlinecolor\":\"rgb(51,51,51)\"},\"baxis\":{\"endlinecolor\":\"rgb(51,51,51)\",\"gridcolor\":\"white\",\"linecolor\":\"white\",\"minorgridcolor\":\"white\",\"startlinecolor\":\"rgb(51,51,51)\"},\"type\":\"carpet\"}],\"choropleth\":[{\"colorbar\":{\"outlinewidth\":0,\"tickcolor\":\"rgb(237,237,237)\",\"ticklen\":6,\"ticks\":\"inside\"},\"type\":\"choropleth\"}],\"contourcarpet\":[{\"colorbar\":{\"outlinewidth\":0,\"tickcolor\":\"rgb(237,237,237)\",\"ticklen\":6,\"ticks\":\"inside\"},\"type\":\"contourcarpet\"}],\"contour\":[{\"colorbar\":{\"outlinewidth\":0,\"tickcolor\":\"rgb(237,237,237)\",\"ticklen\":6,\"ticks\":\"inside\"},\"colorscale\":[[0,\"rgb(20,44,66)\"],[1,\"rgb(90,179,244)\"]],\"type\":\"contour\"}],\"heatmapgl\":[{\"colorbar\":{\"outlinewidth\":0,\"tickcolor\":\"rgb(237,237,237)\",\"ticklen\":6,\"ticks\":\"inside\"},\"colorscale\":[[0,\"rgb(20,44,66)\"],[1,\"rgb(90,179,244)\"]],\"type\":\"heatmapgl\"}],\"heatmap\":[{\"colorbar\":{\"outlinewidth\":0,\"tickcolor\":\"rgb(237,237,237)\",\"ticklen\":6,\"ticks\":\"inside\"},\"colorscale\":[[0,\"rgb(20,44,66)\"],[1,\"rgb(90,179,244)\"]],\"type\":\"heatmap\"}],\"histogram2dcontour\":[{\"colorbar\":{\"outlinewidth\":0,\"tickcolor\":\"rgb(237,237,237)\",\"ticklen\":6,\"ticks\":\"inside\"},\"colorscale\":[[0,\"rgb(20,44,66)\"],[1,\"rgb(90,179,244)\"]],\"type\":\"histogram2dcontour\"}],\"histogram2d\":[{\"colorbar\":{\"outlinewidth\":0,\"tickcolor\":\"rgb(237,237,237)\",\"ticklen\":6,\"ticks\":\"inside\"},\"colorscale\":[[0,\"rgb(20,44,66)\"],[1,\"rgb(90,179,244)\"]],\"type\":\"histogram2d\"}],\"histogram\":[{\"marker\":{\"pattern\":{\"fillmode\":\"overlay\",\"size\":10,\"solidity\":0.2}},\"type\":\"histogram\"}],\"mesh3d\":[{\"colorbar\":{\"outlinewidth\":0,\"tickcolor\":\"rgb(237,237,237)\",\"ticklen\":6,\"ticks\":\"inside\"},\"type\":\"mesh3d\"}],\"parcoords\":[{\"line\":{\"colorbar\":{\"outlinewidth\":0,\"tickcolor\":\"rgb(237,237,237)\",\"ticklen\":6,\"ticks\":\"inside\"}},\"type\":\"parcoords\"}],\"pie\":[{\"automargin\":true,\"type\":\"pie\"}],\"scatter3d\":[{\"line\":{\"colorbar\":{\"outlinewidth\":0,\"tickcolor\":\"rgb(237,237,237)\",\"ticklen\":6,\"ticks\":\"inside\"}},\"marker\":{\"colorbar\":{\"outlinewidth\":0,\"tickcolor\":\"rgb(237,237,237)\",\"ticklen\":6,\"ticks\":\"inside\"}},\"type\":\"scatter3d\"}],\"scattercarpet\":[{\"marker\":{\"colorbar\":{\"outlinewidth\":0,\"tickcolor\":\"rgb(237,237,237)\",\"ticklen\":6,\"ticks\":\"inside\"}},\"type\":\"scattercarpet\"}],\"scattergeo\":[{\"marker\":{\"colorbar\":{\"outlinewidth\":0,\"tickcolor\":\"rgb(237,237,237)\",\"ticklen\":6,\"ticks\":\"inside\"}},\"type\":\"scattergeo\"}],\"scattergl\":[{\"marker\":{\"colorbar\":{\"outlinewidth\":0,\"tickcolor\":\"rgb(237,237,237)\",\"ticklen\":6,\"ticks\":\"inside\"}},\"type\":\"scattergl\"}],\"scattermapbox\":[{\"marker\":{\"colorbar\":{\"outlinewidth\":0,\"tickcolor\":\"rgb(237,237,237)\",\"ticklen\":6,\"ticks\":\"inside\"}},\"type\":\"scattermapbox\"}],\"scatterpolargl\":[{\"marker\":{\"colorbar\":{\"outlinewidth\":0,\"tickcolor\":\"rgb(237,237,237)\",\"ticklen\":6,\"ticks\":\"inside\"}},\"type\":\"scatterpolargl\"}],\"scatterpolar\":[{\"marker\":{\"colorbar\":{\"outlinewidth\":0,\"tickcolor\":\"rgb(237,237,237)\",\"ticklen\":6,\"ticks\":\"inside\"}},\"type\":\"scatterpolar\"}],\"scatter\":[{\"marker\":{\"colorbar\":{\"outlinewidth\":0,\"tickcolor\":\"rgb(237,237,237)\",\"ticklen\":6,\"ticks\":\"inside\"}},\"type\":\"scatter\"}],\"scatterternary\":[{\"marker\":{\"colorbar\":{\"outlinewidth\":0,\"tickcolor\":\"rgb(237,237,237)\",\"ticklen\":6,\"ticks\":\"inside\"}},\"type\":\"scatterternary\"}],\"surface\":[{\"colorbar\":{\"outlinewidth\":0,\"tickcolor\":\"rgb(237,237,237)\",\"ticklen\":6,\"ticks\":\"inside\"},\"colorscale\":[[0,\"rgb(20,44,66)\"],[1,\"rgb(90,179,244)\"]],\"type\":\"surface\"}],\"table\":[{\"cells\":{\"fill\":{\"color\":\"rgb(237,237,237)\"},\"line\":{\"color\":\"white\"}},\"header\":{\"fill\":{\"color\":\"rgb(217,217,217)\"},\"line\":{\"color\":\"white\"}},\"type\":\"table\"}]},\"layout\":{\"annotationdefaults\":{\"arrowhead\":0,\"arrowwidth\":1},\"autotypenumbers\":\"strict\",\"coloraxis\":{\"colorbar\":{\"outlinewidth\":0,\"tickcolor\":\"rgb(237,237,237)\",\"ticklen\":6,\"ticks\":\"inside\"}},\"colorscale\":{\"sequential\":[[0,\"rgb(20,44,66)\"],[1,\"rgb(90,179,244)\"]],\"sequentialminus\":[[0,\"rgb(20,44,66)\"],[1,\"rgb(90,179,244)\"]]},\"colorway\":[\"#F8766D\",\"#A3A500\",\"#00BF7D\",\"#00B0F6\",\"#E76BF3\"],\"font\":{\"color\":\"rgb(51,51,51)\"},\"geo\":{\"bgcolor\":\"white\",\"lakecolor\":\"white\",\"landcolor\":\"rgb(237,237,237)\",\"showlakes\":true,\"showland\":true,\"subunitcolor\":\"white\"},\"hoverlabel\":{\"align\":\"left\"},\"hovermode\":\"closest\",\"paper_bgcolor\":\"white\",\"plot_bgcolor\":\"rgb(237,237,237)\",\"polar\":{\"angularaxis\":{\"gridcolor\":\"white\",\"linecolor\":\"white\",\"showgrid\":true,\"tickcolor\":\"rgb(51,51,51)\",\"ticks\":\"outside\"},\"bgcolor\":\"rgb(237,237,237)\",\"radialaxis\":{\"gridcolor\":\"white\",\"linecolor\":\"white\",\"showgrid\":true,\"tickcolor\":\"rgb(51,51,51)\",\"ticks\":\"outside\"}},\"scene\":{\"xaxis\":{\"backgroundcolor\":\"rgb(237,237,237)\",\"gridcolor\":\"white\",\"gridwidth\":2,\"linecolor\":\"white\",\"showbackground\":true,\"showgrid\":true,\"tickcolor\":\"rgb(51,51,51)\",\"ticks\":\"outside\",\"zerolinecolor\":\"white\"},\"yaxis\":{\"backgroundcolor\":\"rgb(237,237,237)\",\"gridcolor\":\"white\",\"gridwidth\":2,\"linecolor\":\"white\",\"showbackground\":true,\"showgrid\":true,\"tickcolor\":\"rgb(51,51,51)\",\"ticks\":\"outside\",\"zerolinecolor\":\"white\"},\"zaxis\":{\"backgroundcolor\":\"rgb(237,237,237)\",\"gridcolor\":\"white\",\"gridwidth\":2,\"linecolor\":\"white\",\"showbackground\":true,\"showgrid\":true,\"tickcolor\":\"rgb(51,51,51)\",\"ticks\":\"outside\",\"zerolinecolor\":\"white\"}},\"shapedefaults\":{\"fillcolor\":\"black\",\"line\":{\"width\":0},\"opacity\":0.3},\"ternary\":{\"aaxis\":{\"gridcolor\":\"white\",\"linecolor\":\"white\",\"showgrid\":true,\"tickcolor\":\"rgb(51,51,51)\",\"ticks\":\"outside\"},\"baxis\":{\"gridcolor\":\"white\",\"linecolor\":\"white\",\"showgrid\":true,\"tickcolor\":\"rgb(51,51,51)\",\"ticks\":\"outside\"},\"bgcolor\":\"rgb(237,237,237)\",\"caxis\":{\"gridcolor\":\"white\",\"linecolor\":\"white\",\"showgrid\":true,\"tickcolor\":\"rgb(51,51,51)\",\"ticks\":\"outside\"}},\"xaxis\":{\"automargin\":true,\"gridcolor\":\"white\",\"linecolor\":\"white\",\"showgrid\":true,\"tickcolor\":\"rgb(51,51,51)\",\"ticks\":\"outside\",\"title\":{\"standoff\":15},\"zerolinecolor\":\"white\"},\"yaxis\":{\"automargin\":true,\"gridcolor\":\"white\",\"linecolor\":\"white\",\"showgrid\":true,\"tickcolor\":\"rgb(51,51,51)\",\"ticks\":\"outside\",\"title\":{\"standoff\":15},\"zerolinecolor\":\"white\"}}},\"xaxis\":{\"anchor\":\"y\",\"domain\":[0.0,0.98],\"matches\":\"x4\",\"showticklabels\":false},\"yaxis\":{\"anchor\":\"x\",\"domain\":[0.80625,1.0]},\"xaxis2\":{\"anchor\":\"y2\",\"domain\":[0.0,0.98],\"matches\":\"x4\",\"showticklabels\":false},\"yaxis2\":{\"anchor\":\"x2\",\"domain\":[0.5375,0.73125]},\"xaxis3\":{\"anchor\":\"y3\",\"domain\":[0.0,0.98],\"matches\":\"x4\",\"showticklabels\":false},\"yaxis3\":{\"anchor\":\"x3\",\"domain\":[0.26875,0.4625]},\"xaxis4\":{\"anchor\":\"y4\",\"domain\":[0.0,0.98]},\"yaxis4\":{\"anchor\":\"x4\",\"domain\":[0.0,0.19375]},\"annotations\":[{\"font\":{\"size\":16},\"showarrow\":false,\"text\":\"Actual\",\"textangle\":90,\"x\":0.98,\"xanchor\":\"left\",\"xref\":\"paper\",\"y\":0.903125,\"yanchor\":\"middle\",\"yref\":\"paper\"},{\"font\":{\"size\":16},\"showarrow\":false,\"text\":\"Seasonal\",\"textangle\":90,\"x\":0.98,\"xanchor\":\"left\",\"xref\":\"paper\",\"y\":0.6343749999999999,\"yanchor\":\"middle\",\"yref\":\"paper\"},{\"font\":{\"size\":16},\"showarrow\":false,\"text\":\"Trend\",\"textangle\":90,\"x\":0.98,\"xanchor\":\"left\",\"xref\":\"paper\",\"y\":0.365625,\"yanchor\":\"middle\",\"yref\":\"paper\"},{\"font\":{\"size\":16},\"showarrow\":false,\"text\":\"Residual\",\"textangle\":90,\"x\":0.98,\"xanchor\":\"left\",\"xref\":\"paper\",\"y\":0.096875,\"yanchor\":\"middle\",\"yref\":\"paper\"}],\"title\":{\"text\":\"STL Decomposition | Total\"},\"showlegend\":false},                        {\"responsive\": true}                    ).then(function(){\n",
              "                            \n",
              "var gd = document.getElementById('6b61ed83-89bc-45de-970b-67b52030b109');\n",
              "var x = new MutationObserver(function (mutations, observer) {{\n",
              "        var display = window.getComputedStyle(gd).display;\n",
              "        if (!display || display === 'none') {{\n",
              "            console.log([gd, 'removed!']);\n",
              "            Plotly.purge(gd);\n",
              "            observer.disconnect();\n",
              "        }}\n",
              "}});\n",
              "\n",
              "// Listen for the removal of the full notebook cells\n",
              "var notebookContainer = gd.closest('#notebook-container');\n",
              "if (notebookContainer) {{\n",
              "    x.observe(notebookContainer, {childList: true});\n",
              "}}\n",
              "\n",
              "// Listen for the clearing of the current output cell\n",
              "var outputEl = gd.closest('.output');\n",
              "if (outputEl) {{\n",
              "    x.observe(outputEl, {childList: true});\n",
              "}}\n",
              "\n",
              "                        })                };                            </script>        </div>\n",
              "</body>\n",
              "</html>"
            ]
          },
          "metadata": {}
        }
      ]
    },
    {
      "cell_type": "markdown",
      "source": [
        "## Model Training"
      ],
      "metadata": {
        "id": "9n9eHCdnnPbN"
      }
    },
    {
      "cell_type": "code",
      "source": [
        "# functional API\n",
        "#best = compare_models()# object-oriented API\n",
        "best = exp.compare_models()"
      ],
      "metadata": {
        "colab": {
          "base_uri": "https://localhost:8080/",
          "height": 833,
          "referenced_widgets": [
            "2ca5444521034e48a33f4df693fc235c",
            "2d13b88bb42e4ec49f5f729566bdf1f9",
            "6b954624310248ada995de586fb5b232"
          ]
        },
        "id": "-S-jgdTbnGIC",
        "outputId": "ef8b148f-2b1e-471f-9aa1-40d7a24e9152"
      },
      "execution_count": 13,
      "outputs": [
        {
          "output_type": "display_data",
          "data": {
            "text/html": [
              "<div>\n",
              "<style scoped>\n",
              "    .dataframe tbody tr th:only-of-type {\n",
              "        vertical-align: middle;\n",
              "    }\n",
              "\n",
              "    .dataframe tbody tr th {\n",
              "        vertical-align: top;\n",
              "    }\n",
              "\n",
              "    .dataframe thead th {\n",
              "        text-align: right;\n",
              "    }\n",
              "</style>\n",
              "<table border=\"1\" class=\"dataframe\">\n",
              "  <thead>\n",
              "    <tr style=\"text-align: right;\">\n",
              "      <th></th>\n",
              "      <th>Model</th>\n",
              "      <th>MAE</th>\n",
              "      <th>RMSE</th>\n",
              "      <th>MAPE</th>\n",
              "      <th>SMAPE</th>\n",
              "      <th>MASE</th>\n",
              "      <th>R2</th>\n",
              "      <th>TT (Sec)</th>\n",
              "    </tr>\n",
              "  </thead>\n",
              "  <tbody>\n",
              "    <tr>\n",
              "      <th>auto_arima</th>\n",
              "      <td>Auto ARIMA</td>\n",
              "      <td>531.918</td>\n",
              "      <td>626.211</td>\n",
              "      <td>0.0911</td>\n",
              "      <td>0.0916</td>\n",
              "      <td>0.849</td>\n",
              "      <td>0.8632</td>\n",
              "      <td>2.9633</td>\n",
              "    </tr>\n",
              "    <tr>\n",
              "      <th>arima</th>\n",
              "      <td>ARIMA</td>\n",
              "      <td>568.497</td>\n",
              "      <td>687.251</td>\n",
              "      <td>0.0957</td>\n",
              "      <td>0.0975</td>\n",
              "      <td>0.9085</td>\n",
              "      <td>0.8316</td>\n",
              "      <td>0.0433</td>\n",
              "    </tr>\n",
              "    <tr>\n",
              "      <th>theta</th>\n",
              "      <td>Theta Forecaster</td>\n",
              "      <td>526.386</td>\n",
              "      <td>672.942</td>\n",
              "      <td>0.0921</td>\n",
              "      <td>0.0988</td>\n",
              "      <td>0.8452</td>\n",
              "      <td>0.8201</td>\n",
              "      <td>0.0300</td>\n",
              "    </tr>\n",
              "    <tr>\n",
              "      <th>lightgbm_cds_dt</th>\n",
              "      <td>Light Gradient Boosting w/ Cond. Deseasonalize...</td>\n",
              "      <td>571.175</td>\n",
              "      <td>672.961</td>\n",
              "      <td>0.1022</td>\n",
              "      <td>0.099</td>\n",
              "      <td>0.9132</td>\n",
              "      <td>0.8368</td>\n",
              "      <td>0.0400</td>\n",
              "    </tr>\n",
              "    <tr>\n",
              "      <th>et_cds_dt</th>\n",
              "      <td>Extra Trees w/ Cond. Deseasonalize &amp; Detrending</td>\n",
              "      <td>583.112</td>\n",
              "      <td>715.558</td>\n",
              "      <td>0.1014</td>\n",
              "      <td>0.0996</td>\n",
              "      <td>0.9318</td>\n",
              "      <td>0.8204</td>\n",
              "      <td>0.6533</td>\n",
              "    </tr>\n",
              "    <tr>\n",
              "      <th>gbr_cds_dt</th>\n",
              "      <td>Gradient Boosting w/ Cond. Deseasonalize &amp; Det...</td>\n",
              "      <td>606.492</td>\n",
              "      <td>709.812</td>\n",
              "      <td>0.1052</td>\n",
              "      <td>0.1043</td>\n",
              "      <td>0.9706</td>\n",
              "      <td>0.8179</td>\n",
              "      <td>0.0733</td>\n",
              "    </tr>\n",
              "    <tr>\n",
              "      <th>rf_cds_dt</th>\n",
              "      <td>Random Forest w/ Cond. Deseasonalize &amp; Detrending</td>\n",
              "      <td>616.389</td>\n",
              "      <td>731.383</td>\n",
              "      <td>0.1062</td>\n",
              "      <td>0.1049</td>\n",
              "      <td>0.9845</td>\n",
              "      <td>0.8118</td>\n",
              "      <td>0.7167</td>\n",
              "    </tr>\n",
              "    <tr>\n",
              "      <th>en_cds_dt</th>\n",
              "      <td>Elastic Net w/ Cond. Deseasonalize &amp; Detrending</td>\n",
              "      <td>632.714</td>\n",
              "      <td>746.721</td>\n",
              "      <td>0.1081</td>\n",
              "      <td>0.1075</td>\n",
              "      <td>1.0093</td>\n",
              "      <td>0.8079</td>\n",
              "      <td>0.0333</td>\n",
              "    </tr>\n",
              "    <tr>\n",
              "      <th>ridge_cds_dt</th>\n",
              "      <td>Ridge w/ Cond. Deseasonalize &amp; Detrending</td>\n",
              "      <td>632.713</td>\n",
              "      <td>746.721</td>\n",
              "      <td>0.1081</td>\n",
              "      <td>0.1075</td>\n",
              "      <td>1.0093</td>\n",
              "      <td>0.8079</td>\n",
              "      <td>0.0300</td>\n",
              "    </tr>\n",
              "    <tr>\n",
              "      <th>lasso_cds_dt</th>\n",
              "      <td>Lasso w/ Cond. Deseasonalize &amp; Detrending</td>\n",
              "      <td>632.715</td>\n",
              "      <td>746.722</td>\n",
              "      <td>0.1081</td>\n",
              "      <td>0.1075</td>\n",
              "      <td>1.0093</td>\n",
              "      <td>0.8079</td>\n",
              "      <td>0.0333</td>\n",
              "    </tr>\n",
              "    <tr>\n",
              "      <th>lar_cds_dt</th>\n",
              "      <td>Least Angular Regressor w/ Cond. Deseasonalize...</td>\n",
              "      <td>632.713</td>\n",
              "      <td>746.721</td>\n",
              "      <td>0.1081</td>\n",
              "      <td>0.1075</td>\n",
              "      <td>1.0093</td>\n",
              "      <td>0.8079</td>\n",
              "      <td>0.0333</td>\n",
              "    </tr>\n",
              "    <tr>\n",
              "      <th>lr_cds_dt</th>\n",
              "      <td>Linear w/ Cond. Deseasonalize &amp; Detrending</td>\n",
              "      <td>632.713</td>\n",
              "      <td>746.721</td>\n",
              "      <td>0.1081</td>\n",
              "      <td>0.1075</td>\n",
              "      <td>1.0093</td>\n",
              "      <td>0.8079</td>\n",
              "      <td>0.0333</td>\n",
              "    </tr>\n",
              "    <tr>\n",
              "      <th>exp_smooth</th>\n",
              "      <td>Exponential Smoothing</td>\n",
              "      <td>554.193</td>\n",
              "      <td>638.494</td>\n",
              "      <td>0.1026</td>\n",
              "      <td>0.1091</td>\n",
              "      <td>0.8896</td>\n",
              "      <td>0.8402</td>\n",
              "      <td>0.1400</td>\n",
              "    </tr>\n",
              "    <tr>\n",
              "      <th>br_cds_dt</th>\n",
              "      <td>Bayesian Ridge w/ Cond. Deseasonalize &amp; Detren...</td>\n",
              "      <td>643.347</td>\n",
              "      <td>757.043</td>\n",
              "      <td>0.1098</td>\n",
              "      <td>0.1094</td>\n",
              "      <td>1.026</td>\n",
              "      <td>0.803</td>\n",
              "      <td>0.0333</td>\n",
              "    </tr>\n",
              "    <tr>\n",
              "      <th>llar_cds_dt</th>\n",
              "      <td>Lasso Least Angular Regressor w/ Cond. Deseaso...</td>\n",
              "      <td>643.324</td>\n",
              "      <td>753.913</td>\n",
              "      <td>0.11</td>\n",
              "      <td>0.1095</td>\n",
              "      <td>1.0262</td>\n",
              "      <td>0.804</td>\n",
              "      <td>0.0367</td>\n",
              "    </tr>\n",
              "    <tr>\n",
              "      <th>huber_cds_dt</th>\n",
              "      <td>Huber w/ Cond. Deseasonalize &amp; Detrending</td>\n",
              "      <td>640.197</td>\n",
              "      <td>771.245</td>\n",
              "      <td>0.1112</td>\n",
              "      <td>0.11</td>\n",
              "      <td>1.0213</td>\n",
              "      <td>0.7947</td>\n",
              "      <td>0.0733</td>\n",
              "    </tr>\n",
              "    <tr>\n",
              "      <th>omp_cds_dt</th>\n",
              "      <td>Orthogonal Matching Pursuit w/ Cond. Deseasona...</td>\n",
              "      <td>651.932</td>\n",
              "      <td>774.819</td>\n",
              "      <td>0.1137</td>\n",
              "      <td>0.1129</td>\n",
              "      <td>1.0398</td>\n",
              "      <td>0.7928</td>\n",
              "      <td>0.0300</td>\n",
              "    </tr>\n",
              "    <tr>\n",
              "      <th>knn_cds_dt</th>\n",
              "      <td>K Neighbors w/ Cond. Deseasonalize &amp; Detrending</td>\n",
              "      <td>673.602</td>\n",
              "      <td>808.21</td>\n",
              "      <td>0.1122</td>\n",
              "      <td>0.1133</td>\n",
              "      <td>1.0758</td>\n",
              "      <td>0.774</td>\n",
              "      <td>0.5067</td>\n",
              "    </tr>\n",
              "    <tr>\n",
              "      <th>dt_cds_dt</th>\n",
              "      <td>Decision Tree w/ Cond. Deseasonalize &amp; Detrending</td>\n",
              "      <td>613.179</td>\n",
              "      <td>797.467</td>\n",
              "      <td>0.1147</td>\n",
              "      <td>0.1134</td>\n",
              "      <td>0.9835</td>\n",
              "      <td>0.7701</td>\n",
              "      <td>0.0333</td>\n",
              "    </tr>\n",
              "    <tr>\n",
              "      <th>ada_cds_dt</th>\n",
              "      <td>AdaBoost w/ Cond. Deseasonalize &amp; Detrending</td>\n",
              "      <td>656.977</td>\n",
              "      <td>753.898</td>\n",
              "      <td>0.1145</td>\n",
              "      <td>0.1138</td>\n",
              "      <td>1.049</td>\n",
              "      <td>0.8024</td>\n",
              "      <td>0.1367</td>\n",
              "    </tr>\n",
              "    <tr>\n",
              "      <th>snaive</th>\n",
              "      <td>Seasonal Naive Forecaster</td>\n",
              "      <td>758.619</td>\n",
              "      <td>868.809</td>\n",
              "      <td>0.1273</td>\n",
              "      <td>0.1342</td>\n",
              "      <td>1.2136</td>\n",
              "      <td>0.7328</td>\n",
              "      <td>0.0233</td>\n",
              "    </tr>\n",
              "    <tr>\n",
              "      <th>par_cds_dt</th>\n",
              "      <td>Passive Aggressive w/ Cond. Deseasonalize &amp; De...</td>\n",
              "      <td>1112.95</td>\n",
              "      <td>1277.16</td>\n",
              "      <td>0.1995</td>\n",
              "      <td>0.2208</td>\n",
              "      <td>1.7956</td>\n",
              "      <td>0.1633</td>\n",
              "      <td>0.0333</td>\n",
              "    </tr>\n",
              "    <tr>\n",
              "      <th>naive</th>\n",
              "      <td>Naive Forecaster</td>\n",
              "      <td>1340.62</td>\n",
              "      <td>1921.11</td>\n",
              "      <td>0.3362</td>\n",
              "      <td>0.2386</td>\n",
              "      <td>2.1383</td>\n",
              "      <td>-0.2648</td>\n",
              "      <td>1.6900</td>\n",
              "    </tr>\n",
              "    <tr>\n",
              "      <th>polytrend</th>\n",
              "      <td>Polynomial Trend Forecaster</td>\n",
              "      <td>1636.96</td>\n",
              "      <td>1793.5</td>\n",
              "      <td>0.3259</td>\n",
              "      <td>0.2898</td>\n",
              "      <td>2.609</td>\n",
              "      <td>-0.0999</td>\n",
              "      <td>0.0167</td>\n",
              "    </tr>\n",
              "    <tr>\n",
              "      <th>grand_means</th>\n",
              "      <td>Grand Means Forecaster</td>\n",
              "      <td>2193.97</td>\n",
              "      <td>2395.24</td>\n",
              "      <td>0.3474</td>\n",
              "      <td>0.3964</td>\n",
              "      <td>3.4979</td>\n",
              "      <td>-0.962</td>\n",
              "      <td>0.0200</td>\n",
              "    </tr>\n",
              "  </tbody>\n",
              "</table>\n",
              "</div>"
            ],
            "text/plain": [
              "                                                             Model      MAE  \\\n",
              "auto_arima                                              Auto ARIMA  531.918   \n",
              "arima                                                        ARIMA  568.497   \n",
              "theta                                             Theta Forecaster  526.386   \n",
              "lightgbm_cds_dt  Light Gradient Boosting w/ Cond. Deseasonalize...  571.175   \n",
              "et_cds_dt          Extra Trees w/ Cond. Deseasonalize & Detrending  583.112   \n",
              "gbr_cds_dt       Gradient Boosting w/ Cond. Deseasonalize & Det...  606.492   \n",
              "rf_cds_dt        Random Forest w/ Cond. Deseasonalize & Detrending  616.389   \n",
              "en_cds_dt          Elastic Net w/ Cond. Deseasonalize & Detrending  632.714   \n",
              "ridge_cds_dt             Ridge w/ Cond. Deseasonalize & Detrending  632.713   \n",
              "lasso_cds_dt             Lasso w/ Cond. Deseasonalize & Detrending  632.715   \n",
              "lar_cds_dt       Least Angular Regressor w/ Cond. Deseasonalize...  632.713   \n",
              "lr_cds_dt               Linear w/ Cond. Deseasonalize & Detrending  632.713   \n",
              "exp_smooth                                   Exponential Smoothing  554.193   \n",
              "br_cds_dt        Bayesian Ridge w/ Cond. Deseasonalize & Detren...  643.347   \n",
              "llar_cds_dt      Lasso Least Angular Regressor w/ Cond. Deseaso...  643.324   \n",
              "huber_cds_dt             Huber w/ Cond. Deseasonalize & Detrending  640.197   \n",
              "omp_cds_dt       Orthogonal Matching Pursuit w/ Cond. Deseasona...  651.932   \n",
              "knn_cds_dt         K Neighbors w/ Cond. Deseasonalize & Detrending  673.602   \n",
              "dt_cds_dt        Decision Tree w/ Cond. Deseasonalize & Detrending  613.179   \n",
              "ada_cds_dt            AdaBoost w/ Cond. Deseasonalize & Detrending  656.977   \n",
              "snaive                                   Seasonal Naive Forecaster  758.619   \n",
              "par_cds_dt       Passive Aggressive w/ Cond. Deseasonalize & De...  1112.95   \n",
              "naive                                             Naive Forecaster  1340.62   \n",
              "polytrend                              Polynomial Trend Forecaster  1636.96   \n",
              "grand_means                                 Grand Means Forecaster  2193.97   \n",
              "\n",
              "                    RMSE    MAPE   SMAPE    MASE      R2  TT (Sec)  \n",
              "auto_arima       626.211  0.0911  0.0916   0.849  0.8632    2.9633  \n",
              "arima            687.251  0.0957  0.0975  0.9085  0.8316    0.0433  \n",
              "theta            672.942  0.0921  0.0988  0.8452  0.8201    0.0300  \n",
              "lightgbm_cds_dt  672.961  0.1022   0.099  0.9132  0.8368    0.0400  \n",
              "et_cds_dt        715.558  0.1014  0.0996  0.9318  0.8204    0.6533  \n",
              "gbr_cds_dt       709.812  0.1052  0.1043  0.9706  0.8179    0.0733  \n",
              "rf_cds_dt        731.383  0.1062  0.1049  0.9845  0.8118    0.7167  \n",
              "en_cds_dt        746.721  0.1081  0.1075  1.0093  0.8079    0.0333  \n",
              "ridge_cds_dt     746.721  0.1081  0.1075  1.0093  0.8079    0.0300  \n",
              "lasso_cds_dt     746.722  0.1081  0.1075  1.0093  0.8079    0.0333  \n",
              "lar_cds_dt       746.721  0.1081  0.1075  1.0093  0.8079    0.0333  \n",
              "lr_cds_dt        746.721  0.1081  0.1075  1.0093  0.8079    0.0333  \n",
              "exp_smooth       638.494  0.1026  0.1091  0.8896  0.8402    0.1400  \n",
              "br_cds_dt        757.043  0.1098  0.1094   1.026   0.803    0.0333  \n",
              "llar_cds_dt      753.913    0.11  0.1095  1.0262   0.804    0.0367  \n",
              "huber_cds_dt     771.245  0.1112    0.11  1.0213  0.7947    0.0733  \n",
              "omp_cds_dt       774.819  0.1137  0.1129  1.0398  0.7928    0.0300  \n",
              "knn_cds_dt        808.21  0.1122  0.1133  1.0758   0.774    0.5067  \n",
              "dt_cds_dt        797.467  0.1147  0.1134  0.9835  0.7701    0.0333  \n",
              "ada_cds_dt       753.898  0.1145  0.1138   1.049  0.8024    0.1367  \n",
              "snaive           868.809  0.1273  0.1342  1.2136  0.7328    0.0233  \n",
              "par_cds_dt       1277.16  0.1995  0.2208  1.7956  0.1633    0.0333  \n",
              "naive            1921.11  0.3362  0.2386  2.1383 -0.2648    1.6900  \n",
              "polytrend         1793.5  0.3259  0.2898   2.609 -0.0999    0.0167  \n",
              "grand_means      2395.24  0.3474  0.3964  3.4979  -0.962    0.0200  "
            ]
          },
          "metadata": {}
        }
      ]
    },
    {
      "cell_type": "code",
      "source": [
        "# create fbprophet model\n",
        "prophet = exp.create_model('prophet')\n",
        "print(prophet)"
      ],
      "metadata": {
        "colab": {
          "base_uri": "https://localhost:8080/",
          "height": 362,
          "referenced_widgets": [
            "e8697cf550434b71b3b7fb39ca63e7b1",
            "cea11da5eb7947c28ba5872383127251",
            "7012356ad2dc431ea35cdf38d9fadc4f"
          ]
        },
        "id": "a0WUgfHEnSg3",
        "outputId": "4b4de87a-6460-41f8-f1cc-20a6ccae231c"
      },
      "execution_count": 14,
      "outputs": [
        {
          "output_type": "display_data",
          "data": {
            "text/html": [
              "<div>\n",
              "<style scoped>\n",
              "    .dataframe tbody tr th:only-of-type {\n",
              "        vertical-align: middle;\n",
              "    }\n",
              "\n",
              "    .dataframe tbody tr th {\n",
              "        vertical-align: top;\n",
              "    }\n",
              "\n",
              "    .dataframe thead th {\n",
              "        text-align: right;\n",
              "    }\n",
              "</style>\n",
              "<table border=\"1\" class=\"dataframe\">\n",
              "  <thead>\n",
              "    <tr style=\"text-align: right;\">\n",
              "      <th></th>\n",
              "      <th>cutoff</th>\n",
              "      <th>MAE</th>\n",
              "      <th>RMSE</th>\n",
              "      <th>MAPE</th>\n",
              "      <th>SMAPE</th>\n",
              "      <th>MASE</th>\n",
              "      <th>R2</th>\n",
              "    </tr>\n",
              "  </thead>\n",
              "  <tbody>\n",
              "    <tr>\n",
              "      <th>0</th>\n",
              "      <td>2021-09-07</td>\n",
              "      <td>579.0242</td>\n",
              "      <td>655.8335</td>\n",
              "      <td>0.1347</td>\n",
              "      <td>0.1232</td>\n",
              "      <td>0.9371</td>\n",
              "      <td>0.8212</td>\n",
              "    </tr>\n",
              "    <tr>\n",
              "      <th>1</th>\n",
              "      <td>2021-09-14</td>\n",
              "      <td>641.3026</td>\n",
              "      <td>816.9084</td>\n",
              "      <td>0.1024</td>\n",
              "      <td>0.1088</td>\n",
              "      <td>1.0449</td>\n",
              "      <td>0.7413</td>\n",
              "    </tr>\n",
              "    <tr>\n",
              "      <th>2</th>\n",
              "      <td>2021-09-21</td>\n",
              "      <td>870.3595</td>\n",
              "      <td>987.0935</td>\n",
              "      <td>0.1183</td>\n",
              "      <td>0.1250</td>\n",
              "      <td>1.3490</td>\n",
              "      <td>0.7477</td>\n",
              "    </tr>\n",
              "    <tr>\n",
              "      <th>Mean</th>\n",
              "      <td>NaT</td>\n",
              "      <td>696.8954</td>\n",
              "      <td>819.9451</td>\n",
              "      <td>0.1185</td>\n",
              "      <td>0.1190</td>\n",
              "      <td>1.1104</td>\n",
              "      <td>0.7701</td>\n",
              "    </tr>\n",
              "    <tr>\n",
              "      <th>SD</th>\n",
              "      <td>NaT</td>\n",
              "      <td>125.2650</td>\n",
              "      <td>135.2534</td>\n",
              "      <td>0.0132</td>\n",
              "      <td>0.0073</td>\n",
              "      <td>0.1744</td>\n",
              "      <td>0.0363</td>\n",
              "    </tr>\n",
              "  </tbody>\n",
              "</table>\n",
              "</div>"
            ],
            "text/plain": [
              "         cutoff       MAE      RMSE    MAPE   SMAPE    MASE      R2\n",
              "0    2021-09-07  579.0242  655.8335  0.1347  0.1232  0.9371  0.8212\n",
              "1    2021-09-14  641.3026  816.9084  0.1024  0.1088  1.0449  0.7413\n",
              "2    2021-09-21  870.3595  987.0935  0.1183  0.1250  1.3490  0.7477\n",
              "Mean        NaT  696.8954  819.9451  0.1185  0.1190  1.1104  0.7701\n",
              "SD          NaT  125.2650  135.2534  0.0132  0.0073  0.1744  0.0363"
            ]
          },
          "metadata": {}
        },
        {
          "output_type": "stream",
          "name": "stdout",
          "text": [
            "ProphetPeriodPatched(add_country_holidays=None, add_seasonality=None,\n",
            "                     alpha=0.05, changepoint_prior_scale=0.05,\n",
            "                     changepoint_range=0.8, changepoints=None,\n",
            "                     daily_seasonality='auto', freq=None, growth='linear',\n",
            "                     holidays=None, holidays_prior_scale=10.0, mcmc_samples=0,\n",
            "                     n_changepoints=25, seasonality_mode='additive',\n",
            "                     seasonality_prior_scale=10.0, stan_backend=None,\n",
            "                     uncertainty_samples=1000, verbose=0,\n",
            "                     weekly_seasonality='auto', yearly_seasonality='auto')\n"
          ]
        }
      ]
    },
    {
      "cell_type": "code",
      "source": [
        "#Model Tuning\n",
        "tuned_prophet = exp.tune_model(prophet)\n",
        "print(tuned_prophet)"
      ],
      "metadata": {
        "colab": {
          "base_uri": "https://localhost:8080/",
          "height": 380,
          "referenced_widgets": [
            "23b7a79b69e1473081bee12084c61a07",
            "91482252418f4af0a9a569383eafd78e",
            "7208666d256b45258e466ccff6897d52"
          ]
        },
        "id": "LE39Ccp4njgV",
        "outputId": "c610b105-03e5-4c65-8e3b-240993eb1601"
      },
      "execution_count": 15,
      "outputs": [
        {
          "output_type": "display_data",
          "data": {
            "text/html": [
              "<div>\n",
              "<style scoped>\n",
              "    .dataframe tbody tr th:only-of-type {\n",
              "        vertical-align: middle;\n",
              "    }\n",
              "\n",
              "    .dataframe tbody tr th {\n",
              "        vertical-align: top;\n",
              "    }\n",
              "\n",
              "    .dataframe thead th {\n",
              "        text-align: right;\n",
              "    }\n",
              "</style>\n",
              "<table border=\"1\" class=\"dataframe\">\n",
              "  <thead>\n",
              "    <tr style=\"text-align: right;\">\n",
              "      <th></th>\n",
              "      <th>cutoff</th>\n",
              "      <th>MAE</th>\n",
              "      <th>RMSE</th>\n",
              "      <th>MAPE</th>\n",
              "      <th>SMAPE</th>\n",
              "      <th>MASE</th>\n",
              "      <th>R2</th>\n",
              "    </tr>\n",
              "  </thead>\n",
              "  <tbody>\n",
              "    <tr>\n",
              "      <th>0</th>\n",
              "      <td>2021-09-07</td>\n",
              "      <td>649.0172</td>\n",
              "      <td>711.2958</td>\n",
              "      <td>0.1351</td>\n",
              "      <td>0.1270</td>\n",
              "      <td>1.0504</td>\n",
              "      <td>0.7897</td>\n",
              "    </tr>\n",
              "    <tr>\n",
              "      <th>1</th>\n",
              "      <td>2021-09-14</td>\n",
              "      <td>585.7204</td>\n",
              "      <td>718.3293</td>\n",
              "      <td>0.0986</td>\n",
              "      <td>0.1071</td>\n",
              "      <td>0.9544</td>\n",
              "      <td>0.7999</td>\n",
              "    </tr>\n",
              "    <tr>\n",
              "      <th>2</th>\n",
              "      <td>2021-09-21</td>\n",
              "      <td>654.0680</td>\n",
              "      <td>707.8493</td>\n",
              "      <td>0.0942</td>\n",
              "      <td>0.0991</td>\n",
              "      <td>1.0138</td>\n",
              "      <td>0.8703</td>\n",
              "    </tr>\n",
              "    <tr>\n",
              "      <th>Mean</th>\n",
              "      <td>NaT</td>\n",
              "      <td>629.6019</td>\n",
              "      <td>712.4915</td>\n",
              "      <td>0.1093</td>\n",
              "      <td>0.1111</td>\n",
              "      <td>1.0062</td>\n",
              "      <td>0.8200</td>\n",
              "    </tr>\n",
              "    <tr>\n",
              "      <th>SD</th>\n",
              "      <td>NaT</td>\n",
              "      <td>31.0973</td>\n",
              "      <td>4.3612</td>\n",
              "      <td>0.0183</td>\n",
              "      <td>0.0117</td>\n",
              "      <td>0.0396</td>\n",
              "      <td>0.0358</td>\n",
              "    </tr>\n",
              "  </tbody>\n",
              "</table>\n",
              "</div>"
            ],
            "text/plain": [
              "         cutoff       MAE      RMSE    MAPE   SMAPE    MASE      R2\n",
              "0    2021-09-07  649.0172  711.2958  0.1351  0.1270  1.0504  0.7897\n",
              "1    2021-09-14  585.7204  718.3293  0.0986  0.1071  0.9544  0.7999\n",
              "2    2021-09-21  654.0680  707.8493  0.0942  0.0991  1.0138  0.8703\n",
              "Mean        NaT  629.6019  712.4915  0.1093  0.1111  1.0062  0.8200\n",
              "SD          NaT   31.0973    4.3612  0.0183  0.0117  0.0396  0.0358"
            ]
          },
          "metadata": {}
        },
        {
          "output_type": "stream",
          "name": "stdout",
          "text": [
            "ProphetPeriodPatched(add_country_holidays=None, add_seasonality=None,\n",
            "                     alpha=0.05, changepoint_prior_scale=0.07052367291265604,\n",
            "                     changepoint_range=0.8, changepoints=None,\n",
            "                     daily_seasonality='auto', freq=None, growth='linear',\n",
            "                     holidays=None, holidays_prior_scale=0.2772015819815348,\n",
            "                     mcmc_samples=0, n_changepoints=25,\n",
            "                     seasonality_mode='multiplicative',\n",
            "                     seasonality_prior_scale=0.15960727025988383,\n",
            "                     stan_backend=None, uncertainty_samples=1000, verbose=0,\n",
            "                     weekly_seasonality='auto', yearly_seasonality='auto')\n"
          ]
        }
      ]
    },
    {
      "cell_type": "code",
      "source": [
        "# Model Plotting\n",
        "exp.plot_model(tuned_prophet, plot = 'forecast')"
      ],
      "metadata": {
        "colab": {
          "base_uri": "https://localhost:8080/",
          "height": 542
        },
        "id": "NmCZg92koh7x",
        "outputId": "fcc9e294-ecba-4d96-a3d8-6611d5508abc"
      },
      "execution_count": 16,
      "outputs": [
        {
          "output_type": "display_data",
          "data": {
            "text/html": [
              "<html>\n",
              "<head><meta charset=\"utf-8\" /></head>\n",
              "<body>\n",
              "    <div>            <script src=\"https://cdnjs.cloudflare.com/ajax/libs/mathjax/2.7.5/MathJax.js?config=TeX-AMS-MML_SVG\"></script><script type=\"text/javascript\">if (window.MathJax) {MathJax.Hub.Config({SVG: {font: \"STIX-Web\"}});}</script>                <script type=\"text/javascript\">window.PlotlyConfig = {MathJaxConfig: 'local'};</script>\n",
              "        <script src=\"https://cdn.plot.ly/plotly-2.6.3.min.js\"></script>                <div id=\"4ba069f9-be6f-4071-a908-9adaca258f1a\" class=\"plotly-graph-div\" style=\"height:525px; width:100%;\"></div>            <script type=\"text/javascript\">                                    window.PLOTLYENV=window.PLOTLYENV || {};                                    if (document.getElementById(\"4ba069f9-be6f-4071-a908-9adaca258f1a\")) {                    Plotly.newPlot(                        \"4ba069f9-be6f-4071-a908-9adaca258f1a\",                        [{\"line\":{\"color\":\"#1f77b4\"},\"marker\":{\"size\":5},\"mode\":\"lines+markers\",\"name\":\"Forecast | Prophet\",\"showlegend\":true,\"x\":[\"2021-09-29T00:00:00\",\"2021-09-30T00:00:00\",\"2021-10-01T00:00:00\",\"2021-10-02T00:00:00\",\"2021-10-03T00:00:00\",\"2021-10-04T00:00:00\",\"2021-10-05T00:00:00\"],\"y\":[8071.0544,8089.6074,7058.5048,3592.9487,3932.3654,7557.9032,8521.0008],\"type\":\"scatter\"},{\"line\":{\"width\":0},\"marker\":{\"color\":\"#68BBE3\"},\"mode\":\"lines\",\"name\":\"Lower Interval\",\"showlegend\":false,\"x\":[\"2021-09-29T00:00:00\",\"2021-09-30T00:00:00\",\"2021-10-01T00:00:00\",\"2021-10-02T00:00:00\",\"2021-10-03T00:00:00\",\"2021-10-04T00:00:00\",\"2021-10-05T00:00:00\"],\"y\":[6973.368,6955.1195,5910.7982,2384.2231,2743.945,6463.9726,7297.3504],\"type\":\"scatter\"},{\"fill\":\"tonexty\",\"fillcolor\":\"rgba(104,187,227,0.5)\",\"line\":{\"width\":0},\"marker\":{\"color\":\"#68BBE3\"},\"mode\":\"lines\",\"name\":\"Prediction Interval | Prophet\",\"showlegend\":true,\"x\":[\"2021-09-29T00:00:00\",\"2021-09-30T00:00:00\",\"2021-10-01T00:00:00\",\"2021-10-02T00:00:00\",\"2021-10-03T00:00:00\",\"2021-10-04T00:00:00\",\"2021-10-05T00:00:00\"],\"y\":[9219.8129,9413.8237,8336.2022,4792.9298,5103.864,8829.852,9780.4448],\"type\":\"scatter\"},{\"marker\":{\"color\":\"#3f3f3f\",\"size\":5},\"mode\":\"lines+markers\",\"name\":\"Original\",\"showlegend\":true,\"x\":[\"2021-07-08T00:00:00\",\"2021-07-09T00:00:00\",\"2021-07-10T00:00:00\",\"2021-07-11T00:00:00\",\"2021-07-12T00:00:00\",\"2021-07-13T00:00:00\",\"2021-07-14T00:00:00\",\"2021-07-15T00:00:00\",\"2021-07-16T00:00:00\",\"2021-07-17T00:00:00\",\"2021-07-18T00:00:00\",\"2021-07-19T00:00:00\",\"2021-07-20T00:00:00\",\"2021-07-21T00:00:00\",\"2021-07-22T00:00:00\",\"2021-07-23T00:00:00\",\"2021-07-24T00:00:00\",\"2021-07-25T00:00:00\",\"2021-07-26T00:00:00\",\"2021-07-27T00:00:00\",\"2021-07-28T00:00:00\",\"2021-07-29T00:00:00\",\"2021-07-30T00:00:00\",\"2021-07-31T00:00:00\",\"2021-08-01T00:00:00\",\"2021-08-02T00:00:00\",\"2021-08-03T00:00:00\",\"2021-08-04T00:00:00\",\"2021-08-05T00:00:00\",\"2021-08-06T00:00:00\",\"2021-08-07T00:00:00\",\"2021-08-08T00:00:00\",\"2021-08-09T00:00:00\",\"2021-08-10T00:00:00\",\"2021-08-11T00:00:00\",\"2021-08-12T00:00:00\",\"2021-08-13T00:00:00\",\"2021-08-14T00:00:00\",\"2021-08-15T00:00:00\",\"2021-08-16T00:00:00\",\"2021-08-17T00:00:00\",\"2021-08-18T00:00:00\",\"2021-08-19T00:00:00\",\"2021-08-20T00:00:00\",\"2021-08-21T00:00:00\",\"2021-08-22T00:00:00\",\"2021-08-23T00:00:00\",\"2021-08-24T00:00:00\",\"2021-08-25T00:00:00\",\"2021-08-26T00:00:00\",\"2021-08-27T00:00:00\",\"2021-08-28T00:00:00\",\"2021-08-29T00:00:00\",\"2021-08-30T00:00:00\",\"2021-08-31T00:00:00\",\"2021-09-01T00:00:00\",\"2021-09-02T00:00:00\",\"2021-09-03T00:00:00\",\"2021-09-04T00:00:00\",\"2021-09-05T00:00:00\",\"2021-09-06T00:00:00\",\"2021-09-07T00:00:00\",\"2021-09-08T00:00:00\",\"2021-09-09T00:00:00\",\"2021-09-10T00:00:00\",\"2021-09-11T00:00:00\",\"2021-09-12T00:00:00\",\"2021-09-13T00:00:00\",\"2021-09-14T00:00:00\",\"2021-09-15T00:00:00\",\"2021-09-16T00:00:00\",\"2021-09-17T00:00:00\",\"2021-09-18T00:00:00\",\"2021-09-19T00:00:00\",\"2021-09-20T00:00:00\",\"2021-09-21T00:00:00\",\"2021-09-22T00:00:00\",\"2021-09-23T00:00:00\",\"2021-09-24T00:00:00\",\"2021-09-25T00:00:00\",\"2021-09-26T00:00:00\",\"2021-09-27T00:00:00\",\"2021-09-28T00:00:00\",\"2021-09-29T00:00:00\",\"2021-09-30T00:00:00\",\"2021-10-01T00:00:00\",\"2021-10-02T00:00:00\",\"2021-10-03T00:00:00\",\"2021-10-04T00:00:00\",\"2021-10-05T00:00:00\"],\"y\":[3773,3172,2079,2725,4542,3795,3941,4064,3474,2093,2426,4339,4064,4224,4603,4369,2532,3276,4917,4430,4977,5193,4001,1996,2538,4764,5651,5777,4789,3782,1920,2526,4481,6034,5006,4450,3112,1914,2359,3948,5727,6365,6323,5151,1947,3128,7999,7104,6457,6643,5355,2341,2367,5592,6770,6877,7272,6279,2741,2483,5456,6082,6139,5865,6362,3132,2681,5788,7001,6721,7556,7278,4026,3514,6476,7863,8418,8290,7189,3567,4088,7418,8765,7798,9212,7115,3903,5038,7843,8872],\"type\":\"scatter\"}],                        {\"title\":{\"text\":\"Actual vs. 'Out-of-Sample' Forecast | Total\"},\"xaxis\":{\"title\":{\"text\":\"Time\"}},\"yaxis\":{\"title\":{\"text\":\"Values\"}},\"template\":{\"data\":{\"barpolar\":[{\"marker\":{\"line\":{\"color\":\"rgb(237,237,237)\",\"width\":0.5},\"pattern\":{\"fillmode\":\"overlay\",\"size\":10,\"solidity\":0.2}},\"type\":\"barpolar\"}],\"bar\":[{\"error_x\":{\"color\":\"rgb(51,51,51)\"},\"error_y\":{\"color\":\"rgb(51,51,51)\"},\"marker\":{\"line\":{\"color\":\"rgb(237,237,237)\",\"width\":0.5},\"pattern\":{\"fillmode\":\"overlay\",\"size\":10,\"solidity\":0.2}},\"type\":\"bar\"}],\"carpet\":[{\"aaxis\":{\"endlinecolor\":\"rgb(51,51,51)\",\"gridcolor\":\"white\",\"linecolor\":\"white\",\"minorgridcolor\":\"white\",\"startlinecolor\":\"rgb(51,51,51)\"},\"baxis\":{\"endlinecolor\":\"rgb(51,51,51)\",\"gridcolor\":\"white\",\"linecolor\":\"white\",\"minorgridcolor\":\"white\",\"startlinecolor\":\"rgb(51,51,51)\"},\"type\":\"carpet\"}],\"choropleth\":[{\"colorbar\":{\"outlinewidth\":0,\"tickcolor\":\"rgb(237,237,237)\",\"ticklen\":6,\"ticks\":\"inside\"},\"type\":\"choropleth\"}],\"contourcarpet\":[{\"colorbar\":{\"outlinewidth\":0,\"tickcolor\":\"rgb(237,237,237)\",\"ticklen\":6,\"ticks\":\"inside\"},\"type\":\"contourcarpet\"}],\"contour\":[{\"colorbar\":{\"outlinewidth\":0,\"tickcolor\":\"rgb(237,237,237)\",\"ticklen\":6,\"ticks\":\"inside\"},\"colorscale\":[[0,\"rgb(20,44,66)\"],[1,\"rgb(90,179,244)\"]],\"type\":\"contour\"}],\"heatmapgl\":[{\"colorbar\":{\"outlinewidth\":0,\"tickcolor\":\"rgb(237,237,237)\",\"ticklen\":6,\"ticks\":\"inside\"},\"colorscale\":[[0,\"rgb(20,44,66)\"],[1,\"rgb(90,179,244)\"]],\"type\":\"heatmapgl\"}],\"heatmap\":[{\"colorbar\":{\"outlinewidth\":0,\"tickcolor\":\"rgb(237,237,237)\",\"ticklen\":6,\"ticks\":\"inside\"},\"colorscale\":[[0,\"rgb(20,44,66)\"],[1,\"rgb(90,179,244)\"]],\"type\":\"heatmap\"}],\"histogram2dcontour\":[{\"colorbar\":{\"outlinewidth\":0,\"tickcolor\":\"rgb(237,237,237)\",\"ticklen\":6,\"ticks\":\"inside\"},\"colorscale\":[[0,\"rgb(20,44,66)\"],[1,\"rgb(90,179,244)\"]],\"type\":\"histogram2dcontour\"}],\"histogram2d\":[{\"colorbar\":{\"outlinewidth\":0,\"tickcolor\":\"rgb(237,237,237)\",\"ticklen\":6,\"ticks\":\"inside\"},\"colorscale\":[[0,\"rgb(20,44,66)\"],[1,\"rgb(90,179,244)\"]],\"type\":\"histogram2d\"}],\"histogram\":[{\"marker\":{\"pattern\":{\"fillmode\":\"overlay\",\"size\":10,\"solidity\":0.2}},\"type\":\"histogram\"}],\"mesh3d\":[{\"colorbar\":{\"outlinewidth\":0,\"tickcolor\":\"rgb(237,237,237)\",\"ticklen\":6,\"ticks\":\"inside\"},\"type\":\"mesh3d\"}],\"parcoords\":[{\"line\":{\"colorbar\":{\"outlinewidth\":0,\"tickcolor\":\"rgb(237,237,237)\",\"ticklen\":6,\"ticks\":\"inside\"}},\"type\":\"parcoords\"}],\"pie\":[{\"automargin\":true,\"type\":\"pie\"}],\"scatter3d\":[{\"line\":{\"colorbar\":{\"outlinewidth\":0,\"tickcolor\":\"rgb(237,237,237)\",\"ticklen\":6,\"ticks\":\"inside\"}},\"marker\":{\"colorbar\":{\"outlinewidth\":0,\"tickcolor\":\"rgb(237,237,237)\",\"ticklen\":6,\"ticks\":\"inside\"}},\"type\":\"scatter3d\"}],\"scattercarpet\":[{\"marker\":{\"colorbar\":{\"outlinewidth\":0,\"tickcolor\":\"rgb(237,237,237)\",\"ticklen\":6,\"ticks\":\"inside\"}},\"type\":\"scattercarpet\"}],\"scattergeo\":[{\"marker\":{\"colorbar\":{\"outlinewidth\":0,\"tickcolor\":\"rgb(237,237,237)\",\"ticklen\":6,\"ticks\":\"inside\"}},\"type\":\"scattergeo\"}],\"scattergl\":[{\"marker\":{\"colorbar\":{\"outlinewidth\":0,\"tickcolor\":\"rgb(237,237,237)\",\"ticklen\":6,\"ticks\":\"inside\"}},\"type\":\"scattergl\"}],\"scattermapbox\":[{\"marker\":{\"colorbar\":{\"outlinewidth\":0,\"tickcolor\":\"rgb(237,237,237)\",\"ticklen\":6,\"ticks\":\"inside\"}},\"type\":\"scattermapbox\"}],\"scatterpolargl\":[{\"marker\":{\"colorbar\":{\"outlinewidth\":0,\"tickcolor\":\"rgb(237,237,237)\",\"ticklen\":6,\"ticks\":\"inside\"}},\"type\":\"scatterpolargl\"}],\"scatterpolar\":[{\"marker\":{\"colorbar\":{\"outlinewidth\":0,\"tickcolor\":\"rgb(237,237,237)\",\"ticklen\":6,\"ticks\":\"inside\"}},\"type\":\"scatterpolar\"}],\"scatter\":[{\"marker\":{\"colorbar\":{\"outlinewidth\":0,\"tickcolor\":\"rgb(237,237,237)\",\"ticklen\":6,\"ticks\":\"inside\"}},\"type\":\"scatter\"}],\"scatterternary\":[{\"marker\":{\"colorbar\":{\"outlinewidth\":0,\"tickcolor\":\"rgb(237,237,237)\",\"ticklen\":6,\"ticks\":\"inside\"}},\"type\":\"scatterternary\"}],\"surface\":[{\"colorbar\":{\"outlinewidth\":0,\"tickcolor\":\"rgb(237,237,237)\",\"ticklen\":6,\"ticks\":\"inside\"},\"colorscale\":[[0,\"rgb(20,44,66)\"],[1,\"rgb(90,179,244)\"]],\"type\":\"surface\"}],\"table\":[{\"cells\":{\"fill\":{\"color\":\"rgb(237,237,237)\"},\"line\":{\"color\":\"white\"}},\"header\":{\"fill\":{\"color\":\"rgb(217,217,217)\"},\"line\":{\"color\":\"white\"}},\"type\":\"table\"}]},\"layout\":{\"annotationdefaults\":{\"arrowhead\":0,\"arrowwidth\":1},\"autotypenumbers\":\"strict\",\"coloraxis\":{\"colorbar\":{\"outlinewidth\":0,\"tickcolor\":\"rgb(237,237,237)\",\"ticklen\":6,\"ticks\":\"inside\"}},\"colorscale\":{\"sequential\":[[0,\"rgb(20,44,66)\"],[1,\"rgb(90,179,244)\"]],\"sequentialminus\":[[0,\"rgb(20,44,66)\"],[1,\"rgb(90,179,244)\"]]},\"colorway\":[\"#F8766D\",\"#A3A500\",\"#00BF7D\",\"#00B0F6\",\"#E76BF3\"],\"font\":{\"color\":\"rgb(51,51,51)\"},\"geo\":{\"bgcolor\":\"white\",\"lakecolor\":\"white\",\"landcolor\":\"rgb(237,237,237)\",\"showlakes\":true,\"showland\":true,\"subunitcolor\":\"white\"},\"hoverlabel\":{\"align\":\"left\"},\"hovermode\":\"closest\",\"paper_bgcolor\":\"white\",\"plot_bgcolor\":\"rgb(237,237,237)\",\"polar\":{\"angularaxis\":{\"gridcolor\":\"white\",\"linecolor\":\"white\",\"showgrid\":true,\"tickcolor\":\"rgb(51,51,51)\",\"ticks\":\"outside\"},\"bgcolor\":\"rgb(237,237,237)\",\"radialaxis\":{\"gridcolor\":\"white\",\"linecolor\":\"white\",\"showgrid\":true,\"tickcolor\":\"rgb(51,51,51)\",\"ticks\":\"outside\"}},\"scene\":{\"xaxis\":{\"backgroundcolor\":\"rgb(237,237,237)\",\"gridcolor\":\"white\",\"gridwidth\":2,\"linecolor\":\"white\",\"showbackground\":true,\"showgrid\":true,\"tickcolor\":\"rgb(51,51,51)\",\"ticks\":\"outside\",\"zerolinecolor\":\"white\"},\"yaxis\":{\"backgroundcolor\":\"rgb(237,237,237)\",\"gridcolor\":\"white\",\"gridwidth\":2,\"linecolor\":\"white\",\"showbackground\":true,\"showgrid\":true,\"tickcolor\":\"rgb(51,51,51)\",\"ticks\":\"outside\",\"zerolinecolor\":\"white\"},\"zaxis\":{\"backgroundcolor\":\"rgb(237,237,237)\",\"gridcolor\":\"white\",\"gridwidth\":2,\"linecolor\":\"white\",\"showbackground\":true,\"showgrid\":true,\"tickcolor\":\"rgb(51,51,51)\",\"ticks\":\"outside\",\"zerolinecolor\":\"white\"}},\"shapedefaults\":{\"fillcolor\":\"black\",\"line\":{\"width\":0},\"opacity\":0.3},\"ternary\":{\"aaxis\":{\"gridcolor\":\"white\",\"linecolor\":\"white\",\"showgrid\":true,\"tickcolor\":\"rgb(51,51,51)\",\"ticks\":\"outside\"},\"baxis\":{\"gridcolor\":\"white\",\"linecolor\":\"white\",\"showgrid\":true,\"tickcolor\":\"rgb(51,51,51)\",\"ticks\":\"outside\"},\"bgcolor\":\"rgb(237,237,237)\",\"caxis\":{\"gridcolor\":\"white\",\"linecolor\":\"white\",\"showgrid\":true,\"tickcolor\":\"rgb(51,51,51)\",\"ticks\":\"outside\"}},\"xaxis\":{\"automargin\":true,\"gridcolor\":\"white\",\"linecolor\":\"white\",\"showgrid\":true,\"tickcolor\":\"rgb(51,51,51)\",\"ticks\":\"outside\",\"title\":{\"standoff\":15},\"zerolinecolor\":\"white\"},\"yaxis\":{\"automargin\":true,\"gridcolor\":\"white\",\"linecolor\":\"white\",\"showgrid\":true,\"tickcolor\":\"rgb(51,51,51)\",\"ticks\":\"outside\",\"title\":{\"standoff\":15},\"zerolinecolor\":\"white\"}}},\"showlegend\":true},                        {\"responsive\": true}                    ).then(function(){\n",
              "                            \n",
              "var gd = document.getElementById('4ba069f9-be6f-4071-a908-9adaca258f1a');\n",
              "var x = new MutationObserver(function (mutations, observer) {{\n",
              "        var display = window.getComputedStyle(gd).display;\n",
              "        if (!display || display === 'none') {{\n",
              "            console.log([gd, 'removed!']);\n",
              "            Plotly.purge(gd);\n",
              "            observer.disconnect();\n",
              "        }}\n",
              "}});\n",
              "\n",
              "// Listen for the removal of the full notebook cells\n",
              "var notebookContainer = gd.closest('#notebook-container');\n",
              "if (notebookContainer) {{\n",
              "    x.observe(notebookContainer, {childList: true});\n",
              "}}\n",
              "\n",
              "// Listen for the clearing of the current output cell\n",
              "var outputEl = gd.closest('.output');\n",
              "if (outputEl) {{\n",
              "    x.observe(outputEl, {childList: true});\n",
              "}}\n",
              "\n",
              "                        })                };                            </script>        </div>\n",
              "</body>\n",
              "</html>"
            ]
          },
          "metadata": {}
        }
      ]
    },
    {
      "cell_type": "code",
      "source": [
        "# Best Model Plotting\n",
        "exp.plot_model(best, plot = 'forecast')"
      ],
      "metadata": {
        "colab": {
          "base_uri": "https://localhost:8080/",
          "height": 542
        },
        "id": "g_sJxApJnzVP",
        "outputId": "de008cf8-f755-4210-81f0-bc8bd51b56c1"
      },
      "execution_count": 17,
      "outputs": [
        {
          "output_type": "display_data",
          "data": {
            "text/html": [
              "<html>\n",
              "<head><meta charset=\"utf-8\" /></head>\n",
              "<body>\n",
              "    <div>            <script src=\"https://cdnjs.cloudflare.com/ajax/libs/mathjax/2.7.5/MathJax.js?config=TeX-AMS-MML_SVG\"></script><script type=\"text/javascript\">if (window.MathJax) {MathJax.Hub.Config({SVG: {font: \"STIX-Web\"}});}</script>                <script type=\"text/javascript\">window.PlotlyConfig = {MathJaxConfig: 'local'};</script>\n",
              "        <script src=\"https://cdn.plot.ly/plotly-2.6.3.min.js\"></script>                <div id=\"6ff15aec-c58f-424c-b0f4-365b399bcd70\" class=\"plotly-graph-div\" style=\"height:525px; width:100%;\"></div>            <script type=\"text/javascript\">                                    window.PLOTLYENV=window.PLOTLYENV || {};                                    if (document.getElementById(\"6ff15aec-c58f-424c-b0f4-365b399bcd70\")) {                    Plotly.newPlot(                        \"6ff15aec-c58f-424c-b0f4-365b399bcd70\",                        [{\"line\":{\"color\":\"#1f77b4\"},\"marker\":{\"size\":5},\"mode\":\"lines+markers\",\"name\":\"Forecast | Auto ARIMA\",\"showlegend\":true,\"x\":[\"2021-09-29T00:00:00\",\"2021-09-30T00:00:00\",\"2021-10-01T00:00:00\",\"2021-10-02T00:00:00\",\"2021-10-03T00:00:00\",\"2021-10-04T00:00:00\",\"2021-10-05T00:00:00\"],\"y\":[8492.9932,8240.3275,7557.4273,4171.1321,4243.0992,7415.8715,8645.951],\"type\":\"scatter\"},{\"line\":{\"width\":0},\"marker\":{\"color\":\"#68BBE3\"},\"mode\":\"lines\",\"name\":\"Lower Interval\",\"showlegend\":false,\"x\":[\"2021-09-29T00:00:00\",\"2021-09-30T00:00:00\",\"2021-10-01T00:00:00\",\"2021-10-02T00:00:00\",\"2021-10-03T00:00:00\",\"2021-10-04T00:00:00\",\"2021-10-05T00:00:00\"],\"y\":[7268.5073,6824.4993,6141.5991,2755.3038,2827.271,6000.0432,7230.1228],\"type\":\"scatter\"},{\"fill\":\"tonexty\",\"fillcolor\":\"rgba(104,187,227,0.5)\",\"line\":{\"width\":0},\"marker\":{\"color\":\"#68BBE3\"},\"mode\":\"lines\",\"name\":\"Prediction Interval | Auto ARIMA\",\"showlegend\":true,\"x\":[\"2021-09-29T00:00:00\",\"2021-09-30T00:00:00\",\"2021-10-01T00:00:00\",\"2021-10-02T00:00:00\",\"2021-10-03T00:00:00\",\"2021-10-04T00:00:00\",\"2021-10-05T00:00:00\"],\"y\":[9717.4791,9656.1558,8973.2556,5586.9603,5658.9275,8831.6997,10061.7793],\"type\":\"scatter\"},{\"marker\":{\"color\":\"#3f3f3f\",\"size\":5},\"mode\":\"lines+markers\",\"name\":\"Original\",\"showlegend\":true,\"x\":[\"2021-07-08T00:00:00\",\"2021-07-09T00:00:00\",\"2021-07-10T00:00:00\",\"2021-07-11T00:00:00\",\"2021-07-12T00:00:00\",\"2021-07-13T00:00:00\",\"2021-07-14T00:00:00\",\"2021-07-15T00:00:00\",\"2021-07-16T00:00:00\",\"2021-07-17T00:00:00\",\"2021-07-18T00:00:00\",\"2021-07-19T00:00:00\",\"2021-07-20T00:00:00\",\"2021-07-21T00:00:00\",\"2021-07-22T00:00:00\",\"2021-07-23T00:00:00\",\"2021-07-24T00:00:00\",\"2021-07-25T00:00:00\",\"2021-07-26T00:00:00\",\"2021-07-27T00:00:00\",\"2021-07-28T00:00:00\",\"2021-07-29T00:00:00\",\"2021-07-30T00:00:00\",\"2021-07-31T00:00:00\",\"2021-08-01T00:00:00\",\"2021-08-02T00:00:00\",\"2021-08-03T00:00:00\",\"2021-08-04T00:00:00\",\"2021-08-05T00:00:00\",\"2021-08-06T00:00:00\",\"2021-08-07T00:00:00\",\"2021-08-08T00:00:00\",\"2021-08-09T00:00:00\",\"2021-08-10T00:00:00\",\"2021-08-11T00:00:00\",\"2021-08-12T00:00:00\",\"2021-08-13T00:00:00\",\"2021-08-14T00:00:00\",\"2021-08-15T00:00:00\",\"2021-08-16T00:00:00\",\"2021-08-17T00:00:00\",\"2021-08-18T00:00:00\",\"2021-08-19T00:00:00\",\"2021-08-20T00:00:00\",\"2021-08-21T00:00:00\",\"2021-08-22T00:00:00\",\"2021-08-23T00:00:00\",\"2021-08-24T00:00:00\",\"2021-08-25T00:00:00\",\"2021-08-26T00:00:00\",\"2021-08-27T00:00:00\",\"2021-08-28T00:00:00\",\"2021-08-29T00:00:00\",\"2021-08-30T00:00:00\",\"2021-08-31T00:00:00\",\"2021-09-01T00:00:00\",\"2021-09-02T00:00:00\",\"2021-09-03T00:00:00\",\"2021-09-04T00:00:00\",\"2021-09-05T00:00:00\",\"2021-09-06T00:00:00\",\"2021-09-07T00:00:00\",\"2021-09-08T00:00:00\",\"2021-09-09T00:00:00\",\"2021-09-10T00:00:00\",\"2021-09-11T00:00:00\",\"2021-09-12T00:00:00\",\"2021-09-13T00:00:00\",\"2021-09-14T00:00:00\",\"2021-09-15T00:00:00\",\"2021-09-16T00:00:00\",\"2021-09-17T00:00:00\",\"2021-09-18T00:00:00\",\"2021-09-19T00:00:00\",\"2021-09-20T00:00:00\",\"2021-09-21T00:00:00\",\"2021-09-22T00:00:00\",\"2021-09-23T00:00:00\",\"2021-09-24T00:00:00\",\"2021-09-25T00:00:00\",\"2021-09-26T00:00:00\",\"2021-09-27T00:00:00\",\"2021-09-28T00:00:00\",\"2021-09-29T00:00:00\",\"2021-09-30T00:00:00\",\"2021-10-01T00:00:00\",\"2021-10-02T00:00:00\",\"2021-10-03T00:00:00\",\"2021-10-04T00:00:00\",\"2021-10-05T00:00:00\"],\"y\":[3773,3172,2079,2725,4542,3795,3941,4064,3474,2093,2426,4339,4064,4224,4603,4369,2532,3276,4917,4430,4977,5193,4001,1996,2538,4764,5651,5777,4789,3782,1920,2526,4481,6034,5006,4450,3112,1914,2359,3948,5727,6365,6323,5151,1947,3128,7999,7104,6457,6643,5355,2341,2367,5592,6770,6877,7272,6279,2741,2483,5456,6082,6139,5865,6362,3132,2681,5788,7001,6721,7556,7278,4026,3514,6476,7863,8418,8290,7189,3567,4088,7418,8765,7798,9212,7115,3903,5038,7843,8872],\"type\":\"scatter\"}],                        {\"title\":{\"text\":\"Actual vs. 'Out-of-Sample' Forecast | Total\"},\"xaxis\":{\"title\":{\"text\":\"Time\"}},\"yaxis\":{\"title\":{\"text\":\"Values\"}},\"template\":{\"data\":{\"barpolar\":[{\"marker\":{\"line\":{\"color\":\"rgb(237,237,237)\",\"width\":0.5},\"pattern\":{\"fillmode\":\"overlay\",\"size\":10,\"solidity\":0.2}},\"type\":\"barpolar\"}],\"bar\":[{\"error_x\":{\"color\":\"rgb(51,51,51)\"},\"error_y\":{\"color\":\"rgb(51,51,51)\"},\"marker\":{\"line\":{\"color\":\"rgb(237,237,237)\",\"width\":0.5},\"pattern\":{\"fillmode\":\"overlay\",\"size\":10,\"solidity\":0.2}},\"type\":\"bar\"}],\"carpet\":[{\"aaxis\":{\"endlinecolor\":\"rgb(51,51,51)\",\"gridcolor\":\"white\",\"linecolor\":\"white\",\"minorgridcolor\":\"white\",\"startlinecolor\":\"rgb(51,51,51)\"},\"baxis\":{\"endlinecolor\":\"rgb(51,51,51)\",\"gridcolor\":\"white\",\"linecolor\":\"white\",\"minorgridcolor\":\"white\",\"startlinecolor\":\"rgb(51,51,51)\"},\"type\":\"carpet\"}],\"choropleth\":[{\"colorbar\":{\"outlinewidth\":0,\"tickcolor\":\"rgb(237,237,237)\",\"ticklen\":6,\"ticks\":\"inside\"},\"type\":\"choropleth\"}],\"contourcarpet\":[{\"colorbar\":{\"outlinewidth\":0,\"tickcolor\":\"rgb(237,237,237)\",\"ticklen\":6,\"ticks\":\"inside\"},\"type\":\"contourcarpet\"}],\"contour\":[{\"colorbar\":{\"outlinewidth\":0,\"tickcolor\":\"rgb(237,237,237)\",\"ticklen\":6,\"ticks\":\"inside\"},\"colorscale\":[[0,\"rgb(20,44,66)\"],[1,\"rgb(90,179,244)\"]],\"type\":\"contour\"}],\"heatmapgl\":[{\"colorbar\":{\"outlinewidth\":0,\"tickcolor\":\"rgb(237,237,237)\",\"ticklen\":6,\"ticks\":\"inside\"},\"colorscale\":[[0,\"rgb(20,44,66)\"],[1,\"rgb(90,179,244)\"]],\"type\":\"heatmapgl\"}],\"heatmap\":[{\"colorbar\":{\"outlinewidth\":0,\"tickcolor\":\"rgb(237,237,237)\",\"ticklen\":6,\"ticks\":\"inside\"},\"colorscale\":[[0,\"rgb(20,44,66)\"],[1,\"rgb(90,179,244)\"]],\"type\":\"heatmap\"}],\"histogram2dcontour\":[{\"colorbar\":{\"outlinewidth\":0,\"tickcolor\":\"rgb(237,237,237)\",\"ticklen\":6,\"ticks\":\"inside\"},\"colorscale\":[[0,\"rgb(20,44,66)\"],[1,\"rgb(90,179,244)\"]],\"type\":\"histogram2dcontour\"}],\"histogram2d\":[{\"colorbar\":{\"outlinewidth\":0,\"tickcolor\":\"rgb(237,237,237)\",\"ticklen\":6,\"ticks\":\"inside\"},\"colorscale\":[[0,\"rgb(20,44,66)\"],[1,\"rgb(90,179,244)\"]],\"type\":\"histogram2d\"}],\"histogram\":[{\"marker\":{\"pattern\":{\"fillmode\":\"overlay\",\"size\":10,\"solidity\":0.2}},\"type\":\"histogram\"}],\"mesh3d\":[{\"colorbar\":{\"outlinewidth\":0,\"tickcolor\":\"rgb(237,237,237)\",\"ticklen\":6,\"ticks\":\"inside\"},\"type\":\"mesh3d\"}],\"parcoords\":[{\"line\":{\"colorbar\":{\"outlinewidth\":0,\"tickcolor\":\"rgb(237,237,237)\",\"ticklen\":6,\"ticks\":\"inside\"}},\"type\":\"parcoords\"}],\"pie\":[{\"automargin\":true,\"type\":\"pie\"}],\"scatter3d\":[{\"line\":{\"colorbar\":{\"outlinewidth\":0,\"tickcolor\":\"rgb(237,237,237)\",\"ticklen\":6,\"ticks\":\"inside\"}},\"marker\":{\"colorbar\":{\"outlinewidth\":0,\"tickcolor\":\"rgb(237,237,237)\",\"ticklen\":6,\"ticks\":\"inside\"}},\"type\":\"scatter3d\"}],\"scattercarpet\":[{\"marker\":{\"colorbar\":{\"outlinewidth\":0,\"tickcolor\":\"rgb(237,237,237)\",\"ticklen\":6,\"ticks\":\"inside\"}},\"type\":\"scattercarpet\"}],\"scattergeo\":[{\"marker\":{\"colorbar\":{\"outlinewidth\":0,\"tickcolor\":\"rgb(237,237,237)\",\"ticklen\":6,\"ticks\":\"inside\"}},\"type\":\"scattergeo\"}],\"scattergl\":[{\"marker\":{\"colorbar\":{\"outlinewidth\":0,\"tickcolor\":\"rgb(237,237,237)\",\"ticklen\":6,\"ticks\":\"inside\"}},\"type\":\"scattergl\"}],\"scattermapbox\":[{\"marker\":{\"colorbar\":{\"outlinewidth\":0,\"tickcolor\":\"rgb(237,237,237)\",\"ticklen\":6,\"ticks\":\"inside\"}},\"type\":\"scattermapbox\"}],\"scatterpolargl\":[{\"marker\":{\"colorbar\":{\"outlinewidth\":0,\"tickcolor\":\"rgb(237,237,237)\",\"ticklen\":6,\"ticks\":\"inside\"}},\"type\":\"scatterpolargl\"}],\"scatterpolar\":[{\"marker\":{\"colorbar\":{\"outlinewidth\":0,\"tickcolor\":\"rgb(237,237,237)\",\"ticklen\":6,\"ticks\":\"inside\"}},\"type\":\"scatterpolar\"}],\"scatter\":[{\"marker\":{\"colorbar\":{\"outlinewidth\":0,\"tickcolor\":\"rgb(237,237,237)\",\"ticklen\":6,\"ticks\":\"inside\"}},\"type\":\"scatter\"}],\"scatterternary\":[{\"marker\":{\"colorbar\":{\"outlinewidth\":0,\"tickcolor\":\"rgb(237,237,237)\",\"ticklen\":6,\"ticks\":\"inside\"}},\"type\":\"scatterternary\"}],\"surface\":[{\"colorbar\":{\"outlinewidth\":0,\"tickcolor\":\"rgb(237,237,237)\",\"ticklen\":6,\"ticks\":\"inside\"},\"colorscale\":[[0,\"rgb(20,44,66)\"],[1,\"rgb(90,179,244)\"]],\"type\":\"surface\"}],\"table\":[{\"cells\":{\"fill\":{\"color\":\"rgb(237,237,237)\"},\"line\":{\"color\":\"white\"}},\"header\":{\"fill\":{\"color\":\"rgb(217,217,217)\"},\"line\":{\"color\":\"white\"}},\"type\":\"table\"}]},\"layout\":{\"annotationdefaults\":{\"arrowhead\":0,\"arrowwidth\":1},\"autotypenumbers\":\"strict\",\"coloraxis\":{\"colorbar\":{\"outlinewidth\":0,\"tickcolor\":\"rgb(237,237,237)\",\"ticklen\":6,\"ticks\":\"inside\"}},\"colorscale\":{\"sequential\":[[0,\"rgb(20,44,66)\"],[1,\"rgb(90,179,244)\"]],\"sequentialminus\":[[0,\"rgb(20,44,66)\"],[1,\"rgb(90,179,244)\"]]},\"colorway\":[\"#F8766D\",\"#A3A500\",\"#00BF7D\",\"#00B0F6\",\"#E76BF3\"],\"font\":{\"color\":\"rgb(51,51,51)\"},\"geo\":{\"bgcolor\":\"white\",\"lakecolor\":\"white\",\"landcolor\":\"rgb(237,237,237)\",\"showlakes\":true,\"showland\":true,\"subunitcolor\":\"white\"},\"hoverlabel\":{\"align\":\"left\"},\"hovermode\":\"closest\",\"paper_bgcolor\":\"white\",\"plot_bgcolor\":\"rgb(237,237,237)\",\"polar\":{\"angularaxis\":{\"gridcolor\":\"white\",\"linecolor\":\"white\",\"showgrid\":true,\"tickcolor\":\"rgb(51,51,51)\",\"ticks\":\"outside\"},\"bgcolor\":\"rgb(237,237,237)\",\"radialaxis\":{\"gridcolor\":\"white\",\"linecolor\":\"white\",\"showgrid\":true,\"tickcolor\":\"rgb(51,51,51)\",\"ticks\":\"outside\"}},\"scene\":{\"xaxis\":{\"backgroundcolor\":\"rgb(237,237,237)\",\"gridcolor\":\"white\",\"gridwidth\":2,\"linecolor\":\"white\",\"showbackground\":true,\"showgrid\":true,\"tickcolor\":\"rgb(51,51,51)\",\"ticks\":\"outside\",\"zerolinecolor\":\"white\"},\"yaxis\":{\"backgroundcolor\":\"rgb(237,237,237)\",\"gridcolor\":\"white\",\"gridwidth\":2,\"linecolor\":\"white\",\"showbackground\":true,\"showgrid\":true,\"tickcolor\":\"rgb(51,51,51)\",\"ticks\":\"outside\",\"zerolinecolor\":\"white\"},\"zaxis\":{\"backgroundcolor\":\"rgb(237,237,237)\",\"gridcolor\":\"white\",\"gridwidth\":2,\"linecolor\":\"white\",\"showbackground\":true,\"showgrid\":true,\"tickcolor\":\"rgb(51,51,51)\",\"ticks\":\"outside\",\"zerolinecolor\":\"white\"}},\"shapedefaults\":{\"fillcolor\":\"black\",\"line\":{\"width\":0},\"opacity\":0.3},\"ternary\":{\"aaxis\":{\"gridcolor\":\"white\",\"linecolor\":\"white\",\"showgrid\":true,\"tickcolor\":\"rgb(51,51,51)\",\"ticks\":\"outside\"},\"baxis\":{\"gridcolor\":\"white\",\"linecolor\":\"white\",\"showgrid\":true,\"tickcolor\":\"rgb(51,51,51)\",\"ticks\":\"outside\"},\"bgcolor\":\"rgb(237,237,237)\",\"caxis\":{\"gridcolor\":\"white\",\"linecolor\":\"white\",\"showgrid\":true,\"tickcolor\":\"rgb(51,51,51)\",\"ticks\":\"outside\"}},\"xaxis\":{\"automargin\":true,\"gridcolor\":\"white\",\"linecolor\":\"white\",\"showgrid\":true,\"tickcolor\":\"rgb(51,51,51)\",\"ticks\":\"outside\",\"title\":{\"standoff\":15},\"zerolinecolor\":\"white\"},\"yaxis\":{\"automargin\":true,\"gridcolor\":\"white\",\"linecolor\":\"white\",\"showgrid\":true,\"tickcolor\":\"rgb(51,51,51)\",\"ticks\":\"outside\",\"title\":{\"standoff\":15},\"zerolinecolor\":\"white\"}}},\"showlegend\":true},                        {\"responsive\": true}                    ).then(function(){\n",
              "                            \n",
              "var gd = document.getElementById('6ff15aec-c58f-424c-b0f4-365b399bcd70');\n",
              "var x = new MutationObserver(function (mutations, observer) {{\n",
              "        var display = window.getComputedStyle(gd).display;\n",
              "        if (!display || display === 'none') {{\n",
              "            console.log([gd, 'removed!']);\n",
              "            Plotly.purge(gd);\n",
              "            observer.disconnect();\n",
              "        }}\n",
              "}});\n",
              "\n",
              "// Listen for the removal of the full notebook cells\n",
              "var notebookContainer = gd.closest('#notebook-container');\n",
              "if (notebookContainer) {{\n",
              "    x.observe(notebookContainer, {childList: true});\n",
              "}}\n",
              "\n",
              "// Listen for the clearing of the current output cell\n",
              "var outputEl = gd.closest('.output');\n",
              "if (outputEl) {{\n",
              "    x.observe(outputEl, {childList: true});\n",
              "}}\n",
              "\n",
              "                        })                };                            </script>        </div>\n",
              "</body>\n",
              "</html>"
            ]
          },
          "metadata": {}
        }
      ]
    },
    {
      "cell_type": "code",
      "source": [
        "# forecast in unknown future\n",
        "exp.plot_model(best, plot = 'forecast', data_kwargs = {'fh' : 30})"
      ],
      "metadata": {
        "colab": {
          "base_uri": "https://localhost:8080/",
          "height": 542
        },
        "id": "pOAKileloSYb",
        "outputId": "4465b375-fef5-4919-f9f1-87d50f9c6ffa"
      },
      "execution_count": 18,
      "outputs": [
        {
          "output_type": "display_data",
          "data": {
            "text/html": [
              "<html>\n",
              "<head><meta charset=\"utf-8\" /></head>\n",
              "<body>\n",
              "    <div>            <script src=\"https://cdnjs.cloudflare.com/ajax/libs/mathjax/2.7.5/MathJax.js?config=TeX-AMS-MML_SVG\"></script><script type=\"text/javascript\">if (window.MathJax) {MathJax.Hub.Config({SVG: {font: \"STIX-Web\"}});}</script>                <script type=\"text/javascript\">window.PlotlyConfig = {MathJaxConfig: 'local'};</script>\n",
              "        <script src=\"https://cdn.plot.ly/plotly-2.6.3.min.js\"></script>                <div id=\"85abeeb0-0ff3-4380-b2b5-5c3a619c1429\" class=\"plotly-graph-div\" style=\"height:525px; width:100%;\"></div>            <script type=\"text/javascript\">                                    window.PLOTLYENV=window.PLOTLYENV || {};                                    if (document.getElementById(\"85abeeb0-0ff3-4380-b2b5-5c3a619c1429\")) {                    Plotly.newPlot(                        \"85abeeb0-0ff3-4380-b2b5-5c3a619c1429\",                        [{\"line\":{\"color\":\"#1f77b4\"},\"marker\":{\"size\":5},\"mode\":\"lines+markers\",\"name\":\"Forecast | Auto ARIMA\",\"showlegend\":true,\"x\":[\"2021-09-29T00:00:00\",\"2021-09-30T00:00:00\",\"2021-10-01T00:00:00\",\"2021-10-02T00:00:00\",\"2021-10-03T00:00:00\",\"2021-10-04T00:00:00\",\"2021-10-05T00:00:00\",\"2021-10-06T00:00:00\",\"2021-10-07T00:00:00\",\"2021-10-08T00:00:00\",\"2021-10-09T00:00:00\",\"2021-10-10T00:00:00\",\"2021-10-11T00:00:00\",\"2021-10-12T00:00:00\",\"2021-10-13T00:00:00\",\"2021-10-14T00:00:00\",\"2021-10-15T00:00:00\",\"2021-10-16T00:00:00\",\"2021-10-17T00:00:00\",\"2021-10-18T00:00:00\",\"2021-10-19T00:00:00\",\"2021-10-20T00:00:00\",\"2021-10-21T00:00:00\",\"2021-10-22T00:00:00\",\"2021-10-23T00:00:00\",\"2021-10-24T00:00:00\",\"2021-10-25T00:00:00\",\"2021-10-26T00:00:00\",\"2021-10-27T00:00:00\",\"2021-10-28T00:00:00\"],\"y\":[8492.9932,8240.3275,7557.4273,4171.1321,4243.0992,7415.8715,8645.951,8618.6779,8576.3815,7893.4813,4507.186,4579.1532,7751.9254,8982.005,8954.7319,8912.4354,8229.5352,4843.2399,4915.2071,8087.9793,9318.0589,9290.7858,9248.4893,8565.5891,5179.2938,5251.261,8424.0332,9654.1128,9626.8397,9584.5432],\"type\":\"scatter\"},{\"line\":{\"width\":0},\"marker\":{\"color\":\"#68BBE3\"},\"mode\":\"lines\",\"name\":\"Lower Interval\",\"showlegend\":false,\"x\":[\"2021-09-29T00:00:00\",\"2021-09-30T00:00:00\",\"2021-10-01T00:00:00\",\"2021-10-02T00:00:00\",\"2021-10-03T00:00:00\",\"2021-10-04T00:00:00\",\"2021-10-05T00:00:00\",\"2021-10-06T00:00:00\",\"2021-10-07T00:00:00\",\"2021-10-08T00:00:00\",\"2021-10-09T00:00:00\",\"2021-10-10T00:00:00\",\"2021-10-11T00:00:00\",\"2021-10-12T00:00:00\",\"2021-10-13T00:00:00\",\"2021-10-14T00:00:00\",\"2021-10-15T00:00:00\",\"2021-10-16T00:00:00\",\"2021-10-17T00:00:00\",\"2021-10-18T00:00:00\",\"2021-10-19T00:00:00\",\"2021-10-20T00:00:00\",\"2021-10-21T00:00:00\",\"2021-10-22T00:00:00\",\"2021-10-23T00:00:00\",\"2021-10-24T00:00:00\",\"2021-10-25T00:00:00\",\"2021-10-26T00:00:00\",\"2021-10-27T00:00:00\",\"2021-10-28T00:00:00\"],\"y\":[7268.5073,6824.4993,6141.5991,2755.3038,2827.271,6000.0432,7230.1228,7095.1198,7018.2013,6335.3011,2949.0058,3020.973,6193.7452,7423.8248,7298.0529,7223.8616,6540.9614,3154.6661,3226.6333,6399.4055,7629.4851,7510.9147,7438.8934,6755.9932,3369.698,3441.6652,6614.4374,7844.5169,7731.768,7661.5266],\"type\":\"scatter\"},{\"fill\":\"tonexty\",\"fillcolor\":\"rgba(104,187,227,0.5)\",\"line\":{\"width\":0},\"marker\":{\"color\":\"#68BBE3\"},\"mode\":\"lines\",\"name\":\"Prediction Interval | Auto ARIMA\",\"showlegend\":true,\"x\":[\"2021-09-29T00:00:00\",\"2021-09-30T00:00:00\",\"2021-10-01T00:00:00\",\"2021-10-02T00:00:00\",\"2021-10-03T00:00:00\",\"2021-10-04T00:00:00\",\"2021-10-05T00:00:00\",\"2021-10-06T00:00:00\",\"2021-10-07T00:00:00\",\"2021-10-08T00:00:00\",\"2021-10-09T00:00:00\",\"2021-10-10T00:00:00\",\"2021-10-11T00:00:00\",\"2021-10-12T00:00:00\",\"2021-10-13T00:00:00\",\"2021-10-14T00:00:00\",\"2021-10-15T00:00:00\",\"2021-10-16T00:00:00\",\"2021-10-17T00:00:00\",\"2021-10-18T00:00:00\",\"2021-10-19T00:00:00\",\"2021-10-20T00:00:00\",\"2021-10-21T00:00:00\",\"2021-10-22T00:00:00\",\"2021-10-23T00:00:00\",\"2021-10-24T00:00:00\",\"2021-10-25T00:00:00\",\"2021-10-26T00:00:00\",\"2021-10-27T00:00:00\",\"2021-10-28T00:00:00\"],\"y\":[9717.4791,9656.1558,8973.2556,5586.9603,5658.9275,8831.6997,10061.7793,10142.236,10134.5617,9451.6615,6065.3662,6137.3334,9310.1056,10540.1852,10611.4108,10601.0091,9918.109,6531.8137,6603.7809,9776.5531,11006.6327,11070.6568,11058.0852,10375.185,6988.8897,7060.8569,10233.6291,11463.7087,11521.9114,11507.5599],\"type\":\"scatter\"},{\"marker\":{\"color\":\"#3f3f3f\",\"size\":5},\"mode\":\"lines+markers\",\"name\":\"Original\",\"showlegend\":true,\"x\":[\"2021-07-08T00:00:00\",\"2021-07-09T00:00:00\",\"2021-07-10T00:00:00\",\"2021-07-11T00:00:00\",\"2021-07-12T00:00:00\",\"2021-07-13T00:00:00\",\"2021-07-14T00:00:00\",\"2021-07-15T00:00:00\",\"2021-07-16T00:00:00\",\"2021-07-17T00:00:00\",\"2021-07-18T00:00:00\",\"2021-07-19T00:00:00\",\"2021-07-20T00:00:00\",\"2021-07-21T00:00:00\",\"2021-07-22T00:00:00\",\"2021-07-23T00:00:00\",\"2021-07-24T00:00:00\",\"2021-07-25T00:00:00\",\"2021-07-26T00:00:00\",\"2021-07-27T00:00:00\",\"2021-07-28T00:00:00\",\"2021-07-29T00:00:00\",\"2021-07-30T00:00:00\",\"2021-07-31T00:00:00\",\"2021-08-01T00:00:00\",\"2021-08-02T00:00:00\",\"2021-08-03T00:00:00\",\"2021-08-04T00:00:00\",\"2021-08-05T00:00:00\",\"2021-08-06T00:00:00\",\"2021-08-07T00:00:00\",\"2021-08-08T00:00:00\",\"2021-08-09T00:00:00\",\"2021-08-10T00:00:00\",\"2021-08-11T00:00:00\",\"2021-08-12T00:00:00\",\"2021-08-13T00:00:00\",\"2021-08-14T00:00:00\",\"2021-08-15T00:00:00\",\"2021-08-16T00:00:00\",\"2021-08-17T00:00:00\",\"2021-08-18T00:00:00\",\"2021-08-19T00:00:00\",\"2021-08-20T00:00:00\",\"2021-08-21T00:00:00\",\"2021-08-22T00:00:00\",\"2021-08-23T00:00:00\",\"2021-08-24T00:00:00\",\"2021-08-25T00:00:00\",\"2021-08-26T00:00:00\",\"2021-08-27T00:00:00\",\"2021-08-28T00:00:00\",\"2021-08-29T00:00:00\",\"2021-08-30T00:00:00\",\"2021-08-31T00:00:00\",\"2021-09-01T00:00:00\",\"2021-09-02T00:00:00\",\"2021-09-03T00:00:00\",\"2021-09-04T00:00:00\",\"2021-09-05T00:00:00\",\"2021-09-06T00:00:00\",\"2021-09-07T00:00:00\",\"2021-09-08T00:00:00\",\"2021-09-09T00:00:00\",\"2021-09-10T00:00:00\",\"2021-09-11T00:00:00\",\"2021-09-12T00:00:00\",\"2021-09-13T00:00:00\",\"2021-09-14T00:00:00\",\"2021-09-15T00:00:00\",\"2021-09-16T00:00:00\",\"2021-09-17T00:00:00\",\"2021-09-18T00:00:00\",\"2021-09-19T00:00:00\",\"2021-09-20T00:00:00\",\"2021-09-21T00:00:00\",\"2021-09-22T00:00:00\",\"2021-09-23T00:00:00\",\"2021-09-24T00:00:00\",\"2021-09-25T00:00:00\",\"2021-09-26T00:00:00\",\"2021-09-27T00:00:00\",\"2021-09-28T00:00:00\",\"2021-09-29T00:00:00\",\"2021-09-30T00:00:00\",\"2021-10-01T00:00:00\",\"2021-10-02T00:00:00\",\"2021-10-03T00:00:00\",\"2021-10-04T00:00:00\",\"2021-10-05T00:00:00\"],\"y\":[3773,3172,2079,2725,4542,3795,3941,4064,3474,2093,2426,4339,4064,4224,4603,4369,2532,3276,4917,4430,4977,5193,4001,1996,2538,4764,5651,5777,4789,3782,1920,2526,4481,6034,5006,4450,3112,1914,2359,3948,5727,6365,6323,5151,1947,3128,7999,7104,6457,6643,5355,2341,2367,5592,6770,6877,7272,6279,2741,2483,5456,6082,6139,5865,6362,3132,2681,5788,7001,6721,7556,7278,4026,3514,6476,7863,8418,8290,7189,3567,4088,7418,8765,7798,9212,7115,3903,5038,7843,8872],\"type\":\"scatter\"}],                        {\"title\":{\"text\":\"Actual vs. 'Out-of-Sample' Forecast | Total\"},\"xaxis\":{\"title\":{\"text\":\"Time\"}},\"yaxis\":{\"title\":{\"text\":\"Values\"}},\"template\":{\"data\":{\"barpolar\":[{\"marker\":{\"line\":{\"color\":\"rgb(237,237,237)\",\"width\":0.5},\"pattern\":{\"fillmode\":\"overlay\",\"size\":10,\"solidity\":0.2}},\"type\":\"barpolar\"}],\"bar\":[{\"error_x\":{\"color\":\"rgb(51,51,51)\"},\"error_y\":{\"color\":\"rgb(51,51,51)\"},\"marker\":{\"line\":{\"color\":\"rgb(237,237,237)\",\"width\":0.5},\"pattern\":{\"fillmode\":\"overlay\",\"size\":10,\"solidity\":0.2}},\"type\":\"bar\"}],\"carpet\":[{\"aaxis\":{\"endlinecolor\":\"rgb(51,51,51)\",\"gridcolor\":\"white\",\"linecolor\":\"white\",\"minorgridcolor\":\"white\",\"startlinecolor\":\"rgb(51,51,51)\"},\"baxis\":{\"endlinecolor\":\"rgb(51,51,51)\",\"gridcolor\":\"white\",\"linecolor\":\"white\",\"minorgridcolor\":\"white\",\"startlinecolor\":\"rgb(51,51,51)\"},\"type\":\"carpet\"}],\"choropleth\":[{\"colorbar\":{\"outlinewidth\":0,\"tickcolor\":\"rgb(237,237,237)\",\"ticklen\":6,\"ticks\":\"inside\"},\"type\":\"choropleth\"}],\"contourcarpet\":[{\"colorbar\":{\"outlinewidth\":0,\"tickcolor\":\"rgb(237,237,237)\",\"ticklen\":6,\"ticks\":\"inside\"},\"type\":\"contourcarpet\"}],\"contour\":[{\"colorbar\":{\"outlinewidth\":0,\"tickcolor\":\"rgb(237,237,237)\",\"ticklen\":6,\"ticks\":\"inside\"},\"colorscale\":[[0,\"rgb(20,44,66)\"],[1,\"rgb(90,179,244)\"]],\"type\":\"contour\"}],\"heatmapgl\":[{\"colorbar\":{\"outlinewidth\":0,\"tickcolor\":\"rgb(237,237,237)\",\"ticklen\":6,\"ticks\":\"inside\"},\"colorscale\":[[0,\"rgb(20,44,66)\"],[1,\"rgb(90,179,244)\"]],\"type\":\"heatmapgl\"}],\"heatmap\":[{\"colorbar\":{\"outlinewidth\":0,\"tickcolor\":\"rgb(237,237,237)\",\"ticklen\":6,\"ticks\":\"inside\"},\"colorscale\":[[0,\"rgb(20,44,66)\"],[1,\"rgb(90,179,244)\"]],\"type\":\"heatmap\"}],\"histogram2dcontour\":[{\"colorbar\":{\"outlinewidth\":0,\"tickcolor\":\"rgb(237,237,237)\",\"ticklen\":6,\"ticks\":\"inside\"},\"colorscale\":[[0,\"rgb(20,44,66)\"],[1,\"rgb(90,179,244)\"]],\"type\":\"histogram2dcontour\"}],\"histogram2d\":[{\"colorbar\":{\"outlinewidth\":0,\"tickcolor\":\"rgb(237,237,237)\",\"ticklen\":6,\"ticks\":\"inside\"},\"colorscale\":[[0,\"rgb(20,44,66)\"],[1,\"rgb(90,179,244)\"]],\"type\":\"histogram2d\"}],\"histogram\":[{\"marker\":{\"pattern\":{\"fillmode\":\"overlay\",\"size\":10,\"solidity\":0.2}},\"type\":\"histogram\"}],\"mesh3d\":[{\"colorbar\":{\"outlinewidth\":0,\"tickcolor\":\"rgb(237,237,237)\",\"ticklen\":6,\"ticks\":\"inside\"},\"type\":\"mesh3d\"}],\"parcoords\":[{\"line\":{\"colorbar\":{\"outlinewidth\":0,\"tickcolor\":\"rgb(237,237,237)\",\"ticklen\":6,\"ticks\":\"inside\"}},\"type\":\"parcoords\"}],\"pie\":[{\"automargin\":true,\"type\":\"pie\"}],\"scatter3d\":[{\"line\":{\"colorbar\":{\"outlinewidth\":0,\"tickcolor\":\"rgb(237,237,237)\",\"ticklen\":6,\"ticks\":\"inside\"}},\"marker\":{\"colorbar\":{\"outlinewidth\":0,\"tickcolor\":\"rgb(237,237,237)\",\"ticklen\":6,\"ticks\":\"inside\"}},\"type\":\"scatter3d\"}],\"scattercarpet\":[{\"marker\":{\"colorbar\":{\"outlinewidth\":0,\"tickcolor\":\"rgb(237,237,237)\",\"ticklen\":6,\"ticks\":\"inside\"}},\"type\":\"scattercarpet\"}],\"scattergeo\":[{\"marker\":{\"colorbar\":{\"outlinewidth\":0,\"tickcolor\":\"rgb(237,237,237)\",\"ticklen\":6,\"ticks\":\"inside\"}},\"type\":\"scattergeo\"}],\"scattergl\":[{\"marker\":{\"colorbar\":{\"outlinewidth\":0,\"tickcolor\":\"rgb(237,237,237)\",\"ticklen\":6,\"ticks\":\"inside\"}},\"type\":\"scattergl\"}],\"scattermapbox\":[{\"marker\":{\"colorbar\":{\"outlinewidth\":0,\"tickcolor\":\"rgb(237,237,237)\",\"ticklen\":6,\"ticks\":\"inside\"}},\"type\":\"scattermapbox\"}],\"scatterpolargl\":[{\"marker\":{\"colorbar\":{\"outlinewidth\":0,\"tickcolor\":\"rgb(237,237,237)\",\"ticklen\":6,\"ticks\":\"inside\"}},\"type\":\"scatterpolargl\"}],\"scatterpolar\":[{\"marker\":{\"colorbar\":{\"outlinewidth\":0,\"tickcolor\":\"rgb(237,237,237)\",\"ticklen\":6,\"ticks\":\"inside\"}},\"type\":\"scatterpolar\"}],\"scatter\":[{\"marker\":{\"colorbar\":{\"outlinewidth\":0,\"tickcolor\":\"rgb(237,237,237)\",\"ticklen\":6,\"ticks\":\"inside\"}},\"type\":\"scatter\"}],\"scatterternary\":[{\"marker\":{\"colorbar\":{\"outlinewidth\":0,\"tickcolor\":\"rgb(237,237,237)\",\"ticklen\":6,\"ticks\":\"inside\"}},\"type\":\"scatterternary\"}],\"surface\":[{\"colorbar\":{\"outlinewidth\":0,\"tickcolor\":\"rgb(237,237,237)\",\"ticklen\":6,\"ticks\":\"inside\"},\"colorscale\":[[0,\"rgb(20,44,66)\"],[1,\"rgb(90,179,244)\"]],\"type\":\"surface\"}],\"table\":[{\"cells\":{\"fill\":{\"color\":\"rgb(237,237,237)\"},\"line\":{\"color\":\"white\"}},\"header\":{\"fill\":{\"color\":\"rgb(217,217,217)\"},\"line\":{\"color\":\"white\"}},\"type\":\"table\"}]},\"layout\":{\"annotationdefaults\":{\"arrowhead\":0,\"arrowwidth\":1},\"autotypenumbers\":\"strict\",\"coloraxis\":{\"colorbar\":{\"outlinewidth\":0,\"tickcolor\":\"rgb(237,237,237)\",\"ticklen\":6,\"ticks\":\"inside\"}},\"colorscale\":{\"sequential\":[[0,\"rgb(20,44,66)\"],[1,\"rgb(90,179,244)\"]],\"sequentialminus\":[[0,\"rgb(20,44,66)\"],[1,\"rgb(90,179,244)\"]]},\"colorway\":[\"#F8766D\",\"#A3A500\",\"#00BF7D\",\"#00B0F6\",\"#E76BF3\"],\"font\":{\"color\":\"rgb(51,51,51)\"},\"geo\":{\"bgcolor\":\"white\",\"lakecolor\":\"white\",\"landcolor\":\"rgb(237,237,237)\",\"showlakes\":true,\"showland\":true,\"subunitcolor\":\"white\"},\"hoverlabel\":{\"align\":\"left\"},\"hovermode\":\"closest\",\"paper_bgcolor\":\"white\",\"plot_bgcolor\":\"rgb(237,237,237)\",\"polar\":{\"angularaxis\":{\"gridcolor\":\"white\",\"linecolor\":\"white\",\"showgrid\":true,\"tickcolor\":\"rgb(51,51,51)\",\"ticks\":\"outside\"},\"bgcolor\":\"rgb(237,237,237)\",\"radialaxis\":{\"gridcolor\":\"white\",\"linecolor\":\"white\",\"showgrid\":true,\"tickcolor\":\"rgb(51,51,51)\",\"ticks\":\"outside\"}},\"scene\":{\"xaxis\":{\"backgroundcolor\":\"rgb(237,237,237)\",\"gridcolor\":\"white\",\"gridwidth\":2,\"linecolor\":\"white\",\"showbackground\":true,\"showgrid\":true,\"tickcolor\":\"rgb(51,51,51)\",\"ticks\":\"outside\",\"zerolinecolor\":\"white\"},\"yaxis\":{\"backgroundcolor\":\"rgb(237,237,237)\",\"gridcolor\":\"white\",\"gridwidth\":2,\"linecolor\":\"white\",\"showbackground\":true,\"showgrid\":true,\"tickcolor\":\"rgb(51,51,51)\",\"ticks\":\"outside\",\"zerolinecolor\":\"white\"},\"zaxis\":{\"backgroundcolor\":\"rgb(237,237,237)\",\"gridcolor\":\"white\",\"gridwidth\":2,\"linecolor\":\"white\",\"showbackground\":true,\"showgrid\":true,\"tickcolor\":\"rgb(51,51,51)\",\"ticks\":\"outside\",\"zerolinecolor\":\"white\"}},\"shapedefaults\":{\"fillcolor\":\"black\",\"line\":{\"width\":0},\"opacity\":0.3},\"ternary\":{\"aaxis\":{\"gridcolor\":\"white\",\"linecolor\":\"white\",\"showgrid\":true,\"tickcolor\":\"rgb(51,51,51)\",\"ticks\":\"outside\"},\"baxis\":{\"gridcolor\":\"white\",\"linecolor\":\"white\",\"showgrid\":true,\"tickcolor\":\"rgb(51,51,51)\",\"ticks\":\"outside\"},\"bgcolor\":\"rgb(237,237,237)\",\"caxis\":{\"gridcolor\":\"white\",\"linecolor\":\"white\",\"showgrid\":true,\"tickcolor\":\"rgb(51,51,51)\",\"ticks\":\"outside\"}},\"xaxis\":{\"automargin\":true,\"gridcolor\":\"white\",\"linecolor\":\"white\",\"showgrid\":true,\"tickcolor\":\"rgb(51,51,51)\",\"ticks\":\"outside\",\"title\":{\"standoff\":15},\"zerolinecolor\":\"white\"},\"yaxis\":{\"automargin\":true,\"gridcolor\":\"white\",\"linecolor\":\"white\",\"showgrid\":true,\"tickcolor\":\"rgb(51,51,51)\",\"ticks\":\"outside\",\"title\":{\"standoff\":15},\"zerolinecolor\":\"white\"}}},\"showlegend\":true},                        {\"responsive\": true}                    ).then(function(){\n",
              "                            \n",
              "var gd = document.getElementById('85abeeb0-0ff3-4380-b2b5-5c3a619c1429');\n",
              "var x = new MutationObserver(function (mutations, observer) {{\n",
              "        var display = window.getComputedStyle(gd).display;\n",
              "        if (!display || display === 'none') {{\n",
              "            console.log([gd, 'removed!']);\n",
              "            Plotly.purge(gd);\n",
              "            observer.disconnect();\n",
              "        }}\n",
              "}});\n",
              "\n",
              "// Listen for the removal of the full notebook cells\n",
              "var notebookContainer = gd.closest('#notebook-container');\n",
              "if (notebookContainer) {{\n",
              "    x.observe(notebookContainer, {childList: true});\n",
              "}}\n",
              "\n",
              "// Listen for the clearing of the current output cell\n",
              "var outputEl = gd.closest('.output');\n",
              "if (outputEl) {{\n",
              "    x.observe(outputEl, {childList: true});\n",
              "}}\n",
              "\n",
              "                        })                };                            </script>        </div>\n",
              "</body>\n",
              "</html>"
            ]
          },
          "metadata": {}
        }
      ]
    },
    {
      "cell_type": "code",
      "source": [
        "# in-sample plot\n",
        "exp.plot_model(best, plot = 'insample')"
      ],
      "metadata": {
        "colab": {
          "base_uri": "https://localhost:8080/",
          "height": 542
        },
        "id": "hT6kRXGGos-X",
        "outputId": "c0e86eaf-5c9c-4fff-df0b-fe4d2c943174"
      },
      "execution_count": 19,
      "outputs": [
        {
          "output_type": "display_data",
          "data": {
            "text/html": [
              "<html>\n",
              "<head><meta charset=\"utf-8\" /></head>\n",
              "<body>\n",
              "    <div>            <script src=\"https://cdnjs.cloudflare.com/ajax/libs/mathjax/2.7.5/MathJax.js?config=TeX-AMS-MML_SVG\"></script><script type=\"text/javascript\">if (window.MathJax) {MathJax.Hub.Config({SVG: {font: \"STIX-Web\"}});}</script>                <script type=\"text/javascript\">window.PlotlyConfig = {MathJaxConfig: 'local'};</script>\n",
              "        <script src=\"https://cdn.plot.ly/plotly-2.6.3.min.js\"></script>                <div id=\"82139a9b-e1ec-4251-b019-9c4a70b3d32d\" class=\"plotly-graph-div\" style=\"height:525px; width:100%;\"></div>            <script type=\"text/javascript\">                                    window.PLOTLYENV=window.PLOTLYENV || {};                                    if (document.getElementById(\"82139a9b-e1ec-4251-b019-9c4a70b3d32d\")) {                    Plotly.newPlot(                        \"82139a9b-e1ec-4251-b019-9c4a70b3d32d\",                        [{\"line\":{\"color\":\"#1f77b4\"},\"marker\":{\"size\":5},\"mode\":\"lines+markers\",\"name\":\"Forecast | Auto ARIMA\",\"showlegend\":true,\"x\":[\"2021-07-08T00:00:00\",\"2021-07-09T00:00:00\",\"2021-07-10T00:00:00\",\"2021-07-11T00:00:00\",\"2021-07-12T00:00:00\",\"2021-07-13T00:00:00\",\"2021-07-14T00:00:00\",\"2021-07-15T00:00:00\",\"2021-07-16T00:00:00\",\"2021-07-17T00:00:00\",\"2021-07-18T00:00:00\",\"2021-07-19T00:00:00\",\"2021-07-20T00:00:00\",\"2021-07-21T00:00:00\",\"2021-07-22T00:00:00\",\"2021-07-23T00:00:00\",\"2021-07-24T00:00:00\",\"2021-07-25T00:00:00\",\"2021-07-26T00:00:00\",\"2021-07-27T00:00:00\",\"2021-07-28T00:00:00\",\"2021-07-29T00:00:00\",\"2021-07-30T00:00:00\",\"2021-07-31T00:00:00\",\"2021-08-01T00:00:00\",\"2021-08-02T00:00:00\",\"2021-08-03T00:00:00\",\"2021-08-04T00:00:00\",\"2021-08-05T00:00:00\",\"2021-08-06T00:00:00\",\"2021-08-07T00:00:00\",\"2021-08-08T00:00:00\",\"2021-08-09T00:00:00\",\"2021-08-10T00:00:00\",\"2021-08-11T00:00:00\",\"2021-08-12T00:00:00\",\"2021-08-13T00:00:00\",\"2021-08-14T00:00:00\",\"2021-08-15T00:00:00\",\"2021-08-16T00:00:00\",\"2021-08-17T00:00:00\",\"2021-08-18T00:00:00\",\"2021-08-19T00:00:00\",\"2021-08-20T00:00:00\",\"2021-08-21T00:00:00\",\"2021-08-22T00:00:00\",\"2021-08-23T00:00:00\",\"2021-08-24T00:00:00\",\"2021-08-25T00:00:00\",\"2021-08-26T00:00:00\",\"2021-08-27T00:00:00\",\"2021-08-28T00:00:00\",\"2021-08-29T00:00:00\",\"2021-08-30T00:00:00\",\"2021-08-31T00:00:00\",\"2021-09-01T00:00:00\",\"2021-09-02T00:00:00\",\"2021-09-03T00:00:00\",\"2021-09-04T00:00:00\",\"2021-09-05T00:00:00\",\"2021-09-06T00:00:00\",\"2021-09-07T00:00:00\",\"2021-09-08T00:00:00\",\"2021-09-09T00:00:00\",\"2021-09-10T00:00:00\",\"2021-09-11T00:00:00\",\"2021-09-12T00:00:00\",\"2021-09-13T00:00:00\",\"2021-09-14T00:00:00\",\"2021-09-15T00:00:00\",\"2021-09-16T00:00:00\",\"2021-09-17T00:00:00\",\"2021-09-18T00:00:00\",\"2021-09-19T00:00:00\",\"2021-09-20T00:00:00\",\"2021-09-21T00:00:00\",\"2021-09-22T00:00:00\",\"2021-09-23T00:00:00\",\"2021-09-24T00:00:00\",\"2021-09-25T00:00:00\",\"2021-09-26T00:00:00\",\"2021-09-27T00:00:00\",\"2021-09-28T00:00:00\"],\"y\":[336.0539,936.9988,739.1644,577.9507,723.6993,1025.441,611.6898,4002.0847,2864.6625,2282.6022,2346.8085,4050.874,3395.5888,3950.2193,4256.8633,3715.9159,2737.0873,2653.9336,4877.251,4041.2425,4487.9156,4961.7553,4400.9724,2548.1399,3032.9317,4759.8873,4555.675,5574.9483,5374.853,4140.5362,2542.5619,2947.8044,5005.7004,5096.9211,6211.1969,4679.7204,4360.6899,1978.6979,3246.2646,4716.1938,5583.9007,5781.3425,5625.5906,4598.8014,2996.6978,2585.0716,5291.9132,7797.7726,5938.2777,6400.3782,5110.8901,2818.7002,3222.5784,6205.6318,6609.7379,6823.3854,6716.379,5805.5551,3133.4481,3087.4417,6177.1705,6793.3175,6720.9095,6953.1874,5553.2407,3610.0841,2991.3076,6191.2831,6794.6053,7132.4879,6732.8397,7080.1612,3587.5543,3589.238,6395.6744,7398.6503,7484.2295,8118.2981,7348.5697,3970.4117,3519.0029,7122.5315,8094.4131],\"type\":\"scatter\"},{\"marker\":{\"color\":\"#3f3f3f\",\"size\":5},\"mode\":\"lines+markers\",\"name\":\"Original\",\"showlegend\":true,\"x\":[\"2021-07-08T00:00:00\",\"2021-07-09T00:00:00\",\"2021-07-10T00:00:00\",\"2021-07-11T00:00:00\",\"2021-07-12T00:00:00\",\"2021-07-13T00:00:00\",\"2021-07-14T00:00:00\",\"2021-07-15T00:00:00\",\"2021-07-16T00:00:00\",\"2021-07-17T00:00:00\",\"2021-07-18T00:00:00\",\"2021-07-19T00:00:00\",\"2021-07-20T00:00:00\",\"2021-07-21T00:00:00\",\"2021-07-22T00:00:00\",\"2021-07-23T00:00:00\",\"2021-07-24T00:00:00\",\"2021-07-25T00:00:00\",\"2021-07-26T00:00:00\",\"2021-07-27T00:00:00\",\"2021-07-28T00:00:00\",\"2021-07-29T00:00:00\",\"2021-07-30T00:00:00\",\"2021-07-31T00:00:00\",\"2021-08-01T00:00:00\",\"2021-08-02T00:00:00\",\"2021-08-03T00:00:00\",\"2021-08-04T00:00:00\",\"2021-08-05T00:00:00\",\"2021-08-06T00:00:00\",\"2021-08-07T00:00:00\",\"2021-08-08T00:00:00\",\"2021-08-09T00:00:00\",\"2021-08-10T00:00:00\",\"2021-08-11T00:00:00\",\"2021-08-12T00:00:00\",\"2021-08-13T00:00:00\",\"2021-08-14T00:00:00\",\"2021-08-15T00:00:00\",\"2021-08-16T00:00:00\",\"2021-08-17T00:00:00\",\"2021-08-18T00:00:00\",\"2021-08-19T00:00:00\",\"2021-08-20T00:00:00\",\"2021-08-21T00:00:00\",\"2021-08-22T00:00:00\",\"2021-08-23T00:00:00\",\"2021-08-24T00:00:00\",\"2021-08-25T00:00:00\",\"2021-08-26T00:00:00\",\"2021-08-27T00:00:00\",\"2021-08-28T00:00:00\",\"2021-08-29T00:00:00\",\"2021-08-30T00:00:00\",\"2021-08-31T00:00:00\",\"2021-09-01T00:00:00\",\"2021-09-02T00:00:00\",\"2021-09-03T00:00:00\",\"2021-09-04T00:00:00\",\"2021-09-05T00:00:00\",\"2021-09-06T00:00:00\",\"2021-09-07T00:00:00\",\"2021-09-08T00:00:00\",\"2021-09-09T00:00:00\",\"2021-09-10T00:00:00\",\"2021-09-11T00:00:00\",\"2021-09-12T00:00:00\",\"2021-09-13T00:00:00\",\"2021-09-14T00:00:00\",\"2021-09-15T00:00:00\",\"2021-09-16T00:00:00\",\"2021-09-17T00:00:00\",\"2021-09-18T00:00:00\",\"2021-09-19T00:00:00\",\"2021-09-20T00:00:00\",\"2021-09-21T00:00:00\",\"2021-09-22T00:00:00\",\"2021-09-23T00:00:00\",\"2021-09-24T00:00:00\",\"2021-09-25T00:00:00\",\"2021-09-26T00:00:00\",\"2021-09-27T00:00:00\",\"2021-09-28T00:00:00\",\"2021-09-29T00:00:00\",\"2021-09-30T00:00:00\",\"2021-10-01T00:00:00\",\"2021-10-02T00:00:00\",\"2021-10-03T00:00:00\",\"2021-10-04T00:00:00\",\"2021-10-05T00:00:00\"],\"y\":[3773,3172,2079,2725,4542,3795,3941,4064,3474,2093,2426,4339,4064,4224,4603,4369,2532,3276,4917,4430,4977,5193,4001,1996,2538,4764,5651,5777,4789,3782,1920,2526,4481,6034,5006,4450,3112,1914,2359,3948,5727,6365,6323,5151,1947,3128,7999,7104,6457,6643,5355,2341,2367,5592,6770,6877,7272,6279,2741,2483,5456,6082,6139,5865,6362,3132,2681,5788,7001,6721,7556,7278,4026,3514,6476,7863,8418,8290,7189,3567,4088,7418,8765,7798,9212,7115,3903,5038,7843,8872],\"type\":\"scatter\"}],                        {\"title\":{\"text\":\"Actual vs. 'In-Sample' Forecast | Total\"},\"xaxis\":{\"title\":{\"text\":\"Time\"}},\"yaxis\":{\"title\":{\"text\":\"Values\"}},\"template\":{\"data\":{\"barpolar\":[{\"marker\":{\"line\":{\"color\":\"rgb(237,237,237)\",\"width\":0.5},\"pattern\":{\"fillmode\":\"overlay\",\"size\":10,\"solidity\":0.2}},\"type\":\"barpolar\"}],\"bar\":[{\"error_x\":{\"color\":\"rgb(51,51,51)\"},\"error_y\":{\"color\":\"rgb(51,51,51)\"},\"marker\":{\"line\":{\"color\":\"rgb(237,237,237)\",\"width\":0.5},\"pattern\":{\"fillmode\":\"overlay\",\"size\":10,\"solidity\":0.2}},\"type\":\"bar\"}],\"carpet\":[{\"aaxis\":{\"endlinecolor\":\"rgb(51,51,51)\",\"gridcolor\":\"white\",\"linecolor\":\"white\",\"minorgridcolor\":\"white\",\"startlinecolor\":\"rgb(51,51,51)\"},\"baxis\":{\"endlinecolor\":\"rgb(51,51,51)\",\"gridcolor\":\"white\",\"linecolor\":\"white\",\"minorgridcolor\":\"white\",\"startlinecolor\":\"rgb(51,51,51)\"},\"type\":\"carpet\"}],\"choropleth\":[{\"colorbar\":{\"outlinewidth\":0,\"tickcolor\":\"rgb(237,237,237)\",\"ticklen\":6,\"ticks\":\"inside\"},\"type\":\"choropleth\"}],\"contourcarpet\":[{\"colorbar\":{\"outlinewidth\":0,\"tickcolor\":\"rgb(237,237,237)\",\"ticklen\":6,\"ticks\":\"inside\"},\"type\":\"contourcarpet\"}],\"contour\":[{\"colorbar\":{\"outlinewidth\":0,\"tickcolor\":\"rgb(237,237,237)\",\"ticklen\":6,\"ticks\":\"inside\"},\"colorscale\":[[0,\"rgb(20,44,66)\"],[1,\"rgb(90,179,244)\"]],\"type\":\"contour\"}],\"heatmapgl\":[{\"colorbar\":{\"outlinewidth\":0,\"tickcolor\":\"rgb(237,237,237)\",\"ticklen\":6,\"ticks\":\"inside\"},\"colorscale\":[[0,\"rgb(20,44,66)\"],[1,\"rgb(90,179,244)\"]],\"type\":\"heatmapgl\"}],\"heatmap\":[{\"colorbar\":{\"outlinewidth\":0,\"tickcolor\":\"rgb(237,237,237)\",\"ticklen\":6,\"ticks\":\"inside\"},\"colorscale\":[[0,\"rgb(20,44,66)\"],[1,\"rgb(90,179,244)\"]],\"type\":\"heatmap\"}],\"histogram2dcontour\":[{\"colorbar\":{\"outlinewidth\":0,\"tickcolor\":\"rgb(237,237,237)\",\"ticklen\":6,\"ticks\":\"inside\"},\"colorscale\":[[0,\"rgb(20,44,66)\"],[1,\"rgb(90,179,244)\"]],\"type\":\"histogram2dcontour\"}],\"histogram2d\":[{\"colorbar\":{\"outlinewidth\":0,\"tickcolor\":\"rgb(237,237,237)\",\"ticklen\":6,\"ticks\":\"inside\"},\"colorscale\":[[0,\"rgb(20,44,66)\"],[1,\"rgb(90,179,244)\"]],\"type\":\"histogram2d\"}],\"histogram\":[{\"marker\":{\"pattern\":{\"fillmode\":\"overlay\",\"size\":10,\"solidity\":0.2}},\"type\":\"histogram\"}],\"mesh3d\":[{\"colorbar\":{\"outlinewidth\":0,\"tickcolor\":\"rgb(237,237,237)\",\"ticklen\":6,\"ticks\":\"inside\"},\"type\":\"mesh3d\"}],\"parcoords\":[{\"line\":{\"colorbar\":{\"outlinewidth\":0,\"tickcolor\":\"rgb(237,237,237)\",\"ticklen\":6,\"ticks\":\"inside\"}},\"type\":\"parcoords\"}],\"pie\":[{\"automargin\":true,\"type\":\"pie\"}],\"scatter3d\":[{\"line\":{\"colorbar\":{\"outlinewidth\":0,\"tickcolor\":\"rgb(237,237,237)\",\"ticklen\":6,\"ticks\":\"inside\"}},\"marker\":{\"colorbar\":{\"outlinewidth\":0,\"tickcolor\":\"rgb(237,237,237)\",\"ticklen\":6,\"ticks\":\"inside\"}},\"type\":\"scatter3d\"}],\"scattercarpet\":[{\"marker\":{\"colorbar\":{\"outlinewidth\":0,\"tickcolor\":\"rgb(237,237,237)\",\"ticklen\":6,\"ticks\":\"inside\"}},\"type\":\"scattercarpet\"}],\"scattergeo\":[{\"marker\":{\"colorbar\":{\"outlinewidth\":0,\"tickcolor\":\"rgb(237,237,237)\",\"ticklen\":6,\"ticks\":\"inside\"}},\"type\":\"scattergeo\"}],\"scattergl\":[{\"marker\":{\"colorbar\":{\"outlinewidth\":0,\"tickcolor\":\"rgb(237,237,237)\",\"ticklen\":6,\"ticks\":\"inside\"}},\"type\":\"scattergl\"}],\"scattermapbox\":[{\"marker\":{\"colorbar\":{\"outlinewidth\":0,\"tickcolor\":\"rgb(237,237,237)\",\"ticklen\":6,\"ticks\":\"inside\"}},\"type\":\"scattermapbox\"}],\"scatterpolargl\":[{\"marker\":{\"colorbar\":{\"outlinewidth\":0,\"tickcolor\":\"rgb(237,237,237)\",\"ticklen\":6,\"ticks\":\"inside\"}},\"type\":\"scatterpolargl\"}],\"scatterpolar\":[{\"marker\":{\"colorbar\":{\"outlinewidth\":0,\"tickcolor\":\"rgb(237,237,237)\",\"ticklen\":6,\"ticks\":\"inside\"}},\"type\":\"scatterpolar\"}],\"scatter\":[{\"marker\":{\"colorbar\":{\"outlinewidth\":0,\"tickcolor\":\"rgb(237,237,237)\",\"ticklen\":6,\"ticks\":\"inside\"}},\"type\":\"scatter\"}],\"scatterternary\":[{\"marker\":{\"colorbar\":{\"outlinewidth\":0,\"tickcolor\":\"rgb(237,237,237)\",\"ticklen\":6,\"ticks\":\"inside\"}},\"type\":\"scatterternary\"}],\"surface\":[{\"colorbar\":{\"outlinewidth\":0,\"tickcolor\":\"rgb(237,237,237)\",\"ticklen\":6,\"ticks\":\"inside\"},\"colorscale\":[[0,\"rgb(20,44,66)\"],[1,\"rgb(90,179,244)\"]],\"type\":\"surface\"}],\"table\":[{\"cells\":{\"fill\":{\"color\":\"rgb(237,237,237)\"},\"line\":{\"color\":\"white\"}},\"header\":{\"fill\":{\"color\":\"rgb(217,217,217)\"},\"line\":{\"color\":\"white\"}},\"type\":\"table\"}]},\"layout\":{\"annotationdefaults\":{\"arrowhead\":0,\"arrowwidth\":1},\"autotypenumbers\":\"strict\",\"coloraxis\":{\"colorbar\":{\"outlinewidth\":0,\"tickcolor\":\"rgb(237,237,237)\",\"ticklen\":6,\"ticks\":\"inside\"}},\"colorscale\":{\"sequential\":[[0,\"rgb(20,44,66)\"],[1,\"rgb(90,179,244)\"]],\"sequentialminus\":[[0,\"rgb(20,44,66)\"],[1,\"rgb(90,179,244)\"]]},\"colorway\":[\"#F8766D\",\"#A3A500\",\"#00BF7D\",\"#00B0F6\",\"#E76BF3\"],\"font\":{\"color\":\"rgb(51,51,51)\"},\"geo\":{\"bgcolor\":\"white\",\"lakecolor\":\"white\",\"landcolor\":\"rgb(237,237,237)\",\"showlakes\":true,\"showland\":true,\"subunitcolor\":\"white\"},\"hoverlabel\":{\"align\":\"left\"},\"hovermode\":\"closest\",\"paper_bgcolor\":\"white\",\"plot_bgcolor\":\"rgb(237,237,237)\",\"polar\":{\"angularaxis\":{\"gridcolor\":\"white\",\"linecolor\":\"white\",\"showgrid\":true,\"tickcolor\":\"rgb(51,51,51)\",\"ticks\":\"outside\"},\"bgcolor\":\"rgb(237,237,237)\",\"radialaxis\":{\"gridcolor\":\"white\",\"linecolor\":\"white\",\"showgrid\":true,\"tickcolor\":\"rgb(51,51,51)\",\"ticks\":\"outside\"}},\"scene\":{\"xaxis\":{\"backgroundcolor\":\"rgb(237,237,237)\",\"gridcolor\":\"white\",\"gridwidth\":2,\"linecolor\":\"white\",\"showbackground\":true,\"showgrid\":true,\"tickcolor\":\"rgb(51,51,51)\",\"ticks\":\"outside\",\"zerolinecolor\":\"white\"},\"yaxis\":{\"backgroundcolor\":\"rgb(237,237,237)\",\"gridcolor\":\"white\",\"gridwidth\":2,\"linecolor\":\"white\",\"showbackground\":true,\"showgrid\":true,\"tickcolor\":\"rgb(51,51,51)\",\"ticks\":\"outside\",\"zerolinecolor\":\"white\"},\"zaxis\":{\"backgroundcolor\":\"rgb(237,237,237)\",\"gridcolor\":\"white\",\"gridwidth\":2,\"linecolor\":\"white\",\"showbackground\":true,\"showgrid\":true,\"tickcolor\":\"rgb(51,51,51)\",\"ticks\":\"outside\",\"zerolinecolor\":\"white\"}},\"shapedefaults\":{\"fillcolor\":\"black\",\"line\":{\"width\":0},\"opacity\":0.3},\"ternary\":{\"aaxis\":{\"gridcolor\":\"white\",\"linecolor\":\"white\",\"showgrid\":true,\"tickcolor\":\"rgb(51,51,51)\",\"ticks\":\"outside\"},\"baxis\":{\"gridcolor\":\"white\",\"linecolor\":\"white\",\"showgrid\":true,\"tickcolor\":\"rgb(51,51,51)\",\"ticks\":\"outside\"},\"bgcolor\":\"rgb(237,237,237)\",\"caxis\":{\"gridcolor\":\"white\",\"linecolor\":\"white\",\"showgrid\":true,\"tickcolor\":\"rgb(51,51,51)\",\"ticks\":\"outside\"}},\"xaxis\":{\"automargin\":true,\"gridcolor\":\"white\",\"linecolor\":\"white\",\"showgrid\":true,\"tickcolor\":\"rgb(51,51,51)\",\"ticks\":\"outside\",\"title\":{\"standoff\":15},\"zerolinecolor\":\"white\"},\"yaxis\":{\"automargin\":true,\"gridcolor\":\"white\",\"linecolor\":\"white\",\"showgrid\":true,\"tickcolor\":\"rgb(51,51,51)\",\"ticks\":\"outside\",\"title\":{\"standoff\":15},\"zerolinecolor\":\"white\"}}},\"showlegend\":true},                        {\"responsive\": true}                    ).then(function(){\n",
              "                            \n",
              "var gd = document.getElementById('82139a9b-e1ec-4251-b019-9c4a70b3d32d');\n",
              "var x = new MutationObserver(function (mutations, observer) {{\n",
              "        var display = window.getComputedStyle(gd).display;\n",
              "        if (!display || display === 'none') {{\n",
              "            console.log([gd, 'removed!']);\n",
              "            Plotly.purge(gd);\n",
              "            observer.disconnect();\n",
              "        }}\n",
              "}});\n",
              "\n",
              "// Listen for the removal of the full notebook cells\n",
              "var notebookContainer = gd.closest('#notebook-container');\n",
              "if (notebookContainer) {{\n",
              "    x.observe(notebookContainer, {childList: true});\n",
              "}}\n",
              "\n",
              "// Listen for the clearing of the current output cell\n",
              "var outputEl = gd.closest('.output');\n",
              "if (outputEl) {{\n",
              "    x.observe(outputEl, {childList: true});\n",
              "}}\n",
              "\n",
              "                        })                };                            </script>        </div>\n",
              "</body>\n",
              "</html>"
            ]
          },
          "metadata": {}
        }
      ]
    },
    {
      "cell_type": "code",
      "source": [
        "# residuals plot\n",
        "exp.plot_model(best, plot = 'residuals')"
      ],
      "metadata": {
        "colab": {
          "base_uri": "https://localhost:8080/",
          "height": 542
        },
        "id": "WEPI-nfvo00w",
        "outputId": "52f297d0-36da-4cf5-9913-1c5a3c0132f1"
      },
      "execution_count": 20,
      "outputs": [
        {
          "output_type": "display_data",
          "data": {
            "text/html": [
              "<html>\n",
              "<head><meta charset=\"utf-8\" /></head>\n",
              "<body>\n",
              "    <div>            <script src=\"https://cdnjs.cloudflare.com/ajax/libs/mathjax/2.7.5/MathJax.js?config=TeX-AMS-MML_SVG\"></script><script type=\"text/javascript\">if (window.MathJax) {MathJax.Hub.Config({SVG: {font: \"STIX-Web\"}});}</script>                <script type=\"text/javascript\">window.PlotlyConfig = {MathJaxConfig: 'local'};</script>\n",
              "        <script src=\"https://cdn.plot.ly/plotly-2.6.3.min.js\"></script>                <div id=\"cbd9246c-ea23-49b0-84c5-e34c3e84a53f\" class=\"plotly-graph-div\" style=\"height:525px; width:100%;\"></div>            <script type=\"text/javascript\">                                    window.PLOTLYENV=window.PLOTLYENV || {};                                    if (document.getElementById(\"cbd9246c-ea23-49b0-84c5-e34c3e84a53f\")) {                    Plotly.newPlot(                        \"cbd9246c-ea23-49b0-84c5-e34c3e84a53f\",                        [{\"marker\":{\"color\":\"#3f3f3f\",\"size\":5},\"mode\":\"lines+markers\",\"name\":\"Residuals | Auto ARIMA\",\"showlegend\":true,\"x\":[\"2021-07-08T00:00:00\",\"2021-07-09T00:00:00\",\"2021-07-10T00:00:00\",\"2021-07-11T00:00:00\",\"2021-07-12T00:00:00\",\"2021-07-13T00:00:00\",\"2021-07-14T00:00:00\",\"2021-07-15T00:00:00\",\"2021-07-16T00:00:00\",\"2021-07-17T00:00:00\",\"2021-07-18T00:00:00\",\"2021-07-19T00:00:00\",\"2021-07-20T00:00:00\",\"2021-07-21T00:00:00\",\"2021-07-22T00:00:00\",\"2021-07-23T00:00:00\",\"2021-07-24T00:00:00\",\"2021-07-25T00:00:00\",\"2021-07-26T00:00:00\",\"2021-07-27T00:00:00\",\"2021-07-28T00:00:00\",\"2021-07-29T00:00:00\",\"2021-07-30T00:00:00\",\"2021-07-31T00:00:00\",\"2021-08-01T00:00:00\",\"2021-08-02T00:00:00\",\"2021-08-03T00:00:00\",\"2021-08-04T00:00:00\",\"2021-08-05T00:00:00\",\"2021-08-06T00:00:00\",\"2021-08-07T00:00:00\",\"2021-08-08T00:00:00\",\"2021-08-09T00:00:00\",\"2021-08-10T00:00:00\",\"2021-08-11T00:00:00\",\"2021-08-12T00:00:00\",\"2021-08-13T00:00:00\",\"2021-08-14T00:00:00\",\"2021-08-15T00:00:00\",\"2021-08-16T00:00:00\",\"2021-08-17T00:00:00\",\"2021-08-18T00:00:00\",\"2021-08-19T00:00:00\",\"2021-08-20T00:00:00\",\"2021-08-21T00:00:00\",\"2021-08-22T00:00:00\",\"2021-08-23T00:00:00\",\"2021-08-24T00:00:00\",\"2021-08-25T00:00:00\",\"2021-08-26T00:00:00\",\"2021-08-27T00:00:00\",\"2021-08-28T00:00:00\",\"2021-08-29T00:00:00\",\"2021-08-30T00:00:00\",\"2021-08-31T00:00:00\",\"2021-09-01T00:00:00\",\"2021-09-02T00:00:00\",\"2021-09-03T00:00:00\",\"2021-09-04T00:00:00\",\"2021-09-05T00:00:00\",\"2021-09-06T00:00:00\",\"2021-09-07T00:00:00\",\"2021-09-08T00:00:00\",\"2021-09-09T00:00:00\",\"2021-09-10T00:00:00\",\"2021-09-11T00:00:00\",\"2021-09-12T00:00:00\",\"2021-09-13T00:00:00\",\"2021-09-14T00:00:00\",\"2021-09-15T00:00:00\",\"2021-09-16T00:00:00\",\"2021-09-17T00:00:00\",\"2021-09-18T00:00:00\",\"2021-09-19T00:00:00\",\"2021-09-20T00:00:00\",\"2021-09-21T00:00:00\",\"2021-09-22T00:00:00\",\"2021-09-23T00:00:00\",\"2021-09-24T00:00:00\",\"2021-09-25T00:00:00\",\"2021-09-26T00:00:00\",\"2021-09-27T00:00:00\",\"2021-09-28T00:00:00\"],\"y\":[3436.9460766127054,2235.001185076936,1339.8355604285034,2147.049343596538,3818.3007013245906,2769.5589524460866,3329.3102005759215,61.9153118889426,609.3374605032177,-189.60224170852598,79.19150890862966,288.1260457965668,668.41115927805,273.7807291914992,346.1366952218159,653.084070774124,-205.08731850378535,622.0663966670413,39.74895570259832,388.75747396929137,489.0844126690163,231.24465158578823,-399.9723976630903,-552.1398548012094,-494.9317299707491,4.112721482551024,1095.325014935166,202.05174064488347,-585.852984029626,-358.5362429683837,-622.5619147271473,-421.80435897018515,-524.7003658295935,937.0789089422078,-1205.1968704070368,-229.7203995838463,-1248.6899347240078,-64.6979315484632,-887.264559738423,-768.1938382135486,143.09932464219855,583.6575124485562,697.4094058629835,552.1985625988909,-1049.6977511119676,542.9284057950636,2707.086816566929,-693.7725733528941,518.722301400966,242.6217528981888,244.10993281808624,-477.70021001793975,-855.5784329775902,-613.6317988444434,160.2621349814981,53.614581731688304,555.6210260014959,473.4448514355681,-392.44808282680424,-604.441745411229,-721.1705253357486,-711.3175124667996,-581.9095361948675,-1088.1874353016792,808.7593041136715,-478.0841239042006,-310.3076328881252,-403.28310761522334,206.39474586830602,-411.4878901333532,823.1603439813425,197.838824294402,438.44571714799895,-75.23803395850518,80.32555058858543,464.34970930574127,933.7704695941175,171.7018517922943,-159.5697454400597,-403.4117287469239,568.9971352109587,295.4684775241585,670.5869148072434],\"type\":\"scatter\"}],                        {\"title\":{\"text\":\"Residuals\"},\"xaxis\":{\"title\":{\"text\":\"Time\"}},\"yaxis\":{\"title\":{\"text\":\"Values\"}},\"template\":{\"data\":{\"barpolar\":[{\"marker\":{\"line\":{\"color\":\"rgb(237,237,237)\",\"width\":0.5},\"pattern\":{\"fillmode\":\"overlay\",\"size\":10,\"solidity\":0.2}},\"type\":\"barpolar\"}],\"bar\":[{\"error_x\":{\"color\":\"rgb(51,51,51)\"},\"error_y\":{\"color\":\"rgb(51,51,51)\"},\"marker\":{\"line\":{\"color\":\"rgb(237,237,237)\",\"width\":0.5},\"pattern\":{\"fillmode\":\"overlay\",\"size\":10,\"solidity\":0.2}},\"type\":\"bar\"}],\"carpet\":[{\"aaxis\":{\"endlinecolor\":\"rgb(51,51,51)\",\"gridcolor\":\"white\",\"linecolor\":\"white\",\"minorgridcolor\":\"white\",\"startlinecolor\":\"rgb(51,51,51)\"},\"baxis\":{\"endlinecolor\":\"rgb(51,51,51)\",\"gridcolor\":\"white\",\"linecolor\":\"white\",\"minorgridcolor\":\"white\",\"startlinecolor\":\"rgb(51,51,51)\"},\"type\":\"carpet\"}],\"choropleth\":[{\"colorbar\":{\"outlinewidth\":0,\"tickcolor\":\"rgb(237,237,237)\",\"ticklen\":6,\"ticks\":\"inside\"},\"type\":\"choropleth\"}],\"contourcarpet\":[{\"colorbar\":{\"outlinewidth\":0,\"tickcolor\":\"rgb(237,237,237)\",\"ticklen\":6,\"ticks\":\"inside\"},\"type\":\"contourcarpet\"}],\"contour\":[{\"colorbar\":{\"outlinewidth\":0,\"tickcolor\":\"rgb(237,237,237)\",\"ticklen\":6,\"ticks\":\"inside\"},\"colorscale\":[[0,\"rgb(20,44,66)\"],[1,\"rgb(90,179,244)\"]],\"type\":\"contour\"}],\"heatmapgl\":[{\"colorbar\":{\"outlinewidth\":0,\"tickcolor\":\"rgb(237,237,237)\",\"ticklen\":6,\"ticks\":\"inside\"},\"colorscale\":[[0,\"rgb(20,44,66)\"],[1,\"rgb(90,179,244)\"]],\"type\":\"heatmapgl\"}],\"heatmap\":[{\"colorbar\":{\"outlinewidth\":0,\"tickcolor\":\"rgb(237,237,237)\",\"ticklen\":6,\"ticks\":\"inside\"},\"colorscale\":[[0,\"rgb(20,44,66)\"],[1,\"rgb(90,179,244)\"]],\"type\":\"heatmap\"}],\"histogram2dcontour\":[{\"colorbar\":{\"outlinewidth\":0,\"tickcolor\":\"rgb(237,237,237)\",\"ticklen\":6,\"ticks\":\"inside\"},\"colorscale\":[[0,\"rgb(20,44,66)\"],[1,\"rgb(90,179,244)\"]],\"type\":\"histogram2dcontour\"}],\"histogram2d\":[{\"colorbar\":{\"outlinewidth\":0,\"tickcolor\":\"rgb(237,237,237)\",\"ticklen\":6,\"ticks\":\"inside\"},\"colorscale\":[[0,\"rgb(20,44,66)\"],[1,\"rgb(90,179,244)\"]],\"type\":\"histogram2d\"}],\"histogram\":[{\"marker\":{\"pattern\":{\"fillmode\":\"overlay\",\"size\":10,\"solidity\":0.2}},\"type\":\"histogram\"}],\"mesh3d\":[{\"colorbar\":{\"outlinewidth\":0,\"tickcolor\":\"rgb(237,237,237)\",\"ticklen\":6,\"ticks\":\"inside\"},\"type\":\"mesh3d\"}],\"parcoords\":[{\"line\":{\"colorbar\":{\"outlinewidth\":0,\"tickcolor\":\"rgb(237,237,237)\",\"ticklen\":6,\"ticks\":\"inside\"}},\"type\":\"parcoords\"}],\"pie\":[{\"automargin\":true,\"type\":\"pie\"}],\"scatter3d\":[{\"line\":{\"colorbar\":{\"outlinewidth\":0,\"tickcolor\":\"rgb(237,237,237)\",\"ticklen\":6,\"ticks\":\"inside\"}},\"marker\":{\"colorbar\":{\"outlinewidth\":0,\"tickcolor\":\"rgb(237,237,237)\",\"ticklen\":6,\"ticks\":\"inside\"}},\"type\":\"scatter3d\"}],\"scattercarpet\":[{\"marker\":{\"colorbar\":{\"outlinewidth\":0,\"tickcolor\":\"rgb(237,237,237)\",\"ticklen\":6,\"ticks\":\"inside\"}},\"type\":\"scattercarpet\"}],\"scattergeo\":[{\"marker\":{\"colorbar\":{\"outlinewidth\":0,\"tickcolor\":\"rgb(237,237,237)\",\"ticklen\":6,\"ticks\":\"inside\"}},\"type\":\"scattergeo\"}],\"scattergl\":[{\"marker\":{\"colorbar\":{\"outlinewidth\":0,\"tickcolor\":\"rgb(237,237,237)\",\"ticklen\":6,\"ticks\":\"inside\"}},\"type\":\"scattergl\"}],\"scattermapbox\":[{\"marker\":{\"colorbar\":{\"outlinewidth\":0,\"tickcolor\":\"rgb(237,237,237)\",\"ticklen\":6,\"ticks\":\"inside\"}},\"type\":\"scattermapbox\"}],\"scatterpolargl\":[{\"marker\":{\"colorbar\":{\"outlinewidth\":0,\"tickcolor\":\"rgb(237,237,237)\",\"ticklen\":6,\"ticks\":\"inside\"}},\"type\":\"scatterpolargl\"}],\"scatterpolar\":[{\"marker\":{\"colorbar\":{\"outlinewidth\":0,\"tickcolor\":\"rgb(237,237,237)\",\"ticklen\":6,\"ticks\":\"inside\"}},\"type\":\"scatterpolar\"}],\"scatter\":[{\"marker\":{\"colorbar\":{\"outlinewidth\":0,\"tickcolor\":\"rgb(237,237,237)\",\"ticklen\":6,\"ticks\":\"inside\"}},\"type\":\"scatter\"}],\"scatterternary\":[{\"marker\":{\"colorbar\":{\"outlinewidth\":0,\"tickcolor\":\"rgb(237,237,237)\",\"ticklen\":6,\"ticks\":\"inside\"}},\"type\":\"scatterternary\"}],\"surface\":[{\"colorbar\":{\"outlinewidth\":0,\"tickcolor\":\"rgb(237,237,237)\",\"ticklen\":6,\"ticks\":\"inside\"},\"colorscale\":[[0,\"rgb(20,44,66)\"],[1,\"rgb(90,179,244)\"]],\"type\":\"surface\"}],\"table\":[{\"cells\":{\"fill\":{\"color\":\"rgb(237,237,237)\"},\"line\":{\"color\":\"white\"}},\"header\":{\"fill\":{\"color\":\"rgb(217,217,217)\"},\"line\":{\"color\":\"white\"}},\"type\":\"table\"}]},\"layout\":{\"annotationdefaults\":{\"arrowhead\":0,\"arrowwidth\":1},\"autotypenumbers\":\"strict\",\"coloraxis\":{\"colorbar\":{\"outlinewidth\":0,\"tickcolor\":\"rgb(237,237,237)\",\"ticklen\":6,\"ticks\":\"inside\"}},\"colorscale\":{\"sequential\":[[0,\"rgb(20,44,66)\"],[1,\"rgb(90,179,244)\"]],\"sequentialminus\":[[0,\"rgb(20,44,66)\"],[1,\"rgb(90,179,244)\"]]},\"colorway\":[\"#F8766D\",\"#A3A500\",\"#00BF7D\",\"#00B0F6\",\"#E76BF3\"],\"font\":{\"color\":\"rgb(51,51,51)\"},\"geo\":{\"bgcolor\":\"white\",\"lakecolor\":\"white\",\"landcolor\":\"rgb(237,237,237)\",\"showlakes\":true,\"showland\":true,\"subunitcolor\":\"white\"},\"hoverlabel\":{\"align\":\"left\"},\"hovermode\":\"closest\",\"paper_bgcolor\":\"white\",\"plot_bgcolor\":\"rgb(237,237,237)\",\"polar\":{\"angularaxis\":{\"gridcolor\":\"white\",\"linecolor\":\"white\",\"showgrid\":true,\"tickcolor\":\"rgb(51,51,51)\",\"ticks\":\"outside\"},\"bgcolor\":\"rgb(237,237,237)\",\"radialaxis\":{\"gridcolor\":\"white\",\"linecolor\":\"white\",\"showgrid\":true,\"tickcolor\":\"rgb(51,51,51)\",\"ticks\":\"outside\"}},\"scene\":{\"xaxis\":{\"backgroundcolor\":\"rgb(237,237,237)\",\"gridcolor\":\"white\",\"gridwidth\":2,\"linecolor\":\"white\",\"showbackground\":true,\"showgrid\":true,\"tickcolor\":\"rgb(51,51,51)\",\"ticks\":\"outside\",\"zerolinecolor\":\"white\"},\"yaxis\":{\"backgroundcolor\":\"rgb(237,237,237)\",\"gridcolor\":\"white\",\"gridwidth\":2,\"linecolor\":\"white\",\"showbackground\":true,\"showgrid\":true,\"tickcolor\":\"rgb(51,51,51)\",\"ticks\":\"outside\",\"zerolinecolor\":\"white\"},\"zaxis\":{\"backgroundcolor\":\"rgb(237,237,237)\",\"gridcolor\":\"white\",\"gridwidth\":2,\"linecolor\":\"white\",\"showbackground\":true,\"showgrid\":true,\"tickcolor\":\"rgb(51,51,51)\",\"ticks\":\"outside\",\"zerolinecolor\":\"white\"}},\"shapedefaults\":{\"fillcolor\":\"black\",\"line\":{\"width\":0},\"opacity\":0.3},\"ternary\":{\"aaxis\":{\"gridcolor\":\"white\",\"linecolor\":\"white\",\"showgrid\":true,\"tickcolor\":\"rgb(51,51,51)\",\"ticks\":\"outside\"},\"baxis\":{\"gridcolor\":\"white\",\"linecolor\":\"white\",\"showgrid\":true,\"tickcolor\":\"rgb(51,51,51)\",\"ticks\":\"outside\"},\"bgcolor\":\"rgb(237,237,237)\",\"caxis\":{\"gridcolor\":\"white\",\"linecolor\":\"white\",\"showgrid\":true,\"tickcolor\":\"rgb(51,51,51)\",\"ticks\":\"outside\"}},\"xaxis\":{\"automargin\":true,\"gridcolor\":\"white\",\"linecolor\":\"white\",\"showgrid\":true,\"tickcolor\":\"rgb(51,51,51)\",\"ticks\":\"outside\",\"title\":{\"standoff\":15},\"zerolinecolor\":\"white\"},\"yaxis\":{\"automargin\":true,\"gridcolor\":\"white\",\"linecolor\":\"white\",\"showgrid\":true,\"tickcolor\":\"rgb(51,51,51)\",\"ticks\":\"outside\",\"title\":{\"standoff\":15},\"zerolinecolor\":\"white\"}}},\"showlegend\":true},                        {\"responsive\": true}                    ).then(function(){\n",
              "                            \n",
              "var gd = document.getElementById('cbd9246c-ea23-49b0-84c5-e34c3e84a53f');\n",
              "var x = new MutationObserver(function (mutations, observer) {{\n",
              "        var display = window.getComputedStyle(gd).display;\n",
              "        if (!display || display === 'none') {{\n",
              "            console.log([gd, 'removed!']);\n",
              "            Plotly.purge(gd);\n",
              "            observer.disconnect();\n",
              "        }}\n",
              "}});\n",
              "\n",
              "// Listen for the removal of the full notebook cells\n",
              "var notebookContainer = gd.closest('#notebook-container');\n",
              "if (notebookContainer) {{\n",
              "    x.observe(notebookContainer, {childList: true});\n",
              "}}\n",
              "\n",
              "// Listen for the clearing of the current output cell\n",
              "var outputEl = gd.closest('.output');\n",
              "if (outputEl) {{\n",
              "    x.observe(outputEl, {childList: true});\n",
              "}}\n",
              "\n",
              "                        })                };                            </script>        </div>\n",
              "</body>\n",
              "</html>"
            ]
          },
          "metadata": {}
        }
      ]
    },
    {
      "cell_type": "code",
      "source": [
        "# diagnostics plot\n",
        "exp.plot_model(best, plot = 'diagnostics')"
      ],
      "metadata": {
        "colab": {
          "base_uri": "https://localhost:8080/",
          "height": 542
        },
        "id": "GuhPv4Woo8Ty",
        "outputId": "e690067e-d5f8-4353-ce84-24397b4e2385"
      },
      "execution_count": 21,
      "outputs": [
        {
          "output_type": "display_data",
          "data": {
            "text/html": [
              "<html>\n",
              "<head><meta charset=\"utf-8\" /></head>\n",
              "<body>\n",
              "    <div>            <script src=\"https://cdnjs.cloudflare.com/ajax/libs/mathjax/2.7.5/MathJax.js?config=TeX-AMS-MML_SVG\"></script><script type=\"text/javascript\">if (window.MathJax) {MathJax.Hub.Config({SVG: {font: \"STIX-Web\"}});}</script>                <script type=\"text/javascript\">window.PlotlyConfig = {MathJaxConfig: 'local'};</script>\n",
              "        <script src=\"https://cdn.plot.ly/plotly-2.6.3.min.js\"></script>                <div id=\"e4266bcd-07d9-4f96-a484-768350ea69a1\" class=\"plotly-graph-div\" style=\"height:525px; width:100%;\"></div>            <script type=\"text/javascript\">                                    window.PLOTLYENV=window.PLOTLYENV || {};                                    if (document.getElementById(\"e4266bcd-07d9-4f96-a484-768350ea69a1\")) {                    Plotly.newPlot(                        \"e4266bcd-07d9-4f96-a484-768350ea69a1\",                        [{\"marker\":{\"color\":\"#1f77b4\"},\"mode\":\"markers\",\"x\":[-2.260188991329375,-1.9807523966472789,-1.8027430907391904,-1.6683911939470795,-1.5587835495029956,-1.465233792685523,-1.382994127100638,-1.309171716785777,-1.2418667918433202,-1.1797611176118612,-1.1219004674623523,-1.0675705238781414,-1.0162217327405565,-0.967421566101701,-0.9208229763683788,-0.8761428492468408,-0.8331468660796096,-0.7916386077433746,-0.7514515438490051,-0.712443032389489,-0.6744897501960817,-0.6374841609623769,-0.6013317483706249,-0.5659488219328631,-0.5312607573635746,-0.49720057068155404,-0.463707751457179,-0.43072729929545756,-0.3982089211336604,-0.36610635680056963,-0.33437680758881416,-0.30298044805620655,-0.2718800053992609,-0.24104039388602685,-0.2104283942479247,-0.1800123697927051,-0.14976201244462692,-0.11964811303984203,-0.08964235107576254,-0.05971709978532289,-0.029845242919239564,0.0,0.029845242919239425,0.05971709978532289,0.08964235107576254,0.11964811303984217,0.14976201244462692,0.18001236979270496,0.21042839424792484,0.24104039388602685,0.27188000539926077,0.30298044805620655,0.33437680758881416,0.3661063568005698,0.3982089211336604,0.43072729929545744,0.4637077514571792,0.49720057068155404,0.5312607573635744,0.5659488219328631,0.6013317483706249,0.6374841609623771,0.6744897501960817,0.7124430323894889,0.7514515438490051,0.7916386077433746,0.8331468660796099,0.8761428492468408,0.9208229763683788,0.967421566101701,1.0162217327405565,1.0675705238781412,1.1219004674623523,1.1797611176118612,1.2418667918433206,1.309171716785777,1.382994127100638,1.465233792685523,1.558783549502995,1.668391193947079,1.8027430907391908,1.9807523966472789,2.2601889913293767],\"y\":[-1248.6899347240078,-1205.1968704070368,-1088.1874353016792,-1049.6977511119676,-887.264559738423,-855.5784329775902,-768.1938382135486,-721.1705253357486,-711.3175124667996,-693.7725733528941,-622.5619147271473,-613.6317988444434,-604.441745411229,-585.852984029626,-581.9095361948675,-552.1398548012094,-524.7003658295935,-494.9317299707491,-478.0841239042006,-477.70021001793975,-421.80435897018515,-411.4878901333532,-403.4117287469239,-403.28310761522334,-399.9723976630903,-392.44808282680424,-358.5362429683837,-310.3076328881252,-229.7203995838463,-205.08731850378535,-189.60224170852598,-159.5697454400597,-75.23803395850518,-64.6979315484632,4.112721482551024,39.74895570259832,53.614581731688304,61.9153118889426,79.19150890862966,80.32555058858543,143.09932464219855,160.2621349814981,171.7018517922943,197.838824294402,202.05174064488347,206.39474586830602,231.24465158578823,242.6217528981888,244.10993281808624,273.7807291914992,288.1260457965668,295.4684775241585,346.1366952218159,388.75747396929137,438.44571714799895,464.34970930574127,473.4448514355681,489.0844126690163,518.722301400966,542.9284057950636,552.1985625988909,555.6210260014959,568.9971352109587,583.6575124485562,609.3374605032177,622.0663966670413,653.084070774124,668.41115927805,670.5869148072434,697.4094058629835,808.7593041136715,823.1603439813425,933.7704695941175,937.0789089422078,1095.325014935166,1339.8355604285034,2147.049343596538,2235.001185076936,2707.086816566929,2769.5589524460866,3329.3102005759215,3436.9460766127054,3818.3007013245906],\"type\":\"scatter\",\"xaxis\":\"x4\",\"yaxis\":\"y4\",\"showlegend\":false},{\"line\":{\"color\":\"#3f3f3f\"},\"mode\":\"lines\",\"x\":[-2.260188991329375,-1.9807523966472789,-1.8027430907391904,-1.6683911939470795,-1.5587835495029956,-1.465233792685523,-1.382994127100638,-1.309171716785777,-1.2418667918433202,-1.1797611176118612,-1.1219004674623523,-1.0675705238781414,-1.0162217327405565,-0.967421566101701,-0.9208229763683788,-0.8761428492468408,-0.8331468660796096,-0.7916386077433746,-0.7514515438490051,-0.712443032389489,-0.6744897501960817,-0.6374841609623769,-0.6013317483706249,-0.5659488219328631,-0.5312607573635746,-0.49720057068155404,-0.463707751457179,-0.43072729929545756,-0.3982089211336604,-0.36610635680056963,-0.33437680758881416,-0.30298044805620655,-0.2718800053992609,-0.24104039388602685,-0.2104283942479247,-0.1800123697927051,-0.14976201244462692,-0.11964811303984203,-0.08964235107576254,-0.05971709978532289,-0.029845242919239564,0.0,0.029845242919239425,0.05971709978532289,0.08964235107576254,0.11964811303984217,0.14976201244462692,0.18001236979270496,0.21042839424792484,0.24104039388602685,0.27188000539926077,0.30298044805620655,0.33437680758881416,0.3661063568005698,0.3982089211336604,0.43072729929545744,0.4637077514571792,0.49720057068155404,0.5312607573635744,0.5659488219328631,0.6013317483706249,0.6374841609623771,0.6744897501960817,0.7124430323894889,0.7514515438490051,0.7916386077433746,0.8331468660796099,0.8761428492468408,0.9208229763683788,0.967421566101701,1.0162217327405565,1.0675705238781412,1.1219004674623523,1.1797611176118612,1.2418667918433206,1.309171716785777,1.382994127100638,1.465233792685523,1.558783549502995,1.668391193947079,1.8027430907391908,1.9807523966472789,2.2601889913293767],\"y\":[-2010.3532564653885,-1731.4030443838449,-1553.7035784565526,-1419.5855322988768,-1310.1686690629801,-1216.7817433666555,-1134.6852227498132,-1060.9913064711354,-993.8035313402868,-931.8059571927704,-874.0460183102355,-819.8106405049928,-768.5512262029549,-719.8360003070404,-673.3185192892117,-628.7161616396611,-585.7950165519948,-544.3590067866992,-504.24189181461657,-465.3012779089943,-427.41405655530525,-390.4728786230155,-354.38339230787585,-319.06205279216886,-284.4343656801441,-250.43346358177845,-216.9989413908779,-184.0758944452057,-151.61411722128528,-119.5674300675685,-87.89310877138908,-56.5513972100492,-25.505087456472978,5.280845151659577,35.839562062032314,66.20264490060427,96.40034898939359,126.46183265127291,156.41536709464333,186.28853099988785,216.1083934182061,245.9016882134654,275.69498300872453,305.514845427043,335.3880093322875,365.341543775658,395.4030274375372,425.6007315263264,455.96381436489867,486.52253127527126,517.3084638834036,548.35477363698,579.6964851983199,611.3708064944994,643.4174936482161,675.8792708721364,708.8023178178089,742.2368400087092,776.2377421070746,810.8654292190996,846.1867687348066,882.2762550499465,919.217432982236,957.1046543359249,996.0452682415473,1036.16238321363,1077.5983929789259,1120.5195380665918,1165.1218957161425,1211.6393767339712,1260.3546026298857,1311.6140169319233,1365.8493947371662,1423.6093336197011,1485.606907767218,1552.7946828980662,1626.488599176744,1708.5851197935863,1801.9720454899102,1911.3889087258071,2045.5069548834838,2223.206420810776,2502.1566328923213],\"type\":\"scatter\",\"xaxis\":\"x4\",\"yaxis\":\"y4\",\"showlegend\":false},{\"alignmentgroup\":\"True\",\"bingroup\":\"x\",\"hovertemplate\":\"variable=0<br>value=%{x}<br>count=%{y}<extra></extra>\",\"legendgroup\":\"0\",\"marker\":{\"color\":\"#1f77b4\",\"pattern\":{\"shape\":\"\"}},\"name\":\"0\",\"offsetgroup\":\"0\",\"orientation\":\"v\",\"showlegend\":false,\"x\":[3436.9460766127054,2235.001185076936,1339.8355604285034,2147.049343596538,3818.3007013245906,2769.5589524460866,3329.3102005759215,61.9153118889426,609.3374605032177,-189.60224170852598,79.19150890862966,288.1260457965668,668.41115927805,273.7807291914992,346.1366952218159,653.084070774124,-205.08731850378535,622.0663966670413,39.74895570259832,388.75747396929137,489.0844126690163,231.24465158578823,-399.9723976630903,-552.1398548012094,-494.9317299707491,4.112721482551024,1095.325014935166,202.05174064488347,-585.852984029626,-358.5362429683837,-622.5619147271473,-421.80435897018515,-524.7003658295935,937.0789089422078,-1205.1968704070368,-229.7203995838463,-1248.6899347240078,-64.6979315484632,-887.264559738423,-768.1938382135486,143.09932464219855,583.6575124485562,697.4094058629835,552.1985625988909,-1049.6977511119676,542.9284057950636,2707.086816566929,-693.7725733528941,518.722301400966,242.6217528981888,244.10993281808624,-477.70021001793975,-855.5784329775902,-613.6317988444434,160.2621349814981,53.614581731688304,555.6210260014959,473.4448514355681,-392.44808282680424,-604.441745411229,-721.1705253357486,-711.3175124667996,-581.9095361948675,-1088.1874353016792,808.7593041136715,-478.0841239042006,-310.3076328881252,-403.28310761522334,206.39474586830602,-411.4878901333532,823.1603439813425,197.838824294402,438.44571714799895,-75.23803395850518,80.32555058858543,464.34970930574127,933.7704695941175,171.7018517922943,-159.5697454400597,-403.4117287469239,568.9971352109587,295.4684775241585,670.5869148072434],\"xaxis\":\"x2\",\"yaxis\":\"y2\",\"type\":\"histogram\"},{\"line\":{\"color\":\"#3f3f3f\"},\"mode\":\"lines\",\"name\":\"ACF\",\"x\":[0,0],\"y\":[0,1.0],\"type\":\"scatter\",\"xaxis\":\"x3\",\"yaxis\":\"y3\",\"showlegend\":false},{\"line\":{\"color\":\"#3f3f3f\"},\"mode\":\"lines\",\"name\":\"ACF\",\"x\":[1,1],\"y\":[0,0.49805188733535605],\"type\":\"scatter\",\"xaxis\":\"x3\",\"yaxis\":\"y3\",\"showlegend\":false},{\"line\":{\"color\":\"#3f3f3f\"},\"mode\":\"lines\",\"name\":\"ACF\",\"x\":[2,2],\"y\":[0,0.4200396499456817],\"type\":\"scatter\",\"xaxis\":\"x3\",\"yaxis\":\"y3\",\"showlegend\":false},{\"line\":{\"color\":\"#3f3f3f\"},\"mode\":\"lines\",\"name\":\"ACF\",\"x\":[3,3],\"y\":[0,0.3020435490283387],\"type\":\"scatter\",\"xaxis\":\"x3\",\"yaxis\":\"y3\",\"showlegend\":false},{\"line\":{\"color\":\"#3f3f3f\"},\"mode\":\"lines\",\"name\":\"ACF\",\"x\":[4,4],\"y\":[0,0.31905446074982485],\"type\":\"scatter\",\"xaxis\":\"x3\",\"yaxis\":\"y3\",\"showlegend\":false},{\"line\":{\"color\":\"#3f3f3f\"},\"mode\":\"lines\",\"name\":\"ACF\",\"x\":[5,5],\"y\":[0,0.21314657432661563],\"type\":\"scatter\",\"xaxis\":\"x3\",\"yaxis\":\"y3\",\"showlegend\":false},{\"line\":{\"color\":\"#3f3f3f\"},\"mode\":\"lines\",\"name\":\"ACF\",\"x\":[6,6],\"y\":[0,0.20032989421176334],\"type\":\"scatter\",\"xaxis\":\"x3\",\"yaxis\":\"y3\",\"showlegend\":false},{\"line\":{\"color\":\"#3f3f3f\"},\"mode\":\"lines\",\"name\":\"ACF\",\"x\":[7,7],\"y\":[0,0.055312987424470876],\"type\":\"scatter\",\"xaxis\":\"x3\",\"yaxis\":\"y3\",\"showlegend\":false},{\"line\":{\"color\":\"#3f3f3f\"},\"mode\":\"lines\",\"name\":\"ACF\",\"x\":[8,8],\"y\":[0,0.11194071592522116],\"type\":\"scatter\",\"xaxis\":\"x3\",\"yaxis\":\"y3\",\"showlegend\":false},{\"line\":{\"color\":\"#3f3f3f\"},\"mode\":\"lines\",\"name\":\"ACF\",\"x\":[9,9],\"y\":[0,0.052433677544821825],\"type\":\"scatter\",\"xaxis\":\"x3\",\"yaxis\":\"y3\",\"showlegend\":false},{\"line\":{\"color\":\"#3f3f3f\"},\"mode\":\"lines\",\"name\":\"ACF\",\"x\":[10,10],\"y\":[0,0.005497342566106692],\"type\":\"scatter\",\"xaxis\":\"x3\",\"yaxis\":\"y3\",\"showlegend\":false},{\"line\":{\"color\":\"#3f3f3f\"},\"mode\":\"lines\",\"name\":\"ACF\",\"x\":[11,11],\"y\":[0,0.05319763191767666],\"type\":\"scatter\",\"xaxis\":\"x3\",\"yaxis\":\"y3\",\"showlegend\":false},{\"line\":{\"color\":\"#3f3f3f\"},\"mode\":\"lines\",\"name\":\"ACF\",\"x\":[12,12],\"y\":[0,0.0054843905492210875],\"type\":\"scatter\",\"xaxis\":\"x3\",\"yaxis\":\"y3\",\"showlegend\":false},{\"line\":{\"color\":\"#3f3f3f\"},\"mode\":\"lines\",\"name\":\"ACF\",\"x\":[13,13],\"y\":[0,0.06549447783733205],\"type\":\"scatter\",\"xaxis\":\"x3\",\"yaxis\":\"y3\",\"showlegend\":false},{\"line\":{\"color\":\"#3f3f3f\"},\"mode\":\"lines\",\"name\":\"ACF\",\"x\":[14,14],\"y\":[0,0.056391756481560085],\"type\":\"scatter\",\"xaxis\":\"x3\",\"yaxis\":\"y3\",\"showlegend\":false},{\"line\":{\"color\":\"#3f3f3f\"},\"mode\":\"lines\",\"name\":\"ACF\",\"x\":[15,15],\"y\":[0,0.051057919503811146],\"type\":\"scatter\",\"xaxis\":\"x3\",\"yaxis\":\"y3\",\"showlegend\":false},{\"line\":{\"color\":\"#3f3f3f\"},\"mode\":\"lines\",\"name\":\"ACF\",\"x\":[16,16],\"y\":[0,0.03289777347408728],\"type\":\"scatter\",\"xaxis\":\"x3\",\"yaxis\":\"y3\",\"showlegend\":false},{\"line\":{\"color\":\"#3f3f3f\"},\"mode\":\"lines\",\"name\":\"ACF\",\"x\":[17,17],\"y\":[0,-0.08069536834782176],\"type\":\"scatter\",\"xaxis\":\"x3\",\"yaxis\":\"y3\",\"showlegend\":false},{\"line\":{\"color\":\"#3f3f3f\"},\"mode\":\"lines\",\"name\":\"ACF\",\"x\":[18,18],\"y\":[0,-0.0746491901695385],\"type\":\"scatter\",\"xaxis\":\"x3\",\"yaxis\":\"y3\",\"showlegend\":false},{\"line\":{\"color\":\"#3f3f3f\"},\"mode\":\"lines\",\"name\":\"ACF\",\"x\":[19,19],\"y\":[0,-0.06893949385209229],\"type\":\"scatter\",\"xaxis\":\"x3\",\"yaxis\":\"y3\",\"showlegend\":false},{\"line\":{\"color\":\"#3f3f3f\"},\"mode\":\"lines\",\"name\":\"ACF\",\"x\":[20,20],\"y\":[0,-0.0017511823047372573],\"type\":\"scatter\",\"xaxis\":\"x3\",\"yaxis\":\"y3\",\"showlegend\":false},{\"line\":{\"color\":\"#3f3f3f\"},\"mode\":\"lines\",\"name\":\"ACF\",\"x\":[21,21],\"y\":[0,-0.014354936689852507],\"type\":\"scatter\",\"xaxis\":\"x3\",\"yaxis\":\"y3\",\"showlegend\":false},{\"line\":{\"color\":\"#3f3f3f\"},\"mode\":\"lines\",\"name\":\"ACF\",\"x\":[22,22],\"y\":[0,-0.011197181847253377],\"type\":\"scatter\",\"xaxis\":\"x3\",\"yaxis\":\"y3\",\"showlegend\":false},{\"line\":{\"color\":\"#3f3f3f\"},\"mode\":\"lines\",\"name\":\"ACF\",\"x\":[23,23],\"y\":[0,-0.06322632409417675],\"type\":\"scatter\",\"xaxis\":\"x3\",\"yaxis\":\"y3\",\"showlegend\":false},{\"line\":{\"color\":\"#3f3f3f\"},\"mode\":\"lines\",\"name\":\"ACF\",\"x\":[24,24],\"y\":[0,-0.061542502374399885],\"type\":\"scatter\",\"xaxis\":\"x3\",\"yaxis\":\"y3\",\"showlegend\":false},{\"line\":{\"color\":\"#3f3f3f\"},\"mode\":\"lines\",\"name\":\"ACF\",\"x\":[25,25],\"y\":[0,-0.02498259361343626],\"type\":\"scatter\",\"xaxis\":\"x3\",\"yaxis\":\"y3\",\"showlegend\":false},{\"line\":{\"color\":\"#3f3f3f\"},\"mode\":\"lines\",\"name\":\"ACF\",\"x\":[26,26],\"y\":[0,-0.03913870172397137],\"type\":\"scatter\",\"xaxis\":\"x3\",\"yaxis\":\"y3\",\"showlegend\":false},{\"line\":{\"color\":\"#3f3f3f\"},\"mode\":\"lines\",\"name\":\"ACF\",\"x\":[27,27],\"y\":[0,-0.011645922702177755],\"type\":\"scatter\",\"xaxis\":\"x3\",\"yaxis\":\"y3\",\"showlegend\":false},{\"line\":{\"color\":\"#3f3f3f\"},\"mode\":\"lines\",\"name\":\"ACF\",\"x\":[28,28],\"y\":[0,-0.08856925926499745],\"type\":\"scatter\",\"xaxis\":\"x3\",\"yaxis\":\"y3\",\"showlegend\":false},{\"line\":{\"color\":\"#3f3f3f\"},\"mode\":\"lines\",\"name\":\"ACF\",\"x\":[29,29],\"y\":[0,0.0018149955822004368],\"type\":\"scatter\",\"xaxis\":\"x3\",\"yaxis\":\"y3\",\"showlegend\":false},{\"line\":{\"color\":\"#3f3f3f\"},\"mode\":\"lines\",\"name\":\"ACF\",\"x\":[30,30],\"y\":[0,-0.11132452343413687],\"type\":\"scatter\",\"xaxis\":\"x3\",\"yaxis\":\"y3\",\"showlegend\":false},{\"line\":{\"color\":\"#3f3f3f\"},\"mode\":\"lines\",\"name\":\"ACF\",\"x\":[31,31],\"y\":[0,-0.04575300533375398],\"type\":\"scatter\",\"xaxis\":\"x3\",\"yaxis\":\"y3\",\"showlegend\":false},{\"line\":{\"color\":\"#3f3f3f\"},\"mode\":\"lines\",\"name\":\"ACF\",\"x\":[32,32],\"y\":[0,-0.16332845115937822],\"type\":\"scatter\",\"xaxis\":\"x3\",\"yaxis\":\"y3\",\"showlegend\":false},{\"line\":{\"color\":\"#3f3f3f\"},\"mode\":\"lines\",\"name\":\"ACF\",\"x\":[33,33],\"y\":[0,-0.11935595582060646],\"type\":\"scatter\",\"xaxis\":\"x3\",\"yaxis\":\"y3\",\"showlegend\":false},{\"line\":{\"color\":\"#3f3f3f\"},\"mode\":\"lines\",\"name\":\"ACF\",\"x\":[34,34],\"y\":[0,-0.13882817722597401],\"type\":\"scatter\",\"xaxis\":\"x3\",\"yaxis\":\"y3\",\"showlegend\":false},{\"line\":{\"color\":\"#3f3f3f\"},\"mode\":\"lines\",\"name\":\"ACF\",\"x\":[35,35],\"y\":[0,-0.05943385125987567],\"type\":\"scatter\",\"xaxis\":\"x3\",\"yaxis\":\"y3\",\"showlegend\":false},{\"line\":{\"color\":\"#3f3f3f\"},\"mode\":\"lines\",\"name\":\"ACF\",\"x\":[36,36],\"y\":[0,-0.08154779138149174],\"type\":\"scatter\",\"xaxis\":\"x3\",\"yaxis\":\"y3\",\"showlegend\":false},{\"line\":{\"color\":\"#3f3f3f\"},\"mode\":\"lines\",\"name\":\"ACF\",\"x\":[37,37],\"y\":[0,0.011777238664197219],\"type\":\"scatter\",\"xaxis\":\"x3\",\"yaxis\":\"y3\",\"showlegend\":false},{\"line\":{\"color\":\"#3f3f3f\"},\"mode\":\"lines\",\"name\":\"ACF\",\"x\":[38,38],\"y\":[0,-0.04511719886209199],\"type\":\"scatter\",\"xaxis\":\"x3\",\"yaxis\":\"y3\",\"showlegend\":false},{\"line\":{\"color\":\"#3f3f3f\"},\"mode\":\"lines\",\"name\":\"ACF\",\"x\":[39,39],\"y\":[0,-0.020331657119812954],\"type\":\"scatter\",\"xaxis\":\"x3\",\"yaxis\":\"y3\",\"showlegend\":false},{\"line\":{\"color\":\"#3f3f3f\"},\"mode\":\"lines\",\"name\":\"ACF\",\"x\":[40,40],\"y\":[0,0.06601878458071384],\"type\":\"scatter\",\"xaxis\":\"x3\",\"yaxis\":\"y3\",\"showlegend\":false},{\"marker\":{\"color\":\"#1f77b4\",\"size\":6},\"mode\":\"markers\",\"x\":[0,1,2,3,4,5,6,7,8,9,10,11,12,13,14,15,16,17,18,19,20,21,22,23,24,25,26,27,28,29,30,31,32,33,34,35,36,37,38,39,40],\"y\":[1.0,0.49805188733535605,0.4200396499456817,0.3020435490283387,0.31905446074982485,0.21314657432661563,0.20032989421176334,0.055312987424470876,0.11194071592522116,0.052433677544821825,0.005497342566106692,0.05319763191767666,0.0054843905492210875,0.06549447783733205,0.056391756481560085,0.051057919503811146,0.03289777347408728,-0.08069536834782176,-0.0746491901695385,-0.06893949385209229,-0.0017511823047372573,-0.014354936689852507,-0.011197181847253377,-0.06322632409417675,-0.061542502374399885,-0.02498259361343626,-0.03913870172397137,-0.011645922702177755,-0.08856925926499745,0.0018149955822004368,-0.11132452343413687,-0.04575300533375398,-0.16332845115937822,-0.11935595582060646,-0.13882817722597401,-0.05943385125987567,-0.08154779138149174,0.011777238664197219,-0.04511719886209199,-0.020331657119812954,0.06601878458071384],\"type\":\"scatter\",\"xaxis\":\"x3\",\"yaxis\":\"y3\",\"showlegend\":false},{\"line\":{\"color\":\"rgba(255,255,255,0)\"},\"mode\":\"lines\",\"name\":\"UC\",\"x\":[0,1,2,3,4,5,6,7,8,9,10,11,12,13,14,15,16,17,18,19,20,21,22,23,24,25,26,27,28,29,30,31,32,33,34,35,36,37,38,39,40],\"y\":[0.0,0.21513399636948388,0.2631425057057038,0.2925330332614106,0.3066273530935167,0.3216256907228636,0.32809824842531715,0.33371139672515093,0.33413545489296476,0.33586665820066264,0.3362452987325916,0.3362494584591598,0.33663876325987724,0.33664289856964413,0.3372321194070157,0.3376682731951561,0.33802540165464173,0.33817355334183985,0.33906358311998663,0.3398233857877171,0.3404700636250644,0.3404704804959954,0.3404984911548668,0.34051553272055246,0.3410584466067085,0.3415720320576535,0.3416565905206377,0.34186403853870123,0.34188239972828127,0.3429427135736668,0.3429431581510577,0.3446116437215088,0.3448926722110712,0.34845407659740396,0.35034113939255784,0.35287809336755055,0.3533410883900623,0.3542110779214823,0.3542292009924915,0.3544950622415338,0.3545490282624756],\"type\":\"scatter\",\"xaxis\":\"x3\",\"yaxis\":\"y3\",\"showlegend\":false},{\"fill\":\"tonexty\",\"fillcolor\":\"rgba(32, 146, 230,0.3)\",\"line\":{\"color\":\"rgba(255,255,255,0)\"},\"mode\":\"lines\",\"name\":\"LC\",\"x\":[0,1,2,3,4,5,6,7,8,9,10,11,12,13,14,15,16,17,18,19,20,21,22,23,24,25,26,27,28,29,30,31,32,33,34,35,36,37,38,39,40],\"y\":[0.0,-0.21513399636948388,-0.2631425057057038,-0.29253303326141067,-0.3066273530935167,-0.3216256907228636,-0.3280982484253172,-0.33371139672515093,-0.33413545489296476,-0.33586665820066264,-0.3362452987325916,-0.3362494584591598,-0.33663876325987724,-0.33664289856964413,-0.3372321194070157,-0.3376682731951561,-0.33802540165464173,-0.33817355334183985,-0.3390635831199865,-0.3398233857877171,-0.3404700636250644,-0.3404704804959954,-0.3404984911548668,-0.34051553272055246,-0.3410584466067085,-0.3415720320576535,-0.3416565905206377,-0.34186403853870123,-0.34188239972828127,-0.3429427135736668,-0.3429431581510577,-0.3446116437215088,-0.3448926722110712,-0.348454076597404,-0.35034113939255784,-0.35287809336755055,-0.3533410883900624,-0.3542110779214823,-0.3542292009924915,-0.3544950622415338,-0.3545490282624757],\"type\":\"scatter\",\"xaxis\":\"x3\",\"yaxis\":\"y3\",\"showlegend\":false},{\"marker\":{\"color\":\"#1f77b4\",\"size\":2},\"mode\":\"lines+markers\",\"name\":\"Time Plot\",\"x\":[\"2021-07-08T00:00:00\",\"2021-07-09T00:00:00\",\"2021-07-10T00:00:00\",\"2021-07-11T00:00:00\",\"2021-07-12T00:00:00\",\"2021-07-13T00:00:00\",\"2021-07-14T00:00:00\",\"2021-07-15T00:00:00\",\"2021-07-16T00:00:00\",\"2021-07-17T00:00:00\",\"2021-07-18T00:00:00\",\"2021-07-19T00:00:00\",\"2021-07-20T00:00:00\",\"2021-07-21T00:00:00\",\"2021-07-22T00:00:00\",\"2021-07-23T00:00:00\",\"2021-07-24T00:00:00\",\"2021-07-25T00:00:00\",\"2021-07-26T00:00:00\",\"2021-07-27T00:00:00\",\"2021-07-28T00:00:00\",\"2021-07-29T00:00:00\",\"2021-07-30T00:00:00\",\"2021-07-31T00:00:00\",\"2021-08-01T00:00:00\",\"2021-08-02T00:00:00\",\"2021-08-03T00:00:00\",\"2021-08-04T00:00:00\",\"2021-08-05T00:00:00\",\"2021-08-06T00:00:00\",\"2021-08-07T00:00:00\",\"2021-08-08T00:00:00\",\"2021-08-09T00:00:00\",\"2021-08-10T00:00:00\",\"2021-08-11T00:00:00\",\"2021-08-12T00:00:00\",\"2021-08-13T00:00:00\",\"2021-08-14T00:00:00\",\"2021-08-15T00:00:00\",\"2021-08-16T00:00:00\",\"2021-08-17T00:00:00\",\"2021-08-18T00:00:00\",\"2021-08-19T00:00:00\",\"2021-08-20T00:00:00\",\"2021-08-21T00:00:00\",\"2021-08-22T00:00:00\",\"2021-08-23T00:00:00\",\"2021-08-24T00:00:00\",\"2021-08-25T00:00:00\",\"2021-08-26T00:00:00\",\"2021-08-27T00:00:00\",\"2021-08-28T00:00:00\",\"2021-08-29T00:00:00\",\"2021-08-30T00:00:00\",\"2021-08-31T00:00:00\",\"2021-09-01T00:00:00\",\"2021-09-02T00:00:00\",\"2021-09-03T00:00:00\",\"2021-09-04T00:00:00\",\"2021-09-05T00:00:00\",\"2021-09-06T00:00:00\",\"2021-09-07T00:00:00\",\"2021-09-08T00:00:00\",\"2021-09-09T00:00:00\",\"2021-09-10T00:00:00\",\"2021-09-11T00:00:00\",\"2021-09-12T00:00:00\",\"2021-09-13T00:00:00\",\"2021-09-14T00:00:00\",\"2021-09-15T00:00:00\",\"2021-09-16T00:00:00\",\"2021-09-17T00:00:00\",\"2021-09-18T00:00:00\",\"2021-09-19T00:00:00\",\"2021-09-20T00:00:00\",\"2021-09-21T00:00:00\",\"2021-09-22T00:00:00\",\"2021-09-23T00:00:00\",\"2021-09-24T00:00:00\",\"2021-09-25T00:00:00\",\"2021-09-26T00:00:00\",\"2021-09-27T00:00:00\",\"2021-09-28T00:00:00\"],\"y\":[3436.9460766127054,2235.001185076936,1339.8355604285034,2147.049343596538,3818.3007013245906,2769.5589524460866,3329.3102005759215,61.9153118889426,609.3374605032177,-189.60224170852598,79.19150890862966,288.1260457965668,668.41115927805,273.7807291914992,346.1366952218159,653.084070774124,-205.08731850378535,622.0663966670413,39.74895570259832,388.75747396929137,489.0844126690163,231.24465158578823,-399.9723976630903,-552.1398548012094,-494.9317299707491,4.112721482551024,1095.325014935166,202.05174064488347,-585.852984029626,-358.5362429683837,-622.5619147271473,-421.80435897018515,-524.7003658295935,937.0789089422078,-1205.1968704070368,-229.7203995838463,-1248.6899347240078,-64.6979315484632,-887.264559738423,-768.1938382135486,143.09932464219855,583.6575124485562,697.4094058629835,552.1985625988909,-1049.6977511119676,542.9284057950636,2707.086816566929,-693.7725733528941,518.722301400966,242.6217528981888,244.10993281808624,-477.70021001793975,-855.5784329775902,-613.6317988444434,160.2621349814981,53.614581731688304,555.6210260014959,473.4448514355681,-392.44808282680424,-604.441745411229,-721.1705253357486,-711.3175124667996,-581.9095361948675,-1088.1874353016792,808.7593041136715,-478.0841239042006,-310.3076328881252,-403.28310761522334,206.39474586830602,-411.4878901333532,823.1603439813425,197.838824294402,438.44571714799895,-75.23803395850518,80.32555058858543,464.34970930574127,933.7704695941175,171.7018517922943,-159.5697454400597,-403.4117287469239,568.9971352109587,295.4684775241585,670.5869148072434],\"type\":\"scatter\",\"xaxis\":\"x\",\"yaxis\":\"y\"}],                        {\"template\":{\"data\":{\"barpolar\":[{\"marker\":{\"line\":{\"color\":\"rgb(237,237,237)\",\"width\":0.5},\"pattern\":{\"fillmode\":\"overlay\",\"size\":10,\"solidity\":0.2}},\"type\":\"barpolar\"}],\"bar\":[{\"error_x\":{\"color\":\"rgb(51,51,51)\"},\"error_y\":{\"color\":\"rgb(51,51,51)\"},\"marker\":{\"line\":{\"color\":\"rgb(237,237,237)\",\"width\":0.5},\"pattern\":{\"fillmode\":\"overlay\",\"size\":10,\"solidity\":0.2}},\"type\":\"bar\"}],\"carpet\":[{\"aaxis\":{\"endlinecolor\":\"rgb(51,51,51)\",\"gridcolor\":\"white\",\"linecolor\":\"white\",\"minorgridcolor\":\"white\",\"startlinecolor\":\"rgb(51,51,51)\"},\"baxis\":{\"endlinecolor\":\"rgb(51,51,51)\",\"gridcolor\":\"white\",\"linecolor\":\"white\",\"minorgridcolor\":\"white\",\"startlinecolor\":\"rgb(51,51,51)\"},\"type\":\"carpet\"}],\"choropleth\":[{\"colorbar\":{\"outlinewidth\":0,\"tickcolor\":\"rgb(237,237,237)\",\"ticklen\":6,\"ticks\":\"inside\"},\"type\":\"choropleth\"}],\"contourcarpet\":[{\"colorbar\":{\"outlinewidth\":0,\"tickcolor\":\"rgb(237,237,237)\",\"ticklen\":6,\"ticks\":\"inside\"},\"type\":\"contourcarpet\"}],\"contour\":[{\"colorbar\":{\"outlinewidth\":0,\"tickcolor\":\"rgb(237,237,237)\",\"ticklen\":6,\"ticks\":\"inside\"},\"colorscale\":[[0,\"rgb(20,44,66)\"],[1,\"rgb(90,179,244)\"]],\"type\":\"contour\"}],\"heatmapgl\":[{\"colorbar\":{\"outlinewidth\":0,\"tickcolor\":\"rgb(237,237,237)\",\"ticklen\":6,\"ticks\":\"inside\"},\"colorscale\":[[0,\"rgb(20,44,66)\"],[1,\"rgb(90,179,244)\"]],\"type\":\"heatmapgl\"}],\"heatmap\":[{\"colorbar\":{\"outlinewidth\":0,\"tickcolor\":\"rgb(237,237,237)\",\"ticklen\":6,\"ticks\":\"inside\"},\"colorscale\":[[0,\"rgb(20,44,66)\"],[1,\"rgb(90,179,244)\"]],\"type\":\"heatmap\"}],\"histogram2dcontour\":[{\"colorbar\":{\"outlinewidth\":0,\"tickcolor\":\"rgb(237,237,237)\",\"ticklen\":6,\"ticks\":\"inside\"},\"colorscale\":[[0,\"rgb(20,44,66)\"],[1,\"rgb(90,179,244)\"]],\"type\":\"histogram2dcontour\"}],\"histogram2d\":[{\"colorbar\":{\"outlinewidth\":0,\"tickcolor\":\"rgb(237,237,237)\",\"ticklen\":6,\"ticks\":\"inside\"},\"colorscale\":[[0,\"rgb(20,44,66)\"],[1,\"rgb(90,179,244)\"]],\"type\":\"histogram2d\"}],\"histogram\":[{\"marker\":{\"pattern\":{\"fillmode\":\"overlay\",\"size\":10,\"solidity\":0.2}},\"type\":\"histogram\"}],\"mesh3d\":[{\"colorbar\":{\"outlinewidth\":0,\"tickcolor\":\"rgb(237,237,237)\",\"ticklen\":6,\"ticks\":\"inside\"},\"type\":\"mesh3d\"}],\"parcoords\":[{\"line\":{\"colorbar\":{\"outlinewidth\":0,\"tickcolor\":\"rgb(237,237,237)\",\"ticklen\":6,\"ticks\":\"inside\"}},\"type\":\"parcoords\"}],\"pie\":[{\"automargin\":true,\"type\":\"pie\"}],\"scatter3d\":[{\"line\":{\"colorbar\":{\"outlinewidth\":0,\"tickcolor\":\"rgb(237,237,237)\",\"ticklen\":6,\"ticks\":\"inside\"}},\"marker\":{\"colorbar\":{\"outlinewidth\":0,\"tickcolor\":\"rgb(237,237,237)\",\"ticklen\":6,\"ticks\":\"inside\"}},\"type\":\"scatter3d\"}],\"scattercarpet\":[{\"marker\":{\"colorbar\":{\"outlinewidth\":0,\"tickcolor\":\"rgb(237,237,237)\",\"ticklen\":6,\"ticks\":\"inside\"}},\"type\":\"scattercarpet\"}],\"scattergeo\":[{\"marker\":{\"colorbar\":{\"outlinewidth\":0,\"tickcolor\":\"rgb(237,237,237)\",\"ticklen\":6,\"ticks\":\"inside\"}},\"type\":\"scattergeo\"}],\"scattergl\":[{\"marker\":{\"colorbar\":{\"outlinewidth\":0,\"tickcolor\":\"rgb(237,237,237)\",\"ticklen\":6,\"ticks\":\"inside\"}},\"type\":\"scattergl\"}],\"scattermapbox\":[{\"marker\":{\"colorbar\":{\"outlinewidth\":0,\"tickcolor\":\"rgb(237,237,237)\",\"ticklen\":6,\"ticks\":\"inside\"}},\"type\":\"scattermapbox\"}],\"scatterpolargl\":[{\"marker\":{\"colorbar\":{\"outlinewidth\":0,\"tickcolor\":\"rgb(237,237,237)\",\"ticklen\":6,\"ticks\":\"inside\"}},\"type\":\"scatterpolargl\"}],\"scatterpolar\":[{\"marker\":{\"colorbar\":{\"outlinewidth\":0,\"tickcolor\":\"rgb(237,237,237)\",\"ticklen\":6,\"ticks\":\"inside\"}},\"type\":\"scatterpolar\"}],\"scatter\":[{\"marker\":{\"colorbar\":{\"outlinewidth\":0,\"tickcolor\":\"rgb(237,237,237)\",\"ticklen\":6,\"ticks\":\"inside\"}},\"type\":\"scatter\"}],\"scatterternary\":[{\"marker\":{\"colorbar\":{\"outlinewidth\":0,\"tickcolor\":\"rgb(237,237,237)\",\"ticklen\":6,\"ticks\":\"inside\"}},\"type\":\"scatterternary\"}],\"surface\":[{\"colorbar\":{\"outlinewidth\":0,\"tickcolor\":\"rgb(237,237,237)\",\"ticklen\":6,\"ticks\":\"inside\"},\"colorscale\":[[0,\"rgb(20,44,66)\"],[1,\"rgb(90,179,244)\"]],\"type\":\"surface\"}],\"table\":[{\"cells\":{\"fill\":{\"color\":\"rgb(237,237,237)\"},\"line\":{\"color\":\"white\"}},\"header\":{\"fill\":{\"color\":\"rgb(217,217,217)\"},\"line\":{\"color\":\"white\"}},\"type\":\"table\"}]},\"layout\":{\"annotationdefaults\":{\"arrowhead\":0,\"arrowwidth\":1},\"autotypenumbers\":\"strict\",\"coloraxis\":{\"colorbar\":{\"outlinewidth\":0,\"tickcolor\":\"rgb(237,237,237)\",\"ticklen\":6,\"ticks\":\"inside\"}},\"colorscale\":{\"sequential\":[[0,\"rgb(20,44,66)\"],[1,\"rgb(90,179,244)\"]],\"sequentialminus\":[[0,\"rgb(20,44,66)\"],[1,\"rgb(90,179,244)\"]]},\"colorway\":[\"#F8766D\",\"#A3A500\",\"#00BF7D\",\"#00B0F6\",\"#E76BF3\"],\"font\":{\"color\":\"rgb(51,51,51)\"},\"geo\":{\"bgcolor\":\"white\",\"lakecolor\":\"white\",\"landcolor\":\"rgb(237,237,237)\",\"showlakes\":true,\"showland\":true,\"subunitcolor\":\"white\"},\"hoverlabel\":{\"align\":\"left\"},\"hovermode\":\"closest\",\"paper_bgcolor\":\"white\",\"plot_bgcolor\":\"rgb(237,237,237)\",\"polar\":{\"angularaxis\":{\"gridcolor\":\"white\",\"linecolor\":\"white\",\"showgrid\":true,\"tickcolor\":\"rgb(51,51,51)\",\"ticks\":\"outside\"},\"bgcolor\":\"rgb(237,237,237)\",\"radialaxis\":{\"gridcolor\":\"white\",\"linecolor\":\"white\",\"showgrid\":true,\"tickcolor\":\"rgb(51,51,51)\",\"ticks\":\"outside\"}},\"scene\":{\"xaxis\":{\"backgroundcolor\":\"rgb(237,237,237)\",\"gridcolor\":\"white\",\"gridwidth\":2,\"linecolor\":\"white\",\"showbackground\":true,\"showgrid\":true,\"tickcolor\":\"rgb(51,51,51)\",\"ticks\":\"outside\",\"zerolinecolor\":\"white\"},\"yaxis\":{\"backgroundcolor\":\"rgb(237,237,237)\",\"gridcolor\":\"white\",\"gridwidth\":2,\"linecolor\":\"white\",\"showbackground\":true,\"showgrid\":true,\"tickcolor\":\"rgb(51,51,51)\",\"ticks\":\"outside\",\"zerolinecolor\":\"white\"},\"zaxis\":{\"backgroundcolor\":\"rgb(237,237,237)\",\"gridcolor\":\"white\",\"gridwidth\":2,\"linecolor\":\"white\",\"showbackground\":true,\"showgrid\":true,\"tickcolor\":\"rgb(51,51,51)\",\"ticks\":\"outside\",\"zerolinecolor\":\"white\"}},\"shapedefaults\":{\"fillcolor\":\"black\",\"line\":{\"width\":0},\"opacity\":0.3},\"ternary\":{\"aaxis\":{\"gridcolor\":\"white\",\"linecolor\":\"white\",\"showgrid\":true,\"tickcolor\":\"rgb(51,51,51)\",\"ticks\":\"outside\"},\"baxis\":{\"gridcolor\":\"white\",\"linecolor\":\"white\",\"showgrid\":true,\"tickcolor\":\"rgb(51,51,51)\",\"ticks\":\"outside\"},\"bgcolor\":\"rgb(237,237,237)\",\"caxis\":{\"gridcolor\":\"white\",\"linecolor\":\"white\",\"showgrid\":true,\"tickcolor\":\"rgb(51,51,51)\",\"ticks\":\"outside\"}},\"xaxis\":{\"automargin\":true,\"gridcolor\":\"white\",\"linecolor\":\"white\",\"showgrid\":true,\"tickcolor\":\"rgb(51,51,51)\",\"ticks\":\"outside\",\"title\":{\"standoff\":15},\"zerolinecolor\":\"white\"},\"yaxis\":{\"automargin\":true,\"gridcolor\":\"white\",\"linecolor\":\"white\",\"showgrid\":true,\"tickcolor\":\"rgb(51,51,51)\",\"ticks\":\"outside\",\"title\":{\"standoff\":15},\"zerolinecolor\":\"white\"}}},\"xaxis\":{\"anchor\":\"y\",\"domain\":[0.0,0.45],\"title\":{\"text\":\"Time\"}},\"yaxis\":{\"anchor\":\"x\",\"domain\":[0.625,1.0],\"title\":{\"text\":\"Value\"}},\"xaxis2\":{\"anchor\":\"y2\",\"domain\":[0.55,1.0],\"title\":{\"text\":\"Range of Values\"}},\"yaxis2\":{\"anchor\":\"x2\",\"domain\":[0.625,1.0],\"title\":{\"text\":\"PDF\"}},\"xaxis3\":{\"anchor\":\"y3\",\"domain\":[0.0,0.45],\"range\":[-1,42],\"title\":{\"text\":\"Lags\"}},\"yaxis3\":{\"anchor\":\"x3\",\"domain\":[0.0,0.375],\"zerolinecolor\":\"#000000\",\"title\":{\"text\":\"ACF\"}},\"xaxis4\":{\"anchor\":\"y4\",\"domain\":[0.55,1.0],\"title\":{\"text\":\"Theoretical Quantities\"}},\"yaxis4\":{\"anchor\":\"x4\",\"domain\":[0.0,0.375],\"title\":{\"text\":\"Sample Quantities\"}},\"annotations\":[{\"font\":{\"size\":16},\"showarrow\":false,\"text\":\"Time Plot\",\"x\":0.225,\"xanchor\":\"center\",\"xref\":\"paper\",\"y\":1.0,\"yanchor\":\"bottom\",\"yref\":\"paper\"},{\"font\":{\"size\":16},\"showarrow\":false,\"text\":\"Histogram Plot\",\"x\":0.775,\"xanchor\":\"center\",\"xref\":\"paper\",\"y\":1.0,\"yanchor\":\"bottom\",\"yref\":\"paper\"},{\"font\":{\"size\":16},\"showarrow\":false,\"text\":\"ACF Plot\",\"x\":0.225,\"xanchor\":\"center\",\"xref\":\"paper\",\"y\":0.375,\"yanchor\":\"bottom\",\"yref\":\"paper\"},{\"font\":{\"size\":16},\"showarrow\":false,\"text\":\"Quantile-Quantile Plot\",\"x\":0.775,\"xanchor\":\"center\",\"xref\":\"paper\",\"y\":0.375,\"yanchor\":\"bottom\",\"yref\":\"paper\"},{\"font\":{\"size\":16},\"showarrow\":false,\"text\":\"Diagnostics | 'Auto ARIMA' Residuals\",\"x\":0.5,\"xanchor\":\"center\",\"xref\":\"paper\",\"y\":0,\"yanchor\":\"top\",\"yref\":\"paper\",\"yshift\":-30}],\"showlegend\":false},                        {\"responsive\": true}                    ).then(function(){\n",
              "                            \n",
              "var gd = document.getElementById('e4266bcd-07d9-4f96-a484-768350ea69a1');\n",
              "var x = new MutationObserver(function (mutations, observer) {{\n",
              "        var display = window.getComputedStyle(gd).display;\n",
              "        if (!display || display === 'none') {{\n",
              "            console.log([gd, 'removed!']);\n",
              "            Plotly.purge(gd);\n",
              "            observer.disconnect();\n",
              "        }}\n",
              "}});\n",
              "\n",
              "// Listen for the removal of the full notebook cells\n",
              "var notebookContainer = gd.closest('#notebook-container');\n",
              "if (notebookContainer) {{\n",
              "    x.observe(notebookContainer, {childList: true});\n",
              "}}\n",
              "\n",
              "// Listen for the clearing of the current output cell\n",
              "var outputEl = gd.closest('.output');\n",
              "if (outputEl) {{\n",
              "    x.observe(outputEl, {childList: true});\n",
              "}}\n",
              "\n",
              "                        })                };                            </script>        </div>\n",
              "</body>\n",
              "</html>"
            ]
          },
          "metadata": {}
        }
      ]
    },
    {
      "cell_type": "code",
      "source": [
        "## Deployment\n",
        "# finalize model\n",
        "final_best = exp.finalize_model(best)# generate predictions\n",
        "exp.predict_model(final_best, fh = 90)"
      ],
      "metadata": {
        "colab": {
          "base_uri": "https://localhost:8080/"
        },
        "id": "X_LBa1KNpHbt",
        "outputId": "10ff00d0-d4d7-441b-f954-99bc9837f79a"
      },
      "execution_count": 22,
      "outputs": [
        {
          "output_type": "execute_result",
          "data": {
            "text/plain": [
              "2021-10-06     8392.9180\n",
              "2021-10-07     9061.0279\n",
              "2021-10-08     7701.1441\n",
              "2021-10-09     4390.7528\n",
              "2021-10-10     4972.7552\n",
              "                 ...    \n",
              "2021-12-30    13175.0791\n",
              "2021-12-31    11815.1953\n",
              "2022-01-01     8504.8040\n",
              "2022-01-02     9086.8065\n",
              "2022-01-03    12086.9226\n",
              "Freq: D, Name: Total, Length: 90, dtype: float64"
            ]
          },
          "metadata": {},
          "execution_count": 22
        }
      ]
    },
    {
      "cell_type": "code",
      "source": [
        "# save the model\n",
        "exp.save_model(final_best, 'my_best_model')"
      ],
      "metadata": {
        "colab": {
          "base_uri": "https://localhost:8080/"
        },
        "id": "eP4En_ScpABs",
        "outputId": "bdaec90a-dad0-4770-d1b2-de06e90c07e8"
      },
      "execution_count": 23,
      "outputs": [
        {
          "output_type": "stream",
          "name": "stdout",
          "text": [
            "Transformation Pipeline and Model Successfully Saved\n"
          ]
        },
        {
          "output_type": "execute_result",
          "data": {
            "text/plain": [
              "(AutoARIMA(D=None, alpha=0.05, d=None, error_action='warn',\n",
              "           information_criterion='aic', max_D=1, max_P=2, max_Q=2, max_d=2,\n",
              "           max_order=5, max_p=5, max_q=5, maxiter=50, method='lbfgs', n_fits=10,\n",
              "           n_jobs=1, offset_test_args=None, out_of_sample_size=0, random=False,\n",
              "           random_state=123, scoring='mse', scoring_args=None, seasonal=True,\n",
              "           seasonal_test='ocsb', seasonal_test_args=None, sp=7, start_P=1,\n",
              "           start_Q=1, start_p=2, start_params=None, ...), 'my_best_model.pkl')"
            ]
          },
          "metadata": {},
          "execution_count": 23
        }
      ]
    },
    {
      "cell_type": "code",
      "source": [
        "# Loading the model\n",
        "autoARIMA_saved = exp.load_model('my_best_model')"
      ],
      "metadata": {
        "colab": {
          "base_uri": "https://localhost:8080/"
        },
        "id": "rMaYUqO6pVeY",
        "outputId": "c2339dbf-236f-45de-ae63-6c462686aaee"
      },
      "execution_count": 24,
      "outputs": [
        {
          "output_type": "stream",
          "name": "stdout",
          "text": [
            "Transformation Pipeline and Model Successfully Loaded\n"
          ]
        }
      ]
    },
    {
      "cell_type": "code",
      "source": [
        "print(autoARIMA_saved)"
      ],
      "metadata": {
        "colab": {
          "base_uri": "https://localhost:8080/"
        },
        "id": "EqJycLIyp9m2",
        "outputId": "8a91c99a-37ae-4f7d-c43b-d1ee2e7c13f0"
      },
      "execution_count": 25,
      "outputs": [
        {
          "output_type": "stream",
          "name": "stdout",
          "text": [
            "AutoARIMA(D=None, alpha=0.05, d=None, error_action='warn',\n",
            "          information_criterion='aic', max_D=1, max_P=2, max_Q=2, max_d=2,\n",
            "          max_order=5, max_p=5, max_q=5, maxiter=50, method='lbfgs', n_fits=10,\n",
            "          n_jobs=1, offset_test_args=None, out_of_sample_size=0, random=False,\n",
            "          random_state=123, scoring='mse', scoring_args=None, seasonal=True,\n",
            "          seasonal_test='ocsb', seasonal_test_args=None, sp=7, start_P=1,\n",
            "          start_Q=1, start_p=2, start_params=None, ...)\n"
          ]
        }
      ]
    },
    {
      "cell_type": "markdown",
      "source": [
        "## NYC Energy Consumption Dataset"
      ],
      "metadata": {
        "id": "Pqxh5QxxwWaN"
      }
    },
    {
      "cell_type": "code",
      "source": [
        "df = pd.read_csv('/content/drive/MyDrive/nyc_energy_consumption.csv')"
      ],
      "metadata": {
        "id": "c9Ap5RLBp_lr"
      },
      "execution_count": 26,
      "outputs": []
    },
    {
      "cell_type": "code",
      "source": [
        "df['timeStamp']=pd.to_datetime(df['timeStamp'])"
      ],
      "metadata": {
        "id": "RuZzkmGNwc2A"
      },
      "execution_count": 27,
      "outputs": []
    },
    {
      "cell_type": "code",
      "source": [
        "df = df[['timeStamp','demand']].rename({'timeStamp':'Date','demand':'Total'}, axis='columns')"
      ],
      "metadata": {
        "id": "lId4_pjv7W_N"
      },
      "execution_count": 28,
      "outputs": []
    },
    {
      "cell_type": "code",
      "source": [
        "df.head()"
      ],
      "metadata": {
        "colab": {
          "base_uri": "https://localhost:8080/",
          "height": 206
        },
        "id": "95QDM_RRwfpR",
        "outputId": "399c6ab0-9f70-4966-ac95-0c91170417a2"
      },
      "execution_count": 29,
      "outputs": [
        {
          "output_type": "execute_result",
          "data": {
            "text/html": [
              "<div>\n",
              "<style scoped>\n",
              "    .dataframe tbody tr th:only-of-type {\n",
              "        vertical-align: middle;\n",
              "    }\n",
              "\n",
              "    .dataframe tbody tr th {\n",
              "        vertical-align: top;\n",
              "    }\n",
              "\n",
              "    .dataframe thead th {\n",
              "        text-align: right;\n",
              "    }\n",
              "</style>\n",
              "<table border=\"1\" class=\"dataframe\">\n",
              "  <thead>\n",
              "    <tr style=\"text-align: right;\">\n",
              "      <th></th>\n",
              "      <th>Date</th>\n",
              "      <th>Total</th>\n",
              "    </tr>\n",
              "  </thead>\n",
              "  <tbody>\n",
              "    <tr>\n",
              "      <th>0</th>\n",
              "      <td>2012-01-01 00:00:00</td>\n",
              "      <td>4937.5</td>\n",
              "    </tr>\n",
              "    <tr>\n",
              "      <th>1</th>\n",
              "      <td>2012-01-01 01:00:00</td>\n",
              "      <td>4752.1</td>\n",
              "    </tr>\n",
              "    <tr>\n",
              "      <th>2</th>\n",
              "      <td>2012-01-01 02:00:00</td>\n",
              "      <td>4542.6</td>\n",
              "    </tr>\n",
              "    <tr>\n",
              "      <th>3</th>\n",
              "      <td>2012-01-01 03:00:00</td>\n",
              "      <td>4357.7</td>\n",
              "    </tr>\n",
              "    <tr>\n",
              "      <th>4</th>\n",
              "      <td>2012-01-01 04:00:00</td>\n",
              "      <td>4275.5</td>\n",
              "    </tr>\n",
              "  </tbody>\n",
              "</table>\n",
              "</div>"
            ],
            "text/plain": [
              "                 Date   Total\n",
              "0 2012-01-01 00:00:00  4937.5\n",
              "1 2012-01-01 01:00:00  4752.1\n",
              "2 2012-01-01 02:00:00  4542.6\n",
              "3 2012-01-01 03:00:00  4357.7\n",
              "4 2012-01-01 04:00:00  4275.5"
            ]
          },
          "metadata": {},
          "execution_count": 29
        }
      ]
    },
    {
      "cell_type": "code",
      "source": [
        "ny_df=df.set_index('Date')"
      ],
      "metadata": {
        "id": "DGcWmnO1zv_5"
      },
      "execution_count": 30,
      "outputs": []
    },
    {
      "cell_type": "code",
      "source": [
        "ny_df_monthly=ny_df.resample('M').mean()"
      ],
      "metadata": {
        "id": "iTiB7X78zwDD"
      },
      "execution_count": 31,
      "outputs": []
    },
    {
      "cell_type": "code",
      "source": [
        "ny_df_monthly.head()"
      ],
      "metadata": {
        "colab": {
          "base_uri": "https://localhost:8080/",
          "height": 237
        },
        "id": "0IMyBPk-zwGh",
        "outputId": "5be785d8-bd80-4dd1-fc2a-b72b9a187dc9"
      },
      "execution_count": 32,
      "outputs": [
        {
          "output_type": "execute_result",
          "data": {
            "text/html": [
              "<div>\n",
              "<style scoped>\n",
              "    .dataframe tbody tr th:only-of-type {\n",
              "        vertical-align: middle;\n",
              "    }\n",
              "\n",
              "    .dataframe tbody tr th {\n",
              "        vertical-align: top;\n",
              "    }\n",
              "\n",
              "    .dataframe thead th {\n",
              "        text-align: right;\n",
              "    }\n",
              "</style>\n",
              "<table border=\"1\" class=\"dataframe\">\n",
              "  <thead>\n",
              "    <tr style=\"text-align: right;\">\n",
              "      <th></th>\n",
              "      <th>Total</th>\n",
              "    </tr>\n",
              "    <tr>\n",
              "      <th>Date</th>\n",
              "      <th></th>\n",
              "    </tr>\n",
              "  </thead>\n",
              "  <tbody>\n",
              "    <tr>\n",
              "      <th>2012-01-31</th>\n",
              "      <td>5757.495833</td>\n",
              "    </tr>\n",
              "    <tr>\n",
              "      <th>2012-02-29</th>\n",
              "      <td>5622.331609</td>\n",
              "    </tr>\n",
              "    <tr>\n",
              "      <th>2012-03-31</th>\n",
              "      <td>5479.845491</td>\n",
              "    </tr>\n",
              "    <tr>\n",
              "      <th>2012-04-30</th>\n",
              "      <td>5368.945833</td>\n",
              "    </tr>\n",
              "    <tr>\n",
              "      <th>2012-05-31</th>\n",
              "      <td>5867.896102</td>\n",
              "    </tr>\n",
              "  </tbody>\n",
              "</table>\n",
              "</div>"
            ],
            "text/plain": [
              "                  Total\n",
              "Date                   \n",
              "2012-01-31  5757.495833\n",
              "2012-02-29  5622.331609\n",
              "2012-03-31  5479.845491\n",
              "2012-04-30  5368.945833\n",
              "2012-05-31  5867.896102"
            ]
          },
          "metadata": {},
          "execution_count": 32
        }
      ]
    },
    {
      "cell_type": "code",
      "source": [
        "ny_df_monthly.shape"
      ],
      "metadata": {
        "colab": {
          "base_uri": "https://localhost:8080/"
        },
        "id": "D8XlO8150AEE",
        "outputId": "1cffe1ee-6f3a-4716-f74e-42079d329a9d"
      },
      "execution_count": 33,
      "outputs": [
        {
          "output_type": "execute_result",
          "data": {
            "text/plain": [
              "(68, 1)"
            ]
          },
          "metadata": {},
          "execution_count": 33
        }
      ]
    },
    {
      "cell_type": "code",
      "source": [
        "ny_df_monthly.plot();"
      ],
      "metadata": {
        "colab": {
          "base_uri": "https://localhost:8080/",
          "height": 361
        },
        "id": "Tya7J7C_09t1",
        "outputId": "5562040f-0809-4708-8202-6c321222965b"
      },
      "execution_count": 34,
      "outputs": [
        {
          "output_type": "display_data",
          "data": {
            "image/png": "[encoded data removed]",
            "text/plain": [
              "<Figure size 576x396 with 1 Axes>"
            ]
          },
          "metadata": {}
        }
      ]
    },
    {
      "cell_type": "code",
      "source": [
        "exp_ny = TimeSeriesExperiment()\n",
        "exp_ny.setup(ny_df_monthly, fh = 7, fold = 3, session_id = 123)"
      ],
      "metadata": {
        "colab": {
          "base_uri": "https://localhost:8080/",
          "height": 725,
          "referenced_widgets": [
            "26ca80bd0f4a478d9c3e242e93e95de0",
            "1d6281b6dc4949c2b18df13da68a5553",
            "50658fc6ee36459f9cc902383496b618"
          ]
        },
        "id": "wLnyAx6E0_sw",
        "outputId": "3d5cbc0d-9fe1-47c9-9beb-0d14eb353791"
      },
      "execution_count": 36,
      "outputs": [
        {
          "output_type": "display_data",
          "data": {
            "text/html": [
              "<div>\n",
              "<style scoped>\n",
              "    .dataframe tbody tr th:only-of-type {\n",
              "        vertical-align: middle;\n",
              "    }\n",
              "\n",
              "    .dataframe tbody tr th {\n",
              "        vertical-align: top;\n",
              "    }\n",
              "\n",
              "    .dataframe thead th {\n",
              "        text-align: right;\n",
              "    }\n",
              "</style>\n",
              "<table border=\"1\" class=\"dataframe\">\n",
              "  <thead>\n",
              "    <tr style=\"text-align: right;\">\n",
              "      <th></th>\n",
              "      <th>Description</th>\n",
              "      <th>Value</th>\n",
              "    </tr>\n",
              "  </thead>\n",
              "  <tbody>\n",
              "    <tr>\n",
              "      <th>0</th>\n",
              "      <td>session_id</td>\n",
              "      <td>123</td>\n",
              "    </tr>\n",
              "    <tr>\n",
              "      <th>1</th>\n",
              "      <td>Original Data</td>\n",
              "      <td>(68, 1)</td>\n",
              "    </tr>\n",
              "    <tr>\n",
              "      <th>2</th>\n",
              "      <td>Missing Values</td>\n",
              "      <td>False</td>\n",
              "    </tr>\n",
              "    <tr>\n",
              "      <th>3</th>\n",
              "      <td>Transformed Train Set</td>\n",
              "      <td>(61,)</td>\n",
              "    </tr>\n",
              "    <tr>\n",
              "      <th>4</th>\n",
              "      <td>Transformed Test Set</td>\n",
              "      <td>(7,)</td>\n",
              "    </tr>\n",
              "    <tr>\n",
              "      <th>5</th>\n",
              "      <td>Fold Generator</td>\n",
              "      <td>ExpandingWindowSplitter</td>\n",
              "    </tr>\n",
              "    <tr>\n",
              "      <th>6</th>\n",
              "      <td>Fold Number</td>\n",
              "      <td>3</td>\n",
              "    </tr>\n",
              "    <tr>\n",
              "      <th>7</th>\n",
              "      <td>Enforce Prediction Interval</td>\n",
              "      <td>False</td>\n",
              "    </tr>\n",
              "    <tr>\n",
              "      <th>8</th>\n",
              "      <td>Seasonal Period Tested</td>\n",
              "      <td>12</td>\n",
              "    </tr>\n",
              "    <tr>\n",
              "      <th>9</th>\n",
              "      <td>Seasonality Detected</td>\n",
              "      <td>True</td>\n",
              "    </tr>\n",
              "    <tr>\n",
              "      <th>10</th>\n",
              "      <td>Seasonality Used in Models</td>\n",
              "      <td>12</td>\n",
              "    </tr>\n",
              "    <tr>\n",
              "      <th>11</th>\n",
              "      <td>Target Strictly Positive</td>\n",
              "      <td>True</td>\n",
              "    </tr>\n",
              "    <tr>\n",
              "      <th>12</th>\n",
              "      <td>Target White Noise</td>\n",
              "      <td>No</td>\n",
              "    </tr>\n",
              "    <tr>\n",
              "      <th>13</th>\n",
              "      <td>Recommended d</td>\n",
              "      <td>0</td>\n",
              "    </tr>\n",
              "    <tr>\n",
              "      <th>14</th>\n",
              "      <td>Recommended Seasonal D</td>\n",
              "      <td>0</td>\n",
              "    </tr>\n",
              "    <tr>\n",
              "      <th>15</th>\n",
              "      <td>CPU Jobs</td>\n",
              "      <td>-1</td>\n",
              "    </tr>\n",
              "    <tr>\n",
              "      <th>16</th>\n",
              "      <td>Use GPU</td>\n",
              "      <td>False</td>\n",
              "    </tr>\n",
              "    <tr>\n",
              "      <th>17</th>\n",
              "      <td>Log Experiment</td>\n",
              "      <td>False</td>\n",
              "    </tr>\n",
              "    <tr>\n",
              "      <th>18</th>\n",
              "      <td>Experiment Name</td>\n",
              "      <td>ts-default-name</td>\n",
              "    </tr>\n",
              "    <tr>\n",
              "      <th>19</th>\n",
              "      <td>USI</td>\n",
              "      <td>4db9</td>\n",
              "    </tr>\n",
              "    <tr>\n",
              "      <th>20</th>\n",
              "      <td>Imputation Type</td>\n",
              "      <td>simple</td>\n",
              "    </tr>\n",
              "  </tbody>\n",
              "</table>\n",
              "</div>"
            ],
            "text/plain": [
              "                    Description                    Value\n",
              "0                    session_id                      123\n",
              "1                 Original Data                  (68, 1)\n",
              "2                Missing Values                    False\n",
              "3         Transformed Train Set                    (61,)\n",
              "4          Transformed Test Set                     (7,)\n",
              "5                Fold Generator  ExpandingWindowSplitter\n",
              "6                   Fold Number                        3\n",
              "7   Enforce Prediction Interval                    False\n",
              "8        Seasonal Period Tested                       12\n",
              "9          Seasonality Detected                     True\n",
              "10   Seasonality Used in Models                       12\n",
              "11     Target Strictly Positive                     True\n",
              "12           Target White Noise                       No\n",
              "13                Recommended d                        0\n",
              "14       Recommended Seasonal D                        0\n",
              "15                     CPU Jobs                       -1\n",
              "16                      Use GPU                    False\n",
              "17               Log Experiment                    False\n",
              "18              Experiment Name          ts-default-name\n",
              "19                          USI                     4db9\n",
              "20              Imputation Type                   simple"
            ]
          },
          "metadata": {}
        },
        {
          "output_type": "execute_result",
          "data": {
            "text/plain": [
              "<pycaret.internal.pycaret_experiment.time_series_experiment.TimeSeriesExperiment at 0x7f0051cfba50>"
            ]
          },
          "metadata": {},
          "execution_count": 36
        }
      ]
    },
    {
      "cell_type": "code",
      "source": [
        "exp_ny.plot_model(plot = 'ts')"
      ],
      "metadata": {
        "colab": {
          "base_uri": "https://localhost:8080/",
          "height": 542
        },
        "id": "TERVWAv71O1b",
        "outputId": "0ca884a3-4eca-4346-c9fb-408d56fd20fd"
      },
      "execution_count": 37,
      "outputs": [
        {
          "output_type": "display_data",
          "data": {
            "text/html": [
              "<html>\n",
              "<head><meta charset=\"utf-8\" /></head>\n",
              "<body>\n",
              "    <div>            <script src=\"https://cdnjs.cloudflare.com/ajax/libs/mathjax/2.7.5/MathJax.js?config=TeX-AMS-MML_SVG\"></script><script type=\"text/javascript\">if (window.MathJax) {MathJax.Hub.Config({SVG: {font: \"STIX-Web\"}});}</script>                <script type=\"text/javascript\">window.PlotlyConfig = {MathJaxConfig: 'local'};</script>\n",
              "        <script src=\"https://cdn.plot.ly/plotly-2.6.3.min.js\"></script>                <div id=\"6c653765-69bd-4dd6-ab47-d5c5a275f301\" class=\"plotly-graph-div\" style=\"height:525px; width:100%;\"></div>            <script type=\"text/javascript\">                                    window.PLOTLYENV=window.PLOTLYENV || {};                                    if (document.getElementById(\"6c653765-69bd-4dd6-ab47-d5c5a275f301\")) {                    Plotly.newPlot(                        \"6c653765-69bd-4dd6-ab47-d5c5a275f301\",                        [{\"marker\":{\"color\":\"#3f3f3f\",\"size\":5},\"mode\":\"lines+markers\",\"name\":\"Time Series\",\"showlegend\":true,\"x\":[\"2012-01-01T00:00:00\",\"2012-02-01T00:00:00\",\"2012-03-01T00:00:00\",\"2012-04-01T00:00:00\",\"2012-05-01T00:00:00\",\"2012-06-01T00:00:00\",\"2012-07-01T00:00:00\",\"2012-08-01T00:00:00\",\"2012-09-01T00:00:00\",\"2012-10-01T00:00:00\",\"2012-11-01T00:00:00\",\"2012-12-01T00:00:00\",\"2013-01-01T00:00:00\",\"2013-02-01T00:00:00\",\"2013-03-01T00:00:00\",\"2013-04-01T00:00:00\",\"2013-05-01T00:00:00\",\"2013-06-01T00:00:00\",\"2013-07-01T00:00:00\",\"2013-08-01T00:00:00\",\"2013-09-01T00:00:00\",\"2013-10-01T00:00:00\",\"2013-11-01T00:00:00\",\"2013-12-01T00:00:00\",\"2014-01-01T00:00:00\",\"2014-02-01T00:00:00\",\"2014-03-01T00:00:00\",\"2014-04-01T00:00:00\",\"2014-05-01T00:00:00\",\"2014-06-01T00:00:00\",\"2014-07-01T00:00:00\",\"2014-08-01T00:00:00\",\"2014-09-01T00:00:00\",\"2014-10-01T00:00:00\",\"2014-11-01T00:00:00\",\"2014-12-01T00:00:00\",\"2015-01-01T00:00:00\",\"2015-02-01T00:00:00\",\"2015-03-01T00:00:00\",\"2015-04-01T00:00:00\",\"2015-05-01T00:00:00\",\"2015-06-01T00:00:00\",\"2015-07-01T00:00:00\",\"2015-08-01T00:00:00\",\"2015-09-01T00:00:00\",\"2015-10-01T00:00:00\",\"2015-11-01T00:00:00\",\"2015-12-01T00:00:00\",\"2016-01-01T00:00:00\",\"2016-02-01T00:00:00\",\"2016-03-01T00:00:00\",\"2016-04-01T00:00:00\",\"2016-05-01T00:00:00\",\"2016-06-01T00:00:00\",\"2016-07-01T00:00:00\",\"2016-08-01T00:00:00\",\"2016-09-01T00:00:00\",\"2016-10-01T00:00:00\",\"2016-11-01T00:00:00\",\"2016-12-01T00:00:00\",\"2017-01-01T00:00:00\",\"2017-02-01T00:00:00\",\"2017-03-01T00:00:00\",\"2017-04-01T00:00:00\",\"2017-05-01T00:00:00\",\"2017-06-01T00:00:00\",\"2017-07-01T00:00:00\",\"2017-08-01T00:00:00\"],\"y\":[5757.495833333329,5622.331609195395,5479.8454912516845,5368.945833333332,5867.896102150537,6634.310277777774,7917.395295698933,7622.954704301079,6412.603472222217,5418.996370967746,5337.659861111115,5581.561424731177,5786.083736559137,5851.953273809524,5601.792328398383,5363.968055555549,5607.0258064516165,6748.064861111119,8118.8922043010725,6872.71989247312,6152.224305555546,5606.910215053763,5515.0995833333345,5772.254838709673,6093.072849462364,5925.564136904762,5699.518707940782,5312.782361111114,5454.653897849461,6510.875416666669,7203.60698924732,6750.527688172048,6378.545694444455,5448.665322580643,5477.985555555556,5686.5802419354895,5976.82984811828,6239.095264880954,5720.79299730458,5251.143144444442,5712.8579892473135,6482.128290277783,7466.376149193547,7458.210470430115,6832.174806944438,5347.145436657684,5332.59848194444,5445.284844086018,5773.984214864866,5782.288425287358,5387.212437415879,5287.94848261474,5563.631038978499,6547.856534458518,7731.891469086024,7962.950690444148,6693.131075000001,5427.31438627187,5371.1899444444425,5720.892685483872,5738.234349932702,5611.792171385994,5660.977831763126,5232.217107391911,5421.315935222667,6597.9903458333365,7309.246676985201,6971.501247747749],\"type\":\"scatter\"}],                        {\"title\":{\"text\":\"Time Series | Total\"},\"xaxis\":{\"title\":{\"text\":\"Time\"}},\"yaxis\":{\"title\":{\"text\":\"Values\"}},\"template\":{\"data\":{\"barpolar\":[{\"marker\":{\"line\":{\"color\":\"rgb(237,237,237)\",\"width\":0.5},\"pattern\":{\"fillmode\":\"overlay\",\"size\":10,\"solidity\":0.2}},\"type\":\"barpolar\"}],\"bar\":[{\"error_x\":{\"color\":\"rgb(51,51,51)\"},\"error_y\":{\"color\":\"rgb(51,51,51)\"},\"marker\":{\"line\":{\"color\":\"rgb(237,237,237)\",\"width\":0.5},\"pattern\":{\"fillmode\":\"overlay\",\"size\":10,\"solidity\":0.2}},\"type\":\"bar\"}],\"carpet\":[{\"aaxis\":{\"endlinecolor\":\"rgb(51,51,51)\",\"gridcolor\":\"white\",\"linecolor\":\"white\",\"minorgridcolor\":\"white\",\"startlinecolor\":\"rgb(51,51,51)\"},\"baxis\":{\"endlinecolor\":\"rgb(51,51,51)\",\"gridcolor\":\"white\",\"linecolor\":\"white\",\"minorgridcolor\":\"white\",\"startlinecolor\":\"rgb(51,51,51)\"},\"type\":\"carpet\"}],\"choropleth\":[{\"colorbar\":{\"outlinewidth\":0,\"tickcolor\":\"rgb(237,237,237)\",\"ticklen\":6,\"ticks\":\"inside\"},\"type\":\"choropleth\"}],\"contourcarpet\":[{\"colorbar\":{\"outlinewidth\":0,\"tickcolor\":\"rgb(237,237,237)\",\"ticklen\":6,\"ticks\":\"inside\"},\"type\":\"contourcarpet\"}],\"contour\":[{\"colorbar\":{\"outlinewidth\":0,\"tickcolor\":\"rgb(237,237,237)\",\"ticklen\":6,\"ticks\":\"inside\"},\"colorscale\":[[0,\"rgb(20,44,66)\"],[1,\"rgb(90,179,244)\"]],\"type\":\"contour\"}],\"heatmapgl\":[{\"colorbar\":{\"outlinewidth\":0,\"tickcolor\":\"rgb(237,237,237)\",\"ticklen\":6,\"ticks\":\"inside\"},\"colorscale\":[[0,\"rgb(20,44,66)\"],[1,\"rgb(90,179,244)\"]],\"type\":\"heatmapgl\"}],\"heatmap\":[{\"colorbar\":{\"outlinewidth\":0,\"tickcolor\":\"rgb(237,237,237)\",\"ticklen\":6,\"ticks\":\"inside\"},\"colorscale\":[[0,\"rgb(20,44,66)\"],[1,\"rgb(90,179,244)\"]],\"type\":\"heatmap\"}],\"histogram2dcontour\":[{\"colorbar\":{\"outlinewidth\":0,\"tickcolor\":\"rgb(237,237,237)\",\"ticklen\":6,\"ticks\":\"inside\"},\"colorscale\":[[0,\"rgb(20,44,66)\"],[1,\"rgb(90,179,244)\"]],\"type\":\"histogram2dcontour\"}],\"histogram2d\":[{\"colorbar\":{\"outlinewidth\":0,\"tickcolor\":\"rgb(237,237,237)\",\"ticklen\":6,\"ticks\":\"inside\"},\"colorscale\":[[0,\"rgb(20,44,66)\"],[1,\"rgb(90,179,244)\"]],\"type\":\"histogram2d\"}],\"histogram\":[{\"marker\":{\"pattern\":{\"fillmode\":\"overlay\",\"size\":10,\"solidity\":0.2}},\"type\":\"histogram\"}],\"mesh3d\":[{\"colorbar\":{\"outlinewidth\":0,\"tickcolor\":\"rgb(237,237,237)\",\"ticklen\":6,\"ticks\":\"inside\"},\"type\":\"mesh3d\"}],\"parcoords\":[{\"line\":{\"colorbar\":{\"outlinewidth\":0,\"tickcolor\":\"rgb(237,237,237)\",\"ticklen\":6,\"ticks\":\"inside\"}},\"type\":\"parcoords\"}],\"pie\":[{\"automargin\":true,\"type\":\"pie\"}],\"scatter3d\":[{\"line\":{\"colorbar\":{\"outlinewidth\":0,\"tickcolor\":\"rgb(237,237,237)\",\"ticklen\":6,\"ticks\":\"inside\"}},\"marker\":{\"colorbar\":{\"outlinewidth\":0,\"tickcolor\":\"rgb(237,237,237)\",\"ticklen\":6,\"ticks\":\"inside\"}},\"type\":\"scatter3d\"}],\"scattercarpet\":[{\"marker\":{\"colorbar\":{\"outlinewidth\":0,\"tickcolor\":\"rgb(237,237,237)\",\"ticklen\":6,\"ticks\":\"inside\"}},\"type\":\"scattercarpet\"}],\"scattergeo\":[{\"marker\":{\"colorbar\":{\"outlinewidth\":0,\"tickcolor\":\"rgb(237,237,237)\",\"ticklen\":6,\"ticks\":\"inside\"}},\"type\":\"scattergeo\"}],\"scattergl\":[{\"marker\":{\"colorbar\":{\"outlinewidth\":0,\"tickcolor\":\"rgb(237,237,237)\",\"ticklen\":6,\"ticks\":\"inside\"}},\"type\":\"scattergl\"}],\"scattermapbox\":[{\"marker\":{\"colorbar\":{\"outlinewidth\":0,\"tickcolor\":\"rgb(237,237,237)\",\"ticklen\":6,\"ticks\":\"inside\"}},\"type\":\"scattermapbox\"}],\"scatterpolargl\":[{\"marker\":{\"colorbar\":{\"outlinewidth\":0,\"tickcolor\":\"rgb(237,237,237)\",\"ticklen\":6,\"ticks\":\"inside\"}},\"type\":\"scatterpolargl\"}],\"scatterpolar\":[{\"marker\":{\"colorbar\":{\"outlinewidth\":0,\"tickcolor\":\"rgb(237,237,237)\",\"ticklen\":6,\"ticks\":\"inside\"}},\"type\":\"scatterpolar\"}],\"scatter\":[{\"marker\":{\"colorbar\":{\"outlinewidth\":0,\"tickcolor\":\"rgb(237,237,237)\",\"ticklen\":6,\"ticks\":\"inside\"}},\"type\":\"scatter\"}],\"scatterternary\":[{\"marker\":{\"colorbar\":{\"outlinewidth\":0,\"tickcolor\":\"rgb(237,237,237)\",\"ticklen\":6,\"ticks\":\"inside\"}},\"type\":\"scatterternary\"}],\"surface\":[{\"colorbar\":{\"outlinewidth\":0,\"tickcolor\":\"rgb(237,237,237)\",\"ticklen\":6,\"ticks\":\"inside\"},\"colorscale\":[[0,\"rgb(20,44,66)\"],[1,\"rgb(90,179,244)\"]],\"type\":\"surface\"}],\"table\":[{\"cells\":{\"fill\":{\"color\":\"rgb(237,237,237)\"},\"line\":{\"color\":\"white\"}},\"header\":{\"fill\":{\"color\":\"rgb(217,217,217)\"},\"line\":{\"color\":\"white\"}},\"type\":\"table\"}]},\"layout\":{\"annotationdefaults\":{\"arrowhead\":0,\"arrowwidth\":1},\"autotypenumbers\":\"strict\",\"coloraxis\":{\"colorbar\":{\"outlinewidth\":0,\"tickcolor\":\"rgb(237,237,237)\",\"ticklen\":6,\"ticks\":\"inside\"}},\"colorscale\":{\"sequential\":[[0,\"rgb(20,44,66)\"],[1,\"rgb(90,179,244)\"]],\"sequentialminus\":[[0,\"rgb(20,44,66)\"],[1,\"rgb(90,179,244)\"]]},\"colorway\":[\"#F8766D\",\"#A3A500\",\"#00BF7D\",\"#00B0F6\",\"#E76BF3\"],\"font\":{\"color\":\"rgb(51,51,51)\"},\"geo\":{\"bgcolor\":\"white\",\"lakecolor\":\"white\",\"landcolor\":\"rgb(237,237,237)\",\"showlakes\":true,\"showland\":true,\"subunitcolor\":\"white\"},\"hoverlabel\":{\"align\":\"left\"},\"hovermode\":\"closest\",\"paper_bgcolor\":\"white\",\"plot_bgcolor\":\"rgb(237,237,237)\",\"polar\":{\"angularaxis\":{\"gridcolor\":\"white\",\"linecolor\":\"white\",\"showgrid\":true,\"tickcolor\":\"rgb(51,51,51)\",\"ticks\":\"outside\"},\"bgcolor\":\"rgb(237,237,237)\",\"radialaxis\":{\"gridcolor\":\"white\",\"linecolor\":\"white\",\"showgrid\":true,\"tickcolor\":\"rgb(51,51,51)\",\"ticks\":\"outside\"}},\"scene\":{\"xaxis\":{\"backgroundcolor\":\"rgb(237,237,237)\",\"gridcolor\":\"white\",\"gridwidth\":2,\"linecolor\":\"white\",\"showbackground\":true,\"showgrid\":true,\"tickcolor\":\"rgb(51,51,51)\",\"ticks\":\"outside\",\"zerolinecolor\":\"white\"},\"yaxis\":{\"backgroundcolor\":\"rgb(237,237,237)\",\"gridcolor\":\"white\",\"gridwidth\":2,\"linecolor\":\"white\",\"showbackground\":true,\"showgrid\":true,\"tickcolor\":\"rgb(51,51,51)\",\"ticks\":\"outside\",\"zerolinecolor\":\"white\"},\"zaxis\":{\"backgroundcolor\":\"rgb(237,237,237)\",\"gridcolor\":\"white\",\"gridwidth\":2,\"linecolor\":\"white\",\"showbackground\":true,\"showgrid\":true,\"tickcolor\":\"rgb(51,51,51)\",\"ticks\":\"outside\",\"zerolinecolor\":\"white\"}},\"shapedefaults\":{\"fillcolor\":\"black\",\"line\":{\"width\":0},\"opacity\":0.3},\"ternary\":{\"aaxis\":{\"gridcolor\":\"white\",\"linecolor\":\"white\",\"showgrid\":true,\"tickcolor\":\"rgb(51,51,51)\",\"ticks\":\"outside\"},\"baxis\":{\"gridcolor\":\"white\",\"linecolor\":\"white\",\"showgrid\":true,\"tickcolor\":\"rgb(51,51,51)\",\"ticks\":\"outside\"},\"bgcolor\":\"rgb(237,237,237)\",\"caxis\":{\"gridcolor\":\"white\",\"linecolor\":\"white\",\"showgrid\":true,\"tickcolor\":\"rgb(51,51,51)\",\"ticks\":\"outside\"}},\"xaxis\":{\"automargin\":true,\"gridcolor\":\"white\",\"linecolor\":\"white\",\"showgrid\":true,\"tickcolor\":\"rgb(51,51,51)\",\"ticks\":\"outside\",\"title\":{\"standoff\":15},\"zerolinecolor\":\"white\"},\"yaxis\":{\"automargin\":true,\"gridcolor\":\"white\",\"linecolor\":\"white\",\"showgrid\":true,\"tickcolor\":\"rgb(51,51,51)\",\"ticks\":\"outside\",\"title\":{\"standoff\":15},\"zerolinecolor\":\"white\"}}},\"showlegend\":true},                        {\"responsive\": true}                    ).then(function(){\n",
              "                            \n",
              "var gd = document.getElementById('6c653765-69bd-4dd6-ab47-d5c5a275f301');\n",
              "var x = new MutationObserver(function (mutations, observer) {{\n",
              "        var display = window.getComputedStyle(gd).display;\n",
              "        if (!display || display === 'none') {{\n",
              "            console.log([gd, 'removed!']);\n",
              "            Plotly.purge(gd);\n",
              "            observer.disconnect();\n",
              "        }}\n",
              "}});\n",
              "\n",
              "// Listen for the removal of the full notebook cells\n",
              "var notebookContainer = gd.closest('#notebook-container');\n",
              "if (notebookContainer) {{\n",
              "    x.observe(notebookContainer, {childList: true});\n",
              "}}\n",
              "\n",
              "// Listen for the clearing of the current output cell\n",
              "var outputEl = gd.closest('.output');\n",
              "if (outputEl) {{\n",
              "    x.observe(outputEl, {childList: true});\n",
              "}}\n",
              "\n",
              "                        })                };                            </script>        </div>\n",
              "</body>\n",
              "</html>"
            ]
          },
          "metadata": {}
        }
      ]
    },
    {
      "cell_type": "code",
      "source": [
        "# Diagnostics plot\n",
        "exp_ny.plot_model(plot = 'diagnostics')"
      ],
      "metadata": {
        "colab": {
          "base_uri": "https://localhost:8080/",
          "height": 542
        },
        "id": "AIYTQZr01o_r",
        "outputId": "ecc187d7-acb2-468d-9df6-18d68cfa1b50"
      },
      "execution_count": 38,
      "outputs": [
        {
          "output_type": "display_data",
          "data": {
            "text/html": [
              "<html>\n",
              "<head><meta charset=\"utf-8\" /></head>\n",
              "<body>\n",
              "    <div>            <script src=\"https://cdnjs.cloudflare.com/ajax/libs/mathjax/2.7.5/MathJax.js?config=TeX-AMS-MML_SVG\"></script><script type=\"text/javascript\">if (window.MathJax) {MathJax.Hub.Config({SVG: {font: \"STIX-Web\"}});}</script>                <script type=\"text/javascript\">window.PlotlyConfig = {MathJaxConfig: 'local'};</script>\n",
              "        <script src=\"https://cdn.plot.ly/plotly-2.6.3.min.js\"></script>                <div id=\"bebb4a24-4ed8-4f00-bc61-c1c230c5d37a\" class=\"plotly-graph-div\" style=\"height:525px; width:100%;\"></div>            <script type=\"text/javascript\">                                    window.PLOTLYENV=window.PLOTLYENV || {};                                    if (document.getElementById(\"bebb4a24-4ed8-4f00-bc61-c1c230c5d37a\")) {                    Plotly.newPlot(                        \"bebb4a24-4ed8-4f00-bc61-c1c230c5d37a\",                        [{\"marker\":{\"color\":\"#1f77b4\"},\"mode\":\"markers\",\"name\":\"Total\",\"x\":[-2.183683578885425,-1.8959170463556885,-1.7116753065097285,-1.5720367482422435,-1.4576844637815252,-1.3597373839386062,-1.2733368077891136,-1.195519664355964,-1.1243382315686392,-1.0584396026633436,-0.9968432944381665,-0.9388143168769032,-0.883786279781473,-0.8313125238246412,-0.7810338115227088,-0.7326562468998598,-0.6859357530493926,-0.6406668899191049,-0.5966746244453037,-0.5538081574751409,-0.5119362138713294,-0.4709433928682812,-0.43072729929545756,-0.39119625818947174,-0.3522674707376132,-0.3138655076874214,-0.2759210631079599,-0.23836991039706376,-0.20115201610437317,-0.164210777079331,-0.12749235373106182,-0.09094507753549709,-0.05451891484810106,-0.018164971926272335,0.018164971926272474,0.05451891484810106,0.09094507753549723,0.12749235373106182,0.16421077707933085,0.20115201610437317,0.23836991039706376,0.27592106310796005,0.3138655076874214,0.3522674707376131,0.39119625818947174,0.43072729929545744,0.4709433928682812,0.5119362138713294,0.553808157475141,0.5966746244453037,0.6406668899191048,0.6859357530493926,0.7326562468998598,0.7810338115227088,0.8313125238246412,0.8837862797814732,0.9388143168769032,0.9968432944381665,1.0584396026633436,1.1243382315686385,1.195519664355964,1.2733368077891136,1.3597373839386055,1.4576844637815252,1.5720367482422428,1.7116753065097288,1.895917046355688,2.1836835788854265],\"y\":[5232.217107391911,5251.143144444442,5287.94848261474,5312.782361111114,5332.59848194444,5337.659861111115,5347.145436657684,5363.968055555549,5368.945833333332,5371.1899444444425,5387.212437415879,5418.996370967746,5421.315935222667,5427.31438627187,5445.284844086018,5448.665322580643,5454.653897849461,5477.985555555556,5479.8454912516845,5515.0995833333345,5563.631038978499,5581.561424731177,5601.792328398383,5606.910215053763,5607.0258064516165,5611.792171385994,5622.331609195395,5660.977831763126,5686.5802419354895,5699.518707940782,5712.8579892473135,5720.79299730458,5720.892685483872,5738.234349932702,5757.495833333329,5772.254838709673,5773.984214864866,5782.288425287358,5786.083736559137,5851.953273809524,5867.896102150537,5925.564136904762,5976.82984811828,6093.072849462364,6152.224305555546,6239.095264880954,6378.545694444455,6412.603472222217,6482.128290277783,6510.875416666669,6547.856534458518,6597.9903458333365,6634.310277777774,6693.131075000001,6748.064861111119,6750.527688172048,6832.174806944438,6872.71989247312,6971.501247747749,7203.60698924732,7309.246676985201,7458.210470430115,7466.376149193547,7622.954704301079,7731.891469086024,7917.395295698933,7962.950690444148,8118.8922043010725],\"type\":\"scatter\",\"xaxis\":\"x4\",\"yaxis\":\"y4\",\"showlegend\":false},{\"line\":{\"color\":\"#3f3f3f\"},\"mode\":\"lines\",\"name\":\"Total\",\"x\":[-2.183683578885425,-1.8959170463556885,-1.7116753065097285,-1.5720367482422435,-1.4576844637815252,-1.3597373839386062,-1.2733368077891136,-1.195519664355964,-1.1243382315686392,-1.0584396026633436,-0.9968432944381665,-0.9388143168769032,-0.883786279781473,-0.8313125238246412,-0.7810338115227088,-0.7326562468998598,-0.6859357530493926,-0.6406668899191049,-0.5966746244453037,-0.5538081574751409,-0.5119362138713294,-0.4709433928682812,-0.43072729929545756,-0.39119625818947174,-0.3522674707376132,-0.3138655076874214,-0.2759210631079599,-0.23836991039706376,-0.20115201610437317,-0.164210777079331,-0.12749235373106182,-0.09094507753549709,-0.05451891484810106,-0.018164971926272335,0.018164971926272474,0.05451891484810106,0.09094507753549723,0.12749235373106182,0.16421077707933085,0.20115201610437317,0.23836991039706376,0.27592106310796005,0.3138655076874214,0.3522674707376131,0.39119625818947174,0.43072729929545744,0.4709433928682812,0.5119362138713294,0.553808157475141,0.5966746244453037,0.6406668899191048,0.6859357530493926,0.7326562468998598,0.7810338115227088,0.8313125238246412,0.8837862797814732,0.9388143168769032,0.9968432944381665,1.0584396026633436,1.1243382315686385,1.195519664355964,1.2733368077891136,1.3597373839386055,1.4576844637815252,1.5720367482422428,1.7116753065097288,1.895917046355688,2.1836835788854265],\"y\":[4390.29577313982,4612.150773401319,4754.192833964706,4861.847855932025,4950.008302791195,5025.521077793683,5092.1320199200345,5152.125523073242,5207.003193005252,5257.808059730002,5305.296031514879,5350.033752468229,5392.457883853052,5432.912779838296,5471.675396299751,5508.972313761631,5544.991704495825,5579.89195350435,5613.8080033743445,5646.856113442156,5679.137490909889,5710.741104555999,5741.74589643253,5772.22254379596,5802.2348807914705,5831.841059966117,5861.09451306261,5890.044755890568,5918.7380715289455,5947.218098450471,5975.526344548166,6003.7026439205965,6031.785570248044,6059.81281839788,6087.821564349161,6115.848812498997,6143.931738826445,6172.108038198875,6200.41628429657,6228.896311218095,6257.589626856473,6286.539869684431,6315.7933227809235,6345.3995019555705,6375.411838951081,6405.888486314511,6436.893278191042,6468.496891837152,6500.778269304885,6533.8263793726965,6567.742429242691,6602.642678251216,6638.66206898541,6675.95898644729,6714.721602908745,6755.1764988939885,6797.600630278812,6842.338351232162,6889.826323017039,6940.631189741788,6995.508859673799,7055.502362827006,7122.113304953358,7197.626079955846,7285.786526815015,7393.441548782336,7535.483609345722,7757.338609607221],\"type\":\"scatter\",\"xaxis\":\"x4\",\"yaxis\":\"y4\",\"showlegend\":false},{\"alignmentgroup\":\"True\",\"bingroup\":\"x\",\"hovertemplate\":\"variable=Total<br>value=%{x}<br>count=%{y}<extra></extra>\",\"legendgroup\":\"Total\",\"marker\":{\"color\":\"#1f77b4\",\"pattern\":{\"shape\":\"\"}},\"name\":\"Total\",\"offsetgroup\":\"Total\",\"orientation\":\"v\",\"showlegend\":false,\"x\":[5757.495833333329,5622.331609195395,5479.8454912516845,5368.945833333332,5867.896102150537,6634.310277777774,7917.395295698933,7622.954704301079,6412.603472222217,5418.996370967746,5337.659861111115,5581.561424731177,5786.083736559137,5851.953273809524,5601.792328398383,5363.968055555549,5607.0258064516165,6748.064861111119,8118.8922043010725,6872.71989247312,6152.224305555546,5606.910215053763,5515.0995833333345,5772.254838709673,6093.072849462364,5925.564136904762,5699.518707940782,5312.782361111114,5454.653897849461,6510.875416666669,7203.60698924732,6750.527688172048,6378.545694444455,5448.665322580643,5477.985555555556,5686.5802419354895,5976.82984811828,6239.095264880954,5720.79299730458,5251.143144444442,5712.8579892473135,6482.128290277783,7466.376149193547,7458.210470430115,6832.174806944438,5347.145436657684,5332.59848194444,5445.284844086018,5773.984214864866,5782.288425287358,5387.212437415879,5287.94848261474,5563.631038978499,6547.856534458518,7731.891469086024,7962.950690444148,6693.131075000001,5427.31438627187,5371.1899444444425,5720.892685483872,5738.234349932702,5611.792171385994,5660.977831763126,5232.217107391911,5421.315935222667,6597.9903458333365,7309.246676985201,6971.501247747749],\"xaxis\":\"x2\",\"yaxis\":\"y2\",\"type\":\"histogram\"},{\"line\":{\"color\":\"#3f3f3f\"},\"mode\":\"lines\",\"name\":\"ACF\",\"x\":[0,0],\"y\":[0,1.0],\"type\":\"scatter\",\"xaxis\":\"x3\",\"yaxis\":\"y3\",\"showlegend\":false},{\"line\":{\"color\":\"#3f3f3f\"},\"mode\":\"lines\",\"name\":\"ACF\",\"x\":[1,1],\"y\":[0,0.6477110270635319],\"type\":\"scatter\",\"xaxis\":\"x3\",\"yaxis\":\"y3\",\"showlegend\":false},{\"line\":{\"color\":\"#3f3f3f\"},\"mode\":\"lines\",\"name\":\"ACF\",\"x\":[2,2],\"y\":[0,0.010449897709996173],\"type\":\"scatter\",\"xaxis\":\"x3\",\"yaxis\":\"y3\",\"showlegend\":false},{\"line\":{\"color\":\"#3f3f3f\"},\"mode\":\"lines\",\"name\":\"ACF\",\"x\":[3,3],\"y\":[0,-0.4198399887274915],\"type\":\"scatter\",\"xaxis\":\"x3\",\"yaxis\":\"y3\",\"showlegend\":false},{\"line\":{\"color\":\"#3f3f3f\"},\"mode\":\"lines\",\"name\":\"ACF\",\"x\":[4,4],\"y\":[0,-0.43700027629609595],\"type\":\"scatter\",\"xaxis\":\"x3\",\"yaxis\":\"y3\",\"showlegend\":false},{\"line\":{\"color\":\"#3f3f3f\"},\"mode\":\"lines\",\"name\":\"ACF\",\"x\":[5,5],\"y\":[0,-0.22309618818477678],\"type\":\"scatter\",\"xaxis\":\"x3\",\"yaxis\":\"y3\",\"showlegend\":false},{\"line\":{\"color\":\"#3f3f3f\"},\"mode\":\"lines\",\"name\":\"ACF\",\"x\":[6,6],\"y\":[0,-0.0849734555284512],\"type\":\"scatter\",\"xaxis\":\"x3\",\"yaxis\":\"y3\",\"showlegend\":false},{\"line\":{\"color\":\"#3f3f3f\"},\"mode\":\"lines\",\"name\":\"ACF\",\"x\":[7,7],\"y\":[0,-0.18083158287669415],\"type\":\"scatter\",\"xaxis\":\"x3\",\"yaxis\":\"y3\",\"showlegend\":false},{\"line\":{\"color\":\"#3f3f3f\"},\"mode\":\"lines\",\"name\":\"ACF\",\"x\":[8,8],\"y\":[0,-0.3863525369307362],\"type\":\"scatter\",\"xaxis\":\"x3\",\"yaxis\":\"y3\",\"showlegend\":false},{\"line\":{\"color\":\"#3f3f3f\"},\"mode\":\"lines\",\"name\":\"ACF\",\"x\":[9,9],\"y\":[0,-0.3895897526980718],\"type\":\"scatter\",\"xaxis\":\"x3\",\"yaxis\":\"y3\",\"showlegend\":false},{\"line\":{\"color\":\"#3f3f3f\"},\"mode\":\"lines\",\"name\":\"ACF\",\"x\":[10,10],\"y\":[0,-0.0057068172443964565],\"type\":\"scatter\",\"xaxis\":\"x3\",\"yaxis\":\"y3\",\"showlegend\":false},{\"line\":{\"color\":\"#3f3f3f\"},\"mode\":\"lines\",\"name\":\"ACF\",\"x\":[11,11],\"y\":[0,0.5307278560559318],\"type\":\"scatter\",\"xaxis\":\"x3\",\"yaxis\":\"y3\",\"showlegend\":false},{\"line\":{\"color\":\"#3f3f3f\"},\"mode\":\"lines\",\"name\":\"ACF\",\"x\":[12,12],\"y\":[0,0.7586961292723378],\"type\":\"scatter\",\"xaxis\":\"x3\",\"yaxis\":\"y3\",\"showlegend\":false},{\"line\":{\"color\":\"#3f3f3f\"},\"mode\":\"lines\",\"name\":\"ACF\",\"x\":[13,13],\"y\":[0,0.4873881562734948],\"type\":\"scatter\",\"xaxis\":\"x3\",\"yaxis\":\"y3\",\"showlegend\":false},{\"line\":{\"color\":\"#3f3f3f\"},\"mode\":\"lines\",\"name\":\"ACF\",\"x\":[14,14],\"y\":[0,0.026539587648458495],\"type\":\"scatter\",\"xaxis\":\"x3\",\"yaxis\":\"y3\",\"showlegend\":false},{\"line\":{\"color\":\"#3f3f3f\"},\"mode\":\"lines\",\"name\":\"ACF\",\"x\":[15,15],\"y\":[0,-0.31570974100766946],\"type\":\"scatter\",\"xaxis\":\"x3\",\"yaxis\":\"y3\",\"showlegend\":false},{\"line\":{\"color\":\"#3f3f3f\"},\"mode\":\"lines\",\"name\":\"ACF\",\"x\":[16,16],\"y\":[0,-0.3233316217195578],\"type\":\"scatter\",\"xaxis\":\"x3\",\"yaxis\":\"y3\",\"showlegend\":false},{\"line\":{\"color\":\"#3f3f3f\"},\"mode\":\"lines\",\"name\":\"ACF\",\"x\":[17,17],\"y\":[0,-0.14047501311360425],\"type\":\"scatter\",\"xaxis\":\"x3\",\"yaxis\":\"y3\",\"showlegend\":false},{\"line\":{\"color\":\"#3f3f3f\"},\"mode\":\"lines\",\"name\":\"ACF\",\"x\":[18,18],\"y\":[0,-0.017848588075727756],\"type\":\"scatter\",\"xaxis\":\"x3\",\"yaxis\":\"y3\",\"showlegend\":false},{\"line\":{\"color\":\"#3f3f3f\"},\"mode\":\"lines\",\"name\":\"ACF\",\"x\":[19,19],\"y\":[0,-0.09333947363904449],\"type\":\"scatter\",\"xaxis\":\"x3\",\"yaxis\":\"y3\",\"showlegend\":false},{\"line\":{\"color\":\"#3f3f3f\"},\"mode\":\"lines\",\"name\":\"ACF\",\"x\":[20,20],\"y\":[0,-0.2783572958913497],\"type\":\"scatter\",\"xaxis\":\"x3\",\"yaxis\":\"y3\",\"showlegend\":false},{\"line\":{\"color\":\"#3f3f3f\"},\"mode\":\"lines\",\"name\":\"ACF\",\"x\":[21,21],\"y\":[0,-0.3093942119411717],\"type\":\"scatter\",\"xaxis\":\"x3\",\"yaxis\":\"y3\",\"showlegend\":false},{\"line\":{\"color\":\"#3f3f3f\"},\"mode\":\"lines\",\"name\":\"ACF\",\"x\":[22,22],\"y\":[0,-0.04658271569477273],\"type\":\"scatter\",\"xaxis\":\"x3\",\"yaxis\":\"y3\",\"showlegend\":false},{\"line\":{\"color\":\"#3f3f3f\"},\"mode\":\"lines\",\"name\":\"ACF\",\"x\":[23,23],\"y\":[0,0.3324329613597862],\"type\":\"scatter\",\"xaxis\":\"x3\",\"yaxis\":\"y3\",\"showlegend\":false},{\"line\":{\"color\":\"#3f3f3f\"},\"mode\":\"lines\",\"name\":\"ACF\",\"x\":[24,24],\"y\":[0,0.5326806000945746],\"type\":\"scatter\",\"xaxis\":\"x3\",\"yaxis\":\"y3\",\"showlegend\":false},{\"line\":{\"color\":\"#3f3f3f\"},\"mode\":\"lines\",\"name\":\"ACF\",\"x\":[25,25],\"y\":[0,0.4006021923025274],\"type\":\"scatter\",\"xaxis\":\"x3\",\"yaxis\":\"y3\",\"showlegend\":false},{\"line\":{\"color\":\"#3f3f3f\"},\"mode\":\"lines\",\"name\":\"ACF\",\"x\":[26,26],\"y\":[0,0.05476324148106311],\"type\":\"scatter\",\"xaxis\":\"x3\",\"yaxis\":\"y3\",\"showlegend\":false},{\"line\":{\"color\":\"#3f3f3f\"},\"mode\":\"lines\",\"name\":\"ACF\",\"x\":[27,27],\"y\":[0,-0.24024957750623552],\"type\":\"scatter\",\"xaxis\":\"x3\",\"yaxis\":\"y3\",\"showlegend\":false},{\"line\":{\"color\":\"#3f3f3f\"},\"mode\":\"lines\",\"name\":\"ACF\",\"x\":[28,28],\"y\":[0,-0.2621672361474289],\"type\":\"scatter\",\"xaxis\":\"x3\",\"yaxis\":\"y3\",\"showlegend\":false},{\"line\":{\"color\":\"#3f3f3f\"},\"mode\":\"lines\",\"name\":\"ACF\",\"x\":[29,29],\"y\":[0,-0.12165397635697196],\"type\":\"scatter\",\"xaxis\":\"x3\",\"yaxis\":\"y3\",\"showlegend\":false},{\"line\":{\"color\":\"#3f3f3f\"},\"mode\":\"lines\",\"name\":\"ACF\",\"x\":[30,30],\"y\":[0,-0.018295554770639568],\"type\":\"scatter\",\"xaxis\":\"x3\",\"yaxis\":\"y3\",\"showlegend\":false},{\"line\":{\"color\":\"#3f3f3f\"},\"mode\":\"lines\",\"name\":\"ACF\",\"x\":[31,31],\"y\":[0,-0.07124022451664921],\"type\":\"scatter\",\"xaxis\":\"x3\",\"yaxis\":\"y3\",\"showlegend\":false},{\"line\":{\"color\":\"#3f3f3f\"},\"mode\":\"lines\",\"name\":\"ACF\",\"x\":[32,32],\"y\":[0,-0.20298674569310227],\"type\":\"scatter\",\"xaxis\":\"x3\",\"yaxis\":\"y3\",\"showlegend\":false},{\"line\":{\"color\":\"#3f3f3f\"},\"mode\":\"lines\",\"name\":\"ACF\",\"x\":[33,33],\"y\":[0,-0.22518632151054244],\"type\":\"scatter\",\"xaxis\":\"x3\",\"yaxis\":\"y3\",\"showlegend\":false},{\"line\":{\"color\":\"#3f3f3f\"},\"mode\":\"lines\",\"name\":\"ACF\",\"x\":[34,34],\"y\":[0,-0.04927503476964477],\"type\":\"scatter\",\"xaxis\":\"x3\",\"yaxis\":\"y3\",\"showlegend\":false},{\"line\":{\"color\":\"#3f3f3f\"},\"mode\":\"lines\",\"name\":\"ACF\",\"x\":[35,35],\"y\":[0,0.2512643809888096],\"type\":\"scatter\",\"xaxis\":\"x3\",\"yaxis\":\"y3\",\"showlegend\":false},{\"line\":{\"color\":\"#3f3f3f\"},\"mode\":\"lines\",\"name\":\"ACF\",\"x\":[36,36],\"y\":[0,0.44986041131913973],\"type\":\"scatter\",\"xaxis\":\"x3\",\"yaxis\":\"y3\",\"showlegend\":false},{\"line\":{\"color\":\"#3f3f3f\"},\"mode\":\"lines\",\"name\":\"ACF\",\"x\":[37,37],\"y\":[0,0.3715384850973566],\"type\":\"scatter\",\"xaxis\":\"x3\",\"yaxis\":\"y3\",\"showlegend\":false},{\"line\":{\"color\":\"#3f3f3f\"},\"mode\":\"lines\",\"name\":\"ACF\",\"x\":[38,38],\"y\":[0,0.08036326695267586],\"type\":\"scatter\",\"xaxis\":\"x3\",\"yaxis\":\"y3\",\"showlegend\":false},{\"line\":{\"color\":\"#3f3f3f\"},\"mode\":\"lines\",\"name\":\"ACF\",\"x\":[39,39],\"y\":[0,-0.1762132253648495],\"type\":\"scatter\",\"xaxis\":\"x3\",\"yaxis\":\"y3\",\"showlegend\":false},{\"line\":{\"color\":\"#3f3f3f\"},\"mode\":\"lines\",\"name\":\"ACF\",\"x\":[40,40],\"y\":[0,-0.21978333043766482],\"type\":\"scatter\",\"xaxis\":\"x3\",\"yaxis\":\"y3\",\"showlegend\":false},{\"marker\":{\"color\":\"#1f77b4\",\"size\":6},\"mode\":\"markers\",\"x\":[0,1,2,3,4,5,6,7,8,9,10,11,12,13,14,15,16,17,18,19,20,21,22,23,24,25,26,27,28,29,30,31,32,33,34,35,36,37,38,39,40],\"y\":[1.0,0.6477110270635319,0.010449897709996173,-0.4198399887274915,-0.43700027629609595,-0.22309618818477678,-0.0849734555284512,-0.18083158287669415,-0.3863525369307362,-0.3895897526980718,-0.0057068172443964565,0.5307278560559318,0.7586961292723378,0.4873881562734948,0.026539587648458495,-0.31570974100766946,-0.3233316217195578,-0.14047501311360425,-0.017848588075727756,-0.09333947363904449,-0.2783572958913497,-0.3093942119411717,-0.04658271569477273,0.3324329613597862,0.5326806000945746,0.4006021923025274,0.05476324148106311,-0.24024957750623552,-0.2621672361474289,-0.12165397635697196,-0.018295554770639568,-0.07124022451664921,-0.20298674569310227,-0.22518632151054244,-0.04927503476964477,0.2512643809888096,0.44986041131913973,0.3715384850973566,0.08036326695267586,-0.1762132253648495,-0.21978333043766482],\"type\":\"scatter\",\"xaxis\":\"x3\",\"yaxis\":\"y3\",\"showlegend\":false},{\"line\":{\"color\":\"rgba(255,255,255,0)\"},\"mode\":\"lines\",\"name\":\"UC\",\"x\":[0,1,2,3,4,5,6,7,8,9,10,11,12,13,14,15,16,17,18,19,20,21,22,23,24,25,26,27,28,29,30,31,32,33,34,35,36,37,38,39,40],\"y\":[0.0,0.23768054501956182,0.32232313869771995,0.3223422771569472,0.35188031010467924,0.3813085853507333,0.38861249436735634,0.38966071268470703,0.3943729928077532,0.41520476575148074,0.43536621530946845,0.4353704412012074,0.47050173235565484,0.53517077392144,0.5596845642792746,0.559755653655091,0.5697260865448199,0.5799996093262348,0.5819184544555736,0.5819493802833032,0.5827944986168943,0.5902573582205877,0.5993489177731266,0.599553412949188,0.6098773279108566,0.6356173636048741,0.6497240627204496,0.6499847677971743,0.6549821553002141,0.6608836564058637,0.6621475188377749,0.6621760759517117,0.6626089110061194,0.6661125445777838,0.6703992976431247,0.6706038673585089,0.6759013686830413,0.6926093740483423,0.7037784902977954,0.7042967012473266,0.7067829394771534],\"type\":\"scatter\",\"xaxis\":\"x3\",\"yaxis\":\"y3\",\"showlegend\":false},{\"fill\":\"tonexty\",\"fillcolor\":\"rgba(32, 146, 230,0.3)\",\"line\":{\"color\":\"rgba(255,255,255,0)\"},\"mode\":\"lines\",\"name\":\"LC\",\"x\":[0,1,2,3,4,5,6,7,8,9,10,11,12,13,14,15,16,17,18,19,20,21,22,23,24,25,26,27,28,29,30,31,32,33,34,35,36,37,38,39,40],\"y\":[0.0,-0.23768054501956182,-0.32232313869771995,-0.3223422771569472,-0.35188031010467924,-0.38130858535073325,-0.38861249436735634,-0.389660712684707,-0.39437299280775323,-0.41520476575148074,-0.43536621530946845,-0.4353704412012074,-0.4705017323556548,-0.5351707739214399,-0.5596845642792746,-0.559755653655091,-0.5697260865448199,-0.5799996093262348,-0.5819184544555736,-0.5819493802833032,-0.5827944986168943,-0.5902573582205877,-0.5993489177731266,-0.5995534129491881,-0.6098773279108567,-0.635617363604874,-0.6497240627204496,-0.6499847677971743,-0.6549821553002141,-0.6608836564058637,-0.6621475188377749,-0.6621760759517117,-0.6626089110061194,-0.6661125445777838,-0.6703992976431247,-0.6706038673585087,-0.6759013686830413,-0.6926093740483424,-0.7037784902977954,-0.7042967012473266,-0.7067829394771534],\"type\":\"scatter\",\"xaxis\":\"x3\",\"yaxis\":\"y3\",\"showlegend\":false},{\"marker\":{\"color\":\"#1f77b4\",\"size\":2},\"mode\":\"lines+markers\",\"name\":\"Time Plot\",\"x\":[\"2012-01-01T00:00:00\",\"2012-02-01T00:00:00\",\"2012-03-01T00:00:00\",\"2012-04-01T00:00:00\",\"2012-05-01T00:00:00\",\"2012-06-01T00:00:00\",\"2012-07-01T00:00:00\",\"2012-08-01T00:00:00\",\"2012-09-01T00:00:00\",\"2012-10-01T00:00:00\",\"2012-11-01T00:00:00\",\"2012-12-01T00:00:00\",\"2013-01-01T00:00:00\",\"2013-02-01T00:00:00\",\"2013-03-01T00:00:00\",\"2013-04-01T00:00:00\",\"2013-05-01T00:00:00\",\"2013-06-01T00:00:00\",\"2013-07-01T00:00:00\",\"2013-08-01T00:00:00\",\"2013-09-01T00:00:00\",\"2013-10-01T00:00:00\",\"2013-11-01T00:00:00\",\"2013-12-01T00:00:00\",\"2014-01-01T00:00:00\",\"2014-02-01T00:00:00\",\"2014-03-01T00:00:00\",\"2014-04-01T00:00:00\",\"2014-05-01T00:00:00\",\"2014-06-01T00:00:00\",\"2014-07-01T00:00:00\",\"2014-08-01T00:00:00\",\"2014-09-01T00:00:00\",\"2014-10-01T00:00:00\",\"2014-11-01T00:00:00\",\"2014-12-01T00:00:00\",\"2015-01-01T00:00:00\",\"2015-02-01T00:00:00\",\"2015-03-01T00:00:00\",\"2015-04-01T00:00:00\",\"2015-05-01T00:00:00\",\"2015-06-01T00:00:00\",\"2015-07-01T00:00:00\",\"2015-08-01T00:00:00\",\"2015-09-01T00:00:00\",\"2015-10-01T00:00:00\",\"2015-11-01T00:00:00\",\"2015-12-01T00:00:00\",\"2016-01-01T00:00:00\",\"2016-02-01T00:00:00\",\"2016-03-01T00:00:00\",\"2016-04-01T00:00:00\",\"2016-05-01T00:00:00\",\"2016-06-01T00:00:00\",\"2016-07-01T00:00:00\",\"2016-08-01T00:00:00\",\"2016-09-01T00:00:00\",\"2016-10-01T00:00:00\",\"2016-11-01T00:00:00\",\"2016-12-01T00:00:00\",\"2017-01-01T00:00:00\",\"2017-02-01T00:00:00\",\"2017-03-01T00:00:00\",\"2017-04-01T00:00:00\",\"2017-05-01T00:00:00\",\"2017-06-01T00:00:00\",\"2017-07-01T00:00:00\",\"2017-08-01T00:00:00\"],\"y\":[5757.495833333329,5622.331609195395,5479.8454912516845,5368.945833333332,5867.896102150537,6634.310277777774,7917.395295698933,7622.954704301079,6412.603472222217,5418.996370967746,5337.659861111115,5581.561424731177,5786.083736559137,5851.953273809524,5601.792328398383,5363.968055555549,5607.0258064516165,6748.064861111119,8118.8922043010725,6872.71989247312,6152.224305555546,5606.910215053763,5515.0995833333345,5772.254838709673,6093.072849462364,5925.564136904762,5699.518707940782,5312.782361111114,5454.653897849461,6510.875416666669,7203.60698924732,6750.527688172048,6378.545694444455,5448.665322580643,5477.985555555556,5686.5802419354895,5976.82984811828,6239.095264880954,5720.79299730458,5251.143144444442,5712.8579892473135,6482.128290277783,7466.376149193547,7458.210470430115,6832.174806944438,5347.145436657684,5332.59848194444,5445.284844086018,5773.984214864866,5782.288425287358,5387.212437415879,5287.94848261474,5563.631038978499,6547.856534458518,7731.891469086024,7962.950690444148,6693.131075000001,5427.31438627187,5371.1899444444425,5720.892685483872,5738.234349932702,5611.792171385994,5660.977831763126,5232.217107391911,5421.315935222667,6597.9903458333365,7309.246676985201,6971.501247747749],\"type\":\"scatter\",\"xaxis\":\"x\",\"yaxis\":\"y\"}],                        {\"template\":{\"data\":{\"barpolar\":[{\"marker\":{\"line\":{\"color\":\"rgb(237,237,237)\",\"width\":0.5},\"pattern\":{\"fillmode\":\"overlay\",\"size\":10,\"solidity\":0.2}},\"type\":\"barpolar\"}],\"bar\":[{\"error_x\":{\"color\":\"rgb(51,51,51)\"},\"error_y\":{\"color\":\"rgb(51,51,51)\"},\"marker\":{\"line\":{\"color\":\"rgb(237,237,237)\",\"width\":0.5},\"pattern\":{\"fillmode\":\"overlay\",\"size\":10,\"solidity\":0.2}},\"type\":\"bar\"}],\"carpet\":[{\"aaxis\":{\"endlinecolor\":\"rgb(51,51,51)\",\"gridcolor\":\"white\",\"linecolor\":\"white\",\"minorgridcolor\":\"white\",\"startlinecolor\":\"rgb(51,51,51)\"},\"baxis\":{\"endlinecolor\":\"rgb(51,51,51)\",\"gridcolor\":\"white\",\"linecolor\":\"white\",\"minorgridcolor\":\"white\",\"startlinecolor\":\"rgb(51,51,51)\"},\"type\":\"carpet\"}],\"choropleth\":[{\"colorbar\":{\"outlinewidth\":0,\"tickcolor\":\"rgb(237,237,237)\",\"ticklen\":6,\"ticks\":\"inside\"},\"type\":\"choropleth\"}],\"contourcarpet\":[{\"colorbar\":{\"outlinewidth\":0,\"tickcolor\":\"rgb(237,237,237)\",\"ticklen\":6,\"ticks\":\"inside\"},\"type\":\"contourcarpet\"}],\"contour\":[{\"colorbar\":{\"outlinewidth\":0,\"tickcolor\":\"rgb(237,237,237)\",\"ticklen\":6,\"ticks\":\"inside\"},\"colorscale\":[[0,\"rgb(20,44,66)\"],[1,\"rgb(90,179,244)\"]],\"type\":\"contour\"}],\"heatmapgl\":[{\"colorbar\":{\"outlinewidth\":0,\"tickcolor\":\"rgb(237,237,237)\",\"ticklen\":6,\"ticks\":\"inside\"},\"colorscale\":[[0,\"rgb(20,44,66)\"],[1,\"rgb(90,179,244)\"]],\"type\":\"heatmapgl\"}],\"heatmap\":[{\"colorbar\":{\"outlinewidth\":0,\"tickcolor\":\"rgb(237,237,237)\",\"ticklen\":6,\"ticks\":\"inside\"},\"colorscale\":[[0,\"rgb(20,44,66)\"],[1,\"rgb(90,179,244)\"]],\"type\":\"heatmap\"}],\"histogram2dcontour\":[{\"colorbar\":{\"outlinewidth\":0,\"tickcolor\":\"rgb(237,237,237)\",\"ticklen\":6,\"ticks\":\"inside\"},\"colorscale\":[[0,\"rgb(20,44,66)\"],[1,\"rgb(90,179,244)\"]],\"type\":\"histogram2dcontour\"}],\"histogram2d\":[{\"colorbar\":{\"outlinewidth\":0,\"tickcolor\":\"rgb(237,237,237)\",\"ticklen\":6,\"ticks\":\"inside\"},\"colorscale\":[[0,\"rgb(20,44,66)\"],[1,\"rgb(90,179,244)\"]],\"type\":\"histogram2d\"}],\"histogram\":[{\"marker\":{\"pattern\":{\"fillmode\":\"overlay\",\"size\":10,\"solidity\":0.2}},\"type\":\"histogram\"}],\"mesh3d\":[{\"colorbar\":{\"outlinewidth\":0,\"tickcolor\":\"rgb(237,237,237)\",\"ticklen\":6,\"ticks\":\"inside\"},\"type\":\"mesh3d\"}],\"parcoords\":[{\"line\":{\"colorbar\":{\"outlinewidth\":0,\"tickcolor\":\"rgb(237,237,237)\",\"ticklen\":6,\"ticks\":\"inside\"}},\"type\":\"parcoords\"}],\"pie\":[{\"automargin\":true,\"type\":\"pie\"}],\"scatter3d\":[{\"line\":{\"colorbar\":{\"outlinewidth\":0,\"tickcolor\":\"rgb(237,237,237)\",\"ticklen\":6,\"ticks\":\"inside\"}},\"marker\":{\"colorbar\":{\"outlinewidth\":0,\"tickcolor\":\"rgb(237,237,237)\",\"ticklen\":6,\"ticks\":\"inside\"}},\"type\":\"scatter3d\"}],\"scattercarpet\":[{\"marker\":{\"colorbar\":{\"outlinewidth\":0,\"tickcolor\":\"rgb(237,237,237)\",\"ticklen\":6,\"ticks\":\"inside\"}},\"type\":\"scattercarpet\"}],\"scattergeo\":[{\"marker\":{\"colorbar\":{\"outlinewidth\":0,\"tickcolor\":\"rgb(237,237,237)\",\"ticklen\":6,\"ticks\":\"inside\"}},\"type\":\"scattergeo\"}],\"scattergl\":[{\"marker\":{\"colorbar\":{\"outlinewidth\":0,\"tickcolor\":\"rgb(237,237,237)\",\"ticklen\":6,\"ticks\":\"inside\"}},\"type\":\"scattergl\"}],\"scattermapbox\":[{\"marker\":{\"colorbar\":{\"outlinewidth\":0,\"tickcolor\":\"rgb(237,237,237)\",\"ticklen\":6,\"ticks\":\"inside\"}},\"type\":\"scattermapbox\"}],\"scatterpolargl\":[{\"marker\":{\"colorbar\":{\"outlinewidth\":0,\"tickcolor\":\"rgb(237,237,237)\",\"ticklen\":6,\"ticks\":\"inside\"}},\"type\":\"scatterpolargl\"}],\"scatterpolar\":[{\"marker\":{\"colorbar\":{\"outlinewidth\":0,\"tickcolor\":\"rgb(237,237,237)\",\"ticklen\":6,\"ticks\":\"inside\"}},\"type\":\"scatterpolar\"}],\"scatter\":[{\"marker\":{\"colorbar\":{\"outlinewidth\":0,\"tickcolor\":\"rgb(237,237,237)\",\"ticklen\":6,\"ticks\":\"inside\"}},\"type\":\"scatter\"}],\"scatterternary\":[{\"marker\":{\"colorbar\":{\"outlinewidth\":0,\"tickcolor\":\"rgb(237,237,237)\",\"ticklen\":6,\"ticks\":\"inside\"}},\"type\":\"scatterternary\"}],\"surface\":[{\"colorbar\":{\"outlinewidth\":0,\"tickcolor\":\"rgb(237,237,237)\",\"ticklen\":6,\"ticks\":\"inside\"},\"colorscale\":[[0,\"rgb(20,44,66)\"],[1,\"rgb(90,179,244)\"]],\"type\":\"surface\"}],\"table\":[{\"cells\":{\"fill\":{\"color\":\"rgb(237,237,237)\"},\"line\":{\"color\":\"white\"}},\"header\":{\"fill\":{\"color\":\"rgb(217,217,217)\"},\"line\":{\"color\":\"white\"}},\"type\":\"table\"}]},\"layout\":{\"annotationdefaults\":{\"arrowhead\":0,\"arrowwidth\":1},\"autotypenumbers\":\"strict\",\"coloraxis\":{\"colorbar\":{\"outlinewidth\":0,\"tickcolor\":\"rgb(237,237,237)\",\"ticklen\":6,\"ticks\":\"inside\"}},\"colorscale\":{\"sequential\":[[0,\"rgb(20,44,66)\"],[1,\"rgb(90,179,244)\"]],\"sequentialminus\":[[0,\"rgb(20,44,66)\"],[1,\"rgb(90,179,244)\"]]},\"colorway\":[\"#F8766D\",\"#A3A500\",\"#00BF7D\",\"#00B0F6\",\"#E76BF3\"],\"font\":{\"color\":\"rgb(51,51,51)\"},\"geo\":{\"bgcolor\":\"white\",\"lakecolor\":\"white\",\"landcolor\":\"rgb(237,237,237)\",\"showlakes\":true,\"showland\":true,\"subunitcolor\":\"white\"},\"hoverlabel\":{\"align\":\"left\"},\"hovermode\":\"closest\",\"paper_bgcolor\":\"white\",\"plot_bgcolor\":\"rgb(237,237,237)\",\"polar\":{\"angularaxis\":{\"gridcolor\":\"white\",\"linecolor\":\"white\",\"showgrid\":true,\"tickcolor\":\"rgb(51,51,51)\",\"ticks\":\"outside\"},\"bgcolor\":\"rgb(237,237,237)\",\"radialaxis\":{\"gridcolor\":\"white\",\"linecolor\":\"white\",\"showgrid\":true,\"tickcolor\":\"rgb(51,51,51)\",\"ticks\":\"outside\"}},\"scene\":{\"xaxis\":{\"backgroundcolor\":\"rgb(237,237,237)\",\"gridcolor\":\"white\",\"gridwidth\":2,\"linecolor\":\"white\",\"showbackground\":true,\"showgrid\":true,\"tickcolor\":\"rgb(51,51,51)\",\"ticks\":\"outside\",\"zerolinecolor\":\"white\"},\"yaxis\":{\"backgroundcolor\":\"rgb(237,237,237)\",\"gridcolor\":\"white\",\"gridwidth\":2,\"linecolor\":\"white\",\"showbackground\":true,\"showgrid\":true,\"tickcolor\":\"rgb(51,51,51)\",\"ticks\":\"outside\",\"zerolinecolor\":\"white\"},\"zaxis\":{\"backgroundcolor\":\"rgb(237,237,237)\",\"gridcolor\":\"white\",\"gridwidth\":2,\"linecolor\":\"white\",\"showbackground\":true,\"showgrid\":true,\"tickcolor\":\"rgb(51,51,51)\",\"ticks\":\"outside\",\"zerolinecolor\":\"white\"}},\"shapedefaults\":{\"fillcolor\":\"black\",\"line\":{\"width\":0},\"opacity\":0.3},\"ternary\":{\"aaxis\":{\"gridcolor\":\"white\",\"linecolor\":\"white\",\"showgrid\":true,\"tickcolor\":\"rgb(51,51,51)\",\"ticks\":\"outside\"},\"baxis\":{\"gridcolor\":\"white\",\"linecolor\":\"white\",\"showgrid\":true,\"tickcolor\":\"rgb(51,51,51)\",\"ticks\":\"outside\"},\"bgcolor\":\"rgb(237,237,237)\",\"caxis\":{\"gridcolor\":\"white\",\"linecolor\":\"white\",\"showgrid\":true,\"tickcolor\":\"rgb(51,51,51)\",\"ticks\":\"outside\"}},\"xaxis\":{\"automargin\":true,\"gridcolor\":\"white\",\"linecolor\":\"white\",\"showgrid\":true,\"tickcolor\":\"rgb(51,51,51)\",\"ticks\":\"outside\",\"title\":{\"standoff\":15},\"zerolinecolor\":\"white\"},\"yaxis\":{\"automargin\":true,\"gridcolor\":\"white\",\"linecolor\":\"white\",\"showgrid\":true,\"tickcolor\":\"rgb(51,51,51)\",\"ticks\":\"outside\",\"title\":{\"standoff\":15},\"zerolinecolor\":\"white\"}}},\"xaxis\":{\"anchor\":\"y\",\"domain\":[0.0,0.45],\"title\":{\"text\":\"Time\"}},\"yaxis\":{\"anchor\":\"x\",\"domain\":[0.625,1.0],\"title\":{\"text\":\"Value\"}},\"xaxis2\":{\"anchor\":\"y2\",\"domain\":[0.55,1.0],\"title\":{\"text\":\"Range of Values\"}},\"yaxis2\":{\"anchor\":\"x2\",\"domain\":[0.625,1.0],\"title\":{\"text\":\"PDF\"}},\"xaxis3\":{\"anchor\":\"y3\",\"domain\":[0.0,0.45],\"range\":[-1,42],\"title\":{\"text\":\"Lags\"}},\"yaxis3\":{\"anchor\":\"x3\",\"domain\":[0.0,0.375],\"zerolinecolor\":\"#000000\",\"title\":{\"text\":\"ACF\"}},\"xaxis4\":{\"anchor\":\"y4\",\"domain\":[0.55,1.0],\"title\":{\"text\":\"Theoretical Quantities\"}},\"yaxis4\":{\"anchor\":\"x4\",\"domain\":[0.0,0.375],\"title\":{\"text\":\"Sample Quantities\"}},\"annotations\":[{\"font\":{\"size\":16},\"showarrow\":false,\"text\":\"Time Plot\",\"x\":0.225,\"xanchor\":\"center\",\"xref\":\"paper\",\"y\":1.0,\"yanchor\":\"bottom\",\"yref\":\"paper\"},{\"font\":{\"size\":16},\"showarrow\":false,\"text\":\"Histogram Plot\",\"x\":0.775,\"xanchor\":\"center\",\"xref\":\"paper\",\"y\":1.0,\"yanchor\":\"bottom\",\"yref\":\"paper\"},{\"font\":{\"size\":16},\"showarrow\":false,\"text\":\"ACF Plot\",\"x\":0.225,\"xanchor\":\"center\",\"xref\":\"paper\",\"y\":0.375,\"yanchor\":\"bottom\",\"yref\":\"paper\"},{\"font\":{\"size\":16},\"showarrow\":false,\"text\":\"Quantile-Quantile Plot\",\"x\":0.775,\"xanchor\":\"center\",\"xref\":\"paper\",\"y\":0.375,\"yanchor\":\"bottom\",\"yref\":\"paper\"},{\"font\":{\"size\":16},\"showarrow\":false,\"text\":\"Diagnostics | Total\",\"x\":0.5,\"xanchor\":\"center\",\"xref\":\"paper\",\"y\":0,\"yanchor\":\"top\",\"yref\":\"paper\",\"yshift\":-30}],\"showlegend\":false},                        {\"responsive\": true}                    ).then(function(){\n",
              "                            \n",
              "var gd = document.getElementById('bebb4a24-4ed8-4f00-bc61-c1c230c5d37a');\n",
              "var x = new MutationObserver(function (mutations, observer) {{\n",
              "        var display = window.getComputedStyle(gd).display;\n",
              "        if (!display || display === 'none') {{\n",
              "            console.log([gd, 'removed!']);\n",
              "            Plotly.purge(gd);\n",
              "            observer.disconnect();\n",
              "        }}\n",
              "}});\n",
              "\n",
              "// Listen for the removal of the full notebook cells\n",
              "var notebookContainer = gd.closest('#notebook-container');\n",
              "if (notebookContainer) {{\n",
              "    x.observe(notebookContainer, {childList: true});\n",
              "}}\n",
              "\n",
              "// Listen for the clearing of the current output cell\n",
              "var outputEl = gd.closest('.output');\n",
              "if (outputEl) {{\n",
              "    x.observe(outputEl, {childList: true});\n",
              "}}\n",
              "\n",
              "                        })                };                            </script>        </div>\n",
              "</body>\n",
              "</html>"
            ]
          },
          "metadata": {}
        }
      ]
    },
    {
      "cell_type": "code",
      "source": [
        "# Decomposition plot\n",
        "exp_ny.plot_model(plot = 'decomp_stl')"
      ],
      "metadata": {
        "colab": {
          "base_uri": "https://localhost:8080/",
          "height": 542
        },
        "id": "Nr4wGcr11x90",
        "outputId": "fc9ddbd2-7259-4356-c4b8-164888d270e3"
      },
      "execution_count": 39,
      "outputs": [
        {
          "output_type": "display_data",
          "data": {
            "text/html": [
              "<html>\n",
              "<head><meta charset=\"utf-8\" /></head>\n",
              "<body>\n",
              "    <div>            <script src=\"https://cdnjs.cloudflare.com/ajax/libs/mathjax/2.7.5/MathJax.js?config=TeX-AMS-MML_SVG\"></script><script type=\"text/javascript\">if (window.MathJax) {MathJax.Hub.Config({SVG: {font: \"STIX-Web\"}});}</script>                <script type=\"text/javascript\">window.PlotlyConfig = {MathJaxConfig: 'local'};</script>\n",
              "        <script src=\"https://cdn.plot.ly/plotly-2.6.3.min.js\"></script>                <div id=\"07b4a7db-704d-4543-b794-af5e142ad053\" class=\"plotly-graph-div\" style=\"height:525px; width:100%;\"></div>            <script type=\"text/javascript\">                                    window.PLOTLYENV=window.PLOTLYENV || {};                                    if (document.getElementById(\"07b4a7db-704d-4543-b794-af5e142ad053\")) {                    Plotly.newPlot(                        \"07b4a7db-704d-4543-b794-af5e142ad053\",                        [{\"line\":{\"color\":\"#1f77b4\",\"width\":2},\"marker\":{\"size\":2},\"mode\":\"lines+markers\",\"name\":\"Actual\",\"x\":[\"2012-01-01T00:00:00\",\"2012-02-01T00:00:00\",\"2012-03-01T00:00:00\",\"2012-04-01T00:00:00\",\"2012-05-01T00:00:00\",\"2012-06-01T00:00:00\",\"2012-07-01T00:00:00\",\"2012-08-01T00:00:00\",\"2012-09-01T00:00:00\",\"2012-10-01T00:00:00\",\"2012-11-01T00:00:00\",\"2012-12-01T00:00:00\",\"2013-01-01T00:00:00\",\"2013-02-01T00:00:00\",\"2013-03-01T00:00:00\",\"2013-04-01T00:00:00\",\"2013-05-01T00:00:00\",\"2013-06-01T00:00:00\",\"2013-07-01T00:00:00\",\"2013-08-01T00:00:00\",\"2013-09-01T00:00:00\",\"2013-10-01T00:00:00\",\"2013-11-01T00:00:00\",\"2013-12-01T00:00:00\",\"2014-01-01T00:00:00\",\"2014-02-01T00:00:00\",\"2014-03-01T00:00:00\",\"2014-04-01T00:00:00\",\"2014-05-01T00:00:00\",\"2014-06-01T00:00:00\",\"2014-07-01T00:00:00\",\"2014-08-01T00:00:00\",\"2014-09-01T00:00:00\",\"2014-10-01T00:00:00\",\"2014-11-01T00:00:00\",\"2014-12-01T00:00:00\",\"2015-01-01T00:00:00\",\"2015-02-01T00:00:00\",\"2015-03-01T00:00:00\",\"2015-04-01T00:00:00\",\"2015-05-01T00:00:00\",\"2015-06-01T00:00:00\",\"2015-07-01T00:00:00\",\"2015-08-01T00:00:00\",\"2015-09-01T00:00:00\",\"2015-10-01T00:00:00\",\"2015-11-01T00:00:00\",\"2015-12-01T00:00:00\",\"2016-01-01T00:00:00\",\"2016-02-01T00:00:00\",\"2016-03-01T00:00:00\",\"2016-04-01T00:00:00\",\"2016-05-01T00:00:00\",\"2016-06-01T00:00:00\",\"2016-07-01T00:00:00\",\"2016-08-01T00:00:00\",\"2016-09-01T00:00:00\",\"2016-10-01T00:00:00\",\"2016-11-01T00:00:00\",\"2016-12-01T00:00:00\",\"2017-01-01T00:00:00\",\"2017-02-01T00:00:00\",\"2017-03-01T00:00:00\",\"2017-04-01T00:00:00\",\"2017-05-01T00:00:00\",\"2017-06-01T00:00:00\",\"2017-07-01T00:00:00\",\"2017-08-01T00:00:00\"],\"y\":[5757.495833333329,5622.331609195395,5479.8454912516845,5368.945833333332,5867.896102150537,6634.310277777774,7917.395295698933,7622.954704301079,6412.603472222217,5418.996370967746,5337.659861111115,5581.561424731177,5786.083736559137,5851.953273809524,5601.792328398383,5363.968055555549,5607.0258064516165,6748.064861111119,8118.8922043010725,6872.71989247312,6152.224305555546,5606.910215053763,5515.0995833333345,5772.254838709673,6093.072849462364,5925.564136904762,5699.518707940782,5312.782361111114,5454.653897849461,6510.875416666669,7203.60698924732,6750.527688172048,6378.545694444455,5448.665322580643,5477.985555555556,5686.5802419354895,5976.82984811828,6239.095264880954,5720.79299730458,5251.143144444442,5712.8579892473135,6482.128290277783,7466.376149193547,7458.210470430115,6832.174806944438,5347.145436657684,5332.59848194444,5445.284844086018,5773.984214864866,5782.288425287358,5387.212437415879,5287.94848261474,5563.631038978499,6547.856534458518,7731.891469086024,7962.950690444148,6693.131075000001,5427.31438627187,5371.1899444444425,5720.892685483872,5738.234349932702,5611.792171385994,5660.977831763126,5232.217107391911,5421.315935222667,6597.9903458333365,7309.246676985201,6971.501247747749],\"type\":\"scatter\",\"xaxis\":\"x\",\"yaxis\":\"y\"},{\"line\":{\"color\":\"#1f77b4\",\"width\":2},\"marker\":{\"size\":2},\"mode\":\"lines+markers\",\"name\":\"Seasonal\",\"x\":[\"2012-01-01T00:00:00\",\"2012-02-01T00:00:00\",\"2012-03-01T00:00:00\",\"2012-04-01T00:00:00\",\"2012-05-01T00:00:00\",\"2012-06-01T00:00:00\",\"2012-07-01T00:00:00\",\"2012-08-01T00:00:00\",\"2012-09-01T00:00:00\",\"2012-10-01T00:00:00\",\"2012-11-01T00:00:00\",\"2012-12-01T00:00:00\",\"2013-01-01T00:00:00\",\"2013-02-01T00:00:00\",\"2013-03-01T00:00:00\",\"2013-04-01T00:00:00\",\"2013-05-01T00:00:00\",\"2013-06-01T00:00:00\",\"2013-07-01T00:00:00\",\"2013-08-01T00:00:00\",\"2013-09-01T00:00:00\",\"2013-10-01T00:00:00\",\"2013-11-01T00:00:00\",\"2013-12-01T00:00:00\",\"2014-01-01T00:00:00\",\"2014-02-01T00:00:00\",\"2014-03-01T00:00:00\",\"2014-04-01T00:00:00\",\"2014-05-01T00:00:00\",\"2014-06-01T00:00:00\",\"2014-07-01T00:00:00\",\"2014-08-01T00:00:00\",\"2014-09-01T00:00:00\",\"2014-10-01T00:00:00\",\"2014-11-01T00:00:00\",\"2014-12-01T00:00:00\",\"2015-01-01T00:00:00\",\"2015-02-01T00:00:00\",\"2015-03-01T00:00:00\",\"2015-04-01T00:00:00\",\"2015-05-01T00:00:00\",\"2015-06-01T00:00:00\",\"2015-07-01T00:00:00\",\"2015-08-01T00:00:00\",\"2015-09-01T00:00:00\",\"2015-10-01T00:00:00\",\"2015-11-01T00:00:00\",\"2015-12-01T00:00:00\",\"2016-01-01T00:00:00\",\"2016-02-01T00:00:00\",\"2016-03-01T00:00:00\",\"2016-04-01T00:00:00\",\"2016-05-01T00:00:00\",\"2016-06-01T00:00:00\",\"2016-07-01T00:00:00\",\"2016-08-01T00:00:00\",\"2016-09-01T00:00:00\",\"2016-10-01T00:00:00\",\"2016-11-01T00:00:00\",\"2016-12-01T00:00:00\",\"2017-01-01T00:00:00\",\"2017-02-01T00:00:00\",\"2017-03-01T00:00:00\",\"2017-04-01T00:00:00\",\"2017-05-01T00:00:00\",\"2017-06-01T00:00:00\",\"2017-07-01T00:00:00\",\"2017-08-01T00:00:00\"],\"y\":[-312.86265145708694,-417.38160161092014,-551.4936124523441,-695.0783516494903,-305.20586363275254,612.6178038308179,1916.6033136062754,1178.7336593681382,163.3586852747165,-588.7595362722315,-673.6662766034433,-417.63023395639414,-220.82751475485375,-263.7600150218639,-488.0388660696817,-724.9838393155585,-385.32386816794747,559.136456247131,1719.80148755111,1118.7892908718693,283.87622244460493,-597.7057018030198,-652.5821644383328,-420.5222166366846,-149.6540812380292,-125.7919302123124,-441.31965874800704,-754.8638206694386,-456.12779434574077,512.1755453342479,1562.334019126061,1105.2989998508056,406.53411756128384,-603.9921629004504,-633.7543682846128,-417.9636792827118,-145.1228744052367,-116.60282222836852,-444.7445702904082,-770.4144736372933,-486.2495587824768,492.14485173995485,1467.8237109109725,1254.254484074161,551.3786605354819,-645.1541120115279,-665.9222261158643,-421.9047415971702,-218.8591923828166,-219.60171491234487,-447.0055228364963,-769.8052167359267,-492.0078050879514,539.3273334837332,1469.1922205455082,1376.3900865354258,704.7346098612134,-696.7259649479562,-711.7865686278828,-436.6494969962149,-308.88443913871566,-349.6265231790924,-457.5039159656253,-763.5821236977304,-502.30336080679206,601.1550945428583,1497.544422118063,1490.2103547215304],\"type\":\"scatter\",\"xaxis\":\"x2\",\"yaxis\":\"y2\"},{\"line\":{\"color\":\"#1f77b4\",\"width\":2},\"marker\":{\"size\":2},\"mode\":\"lines+markers\",\"name\":\"Trend\",\"x\":[\"2012-01-01T00:00:00\",\"2012-02-01T00:00:00\",\"2012-03-01T00:00:00\",\"2012-04-01T00:00:00\",\"2012-05-01T00:00:00\",\"2012-06-01T00:00:00\",\"2012-07-01T00:00:00\",\"2012-08-01T00:00:00\",\"2012-09-01T00:00:00\",\"2012-10-01T00:00:00\",\"2012-11-01T00:00:00\",\"2012-12-01T00:00:00\",\"2013-01-01T00:00:00\",\"2013-02-01T00:00:00\",\"2013-03-01T00:00:00\",\"2013-04-01T00:00:00\",\"2013-05-01T00:00:00\",\"2013-06-01T00:00:00\",\"2013-07-01T00:00:00\",\"2013-08-01T00:00:00\",\"2013-09-01T00:00:00\",\"2013-10-01T00:00:00\",\"2013-11-01T00:00:00\",\"2013-12-01T00:00:00\",\"2014-01-01T00:00:00\",\"2014-02-01T00:00:00\",\"2014-03-01T00:00:00\",\"2014-04-01T00:00:00\",\"2014-05-01T00:00:00\",\"2014-06-01T00:00:00\",\"2014-07-01T00:00:00\",\"2014-08-01T00:00:00\",\"2014-09-01T00:00:00\",\"2014-10-01T00:00:00\",\"2014-11-01T00:00:00\",\"2014-12-01T00:00:00\",\"2015-01-01T00:00:00\",\"2015-02-01T00:00:00\",\"2015-03-01T00:00:00\",\"2015-04-01T00:00:00\",\"2015-05-01T00:00:00\",\"2015-06-01T00:00:00\",\"2015-07-01T00:00:00\",\"2015-08-01T00:00:00\",\"2015-09-01T00:00:00\",\"2015-10-01T00:00:00\",\"2015-11-01T00:00:00\",\"2015-12-01T00:00:00\",\"2016-01-01T00:00:00\",\"2016-02-01T00:00:00\",\"2016-03-01T00:00:00\",\"2016-04-01T00:00:00\",\"2016-05-01T00:00:00\",\"2016-06-01T00:00:00\",\"2016-07-01T00:00:00\",\"2016-08-01T00:00:00\",\"2016-09-01T00:00:00\",\"2016-10-01T00:00:00\",\"2016-11-01T00:00:00\",\"2016-12-01T00:00:00\",\"2017-01-01T00:00:00\",\"2017-02-01T00:00:00\",\"2017-03-01T00:00:00\",\"2017-04-01T00:00:00\",\"2017-05-01T00:00:00\",\"2017-06-01T00:00:00\",\"2017-07-01T00:00:00\",\"2017-08-01T00:00:00\"],\"y\":[6085.026228787397,6086.638243834917,6087.903595908108,6088.843325065356,6089.528550320359,6090.063433606859,6090.5532444705805,6091.168324596239,6092.1619089531605,6093.651179458995,6095.407129508729,6096.019340370962,6092.083031030152,6086.839930996618,6082.250123301574,6079.889461868047,6080.219132031295,6083.789552689787,6089.973652570047,6095.4725240548405,6097.069074296966,6092.628887300373,6081.748484929793,6066.4413472953,6049.854577334648,6034.695802942947,6022.693790922215,6014.936543357155,6012.001124161625,6012.003114806945,6012.2702139512285,6013.211234273582,6015.759636297656,6020.412665637505,6028.477859115111,6040.942985066921,6056.797568984445,6073.9696901722755,6089.145511522311,6099.241314103165,6102.179242112344,6096.988294233791,6085.850030523426,6072.237884747495,6058.842512849144,6048.60709387838,6044.19971018271,6045.43915495536,6050.567346617752,6057.066064551318,6063.575052048642,6069.522114984836,6074.657421684094,6080.099269272773,6086.458291168055,6092.682369661749,6096.805893365488,6083.624213416927,6063.727110012351,6041.307859392014,6017.4487562707145,5992.447860330659,5966.454610040328,5939.553001151222,5911.728735407556,5882.921017451237,5853.048405126024,5821.991271388945],\"type\":\"scatter\",\"xaxis\":\"x3\",\"yaxis\":\"y3\"},{\"line\":{\"color\":\"#1f77b4\",\"width\":2},\"marker\":{\"size\":4},\"mode\":\"markers\",\"name\":\"Residuals\",\"x\":[\"2012-01-01T00:00:00\",\"2012-02-01T00:00:00\",\"2012-03-01T00:00:00\",\"2012-04-01T00:00:00\",\"2012-05-01T00:00:00\",\"2012-06-01T00:00:00\",\"2012-07-01T00:00:00\",\"2012-08-01T00:00:00\",\"2012-09-01T00:00:00\",\"2012-10-01T00:00:00\",\"2012-11-01T00:00:00\",\"2012-12-01T00:00:00\",\"2013-01-01T00:00:00\",\"2013-02-01T00:00:00\",\"2013-03-01T00:00:00\",\"2013-04-01T00:00:00\",\"2013-05-01T00:00:00\",\"2013-06-01T00:00:00\",\"2013-07-01T00:00:00\",\"2013-08-01T00:00:00\",\"2013-09-01T00:00:00\",\"2013-10-01T00:00:00\",\"2013-11-01T00:00:00\",\"2013-12-01T00:00:00\",\"2014-01-01T00:00:00\",\"2014-02-01T00:00:00\",\"2014-03-01T00:00:00\",\"2014-04-01T00:00:00\",\"2014-05-01T00:00:00\",\"2014-06-01T00:00:00\",\"2014-07-01T00:00:00\",\"2014-08-01T00:00:00\",\"2014-09-01T00:00:00\",\"2014-10-01T00:00:00\",\"2014-11-01T00:00:00\",\"2014-12-01T00:00:00\",\"2015-01-01T00:00:00\",\"2015-02-01T00:00:00\",\"2015-03-01T00:00:00\",\"2015-04-01T00:00:00\",\"2015-05-01T00:00:00\",\"2015-06-01T00:00:00\",\"2015-07-01T00:00:00\",\"2015-08-01T00:00:00\",\"2015-09-01T00:00:00\",\"2015-10-01T00:00:00\",\"2015-11-01T00:00:00\",\"2015-12-01T00:00:00\",\"2016-01-01T00:00:00\",\"2016-02-01T00:00:00\",\"2016-03-01T00:00:00\",\"2016-04-01T00:00:00\",\"2016-05-01T00:00:00\",\"2016-06-01T00:00:00\",\"2016-07-01T00:00:00\",\"2016-08-01T00:00:00\",\"2016-09-01T00:00:00\",\"2016-10-01T00:00:00\",\"2016-11-01T00:00:00\",\"2016-12-01T00:00:00\",\"2017-01-01T00:00:00\",\"2017-02-01T00:00:00\",\"2017-03-01T00:00:00\",\"2017-04-01T00:00:00\",\"2017-05-01T00:00:00\",\"2017-06-01T00:00:00\",\"2017-07-01T00:00:00\",\"2017-08-01T00:00:00\"],\"y\":[-14.66774399698079,-46.92503302860223,-56.564492204080125,-24.819140082533522,83.57341546293173,-68.37095965990284,-89.76126237792232,353.0527203367019,157.08287799433947,-85.8952722190179,-84.08099179417059,-96.82768168339044,-85.17177971616093,28.873357834770104,7.581071166490801,9.062433003060505,-87.86945741173076,105.13885217420102,309.11706417991536,-341.5419224535899,-228.72099118602455,111.98702955640965,85.93326284187424,126.33570805105774,192.87235336574486,16.660264174127406,118.14457576657423,52.709638423398246,-101.21943196642314,-13.303243474523697,-370.9972438299701,-367.982545952339,-43.74805941448449,32.24481984358863,83.26206472505783,63.60093615127971,65.15515353907176,281.72839693704736,76.3920560726774,-77.68369602142866,96.92830591744678,-107.00485569596276,-87.29759224085137,131.7181016084587,221.95363355981226,-56.307545209167984,-45.67900212240511,-178.24956927217227,-57.723939370070184,-55.17592435161532,-229.3570917962661,-11.768415634169287,-19.018577617643132,-71.57006829798866,176.2409573724599,493.87823424697217,-108.40942822670058,40.41613780289936,19.24940305997461,116.23432308807332,29.670032800702757,-31.029165765572543,152.02713768842386,56.246229938418765,11.890560621902296,113.9142338392412,-41.346150258886155,-340.70037836272604],\"type\":\"scatter\",\"xaxis\":\"x4\",\"yaxis\":\"y4\"}],                        {\"template\":{\"data\":{\"barpolar\":[{\"marker\":{\"line\":{\"color\":\"rgb(237,237,237)\",\"width\":0.5},\"pattern\":{\"fillmode\":\"overlay\",\"size\":10,\"solidity\":0.2}},\"type\":\"barpolar\"}],\"bar\":[{\"error_x\":{\"color\":\"rgb(51,51,51)\"},\"error_y\":{\"color\":\"rgb(51,51,51)\"},\"marker\":{\"line\":{\"color\":\"rgb(237,237,237)\",\"width\":0.5},\"pattern\":{\"fillmode\":\"overlay\",\"size\":10,\"solidity\":0.2}},\"type\":\"bar\"}],\"carpet\":[{\"aaxis\":{\"endlinecolor\":\"rgb(51,51,51)\",\"gridcolor\":\"white\",\"linecolor\":\"white\",\"minorgridcolor\":\"white\",\"startlinecolor\":\"rgb(51,51,51)\"},\"baxis\":{\"endlinecolor\":\"rgb(51,51,51)\",\"gridcolor\":\"white\",\"linecolor\":\"white\",\"minorgridcolor\":\"white\",\"startlinecolor\":\"rgb(51,51,51)\"},\"type\":\"carpet\"}],\"choropleth\":[{\"colorbar\":{\"outlinewidth\":0,\"tickcolor\":\"rgb(237,237,237)\",\"ticklen\":6,\"ticks\":\"inside\"},\"type\":\"choropleth\"}],\"contourcarpet\":[{\"colorbar\":{\"outlinewidth\":0,\"tickcolor\":\"rgb(237,237,237)\",\"ticklen\":6,\"ticks\":\"inside\"},\"type\":\"contourcarpet\"}],\"contour\":[{\"colorbar\":{\"outlinewidth\":0,\"tickcolor\":\"rgb(237,237,237)\",\"ticklen\":6,\"ticks\":\"inside\"},\"colorscale\":[[0,\"rgb(20,44,66)\"],[1,\"rgb(90,179,244)\"]],\"type\":\"contour\"}],\"heatmapgl\":[{\"colorbar\":{\"outlinewidth\":0,\"tickcolor\":\"rgb(237,237,237)\",\"ticklen\":6,\"ticks\":\"inside\"},\"colorscale\":[[0,\"rgb(20,44,66)\"],[1,\"rgb(90,179,244)\"]],\"type\":\"heatmapgl\"}],\"heatmap\":[{\"colorbar\":{\"outlinewidth\":0,\"tickcolor\":\"rgb(237,237,237)\",\"ticklen\":6,\"ticks\":\"inside\"},\"colorscale\":[[0,\"rgb(20,44,66)\"],[1,\"rgb(90,179,244)\"]],\"type\":\"heatmap\"}],\"histogram2dcontour\":[{\"colorbar\":{\"outlinewidth\":0,\"tickcolor\":\"rgb(237,237,237)\",\"ticklen\":6,\"ticks\":\"inside\"},\"colorscale\":[[0,\"rgb(20,44,66)\"],[1,\"rgb(90,179,244)\"]],\"type\":\"histogram2dcontour\"}],\"histogram2d\":[{\"colorbar\":{\"outlinewidth\":0,\"tickcolor\":\"rgb(237,237,237)\",\"ticklen\":6,\"ticks\":\"inside\"},\"colorscale\":[[0,\"rgb(20,44,66)\"],[1,\"rgb(90,179,244)\"]],\"type\":\"histogram2d\"}],\"histogram\":[{\"marker\":{\"pattern\":{\"fillmode\":\"overlay\",\"size\":10,\"solidity\":0.2}},\"type\":\"histogram\"}],\"mesh3d\":[{\"colorbar\":{\"outlinewidth\":0,\"tickcolor\":\"rgb(237,237,237)\",\"ticklen\":6,\"ticks\":\"inside\"},\"type\":\"mesh3d\"}],\"parcoords\":[{\"line\":{\"colorbar\":{\"outlinewidth\":0,\"tickcolor\":\"rgb(237,237,237)\",\"ticklen\":6,\"ticks\":\"inside\"}},\"type\":\"parcoords\"}],\"pie\":[{\"automargin\":true,\"type\":\"pie\"}],\"scatter3d\":[{\"line\":{\"colorbar\":{\"outlinewidth\":0,\"tickcolor\":\"rgb(237,237,237)\",\"ticklen\":6,\"ticks\":\"inside\"}},\"marker\":{\"colorbar\":{\"outlinewidth\":0,\"tickcolor\":\"rgb(237,237,237)\",\"ticklen\":6,\"ticks\":\"inside\"}},\"type\":\"scatter3d\"}],\"scattercarpet\":[{\"marker\":{\"colorbar\":{\"outlinewidth\":0,\"tickcolor\":\"rgb(237,237,237)\",\"ticklen\":6,\"ticks\":\"inside\"}},\"type\":\"scattercarpet\"}],\"scattergeo\":[{\"marker\":{\"colorbar\":{\"outlinewidth\":0,\"tickcolor\":\"rgb(237,237,237)\",\"ticklen\":6,\"ticks\":\"inside\"}},\"type\":\"scattergeo\"}],\"scattergl\":[{\"marker\":{\"colorbar\":{\"outlinewidth\":0,\"tickcolor\":\"rgb(237,237,237)\",\"ticklen\":6,\"ticks\":\"inside\"}},\"type\":\"scattergl\"}],\"scattermapbox\":[{\"marker\":{\"colorbar\":{\"outlinewidth\":0,\"tickcolor\":\"rgb(237,237,237)\",\"ticklen\":6,\"ticks\":\"inside\"}},\"type\":\"scattermapbox\"}],\"scatterpolargl\":[{\"marker\":{\"colorbar\":{\"outlinewidth\":0,\"tickcolor\":\"rgb(237,237,237)\",\"ticklen\":6,\"ticks\":\"inside\"}},\"type\":\"scatterpolargl\"}],\"scatterpolar\":[{\"marker\":{\"colorbar\":{\"outlinewidth\":0,\"tickcolor\":\"rgb(237,237,237)\",\"ticklen\":6,\"ticks\":\"inside\"}},\"type\":\"scatterpolar\"}],\"scatter\":[{\"marker\":{\"colorbar\":{\"outlinewidth\":0,\"tickcolor\":\"rgb(237,237,237)\",\"ticklen\":6,\"ticks\":\"inside\"}},\"type\":\"scatter\"}],\"scatterternary\":[{\"marker\":{\"colorbar\":{\"outlinewidth\":0,\"tickcolor\":\"rgb(237,237,237)\",\"ticklen\":6,\"ticks\":\"inside\"}},\"type\":\"scatterternary\"}],\"surface\":[{\"colorbar\":{\"outlinewidth\":0,\"tickcolor\":\"rgb(237,237,237)\",\"ticklen\":6,\"ticks\":\"inside\"},\"colorscale\":[[0,\"rgb(20,44,66)\"],[1,\"rgb(90,179,244)\"]],\"type\":\"surface\"}],\"table\":[{\"cells\":{\"fill\":{\"color\":\"rgb(237,237,237)\"},\"line\":{\"color\":\"white\"}},\"header\":{\"fill\":{\"color\":\"rgb(217,217,217)\"},\"line\":{\"color\":\"white\"}},\"type\":\"table\"}]},\"layout\":{\"annotationdefaults\":{\"arrowhead\":0,\"arrowwidth\":1},\"autotypenumbers\":\"strict\",\"coloraxis\":{\"colorbar\":{\"outlinewidth\":0,\"tickcolor\":\"rgb(237,237,237)\",\"ticklen\":6,\"ticks\":\"inside\"}},\"colorscale\":{\"sequential\":[[0,\"rgb(20,44,66)\"],[1,\"rgb(90,179,244)\"]],\"sequentialminus\":[[0,\"rgb(20,44,66)\"],[1,\"rgb(90,179,244)\"]]},\"colorway\":[\"#F8766D\",\"#A3A500\",\"#00BF7D\",\"#00B0F6\",\"#E76BF3\"],\"font\":{\"color\":\"rgb(51,51,51)\"},\"geo\":{\"bgcolor\":\"white\",\"lakecolor\":\"white\",\"landcolor\":\"rgb(237,237,237)\",\"showlakes\":true,\"showland\":true,\"subunitcolor\":\"white\"},\"hoverlabel\":{\"align\":\"left\"},\"hovermode\":\"closest\",\"paper_bgcolor\":\"white\",\"plot_bgcolor\":\"rgb(237,237,237)\",\"polar\":{\"angularaxis\":{\"gridcolor\":\"white\",\"linecolor\":\"white\",\"showgrid\":true,\"tickcolor\":\"rgb(51,51,51)\",\"ticks\":\"outside\"},\"bgcolor\":\"rgb(237,237,237)\",\"radialaxis\":{\"gridcolor\":\"white\",\"linecolor\":\"white\",\"showgrid\":true,\"tickcolor\":\"rgb(51,51,51)\",\"ticks\":\"outside\"}},\"scene\":{\"xaxis\":{\"backgroundcolor\":\"rgb(237,237,237)\",\"gridcolor\":\"white\",\"gridwidth\":2,\"linecolor\":\"white\",\"showbackground\":true,\"showgrid\":true,\"tickcolor\":\"rgb(51,51,51)\",\"ticks\":\"outside\",\"zerolinecolor\":\"white\"},\"yaxis\":{\"backgroundcolor\":\"rgb(237,237,237)\",\"gridcolor\":\"white\",\"gridwidth\":2,\"linecolor\":\"white\",\"showbackground\":true,\"showgrid\":true,\"tickcolor\":\"rgb(51,51,51)\",\"ticks\":\"outside\",\"zerolinecolor\":\"white\"},\"zaxis\":{\"backgroundcolor\":\"rgb(237,237,237)\",\"gridcolor\":\"white\",\"gridwidth\":2,\"linecolor\":\"white\",\"showbackground\":true,\"showgrid\":true,\"tickcolor\":\"rgb(51,51,51)\",\"ticks\":\"outside\",\"zerolinecolor\":\"white\"}},\"shapedefaults\":{\"fillcolor\":\"black\",\"line\":{\"width\":0},\"opacity\":0.3},\"ternary\":{\"aaxis\":{\"gridcolor\":\"white\",\"linecolor\":\"white\",\"showgrid\":true,\"tickcolor\":\"rgb(51,51,51)\",\"ticks\":\"outside\"},\"baxis\":{\"gridcolor\":\"white\",\"linecolor\":\"white\",\"showgrid\":true,\"tickcolor\":\"rgb(51,51,51)\",\"ticks\":\"outside\"},\"bgcolor\":\"rgb(237,237,237)\",\"caxis\":{\"gridcolor\":\"white\",\"linecolor\":\"white\",\"showgrid\":true,\"tickcolor\":\"rgb(51,51,51)\",\"ticks\":\"outside\"}},\"xaxis\":{\"automargin\":true,\"gridcolor\":\"white\",\"linecolor\":\"white\",\"showgrid\":true,\"tickcolor\":\"rgb(51,51,51)\",\"ticks\":\"outside\",\"title\":{\"standoff\":15},\"zerolinecolor\":\"white\"},\"yaxis\":{\"automargin\":true,\"gridcolor\":\"white\",\"linecolor\":\"white\",\"showgrid\":true,\"tickcolor\":\"rgb(51,51,51)\",\"ticks\":\"outside\",\"title\":{\"standoff\":15},\"zerolinecolor\":\"white\"}}},\"xaxis\":{\"anchor\":\"y\",\"domain\":[0.0,0.98],\"matches\":\"x4\",\"showticklabels\":false},\"yaxis\":{\"anchor\":\"x\",\"domain\":[0.80625,1.0]},\"xaxis2\":{\"anchor\":\"y2\",\"domain\":[0.0,0.98],\"matches\":\"x4\",\"showticklabels\":false},\"yaxis2\":{\"anchor\":\"x2\",\"domain\":[0.5375,0.73125]},\"xaxis3\":{\"anchor\":\"y3\",\"domain\":[0.0,0.98],\"matches\":\"x4\",\"showticklabels\":false},\"yaxis3\":{\"anchor\":\"x3\",\"domain\":[0.26875,0.4625]},\"xaxis4\":{\"anchor\":\"y4\",\"domain\":[0.0,0.98]},\"yaxis4\":{\"anchor\":\"x4\",\"domain\":[0.0,0.19375]},\"annotations\":[{\"font\":{\"size\":16},\"showarrow\":false,\"text\":\"Actual\",\"textangle\":90,\"x\":0.98,\"xanchor\":\"left\",\"xref\":\"paper\",\"y\":0.903125,\"yanchor\":\"middle\",\"yref\":\"paper\"},{\"font\":{\"size\":16},\"showarrow\":false,\"text\":\"Seasonal\",\"textangle\":90,\"x\":0.98,\"xanchor\":\"left\",\"xref\":\"paper\",\"y\":0.6343749999999999,\"yanchor\":\"middle\",\"yref\":\"paper\"},{\"font\":{\"size\":16},\"showarrow\":false,\"text\":\"Trend\",\"textangle\":90,\"x\":0.98,\"xanchor\":\"left\",\"xref\":\"paper\",\"y\":0.365625,\"yanchor\":\"middle\",\"yref\":\"paper\"},{\"font\":{\"size\":16},\"showarrow\":false,\"text\":\"Residual\",\"textangle\":90,\"x\":0.98,\"xanchor\":\"left\",\"xref\":\"paper\",\"y\":0.096875,\"yanchor\":\"middle\",\"yref\":\"paper\"}],\"title\":{\"text\":\"STL Decomposition | Total\"},\"showlegend\":false},                        {\"responsive\": true}                    ).then(function(){\n",
              "                            \n",
              "var gd = document.getElementById('07b4a7db-704d-4543-b794-af5e142ad053');\n",
              "var x = new MutationObserver(function (mutations, observer) {{\n",
              "        var display = window.getComputedStyle(gd).display;\n",
              "        if (!display || display === 'none') {{\n",
              "            console.log([gd, 'removed!']);\n",
              "            Plotly.purge(gd);\n",
              "            observer.disconnect();\n",
              "        }}\n",
              "}});\n",
              "\n",
              "// Listen for the removal of the full notebook cells\n",
              "var notebookContainer = gd.closest('#notebook-container');\n",
              "if (notebookContainer) {{\n",
              "    x.observe(notebookContainer, {childList: true});\n",
              "}}\n",
              "\n",
              "// Listen for the clearing of the current output cell\n",
              "var outputEl = gd.closest('.output');\n",
              "if (outputEl) {{\n",
              "    x.observe(outputEl, {childList: true});\n",
              "}}\n",
              "\n",
              "                        })                };                            </script>        </div>\n",
              "</body>\n",
              "</html>"
            ]
          },
          "metadata": {}
        }
      ]
    },
    {
      "cell_type": "code",
      "source": [
        "# Model Training\n",
        "best = exp_ny.compare_models()"
      ],
      "metadata": {
        "colab": {
          "base_uri": "https://localhost:8080/",
          "height": 865,
          "referenced_widgets": [
            "8e8b159c2ad74028ade88decc403f841",
            "d64fb6ffbb77452380a4cbd57ee45226",
            "a3dcbbadd9844e3b9363e7ce752c0a47"
          ]
        },
        "id": "tY_boiaS16OA",
        "outputId": "a23bc1df-e54a-484a-e3cf-dffd457fb5a6"
      },
      "execution_count": 40,
      "outputs": [
        {
          "output_type": "display_data",
          "data": {
            "text/html": [
              "<div>\n",
              "<style scoped>\n",
              "    .dataframe tbody tr th:only-of-type {\n",
              "        vertical-align: middle;\n",
              "    }\n",
              "\n",
              "    .dataframe tbody tr th {\n",
              "        vertical-align: top;\n",
              "    }\n",
              "\n",
              "    .dataframe thead th {\n",
              "        text-align: right;\n",
              "    }\n",
              "</style>\n",
              "<table border=\"1\" class=\"dataframe\">\n",
              "  <thead>\n",
              "    <tr style=\"text-align: right;\">\n",
              "      <th></th>\n",
              "      <th>Model</th>\n",
              "      <th>MAE</th>\n",
              "      <th>RMSE</th>\n",
              "      <th>MAPE</th>\n",
              "      <th>SMAPE</th>\n",
              "      <th>MASE</th>\n",
              "      <th>R2</th>\n",
              "      <th>TT (Sec)</th>\n",
              "    </tr>\n",
              "  </thead>\n",
              "  <tbody>\n",
              "    <tr>\n",
              "      <th>exp_smooth</th>\n",
              "      <td>Exponential Smoothing</td>\n",
              "      <td>190.232</td>\n",
              "      <td>251.048</td>\n",
              "      <td>0.0285</td>\n",
              "      <td>0.0289</td>\n",
              "      <td>0.925</td>\n",
              "      <td>0.9001</td>\n",
              "      <td>0.1400</td>\n",
              "    </tr>\n",
              "    <tr>\n",
              "      <th>ets</th>\n",
              "      <td>ETS</td>\n",
              "      <td>197.176</td>\n",
              "      <td>274.943</td>\n",
              "      <td>0.0298</td>\n",
              "      <td>0.0304</td>\n",
              "      <td>0.9545</td>\n",
              "      <td>0.8685</td>\n",
              "      <td>0.1233</td>\n",
              "    </tr>\n",
              "    <tr>\n",
              "      <th>knn_cds_dt</th>\n",
              "      <td>K Neighbors w/ Cond. Deseasonalize &amp; Detrending</td>\n",
              "      <td>198.67</td>\n",
              "      <td>270.532</td>\n",
              "      <td>0.0307</td>\n",
              "      <td>0.031</td>\n",
              "      <td>0.9624</td>\n",
              "      <td>0.8425</td>\n",
              "      <td>0.5033</td>\n",
              "    </tr>\n",
              "    <tr>\n",
              "      <th>et_cds_dt</th>\n",
              "      <td>Extra Trees w/ Cond. Deseasonalize &amp; Detrending</td>\n",
              "      <td>200.223</td>\n",
              "      <td>253.764</td>\n",
              "      <td>0.0314</td>\n",
              "      <td>0.0317</td>\n",
              "      <td>0.9692</td>\n",
              "      <td>0.8541</td>\n",
              "      <td>0.6500</td>\n",
              "    </tr>\n",
              "    <tr>\n",
              "      <th>huber_cds_dt</th>\n",
              "      <td>Huber w/ Cond. Deseasonalize &amp; Detrending</td>\n",
              "      <td>208.497</td>\n",
              "      <td>254.689</td>\n",
              "      <td>0.0326</td>\n",
              "      <td>0.0329</td>\n",
              "      <td>1.0172</td>\n",
              "      <td>0.8621</td>\n",
              "      <td>0.0667</td>\n",
              "    </tr>\n",
              "    <tr>\n",
              "      <th>br_cds_dt</th>\n",
              "      <td>Bayesian Ridge w/ Cond. Deseasonalize &amp; Detren...</td>\n",
              "      <td>209.696</td>\n",
              "      <td>268.051</td>\n",
              "      <td>0.0325</td>\n",
              "      <td>0.0329</td>\n",
              "      <td>1.016</td>\n",
              "      <td>0.8504</td>\n",
              "      <td>0.0333</td>\n",
              "    </tr>\n",
              "    <tr>\n",
              "      <th>omp_cds_dt</th>\n",
              "      <td>Orthogonal Matching Pursuit w/ Cond. Deseasona...</td>\n",
              "      <td>209.043</td>\n",
              "      <td>278.312</td>\n",
              "      <td>0.0326</td>\n",
              "      <td>0.0329</td>\n",
              "      <td>1.0146</td>\n",
              "      <td>0.8342</td>\n",
              "      <td>0.0333</td>\n",
              "    </tr>\n",
              "    <tr>\n",
              "      <th>llar_cds_dt</th>\n",
              "      <td>Lasso Least Angular Regressor w/ Cond. Deseaso...</td>\n",
              "      <td>211.46</td>\n",
              "      <td>270.461</td>\n",
              "      <td>0.033</td>\n",
              "      <td>0.0332</td>\n",
              "      <td>1.0237</td>\n",
              "      <td>0.8433</td>\n",
              "      <td>0.0333</td>\n",
              "    </tr>\n",
              "    <tr>\n",
              "      <th>rf_cds_dt</th>\n",
              "      <td>Random Forest w/ Cond. Deseasonalize &amp; Detrending</td>\n",
              "      <td>210.24</td>\n",
              "      <td>274.454</td>\n",
              "      <td>0.0332</td>\n",
              "      <td>0.0334</td>\n",
              "      <td>1.0173</td>\n",
              "      <td>0.8264</td>\n",
              "      <td>0.6900</td>\n",
              "    </tr>\n",
              "    <tr>\n",
              "      <th>lr_cds_dt</th>\n",
              "      <td>Linear w/ Cond. Deseasonalize &amp; Detrending</td>\n",
              "      <td>212.356</td>\n",
              "      <td>265.531</td>\n",
              "      <td>0.0333</td>\n",
              "      <td>0.0335</td>\n",
              "      <td>1.0283</td>\n",
              "      <td>0.8471</td>\n",
              "      <td>0.0300</td>\n",
              "    </tr>\n",
              "    <tr>\n",
              "      <th>lasso_cds_dt</th>\n",
              "      <td>Lasso w/ Cond. Deseasonalize &amp; Detrending</td>\n",
              "      <td>212.356</td>\n",
              "      <td>265.536</td>\n",
              "      <td>0.0333</td>\n",
              "      <td>0.0335</td>\n",
              "      <td>1.0283</td>\n",
              "      <td>0.8471</td>\n",
              "      <td>0.0333</td>\n",
              "    </tr>\n",
              "    <tr>\n",
              "      <th>ridge_cds_dt</th>\n",
              "      <td>Ridge w/ Cond. Deseasonalize &amp; Detrending</td>\n",
              "      <td>212.356</td>\n",
              "      <td>265.531</td>\n",
              "      <td>0.0333</td>\n",
              "      <td>0.0335</td>\n",
              "      <td>1.0283</td>\n",
              "      <td>0.8471</td>\n",
              "      <td>0.0300</td>\n",
              "    </tr>\n",
              "    <tr>\n",
              "      <th>en_cds_dt</th>\n",
              "      <td>Elastic Net w/ Cond. Deseasonalize &amp; Detrending</td>\n",
              "      <td>212.355</td>\n",
              "      <td>265.534</td>\n",
              "      <td>0.0333</td>\n",
              "      <td>0.0335</td>\n",
              "      <td>1.0283</td>\n",
              "      <td>0.8471</td>\n",
              "      <td>0.0300</td>\n",
              "    </tr>\n",
              "    <tr>\n",
              "      <th>lightgbm_cds_dt</th>\n",
              "      <td>Light Gradient Boosting w/ Cond. Deseasonalize...</td>\n",
              "      <td>217.051</td>\n",
              "      <td>273.894</td>\n",
              "      <td>0.0336</td>\n",
              "      <td>0.034</td>\n",
              "      <td>1.05</td>\n",
              "      <td>0.8467</td>\n",
              "      <td>0.0333</td>\n",
              "    </tr>\n",
              "    <tr>\n",
              "      <th>gbr_cds_dt</th>\n",
              "      <td>Gradient Boosting w/ Cond. Deseasonalize &amp; Det...</td>\n",
              "      <td>213.825</td>\n",
              "      <td>271.118</td>\n",
              "      <td>0.0339</td>\n",
              "      <td>0.0342</td>\n",
              "      <td>1.0335</td>\n",
              "      <td>0.8293</td>\n",
              "      <td>0.0700</td>\n",
              "    </tr>\n",
              "    <tr>\n",
              "      <th>theta</th>\n",
              "      <td>Theta Forecaster</td>\n",
              "      <td>224.14</td>\n",
              "      <td>290.129</td>\n",
              "      <td>0.0345</td>\n",
              "      <td>0.0348</td>\n",
              "      <td>1.0836</td>\n",
              "      <td>0.8191</td>\n",
              "      <td>0.0300</td>\n",
              "    </tr>\n",
              "    <tr>\n",
              "      <th>ada_cds_dt</th>\n",
              "      <td>AdaBoost w/ Cond. Deseasonalize &amp; Detrending</td>\n",
              "      <td>218.957</td>\n",
              "      <td>282.631</td>\n",
              "      <td>0.0346</td>\n",
              "      <td>0.0348</td>\n",
              "      <td>1.0564</td>\n",
              "      <td>0.8212</td>\n",
              "      <td>0.1367</td>\n",
              "    </tr>\n",
              "    <tr>\n",
              "      <th>auto_arima</th>\n",
              "      <td>Auto ARIMA</td>\n",
              "      <td>225.628</td>\n",
              "      <td>296.333</td>\n",
              "      <td>0.0353</td>\n",
              "      <td>0.0355</td>\n",
              "      <td>1.0954</td>\n",
              "      <td>0.7819</td>\n",
              "      <td>7.5567</td>\n",
              "    </tr>\n",
              "    <tr>\n",
              "      <th>snaive</th>\n",
              "      <td>Seasonal Naive Forecaster</td>\n",
              "      <td>227.793</td>\n",
              "      <td>284.673</td>\n",
              "      <td>0.0358</td>\n",
              "      <td>0.036</td>\n",
              "      <td>1.1056</td>\n",
              "      <td>0.7857</td>\n",
              "      <td>0.0200</td>\n",
              "    </tr>\n",
              "    <tr>\n",
              "      <th>arima</th>\n",
              "      <td>ARIMA</td>\n",
              "      <td>230.694</td>\n",
              "      <td>293.944</td>\n",
              "      <td>0.0361</td>\n",
              "      <td>0.0364</td>\n",
              "      <td>1.1203</td>\n",
              "      <td>0.7805</td>\n",
              "      <td>0.0833</td>\n",
              "    </tr>\n",
              "    <tr>\n",
              "      <th>dt_cds_dt</th>\n",
              "      <td>Decision Tree w/ Cond. Deseasonalize &amp; Detrending</td>\n",
              "      <td>231.574</td>\n",
              "      <td>286.52</td>\n",
              "      <td>0.0369</td>\n",
              "      <td>0.0373</td>\n",
              "      <td>1.1198</td>\n",
              "      <td>0.7829</td>\n",
              "      <td>0.0300</td>\n",
              "    </tr>\n",
              "    <tr>\n",
              "      <th>par_cds_dt</th>\n",
              "      <td>Passive Aggressive w/ Cond. Deseasonalize &amp; De...</td>\n",
              "      <td>265.402</td>\n",
              "      <td>294.909</td>\n",
              "      <td>0.0429</td>\n",
              "      <td>0.0435</td>\n",
              "      <td>1.2826</td>\n",
              "      <td>0.8394</td>\n",
              "      <td>0.0300</td>\n",
              "    </tr>\n",
              "    <tr>\n",
              "      <th>lar_cds_dt</th>\n",
              "      <td>Least Angular Regressor w/ Cond. Deseasonalize...</td>\n",
              "      <td>684.819</td>\n",
              "      <td>803.236</td>\n",
              "      <td>0.1145</td>\n",
              "      <td>0.1019</td>\n",
              "      <td>3.2401</td>\n",
              "      <td>-6.2369</td>\n",
              "      <td>0.0333</td>\n",
              "    </tr>\n",
              "    <tr>\n",
              "      <th>grand_means</th>\n",
              "      <td>Grand Means Forecaster</td>\n",
              "      <td>746.984</td>\n",
              "      <td>852.479</td>\n",
              "      <td>0.1166</td>\n",
              "      <td>0.1193</td>\n",
              "      <td>3.6143</td>\n",
              "      <td>-0.4332</td>\n",
              "      <td>0.0200</td>\n",
              "    </tr>\n",
              "    <tr>\n",
              "      <th>polytrend</th>\n",
              "      <td>Polynomial Trend Forecaster</td>\n",
              "      <td>757.447</td>\n",
              "      <td>892.55</td>\n",
              "      <td>0.1171</td>\n",
              "      <td>0.1209</td>\n",
              "      <td>3.6652</td>\n",
              "      <td>-0.5968</td>\n",
              "      <td>0.0167</td>\n",
              "    </tr>\n",
              "    <tr>\n",
              "      <th>naive</th>\n",
              "      <td>Naive Forecaster</td>\n",
              "      <td>814.334</td>\n",
              "      <td>990.328</td>\n",
              "      <td>0.1244</td>\n",
              "      <td>0.1317</td>\n",
              "      <td>3.9691</td>\n",
              "      <td>-0.8475</td>\n",
              "      <td>0.0200</td>\n",
              "    </tr>\n",
              "  </tbody>\n",
              "</table>\n",
              "</div>"
            ],
            "text/plain": [
              "                                                             Model      MAE  \\\n",
              "exp_smooth                                   Exponential Smoothing  190.232   \n",
              "ets                                                            ETS  197.176   \n",
              "knn_cds_dt         K Neighbors w/ Cond. Deseasonalize & Detrending   198.67   \n",
              "et_cds_dt          Extra Trees w/ Cond. Deseasonalize & Detrending  200.223   \n",
              "huber_cds_dt             Huber w/ Cond. Deseasonalize & Detrending  208.497   \n",
              "br_cds_dt        Bayesian Ridge w/ Cond. Deseasonalize & Detren...  209.696   \n",
              "omp_cds_dt       Orthogonal Matching Pursuit w/ Cond. Deseasona...  209.043   \n",
              "llar_cds_dt      Lasso Least Angular Regressor w/ Cond. Deseaso...   211.46   \n",
              "rf_cds_dt        Random Forest w/ Cond. Deseasonalize & Detrending   210.24   \n",
              "lr_cds_dt               Linear w/ Cond. Deseasonalize & Detrending  212.356   \n",
              "lasso_cds_dt             Lasso w/ Cond. Deseasonalize & Detrending  212.356   \n",
              "ridge_cds_dt             Ridge w/ Cond. Deseasonalize & Detrending  212.356   \n",
              "en_cds_dt          Elastic Net w/ Cond. Deseasonalize & Detrending  212.355   \n",
              "lightgbm_cds_dt  Light Gradient Boosting w/ Cond. Deseasonalize...  217.051   \n",
              "gbr_cds_dt       Gradient Boosting w/ Cond. Deseasonalize & Det...  213.825   \n",
              "theta                                             Theta Forecaster   224.14   \n",
              "ada_cds_dt            AdaBoost w/ Cond. Deseasonalize & Detrending  218.957   \n",
              "auto_arima                                              Auto ARIMA  225.628   \n",
              "snaive                                   Seasonal Naive Forecaster  227.793   \n",
              "arima                                                        ARIMA  230.694   \n",
              "dt_cds_dt        Decision Tree w/ Cond. Deseasonalize & Detrending  231.574   \n",
              "par_cds_dt       Passive Aggressive w/ Cond. Deseasonalize & De...  265.402   \n",
              "lar_cds_dt       Least Angular Regressor w/ Cond. Deseasonalize...  684.819   \n",
              "grand_means                                 Grand Means Forecaster  746.984   \n",
              "polytrend                              Polynomial Trend Forecaster  757.447   \n",
              "naive                                             Naive Forecaster  814.334   \n",
              "\n",
              "                    RMSE    MAPE   SMAPE    MASE      R2  TT (Sec)  \n",
              "exp_smooth       251.048  0.0285  0.0289   0.925  0.9001    0.1400  \n",
              "ets              274.943  0.0298  0.0304  0.9545  0.8685    0.1233  \n",
              "knn_cds_dt       270.532  0.0307   0.031  0.9624  0.8425    0.5033  \n",
              "et_cds_dt        253.764  0.0314  0.0317  0.9692  0.8541    0.6500  \n",
              "huber_cds_dt     254.689  0.0326  0.0329  1.0172  0.8621    0.0667  \n",
              "br_cds_dt        268.051  0.0325  0.0329   1.016  0.8504    0.0333  \n",
              "omp_cds_dt       278.312  0.0326  0.0329  1.0146  0.8342    0.0333  \n",
              "llar_cds_dt      270.461   0.033  0.0332  1.0237  0.8433    0.0333  \n",
              "rf_cds_dt        274.454  0.0332  0.0334  1.0173  0.8264    0.6900  \n",
              "lr_cds_dt        265.531  0.0333  0.0335  1.0283  0.8471    0.0300  \n",
              "lasso_cds_dt     265.536  0.0333  0.0335  1.0283  0.8471    0.0333  \n",
              "ridge_cds_dt     265.531  0.0333  0.0335  1.0283  0.8471    0.0300  \n",
              "en_cds_dt        265.534  0.0333  0.0335  1.0283  0.8471    0.0300  \n",
              "lightgbm_cds_dt  273.894  0.0336   0.034    1.05  0.8467    0.0333  \n",
              "gbr_cds_dt       271.118  0.0339  0.0342  1.0335  0.8293    0.0700  \n",
              "theta            290.129  0.0345  0.0348  1.0836  0.8191    0.0300  \n",
              "ada_cds_dt       282.631  0.0346  0.0348  1.0564  0.8212    0.1367  \n",
              "auto_arima       296.333  0.0353  0.0355  1.0954  0.7819    7.5567  \n",
              "snaive           284.673  0.0358   0.036  1.1056  0.7857    0.0200  \n",
              "arima            293.944  0.0361  0.0364  1.1203  0.7805    0.0833  \n",
              "dt_cds_dt         286.52  0.0369  0.0373  1.1198  0.7829    0.0300  \n",
              "par_cds_dt       294.909  0.0429  0.0435  1.2826  0.8394    0.0300  \n",
              "lar_cds_dt       803.236  0.1145  0.1019  3.2401 -6.2369    0.0333  \n",
              "grand_means      852.479  0.1166  0.1193  3.6143 -0.4332    0.0200  \n",
              "polytrend         892.55  0.1171  0.1209  3.6652 -0.5968    0.0167  \n",
              "naive            990.328  0.1244  0.1317  3.9691 -0.8475    0.0200  "
            ]
          },
          "metadata": {}
        }
      ]
    },
    {
      "cell_type": "code",
      "source": [
        "# Best Model Plotting\n",
        "exp_ny.plot_model(best, plot = 'forecast')"
      ],
      "metadata": {
        "colab": {
          "base_uri": "https://localhost:8080/",
          "height": 542
        },
        "id": "uYUgwf-P2VXS",
        "outputId": "f6a3a3be-2c4e-44e2-a909-c469140d72b5"
      },
      "execution_count": 41,
      "outputs": [
        {
          "output_type": "display_data",
          "data": {
            "text/html": [
              "<html>\n",
              "<head><meta charset=\"utf-8\" /></head>\n",
              "<body>\n",
              "    <div>            <script src=\"https://cdnjs.cloudflare.com/ajax/libs/mathjax/2.7.5/MathJax.js?config=TeX-AMS-MML_SVG\"></script><script type=\"text/javascript\">if (window.MathJax) {MathJax.Hub.Config({SVG: {font: \"STIX-Web\"}});}</script>                <script type=\"text/javascript\">window.PlotlyConfig = {MathJaxConfig: 'local'};</script>\n",
              "        <script src=\"https://cdn.plot.ly/plotly-2.6.3.min.js\"></script>                <div id=\"4ac5c31b-519c-4644-b936-2727f063acb0\" class=\"plotly-graph-div\" style=\"height:525px; width:100%;\"></div>            <script type=\"text/javascript\">                                    window.PLOTLYENV=window.PLOTLYENV || {};                                    if (document.getElementById(\"4ac5c31b-519c-4644-b936-2727f063acb0\")) {                    Plotly.newPlot(                        \"4ac5c31b-519c-4644-b936-2727f063acb0\",                        [{\"line\":{\"color\":\"#1f77b4\"},\"marker\":{\"size\":5},\"mode\":\"lines+markers\",\"name\":\"Forecast | Exponential Smoothing\",\"showlegend\":true,\"x\":[\"2017-02-01T00:00:00\",\"2017-03-01T00:00:00\",\"2017-04-01T00:00:00\",\"2017-05-01T00:00:00\",\"2017-06-01T00:00:00\",\"2017-07-01T00:00:00\",\"2017-08-01T00:00:00\"],\"y\":[5872.9916,5565.4693,5309.4879,5640.8676,6588.4435,7706.7583,7343.4527],\"type\":\"scatter\"},{\"marker\":{\"color\":\"#3f3f3f\",\"size\":5},\"mode\":\"lines+markers\",\"name\":\"Original\",\"showlegend\":true,\"x\":[\"2012-01-01T00:00:00\",\"2012-02-01T00:00:00\",\"2012-03-01T00:00:00\",\"2012-04-01T00:00:00\",\"2012-05-01T00:00:00\",\"2012-06-01T00:00:00\",\"2012-07-01T00:00:00\",\"2012-08-01T00:00:00\",\"2012-09-01T00:00:00\",\"2012-10-01T00:00:00\",\"2012-11-01T00:00:00\",\"2012-12-01T00:00:00\",\"2013-01-01T00:00:00\",\"2013-02-01T00:00:00\",\"2013-03-01T00:00:00\",\"2013-04-01T00:00:00\",\"2013-05-01T00:00:00\",\"2013-06-01T00:00:00\",\"2013-07-01T00:00:00\",\"2013-08-01T00:00:00\",\"2013-09-01T00:00:00\",\"2013-10-01T00:00:00\",\"2013-11-01T00:00:00\",\"2013-12-01T00:00:00\",\"2014-01-01T00:00:00\",\"2014-02-01T00:00:00\",\"2014-03-01T00:00:00\",\"2014-04-01T00:00:00\",\"2014-05-01T00:00:00\",\"2014-06-01T00:00:00\",\"2014-07-01T00:00:00\",\"2014-08-01T00:00:00\",\"2014-09-01T00:00:00\",\"2014-10-01T00:00:00\",\"2014-11-01T00:00:00\",\"2014-12-01T00:00:00\",\"2015-01-01T00:00:00\",\"2015-02-01T00:00:00\",\"2015-03-01T00:00:00\",\"2015-04-01T00:00:00\",\"2015-05-01T00:00:00\",\"2015-06-01T00:00:00\",\"2015-07-01T00:00:00\",\"2015-08-01T00:00:00\",\"2015-09-01T00:00:00\",\"2015-10-01T00:00:00\",\"2015-11-01T00:00:00\",\"2015-12-01T00:00:00\",\"2016-01-01T00:00:00\",\"2016-02-01T00:00:00\",\"2016-03-01T00:00:00\",\"2016-04-01T00:00:00\",\"2016-05-01T00:00:00\",\"2016-06-01T00:00:00\",\"2016-07-01T00:00:00\",\"2016-08-01T00:00:00\",\"2016-09-01T00:00:00\",\"2016-10-01T00:00:00\",\"2016-11-01T00:00:00\",\"2016-12-01T00:00:00\",\"2017-01-01T00:00:00\",\"2017-02-01T00:00:00\",\"2017-03-01T00:00:00\",\"2017-04-01T00:00:00\",\"2017-05-01T00:00:00\",\"2017-06-01T00:00:00\",\"2017-07-01T00:00:00\",\"2017-08-01T00:00:00\"],\"y\":[5757.495833333329,5622.331609195395,5479.8454912516845,5368.945833333332,5867.896102150537,6634.310277777774,7917.395295698933,7622.954704301079,6412.603472222217,5418.996370967746,5337.659861111115,5581.561424731177,5786.083736559137,5851.953273809524,5601.792328398383,5363.968055555549,5607.0258064516165,6748.064861111119,8118.8922043010725,6872.71989247312,6152.224305555546,5606.910215053763,5515.0995833333345,5772.254838709673,6093.072849462364,5925.564136904762,5699.518707940782,5312.782361111114,5454.653897849461,6510.875416666669,7203.60698924732,6750.527688172048,6378.545694444455,5448.665322580643,5477.985555555556,5686.5802419354895,5976.82984811828,6239.095264880954,5720.79299730458,5251.143144444442,5712.8579892473135,6482.128290277783,7466.376149193547,7458.210470430115,6832.174806944438,5347.145436657684,5332.59848194444,5445.284844086018,5773.984214864866,5782.288425287358,5387.212437415879,5287.94848261474,5563.631038978499,6547.856534458518,7731.891469086024,7962.950690444148,6693.131075000001,5427.31438627187,5371.1899444444425,5720.892685483872,5738.234349932702,5611.792171385994,5660.977831763126,5232.217107391911,5421.315935222667,6597.9903458333365,7309.246676985201,6971.501247747749],\"type\":\"scatter\"}],                        {\"title\":{\"text\":\"Actual vs. 'Out-of-Sample' Forecast | Total\"},\"xaxis\":{\"title\":{\"text\":\"Time\"}},\"yaxis\":{\"title\":{\"text\":\"Values\"}},\"template\":{\"data\":{\"barpolar\":[{\"marker\":{\"line\":{\"color\":\"rgb(237,237,237)\",\"width\":0.5},\"pattern\":{\"fillmode\":\"overlay\",\"size\":10,\"solidity\":0.2}},\"type\":\"barpolar\"}],\"bar\":[{\"error_x\":{\"color\":\"rgb(51,51,51)\"},\"error_y\":{\"color\":\"rgb(51,51,51)\"},\"marker\":{\"line\":{\"color\":\"rgb(237,237,237)\",\"width\":0.5},\"pattern\":{\"fillmode\":\"overlay\",\"size\":10,\"solidity\":0.2}},\"type\":\"bar\"}],\"carpet\":[{\"aaxis\":{\"endlinecolor\":\"rgb(51,51,51)\",\"gridcolor\":\"white\",\"linecolor\":\"white\",\"minorgridcolor\":\"white\",\"startlinecolor\":\"rgb(51,51,51)\"},\"baxis\":{\"endlinecolor\":\"rgb(51,51,51)\",\"gridcolor\":\"white\",\"linecolor\":\"white\",\"minorgridcolor\":\"white\",\"startlinecolor\":\"rgb(51,51,51)\"},\"type\":\"carpet\"}],\"choropleth\":[{\"colorbar\":{\"outlinewidth\":0,\"tickcolor\":\"rgb(237,237,237)\",\"ticklen\":6,\"ticks\":\"inside\"},\"type\":\"choropleth\"}],\"contourcarpet\":[{\"colorbar\":{\"outlinewidth\":0,\"tickcolor\":\"rgb(237,237,237)\",\"ticklen\":6,\"ticks\":\"inside\"},\"type\":\"contourcarpet\"}],\"contour\":[{\"colorbar\":{\"outlinewidth\":0,\"tickcolor\":\"rgb(237,237,237)\",\"ticklen\":6,\"ticks\":\"inside\"},\"colorscale\":[[0,\"rgb(20,44,66)\"],[1,\"rgb(90,179,244)\"]],\"type\":\"contour\"}],\"heatmapgl\":[{\"colorbar\":{\"outlinewidth\":0,\"tickcolor\":\"rgb(237,237,237)\",\"ticklen\":6,\"ticks\":\"inside\"},\"colorscale\":[[0,\"rgb(20,44,66)\"],[1,\"rgb(90,179,244)\"]],\"type\":\"heatmapgl\"}],\"heatmap\":[{\"colorbar\":{\"outlinewidth\":0,\"tickcolor\":\"rgb(237,237,237)\",\"ticklen\":6,\"ticks\":\"inside\"},\"colorscale\":[[0,\"rgb(20,44,66)\"],[1,\"rgb(90,179,244)\"]],\"type\":\"heatmap\"}],\"histogram2dcontour\":[{\"colorbar\":{\"outlinewidth\":0,\"tickcolor\":\"rgb(237,237,237)\",\"ticklen\":6,\"ticks\":\"inside\"},\"colorscale\":[[0,\"rgb(20,44,66)\"],[1,\"rgb(90,179,244)\"]],\"type\":\"histogram2dcontour\"}],\"histogram2d\":[{\"colorbar\":{\"outlinewidth\":0,\"tickcolor\":\"rgb(237,237,237)\",\"ticklen\":6,\"ticks\":\"inside\"},\"colorscale\":[[0,\"rgb(20,44,66)\"],[1,\"rgb(90,179,244)\"]],\"type\":\"histogram2d\"}],\"histogram\":[{\"marker\":{\"pattern\":{\"fillmode\":\"overlay\",\"size\":10,\"solidity\":0.2}},\"type\":\"histogram\"}],\"mesh3d\":[{\"colorbar\":{\"outlinewidth\":0,\"tickcolor\":\"rgb(237,237,237)\",\"ticklen\":6,\"ticks\":\"inside\"},\"type\":\"mesh3d\"}],\"parcoords\":[{\"line\":{\"colorbar\":{\"outlinewidth\":0,\"tickcolor\":\"rgb(237,237,237)\",\"ticklen\":6,\"ticks\":\"inside\"}},\"type\":\"parcoords\"}],\"pie\":[{\"automargin\":true,\"type\":\"pie\"}],\"scatter3d\":[{\"line\":{\"colorbar\":{\"outlinewidth\":0,\"tickcolor\":\"rgb(237,237,237)\",\"ticklen\":6,\"ticks\":\"inside\"}},\"marker\":{\"colorbar\":{\"outlinewidth\":0,\"tickcolor\":\"rgb(237,237,237)\",\"ticklen\":6,\"ticks\":\"inside\"}},\"type\":\"scatter3d\"}],\"scattercarpet\":[{\"marker\":{\"colorbar\":{\"outlinewidth\":0,\"tickcolor\":\"rgb(237,237,237)\",\"ticklen\":6,\"ticks\":\"inside\"}},\"type\":\"scattercarpet\"}],\"scattergeo\":[{\"marker\":{\"colorbar\":{\"outlinewidth\":0,\"tickcolor\":\"rgb(237,237,237)\",\"ticklen\":6,\"ticks\":\"inside\"}},\"type\":\"scattergeo\"}],\"scattergl\":[{\"marker\":{\"colorbar\":{\"outlinewidth\":0,\"tickcolor\":\"rgb(237,237,237)\",\"ticklen\":6,\"ticks\":\"inside\"}},\"type\":\"scattergl\"}],\"scattermapbox\":[{\"marker\":{\"colorbar\":{\"outlinewidth\":0,\"tickcolor\":\"rgb(237,237,237)\",\"ticklen\":6,\"ticks\":\"inside\"}},\"type\":\"scattermapbox\"}],\"scatterpolargl\":[{\"marker\":{\"colorbar\":{\"outlinewidth\":0,\"tickcolor\":\"rgb(237,237,237)\",\"ticklen\":6,\"ticks\":\"inside\"}},\"type\":\"scatterpolargl\"}],\"scatterpolar\":[{\"marker\":{\"colorbar\":{\"outlinewidth\":0,\"tickcolor\":\"rgb(237,237,237)\",\"ticklen\":6,\"ticks\":\"inside\"}},\"type\":\"scatterpolar\"}],\"scatter\":[{\"marker\":{\"colorbar\":{\"outlinewidth\":0,\"tickcolor\":\"rgb(237,237,237)\",\"ticklen\":6,\"ticks\":\"inside\"}},\"type\":\"scatter\"}],\"scatterternary\":[{\"marker\":{\"colorbar\":{\"outlinewidth\":0,\"tickcolor\":\"rgb(237,237,237)\",\"ticklen\":6,\"ticks\":\"inside\"}},\"type\":\"scatterternary\"}],\"surface\":[{\"colorbar\":{\"outlinewidth\":0,\"tickcolor\":\"rgb(237,237,237)\",\"ticklen\":6,\"ticks\":\"inside\"},\"colorscale\":[[0,\"rgb(20,44,66)\"],[1,\"rgb(90,179,244)\"]],\"type\":\"surface\"}],\"table\":[{\"cells\":{\"fill\":{\"color\":\"rgb(237,237,237)\"},\"line\":{\"color\":\"white\"}},\"header\":{\"fill\":{\"color\":\"rgb(217,217,217)\"},\"line\":{\"color\":\"white\"}},\"type\":\"table\"}]},\"layout\":{\"annotationdefaults\":{\"arrowhead\":0,\"arrowwidth\":1},\"autotypenumbers\":\"strict\",\"coloraxis\":{\"colorbar\":{\"outlinewidth\":0,\"tickcolor\":\"rgb(237,237,237)\",\"ticklen\":6,\"ticks\":\"inside\"}},\"colorscale\":{\"sequential\":[[0,\"rgb(20,44,66)\"],[1,\"rgb(90,179,244)\"]],\"sequentialminus\":[[0,\"rgb(20,44,66)\"],[1,\"rgb(90,179,244)\"]]},\"colorway\":[\"#F8766D\",\"#A3A500\",\"#00BF7D\",\"#00B0F6\",\"#E76BF3\"],\"font\":{\"color\":\"rgb(51,51,51)\"},\"geo\":{\"bgcolor\":\"white\",\"lakecolor\":\"white\",\"landcolor\":\"rgb(237,237,237)\",\"showlakes\":true,\"showland\":true,\"subunitcolor\":\"white\"},\"hoverlabel\":{\"align\":\"left\"},\"hovermode\":\"closest\",\"paper_bgcolor\":\"white\",\"plot_bgcolor\":\"rgb(237,237,237)\",\"polar\":{\"angularaxis\":{\"gridcolor\":\"white\",\"linecolor\":\"white\",\"showgrid\":true,\"tickcolor\":\"rgb(51,51,51)\",\"ticks\":\"outside\"},\"bgcolor\":\"rgb(237,237,237)\",\"radialaxis\":{\"gridcolor\":\"white\",\"linecolor\":\"white\",\"showgrid\":true,\"tickcolor\":\"rgb(51,51,51)\",\"ticks\":\"outside\"}},\"scene\":{\"xaxis\":{\"backgroundcolor\":\"rgb(237,237,237)\",\"gridcolor\":\"white\",\"gridwidth\":2,\"linecolor\":\"white\",\"showbackground\":true,\"showgrid\":true,\"tickcolor\":\"rgb(51,51,51)\",\"ticks\":\"outside\",\"zerolinecolor\":\"white\"},\"yaxis\":{\"backgroundcolor\":\"rgb(237,237,237)\",\"gridcolor\":\"white\",\"gridwidth\":2,\"linecolor\":\"white\",\"showbackground\":true,\"showgrid\":true,\"tickcolor\":\"rgb(51,51,51)\",\"ticks\":\"outside\",\"zerolinecolor\":\"white\"},\"zaxis\":{\"backgroundcolor\":\"rgb(237,237,237)\",\"gridcolor\":\"white\",\"gridwidth\":2,\"linecolor\":\"white\",\"showbackground\":true,\"showgrid\":true,\"tickcolor\":\"rgb(51,51,51)\",\"ticks\":\"outside\",\"zerolinecolor\":\"white\"}},\"shapedefaults\":{\"fillcolor\":\"black\",\"line\":{\"width\":0},\"opacity\":0.3},\"ternary\":{\"aaxis\":{\"gridcolor\":\"white\",\"linecolor\":\"white\",\"showgrid\":true,\"tickcolor\":\"rgb(51,51,51)\",\"ticks\":\"outside\"},\"baxis\":{\"gridcolor\":\"white\",\"linecolor\":\"white\",\"showgrid\":true,\"tickcolor\":\"rgb(51,51,51)\",\"ticks\":\"outside\"},\"bgcolor\":\"rgb(237,237,237)\",\"caxis\":{\"gridcolor\":\"white\",\"linecolor\":\"white\",\"showgrid\":true,\"tickcolor\":\"rgb(51,51,51)\",\"ticks\":\"outside\"}},\"xaxis\":{\"automargin\":true,\"gridcolor\":\"white\",\"linecolor\":\"white\",\"showgrid\":true,\"tickcolor\":\"rgb(51,51,51)\",\"ticks\":\"outside\",\"title\":{\"standoff\":15},\"zerolinecolor\":\"white\"},\"yaxis\":{\"automargin\":true,\"gridcolor\":\"white\",\"linecolor\":\"white\",\"showgrid\":true,\"tickcolor\":\"rgb(51,51,51)\",\"ticks\":\"outside\",\"title\":{\"standoff\":15},\"zerolinecolor\":\"white\"}}},\"showlegend\":true},                        {\"responsive\": true}                    ).then(function(){\n",
              "                            \n",
              "var gd = document.getElementById('4ac5c31b-519c-4644-b936-2727f063acb0');\n",
              "var x = new MutationObserver(function (mutations, observer) {{\n",
              "        var display = window.getComputedStyle(gd).display;\n",
              "        if (!display || display === 'none') {{\n",
              "            console.log([gd, 'removed!']);\n",
              "            Plotly.purge(gd);\n",
              "            observer.disconnect();\n",
              "        }}\n",
              "}});\n",
              "\n",
              "// Listen for the removal of the full notebook cells\n",
              "var notebookContainer = gd.closest('#notebook-container');\n",
              "if (notebookContainer) {{\n",
              "    x.observe(notebookContainer, {childList: true});\n",
              "}}\n",
              "\n",
              "// Listen for the clearing of the current output cell\n",
              "var outputEl = gd.closest('.output');\n",
              "if (outputEl) {{\n",
              "    x.observe(outputEl, {childList: true});\n",
              "}}\n",
              "\n",
              "                        })                };                            </script>        </div>\n",
              "</body>\n",
              "</html>"
            ]
          },
          "metadata": {}
        }
      ]
    },
    {
      "cell_type": "code",
      "source": [
        "# forecast in unknown future\n",
        "exp_ny.plot_model(best, plot = 'forecast', data_kwargs = {'fh' : 30})"
      ],
      "metadata": {
        "colab": {
          "base_uri": "https://localhost:8080/",
          "height": 542
        },
        "id": "oBDQxeMb3PyF",
        "outputId": "01def09f-f3e3-470d-ecc1-ff4453430836"
      },
      "execution_count": 42,
      "outputs": [
        {
          "output_type": "display_data",
          "data": {
            "text/html": [
              "<html>\n",
              "<head><meta charset=\"utf-8\" /></head>\n",
              "<body>\n",
              "    <div>            <script src=\"https://cdnjs.cloudflare.com/ajax/libs/mathjax/2.7.5/MathJax.js?config=TeX-AMS-MML_SVG\"></script><script type=\"text/javascript\">if (window.MathJax) {MathJax.Hub.Config({SVG: {font: \"STIX-Web\"}});}</script>                <script type=\"text/javascript\">window.PlotlyConfig = {MathJaxConfig: 'local'};</script>\n",
              "        <script src=\"https://cdn.plot.ly/plotly-2.6.3.min.js\"></script>                <div id=\"2eea4c17-a82a-42cf-8842-5618e65ca559\" class=\"plotly-graph-div\" style=\"height:525px; width:100%;\"></div>            <script type=\"text/javascript\">                                    window.PLOTLYENV=window.PLOTLYENV || {};                                    if (document.getElementById(\"2eea4c17-a82a-42cf-8842-5618e65ca559\")) {                    Plotly.newPlot(                        \"2eea4c17-a82a-42cf-8842-5618e65ca559\",                        [{\"line\":{\"color\":\"#1f77b4\"},\"marker\":{\"size\":5},\"mode\":\"lines+markers\",\"name\":\"Forecast | Exponential Smoothing\",\"showlegend\":true,\"x\":[\"2017-02-01T00:00:00\",\"2017-03-01T00:00:00\",\"2017-04-01T00:00:00\",\"2017-05-01T00:00:00\",\"2017-06-01T00:00:00\",\"2017-07-01T00:00:00\",\"2017-08-01T00:00:00\",\"2017-09-01T00:00:00\",\"2017-10-01T00:00:00\",\"2017-11-01T00:00:00\",\"2017-12-01T00:00:00\",\"2018-01-01T00:00:00\",\"2018-02-01T00:00:00\",\"2018-03-01T00:00:00\",\"2018-04-01T00:00:00\",\"2018-05-01T00:00:00\",\"2018-06-01T00:00:00\",\"2018-07-01T00:00:00\",\"2018-08-01T00:00:00\",\"2018-09-01T00:00:00\",\"2018-10-01T00:00:00\",\"2018-11-01T00:00:00\",\"2018-12-01T00:00:00\",\"2019-01-01T00:00:00\",\"2019-02-01T00:00:00\",\"2019-03-01T00:00:00\",\"2019-04-01T00:00:00\",\"2019-05-01T00:00:00\",\"2019-06-01T00:00:00\",\"2019-07-01T00:00:00\"],\"y\":[5872.9916,5565.4693,5309.4879,5640.8676,6588.4435,7706.7583,7343.4527,6495.9973,5443.7124,5402.8291,5637.7458,5864.8982,5907.8201,5598.4578,5340.9435,5674.2699,6627.4377,7752.3488,7386.8726,6534.3875,5475.868,5434.7275,5671.0148,5899.4906,5942.6485,5631.4462,5372.3991,5707.6723,6666.4318,7797.9393],\"type\":\"scatter\"},{\"marker\":{\"color\":\"#3f3f3f\",\"size\":5},\"mode\":\"lines+markers\",\"name\":\"Original\",\"showlegend\":true,\"x\":[\"2012-01-01T00:00:00\",\"2012-02-01T00:00:00\",\"2012-03-01T00:00:00\",\"2012-04-01T00:00:00\",\"2012-05-01T00:00:00\",\"2012-06-01T00:00:00\",\"2012-07-01T00:00:00\",\"2012-08-01T00:00:00\",\"2012-09-01T00:00:00\",\"2012-10-01T00:00:00\",\"2012-11-01T00:00:00\",\"2012-12-01T00:00:00\",\"2013-01-01T00:00:00\",\"2013-02-01T00:00:00\",\"2013-03-01T00:00:00\",\"2013-04-01T00:00:00\",\"2013-05-01T00:00:00\",\"2013-06-01T00:00:00\",\"2013-07-01T00:00:00\",\"2013-08-01T00:00:00\",\"2013-09-01T00:00:00\",\"2013-10-01T00:00:00\",\"2013-11-01T00:00:00\",\"2013-12-01T00:00:00\",\"2014-01-01T00:00:00\",\"2014-02-01T00:00:00\",\"2014-03-01T00:00:00\",\"2014-04-01T00:00:00\",\"2014-05-01T00:00:00\",\"2014-06-01T00:00:00\",\"2014-07-01T00:00:00\",\"2014-08-01T00:00:00\",\"2014-09-01T00:00:00\",\"2014-10-01T00:00:00\",\"2014-11-01T00:00:00\",\"2014-12-01T00:00:00\",\"2015-01-01T00:00:00\",\"2015-02-01T00:00:00\",\"2015-03-01T00:00:00\",\"2015-04-01T00:00:00\",\"2015-05-01T00:00:00\",\"2015-06-01T00:00:00\",\"2015-07-01T00:00:00\",\"2015-08-01T00:00:00\",\"2015-09-01T00:00:00\",\"2015-10-01T00:00:00\",\"2015-11-01T00:00:00\",\"2015-12-01T00:00:00\",\"2016-01-01T00:00:00\",\"2016-02-01T00:00:00\",\"2016-03-01T00:00:00\",\"2016-04-01T00:00:00\",\"2016-05-01T00:00:00\",\"2016-06-01T00:00:00\",\"2016-07-01T00:00:00\",\"2016-08-01T00:00:00\",\"2016-09-01T00:00:00\",\"2016-10-01T00:00:00\",\"2016-11-01T00:00:00\",\"2016-12-01T00:00:00\",\"2017-01-01T00:00:00\",\"2017-02-01T00:00:00\",\"2017-03-01T00:00:00\",\"2017-04-01T00:00:00\",\"2017-05-01T00:00:00\",\"2017-06-01T00:00:00\",\"2017-07-01T00:00:00\",\"2017-08-01T00:00:00\"],\"y\":[5757.495833333329,5622.331609195395,5479.8454912516845,5368.945833333332,5867.896102150537,6634.310277777774,7917.395295698933,7622.954704301079,6412.603472222217,5418.996370967746,5337.659861111115,5581.561424731177,5786.083736559137,5851.953273809524,5601.792328398383,5363.968055555549,5607.0258064516165,6748.064861111119,8118.8922043010725,6872.71989247312,6152.224305555546,5606.910215053763,5515.0995833333345,5772.254838709673,6093.072849462364,5925.564136904762,5699.518707940782,5312.782361111114,5454.653897849461,6510.875416666669,7203.60698924732,6750.527688172048,6378.545694444455,5448.665322580643,5477.985555555556,5686.5802419354895,5976.82984811828,6239.095264880954,5720.79299730458,5251.143144444442,5712.8579892473135,6482.128290277783,7466.376149193547,7458.210470430115,6832.174806944438,5347.145436657684,5332.59848194444,5445.284844086018,5773.984214864866,5782.288425287358,5387.212437415879,5287.94848261474,5563.631038978499,6547.856534458518,7731.891469086024,7962.950690444148,6693.131075000001,5427.31438627187,5371.1899444444425,5720.892685483872,5738.234349932702,5611.792171385994,5660.977831763126,5232.217107391911,5421.315935222667,6597.9903458333365,7309.246676985201,6971.501247747749],\"type\":\"scatter\"}],                        {\"title\":{\"text\":\"Actual vs. 'Out-of-Sample' Forecast | Total\"},\"xaxis\":{\"title\":{\"text\":\"Time\"}},\"yaxis\":{\"title\":{\"text\":\"Values\"}},\"template\":{\"data\":{\"barpolar\":[{\"marker\":{\"line\":{\"color\":\"rgb(237,237,237)\",\"width\":0.5},\"pattern\":{\"fillmode\":\"overlay\",\"size\":10,\"solidity\":0.2}},\"type\":\"barpolar\"}],\"bar\":[{\"error_x\":{\"color\":\"rgb(51,51,51)\"},\"error_y\":{\"color\":\"rgb(51,51,51)\"},\"marker\":{\"line\":{\"color\":\"rgb(237,237,237)\",\"width\":0.5},\"pattern\":{\"fillmode\":\"overlay\",\"size\":10,\"solidity\":0.2}},\"type\":\"bar\"}],\"carpet\":[{\"aaxis\":{\"endlinecolor\":\"rgb(51,51,51)\",\"gridcolor\":\"white\",\"linecolor\":\"white\",\"minorgridcolor\":\"white\",\"startlinecolor\":\"rgb(51,51,51)\"},\"baxis\":{\"endlinecolor\":\"rgb(51,51,51)\",\"gridcolor\":\"white\",\"linecolor\":\"white\",\"minorgridcolor\":\"white\",\"startlinecolor\":\"rgb(51,51,51)\"},\"type\":\"carpet\"}],\"choropleth\":[{\"colorbar\":{\"outlinewidth\":0,\"tickcolor\":\"rgb(237,237,237)\",\"ticklen\":6,\"ticks\":\"inside\"},\"type\":\"choropleth\"}],\"contourcarpet\":[{\"colorbar\":{\"outlinewidth\":0,\"tickcolor\":\"rgb(237,237,237)\",\"ticklen\":6,\"ticks\":\"inside\"},\"type\":\"contourcarpet\"}],\"contour\":[{\"colorbar\":{\"outlinewidth\":0,\"tickcolor\":\"rgb(237,237,237)\",\"ticklen\":6,\"ticks\":\"inside\"},\"colorscale\":[[0,\"rgb(20,44,66)\"],[1,\"rgb(90,179,244)\"]],\"type\":\"contour\"}],\"heatmapgl\":[{\"colorbar\":{\"outlinewidth\":0,\"tickcolor\":\"rgb(237,237,237)\",\"ticklen\":6,\"ticks\":\"inside\"},\"colorscale\":[[0,\"rgb(20,44,66)\"],[1,\"rgb(90,179,244)\"]],\"type\":\"heatmapgl\"}],\"heatmap\":[{\"colorbar\":{\"outlinewidth\":0,\"tickcolor\":\"rgb(237,237,237)\",\"ticklen\":6,\"ticks\":\"inside\"},\"colorscale\":[[0,\"rgb(20,44,66)\"],[1,\"rgb(90,179,244)\"]],\"type\":\"heatmap\"}],\"histogram2dcontour\":[{\"colorbar\":{\"outlinewidth\":0,\"tickcolor\":\"rgb(237,237,237)\",\"ticklen\":6,\"ticks\":\"inside\"},\"colorscale\":[[0,\"rgb(20,44,66)\"],[1,\"rgb(90,179,244)\"]],\"type\":\"histogram2dcontour\"}],\"histogram2d\":[{\"colorbar\":{\"outlinewidth\":0,\"tickcolor\":\"rgb(237,237,237)\",\"ticklen\":6,\"ticks\":\"inside\"},\"colorscale\":[[0,\"rgb(20,44,66)\"],[1,\"rgb(90,179,244)\"]],\"type\":\"histogram2d\"}],\"histogram\":[{\"marker\":{\"pattern\":{\"fillmode\":\"overlay\",\"size\":10,\"solidity\":0.2}},\"type\":\"histogram\"}],\"mesh3d\":[{\"colorbar\":{\"outlinewidth\":0,\"tickcolor\":\"rgb(237,237,237)\",\"ticklen\":6,\"ticks\":\"inside\"},\"type\":\"mesh3d\"}],\"parcoords\":[{\"line\":{\"colorbar\":{\"outlinewidth\":0,\"tickcolor\":\"rgb(237,237,237)\",\"ticklen\":6,\"ticks\":\"inside\"}},\"type\":\"parcoords\"}],\"pie\":[{\"automargin\":true,\"type\":\"pie\"}],\"scatter3d\":[{\"line\":{\"colorbar\":{\"outlinewidth\":0,\"tickcolor\":\"rgb(237,237,237)\",\"ticklen\":6,\"ticks\":\"inside\"}},\"marker\":{\"colorbar\":{\"outlinewidth\":0,\"tickcolor\":\"rgb(237,237,237)\",\"ticklen\":6,\"ticks\":\"inside\"}},\"type\":\"scatter3d\"}],\"scattercarpet\":[{\"marker\":{\"colorbar\":{\"outlinewidth\":0,\"tickcolor\":\"rgb(237,237,237)\",\"ticklen\":6,\"ticks\":\"inside\"}},\"type\":\"scattercarpet\"}],\"scattergeo\":[{\"marker\":{\"colorbar\":{\"outlinewidth\":0,\"tickcolor\":\"rgb(237,237,237)\",\"ticklen\":6,\"ticks\":\"inside\"}},\"type\":\"scattergeo\"}],\"scattergl\":[{\"marker\":{\"colorbar\":{\"outlinewidth\":0,\"tickcolor\":\"rgb(237,237,237)\",\"ticklen\":6,\"ticks\":\"inside\"}},\"type\":\"scattergl\"}],\"scattermapbox\":[{\"marker\":{\"colorbar\":{\"outlinewidth\":0,\"tickcolor\":\"rgb(237,237,237)\",\"ticklen\":6,\"ticks\":\"inside\"}},\"type\":\"scattermapbox\"}],\"scatterpolargl\":[{\"marker\":{\"colorbar\":{\"outlinewidth\":0,\"tickcolor\":\"rgb(237,237,237)\",\"ticklen\":6,\"ticks\":\"inside\"}},\"type\":\"scatterpolargl\"}],\"scatterpolar\":[{\"marker\":{\"colorbar\":{\"outlinewidth\":0,\"tickcolor\":\"rgb(237,237,237)\",\"ticklen\":6,\"ticks\":\"inside\"}},\"type\":\"scatterpolar\"}],\"scatter\":[{\"marker\":{\"colorbar\":{\"outlinewidth\":0,\"tickcolor\":\"rgb(237,237,237)\",\"ticklen\":6,\"ticks\":\"inside\"}},\"type\":\"scatter\"}],\"scatterternary\":[{\"marker\":{\"colorbar\":{\"outlinewidth\":0,\"tickcolor\":\"rgb(237,237,237)\",\"ticklen\":6,\"ticks\":\"inside\"}},\"type\":\"scatterternary\"}],\"surface\":[{\"colorbar\":{\"outlinewidth\":0,\"tickcolor\":\"rgb(237,237,237)\",\"ticklen\":6,\"ticks\":\"inside\"},\"colorscale\":[[0,\"rgb(20,44,66)\"],[1,\"rgb(90,179,244)\"]],\"type\":\"surface\"}],\"table\":[{\"cells\":{\"fill\":{\"color\":\"rgb(237,237,237)\"},\"line\":{\"color\":\"white\"}},\"header\":{\"fill\":{\"color\":\"rgb(217,217,217)\"},\"line\":{\"color\":\"white\"}},\"type\":\"table\"}]},\"layout\":{\"annotationdefaults\":{\"arrowhead\":0,\"arrowwidth\":1},\"autotypenumbers\":\"strict\",\"coloraxis\":{\"colorbar\":{\"outlinewidth\":0,\"tickcolor\":\"rgb(237,237,237)\",\"ticklen\":6,\"ticks\":\"inside\"}},\"colorscale\":{\"sequential\":[[0,\"rgb(20,44,66)\"],[1,\"rgb(90,179,244)\"]],\"sequentialminus\":[[0,\"rgb(20,44,66)\"],[1,\"rgb(90,179,244)\"]]},\"colorway\":[\"#F8766D\",\"#A3A500\",\"#00BF7D\",\"#00B0F6\",\"#E76BF3\"],\"font\":{\"color\":\"rgb(51,51,51)\"},\"geo\":{\"bgcolor\":\"white\",\"lakecolor\":\"white\",\"landcolor\":\"rgb(237,237,237)\",\"showlakes\":true,\"showland\":true,\"subunitcolor\":\"white\"},\"hoverlabel\":{\"align\":\"left\"},\"hovermode\":\"closest\",\"paper_bgcolor\":\"white\",\"plot_bgcolor\":\"rgb(237,237,237)\",\"polar\":{\"angularaxis\":{\"gridcolor\":\"white\",\"linecolor\":\"white\",\"showgrid\":true,\"tickcolor\":\"rgb(51,51,51)\",\"ticks\":\"outside\"},\"bgcolor\":\"rgb(237,237,237)\",\"radialaxis\":{\"gridcolor\":\"white\",\"linecolor\":\"white\",\"showgrid\":true,\"tickcolor\":\"rgb(51,51,51)\",\"ticks\":\"outside\"}},\"scene\":{\"xaxis\":{\"backgroundcolor\":\"rgb(237,237,237)\",\"gridcolor\":\"white\",\"gridwidth\":2,\"linecolor\":\"white\",\"showbackground\":true,\"showgrid\":true,\"tickcolor\":\"rgb(51,51,51)\",\"ticks\":\"outside\",\"zerolinecolor\":\"white\"},\"yaxis\":{\"backgroundcolor\":\"rgb(237,237,237)\",\"gridcolor\":\"white\",\"gridwidth\":2,\"linecolor\":\"white\",\"showbackground\":true,\"showgrid\":true,\"tickcolor\":\"rgb(51,51,51)\",\"ticks\":\"outside\",\"zerolinecolor\":\"white\"},\"zaxis\":{\"backgroundcolor\":\"rgb(237,237,237)\",\"gridcolor\":\"white\",\"gridwidth\":2,\"linecolor\":\"white\",\"showbackground\":true,\"showgrid\":true,\"tickcolor\":\"rgb(51,51,51)\",\"ticks\":\"outside\",\"zerolinecolor\":\"white\"}},\"shapedefaults\":{\"fillcolor\":\"black\",\"line\":{\"width\":0},\"opacity\":0.3},\"ternary\":{\"aaxis\":{\"gridcolor\":\"white\",\"linecolor\":\"white\",\"showgrid\":true,\"tickcolor\":\"rgb(51,51,51)\",\"ticks\":\"outside\"},\"baxis\":{\"gridcolor\":\"white\",\"linecolor\":\"white\",\"showgrid\":true,\"tickcolor\":\"rgb(51,51,51)\",\"ticks\":\"outside\"},\"bgcolor\":\"rgb(237,237,237)\",\"caxis\":{\"gridcolor\":\"white\",\"linecolor\":\"white\",\"showgrid\":true,\"tickcolor\":\"rgb(51,51,51)\",\"ticks\":\"outside\"}},\"xaxis\":{\"automargin\":true,\"gridcolor\":\"white\",\"linecolor\":\"white\",\"showgrid\":true,\"tickcolor\":\"rgb(51,51,51)\",\"ticks\":\"outside\",\"title\":{\"standoff\":15},\"zerolinecolor\":\"white\"},\"yaxis\":{\"automargin\":true,\"gridcolor\":\"white\",\"linecolor\":\"white\",\"showgrid\":true,\"tickcolor\":\"rgb(51,51,51)\",\"ticks\":\"outside\",\"title\":{\"standoff\":15},\"zerolinecolor\":\"white\"}}},\"showlegend\":true},                        {\"responsive\": true}                    ).then(function(){\n",
              "                            \n",
              "var gd = document.getElementById('2eea4c17-a82a-42cf-8842-5618e65ca559');\n",
              "var x = new MutationObserver(function (mutations, observer) {{\n",
              "        var display = window.getComputedStyle(gd).display;\n",
              "        if (!display || display === 'none') {{\n",
              "            console.log([gd, 'removed!']);\n",
              "            Plotly.purge(gd);\n",
              "            observer.disconnect();\n",
              "        }}\n",
              "}});\n",
              "\n",
              "// Listen for the removal of the full notebook cells\n",
              "var notebookContainer = gd.closest('#notebook-container');\n",
              "if (notebookContainer) {{\n",
              "    x.observe(notebookContainer, {childList: true});\n",
              "}}\n",
              "\n",
              "// Listen for the clearing of the current output cell\n",
              "var outputEl = gd.closest('.output');\n",
              "if (outputEl) {{\n",
              "    x.observe(outputEl, {childList: true});\n",
              "}}\n",
              "\n",
              "                        })                };                            </script>        </div>\n",
              "</body>\n",
              "</html>"
            ]
          },
          "metadata": {}
        }
      ]
    },
    {
      "cell_type": "code",
      "source": [
        "# in-sample plot\n",
        "exp_ny.plot_model(best, plot = 'insample')"
      ],
      "metadata": {
        "colab": {
          "base_uri": "https://localhost:8080/",
          "height": 542
        },
        "id": "QzJhIN08-9i4",
        "outputId": "971d827d-01aa-42aa-d038-7d5b40b067df"
      },
      "execution_count": 43,
      "outputs": [
        {
          "output_type": "display_data",
          "data": {
            "text/html": [
              "<html>\n",
              "<head><meta charset=\"utf-8\" /></head>\n",
              "<body>\n",
              "    <div>            <script src=\"https://cdnjs.cloudflare.com/ajax/libs/mathjax/2.7.5/MathJax.js?config=TeX-AMS-MML_SVG\"></script><script type=\"text/javascript\">if (window.MathJax) {MathJax.Hub.Config({SVG: {font: \"STIX-Web\"}});}</script>                <script type=\"text/javascript\">window.PlotlyConfig = {MathJaxConfig: 'local'};</script>\n",
              "        <script src=\"https://cdn.plot.ly/plotly-2.6.3.min.js\"></script>                <div id=\"91dd10ad-1133-445c-a1c4-5af518ace889\" class=\"plotly-graph-div\" style=\"height:525px; width:100%;\"></div>            <script type=\"text/javascript\">                                    window.PLOTLYENV=window.PLOTLYENV || {};                                    if (document.getElementById(\"91dd10ad-1133-445c-a1c4-5af518ace889\")) {                    Plotly.newPlot(                        \"91dd10ad-1133-445c-a1c4-5af518ace889\",                        [{\"line\":{\"color\":\"#1f77b4\"},\"marker\":{\"size\":5},\"mode\":\"lines+markers\",\"name\":\"Forecast | Exponential Smoothing\",\"showlegend\":true,\"x\":[\"2012-01-01T00:00:00\",\"2012-02-01T00:00:00\",\"2012-03-01T00:00:00\",\"2012-04-01T00:00:00\",\"2012-05-01T00:00:00\",\"2012-06-01T00:00:00\",\"2012-07-01T00:00:00\",\"2012-08-01T00:00:00\",\"2012-09-01T00:00:00\",\"2012-10-01T00:00:00\",\"2012-11-01T00:00:00\",\"2012-12-01T00:00:00\",\"2013-01-01T00:00:00\",\"2013-02-01T00:00:00\",\"2013-03-01T00:00:00\",\"2013-04-01T00:00:00\",\"2013-05-01T00:00:00\",\"2013-06-01T00:00:00\",\"2013-07-01T00:00:00\",\"2013-08-01T00:00:00\",\"2013-09-01T00:00:00\",\"2013-10-01T00:00:00\",\"2013-11-01T00:00:00\",\"2013-12-01T00:00:00\",\"2014-01-01T00:00:00\",\"2014-02-01T00:00:00\",\"2014-03-01T00:00:00\",\"2014-04-01T00:00:00\",\"2014-05-01T00:00:00\",\"2014-06-01T00:00:00\",\"2014-07-01T00:00:00\",\"2014-08-01T00:00:00\",\"2014-09-01T00:00:00\",\"2014-10-01T00:00:00\",\"2014-11-01T00:00:00\",\"2014-12-01T00:00:00\",\"2015-01-01T00:00:00\",\"2015-02-01T00:00:00\",\"2015-03-01T00:00:00\",\"2015-04-01T00:00:00\",\"2015-05-01T00:00:00\",\"2015-06-01T00:00:00\",\"2015-07-01T00:00:00\",\"2015-08-01T00:00:00\",\"2015-09-01T00:00:00\",\"2015-10-01T00:00:00\",\"2015-11-01T00:00:00\",\"2015-12-01T00:00:00\",\"2016-01-01T00:00:00\",\"2016-02-01T00:00:00\",\"2016-03-01T00:00:00\",\"2016-04-01T00:00:00\",\"2016-05-01T00:00:00\",\"2016-06-01T00:00:00\",\"2016-07-01T00:00:00\",\"2016-08-01T00:00:00\",\"2016-09-01T00:00:00\",\"2016-10-01T00:00:00\",\"2016-11-01T00:00:00\",\"2016-12-01T00:00:00\",\"2017-01-01T00:00:00\"],\"y\":[5949.1761,5895.7867,5456.9745,5216.9911,5623.7032,6711.6087,7805.4074,7490.9961,6685.0796,5487.4812,5412.1509,5608.4644,5820.3955,5845.6854,5542.6171,5316.0601,5673.4233,6587.4976,7799.9891,7584.8151,6393.1544,5256.2243,5391.5753,5690.7377,5962.5695,6072.1938,5684.4424,5430.1842,5706.4363,6517.3568,7619.8827,7061.4815,6108.5755,5232.8303,5301.1482,5624.3364,5883.4553,5973.7244,5787.1866,5489.1283,5704.7032,6667.7769,7690.5046,7220.666,6492.9748,5583.9597,5423.9564,5611.9203,5751.0081,5804.7721,5490.1622,5188.3492,5565.3562,6499.2694,7631.0219,7319.5181,6760.6507,5637.0198,5490.1152,5666.4764,5923.2035],\"type\":\"scatter\"},{\"marker\":{\"color\":\"#3f3f3f\",\"size\":5},\"mode\":\"lines+markers\",\"name\":\"Original\",\"showlegend\":true,\"x\":[\"2012-01-01T00:00:00\",\"2012-02-01T00:00:00\",\"2012-03-01T00:00:00\",\"2012-04-01T00:00:00\",\"2012-05-01T00:00:00\",\"2012-06-01T00:00:00\",\"2012-07-01T00:00:00\",\"2012-08-01T00:00:00\",\"2012-09-01T00:00:00\",\"2012-10-01T00:00:00\",\"2012-11-01T00:00:00\",\"2012-12-01T00:00:00\",\"2013-01-01T00:00:00\",\"2013-02-01T00:00:00\",\"2013-03-01T00:00:00\",\"2013-04-01T00:00:00\",\"2013-05-01T00:00:00\",\"2013-06-01T00:00:00\",\"2013-07-01T00:00:00\",\"2013-08-01T00:00:00\",\"2013-09-01T00:00:00\",\"2013-10-01T00:00:00\",\"2013-11-01T00:00:00\",\"2013-12-01T00:00:00\",\"2014-01-01T00:00:00\",\"2014-02-01T00:00:00\",\"2014-03-01T00:00:00\",\"2014-04-01T00:00:00\",\"2014-05-01T00:00:00\",\"2014-06-01T00:00:00\",\"2014-07-01T00:00:00\",\"2014-08-01T00:00:00\",\"2014-09-01T00:00:00\",\"2014-10-01T00:00:00\",\"2014-11-01T00:00:00\",\"2014-12-01T00:00:00\",\"2015-01-01T00:00:00\",\"2015-02-01T00:00:00\",\"2015-03-01T00:00:00\",\"2015-04-01T00:00:00\",\"2015-05-01T00:00:00\",\"2015-06-01T00:00:00\",\"2015-07-01T00:00:00\",\"2015-08-01T00:00:00\",\"2015-09-01T00:00:00\",\"2015-10-01T00:00:00\",\"2015-11-01T00:00:00\",\"2015-12-01T00:00:00\",\"2016-01-01T00:00:00\",\"2016-02-01T00:00:00\",\"2016-03-01T00:00:00\",\"2016-04-01T00:00:00\",\"2016-05-01T00:00:00\",\"2016-06-01T00:00:00\",\"2016-07-01T00:00:00\",\"2016-08-01T00:00:00\",\"2016-09-01T00:00:00\",\"2016-10-01T00:00:00\",\"2016-11-01T00:00:00\",\"2016-12-01T00:00:00\",\"2017-01-01T00:00:00\",\"2017-02-01T00:00:00\",\"2017-03-01T00:00:00\",\"2017-04-01T00:00:00\",\"2017-05-01T00:00:00\",\"2017-06-01T00:00:00\",\"2017-07-01T00:00:00\",\"2017-08-01T00:00:00\"],\"y\":[5757.495833333329,5622.331609195395,5479.8454912516845,5368.945833333332,5867.896102150537,6634.310277777774,7917.395295698933,7622.954704301079,6412.603472222217,5418.996370967746,5337.659861111115,5581.561424731177,5786.083736559137,5851.953273809524,5601.792328398383,5363.968055555549,5607.0258064516165,6748.064861111119,8118.8922043010725,6872.71989247312,6152.224305555546,5606.910215053763,5515.0995833333345,5772.254838709673,6093.072849462364,5925.564136904762,5699.518707940782,5312.782361111114,5454.653897849461,6510.875416666669,7203.60698924732,6750.527688172048,6378.545694444455,5448.665322580643,5477.985555555556,5686.5802419354895,5976.82984811828,6239.095264880954,5720.79299730458,5251.143144444442,5712.8579892473135,6482.128290277783,7466.376149193547,7458.210470430115,6832.174806944438,5347.145436657684,5332.59848194444,5445.284844086018,5773.984214864866,5782.288425287358,5387.212437415879,5287.94848261474,5563.631038978499,6547.856534458518,7731.891469086024,7962.950690444148,6693.131075000001,5427.31438627187,5371.1899444444425,5720.892685483872,5738.234349932702,5611.792171385994,5660.977831763126,5232.217107391911,5421.315935222667,6597.9903458333365,7309.246676985201,6971.501247747749],\"type\":\"scatter\"}],                        {\"title\":{\"text\":\"Actual vs. 'In-Sample' Forecast | Total\"},\"xaxis\":{\"title\":{\"text\":\"Time\"}},\"yaxis\":{\"title\":{\"text\":\"Values\"}},\"template\":{\"data\":{\"barpolar\":[{\"marker\":{\"line\":{\"color\":\"rgb(237,237,237)\",\"width\":0.5},\"pattern\":{\"fillmode\":\"overlay\",\"size\":10,\"solidity\":0.2}},\"type\":\"barpolar\"}],\"bar\":[{\"error_x\":{\"color\":\"rgb(51,51,51)\"},\"error_y\":{\"color\":\"rgb(51,51,51)\"},\"marker\":{\"line\":{\"color\":\"rgb(237,237,237)\",\"width\":0.5},\"pattern\":{\"fillmode\":\"overlay\",\"size\":10,\"solidity\":0.2}},\"type\":\"bar\"}],\"carpet\":[{\"aaxis\":{\"endlinecolor\":\"rgb(51,51,51)\",\"gridcolor\":\"white\",\"linecolor\":\"white\",\"minorgridcolor\":\"white\",\"startlinecolor\":\"rgb(51,51,51)\"},\"baxis\":{\"endlinecolor\":\"rgb(51,51,51)\",\"gridcolor\":\"white\",\"linecolor\":\"white\",\"minorgridcolor\":\"white\",\"startlinecolor\":\"rgb(51,51,51)\"},\"type\":\"carpet\"}],\"choropleth\":[{\"colorbar\":{\"outlinewidth\":0,\"tickcolor\":\"rgb(237,237,237)\",\"ticklen\":6,\"ticks\":\"inside\"},\"type\":\"choropleth\"}],\"contourcarpet\":[{\"colorbar\":{\"outlinewidth\":0,\"tickcolor\":\"rgb(237,237,237)\",\"ticklen\":6,\"ticks\":\"inside\"},\"type\":\"contourcarpet\"}],\"contour\":[{\"colorbar\":{\"outlinewidth\":0,\"tickcolor\":\"rgb(237,237,237)\",\"ticklen\":6,\"ticks\":\"inside\"},\"colorscale\":[[0,\"rgb(20,44,66)\"],[1,\"rgb(90,179,244)\"]],\"type\":\"contour\"}],\"heatmapgl\":[{\"colorbar\":{\"outlinewidth\":0,\"tickcolor\":\"rgb(237,237,237)\",\"ticklen\":6,\"ticks\":\"inside\"},\"colorscale\":[[0,\"rgb(20,44,66)\"],[1,\"rgb(90,179,244)\"]],\"type\":\"heatmapgl\"}],\"heatmap\":[{\"colorbar\":{\"outlinewidth\":0,\"tickcolor\":\"rgb(237,237,237)\",\"ticklen\":6,\"ticks\":\"inside\"},\"colorscale\":[[0,\"rgb(20,44,66)\"],[1,\"rgb(90,179,244)\"]],\"type\":\"heatmap\"}],\"histogram2dcontour\":[{\"colorbar\":{\"outlinewidth\":0,\"tickcolor\":\"rgb(237,237,237)\",\"ticklen\":6,\"ticks\":\"inside\"},\"colorscale\":[[0,\"rgb(20,44,66)\"],[1,\"rgb(90,179,244)\"]],\"type\":\"histogram2dcontour\"}],\"histogram2d\":[{\"colorbar\":{\"outlinewidth\":0,\"tickcolor\":\"rgb(237,237,237)\",\"ticklen\":6,\"ticks\":\"inside\"},\"colorscale\":[[0,\"rgb(20,44,66)\"],[1,\"rgb(90,179,244)\"]],\"type\":\"histogram2d\"}],\"histogram\":[{\"marker\":{\"pattern\":{\"fillmode\":\"overlay\",\"size\":10,\"solidity\":0.2}},\"type\":\"histogram\"}],\"mesh3d\":[{\"colorbar\":{\"outlinewidth\":0,\"tickcolor\":\"rgb(237,237,237)\",\"ticklen\":6,\"ticks\":\"inside\"},\"type\":\"mesh3d\"}],\"parcoords\":[{\"line\":{\"colorbar\":{\"outlinewidth\":0,\"tickcolor\":\"rgb(237,237,237)\",\"ticklen\":6,\"ticks\":\"inside\"}},\"type\":\"parcoords\"}],\"pie\":[{\"automargin\":true,\"type\":\"pie\"}],\"scatter3d\":[{\"line\":{\"colorbar\":{\"outlinewidth\":0,\"tickcolor\":\"rgb(237,237,237)\",\"ticklen\":6,\"ticks\":\"inside\"}},\"marker\":{\"colorbar\":{\"outlinewidth\":0,\"tickcolor\":\"rgb(237,237,237)\",\"ticklen\":6,\"ticks\":\"inside\"}},\"type\":\"scatter3d\"}],\"scattercarpet\":[{\"marker\":{\"colorbar\":{\"outlinewidth\":0,\"tickcolor\":\"rgb(237,237,237)\",\"ticklen\":6,\"ticks\":\"inside\"}},\"type\":\"scattercarpet\"}],\"scattergeo\":[{\"marker\":{\"colorbar\":{\"outlinewidth\":0,\"tickcolor\":\"rgb(237,237,237)\",\"ticklen\":6,\"ticks\":\"inside\"}},\"type\":\"scattergeo\"}],\"scattergl\":[{\"marker\":{\"colorbar\":{\"outlinewidth\":0,\"tickcolor\":\"rgb(237,237,237)\",\"ticklen\":6,\"ticks\":\"inside\"}},\"type\":\"scattergl\"}],\"scattermapbox\":[{\"marker\":{\"colorbar\":{\"outlinewidth\":0,\"tickcolor\":\"rgb(237,237,237)\",\"ticklen\":6,\"ticks\":\"inside\"}},\"type\":\"scattermapbox\"}],\"scatterpolargl\":[{\"marker\":{\"colorbar\":{\"outlinewidth\":0,\"tickcolor\":\"rgb(237,237,237)\",\"ticklen\":6,\"ticks\":\"inside\"}},\"type\":\"scatterpolargl\"}],\"scatterpolar\":[{\"marker\":{\"colorbar\":{\"outlinewidth\":0,\"tickcolor\":\"rgb(237,237,237)\",\"ticklen\":6,\"ticks\":\"inside\"}},\"type\":\"scatterpolar\"}],\"scatter\":[{\"marker\":{\"colorbar\":{\"outlinewidth\":0,\"tickcolor\":\"rgb(237,237,237)\",\"ticklen\":6,\"ticks\":\"inside\"}},\"type\":\"scatter\"}],\"scatterternary\":[{\"marker\":{\"colorbar\":{\"outlinewidth\":0,\"tickcolor\":\"rgb(237,237,237)\",\"ticklen\":6,\"ticks\":\"inside\"}},\"type\":\"scatterternary\"}],\"surface\":[{\"colorbar\":{\"outlinewidth\":0,\"tickcolor\":\"rgb(237,237,237)\",\"ticklen\":6,\"ticks\":\"inside\"},\"colorscale\":[[0,\"rgb(20,44,66)\"],[1,\"rgb(90,179,244)\"]],\"type\":\"surface\"}],\"table\":[{\"cells\":{\"fill\":{\"color\":\"rgb(237,237,237)\"},\"line\":{\"color\":\"white\"}},\"header\":{\"fill\":{\"color\":\"rgb(217,217,217)\"},\"line\":{\"color\":\"white\"}},\"type\":\"table\"}]},\"layout\":{\"annotationdefaults\":{\"arrowhead\":0,\"arrowwidth\":1},\"autotypenumbers\":\"strict\",\"coloraxis\":{\"colorbar\":{\"outlinewidth\":0,\"tickcolor\":\"rgb(237,237,237)\",\"ticklen\":6,\"ticks\":\"inside\"}},\"colorscale\":{\"sequential\":[[0,\"rgb(20,44,66)\"],[1,\"rgb(90,179,244)\"]],\"sequentialminus\":[[0,\"rgb(20,44,66)\"],[1,\"rgb(90,179,244)\"]]},\"colorway\":[\"#F8766D\",\"#A3A500\",\"#00BF7D\",\"#00B0F6\",\"#E76BF3\"],\"font\":{\"color\":\"rgb(51,51,51)\"},\"geo\":{\"bgcolor\":\"white\",\"lakecolor\":\"white\",\"landcolor\":\"rgb(237,237,237)\",\"showlakes\":true,\"showland\":true,\"subunitcolor\":\"white\"},\"hoverlabel\":{\"align\":\"left\"},\"hovermode\":\"closest\",\"paper_bgcolor\":\"white\",\"plot_bgcolor\":\"rgb(237,237,237)\",\"polar\":{\"angularaxis\":{\"gridcolor\":\"white\",\"linecolor\":\"white\",\"showgrid\":true,\"tickcolor\":\"rgb(51,51,51)\",\"ticks\":\"outside\"},\"bgcolor\":\"rgb(237,237,237)\",\"radialaxis\":{\"gridcolor\":\"white\",\"linecolor\":\"white\",\"showgrid\":true,\"tickcolor\":\"rgb(51,51,51)\",\"ticks\":\"outside\"}},\"scene\":{\"xaxis\":{\"backgroundcolor\":\"rgb(237,237,237)\",\"gridcolor\":\"white\",\"gridwidth\":2,\"linecolor\":\"white\",\"showbackground\":true,\"showgrid\":true,\"tickcolor\":\"rgb(51,51,51)\",\"ticks\":\"outside\",\"zerolinecolor\":\"white\"},\"yaxis\":{\"backgroundcolor\":\"rgb(237,237,237)\",\"gridcolor\":\"white\",\"gridwidth\":2,\"linecolor\":\"white\",\"showbackground\":true,\"showgrid\":true,\"tickcolor\":\"rgb(51,51,51)\",\"ticks\":\"outside\",\"zerolinecolor\":\"white\"},\"zaxis\":{\"backgroundcolor\":\"rgb(237,237,237)\",\"gridcolor\":\"white\",\"gridwidth\":2,\"linecolor\":\"white\",\"showbackground\":true,\"showgrid\":true,\"tickcolor\":\"rgb(51,51,51)\",\"ticks\":\"outside\",\"zerolinecolor\":\"white\"}},\"shapedefaults\":{\"fillcolor\":\"black\",\"line\":{\"width\":0},\"opacity\":0.3},\"ternary\":{\"aaxis\":{\"gridcolor\":\"white\",\"linecolor\":\"white\",\"showgrid\":true,\"tickcolor\":\"rgb(51,51,51)\",\"ticks\":\"outside\"},\"baxis\":{\"gridcolor\":\"white\",\"linecolor\":\"white\",\"showgrid\":true,\"tickcolor\":\"rgb(51,51,51)\",\"ticks\":\"outside\"},\"bgcolor\":\"rgb(237,237,237)\",\"caxis\":{\"gridcolor\":\"white\",\"linecolor\":\"white\",\"showgrid\":true,\"tickcolor\":\"rgb(51,51,51)\",\"ticks\":\"outside\"}},\"xaxis\":{\"automargin\":true,\"gridcolor\":\"white\",\"linecolor\":\"white\",\"showgrid\":true,\"tickcolor\":\"rgb(51,51,51)\",\"ticks\":\"outside\",\"title\":{\"standoff\":15},\"zerolinecolor\":\"white\"},\"yaxis\":{\"automargin\":true,\"gridcolor\":\"white\",\"linecolor\":\"white\",\"showgrid\":true,\"tickcolor\":\"rgb(51,51,51)\",\"ticks\":\"outside\",\"title\":{\"standoff\":15},\"zerolinecolor\":\"white\"}}},\"showlegend\":true},                        {\"responsive\": true}                    ).then(function(){\n",
              "                            \n",
              "var gd = document.getElementById('91dd10ad-1133-445c-a1c4-5af518ace889');\n",
              "var x = new MutationObserver(function (mutations, observer) {{\n",
              "        var display = window.getComputedStyle(gd).display;\n",
              "        if (!display || display === 'none') {{\n",
              "            console.log([gd, 'removed!']);\n",
              "            Plotly.purge(gd);\n",
              "            observer.disconnect();\n",
              "        }}\n",
              "}});\n",
              "\n",
              "// Listen for the removal of the full notebook cells\n",
              "var notebookContainer = gd.closest('#notebook-container');\n",
              "if (notebookContainer) {{\n",
              "    x.observe(notebookContainer, {childList: true});\n",
              "}}\n",
              "\n",
              "// Listen for the clearing of the current output cell\n",
              "var outputEl = gd.closest('.output');\n",
              "if (outputEl) {{\n",
              "    x.observe(outputEl, {childList: true});\n",
              "}}\n",
              "\n",
              "                        })                };                            </script>        </div>\n",
              "</body>\n",
              "</html>"
            ]
          },
          "metadata": {}
        }
      ]
    },
    {
      "cell_type": "code",
      "source": [
        "# residuals plot\n",
        "exp_ny.plot_model(best, plot = 'residuals')"
      ],
      "metadata": {
        "colab": {
          "base_uri": "https://localhost:8080/",
          "height": 542
        },
        "id": "W8jdobuFAbeA",
        "outputId": "6e403a95-5fc1-4c3c-cf6e-9a27fd263034"
      },
      "execution_count": 44,
      "outputs": [
        {
          "output_type": "display_data",
          "data": {
            "text/html": [
              "<html>\n",
              "<head><meta charset=\"utf-8\" /></head>\n",
              "<body>\n",
              "    <div>            <script src=\"https://cdnjs.cloudflare.com/ajax/libs/mathjax/2.7.5/MathJax.js?config=TeX-AMS-MML_SVG\"></script><script type=\"text/javascript\">if (window.MathJax) {MathJax.Hub.Config({SVG: {font: \"STIX-Web\"}});}</script>                <script type=\"text/javascript\">window.PlotlyConfig = {MathJaxConfig: 'local'};</script>\n",
              "        <script src=\"https://cdn.plot.ly/plotly-2.6.3.min.js\"></script>                <div id=\"6ecddedc-528b-4fab-b4f5-48d5a1b7d09b\" class=\"plotly-graph-div\" style=\"height:525px; width:100%;\"></div>            <script type=\"text/javascript\">                                    window.PLOTLYENV=window.PLOTLYENV || {};                                    if (document.getElementById(\"6ecddedc-528b-4fab-b4f5-48d5a1b7d09b\")) {                    Plotly.newPlot(                        \"6ecddedc-528b-4fab-b4f5-48d5a1b7d09b\",                        [{\"marker\":{\"color\":\"#3f3f3f\",\"size\":5},\"mode\":\"lines+markers\",\"name\":\"Residuals | Exponential Smoothing\",\"showlegend\":true,\"x\":[\"2012-01-01T00:00:00\",\"2012-02-01T00:00:00\",\"2012-03-01T00:00:00\",\"2012-04-01T00:00:00\",\"2012-05-01T00:00:00\",\"2012-06-01T00:00:00\",\"2012-07-01T00:00:00\",\"2012-08-01T00:00:00\",\"2012-09-01T00:00:00\",\"2012-10-01T00:00:00\",\"2012-11-01T00:00:00\",\"2012-12-01T00:00:00\",\"2013-01-01T00:00:00\",\"2013-02-01T00:00:00\",\"2013-03-01T00:00:00\",\"2013-04-01T00:00:00\",\"2013-05-01T00:00:00\",\"2013-06-01T00:00:00\",\"2013-07-01T00:00:00\",\"2013-08-01T00:00:00\",\"2013-09-01T00:00:00\",\"2013-10-01T00:00:00\",\"2013-11-01T00:00:00\",\"2013-12-01T00:00:00\",\"2014-01-01T00:00:00\",\"2014-02-01T00:00:00\",\"2014-03-01T00:00:00\",\"2014-04-01T00:00:00\",\"2014-05-01T00:00:00\",\"2014-06-01T00:00:00\",\"2014-07-01T00:00:00\",\"2014-08-01T00:00:00\",\"2014-09-01T00:00:00\",\"2014-10-01T00:00:00\",\"2014-11-01T00:00:00\",\"2014-12-01T00:00:00\",\"2015-01-01T00:00:00\",\"2015-02-01T00:00:00\",\"2015-03-01T00:00:00\",\"2015-04-01T00:00:00\",\"2015-05-01T00:00:00\",\"2015-06-01T00:00:00\",\"2015-07-01T00:00:00\",\"2015-08-01T00:00:00\",\"2015-09-01T00:00:00\",\"2015-10-01T00:00:00\",\"2015-11-01T00:00:00\",\"2015-12-01T00:00:00\",\"2016-01-01T00:00:00\",\"2016-02-01T00:00:00\",\"2016-03-01T00:00:00\",\"2016-04-01T00:00:00\",\"2016-05-01T00:00:00\",\"2016-06-01T00:00:00\",\"2016-07-01T00:00:00\",\"2016-08-01T00:00:00\",\"2016-09-01T00:00:00\",\"2016-10-01T00:00:00\",\"2016-11-01T00:00:00\",\"2016-12-01T00:00:00\",\"2017-01-01T00:00:00\"],\"y\":[-191.68030906306285,-273.4551068406845,22.871037949909805,151.9547251626218,244.1929203247273,-77.29841029472846,111.98793735312393,131.95863156176074,-272.4761207352658,-68.48480786845175,-74.49101969159074,-26.903003809134134,-34.311735620757645,6.26783412965051,59.17518133203703,47.90792922993387,-66.39751170526961,160.5672488310347,318.90314065669463,-712.0951773914012,-240.93008775005364,350.68593431161935,123.52426404527705,81.51715184052591,130.5033815487095,-146.62963046249388,15.076296760682453,-117.40180877444072,-251.7824442275023,-6.48139372622245,-416.2757603515465,-310.95379846821834,269.9702241238956,215.83506142116585,176.83735121353038,62.24383185064653,93.37454196009276,265.37090884972895,-66.39364592401853,-237.9851514929096,8.154788071170515,-185.6486093296926,-224.12847265303026,237.54447232841176,339.1999990505665,-236.81430193339838,-91.35794175292358,-166.63541903233727,22.976071634281652,-22.483686553927328,-102.94978317744699,99.59925709014351,-1.7251400023833412,48.58714146977127,100.86955515601039,643.4326334561792,-67.5196646395998,-209.70545980120187,-118.92530244077807,54.41627086325843,-184.96915954153974],\"type\":\"scatter\"}],                        {\"title\":{\"text\":\"Residuals\"},\"xaxis\":{\"title\":{\"text\":\"Time\"}},\"yaxis\":{\"title\":{\"text\":\"Values\"}},\"template\":{\"data\":{\"barpolar\":[{\"marker\":{\"line\":{\"color\":\"rgb(237,237,237)\",\"width\":0.5},\"pattern\":{\"fillmode\":\"overlay\",\"size\":10,\"solidity\":0.2}},\"type\":\"barpolar\"}],\"bar\":[{\"error_x\":{\"color\":\"rgb(51,51,51)\"},\"error_y\":{\"color\":\"rgb(51,51,51)\"},\"marker\":{\"line\":{\"color\":\"rgb(237,237,237)\",\"width\":0.5},\"pattern\":{\"fillmode\":\"overlay\",\"size\":10,\"solidity\":0.2}},\"type\":\"bar\"}],\"carpet\":[{\"aaxis\":{\"endlinecolor\":\"rgb(51,51,51)\",\"gridcolor\":\"white\",\"linecolor\":\"white\",\"minorgridcolor\":\"white\",\"startlinecolor\":\"rgb(51,51,51)\"},\"baxis\":{\"endlinecolor\":\"rgb(51,51,51)\",\"gridcolor\":\"white\",\"linecolor\":\"white\",\"minorgridcolor\":\"white\",\"startlinecolor\":\"rgb(51,51,51)\"},\"type\":\"carpet\"}],\"choropleth\":[{\"colorbar\":{\"outlinewidth\":0,\"tickcolor\":\"rgb(237,237,237)\",\"ticklen\":6,\"ticks\":\"inside\"},\"type\":\"choropleth\"}],\"contourcarpet\":[{\"colorbar\":{\"outlinewidth\":0,\"tickcolor\":\"rgb(237,237,237)\",\"ticklen\":6,\"ticks\":\"inside\"},\"type\":\"contourcarpet\"}],\"contour\":[{\"colorbar\":{\"outlinewidth\":0,\"tickcolor\":\"rgb(237,237,237)\",\"ticklen\":6,\"ticks\":\"inside\"},\"colorscale\":[[0,\"rgb(20,44,66)\"],[1,\"rgb(90,179,244)\"]],\"type\":\"contour\"}],\"heatmapgl\":[{\"colorbar\":{\"outlinewidth\":0,\"tickcolor\":\"rgb(237,237,237)\",\"ticklen\":6,\"ticks\":\"inside\"},\"colorscale\":[[0,\"rgb(20,44,66)\"],[1,\"rgb(90,179,244)\"]],\"type\":\"heatmapgl\"}],\"heatmap\":[{\"colorbar\":{\"outlinewidth\":0,\"tickcolor\":\"rgb(237,237,237)\",\"ticklen\":6,\"ticks\":\"inside\"},\"colorscale\":[[0,\"rgb(20,44,66)\"],[1,\"rgb(90,179,244)\"]],\"type\":\"heatmap\"}],\"histogram2dcontour\":[{\"colorbar\":{\"outlinewidth\":0,\"tickcolor\":\"rgb(237,237,237)\",\"ticklen\":6,\"ticks\":\"inside\"},\"colorscale\":[[0,\"rgb(20,44,66)\"],[1,\"rgb(90,179,244)\"]],\"type\":\"histogram2dcontour\"}],\"histogram2d\":[{\"colorbar\":{\"outlinewidth\":0,\"tickcolor\":\"rgb(237,237,237)\",\"ticklen\":6,\"ticks\":\"inside\"},\"colorscale\":[[0,\"rgb(20,44,66)\"],[1,\"rgb(90,179,244)\"]],\"type\":\"histogram2d\"}],\"histogram\":[{\"marker\":{\"pattern\":{\"fillmode\":\"overlay\",\"size\":10,\"solidity\":0.2}},\"type\":\"histogram\"}],\"mesh3d\":[{\"colorbar\":{\"outlinewidth\":0,\"tickcolor\":\"rgb(237,237,237)\",\"ticklen\":6,\"ticks\":\"inside\"},\"type\":\"mesh3d\"}],\"parcoords\":[{\"line\":{\"colorbar\":{\"outlinewidth\":0,\"tickcolor\":\"rgb(237,237,237)\",\"ticklen\":6,\"ticks\":\"inside\"}},\"type\":\"parcoords\"}],\"pie\":[{\"automargin\":true,\"type\":\"pie\"}],\"scatter3d\":[{\"line\":{\"colorbar\":{\"outlinewidth\":0,\"tickcolor\":\"rgb(237,237,237)\",\"ticklen\":6,\"ticks\":\"inside\"}},\"marker\":{\"colorbar\":{\"outlinewidth\":0,\"tickcolor\":\"rgb(237,237,237)\",\"ticklen\":6,\"ticks\":\"inside\"}},\"type\":\"scatter3d\"}],\"scattercarpet\":[{\"marker\":{\"colorbar\":{\"outlinewidth\":0,\"tickcolor\":\"rgb(237,237,237)\",\"ticklen\":6,\"ticks\":\"inside\"}},\"type\":\"scattercarpet\"}],\"scattergeo\":[{\"marker\":{\"colorbar\":{\"outlinewidth\":0,\"tickcolor\":\"rgb(237,237,237)\",\"ticklen\":6,\"ticks\":\"inside\"}},\"type\":\"scattergeo\"}],\"scattergl\":[{\"marker\":{\"colorbar\":{\"outlinewidth\":0,\"tickcolor\":\"rgb(237,237,237)\",\"ticklen\":6,\"ticks\":\"inside\"}},\"type\":\"scattergl\"}],\"scattermapbox\":[{\"marker\":{\"colorbar\":{\"outlinewidth\":0,\"tickcolor\":\"rgb(237,237,237)\",\"ticklen\":6,\"ticks\":\"inside\"}},\"type\":\"scattermapbox\"}],\"scatterpolargl\":[{\"marker\":{\"colorbar\":{\"outlinewidth\":0,\"tickcolor\":\"rgb(237,237,237)\",\"ticklen\":6,\"ticks\":\"inside\"}},\"type\":\"scatterpolargl\"}],\"scatterpolar\":[{\"marker\":{\"colorbar\":{\"outlinewidth\":0,\"tickcolor\":\"rgb(237,237,237)\",\"ticklen\":6,\"ticks\":\"inside\"}},\"type\":\"scatterpolar\"}],\"scatter\":[{\"marker\":{\"colorbar\":{\"outlinewidth\":0,\"tickcolor\":\"rgb(237,237,237)\",\"ticklen\":6,\"ticks\":\"inside\"}},\"type\":\"scatter\"}],\"scatterternary\":[{\"marker\":{\"colorbar\":{\"outlinewidth\":0,\"tickcolor\":\"rgb(237,237,237)\",\"ticklen\":6,\"ticks\":\"inside\"}},\"type\":\"scatterternary\"}],\"surface\":[{\"colorbar\":{\"outlinewidth\":0,\"tickcolor\":\"rgb(237,237,237)\",\"ticklen\":6,\"ticks\":\"inside\"},\"colorscale\":[[0,\"rgb(20,44,66)\"],[1,\"rgb(90,179,244)\"]],\"type\":\"surface\"}],\"table\":[{\"cells\":{\"fill\":{\"color\":\"rgb(237,237,237)\"},\"line\":{\"color\":\"white\"}},\"header\":{\"fill\":{\"color\":\"rgb(217,217,217)\"},\"line\":{\"color\":\"white\"}},\"type\":\"table\"}]},\"layout\":{\"annotationdefaults\":{\"arrowhead\":0,\"arrowwidth\":1},\"autotypenumbers\":\"strict\",\"coloraxis\":{\"colorbar\":{\"outlinewidth\":0,\"tickcolor\":\"rgb(237,237,237)\",\"ticklen\":6,\"ticks\":\"inside\"}},\"colorscale\":{\"sequential\":[[0,\"rgb(20,44,66)\"],[1,\"rgb(90,179,244)\"]],\"sequentialminus\":[[0,\"rgb(20,44,66)\"],[1,\"rgb(90,179,244)\"]]},\"colorway\":[\"#F8766D\",\"#A3A500\",\"#00BF7D\",\"#00B0F6\",\"#E76BF3\"],\"font\":{\"color\":\"rgb(51,51,51)\"},\"geo\":{\"bgcolor\":\"white\",\"lakecolor\":\"white\",\"landcolor\":\"rgb(237,237,237)\",\"showlakes\":true,\"showland\":true,\"subunitcolor\":\"white\"},\"hoverlabel\":{\"align\":\"left\"},\"hovermode\":\"closest\",\"paper_bgcolor\":\"white\",\"plot_bgcolor\":\"rgb(237,237,237)\",\"polar\":{\"angularaxis\":{\"gridcolor\":\"white\",\"linecolor\":\"white\",\"showgrid\":true,\"tickcolor\":\"rgb(51,51,51)\",\"ticks\":\"outside\"},\"bgcolor\":\"rgb(237,237,237)\",\"radialaxis\":{\"gridcolor\":\"white\",\"linecolor\":\"white\",\"showgrid\":true,\"tickcolor\":\"rgb(51,51,51)\",\"ticks\":\"outside\"}},\"scene\":{\"xaxis\":{\"backgroundcolor\":\"rgb(237,237,237)\",\"gridcolor\":\"white\",\"gridwidth\":2,\"linecolor\":\"white\",\"showbackground\":true,\"showgrid\":true,\"tickcolor\":\"rgb(51,51,51)\",\"ticks\":\"outside\",\"zerolinecolor\":\"white\"},\"yaxis\":{\"backgroundcolor\":\"rgb(237,237,237)\",\"gridcolor\":\"white\",\"gridwidth\":2,\"linecolor\":\"white\",\"showbackground\":true,\"showgrid\":true,\"tickcolor\":\"rgb(51,51,51)\",\"ticks\":\"outside\",\"zerolinecolor\":\"white\"},\"zaxis\":{\"backgroundcolor\":\"rgb(237,237,237)\",\"gridcolor\":\"white\",\"gridwidth\":2,\"linecolor\":\"white\",\"showbackground\":true,\"showgrid\":true,\"tickcolor\":\"rgb(51,51,51)\",\"ticks\":\"outside\",\"zerolinecolor\":\"white\"}},\"shapedefaults\":{\"fillcolor\":\"black\",\"line\":{\"width\":0},\"opacity\":0.3},\"ternary\":{\"aaxis\":{\"gridcolor\":\"white\",\"linecolor\":\"white\",\"showgrid\":true,\"tickcolor\":\"rgb(51,51,51)\",\"ticks\":\"outside\"},\"baxis\":{\"gridcolor\":\"white\",\"linecolor\":\"white\",\"showgrid\":true,\"tickcolor\":\"rgb(51,51,51)\",\"ticks\":\"outside\"},\"bgcolor\":\"rgb(237,237,237)\",\"caxis\":{\"gridcolor\":\"white\",\"linecolor\":\"white\",\"showgrid\":true,\"tickcolor\":\"rgb(51,51,51)\",\"ticks\":\"outside\"}},\"xaxis\":{\"automargin\":true,\"gridcolor\":\"white\",\"linecolor\":\"white\",\"showgrid\":true,\"tickcolor\":\"rgb(51,51,51)\",\"ticks\":\"outside\",\"title\":{\"standoff\":15},\"zerolinecolor\":\"white\"},\"yaxis\":{\"automargin\":true,\"gridcolor\":\"white\",\"linecolor\":\"white\",\"showgrid\":true,\"tickcolor\":\"rgb(51,51,51)\",\"ticks\":\"outside\",\"title\":{\"standoff\":15},\"zerolinecolor\":\"white\"}}},\"showlegend\":true},                        {\"responsive\": true}                    ).then(function(){\n",
              "                            \n",
              "var gd = document.getElementById('6ecddedc-528b-4fab-b4f5-48d5a1b7d09b');\n",
              "var x = new MutationObserver(function (mutations, observer) {{\n",
              "        var display = window.getComputedStyle(gd).display;\n",
              "        if (!display || display === 'none') {{\n",
              "            console.log([gd, 'removed!']);\n",
              "            Plotly.purge(gd);\n",
              "            observer.disconnect();\n",
              "        }}\n",
              "}});\n",
              "\n",
              "// Listen for the removal of the full notebook cells\n",
              "var notebookContainer = gd.closest('#notebook-container');\n",
              "if (notebookContainer) {{\n",
              "    x.observe(notebookContainer, {childList: true});\n",
              "}}\n",
              "\n",
              "// Listen for the clearing of the current output cell\n",
              "var outputEl = gd.closest('.output');\n",
              "if (outputEl) {{\n",
              "    x.observe(outputEl, {childList: true});\n",
              "}}\n",
              "\n",
              "                        })                };                            </script>        </div>\n",
              "</body>\n",
              "</html>"
            ]
          },
          "metadata": {}
        }
      ]
    },
    {
      "cell_type": "code",
      "source": [
        "# diagnostics plot\n",
        "exp_ny.plot_model(best, plot = 'diagnostics')"
      ],
      "metadata": {
        "colab": {
          "base_uri": "https://localhost:8080/",
          "height": 542
        },
        "id": "p2I0TpDVAqJR",
        "outputId": "b0e6c53a-9f20-47c7-edbd-1e4e567f7777"
      },
      "execution_count": 45,
      "outputs": [
        {
          "output_type": "display_data",
          "data": {
            "text/html": [
              "<html>\n",
              "<head><meta charset=\"utf-8\" /></head>\n",
              "<body>\n",
              "    <div>            <script src=\"https://cdnjs.cloudflare.com/ajax/libs/mathjax/2.7.5/MathJax.js?config=TeX-AMS-MML_SVG\"></script><script type=\"text/javascript\">if (window.MathJax) {MathJax.Hub.Config({SVG: {font: \"STIX-Web\"}});}</script>                <script type=\"text/javascript\">window.PlotlyConfig = {MathJaxConfig: 'local'};</script>\n",
              "        <script src=\"https://cdn.plot.ly/plotly-2.6.3.min.js\"></script>                <div id=\"bc71c685-7baa-44c9-a699-926aebeec04c\" class=\"plotly-graph-div\" style=\"height:525px; width:100%;\"></div>            <script type=\"text/javascript\">                                    window.PLOTLYENV=window.PLOTLYENV || {};                                    if (document.getElementById(\"bc71c685-7baa-44c9-a699-926aebeec04c\")) {                    Plotly.newPlot(                        \"bc71c685-7baa-44c9-a699-926aebeec04c\",                        [{\"marker\":{\"color\":\"#1f77b4\"},\"mode\":\"markers\",\"x\":[-2.1411981209720183,-1.8485962885014091,-1.6606976105540419,-1.5179291595942785,-1.4007450611305767,-1.3001534333634237,-1.2112321309213452,-1.1309776082451584,-1.0574142284863806,-0.9891686273406353,-0.9252445598541517,-0.8648943586852831,-0.8075410421200765,-0.7527287942581697,-0.7000902126075669,-0.6493239131864658,-0.6001787759898454,-0.5524425846467742,-0.5059336541658118,-0.4604945391031163,-0.41598722018967504,-0.37228936046519107,-0.32929134697812223,-0.2868939169230392,-0.2450062230373207,-0.2035442315324862,-0.16242937264128568,-0.12158738275048304,-0.08094729048129604,-0.04044050856564621,0.0,0.04044050856564621,0.0809472904812959,0.1215873827504829,0.16242937264128582,0.20354423153248632,0.2450062230373207,0.2868939169230392,0.32929134697812223,0.37228936046519107,0.4159872201896748,0.46049453910311605,0.5059336541658119,0.5524425846467744,0.6001787759898454,0.6493239131864658,0.7000902126075669,0.7527287942581697,0.8075410421200765,0.8648943586852829,0.9252445598541519,0.9891686273406353,1.0574142284863806,1.1309776082451584,1.2112321309213452,1.300153433363423,1.4007450611305767,1.517929159594278,1.6606976105540419,1.8485962885014091,2.141198120972019],\"y\":[-712.0951773914012,-416.2757603515465,-310.95379846821834,-273.4551068406845,-272.4761207352658,-251.7824442275023,-240.93008775005364,-237.9851514929096,-236.81430193339838,-224.12847265303026,-209.70545980120187,-191.68030906306285,-185.6486093296926,-184.96915954153974,-166.63541903233727,-146.62963046249388,-118.92530244077807,-117.40180877444072,-102.94978317744699,-91.35794175292358,-77.29841029472846,-74.49101969159074,-68.48480786845175,-67.5196646395998,-66.39751170526961,-66.39364592401853,-34.311735620757645,-26.903003809134134,-22.483686553927328,-6.48139372622245,-1.7251400023833412,6.26783412965051,8.154788071170515,15.076296760682453,22.871037949909805,22.976071634281652,47.90792922993387,48.58714146977127,54.41627086325843,59.17518133203703,62.24383185064653,81.51715184052591,93.37454196009276,99.59925709014351,100.86955515601039,111.98793735312393,123.52426404527705,130.5033815487095,131.95863156176074,151.9547251626218,160.5672488310347,176.83735121353038,215.83506142116585,237.54447232841176,244.1929203247273,265.37090884972895,269.9702241238956,318.90314065669463,339.1999990505665,350.68593431161935,643.4326334561792],\"type\":\"scatter\",\"xaxis\":\"x4\",\"yaxis\":\"y4\",\"showlegend\":false},{\"line\":{\"color\":\"#3f3f3f\"},\"mode\":\"lines\",\"x\":[-2.1411981209720183,-1.8485962885014091,-1.6606976105540419,-1.5179291595942785,-1.4007450611305767,-1.3001534333634237,-1.2112321309213452,-1.1309776082451584,-1.0574142284863806,-0.9891686273406353,-0.9252445598541517,-0.8648943586852831,-0.8075410421200765,-0.7527287942581697,-0.7000902126075669,-0.6493239131864658,-0.6001787759898454,-0.5524425846467742,-0.5059336541658118,-0.4604945391031163,-0.41598722018967504,-0.37228936046519107,-0.32929134697812223,-0.2868939169230392,-0.2450062230373207,-0.2035442315324862,-0.16242937264128568,-0.12158738275048304,-0.08094729048129604,-0.04044050856564621,0.0,0.04044050856564621,0.0809472904812959,0.1215873827504829,0.16242937264128582,0.20354423153248632,0.2450062230373207,0.2868939169230392,0.32929134697812223,0.37228936046519107,0.4159872201896748,0.46049453910311605,0.5059336541658119,0.5524425846467744,0.6001787759898454,0.6493239131864658,0.7000902126075669,0.7527287942581697,0.8075410421200765,0.8648943586852829,0.9252445598541519,0.9891686273406353,1.0574142284863806,1.1309776082451584,1.2112321309213452,1.300153433363423,1.4007450611305767,1.517929159594278,1.6606976105540419,1.8485962885014091,2.141198120972019],\"y\":[-463.4568155695763,-401.4899525772973,-361.69699730260874,-331.46166703982857,-306.64456007552633,-285.3413865328808,-266.50974040476996,-249.51353443710724,-233.93437064216056,-219.48139958481457,-205.9436377109479,-193.1627449331715,-181.01652876035945,-169.40845705117496,-158.26072174921495,-147.5094961184993,-137.10159826739604,-126.99208526895494,-117.14248009493159,-107.51943913922163,-98.09373284758415,-88.83945284619381,-79.73338543644513,-70.75450886118665,-61.88358359676758,-53.102813068868755,-44.39555786699363,-35.74609053274642,-27.13938083317116,-18.560903439399794,-9.996461335718852,-1.4320192320379075,7.1464581617334275,15.753167861308686,24.402635195555963,33.10989039743109,41.89066092532988,50.76158618974894,59.740462765007436,68.84653017475611,78.10081017614641,87.52651646778389,97.14955742349392,106.99916259751728,117.10867559595833,127.51657344706159,138.26779907777723,149.41553437973724,161.02360608892172,173.16982226173374,185.95071503951024,199.48847691337684,213.94144797072283,229.5206117656695,246.51681773333226,265.34846386144295,286.65163740408866,311.4687443683908,341.70407463117107,381.4970299058596,443.4638928981387],\"type\":\"scatter\",\"xaxis\":\"x4\",\"yaxis\":\"y4\",\"showlegend\":false},{\"alignmentgroup\":\"True\",\"bingroup\":\"x\",\"hovertemplate\":\"variable=0<br>value=%{x}<br>count=%{y}<extra></extra>\",\"legendgroup\":\"0\",\"marker\":{\"color\":\"#1f77b4\",\"pattern\":{\"shape\":\"\"}},\"name\":\"0\",\"offsetgroup\":\"0\",\"orientation\":\"v\",\"showlegend\":false,\"x\":[-191.68030906306285,-273.4551068406845,22.871037949909805,151.9547251626218,244.1929203247273,-77.29841029472846,111.98793735312393,131.95863156176074,-272.4761207352658,-68.48480786845175,-74.49101969159074,-26.903003809134134,-34.311735620757645,6.26783412965051,59.17518133203703,47.90792922993387,-66.39751170526961,160.5672488310347,318.90314065669463,-712.0951773914012,-240.93008775005364,350.68593431161935,123.52426404527705,81.51715184052591,130.5033815487095,-146.62963046249388,15.076296760682453,-117.40180877444072,-251.7824442275023,-6.48139372622245,-416.2757603515465,-310.95379846821834,269.9702241238956,215.83506142116585,176.83735121353038,62.24383185064653,93.37454196009276,265.37090884972895,-66.39364592401853,-237.9851514929096,8.154788071170515,-185.6486093296926,-224.12847265303026,237.54447232841176,339.1999990505665,-236.81430193339838,-91.35794175292358,-166.63541903233727,22.976071634281652,-22.483686553927328,-102.94978317744699,99.59925709014351,-1.7251400023833412,48.58714146977127,100.86955515601039,643.4326334561792,-67.5196646395998,-209.70545980120187,-118.92530244077807,54.41627086325843,-184.96915954153974],\"xaxis\":\"x2\",\"yaxis\":\"y2\",\"type\":\"histogram\"},{\"line\":{\"color\":\"#3f3f3f\"},\"mode\":\"lines\",\"name\":\"ACF\",\"x\":[0,0],\"y\":[0,1.0],\"type\":\"scatter\",\"xaxis\":\"x3\",\"yaxis\":\"y3\",\"showlegend\":false},{\"line\":{\"color\":\"#3f3f3f\"},\"mode\":\"lines\",\"name\":\"ACF\",\"x\":[1,1],\"y\":[0,0.10144579935456431],\"type\":\"scatter\",\"xaxis\":\"x3\",\"yaxis\":\"y3\",\"showlegend\":false},{\"line\":{\"color\":\"#3f3f3f\"},\"mode\":\"lines\",\"name\":\"ACF\",\"x\":[2,2],\"y\":[0,-0.27600067203880524],\"type\":\"scatter\",\"xaxis\":\"x3\",\"yaxis\":\"y3\",\"showlegend\":false},{\"line\":{\"color\":\"#3f3f3f\"},\"mode\":\"lines\",\"name\":\"ACF\",\"x\":[3,3],\"y\":[0,0.008462614233062365],\"type\":\"scatter\",\"xaxis\":\"x3\",\"yaxis\":\"y3\",\"showlegend\":false},{\"line\":{\"color\":\"#3f3f3f\"},\"mode\":\"lines\",\"name\":\"ACF\",\"x\":[4,4],\"y\":[0,-0.0758600285115382],\"type\":\"scatter\",\"xaxis\":\"x3\",\"yaxis\":\"y3\",\"showlegend\":false},{\"line\":{\"color\":\"#3f3f3f\"},\"mode\":\"lines\",\"name\":\"ACF\",\"x\":[5,5],\"y\":[0,-0.21001855777851033],\"type\":\"scatter\",\"xaxis\":\"x3\",\"yaxis\":\"y3\",\"showlegend\":false},{\"line\":{\"color\":\"#3f3f3f\"},\"mode\":\"lines\",\"name\":\"ACF\",\"x\":[6,6],\"y\":[0,-0.12628828062188027],\"type\":\"scatter\",\"xaxis\":\"x3\",\"yaxis\":\"y3\",\"showlegend\":false},{\"line\":{\"color\":\"#3f3f3f\"},\"mode\":\"lines\",\"name\":\"ACF\",\"x\":[7,7],\"y\":[0,-0.08867325493038722],\"type\":\"scatter\",\"xaxis\":\"x3\",\"yaxis\":\"y3\",\"showlegend\":false},{\"line\":{\"color\":\"#3f3f3f\"},\"mode\":\"lines\",\"name\":\"ACF\",\"x\":[8,8],\"y\":[0,0.033404435927232634],\"type\":\"scatter\",\"xaxis\":\"x3\",\"yaxis\":\"y3\",\"showlegend\":false},{\"line\":{\"color\":\"#3f3f3f\"},\"mode\":\"lines\",\"name\":\"ACF\",\"x\":[9,9],\"y\":[0,-0.05067456792454297],\"type\":\"scatter\",\"xaxis\":\"x3\",\"yaxis\":\"y3\",\"showlegend\":false},{\"line\":{\"color\":\"#3f3f3f\"},\"mode\":\"lines\",\"name\":\"ACF\",\"x\":[10,10],\"y\":[0,-0.02693785470919025],\"type\":\"scatter\",\"xaxis\":\"x3\",\"yaxis\":\"y3\",\"showlegend\":false},{\"line\":{\"color\":\"#3f3f3f\"},\"mode\":\"lines\",\"name\":\"ACF\",\"x\":[11,11],\"y\":[0,0.4932503797137314],\"type\":\"scatter\",\"xaxis\":\"x3\",\"yaxis\":\"y3\",\"showlegend\":false},{\"line\":{\"color\":\"#3f3f3f\"},\"mode\":\"lines\",\"name\":\"ACF\",\"x\":[12,12],\"y\":[0,0.08762445559292191],\"type\":\"scatter\",\"xaxis\":\"x3\",\"yaxis\":\"y3\",\"showlegend\":false},{\"line\":{\"color\":\"#3f3f3f\"},\"mode\":\"lines\",\"name\":\"ACF\",\"x\":[13,13],\"y\":[0,-0.38347734585359566],\"type\":\"scatter\",\"xaxis\":\"x3\",\"yaxis\":\"y3\",\"showlegend\":false},{\"line\":{\"color\":\"#3f3f3f\"},\"mode\":\"lines\",\"name\":\"ACF\",\"x\":[14,14],\"y\":[0,-0.07311553068583208],\"type\":\"scatter\",\"xaxis\":\"x3\",\"yaxis\":\"y3\",\"showlegend\":false},{\"line\":{\"color\":\"#3f3f3f\"},\"mode\":\"lines\",\"name\":\"ACF\",\"x\":[15,15],\"y\":[0,0.02062616268633327],\"type\":\"scatter\",\"xaxis\":\"x3\",\"yaxis\":\"y3\",\"showlegend\":false},{\"line\":{\"color\":\"#3f3f3f\"},\"mode\":\"lines\",\"name\":\"ACF\",\"x\":[16,16],\"y\":[0,-0.1164390755604706],\"type\":\"scatter\",\"xaxis\":\"x3\",\"yaxis\":\"y3\",\"showlegend\":false},{\"line\":{\"color\":\"#3f3f3f\"},\"mode\":\"lines\",\"name\":\"ACF\",\"x\":[17,17],\"y\":[0,-0.045036492870076675],\"type\":\"scatter\",\"xaxis\":\"x3\",\"yaxis\":\"y3\",\"showlegend\":false},{\"line\":{\"color\":\"#3f3f3f\"},\"mode\":\"lines\",\"name\":\"ACF\",\"x\":[18,18],\"y\":[0,0.09552962350749851],\"type\":\"scatter\",\"xaxis\":\"x3\",\"yaxis\":\"y3\",\"showlegend\":false},{\"line\":{\"color\":\"#3f3f3f\"},\"mode\":\"lines\",\"name\":\"ACF\",\"x\":[19,19],\"y\":[0,0.2566290486333504],\"type\":\"scatter\",\"xaxis\":\"x3\",\"yaxis\":\"y3\",\"showlegend\":false},{\"line\":{\"color\":\"#3f3f3f\"},\"mode\":\"lines\",\"name\":\"ACF\",\"x\":[20,20],\"y\":[0,0.11658689322422915],\"type\":\"scatter\",\"xaxis\":\"x3\",\"yaxis\":\"y3\",\"showlegend\":false},{\"line\":{\"color\":\"#3f3f3f\"},\"mode\":\"lines\",\"name\":\"ACF\",\"x\":[21,21],\"y\":[0,-0.04563106131869519],\"type\":\"scatter\",\"xaxis\":\"x3\",\"yaxis\":\"y3\",\"showlegend\":false},{\"line\":{\"color\":\"#3f3f3f\"},\"mode\":\"lines\",\"name\":\"ACF\",\"x\":[22,22],\"y\":[0,0.17646935288877091],\"type\":\"scatter\",\"xaxis\":\"x3\",\"yaxis\":\"y3\",\"showlegend\":false},{\"line\":{\"color\":\"#3f3f3f\"},\"mode\":\"lines\",\"name\":\"ACF\",\"x\":[23,23],\"y\":[0,0.022149815802549547],\"type\":\"scatter\",\"xaxis\":\"x3\",\"yaxis\":\"y3\",\"showlegend\":false},{\"line\":{\"color\":\"#3f3f3f\"},\"mode\":\"lines\",\"name\":\"ACF\",\"x\":[24,24],\"y\":[0,-0.3963217690652876],\"type\":\"scatter\",\"xaxis\":\"x3\",\"yaxis\":\"y3\",\"showlegend\":false},{\"line\":{\"color\":\"#3f3f3f\"},\"mode\":\"lines\",\"name\":\"ACF\",\"x\":[25,25],\"y\":[0,-0.22209681688973598],\"type\":\"scatter\",\"xaxis\":\"x3\",\"yaxis\":\"y3\",\"showlegend\":false},{\"line\":{\"color\":\"#3f3f3f\"},\"mode\":\"lines\",\"name\":\"ACF\",\"x\":[26,26],\"y\":[0,0.07086307346661422],\"type\":\"scatter\",\"xaxis\":\"x3\",\"yaxis\":\"y3\",\"showlegend\":false},{\"line\":{\"color\":\"#3f3f3f\"},\"mode\":\"lines\",\"name\":\"ACF\",\"x\":[27,27],\"y\":[0,-0.029304580618763707],\"type\":\"scatter\",\"xaxis\":\"x3\",\"yaxis\":\"y3\",\"showlegend\":false},{\"line\":{\"color\":\"#3f3f3f\"},\"mode\":\"lines\",\"name\":\"ACF\",\"x\":[28,28],\"y\":[0,-0.01623740837908567],\"type\":\"scatter\",\"xaxis\":\"x3\",\"yaxis\":\"y3\",\"showlegend\":false},{\"line\":{\"color\":\"#3f3f3f\"},\"mode\":\"lines\",\"name\":\"ACF\",\"x\":[29,29],\"y\":[0,0.07045135784738436],\"type\":\"scatter\",\"xaxis\":\"x3\",\"yaxis\":\"y3\",\"showlegend\":false},{\"line\":{\"color\":\"#3f3f3f\"},\"mode\":\"lines\",\"name\":\"ACF\",\"x\":[30,30],\"y\":[0,0.16532216694398372],\"type\":\"scatter\",\"xaxis\":\"x3\",\"yaxis\":\"y3\",\"showlegend\":false},{\"line\":{\"color\":\"#3f3f3f\"},\"mode\":\"lines\",\"name\":\"ACF\",\"x\":[31,31],\"y\":[0,0.09869081969868312],\"type\":\"scatter\",\"xaxis\":\"x3\",\"yaxis\":\"y3\",\"showlegend\":false},{\"line\":{\"color\":\"#3f3f3f\"},\"mode\":\"lines\",\"name\":\"ACF\",\"x\":[32,32],\"y\":[0,-0.03713392998990512],\"type\":\"scatter\",\"xaxis\":\"x3\",\"yaxis\":\"y3\",\"showlegend\":false},{\"line\":{\"color\":\"#3f3f3f\"},\"mode\":\"lines\",\"name\":\"ACF\",\"x\":[33,33],\"y\":[0,0.05124788750763512],\"type\":\"scatter\",\"xaxis\":\"x3\",\"yaxis\":\"y3\",\"showlegend\":false},{\"line\":{\"color\":\"#3f3f3f\"},\"mode\":\"lines\",\"name\":\"ACF\",\"x\":[34,34],\"y\":[0,0.0506189784036024],\"type\":\"scatter\",\"xaxis\":\"x3\",\"yaxis\":\"y3\",\"showlegend\":false},{\"line\":{\"color\":\"#3f3f3f\"},\"mode\":\"lines\",\"name\":\"ACF\",\"x\":[35,35],\"y\":[0,-0.16864846826171676],\"type\":\"scatter\",\"xaxis\":\"x3\",\"yaxis\":\"y3\",\"showlegend\":false},{\"line\":{\"color\":\"#3f3f3f\"},\"mode\":\"lines\",\"name\":\"ACF\",\"x\":[36,36],\"y\":[0,-0.24891482128053216],\"type\":\"scatter\",\"xaxis\":\"x3\",\"yaxis\":\"y3\",\"showlegend\":false},{\"line\":{\"color\":\"#3f3f3f\"},\"mode\":\"lines\",\"name\":\"ACF\",\"x\":[37,37],\"y\":[0,0.13188437809244752],\"type\":\"scatter\",\"xaxis\":\"x3\",\"yaxis\":\"y3\",\"showlegend\":false},{\"line\":{\"color\":\"#3f3f3f\"},\"mode\":\"lines\",\"name\":\"ACF\",\"x\":[38,38],\"y\":[0,0.09865205818525721],\"type\":\"scatter\",\"xaxis\":\"x3\",\"yaxis\":\"y3\",\"showlegend\":false},{\"line\":{\"color\":\"#3f3f3f\"},\"mode\":\"lines\",\"name\":\"ACF\",\"x\":[39,39],\"y\":[0,-0.024840630475930423],\"type\":\"scatter\",\"xaxis\":\"x3\",\"yaxis\":\"y3\",\"showlegend\":false},{\"line\":{\"color\":\"#3f3f3f\"},\"mode\":\"lines\",\"name\":\"ACF\",\"x\":[40,40],\"y\":[0,0.043463378664816574],\"type\":\"scatter\",\"xaxis\":\"x3\",\"yaxis\":\"y3\",\"showlegend\":false},{\"marker\":{\"color\":\"#1f77b4\",\"size\":6},\"mode\":\"markers\",\"x\":[0,1,2,3,4,5,6,7,8,9,10,11,12,13,14,15,16,17,18,19,20,21,22,23,24,25,26,27,28,29,30,31,32,33,34,35,36,37,38,39,40],\"y\":[1.0,0.10144579935456431,-0.27600067203880524,0.008462614233062365,-0.0758600285115382,-0.21001855777851033,-0.12628828062188027,-0.08867325493038722,0.033404435927232634,-0.05067456792454297,-0.02693785470919025,0.4932503797137314,0.08762445559292191,-0.38347734585359566,-0.07311553068583208,0.02062616268633327,-0.1164390755604706,-0.045036492870076675,0.09552962350749851,0.2566290486333504,0.11658689322422915,-0.04563106131869519,0.17646935288877091,0.022149815802549547,-0.3963217690652876,-0.22209681688973598,0.07086307346661422,-0.029304580618763707,-0.01623740837908567,0.07045135784738436,0.16532216694398372,0.09869081969868312,-0.03713392998990512,0.05124788750763512,0.0506189784036024,-0.16864846826171676,-0.24891482128053216,0.13188437809244752,0.09865205818525721,-0.024840630475930423,0.043463378664816574],\"type\":\"scatter\",\"xaxis\":\"x3\",\"yaxis\":\"y3\",\"showlegend\":false},{\"line\":{\"color\":\"rgba(255,255,255,0)\"},\"mode\":\"lines\",\"name\":\"UC\",\"x\":[0,1,2,3,4,5,6,7,8,9,10,11,12,13,14,15,16,17,18,19,20,21,22,23,24,25,26,27,28,29,30,31,32,33,34,35,36,37,38,39,40],\"y\":[0.0,0.25094767336135526,0.25351708476909396,0.27178168772705197,0.2717982813793709,0.2731283813621665,0.28311564075303025,0.2866412393564934,0.2883635448441839,0.2886071300386585,0.2891669113894057,0.289324899767047,0.33815956564978206,0.33958642134615086,0.3658420711639587,0.3667611373740826,0.3668341800491086,0.3691543659571768,0.36950021300665387,0.37105230198100775,0.3820662900466433,0.38430016733934824,0.3846412222009165,0.3897064494220683,0.3897857223360462,0.41438618641617686,0.42181586086992506,0.42256488875876774,0.4226928499304704,0.4227321284124275,0.42347088354587403,0.42751604288140155,0.4289483644622818,0.42915075989711127,0.42953598406012217,0.42991147871630586,0.43405779899192054,0.4429557813022397,0.4454217382719433,0.44679558407926556,0.4468825482660785],\"type\":\"scatter\",\"xaxis\":\"x3\",\"yaxis\":\"y3\",\"showlegend\":false},{\"fill\":\"tonexty\",\"fillcolor\":\"rgba(32, 146, 230,0.3)\",\"line\":{\"color\":\"rgba(255,255,255,0)\"},\"mode\":\"lines\",\"name\":\"LC\",\"x\":[0,1,2,3,4,5,6,7,8,9,10,11,12,13,14,15,16,17,18,19,20,21,22,23,24,25,26,27,28,29,30,31,32,33,34,35,36,37,38,39,40],\"y\":[0.0,-0.25094767336135526,-0.253517084769094,-0.27178168772705197,-0.2717982813793709,-0.27312838136216655,-0.2831156407530303,-0.2866412393564933,-0.2883635448441839,-0.2886071300386585,-0.2891669113894057,-0.289324899767047,-0.33815956564978206,-0.33958642134615086,-0.3658420711639587,-0.3667611373740826,-0.3668341800491086,-0.3691543659571768,-0.36950021300665387,-0.3710523019810078,-0.3820662900466433,-0.38430016733934824,-0.38464122220091645,-0.3897064494220683,-0.38978572233604614,-0.4143861864161768,-0.42181586086992506,-0.42256488875876774,-0.4226928499304704,-0.4227321284124275,-0.4234708835458741,-0.42751604288140144,-0.4289483644622818,-0.42915075989711127,-0.42953598406012217,-0.42991147871630586,-0.4340577989919205,-0.4429557813022398,-0.4454217382719434,-0.44679558407926556,-0.4468825482660785],\"type\":\"scatter\",\"xaxis\":\"x3\",\"yaxis\":\"y3\",\"showlegend\":false},{\"marker\":{\"color\":\"#1f77b4\",\"size\":2},\"mode\":\"lines+markers\",\"name\":\"Time Plot\",\"x\":[\"2012-01-01T00:00:00\",\"2012-02-01T00:00:00\",\"2012-03-01T00:00:00\",\"2012-04-01T00:00:00\",\"2012-05-01T00:00:00\",\"2012-06-01T00:00:00\",\"2012-07-01T00:00:00\",\"2012-08-01T00:00:00\",\"2012-09-01T00:00:00\",\"2012-10-01T00:00:00\",\"2012-11-01T00:00:00\",\"2012-12-01T00:00:00\",\"2013-01-01T00:00:00\",\"2013-02-01T00:00:00\",\"2013-03-01T00:00:00\",\"2013-04-01T00:00:00\",\"2013-05-01T00:00:00\",\"2013-06-01T00:00:00\",\"2013-07-01T00:00:00\",\"2013-08-01T00:00:00\",\"2013-09-01T00:00:00\",\"2013-10-01T00:00:00\",\"2013-11-01T00:00:00\",\"2013-12-01T00:00:00\",\"2014-01-01T00:00:00\",\"2014-02-01T00:00:00\",\"2014-03-01T00:00:00\",\"2014-04-01T00:00:00\",\"2014-05-01T00:00:00\",\"2014-06-01T00:00:00\",\"2014-07-01T00:00:00\",\"2014-08-01T00:00:00\",\"2014-09-01T00:00:00\",\"2014-10-01T00:00:00\",\"2014-11-01T00:00:00\",\"2014-12-01T00:00:00\",\"2015-01-01T00:00:00\",\"2015-02-01T00:00:00\",\"2015-03-01T00:00:00\",\"2015-04-01T00:00:00\",\"2015-05-01T00:00:00\",\"2015-06-01T00:00:00\",\"2015-07-01T00:00:00\",\"2015-08-01T00:00:00\",\"2015-09-01T00:00:00\",\"2015-10-01T00:00:00\",\"2015-11-01T00:00:00\",\"2015-12-01T00:00:00\",\"2016-01-01T00:00:00\",\"2016-02-01T00:00:00\",\"2016-03-01T00:00:00\",\"2016-04-01T00:00:00\",\"2016-05-01T00:00:00\",\"2016-06-01T00:00:00\",\"2016-07-01T00:00:00\",\"2016-08-01T00:00:00\",\"2016-09-01T00:00:00\",\"2016-10-01T00:00:00\",\"2016-11-01T00:00:00\",\"2016-12-01T00:00:00\",\"2017-01-01T00:00:00\"],\"y\":[-191.68030906306285,-273.4551068406845,22.871037949909805,151.9547251626218,244.1929203247273,-77.29841029472846,111.98793735312393,131.95863156176074,-272.4761207352658,-68.48480786845175,-74.49101969159074,-26.903003809134134,-34.311735620757645,6.26783412965051,59.17518133203703,47.90792922993387,-66.39751170526961,160.5672488310347,318.90314065669463,-712.0951773914012,-240.93008775005364,350.68593431161935,123.52426404527705,81.51715184052591,130.5033815487095,-146.62963046249388,15.076296760682453,-117.40180877444072,-251.7824442275023,-6.48139372622245,-416.2757603515465,-310.95379846821834,269.9702241238956,215.83506142116585,176.83735121353038,62.24383185064653,93.37454196009276,265.37090884972895,-66.39364592401853,-237.9851514929096,8.154788071170515,-185.6486093296926,-224.12847265303026,237.54447232841176,339.1999990505665,-236.81430193339838,-91.35794175292358,-166.63541903233727,22.976071634281652,-22.483686553927328,-102.94978317744699,99.59925709014351,-1.7251400023833412,48.58714146977127,100.86955515601039,643.4326334561792,-67.5196646395998,-209.70545980120187,-118.92530244077807,54.41627086325843,-184.96915954153974],\"type\":\"scatter\",\"xaxis\":\"x\",\"yaxis\":\"y\"}],                        {\"template\":{\"data\":{\"barpolar\":[{\"marker\":{\"line\":{\"color\":\"rgb(237,237,237)\",\"width\":0.5},\"pattern\":{\"fillmode\":\"overlay\",\"size\":10,\"solidity\":0.2}},\"type\":\"barpolar\"}],\"bar\":[{\"error_x\":{\"color\":\"rgb(51,51,51)\"},\"error_y\":{\"color\":\"rgb(51,51,51)\"},\"marker\":{\"line\":{\"color\":\"rgb(237,237,237)\",\"width\":0.5},\"pattern\":{\"fillmode\":\"overlay\",\"size\":10,\"solidity\":0.2}},\"type\":\"bar\"}],\"carpet\":[{\"aaxis\":{\"endlinecolor\":\"rgb(51,51,51)\",\"gridcolor\":\"white\",\"linecolor\":\"white\",\"minorgridcolor\":\"white\",\"startlinecolor\":\"rgb(51,51,51)\"},\"baxis\":{\"endlinecolor\":\"rgb(51,51,51)\",\"gridcolor\":\"white\",\"linecolor\":\"white\",\"minorgridcolor\":\"white\",\"startlinecolor\":\"rgb(51,51,51)\"},\"type\":\"carpet\"}],\"choropleth\":[{\"colorbar\":{\"outlinewidth\":0,\"tickcolor\":\"rgb(237,237,237)\",\"ticklen\":6,\"ticks\":\"inside\"},\"type\":\"choropleth\"}],\"contourcarpet\":[{\"colorbar\":{\"outlinewidth\":0,\"tickcolor\":\"rgb(237,237,237)\",\"ticklen\":6,\"ticks\":\"inside\"},\"type\":\"contourcarpet\"}],\"contour\":[{\"colorbar\":{\"outlinewidth\":0,\"tickcolor\":\"rgb(237,237,237)\",\"ticklen\":6,\"ticks\":\"inside\"},\"colorscale\":[[0,\"rgb(20,44,66)\"],[1,\"rgb(90,179,244)\"]],\"type\":\"contour\"}],\"heatmapgl\":[{\"colorbar\":{\"outlinewidth\":0,\"tickcolor\":\"rgb(237,237,237)\",\"ticklen\":6,\"ticks\":\"inside\"},\"colorscale\":[[0,\"rgb(20,44,66)\"],[1,\"rgb(90,179,244)\"]],\"type\":\"heatmapgl\"}],\"heatmap\":[{\"colorbar\":{\"outlinewidth\":0,\"tickcolor\":\"rgb(237,237,237)\",\"ticklen\":6,\"ticks\":\"inside\"},\"colorscale\":[[0,\"rgb(20,44,66)\"],[1,\"rgb(90,179,244)\"]],\"type\":\"heatmap\"}],\"histogram2dcontour\":[{\"colorbar\":{\"outlinewidth\":0,\"tickcolor\":\"rgb(237,237,237)\",\"ticklen\":6,\"ticks\":\"inside\"},\"colorscale\":[[0,\"rgb(20,44,66)\"],[1,\"rgb(90,179,244)\"]],\"type\":\"histogram2dcontour\"}],\"histogram2d\":[{\"colorbar\":{\"outlinewidth\":0,\"tickcolor\":\"rgb(237,237,237)\",\"ticklen\":6,\"ticks\":\"inside\"},\"colorscale\":[[0,\"rgb(20,44,66)\"],[1,\"rgb(90,179,244)\"]],\"type\":\"histogram2d\"}],\"histogram\":[{\"marker\":{\"pattern\":{\"fillmode\":\"overlay\",\"size\":10,\"solidity\":0.2}},\"type\":\"histogram\"}],\"mesh3d\":[{\"colorbar\":{\"outlinewidth\":0,\"tickcolor\":\"rgb(237,237,237)\",\"ticklen\":6,\"ticks\":\"inside\"},\"type\":\"mesh3d\"}],\"parcoords\":[{\"line\":{\"colorbar\":{\"outlinewidth\":0,\"tickcolor\":\"rgb(237,237,237)\",\"ticklen\":6,\"ticks\":\"inside\"}},\"type\":\"parcoords\"}],\"pie\":[{\"automargin\":true,\"type\":\"pie\"}],\"scatter3d\":[{\"line\":{\"colorbar\":{\"outlinewidth\":0,\"tickcolor\":\"rgb(237,237,237)\",\"ticklen\":6,\"ticks\":\"inside\"}},\"marker\":{\"colorbar\":{\"outlinewidth\":0,\"tickcolor\":\"rgb(237,237,237)\",\"ticklen\":6,\"ticks\":\"inside\"}},\"type\":\"scatter3d\"}],\"scattercarpet\":[{\"marker\":{\"colorbar\":{\"outlinewidth\":0,\"tickcolor\":\"rgb(237,237,237)\",\"ticklen\":6,\"ticks\":\"inside\"}},\"type\":\"scattercarpet\"}],\"scattergeo\":[{\"marker\":{\"colorbar\":{\"outlinewidth\":0,\"tickcolor\":\"rgb(237,237,237)\",\"ticklen\":6,\"ticks\":\"inside\"}},\"type\":\"scattergeo\"}],\"scattergl\":[{\"marker\":{\"colorbar\":{\"outlinewidth\":0,\"tickcolor\":\"rgb(237,237,237)\",\"ticklen\":6,\"ticks\":\"inside\"}},\"type\":\"scattergl\"}],\"scattermapbox\":[{\"marker\":{\"colorbar\":{\"outlinewidth\":0,\"tickcolor\":\"rgb(237,237,237)\",\"ticklen\":6,\"ticks\":\"inside\"}},\"type\":\"scattermapbox\"}],\"scatterpolargl\":[{\"marker\":{\"colorbar\":{\"outlinewidth\":0,\"tickcolor\":\"rgb(237,237,237)\",\"ticklen\":6,\"ticks\":\"inside\"}},\"type\":\"scatterpolargl\"}],\"scatterpolar\":[{\"marker\":{\"colorbar\":{\"outlinewidth\":0,\"tickcolor\":\"rgb(237,237,237)\",\"ticklen\":6,\"ticks\":\"inside\"}},\"type\":\"scatterpolar\"}],\"scatter\":[{\"marker\":{\"colorbar\":{\"outlinewidth\":0,\"tickcolor\":\"rgb(237,237,237)\",\"ticklen\":6,\"ticks\":\"inside\"}},\"type\":\"scatter\"}],\"scatterternary\":[{\"marker\":{\"colorbar\":{\"outlinewidth\":0,\"tickcolor\":\"rgb(237,237,237)\",\"ticklen\":6,\"ticks\":\"inside\"}},\"type\":\"scatterternary\"}],\"surface\":[{\"colorbar\":{\"outlinewidth\":0,\"tickcolor\":\"rgb(237,237,237)\",\"ticklen\":6,\"ticks\":\"inside\"},\"colorscale\":[[0,\"rgb(20,44,66)\"],[1,\"rgb(90,179,244)\"]],\"type\":\"surface\"}],\"table\":[{\"cells\":{\"fill\":{\"color\":\"rgb(237,237,237)\"},\"line\":{\"color\":\"white\"}},\"header\":{\"fill\":{\"color\":\"rgb(217,217,217)\"},\"line\":{\"color\":\"white\"}},\"type\":\"table\"}]},\"layout\":{\"annotationdefaults\":{\"arrowhead\":0,\"arrowwidth\":1},\"autotypenumbers\":\"strict\",\"coloraxis\":{\"colorbar\":{\"outlinewidth\":0,\"tickcolor\":\"rgb(237,237,237)\",\"ticklen\":6,\"ticks\":\"inside\"}},\"colorscale\":{\"sequential\":[[0,\"rgb(20,44,66)\"],[1,\"rgb(90,179,244)\"]],\"sequentialminus\":[[0,\"rgb(20,44,66)\"],[1,\"rgb(90,179,244)\"]]},\"colorway\":[\"#F8766D\",\"#A3A500\",\"#00BF7D\",\"#00B0F6\",\"#E76BF3\"],\"font\":{\"color\":\"rgb(51,51,51)\"},\"geo\":{\"bgcolor\":\"white\",\"lakecolor\":\"white\",\"landcolor\":\"rgb(237,237,237)\",\"showlakes\":true,\"showland\":true,\"subunitcolor\":\"white\"},\"hoverlabel\":{\"align\":\"left\"},\"hovermode\":\"closest\",\"paper_bgcolor\":\"white\",\"plot_bgcolor\":\"rgb(237,237,237)\",\"polar\":{\"angularaxis\":{\"gridcolor\":\"white\",\"linecolor\":\"white\",\"showgrid\":true,\"tickcolor\":\"rgb(51,51,51)\",\"ticks\":\"outside\"},\"bgcolor\":\"rgb(237,237,237)\",\"radialaxis\":{\"gridcolor\":\"white\",\"linecolor\":\"white\",\"showgrid\":true,\"tickcolor\":\"rgb(51,51,51)\",\"ticks\":\"outside\"}},\"scene\":{\"xaxis\":{\"backgroundcolor\":\"rgb(237,237,237)\",\"gridcolor\":\"white\",\"gridwidth\":2,\"linecolor\":\"white\",\"showbackground\":true,\"showgrid\":true,\"tickcolor\":\"rgb(51,51,51)\",\"ticks\":\"outside\",\"zerolinecolor\":\"white\"},\"yaxis\":{\"backgroundcolor\":\"rgb(237,237,237)\",\"gridcolor\":\"white\",\"gridwidth\":2,\"linecolor\":\"white\",\"showbackground\":true,\"showgrid\":true,\"tickcolor\":\"rgb(51,51,51)\",\"ticks\":\"outside\",\"zerolinecolor\":\"white\"},\"zaxis\":{\"backgroundcolor\":\"rgb(237,237,237)\",\"gridcolor\":\"white\",\"gridwidth\":2,\"linecolor\":\"white\",\"showbackground\":true,\"showgrid\":true,\"tickcolor\":\"rgb(51,51,51)\",\"ticks\":\"outside\",\"zerolinecolor\":\"white\"}},\"shapedefaults\":{\"fillcolor\":\"black\",\"line\":{\"width\":0},\"opacity\":0.3},\"ternary\":{\"aaxis\":{\"gridcolor\":\"white\",\"linecolor\":\"white\",\"showgrid\":true,\"tickcolor\":\"rgb(51,51,51)\",\"ticks\":\"outside\"},\"baxis\":{\"gridcolor\":\"white\",\"linecolor\":\"white\",\"showgrid\":true,\"tickcolor\":\"rgb(51,51,51)\",\"ticks\":\"outside\"},\"bgcolor\":\"rgb(237,237,237)\",\"caxis\":{\"gridcolor\":\"white\",\"linecolor\":\"white\",\"showgrid\":true,\"tickcolor\":\"rgb(51,51,51)\",\"ticks\":\"outside\"}},\"xaxis\":{\"automargin\":true,\"gridcolor\":\"white\",\"linecolor\":\"white\",\"showgrid\":true,\"tickcolor\":\"rgb(51,51,51)\",\"ticks\":\"outside\",\"title\":{\"standoff\":15},\"zerolinecolor\":\"white\"},\"yaxis\":{\"automargin\":true,\"gridcolor\":\"white\",\"linecolor\":\"white\",\"showgrid\":true,\"tickcolor\":\"rgb(51,51,51)\",\"ticks\":\"outside\",\"title\":{\"standoff\":15},\"zerolinecolor\":\"white\"}}},\"xaxis\":{\"anchor\":\"y\",\"domain\":[0.0,0.45],\"title\":{\"text\":\"Time\"}},\"yaxis\":{\"anchor\":\"x\",\"domain\":[0.625,1.0],\"title\":{\"text\":\"Value\"}},\"xaxis2\":{\"anchor\":\"y2\",\"domain\":[0.55,1.0],\"title\":{\"text\":\"Range of Values\"}},\"yaxis2\":{\"anchor\":\"x2\",\"domain\":[0.625,1.0],\"title\":{\"text\":\"PDF\"}},\"xaxis3\":{\"anchor\":\"y3\",\"domain\":[0.0,0.45],\"range\":[-1,42],\"title\":{\"text\":\"Lags\"}},\"yaxis3\":{\"anchor\":\"x3\",\"domain\":[0.0,0.375],\"zerolinecolor\":\"#000000\",\"title\":{\"text\":\"ACF\"}},\"xaxis4\":{\"anchor\":\"y4\",\"domain\":[0.55,1.0],\"title\":{\"text\":\"Theoretical Quantities\"}},\"yaxis4\":{\"anchor\":\"x4\",\"domain\":[0.0,0.375],\"title\":{\"text\":\"Sample Quantities\"}},\"annotations\":[{\"font\":{\"size\":16},\"showarrow\":false,\"text\":\"Time Plot\",\"x\":0.225,\"xanchor\":\"center\",\"xref\":\"paper\",\"y\":1.0,\"yanchor\":\"bottom\",\"yref\":\"paper\"},{\"font\":{\"size\":16},\"showarrow\":false,\"text\":\"Histogram Plot\",\"x\":0.775,\"xanchor\":\"center\",\"xref\":\"paper\",\"y\":1.0,\"yanchor\":\"bottom\",\"yref\":\"paper\"},{\"font\":{\"size\":16},\"showarrow\":false,\"text\":\"ACF Plot\",\"x\":0.225,\"xanchor\":\"center\",\"xref\":\"paper\",\"y\":0.375,\"yanchor\":\"bottom\",\"yref\":\"paper\"},{\"font\":{\"size\":16},\"showarrow\":false,\"text\":\"Quantile-Quantile Plot\",\"x\":0.775,\"xanchor\":\"center\",\"xref\":\"paper\",\"y\":0.375,\"yanchor\":\"bottom\",\"yref\":\"paper\"},{\"font\":{\"size\":16},\"showarrow\":false,\"text\":\"Diagnostics | 'Exponential Smoothing' Residuals\",\"x\":0.5,\"xanchor\":\"center\",\"xref\":\"paper\",\"y\":0,\"yanchor\":\"top\",\"yref\":\"paper\",\"yshift\":-30}],\"showlegend\":false},                        {\"responsive\": true}                    ).then(function(){\n",
              "                            \n",
              "var gd = document.getElementById('bc71c685-7baa-44c9-a699-926aebeec04c');\n",
              "var x = new MutationObserver(function (mutations, observer) {{\n",
              "        var display = window.getComputedStyle(gd).display;\n",
              "        if (!display || display === 'none') {{\n",
              "            console.log([gd, 'removed!']);\n",
              "            Plotly.purge(gd);\n",
              "            observer.disconnect();\n",
              "        }}\n",
              "}});\n",
              "\n",
              "// Listen for the removal of the full notebook cells\n",
              "var notebookContainer = gd.closest('#notebook-container');\n",
              "if (notebookContainer) {{\n",
              "    x.observe(notebookContainer, {childList: true});\n",
              "}}\n",
              "\n",
              "// Listen for the clearing of the current output cell\n",
              "var outputEl = gd.closest('.output');\n",
              "if (outputEl) {{\n",
              "    x.observe(outputEl, {childList: true});\n",
              "}}\n",
              "\n",
              "                        })                };                            </script>        </div>\n",
              "</body>\n",
              "</html>"
            ]
          },
          "metadata": {}
        }
      ]
    },
    {
      "cell_type": "code",
      "source": [
        ""
      ],
      "metadata": {
        "id": "rf-NlRTQAzTp"
      },
      "execution_count": null,
      "outputs": []
    }
  ]
}