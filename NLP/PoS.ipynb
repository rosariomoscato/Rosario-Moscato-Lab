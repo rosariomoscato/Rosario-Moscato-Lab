{
  "nbformat": 4,
  "nbformat_minor": 0,
  "metadata": {
    "colab": {
      "name": "PoS.ipynb",
      "provenance": []
    },
    "kernelspec": {
      "name": "python3",
      "display_name": "Python 3"
    },
    "language_info": {
      "name": "python"
    }
  },
  "cells": [
    {
      "cell_type": "markdown",
      "metadata": {
        "id": "UOSQXN4e7KYb"
      },
      "source": [
        "#Part of Speech (PoS)"
      ]
    },
    {
      "cell_type": "markdown",
      "metadata": {
        "id": "4yWfVT_c7Tkr"
      },
      "source": [
        "## NLTK"
      ]
    },
    {
      "cell_type": "code",
      "metadata": {
        "id": "fNLdofH2685F"
      },
      "source": [
        "import nltk\n",
        "\n",
        "nltk.download(\"averaged_perceptron_tagger\")"
      ],
      "execution_count": null,
      "outputs": []
    },
    {
      "cell_type": "code",
      "metadata": {
        "id": "yWT57rvY7gnX"
      },
      "source": [
        "text1 = \"Today is a great time to sudy natural language processing\""
      ],
      "execution_count": null,
      "outputs": []
    },
    {
      "cell_type": "code",
      "metadata": {
        "id": "3coPRE4v8lFa"
      },
      "source": [
        "nltk.download('punkt')"
      ],
      "execution_count": null,
      "outputs": []
    },
    {
      "cell_type": "code",
      "metadata": {
        "id": "N_J14UZQ8O4N"
      },
      "source": [
        "tokens = nltk.word_tokenize(text1)"
      ],
      "execution_count": null,
      "outputs": []
    },
    {
      "cell_type": "code",
      "metadata": {
        "id": "_q10yncC8iKa"
      },
      "source": [
        "print(tokens)"
      ],
      "execution_count": null,
      "outputs": []
    },
    {
      "cell_type": "code",
      "metadata": {
        "id": "9d6N3zT68n86"
      },
      "source": [
        "# PoS extraction\n",
        "tags = nltk.pos_tag(tokens)"
      ],
      "execution_count": null,
      "outputs": []
    },
    {
      "cell_type": "code",
      "metadata": {
        "id": "jQ-Gi9Dh842j"
      },
      "source": [
        "tags"
      ],
      "execution_count": null,
      "outputs": []
    },
    {
      "cell_type": "code",
      "metadata": {
        "id": "XRGBEw1u85k3"
      },
      "source": [
        "#PoS Tags description\n",
        "nltk.download(\"tagsets\")\n",
        "\n",
        "nltk.help.upenn_tagset()"
      ],
      "execution_count": null,
      "outputs": []
    },
    {
      "cell_type": "code",
      "metadata": {
        "id": "sjFHoOhX9V51"
      },
      "source": [
        "#list comprehension\n",
        "token_tag = [token +\"(\"+tag+\")\" for token, tag in tags]"
      ],
      "execution_count": null,
      "outputs": []
    },
    {
      "cell_type": "code",
      "metadata": {
        "id": "yoVgLXMo_0gQ"
      },
      "source": [
        "token_tag = \" \".join(token_tag)"
      ],
      "execution_count": null,
      "outputs": []
    },
    {
      "cell_type": "code",
      "metadata": {
        "id": "VpRgicy6AIqi"
      },
      "source": [
        "token_tag"
      ],
      "execution_count": null,
      "outputs": []
    },
    {
      "cell_type": "code",
      "metadata": {
        "id": "Aud0O-xbAYK5"
      },
      "source": [
        "# NLTK POS TAGGER ONLY ENGLISH for OTHER LANGUAGES SPACY"
      ],
      "execution_count": null,
      "outputs": []
    },
    {
      "cell_type": "markdown",
      "metadata": {
        "id": "wX6WClruAtGW"
      },
      "source": [
        "## Spacy"
      ]
    },
    {
      "cell_type": "code",
      "metadata": {
        "id": "A8clC7YvAsRq"
      },
      "source": [
        "import spacy"
      ],
      "execution_count": null,
      "outputs": []
    },
    {
      "cell_type": "code",
      "metadata": {
        "id": "flX8g3lMECOp"
      },
      "source": [
        "nlp = spacy.load(\"en_core_web_sm\")"
      ],
      "execution_count": null,
      "outputs": []
    },
    {
      "cell_type": "code",
      "metadata": {
        "id": "iHA_lMKxELyv"
      },
      "source": [
        "doc = nlp(text1)"
      ],
      "execution_count": null,
      "outputs": []
    },
    {
      "cell_type": "code",
      "metadata": {
        "id": "O3sLFRGzES2V"
      },
      "source": [
        "doc[0].tag_"
      ],
      "execution_count": null,
      "outputs": []
    },
    {
      "cell_type": "code",
      "metadata": {
        "id": "KbRfJF1lEhtB"
      },
      "source": [
        "doc[0].text"
      ],
      "execution_count": null,
      "outputs": []
    },
    {
      "cell_type": "code",
      "metadata": {
        "id": "czwQ_NIlEp-5"
      },
      "source": [
        "doc[0].pos_"
      ],
      "execution_count": null,
      "outputs": []
    },
    {
      "cell_type": "code",
      "metadata": {
        "id": "u40a31ZYEw8J"
      },
      "source": [
        "spacy.explain(doc[0].tag_)"
      ],
      "execution_count": null,
      "outputs": []
    },
    {
      "cell_type": "code",
      "metadata": {
        "id": "aB3O__9dFFzy"
      },
      "source": [
        "for token in doc:\n",
        "    print(token.text+\"\\t\\t\"+spacy.explain(token.tag_))"
      ],
      "execution_count": null,
      "outputs": []
    },
    {
      "cell_type": "code",
      "metadata": {
        "id": "fdZySJFyGLpl"
      },
      "source": [
        ""
      ],
      "execution_count": null,
      "outputs": []
    }
  ]
}