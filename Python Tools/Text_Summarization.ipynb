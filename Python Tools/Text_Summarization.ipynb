{
  "nbformat": 4,
  "nbformat_minor": 0,
  "metadata": {
    "accelerator": "GPU",
    "colab": {
      "name": "Text_Summarization.ipynb",
      "provenance": [],
      "collapsed_sections": [
        "wggUzUbX_9fE"
      ]
    },
    "kernelspec": {
      "display_name": "Python 3",
      "language": "python",
      "name": "python3"
    },
    "language_info": {
      "codemirror_mode": {
        "name": "ipython",
        "version": 3
      },
      "file_extension": ".py",
      "mimetype": "text/x-python",
      "name": "python",
      "nbconvert_exporter": "python",
      "pygments_lexer": "ipython3",
      "version": "3.8.5"
    }
  },
  "cells": [
    {
      "cell_type": "markdown",
      "metadata": {
        "id": "HR9ePa-JtJWs"
      },
      "source": [
        "# Text Summarization"
      ]
    },
    {
      "cell_type": "markdown",
      "metadata": {
        "id": "otLZu0zJ_9bl"
      },
      "source": [
        "Text summarization is the process of finding the most important information from a document to produce a short version with all the important ideas.\n",
        "+ The Idea of summarization is to find a **subset of data which contains the “information” of the entire set**."
      ]
    },
    {
      "cell_type": "markdown",
      "metadata": {
        "id": "piMVRWpb_9bo"
      },
      "source": [
        "#### Types of Summarization Approaches\n",
        "- **Extractive**\n",
        "- **Abstractive**"
      ]
    },
    {
      "cell_type": "code",
      "metadata": {
        "id": "0f83xddmAWY4",
        "colab": {
          "base_uri": "https://localhost:8080/"
        },
        "outputId": "df40fd2e-e045-4475-c825-0447cd40222e"
      },
      "source": [
        "!pip install sumy summa lexrank spacy nltk gensim"
      ],
      "execution_count": 1,
      "outputs": [
        {
          "output_type": "stream",
          "text": [
            "Requirement already satisfied: sumy in /usr/local/lib/python3.7/dist-packages (0.8.1)\n",
            "Requirement already satisfied: summa in /usr/local/lib/python3.7/dist-packages (1.2.0)\n",
            "Requirement already satisfied: lexrank in /usr/local/lib/python3.7/dist-packages (0.1.0)\n",
            "Requirement already satisfied: spacy in /usr/local/lib/python3.7/dist-packages (2.2.4)\n",
            "Requirement already satisfied: nltk in /usr/local/lib/python3.7/dist-packages (3.2.5)\n",
            "Requirement already satisfied: gensim in /usr/local/lib/python3.7/dist-packages (3.6.0)\n",
            "Requirement already satisfied: breadability>=0.1.20 in /usr/local/lib/python3.7/dist-packages (from sumy) (0.1.20)\n",
            "Requirement already satisfied: pycountry>=18.2.23 in /usr/local/lib/python3.7/dist-packages (from sumy) (20.7.3)\n",
            "Requirement already satisfied: requests>=2.7.0 in /usr/local/lib/python3.7/dist-packages (from sumy) (2.23.0)\n",
            "Requirement already satisfied: docopt<0.7,>=0.6.1 in /usr/local/lib/python3.7/dist-packages (from sumy) (0.6.2)\n",
            "Requirement already satisfied: scipy>=0.19 in /usr/local/lib/python3.7/dist-packages (from summa) (1.4.1)\n",
            "Requirement already satisfied: path.py>=10.5 in /usr/local/lib/python3.7/dist-packages (from lexrank) (12.5.0)\n",
            "Requirement already satisfied: pyrsistent>=0.14.0 in /usr/local/lib/python3.7/dist-packages (from lexrank) (0.17.3)\n",
            "Requirement already satisfied: regex>=2017.11.9 in /usr/local/lib/python3.7/dist-packages (from lexrank) (2019.12.20)\n",
            "Requirement already satisfied: numpy>=1.13.3 in /usr/local/lib/python3.7/dist-packages (from lexrank) (1.19.5)\n",
            "Requirement already satisfied: urlextract>=0.7 in /usr/local/lib/python3.7/dist-packages (from lexrank) (1.2.0)\n",
            "Requirement already satisfied: thinc==7.4.0 in /usr/local/lib/python3.7/dist-packages (from spacy) (7.4.0)\n",
            "Requirement already satisfied: srsly<1.1.0,>=1.0.2 in /usr/local/lib/python3.7/dist-packages (from spacy) (1.0.5)\n",
            "Requirement already satisfied: catalogue<1.1.0,>=0.0.7 in /usr/local/lib/python3.7/dist-packages (from spacy) (1.0.0)\n",
            "Requirement already satisfied: wasabi<1.1.0,>=0.4.0 in /usr/local/lib/python3.7/dist-packages (from spacy) (0.8.2)\n",
            "Requirement already satisfied: blis<0.5.0,>=0.4.0 in /usr/local/lib/python3.7/dist-packages (from spacy) (0.4.1)\n",
            "Requirement already satisfied: preshed<3.1.0,>=3.0.2 in /usr/local/lib/python3.7/dist-packages (from spacy) (3.0.5)\n",
            "Requirement already satisfied: murmurhash<1.1.0,>=0.28.0 in /usr/local/lib/python3.7/dist-packages (from spacy) (1.0.5)\n",
            "Requirement already satisfied: cymem<2.1.0,>=2.0.2 in /usr/local/lib/python3.7/dist-packages (from spacy) (2.0.5)\n",
            "Requirement already satisfied: setuptools in /usr/local/lib/python3.7/dist-packages (from spacy) (54.2.0)\n",
            "Requirement already satisfied: plac<1.2.0,>=0.9.6 in /usr/local/lib/python3.7/dist-packages (from spacy) (1.1.3)\n",
            "Requirement already satisfied: tqdm<5.0.0,>=4.38.0 in /usr/local/lib/python3.7/dist-packages (from spacy) (4.41.1)\n",
            "Requirement already satisfied: six in /usr/local/lib/python3.7/dist-packages (from nltk) (1.15.0)\n",
            "Requirement already satisfied: smart-open>=1.2.1 in /usr/local/lib/python3.7/dist-packages (from gensim) (4.2.0)\n",
            "Requirement already satisfied: chardet in /usr/local/lib/python3.7/dist-packages (from breadability>=0.1.20->sumy) (3.0.4)\n",
            "Requirement already satisfied: lxml>=2.0 in /usr/local/lib/python3.7/dist-packages (from breadability>=0.1.20->sumy) (4.2.6)\n",
            "Requirement already satisfied: idna<3,>=2.5 in /usr/local/lib/python3.7/dist-packages (from requests>=2.7.0->sumy) (2.10)\n",
            "Requirement already satisfied: certifi>=2017.4.17 in /usr/local/lib/python3.7/dist-packages (from requests>=2.7.0->sumy) (2020.12.5)\n",
            "Requirement already satisfied: urllib3!=1.25.0,!=1.25.1,<1.26,>=1.21.1 in /usr/local/lib/python3.7/dist-packages (from requests>=2.7.0->sumy) (1.24.3)\n",
            "Requirement already satisfied: path in /usr/local/lib/python3.7/dist-packages (from path.py>=10.5->lexrank) (15.1.2)\n",
            "Requirement already satisfied: appdirs in /usr/local/lib/python3.7/dist-packages (from urlextract>=0.7->lexrank) (1.4.4)\n",
            "Requirement already satisfied: uritools in /usr/local/lib/python3.7/dist-packages (from urlextract>=0.7->lexrank) (3.0.1)\n",
            "Requirement already satisfied: filelock in /usr/local/lib/python3.7/dist-packages (from urlextract>=0.7->lexrank) (3.0.12)\n",
            "Requirement already satisfied: importlib-metadata>=0.20; python_version < \"3.8\" in /usr/local/lib/python3.7/dist-packages (from catalogue<1.1.0,>=0.0.7->spacy) (3.8.1)\n",
            "Requirement already satisfied: zipp>=0.5 in /usr/local/lib/python3.7/dist-packages (from importlib-metadata>=0.20; python_version < \"3.8\"->catalogue<1.1.0,>=0.0.7->spacy) (3.4.1)\n",
            "Requirement already satisfied: typing-extensions>=3.6.4; python_version < \"3.8\" in /usr/local/lib/python3.7/dist-packages (from importlib-metadata>=0.20; python_version < \"3.8\"->catalogue<1.1.0,>=0.0.7->spacy) (3.7.4.3)\n"
          ],
          "name": "stdout"
        }
      ]
    },
    {
      "cell_type": "markdown",
      "metadata": {
        "id": "m5bDSXFJ_9bv"
      },
      "source": [
        "## 1) Extractive Summarization"
      ]
    },
    {
      "cell_type": "code",
      "metadata": {
        "id": "5efaea0O_9bx"
      },
      "source": [
        "docx = \"\"\"Machine learning (ML) is the study of computer algorithms that improve automatically through experience and by the use of data. \n",
        "It is seen as a part of artificial intelligence. Machine learning algorithms build a model based on sample data, known as \"training data\", \n",
        "in order to make predictions or decisions without being explicitly programmed to do so. \n",
        "Machine learning algorithms are used in a wide variety of applications, such as email filtering and computer vision, where it is difficult or \n",
        "unfeasible to develop conventional algorithms to perform the needed tasks.\n",
        "A subset of machine learning is closely related to computational statistics, which focuses on making predictions using computers; \n",
        "but not all machine learning is statistical learning. The study of mathematical optimization delivers methods, theory and application domains \n",
        "to the field of machine learning. Data mining is a related field of study, focusing on exploratory data analysis through unsupervised learning. \n",
        "In its application across business problems, machine learning is also referred to as predictive analytics.\"\"\""
      ],
      "execution_count": 2,
      "outputs": []
    },
    {
      "cell_type": "markdown",
      "metadata": {
        "id": "6hRiX2bk_9cD"
      },
      "source": [
        "### Using Sumy\n",
        "+ Steps\n",
        "    - parser\n",
        "    - tokenizer\n",
        "    - algorithm"
      ]
    },
    {
      "cell_type": "code",
      "metadata": {
        "id": "bxIVxK0u_9cF"
      },
      "source": [
        "# Load Our Pkgs\n",
        "import sumy"
      ],
      "execution_count": 3,
      "outputs": []
    },
    {
      "cell_type": "code",
      "metadata": {
        "id": "mPpL8gvH_9cZ"
      },
      "source": [
        "# Load Pkgs\n",
        "from sumy.parsers.plaintext import PlaintextParser\n",
        "from sumy.nlp.tokenizers import Tokenizer"
      ],
      "execution_count": 4,
      "outputs": []
    },
    {
      "cell_type": "code",
      "metadata": {
        "colab": {
          "base_uri": "https://localhost:8080/"
        },
        "id": "Y7UDjLu6_9cm",
        "outputId": "1feba572-1993-462f-9b3e-5e46cd577f37"
      },
      "source": [
        "print(docx)"
      ],
      "execution_count": 5,
      "outputs": [
        {
          "output_type": "stream",
          "text": [
            "Machine learning (ML) is the study of computer algorithms that improve automatically through experience and by the use of data. \n",
            "It is seen as a part of artificial intelligence. Machine learning algorithms build a model based on sample data, known as \"training data\", \n",
            "in order to make predictions or decisions without being explicitly programmed to do so. \n",
            "Machine learning algorithms are used in a wide variety of applications, such as email filtering and computer vision, where it is difficult or \n",
            "unfeasible to develop conventional algorithms to perform the needed tasks.\n",
            "A subset of machine learning is closely related to computational statistics, which focuses on making predictions using computers; \n",
            "but not all machine learning is statistical learning. The study of mathematical optimization delivers methods, theory and application domains \n",
            "to the field of machine learning. Data mining is a related field of study, focusing on exploratory data analysis through unsupervised learning. \n",
            "In its application across business problems, machine learning is also referred to as predictive analytics.\n"
          ],
          "name": "stdout"
        }
      ]
    },
    {
      "cell_type": "code",
      "metadata": {
        "colab": {
          "base_uri": "https://localhost:8080/"
        },
        "id": "JHtt_C2v_9cx",
        "outputId": "8453c30d-9c45-4c87-f6bb-1aa581debc22"
      },
      "source": [
        "# Parsing From String\n",
        "import nltk\n",
        "nltk.download('punkt')\n",
        "parser = PlaintextParser.from_string(docx,Tokenizer(\"english\"))"
      ],
      "execution_count": 6,
      "outputs": [
        {
          "output_type": "stream",
          "text": [
            "[nltk_data] Downloading package punkt to /root/nltk_data...\n",
            "[nltk_data]   Package punkt is already up-to-date!\n"
          ],
          "name": "stdout"
        }
      ]
    },
    {
      "cell_type": "code",
      "metadata": {
        "colab": {
          "base_uri": "https://localhost:8080/"
        },
        "id": "9GHGWuYr_9c4",
        "outputId": "415799e3-663a-4e30-d2ea-71fbd31fbe70"
      },
      "source": [
        "# Get The Text\n",
        "parser.document"
      ],
      "execution_count": 7,
      "outputs": [
        {
          "output_type": "execute_result",
          "data": {
            "text/plain": [
              "<DOM with 1 paragraphs>"
            ]
          },
          "metadata": {
            "tags": []
          },
          "execution_count": 7
        }
      ]
    },
    {
      "cell_type": "code",
      "metadata": {
        "colab": {
          "base_uri": "https://localhost:8080/"
        },
        "id": "UnDiqyJ4_9c_",
        "outputId": "c8556598-e361-445e-d716-82c735039166"
      },
      "source": [
        "# Get The Sentence Text\n",
        "parser.document.sentences"
      ],
      "execution_count": 8,
      "outputs": [
        {
          "output_type": "execute_result",
          "data": {
            "text/plain": [
              "(<Sentence: Machine learning (ML) is the study of computer algorithms that improve automatically through experience and by the use of data.>,\n",
              " <Sentence: It is seen as a part of artificial intelligence.>,\n",
              " <Sentence: Machine learning algorithms build a model based on sample data, known as \"training data\", in order to make predictions or decisions without being explicitly programmed to do so.>,\n",
              " <Sentence: Machine learning algorithms are used in a wide variety of applications, such as email filtering and computer vision, where it is difficult or unfeasible to develop conventional algorithms to perform the needed tasks.>,\n",
              " <Sentence: A subset of machine learning is closely related to computational statistics, which focuses on making predictions using computers; but not all machine learning is statistical learning.>,\n",
              " <Sentence: The study of mathematical optimization delivers methods, theory and application domains to the field of machine learning.>,\n",
              " <Sentence: Data mining is a related field of study, focusing on exploratory data analysis through unsupervised learning.>,\n",
              " <Sentence: In its application across business problems, machine learning is also referred to as predictive analytics.>)"
            ]
          },
          "metadata": {
            "tags": []
          },
          "execution_count": 8
        }
      ]
    },
    {
      "cell_type": "code",
      "metadata": {
        "id": "jHX4HuH0_9dH",
        "colab": {
          "base_uri": "https://localhost:8080/"
        },
        "outputId": "d8f855be-ee39-4989-ec9f-4c534e5b2025"
      },
      "source": [
        "# Get Word Tokens\n",
        "parser.document.words"
      ],
      "execution_count": 9,
      "outputs": [
        {
          "output_type": "execute_result",
          "data": {
            "text/plain": [
              "('Machine',\n",
              " 'learning',\n",
              " 'ML',\n",
              " 'is',\n",
              " 'the',\n",
              " 'study',\n",
              " 'of',\n",
              " 'computer',\n",
              " 'algorithms',\n",
              " 'that',\n",
              " 'improve',\n",
              " 'automatically',\n",
              " 'through',\n",
              " 'experience',\n",
              " 'and',\n",
              " 'by',\n",
              " 'the',\n",
              " 'use',\n",
              " 'of',\n",
              " 'data',\n",
              " 'It',\n",
              " 'is',\n",
              " 'seen',\n",
              " 'as',\n",
              " 'a',\n",
              " 'part',\n",
              " 'of',\n",
              " 'artificial',\n",
              " 'intelligence',\n",
              " 'Machine',\n",
              " 'learning',\n",
              " 'algorithms',\n",
              " 'build',\n",
              " 'a',\n",
              " 'model',\n",
              " 'based',\n",
              " 'on',\n",
              " 'sample',\n",
              " 'data',\n",
              " 'known',\n",
              " 'as',\n",
              " 'training',\n",
              " 'data',\n",
              " 'in',\n",
              " 'order',\n",
              " 'to',\n",
              " 'make',\n",
              " 'predictions',\n",
              " 'or',\n",
              " 'decisions',\n",
              " 'without',\n",
              " 'being',\n",
              " 'explicitly',\n",
              " 'programmed',\n",
              " 'to',\n",
              " 'do',\n",
              " 'so',\n",
              " 'Machine',\n",
              " 'learning',\n",
              " 'algorithms',\n",
              " 'are',\n",
              " 'used',\n",
              " 'in',\n",
              " 'a',\n",
              " 'wide',\n",
              " 'variety',\n",
              " 'of',\n",
              " 'applications',\n",
              " 'such',\n",
              " 'as',\n",
              " 'email',\n",
              " 'filtering',\n",
              " 'and',\n",
              " 'computer',\n",
              " 'vision',\n",
              " 'where',\n",
              " 'it',\n",
              " 'is',\n",
              " 'difficult',\n",
              " 'or',\n",
              " 'unfeasible',\n",
              " 'to',\n",
              " 'develop',\n",
              " 'conventional',\n",
              " 'algorithms',\n",
              " 'to',\n",
              " 'perform',\n",
              " 'the',\n",
              " 'needed',\n",
              " 'tasks',\n",
              " 'A',\n",
              " 'subset',\n",
              " 'of',\n",
              " 'machine',\n",
              " 'learning',\n",
              " 'is',\n",
              " 'closely',\n",
              " 'related',\n",
              " 'to',\n",
              " 'computational',\n",
              " 'statistics',\n",
              " 'which',\n",
              " 'focuses',\n",
              " 'on',\n",
              " 'making',\n",
              " 'predictions',\n",
              " 'using',\n",
              " 'computers',\n",
              " 'but',\n",
              " 'not',\n",
              " 'all',\n",
              " 'machine',\n",
              " 'learning',\n",
              " 'is',\n",
              " 'statistical',\n",
              " 'learning',\n",
              " 'The',\n",
              " 'study',\n",
              " 'of',\n",
              " 'mathematical',\n",
              " 'optimization',\n",
              " 'delivers',\n",
              " 'methods',\n",
              " 'theory',\n",
              " 'and',\n",
              " 'application',\n",
              " 'domains',\n",
              " 'to',\n",
              " 'the',\n",
              " 'field',\n",
              " 'of',\n",
              " 'machine',\n",
              " 'learning',\n",
              " 'Data',\n",
              " 'mining',\n",
              " 'is',\n",
              " 'a',\n",
              " 'related',\n",
              " 'field',\n",
              " 'of',\n",
              " 'study',\n",
              " 'focusing',\n",
              " 'on',\n",
              " 'exploratory',\n",
              " 'data',\n",
              " 'analysis',\n",
              " 'through',\n",
              " 'unsupervised',\n",
              " 'learning',\n",
              " 'In',\n",
              " 'its',\n",
              " 'application',\n",
              " 'across',\n",
              " 'business',\n",
              " 'problems',\n",
              " 'machine',\n",
              " 'learning',\n",
              " 'is',\n",
              " 'also',\n",
              " 'referred',\n",
              " 'to',\n",
              " 'as',\n",
              " 'predictive',\n",
              " 'analytics')"
            ]
          },
          "metadata": {
            "tags": []
          },
          "execution_count": 9
        }
      ]
    },
    {
      "cell_type": "code",
      "metadata": {
        "id": "9DflxV7d_9dP"
      },
      "source": [
        "# Parsing From File\n",
        "# Mounting Colab Drive\n",
        "from google.colab import drive\n",
        "drive.mount(\"/content/drive\")"
      ],
      "execution_count": null,
      "outputs": []
    },
    {
      "cell_type": "code",
      "metadata": {
        "id": "cOOmt4KKBKKe"
      },
      "source": [
        "# Parsing From File\n",
        "parser_file = PlaintextParser.from_file(\"/content/drive/My Drive/Colab Notebooks/Summarization/example.txt\",Tokenizer(\"english\"))"
      ],
      "execution_count": null,
      "outputs": []
    },
    {
      "cell_type": "code",
      "metadata": {
        "id": "yjTx_meW_9dY"
      },
      "source": [
        "parser_file.document"
      ],
      "execution_count": null,
      "outputs": []
    },
    {
      "cell_type": "markdown",
      "metadata": {
        "id": "X6kC3v_5_9di"
      },
      "source": [
        "## 1.1)  **Word Frequency Based**"
      ]
    },
    {
      "cell_type": "markdown",
      "metadata": {
        "id": "HrjGvc05_9dk"
      },
      "source": [
        "### **Using Luhn** (in Sumy)\n",
        "+ Based on frequency of most important words"
      ]
    },
    {
      "cell_type": "code",
      "metadata": {
        "id": "xhV-HK0k_9dm"
      },
      "source": [
        "from sumy.summarizers.luhn import LuhnSummarizer"
      ],
      "execution_count": 10,
      "outputs": []
    },
    {
      "cell_type": "code",
      "metadata": {
        "id": "-YzKhuwz_9ds"
      },
      "source": [
        "luhn_summarizer = LuhnSummarizer()\n",
        "summary_1 = luhn_summarizer(parser.document,2) # 2 =  number of sentences we want"
      ],
      "execution_count": 17,
      "outputs": []
    },
    {
      "cell_type": "code",
      "metadata": {
        "colab": {
          "base_uri": "https://localhost:8080/"
        },
        "id": "a2ambodp_9d1",
        "outputId": "87a559a8-9002-4417-fb0e-7c025272da3c"
      },
      "source": [
        "print(summary_1)"
      ],
      "execution_count": 18,
      "outputs": [
        {
          "output_type": "stream",
          "text": [
            "(<Sentence: Machine learning (ML) is the study of computer algorithms that improve automatically through experience and by the use of data.>, <Sentence: Machine learning algorithms are used in a wide variety of applications, such as email filtering and computer vision, where it is difficult or unfeasible to develop conventional algorithms to perform the needed tasks.>)\n"
          ],
          "name": "stdout"
        }
      ]
    },
    {
      "cell_type": "code",
      "metadata": {
        "colab": {
          "base_uri": "https://localhost:8080/"
        },
        "id": "vdoTWZzq_9d9",
        "outputId": "e0087c65-3550-478d-e70b-6ef3a9726384"
      },
      "source": [
        "for sentence in summary_1:\n",
        "    print(sentence)"
      ],
      "execution_count": 19,
      "outputs": [
        {
          "output_type": "stream",
          "text": [
            "Machine learning (ML) is the study of computer algorithms that improve automatically through experience and by the use of data.\n",
            "Machine learning algorithms are used in a wide variety of applications, such as email filtering and computer vision, where it is difficult or unfeasible to develop conventional algorithms to perform the needed tasks.\n"
          ],
          "name": "stdout"
        }
      ]
    },
    {
      "cell_type": "markdown",
      "metadata": {
        "id": "bVVqxEH-_9eD"
      },
      "source": [
        "### **Using LSA (Latent Semantic Analysis)** in Sumy\n",
        "+ Based on term frequency techniques with **Singular Value Decomposition** (SVD) to summarize texts."
      ]
    },
    {
      "cell_type": "code",
      "metadata": {
        "id": "WjVCvEjU_9eF"
      },
      "source": [
        "# Load Our Pkgs\n",
        "from sumy.summarizers.lsa import LsaSummarizer"
      ],
      "execution_count": 20,
      "outputs": []
    },
    {
      "cell_type": "code",
      "metadata": {
        "id": "6EgiU2GS_9eJ"
      },
      "source": [
        "lsa_summarizer = LsaSummarizer()"
      ],
      "execution_count": 21,
      "outputs": []
    },
    {
      "cell_type": "code",
      "metadata": {
        "id": "C3eGk4YA_9eP"
      },
      "source": [
        "summary_2 = lsa_summarizer(parser.document,2)"
      ],
      "execution_count": 22,
      "outputs": []
    },
    {
      "cell_type": "code",
      "metadata": {
        "colab": {
          "base_uri": "https://localhost:8080/"
        },
        "id": "bpH1NjJz_9eV",
        "outputId": "53120454-ac99-4853-df3c-f841c87b3327"
      },
      "source": [
        "for sentence in summary_2:\n",
        "    print(sentence)"
      ],
      "execution_count": 23,
      "outputs": [
        {
          "output_type": "stream",
          "text": [
            "Machine learning algorithms are used in a wide variety of applications, such as email filtering and computer vision, where it is difficult or unfeasible to develop conventional algorithms to perform the needed tasks.\n",
            "In its application across business problems, machine learning is also referred to as predictive analytics.\n"
          ],
          "name": "stdout"
        }
      ]
    },
    {
      "cell_type": "code",
      "metadata": {
        "id": "OFWBjGkp_9ec"
      },
      "source": [
        "# Alternative Method using stopwords\n",
        "from sumy.nlp.stemmers import Stemmer\n",
        "from sumy.utils import get_stop_words\n",
        "summarizer_lsa2 = LsaSummarizer()\n",
        "summarizer_lsa2 = LsaSummarizer(Stemmer(\"english\"))\n",
        "summarizer_lsa2.stop_words = get_stop_words(\"english\")"
      ],
      "execution_count": 24,
      "outputs": []
    },
    {
      "cell_type": "code",
      "metadata": {
        "colab": {
          "base_uri": "https://localhost:8080/"
        },
        "id": "yTT9mdPk_9ej",
        "outputId": "49a9a376-e63b-44e3-9818-d6fbd4776756"
      },
      "source": [
        "for summary in summarizer_lsa2(parser.document,2):\n",
        "    print(summary)"
      ],
      "execution_count": 25,
      "outputs": [
        {
          "output_type": "stream",
          "text": [
            "Machine learning (ML) is the study of computer algorithms that improve automatically through experience and by the use of data.\n",
            "The study of mathematical optimization delivers methods, theory and application domains to the field of machine learning.\n"
          ],
          "name": "stdout"
        }
      ]
    },
    {
      "cell_type": "markdown",
      "metadata": {
        "id": "5HuzxSZD_9er"
      },
      "source": [
        "## 1.2) **Graph-Based Algorithms**\n",
        "+ **TextRank**\n",
        "+ **LexRank**"
      ]
    },
    {
      "cell_type": "markdown",
      "metadata": {
        "id": "afRpLZDM_9es"
      },
      "source": [
        "### **Using LexRank** (in Sumy)\n",
        "+ It is **unsupervised approach** to text summarization based on graph-based centrality scoring of sentences.\n",
        "+ The main idea is that sentences \"recommend\" other similar sentences to the reader. Thus, if one sentence is very similar to many others, it will likely be a sentence of great importance\n",
        "+ LexRank uses degrees of similarity between words and phrases and computes the centrality of the sentences to assign weights\n",
        "\n"
      ]
    },
    {
      "cell_type": "code",
      "metadata": {
        "id": "m0FJurpE_9eu"
      },
      "source": [
        "# Using Sumy Lexrank\n",
        "from sumy.summarizers.lex_rank import LexRankSummarizer"
      ],
      "execution_count": 26,
      "outputs": []
    },
    {
      "cell_type": "code",
      "metadata": {
        "id": "IYk3-amR_9ez"
      },
      "source": [
        "lex_summarizer = LexRankSummarizer()"
      ],
      "execution_count": 27,
      "outputs": []
    },
    {
      "cell_type": "code",
      "metadata": {
        "id": "COYk9DHD_9e4"
      },
      "source": [
        "summary_3 = lex_summarizer(parser.document,2)"
      ],
      "execution_count": 28,
      "outputs": []
    },
    {
      "cell_type": "code",
      "metadata": {
        "colab": {
          "base_uri": "https://localhost:8080/"
        },
        "id": "aF9k_C8H_9e-",
        "outputId": "1bec893a-3c4b-40fc-f7c3-b0f56bb86632"
      },
      "source": [
        "for summary in summary_3:\n",
        "    print(summary)"
      ],
      "execution_count": 29,
      "outputs": [
        {
          "output_type": "stream",
          "text": [
            "Machine learning (ML) is the study of computer algorithms that improve automatically through experience and by the use of data.\n",
            "Data mining is a related field of study, focusing on exploratory data analysis through unsupervised learning.\n"
          ],
          "name": "stdout"
        }
      ]
    },
    {
      "cell_type": "markdown",
      "metadata": {
        "id": "wggUzUbX_9fE"
      },
      "source": [
        "### **Using TextRank**\n",
        "+ TextRank – is a graph-based ranking model for text processing which can be used in order to find the most relevant sentences in text and also to find keywords.\n"
      ]
    },
    {
      "cell_type": "markdown",
      "metadata": {
        "id": "7nH2dwtR_9fF"
      },
      "source": [
        "### Using Sumy with TextRank"
      ]
    },
    {
      "cell_type": "code",
      "metadata": {
        "id": "OclKLkx3_9fF"
      },
      "source": [
        "from sumy.summarizers.text_rank import TextRankSummarizer"
      ],
      "execution_count": 30,
      "outputs": []
    },
    {
      "cell_type": "code",
      "metadata": {
        "id": "PdZUKJle_9fL"
      },
      "source": [
        "txtRank = TextRankSummarizer()"
      ],
      "execution_count": 31,
      "outputs": []
    },
    {
      "cell_type": "code",
      "metadata": {
        "id": "1s7F5ECL_9fO"
      },
      "source": [
        "summary_4 = txtRank(parser.document,2)"
      ],
      "execution_count": 32,
      "outputs": []
    },
    {
      "cell_type": "code",
      "metadata": {
        "colab": {
          "base_uri": "https://localhost:8080/"
        },
        "id": "CfFEyQXu_9fV",
        "outputId": "742ae2b7-cd23-416c-bb7e-07ccb61f7820"
      },
      "source": [
        "for summary in summary_4:\n",
        "    print(summary)"
      ],
      "execution_count": 33,
      "outputs": [
        {
          "output_type": "stream",
          "text": [
            "Machine learning algorithms are used in a wide variety of applications, such as email filtering and computer vision, where it is difficult or unfeasible to develop conventional algorithms to perform the needed tasks.\n",
            "A subset of machine learning is closely related to computational statistics, which focuses on making predictions using computers; but not all machine learning is statistical learning.\n"
          ],
          "name": "stdout"
        }
      ]
    },
    {
      "cell_type": "markdown",
      "metadata": {
        "id": "xId-2Xvp_9fZ"
      },
      "source": [
        "### Using Gensim "
      ]
    },
    {
      "cell_type": "code",
      "metadata": {
        "id": "XX22dCQb_9fa"
      },
      "source": [
        "# Using Gensim\n",
        "from gensim.summarization.summarizer import summarize"
      ],
      "execution_count": 34,
      "outputs": []
    },
    {
      "cell_type": "code",
      "metadata": {
        "colab": {
          "base_uri": "https://localhost:8080/",
          "height": 53
        },
        "id": "cMGXUzQA_9fe",
        "outputId": "50df45bb-da32-47c9-f510-0b8138235ccf"
      },
      "source": [
        "summarize(docx)"
      ],
      "execution_count": 35,
      "outputs": [
        {
          "output_type": "execute_result",
          "data": {
            "application/vnd.google.colaboratory.intrinsic+json": {
              "type": "string"
            },
            "text/plain": [
              "'A subset of machine learning is closely related to computational statistics, which focuses on making predictions using computers; \\nIn its application across business problems, machine learning is also referred to as predictive analytics.'"
            ]
          },
          "metadata": {
            "tags": []
          },
          "execution_count": 35
        }
      ]
    },
    {
      "cell_type": "markdown",
      "metadata": {
        "id": "_jzU44KD_9fi"
      },
      "source": [
        "## Using Summa"
      ]
    },
    {
      "cell_type": "code",
      "metadata": {
        "id": "-PEQZMQt_9fj"
      },
      "source": [
        "# Using Summa\n",
        "from summa import summarizer"
      ],
      "execution_count": 36,
      "outputs": []
    },
    {
      "cell_type": "code",
      "metadata": {
        "colab": {
          "base_uri": "https://localhost:8080/",
          "height": 53
        },
        "id": "eU97eObI_9fp",
        "outputId": "8d93f9f1-59aa-47d5-a521-6c46e56e6c2d"
      },
      "source": [
        "summarizer.summarize(docx)"
      ],
      "execution_count": 37,
      "outputs": [
        {
          "output_type": "execute_result",
          "data": {
            "application/vnd.google.colaboratory.intrinsic+json": {
              "type": "string"
            },
            "text/plain": [
              "'Machine learning (ML) is the study of computer algorithms that improve automatically through experience and by the use of data.\\nA subset of machine learning is closely related to computational statistics, which focuses on making predictions using computers; '"
            ]
          },
          "metadata": {
            "tags": []
          },
          "execution_count": 37
        }
      ]
    },
    {
      "cell_type": "markdown",
      "metadata": {
        "id": "BsQXqrtV_9gO"
      },
      "source": [
        "## 2) Abstractive Summarization (with prebuilt **Transformers** provided by **Hugging Face**)\n",
        "!pip install transformers"
      ]
    },
    {
      "cell_type": "code",
      "metadata": {
        "id": "PiPyWlCgB28z",
        "colab": {
          "base_uri": "https://localhost:8080/"
        },
        "outputId": "1a2df9fc-cfb1-43f1-dbbd-72785ef59c16"
      },
      "source": [
        "!pip install transformers"
      ],
      "execution_count": 38,
      "outputs": [
        {
          "output_type": "stream",
          "text": [
            "Requirement already satisfied: transformers in /usr/local/lib/python3.7/dist-packages (4.4.2)\n",
            "Requirement already satisfied: filelock in /usr/local/lib/python3.7/dist-packages (from transformers) (3.0.12)\n",
            "Requirement already satisfied: regex!=2019.12.17 in /usr/local/lib/python3.7/dist-packages (from transformers) (2019.12.20)\n",
            "Requirement already satisfied: tokenizers<0.11,>=0.10.1 in /usr/local/lib/python3.7/dist-packages (from transformers) (0.10.1)\n",
            "Requirement already satisfied: importlib-metadata; python_version < \"3.8\" in /usr/local/lib/python3.7/dist-packages (from transformers) (3.8.1)\n",
            "Requirement already satisfied: sacremoses in /usr/local/lib/python3.7/dist-packages (from transformers) (0.0.43)\n",
            "Requirement already satisfied: tqdm>=4.27 in /usr/local/lib/python3.7/dist-packages (from transformers) (4.41.1)\n",
            "Requirement already satisfied: requests in /usr/local/lib/python3.7/dist-packages (from transformers) (2.23.0)\n",
            "Requirement already satisfied: numpy>=1.17 in /usr/local/lib/python3.7/dist-packages (from transformers) (1.19.5)\n",
            "Requirement already satisfied: packaging in /usr/local/lib/python3.7/dist-packages (from transformers) (20.9)\n",
            "Requirement already satisfied: zipp>=0.5 in /usr/local/lib/python3.7/dist-packages (from importlib-metadata; python_version < \"3.8\"->transformers) (3.4.1)\n",
            "Requirement already satisfied: typing-extensions>=3.6.4; python_version < \"3.8\" in /usr/local/lib/python3.7/dist-packages (from importlib-metadata; python_version < \"3.8\"->transformers) (3.7.4.3)\n",
            "Requirement already satisfied: click in /usr/local/lib/python3.7/dist-packages (from sacremoses->transformers) (7.1.2)\n",
            "Requirement already satisfied: six in /usr/local/lib/python3.7/dist-packages (from sacremoses->transformers) (1.15.0)\n",
            "Requirement already satisfied: joblib in /usr/local/lib/python3.7/dist-packages (from sacremoses->transformers) (1.0.1)\n",
            "Requirement already satisfied: chardet<4,>=3.0.2 in /usr/local/lib/python3.7/dist-packages (from requests->transformers) (3.0.4)\n",
            "Requirement already satisfied: certifi>=2017.4.17 in /usr/local/lib/python3.7/dist-packages (from requests->transformers) (2020.12.5)\n",
            "Requirement already satisfied: idna<3,>=2.5 in /usr/local/lib/python3.7/dist-packages (from requests->transformers) (2.10)\n",
            "Requirement already satisfied: urllib3!=1.25.0,!=1.25.1,<1.26,>=1.21.1 in /usr/local/lib/python3.7/dist-packages (from requests->transformers) (1.24.3)\n",
            "Requirement already satisfied: pyparsing>=2.0.2 in /usr/local/lib/python3.7/dist-packages (from packaging->transformers) (2.4.7)\n"
          ],
          "name": "stdout"
        }
      ]
    },
    {
      "cell_type": "markdown",
      "metadata": {
        "id": "yFOSF5jY_9gT"
      },
      "source": [
        "### 2.1) Fetch our data by Wikipedia Pkg\n",
        "!pip install wikipedia"
      ]
    },
    {
      "cell_type": "code",
      "metadata": {
        "id": "ZeT4y1msB-IL",
        "colab": {
          "base_uri": "https://localhost:8080/"
        },
        "outputId": "10aa5396-3afa-4d01-b687-0970bcab303f"
      },
      "source": [
        "!pip install wikipedia"
      ],
      "execution_count": 39,
      "outputs": [
        {
          "output_type": "stream",
          "text": [
            "Requirement already satisfied: wikipedia in /usr/local/lib/python3.7/dist-packages (1.4.0)\n",
            "Requirement already satisfied: beautifulsoup4 in /usr/local/lib/python3.7/dist-packages (from wikipedia) (4.6.3)\n",
            "Requirement already satisfied: requests<3.0.0,>=2.0.0 in /usr/local/lib/python3.7/dist-packages (from wikipedia) (2.23.0)\n",
            "Requirement already satisfied: certifi>=2017.4.17 in /usr/local/lib/python3.7/dist-packages (from requests<3.0.0,>=2.0.0->wikipedia) (2020.12.5)\n",
            "Requirement already satisfied: chardet<4,>=3.0.2 in /usr/local/lib/python3.7/dist-packages (from requests<3.0.0,>=2.0.0->wikipedia) (3.0.4)\n",
            "Requirement already satisfied: urllib3!=1.25.0,!=1.25.1,<1.26,>=1.21.1 in /usr/local/lib/python3.7/dist-packages (from requests<3.0.0,>=2.0.0->wikipedia) (1.24.3)\n",
            "Requirement already satisfied: idna<3,>=2.5 in /usr/local/lib/python3.7/dist-packages (from requests<3.0.0,>=2.0.0->wikipedia) (2.10)\n"
          ],
          "name": "stdout"
        }
      ]
    },
    {
      "cell_type": "code",
      "metadata": {
        "colab": {
          "base_uri": "https://localhost:8080/"
        },
        "id": "FMNGs-jZ_9gV",
        "outputId": "6f545281-b86f-47db-9e0b-610bf3ddba30"
      },
      "source": [
        "import wikipedia\n",
        "\n",
        "wikipedia.search(\"Computer Science\")"
      ],
      "execution_count": 40,
      "outputs": [
        {
          "output_type": "execute_result",
          "data": {
            "text/plain": [
              "['Computer science',\n",
              " 'Abstraction (computer science)',\n",
              " 'Computer science and engineering',\n",
              " 'Glossary of computer science',\n",
              " 'Heuristic (computer science)',\n",
              " 'Computer graphics (computer science)',\n",
              " 'Record (computer science)',\n",
              " 'Theoretical computer science',\n",
              " 'Recursion (computer science)',\n",
              " 'History of computer science']"
            ]
          },
          "metadata": {
            "tags": []
          },
          "execution_count": 40
        }
      ]
    },
    {
      "cell_type": "code",
      "metadata": {
        "id": "4FvSCtBb_9gZ"
      },
      "source": [
        "wiki_page = wikipedia.page('Computer science')"
      ],
      "execution_count": 41,
      "outputs": []
    },
    {
      "cell_type": "code",
      "metadata": {
        "colab": {
          "base_uri": "https://localhost:8080/",
          "height": 35
        },
        "id": "VHnd2tLQ_9gf",
        "outputId": "c5a2d08b-52af-4216-ffd0-fee700fa89a1"
      },
      "source": [
        "wiki_page.title"
      ],
      "execution_count": 42,
      "outputs": [
        {
          "output_type": "execute_result",
          "data": {
            "application/vnd.google.colaboratory.intrinsic+json": {
              "type": "string"
            },
            "text/plain": [
              "'Computer science'"
            ]
          },
          "metadata": {
            "tags": []
          },
          "execution_count": 42
        }
      ]
    },
    {
      "cell_type": "code",
      "metadata": {
        "id": "X7VxK_R8_9gk"
      },
      "source": [
        "docx_wiki = wiki_page.content"
      ],
      "execution_count": 43,
      "outputs": []
    },
    {
      "cell_type": "code",
      "metadata": {
        "collapsed": true,
        "id": "jDn27Vwc_9gn",
        "jupyter": {
          "outputs_hidden": true
        },
        "colab": {
          "base_uri": "https://localhost:8080/"
        },
        "outputId": "5c261888-88bc-4106-a0c3-e8a51422ef16"
      },
      "source": [
        "print(docx_wiki)"
      ],
      "execution_count": 44,
      "outputs": [
        {
          "output_type": "stream",
          "text": [
            "Computer science is the study of algorithmic processes, computational machines and computation itself. As a discipline, computer science spans a range of topics from theoretical studies of algorithms, computation and information to the practical issues of implementing computational systems in hardware and software.Its fields can be divided into theoretical and practical disciplines. For example, the theory of computation concerns abstract models of computation and general classes of problems that can be solved using them, while computer graphics or computational geometry emphasize more specific applications. Algorithms and data structures have been called the heart of computer science. Programming language theory considers approaches to the description of computational processes, while computer programming involves the use of them to create complex systems. Computer architecture describes construction of computer components and computer-operated equipment. Artificial intelligence aims to synthesize goal-orientated processes such as problem-solving, decision-making, environmental adaptation, planning and learning found in humans and animals. A digital computer is capable of simulating various information processes. The fundamental concern of computer science is determining what can and cannot be automated. Computer scientists usually focus on academic research. The Turing Award is generally recognized as the highest distinction in computer sciences.\n",
            "\n",
            "\n",
            "== History ==\n",
            "\n",
            "The earliest foundations of what would become computer science predate the invention of the modern digital computer. Machines for calculating fixed numerical tasks such as the abacus have existed since antiquity, aiding in computations such as multiplication and division. Algorithms for performing computations have existed since antiquity, even before the development of sophisticated computing equipment. \n",
            "Wilhelm Schickard designed and constructed the first working mechanical calculator in 1623. In 1673, Gottfried Leibniz demonstrated a digital mechanical calculator, called the Stepped Reckoner. Leibniz may be considered the first computer scientist and information theorist, for, among other reasons, documenting the binary number system. In 1820, Thomas de Colmar launched the mechanical calculator industry when he invented his simplified arithmometer, the first calculating machine strong enough and reliable enough to be used daily in an office environment. Charles Babbage started the design of the first automatic mechanical calculator, his Difference Engine, in 1822, which eventually gave him the idea of the first programmable mechanical calculator, his Analytical Engine. He started developing this machine in 1834, and \"in less than two years, he had sketched out many of the salient features of the modern computer\". \"A crucial step was the adoption of a punched card system derived from the Jacquard loom\" making it infinitely programmable. In 1843, during the translation of a French article on the Analytical Engine, Ada Lovelace wrote, in one of the many notes she included, an algorithm to compute the Bernoulli numbers, which is considered to be the first published algorithm ever specifically tailored for implementation on a computer. Around 1885, Herman Hollerith invented the tabulator, which used punched cards to process statistical information; eventually his company became part of IBM. Following Babbage, although unaware of his earlier work, Percy Ludgate in 1909 published  the 2nd of the only two designs for mechanical analytical engines in history. In 1937, one hundred years after Babbage's impossible dream, Howard Aiken convinced IBM, which was making all kinds of punched card equipment and was also in the calculator business to develop his giant programmable calculator, the ASCC/Harvard Mark I, based on Babbage's Analytical Engine, which itself used cards and a central computing unit. When the machine was finished, some hailed it as \"Babbage's dream come true\".\n",
            "During the 1940s, with the development of new and more powerful computing machines such as the Atanasoff–Berry computer and ENIAC, the term computer came to refer to the machines rather than their human predecessors. As it became clear that computers could be used for more than just mathematical calculations, the field of computer science broadened to study computation in general. In 1945, IBM founded the Watson Scientific Computing Laboratory at Columbia University in New York City. The renovated fraternity house on Manhattan's West Side was IBM's first laboratory devoted to pure science. The lab is the forerunner of IBM's Research Division, which today operates research facilities around the world. Ultimately, the close relationship between IBM and the university was instrumental in the emergence of a new scientific discipline, with Columbia offering one of the first academic-credit courses in computer science in 1946. Computer science began to be established as a distinct academic discipline in the 1950s and early 1960s. The world's first computer science degree program, the Cambridge Diploma in Computer Science, began at the University of Cambridge Computer Laboratory in 1953. The first computer science department in the United States was formed at Purdue University in 1962. Since practical computers became available, many applications of computing have become distinct areas of study in their own rights.\n",
            "\n",
            "\n",
            "== Etymology ==\n",
            "\n",
            "Although first proposed in 1956, the term \"computer science\" appears in a 1959 article in Communications of the ACM,\n",
            "in which Louis Fein argues for the creation of a Graduate School in Computer Sciences analogous to the creation of Harvard Business School in 1921, justifying the name by arguing that, like management science, the subject is applied and interdisciplinary in nature, while having the characteristics typical of an academic discipline.\n",
            "His efforts, and those of others such as numerical analyst George Forsythe, were rewarded: universities went on to create such departments, starting with Purdue in 1962. Despite its name, a significant amount of computer science does not involve the study of computers themselves. Because of this, several alternative names have been proposed. Certain departments of major universities prefer the term computing science, to emphasize precisely that difference. Danish scientist Peter Naur suggested the term datalogy, to reflect the fact that the scientific discipline revolves around data and data treatment, while not necessarily involving computers. The first scientific institution to use the term was the Department of Datalogy at the University of Copenhagen, founded in 1969, with Peter Naur being the first professor in datalogy. The term is used mainly in the Scandinavian countries. An alternative term, also proposed by Naur, is data science; this is now used for a multi-disciplinary field of data analysis, including statistics and databases.\n",
            "In the early days of computing, a number of terms for the practitioners of the field of computing were suggested in the Communications of the ACM—turingineer, turologist, flow-charts-man, applied meta-mathematician, and applied epistemologist. Three months later in the same journal, comptologist was suggested, followed next year by hypologist. The term computics has also been suggested. In Europe, terms derived from contracted translations of the expression \"automatic information\" (e.g. \"informazione automatica\" in Italian) or \"information and mathematics\" are often used, e.g. informatique (French), Informatik (German), informatica (Italian, Dutch), informática (Spanish, Portuguese), informatika (Slavic languages and Hungarian) or pliroforiki (πληροφορική, which means informatics) in Greek. Similar words have also been adopted in the UK (as in the School of Informatics of the University of Edinburgh).  \"In the U.S., however, informatics is linked with applied computing, or computing in the context of another domain.\"A folkloric quotation, often attributed to—but almost certainly not first formulated by—Edsger Dijkstra, states that \"computer science is no more about computers than astronomy is about telescopes.\" The design and deployment of computers and computer systems is generally considered the province of disciplines other than computer science. For example, the study of computer hardware is usually considered part of computer engineering, while the study of commercial computer systems and their deployment is often called information technology or information systems. However, there has been much cross-fertilization of ideas between the various computer-related disciplines. Computer science research also often intersects other disciplines, such as philosophy, cognitive science, linguistics, mathematics, physics, biology, Earth science, statistics, and logic.\n",
            "Computer science is considered by some to have a much closer relationship with mathematics than many scientific disciplines, with some observers saying that computing is a mathematical science. Early computer science was strongly influenced by the work of mathematicians such as Kurt Gödel, Alan Turing, John von Neumann, Rózsa Péter and Alonzo Church and there continues to be a useful interchange of ideas between the two fields in areas such as mathematical logic, category theory, domain theory, and algebra.The relationship between Computer Science and Software Engineering is a contentious issue, which is further muddied by disputes over what the term \"Software Engineering\" means, and how computer science is defined. David Parnas, taking a cue from the relationship between other engineering and science disciplines, has claimed that the principal focus of computer science is studying the properties of computation in general, while the principal focus of software engineering is the design of specific computations to achieve practical goals, making the two separate but complementary disciplines.The academic, political, and funding aspects of computer science tend to depend on whether a department is formed with a mathematical emphasis or with an engineering emphasis. Computer science departments with a mathematics emphasis and with a numerical orientation consider alignment with computational science. Both types of departments tend to make efforts to bridge the field educationally if not across all research.\n",
            "\n",
            "\n",
            "== Philosophy ==\n",
            "\n",
            "A number of computer scientists have argued for the distinction of three separate paradigms in computer science. Peter Wegner argued that those paradigms are science, technology, and mathematics. Peter Denning's working group argued that they are theory, abstraction (modeling), and design. Amnon H. Eden described them as the \"rationalist paradigm\" (which treats computer science as a branch of mathematics, which is prevalent in theoretical computer science, and mainly employs deductive reasoning), the \"technocratic paradigm\" (which might be found in engineering approaches, most prominently in software engineering), and the \"scientific paradigm\" (which approaches computer-related artifacts from the empirical perspective of natural sciences, identifiable in some branches of artificial intelligence).\n",
            "Computer science focuses on methods involved in design, specification, programming, verification, implementation and testing of human-made computing systems.\n",
            "\n",
            "\n",
            "== Fields ==\n",
            "Computer science is no more about computers than astronomy is about telescopes.\n",
            "\n",
            "As a discipline, computer science spans a range of topics from theoretical studies of algorithms and the limits of computation to the practical issues of implementing computing systems in hardware and software.CSAB, formerly called Computing Sciences Accreditation Board—which is made up of representatives of the Association for Computing Machinery (ACM), and the IEEE Computer Society (IEEE CS)—identifies four areas that it considers crucial to the discipline of computer science: theory of computation, algorithms and data structures, programming methodology and languages, and computer elements and architecture. In addition to these four areas, CSAB also identifies fields such as software engineering, artificial intelligence, computer networking and communication, database systems, parallel computation, distributed computation, human–computer interaction, computer graphics, operating systems, and numerical and symbolic computation as being important areas of computer science.\n",
            "\n",
            "\n",
            "=== Theoretical computer science ===\n",
            "\n",
            "Theoretical Computer Science is mathematical and abstract in spirit, but it derives its motivation from the practical and everyday computation. Its aim is to understand the nature of computation and, as a consequence of this understanding, provide more efficient methodologies.\n",
            "\n",
            "\n",
            "==== Theory of computation ====\n",
            "\n",
            "According to Peter Denning, the fundamental question underlying computer science is, \"What can be automated?\" Theory of computation is focused on answering fundamental questions about what can be computed and what amount of resources are required to perform those computations. In an effort to answer the first question, computability theory examines which computational problems are solvable on various theoretical models of computation. The second question is addressed by computational complexity theory, which studies the time and space costs associated with different approaches to solving a multitude of computational problems.\n",
            "The famous P = NP? problem, one of the Millennium Prize Problems, is an open problem in the theory of computation.\n",
            "\n",
            "\n",
            "==== Information and coding theory ====\n",
            "\n",
            "Information theory, closely related to probability and statistics, is related to the quantification of information. This was developed by Claude Shannon to find fundamental limits on signal processing operations such as compressing data and on reliably storing and communicating data.\n",
            "Coding theory is the study of the properties of codes (systems for converting information from one form to another) and their fitness for a specific application. Codes are used for data compression, cryptography, error detection and correction, and more recently also for network coding. Codes are studied for the purpose of designing efficient and reliable data transmission methods.\n",
            "\n",
            "\n",
            "==== Data structures and algorithms ====\n",
            "Data structures and algorithms are the studies of commonly used computational methods and their computational efficiency.\n",
            "\n",
            "\n",
            "==== Programming language theory and formal methods ====\n",
            "\n",
            "Programming language theory is a branch of computer science that deals with the design, implementation, analysis, characterization, and classification of programming languages and their individual features. It falls within the discipline of computer science, both depending on and affecting mathematics, software engineering, and linguistics. It is an active research area, with numerous dedicated academic journals.\n",
            "Formal methods are a particular kind of mathematically based technique for the specification, development and verification of software and hardware systems. The use of formal methods for software and hardware design is motivated by the expectation that, as in other engineering disciplines, performing appropriate mathematical analysis can contribute to the reliability and robustness of a design. They form an important theoretical underpinning for software engineering, especially where safety or security is involved. Formal methods are a useful adjunct to software testing since they help avoid errors and can also give a framework for testing. For industrial use, tool support is required. However, the high cost of using formal methods means that they are usually only used in the development of high-integrity and life-critical systems, where safety or security is of utmost importance. Formal methods are best described as the application of a fairly broad variety of theoretical computer science fundamentals, in particular logic calculi, formal languages, automata theory, and program semantics, but also type systems and algebraic data types to problems in software and hardware specification and verification.\n",
            "\n",
            "\n",
            "=== Computer systems and computational processes ===\n",
            "\n",
            "\n",
            "==== Artificial intelligence ====\n",
            "\n",
            "Artificial intelligence (AI) aims to or is required to synthesize goal-orientated processes such as problem-solving, decision-making, environmental adaptation, learning, and communication found in humans and animals. From its origins in cybernetics and in the Dartmouth Conference (1956), artificial intelligence research has been necessarily cross-disciplinary, drawing on areas of expertise such as applied mathematics, symbolic logic, semiotics, electrical engineering, philosophy of mind, neurophysiology, and social intelligence. AI is associated in the popular mind with robotic development, but the main field of practical application has been as an embedded component in areas of software development, which require computational understanding. The starting point in the late 1940s was Alan Turing's question \"Can computers think?\", and the question remains effectively unanswered, although the Turing test is still used to assess computer output on the scale of human intelligence. But the automation of evaluative and predictive tasks has been increasingly successful as a substitute for human monitoring and intervention in domains of computer application involving complex real-world data.\n",
            "\n",
            "\n",
            "==== Computer architecture and organization ====\n",
            "\n",
            "Computer architecture, or digital computer organization, is the conceptual design and fundamental operational structure of a computer system. It focuses largely on the way by which the central processing unit performs internally and accesses addresses in memory. Computer engineers study computational logic and design of computer hardware, from individual processor components, microcontrollers, personal computers to supercomputers and embedded systems. The term “architecture” in computer literature can be traced to the work of Lyle R. Johnson and Frederick P. Brooks, Jr., members of the Machine Organization department in IBM's main research center in 1959.\n",
            "\n",
            "\n",
            "==== Concurrent, parallel and distributed computing ====\n",
            "\n",
            "Concurrency is a property of systems in which several computations are executing simultaneously, and potentially interacting with each other. A number of mathematical models have been developed for general concurrent computation including Petri nets, process calculi and the Parallel Random Access Machine model. When multiple computers are connected in a network while using concurrency, this is known as a distributed system. Computers within that distributed system have their own private memory, and information can be exchanged to achieve common goals.\n",
            "\n",
            "\n",
            "==== Computer networks ====\n",
            "\n",
            "This branch of computer science aims to manage networks between computers worldwide.\n",
            "\n",
            "\n",
            "==== Computer security and cryptography ====\n",
            "\n",
            "Computer security is a branch of computer technology with the objective of protecting information from unauthorized access, disruption, or modification while maintaining the accessibility and usability of the system for its intended users. Cryptography is the practice and study of hiding (encryption) and therefore deciphering (decryption) information. Modern cryptography is largely related to computer science, for many encryption and decryption algorithms are based on their computational complexity.\n",
            "\n",
            "\n",
            "==== Databases and data mining ====\n",
            "\n",
            "A database is intended to organize, store, and retrieve large amounts of data easily. Digital databases are managed using database management systems to store, create, maintain, and search data, through database models and query languages. Data mining is a process of discovering patterns in large data sets.\n",
            "\n",
            "\n",
            "==== Computer graphics and visualization ====\n",
            "\n",
            "Computer graphics is the study of digital visual contents and involves the synthesis and manipulation of image data. The study is connected to many other fields in computer science, including computer vision, image processing, and computational geometry, and is heavily applied in the fields of special effects and video games.\n",
            "\n",
            "\n",
            "==== Image and sound processing ====\n",
            "\n",
            "Information can take the form of images, sound, video or other multimedia. Bits of information can be streamed via signals. Its processing is the central notion of informatics, the European view on computing, which studies information processing algorithms independently of the type of information carrier - whether it is electrical, mechanical or biological. This field plays important role in information theory, telecommunications, information engineering and has applications in medical image computing and speech synthesis, among others. What is the lower bound on the complexity of fast Fourier transform algorithms? is one of unsolved problems in theoretical computer science.\n",
            "\n",
            "\n",
            "=== Applied computer science ===\n",
            "\n",
            "\n",
            "==== Computational science, finance and engineering ====\n",
            "\n",
            "Scientific computing (or computational science) is the field of study concerned with constructing mathematical models and quantitative analysis techniques and using computers to analyze and solve scientific problems. A major usage of scientific computing is simulation of various processes, including computational fluid dynamics, physical, electrical, and electronic systems and circuits, as well as societies and social situations (notably war games) along with their habitats, among many others. Modern computers enable optimization of such designs as complete aircraft. Notable in electrical and electronic circuit design are SPICE, as well as software for physical realization of new (or modified) designs. The latter includes essential design software for integrated circuits.\n",
            "\n",
            "\n",
            "==== Social computing and human-computer interaction ====\n",
            "\n",
            "Social computing is an area that is concerned with the intersection of social behavior and computational systems. Human-computer interaction research develops theories, principles, and guidelines for user interface designers.\n",
            "\n",
            "\n",
            "==== Software engineering ====\n",
            "\n",
            "Software engineering is the study of designing, implementing, and modifying the software in order to ensure it is of high quality, affordable, maintainable, and fast to build. It is a systematic approach to software design, involving the application of engineering practices to software. Software engineering deals with the organizing and analyzing of software—it doesn't just deal with the creation or manufacture of new software, but its internal arrangement and maintenance. For example software testing, systems engineering, technical debt and software development processes. \n",
            "\n",
            "\n",
            "== Discoveries ==\n",
            "The philosopher of computing Bill Rapaport noted three Great Insights of Computer Science:\n",
            "Gottfried Wilhelm Leibniz's, George Boole's, Alan Turing's, Claude Shannon's, and Samuel Morse's insight: there are only two objects that a computer has to deal with in order to represent \"anything\".All the information about any computable problem can be represented using only 0 and 1 (or any other bistable pair that can flip-flop between two easily distinguishable states, such as \"on/off\", \"magnetized/de-magnetized\", \"high-voltage/low-voltage\", etc.).\n",
            "Alan Turing's insight: there are only five actions that a computer has to perform in order to do \"anything\".Every algorithm can be expressed in a language for a computer consisting of only five basic instructions:move left one location;\n",
            "move right one location;\n",
            "read symbol at current location;\n",
            "print 0 at current location;\n",
            "print 1 at current location.\n",
            "Corrado Böhm and Giuseppe Jacopini's insight: there are only three ways of combining these actions (into more complex ones) that are needed in order for a computer to do \"anything\".Only three rules are needed to combine any set of basic instructions into more complex ones:\n",
            "sequence: first do this, then do that;\n",
            " selection: IF such-and-such is the case, THEN do this, ELSE do that;\n",
            "repetition: WHILE such-and-such is the case, DO this.\n",
            "Note that the three rules of Boehm's and Jacopini's insight can be further simplified with the use of goto (which means it is more elementary than structured programming).\n",
            "\n",
            "\n",
            "== Programming paradigms ==\n",
            "\n",
            "Programming languages can be used to accomplish different tasks in different ways. Common programming paradigms include:\n",
            "\n",
            "Functional programming, a style of building the structure and elements of computer programs that treats computation as the evaluation of mathematical functions and avoids state and mutable data. It is a declarative programming paradigm, which means programming is done with expressions or declarations instead of statements.\n",
            "Imperative programming, a programming paradigm that uses statements that change a program's state. In much the same way that the imperative mood in natural languages expresses commands, an imperative program consists of commands for the computer to perform. Imperative programming focuses on describing how a program operates.\n",
            "Object-oriented programming, a programming paradigm based on the concept of \"objects\", which may contain data, in the form of fields, often known as attributes; and code, in the form of procedures, often known as methods. A feature of objects is that an object's procedures can access and often modify the data fields of the object with which they are associated. Thus object-oriented computer programs are made out of objects that interact with one another.\n",
            "Service-oriented programming, a programming paradigm that uses \"services\" as the unit of computer work, to design and implement integrated business applications and mission critical software programsMany languages offer support for multiple paradigms, making the distinction more a matter of style than of technical capabilities.\n",
            "\n",
            "\n",
            "== Academia ==\n",
            "\n",
            "Conferences are important events for computer science research. During these conferences, researchers from the public and private sectors present their recent work and meet. Unlike in most other academic fields, in computer science, the prestige of conference papers is greater than that of journal publications. One proposed explanation for this is the quick development of this relatively new field requires rapid review and distribution of results, a task better handled by conferences than by journals.\n",
            "\n",
            "\n",
            "== Education ==\n",
            "\n",
            "Computer Science, known by its near synonyms, Computing, Computer Studies, has been taught in UK schools since the days of batch processing, mark sensitive cards and paper tape but usually to a select few students. In 1981, the BBC produced a micro-computer and classroom network and Computer Studies became common for GCE O level students (11–16-year-old), and Computer Science to A level students. Its importance was recognised, and it became a compulsory part of the National Curriculum, for Key Stage 3 & 4. In September 2014 it became an entitlement for all pupils over the age of 4.In the US, with 14,000 school districts deciding the curriculum, provision was fractured. According to a 2010 report by the Association for Computing Machinery (ACM) and Computer Science Teachers Association (CSTA), only 14 out of 50 states have adopted significant education standards for high school computer science.Israel, New Zealand, and South Korea have included computer science in their national secondary education curricula, and several others are following.\n",
            "\n",
            "\n",
            "== See also ==\n",
            "\n",
            "\n",
            "== Notes ==\n",
            "\n",
            "\n",
            "== References ==\n",
            "\n",
            "\n",
            "== Further reading ==\n",
            "\n",
            "\n",
            "== External links ==\n",
            "\n",
            "Computer science at Curlie\n",
            "Scholarly Societies in Computer Science\n",
            "What is Computer Science?\n",
            "Best Papers Awards in Computer Science since 1996\n",
            "Photographs of computer scientists by Bertrand Meyer\n",
            "EECS.berkeley.edu\n",
            "\n",
            "\n",
            "=== Bibliography and academic search engines ===\n",
            "CiteSeerx (article): search engine, digital library and repository for scientific and academic papers with a focus on computer and information science.\n",
            "DBLP Computer Science Bibliography (article): computer science bibliography website hosted at Universität Trier, in Germany.\n",
            "The Collection of Computer Science Bibliographies (Collection of Computer Science Bibliographies)\n",
            "\n",
            "\n",
            "=== Professional organizations ===\n",
            "Association for Computing Machinery\n",
            "IEEE Computer Society\n",
            "Informatics Europe\n",
            "AAAI\n",
            "AAAS Computer Science\n",
            "\n",
            "\n",
            "=== Misc ===\n",
            "Computer Science—Stack Exchange: a community-run question-and-answer site for computer science\n",
            "What is computer science\n",
            "Is computer science science?\n",
            "Computer Science (Software) Must be Considered as an Independent Discipline.\n"
          ],
          "name": "stdout"
        }
      ]
    },
    {
      "cell_type": "code",
      "metadata": {
        "id": "p7c3TFCQ_9gr"
      },
      "source": [
        "# Let's pick just a part of the content\n",
        "new_text = docx_wiki[0:1472]"
      ],
      "execution_count": 45,
      "outputs": []
    },
    {
      "cell_type": "code",
      "metadata": {
        "colab": {
          "base_uri": "https://localhost:8080/"
        },
        "id": "hvUKUwmV_9hE",
        "outputId": "7c490f1b-f833-4a03-cb03-f8eb219a88dc"
      },
      "source": [
        "print(new_text)"
      ],
      "execution_count": 46,
      "outputs": [
        {
          "output_type": "stream",
          "text": [
            "Computer science is the study of algorithmic processes, computational machines and computation itself. As a discipline, computer science spans a range of topics from theoretical studies of algorithms, computation and information to the practical issues of implementing computational systems in hardware and software.Its fields can be divided into theoretical and practical disciplines. For example, the theory of computation concerns abstract models of computation and general classes of problems that can be solved using them, while computer graphics or computational geometry emphasize more specific applications. Algorithms and data structures have been called the heart of computer science. Programming language theory considers approaches to the description of computational processes, while computer programming involves the use of them to create complex systems. Computer architecture describes construction of computer components and computer-operated equipment. Artificial intelligence aims to synthesize goal-orientated processes such as problem-solving, decision-making, environmental adaptation, planning and learning found in humans and animals. A digital computer is capable of simulating various information processes. The fundamental concern of computer science is determining what can and cannot be automated. Computer scientists usually focus on academic research. The Turing Award is generally recognized as the highest distinction in computer sciences.\n"
          ],
          "name": "stdout"
        }
      ]
    },
    {
      "cell_type": "markdown",
      "metadata": {
        "id": "D_8JaU9R_9hK"
      },
      "source": [
        "### 2.2) Using Transformers for Summarization"
      ]
    },
    {
      "cell_type": "code",
      "metadata": {
        "id": "qbEYEL2J_9hL"
      },
      "source": [
        "# import transformers pipeline\n",
        "from transformers import pipeline"
      ],
      "execution_count": 47,
      "outputs": []
    },
    {
      "cell_type": "code",
      "metadata": {
        "id": "VAV5Jmld_9hP"
      },
      "source": [
        "# Create our Summarizer (this will download the prebuild model for summarization)\n",
        "my_summarizer = pipeline(\"summarization\")"
      ],
      "execution_count": 48,
      "outputs": []
    },
    {
      "cell_type": "code",
      "metadata": {
        "colab": {
          "base_uri": "https://localhost:8080/"
        },
        "id": "RvkBxaBZ_9hX",
        "outputId": "80da03da-c17c-40f7-fb03-e71a0f77aa1f"
      },
      "source": [
        "# Make the summarization\n",
        "print(my_summarizer(new_text))"
      ],
      "execution_count": 49,
      "outputs": [
        {
          "output_type": "stream",
          "text": [
            "[{'summary_text': ' As a discipline, computer science spans a range of topics from theoretical studies of algorithms, computation and information to the practical issues of implementing computational systems in hardware and software . Algorithms and data structures have been called the heart of computer science . The Turing Award is generally recognized as the highest distinction in computer sciences .'}]\n"
          ],
          "name": "stdout"
        }
      ]
    },
    {
      "cell_type": "code",
      "metadata": {
        "id": "X96OVbNlDDiE"
      },
      "source": [
        "# Save the summary in a variable\n",
        "my_summary = my_summarizer(new_text)"
      ],
      "execution_count": 50,
      "outputs": []
    },
    {
      "cell_type": "code",
      "metadata": {
        "colab": {
          "base_uri": "https://localhost:8080/"
        },
        "id": "4ICGxI0WDfMj",
        "outputId": "4918c706-e170-42e4-be1f-d452c7d318f9"
      },
      "source": [
        "type(my_summary)"
      ],
      "execution_count": 51,
      "outputs": [
        {
          "output_type": "execute_result",
          "data": {
            "text/plain": [
              "list"
            ]
          },
          "metadata": {
            "tags": []
          },
          "execution_count": 51
        }
      ]
    },
    {
      "cell_type": "code",
      "metadata": {
        "id": "EzNUz5N1EGa3"
      },
      "source": [
        "my_summary_text = my_summary[0]['summary_text']"
      ],
      "execution_count": 52,
      "outputs": []
    },
    {
      "cell_type": "code",
      "metadata": {
        "colab": {
          "base_uri": "https://localhost:8080/"
        },
        "id": "9s8eazQ6EIuv",
        "outputId": "6fc0ad52-89f7-4d90-afea-653c89137b6b"
      },
      "source": [
        "print(my_summary_text)"
      ],
      "execution_count": 53,
      "outputs": [
        {
          "output_type": "stream",
          "text": [
            " As a discipline, computer science spans a range of topics from theoretical studies of algorithms, computation and information to the practical issues of implementing computational systems in hardware and software . Algorithms and data structures have been called the heart of computer science . The Turing Award is generally recognized as the highest distinction in computer sciences .\n"
          ],
          "name": "stdout"
        }
      ]
    },
    {
      "cell_type": "code",
      "metadata": {
        "colab": {
          "base_uri": "https://localhost:8080/"
        },
        "id": "tDfqvQYNEXy3",
        "outputId": "3f943568-e740-422a-b422-c1ba0f5b6ae5"
      },
      "source": [
        "# Length of documents\n",
        "print(\"Original Doc Len:\",len(new_text))\n",
        "print((\"Summary Length:\", len(my_summary_text)))"
      ],
      "execution_count": 54,
      "outputs": [
        {
          "output_type": "stream",
          "text": [
            "Original Doc Len: 1472\n",
            "('Summary Length:', 386)\n"
          ],
          "name": "stdout"
        }
      ]
    },
    {
      "cell_type": "code",
      "metadata": {
        "colab": {
          "base_uri": "https://localhost:8080/"
        },
        "id": "gkcZdDNmGLaL",
        "outputId": "1486b35a-1579-4775-ef7e-4a5e97da3971"
      },
      "source": [
        "# Hugging Face Transformers\n",
        "print(my_summary_text)"
      ],
      "execution_count": 55,
      "outputs": [
        {
          "output_type": "stream",
          "text": [
            " As a discipline, computer science spans a range of topics from theoretical studies of algorithms, computation and information to the practical issues of implementing computational systems in hardware and software . Algorithms and data structures have been called the heart of computer science . The Turing Award is generally recognized as the highest distinction in computer sciences .\n"
          ],
          "name": "stdout"
        }
      ]
    },
    {
      "cell_type": "code",
      "metadata": {
        "id": "zwcyT9Af0BRD"
      },
      "source": [
        ""
      ],
      "execution_count": null,
      "outputs": []
    }
  ]
}